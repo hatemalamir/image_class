{
  "nbformat": 4,
  "nbformat_minor": 0,
  "metadata": {
    "colab": {
      "name": "ML_Project03.ipynb",
      "provenance": [],
<<<<<<< HEAD
      "toc_visible": true
=======
      "collapsed_sections": []
>>>>>>> ce4d0f0115cf14962eeef68ac97f64f034339110
    },
    "kernelspec": {
      "name": "python3",
      "display_name": "Python 3"
    },
    "accelerator": "GPU"
  },
  "cells": [
    {
      "cell_type": "markdown",
      "metadata": {
        "id": "QDajXkzyIcPL",
        "colab_type": "text"
      },
      "source": [
        "# Installation and Imports"
      ]
    },
    {
      "cell_type": "code",
      "metadata": {
        "id": "mWLYJskKHXJx",
        "colab_type": "code",
        "colab": {
          "base_uri": "https://localhost:8080/",
          "height": 353
        },
<<<<<<< HEAD
        "outputId": "10ef105c-4e70-4ddd-8aee-e0be64837654"
=======
        "outputId": "e4d3b9e0-d0c6-46d6-ba29-4b5ccdc2d9e3"
>>>>>>> ce4d0f0115cf14962eeef68ac97f64f034339110
      },
      "source": [
        "# Check the GPU\n",
        "!nvidia-smi"
      ],
<<<<<<< HEAD
      "execution_count": 83,
=======
      "execution_count": 9,
>>>>>>> ce4d0f0115cf14962eeef68ac97f64f034339110
      "outputs": [
        {
          "output_type": "stream",
          "text": [
<<<<<<< HEAD
            "Wed Jul 15 22:56:57 2020       \n",
=======
            "Thu Jul 16 03:06:13 2020       \n",
>>>>>>> ce4d0f0115cf14962eeef68ac97f64f034339110
            "+-----------------------------------------------------------------------------+\n",
            "| NVIDIA-SMI 450.51.05    Driver Version: 418.67       CUDA Version: 10.1     |\n",
            "|-------------------------------+----------------------+----------------------+\n",
            "| GPU  Name        Persistence-M| Bus-Id        Disp.A | Volatile Uncorr. ECC |\n",
            "| Fan  Temp  Perf  Pwr:Usage/Cap|         Memory-Usage | GPU-Util  Compute M. |\n",
            "|                               |                      |               MIG M. |\n",
            "|===============================+======================+======================|\n",
<<<<<<< HEAD
            "|   0  Tesla K80           Off  | 00000000:00:04.0 Off |                    0 |\n",
            "| N/A   57C    P0    60W / 149W |   8423MiB / 11441MiB |      0%      Default |\n",
=======
            "|   0  Tesla T4            Off  | 00000000:00:04.0 Off |                    0 |\n",
            "| N/A   45C    P0    27W /  70W |    347MiB / 15079MiB |      0%      Default |\n",
>>>>>>> ce4d0f0115cf14962eeef68ac97f64f034339110
            "|                               |                      |                 ERR! |\n",
            "+-------------------------------+----------------------+----------------------+\n",
            "                                                                               \n",
            "+-----------------------------------------------------------------------------+\n",
            "| Processes:                                                                  |\n",
            "|  GPU   GI   CI        PID   Type   Process name                  GPU Memory |\n",
            "|        ID   ID                                                   Usage      |\n",
            "|=============================================================================|\n",
            "|  No running processes found                                                 |\n",
            "+-----------------------------------------------------------------------------+\n"
          ],
          "name": "stdout"
        }
      ]
    },
    {
      "cell_type": "code",
      "metadata": {
        "id": "01bt5ylnIicO",
        "colab_type": "code",
        "colab": {}
      },
      "source": [
        "import warnings\n",
        "warnings.simplefilter(\"ignore\", UserWarning)\n",
<<<<<<< HEAD
        "# warnings.filterwarnings('ignore')\n",
=======
>>>>>>> ce4d0f0115cf14962eeef68ac97f64f034339110
        "\n",
        "import os.path\n",
        "\n",
        "from keras import Model, optimizers\n",
        "from keras.applications import xception\n",
        "from keras.layers import GlobalAveragePooling2D, Dense\n",
<<<<<<< HEAD
        "from keras.preprocessing.image import ImageDataGenerator\n",
=======
        "from keras.preprocessing.image import ImageDataGenerator, load_img, img_to_array\n",
>>>>>>> ce4d0f0115cf14962eeef68ac97f64f034339110
        "\n",
        "from IPython.display import SVG\n",
        "from keras.utils.vis_utils import model_to_dot\n",
        "\n",
        "from matplotlib.ticker import MaxNLocator\n",
        "import matplotlib.pyplot as plt\n",
<<<<<<< HEAD
        "%matplotlib inline"
      ],
      "execution_count": 84,
=======
        "%matplotlib inline\n",
        "\n",
        "from pathlib import Path\n",
        "from keras.models import load_model\n",
        "import pandas as pd\n",
        "import sys\n",
        "import numpy as np"
      ],
      "execution_count": 44,
>>>>>>> ce4d0f0115cf14962eeef68ac97f64f034339110
      "outputs": []
    },
    {
      "cell_type": "markdown",
      "metadata": {
        "id": "F03y-9CGXLrR",
        "colab_type": "text"
      },
      "source": [
        "# Dataset"
      ]
    },
    {
      "cell_type": "markdown",
      "metadata": {
        "id": "cA7BMoPXXOUy",
        "colab_type": "text"
      },
      "source": [
        "## Configuration Parameters"
      ]
    },
    {
      "cell_type": "code",
      "metadata": {
        "id": "7Y10YHiBT6aU",
        "colab_type": "code",
        "colab": {}
      },
      "source": [
        "img_width = 197\n",
        "img_height = 197\n",
        "\n",
        "batch_size = 128\n",
        "\n",
<<<<<<< HEAD
        "base_path = '/content/drive/My Drive/Colab_Notebooks/data/monkey/'\n",
        "\n",
        "train_path = base_path + 'training-data/training'\n",
        "validation_path = base_path + 'validation-data/validation'\n",
        "\n",
        "nb_classes = 10"
      ],
      "execution_count": 85,
=======
        "base_path = '/content/drive/My Drive/Colab_Notebooks/data/monkey/exports/'\n",
        "\n",
        "train_path = base_path + 'train'\n",
        "validation_path = base_path + 'valid'\n",
        "test_path = base_path + 'test'\n",
        "\n",
        "nb_classes = 10"
      ],
      "execution_count": 11,
>>>>>>> ce4d0f0115cf14962eeef68ac97f64f034339110
      "outputs": []
    },
    {
      "cell_type": "markdown",
      "metadata": {
        "id": "XWAJdP3zY3BF",
        "colab_type": "text"
      },
      "source": [
        "## Preparing the dataset"
      ]
    },
    {
      "cell_type": "code",
      "metadata": {
        "id": "7uGuJ6L0Yzcn",
        "colab_type": "code",
        "colab": {
          "base_uri": "https://localhost:8080/",
<<<<<<< HEAD
          "height": 50
        },
        "outputId": "fbd38faf-75f5-47c5-8ee5-1ece4127f80e"
=======
          "height": 67
        },
        "outputId": "5c6b9d9e-7bb2-4ab2-e613-5ff245ae14c8"
>>>>>>> ce4d0f0115cf14962eeef68ac97f64f034339110
      },
      "source": [
        "# Counts the number of training and testing samples in the directories\n",
        "training_samples = sum([len(files) for r, d, files in os.walk(train_path)])\n",
        "validation_samples = sum([len(files) for r, d, files in os.walk(validation_path)])\n",
<<<<<<< HEAD
        "\n",
        "print(\"Number of samples in Training dataset:\", training_samples)\n",
        "print(\"Number of samples in Validation dataset:\", validation_samples)"
      ],
      "execution_count": 86,
=======
        "test_samples = sum([len(files) for r, d, files in os.walk(test_path)])\n",
        "\n",
        "print(\"Number of samples in Training dataset:\", training_samples)\n",
        "print(\"Number of samples in Validation dataset:\", validation_samples)\n",
        "print(\"Number of samples in Test dataset:\", test_samples)"
      ],
      "execution_count": 12,
>>>>>>> ce4d0f0115cf14962eeef68ac97f64f034339110
      "outputs": [
        {
          "output_type": "stream",
          "text": [
<<<<<<< HEAD
            "Number of samples in Training dataset: 1098\n",
            "Number of samples in Validation dataset: 272\n"
=======
            "Number of samples in Training dataset: 827\n",
            "Number of samples in Validation dataset: 198\n",
            "Number of samples in Test dataset: 200\n"
>>>>>>> ce4d0f0115cf14962eeef68ac97f64f034339110
          ],
          "name": "stdout"
        }
      ]
    },
    {
      "cell_type": "markdown",
      "metadata": {
        "id": "4vEj_SYDZaCb",
        "colab_type": "text"
      },
      "source": [
        "## Data augmentation"
      ]
    },
    {
      "cell_type": "code",
      "metadata": {
        "id": "wOem7CRxZZXr",
        "colab_type": "code",
        "colab": {
          "base_uri": "https://localhost:8080/",
          "height": 50
        },
<<<<<<< HEAD
        "outputId": "c62e5410-2fa5-4453-8402-3d92b18b8bb6"
=======
        "outputId": "6887dc0b-f6ac-4a4d-b930-9d6646479c90"
>>>>>>> ce4d0f0115cf14962eeef68ac97f64f034339110
      },
      "source": [
        "train_datagen = ImageDataGenerator(\n",
        "    rotation_range = 30,\n",
        "    width_shift_range = 0.3,\n",
        "    height_shift_range = 0.2,\n",
        "    rescale = 1.0 / 255,\n",
        "    shear_range = 0.3,\n",
        "    zoom_range = 0.3,\n",
        "    horizontal_flip = True,\n",
        "    vertical_flip = False,\n",
        ")\n",
        "\n",
        "validation_datagen = ImageDataGenerator(rescale = 1.0 / 255)\n",
        "\n",
        "train_generator = train_datagen.flow_from_directory(\n",
        "    train_path,\n",
        "    target_size = (img_width, img_height),\n",
        "    batch_size = batch_size,\n",
        "    class_mode = 'categorical',\n",
        ")\n",
        "\n",
        "validation_generator = validation_datagen.flow_from_directory(\n",
        "    validation_path,\n",
        "    target_size = (img_width, img_height),\n",
        "    batch_size = batch_size,\n",
        "    class_mode = 'categorical',\n",
        ")"
      ],
<<<<<<< HEAD
      "execution_count": 87,
=======
      "execution_count": 13,
>>>>>>> ce4d0f0115cf14962eeef68ac97f64f034339110
      "outputs": [
        {
          "output_type": "stream",
          "text": [
<<<<<<< HEAD
            "Found 1098 images belonging to 10 classes.\n",
            "Found 272 images belonging to 10 classes.\n"
=======
            "Found 827 images belonging to 10 classes.\n",
            "Found 198 images belonging to 10 classes.\n"
>>>>>>> ce4d0f0115cf14962eeef68ac97f64f034339110
          ],
          "name": "stdout"
        }
      ]
    },
    {
      "cell_type": "markdown",
      "metadata": {
        "id": "2FHVPf8qbBP9",
        "colab_type": "text"
      },
      "source": [
        "# Model"
      ]
    },
    {
      "cell_type": "markdown",
      "metadata": {
        "id": "NzFwv_VccKNc",
        "colab_type": "text"
      },
      "source": [
        "## Importing the pre-trained model"
      ]
    },
    {
      "cell_type": "code",
      "metadata": {
        "id": "YAL9ZBvDcHsS",
        "colab_type": "code",
        "colab": {}
      },
      "source": [
        "# Import the Xception model to use as the base for our model\n",
        "xception_base = xception.Xception(\n",
        "    include_top = False,\n",
        "    weights = 'imagenet',\n",
        "    input_shape = (img_width, img_height, 3)\n",
        ")"
      ],
<<<<<<< HEAD
      "execution_count": 88,
=======
      "execution_count": 14,
>>>>>>> ce4d0f0115cf14962eeef68ac97f64f034339110
      "outputs": []
    },
    {
      "cell_type": "code",
      "metadata": {
        "id": "Mf0IMrwRlmfI",
        "colab_type": "code",
        "colab": {
          "base_uri": "https://localhost:8080/",
          "height": 1000
        },
<<<<<<< HEAD
        "outputId": "764e160e-0c06-49d9-940c-1d575323e35e"
=======
        "outputId": "cd848e38-20b5-49e7-f234-179d9e7eae78"
>>>>>>> ce4d0f0115cf14962eeef68ac97f64f034339110
      },
      "source": [
        "xception_base.summary()"
      ],
<<<<<<< HEAD
      "execution_count": 89,
=======
      "execution_count": 15,
>>>>>>> ce4d0f0115cf14962eeef68ac97f64f034339110
      "outputs": [
        {
          "output_type": "stream",
          "text": [
            "Model: \"xception\"\n",
            "__________________________________________________________________________________________________\n",
            "Layer (type)                    Output Shape         Param #     Connected to                     \n",
            "==================================================================================================\n",
<<<<<<< HEAD
            "input_3 (InputLayer)            (None, 197, 197, 3)  0                                            \n",
            "__________________________________________________________________________________________________\n",
            "block1_conv1 (Conv2D)           (None, 98, 98, 32)   864         input_3[0][0]                    \n",
=======
            "input_2 (InputLayer)            (None, 197, 197, 3)  0                                            \n",
            "__________________________________________________________________________________________________\n",
            "block1_conv1 (Conv2D)           (None, 98, 98, 32)   864         input_2[0][0]                    \n",
>>>>>>> ce4d0f0115cf14962eeef68ac97f64f034339110
            "__________________________________________________________________________________________________\n",
            "block1_conv1_bn (BatchNormaliza (None, 98, 98, 32)   128         block1_conv1[0][0]               \n",
            "__________________________________________________________________________________________________\n",
            "block1_conv1_act (Activation)   (None, 98, 98, 32)   0           block1_conv1_bn[0][0]            \n",
            "__________________________________________________________________________________________________\n",
            "block1_conv2 (Conv2D)           (None, 96, 96, 64)   18432       block1_conv1_act[0][0]           \n",
            "__________________________________________________________________________________________________\n",
            "block1_conv2_bn (BatchNormaliza (None, 96, 96, 64)   256         block1_conv2[0][0]               \n",
            "__________________________________________________________________________________________________\n",
            "block1_conv2_act (Activation)   (None, 96, 96, 64)   0           block1_conv2_bn[0][0]            \n",
            "__________________________________________________________________________________________________\n",
            "block2_sepconv1 (SeparableConv2 (None, 96, 96, 128)  8768        block1_conv2_act[0][0]           \n",
            "__________________________________________________________________________________________________\n",
            "block2_sepconv1_bn (BatchNormal (None, 96, 96, 128)  512         block2_sepconv1[0][0]            \n",
            "__________________________________________________________________________________________________\n",
            "block2_sepconv2_act (Activation (None, 96, 96, 128)  0           block2_sepconv1_bn[0][0]         \n",
            "__________________________________________________________________________________________________\n",
            "block2_sepconv2 (SeparableConv2 (None, 96, 96, 128)  17536       block2_sepconv2_act[0][0]        \n",
            "__________________________________________________________________________________________________\n",
            "block2_sepconv2_bn (BatchNormal (None, 96, 96, 128)  512         block2_sepconv2[0][0]            \n",
            "__________________________________________________________________________________________________\n",
<<<<<<< HEAD
            "conv2d_9 (Conv2D)               (None, 48, 48, 128)  8192        block1_conv2_act[0][0]           \n",
            "__________________________________________________________________________________________________\n",
            "block2_pool (MaxPooling2D)      (None, 48, 48, 128)  0           block2_sepconv2_bn[0][0]         \n",
            "__________________________________________________________________________________________________\n",
            "batch_normalization_9 (BatchNor (None, 48, 48, 128)  512         conv2d_9[0][0]                   \n",
            "__________________________________________________________________________________________________\n",
            "add_25 (Add)                    (None, 48, 48, 128)  0           block2_pool[0][0]                \n",
            "                                                                 batch_normalization_9[0][0]      \n",
            "__________________________________________________________________________________________________\n",
            "block3_sepconv1_act (Activation (None, 48, 48, 128)  0           add_25[0][0]                     \n",
=======
            "conv2d_5 (Conv2D)               (None, 48, 48, 128)  8192        block1_conv2_act[0][0]           \n",
            "__________________________________________________________________________________________________\n",
            "block2_pool (MaxPooling2D)      (None, 48, 48, 128)  0           block2_sepconv2_bn[0][0]         \n",
            "__________________________________________________________________________________________________\n",
            "batch_normalization_5 (BatchNor (None, 48, 48, 128)  512         conv2d_5[0][0]                   \n",
            "__________________________________________________________________________________________________\n",
            "add_13 (Add)                    (None, 48, 48, 128)  0           block2_pool[0][0]                \n",
            "                                                                 batch_normalization_5[0][0]      \n",
            "__________________________________________________________________________________________________\n",
            "block3_sepconv1_act (Activation (None, 48, 48, 128)  0           add_13[0][0]                     \n",
>>>>>>> ce4d0f0115cf14962eeef68ac97f64f034339110
            "__________________________________________________________________________________________________\n",
            "block3_sepconv1 (SeparableConv2 (None, 48, 48, 256)  33920       block3_sepconv1_act[0][0]        \n",
            "__________________________________________________________________________________________________\n",
            "block3_sepconv1_bn (BatchNormal (None, 48, 48, 256)  1024        block3_sepconv1[0][0]            \n",
            "__________________________________________________________________________________________________\n",
            "block3_sepconv2_act (Activation (None, 48, 48, 256)  0           block3_sepconv1_bn[0][0]         \n",
            "__________________________________________________________________________________________________\n",
            "block3_sepconv2 (SeparableConv2 (None, 48, 48, 256)  67840       block3_sepconv2_act[0][0]        \n",
            "__________________________________________________________________________________________________\n",
            "block3_sepconv2_bn (BatchNormal (None, 48, 48, 256)  1024        block3_sepconv2[0][0]            \n",
            "__________________________________________________________________________________________________\n",
<<<<<<< HEAD
            "conv2d_10 (Conv2D)              (None, 24, 24, 256)  32768       add_25[0][0]                     \n",
            "__________________________________________________________________________________________________\n",
            "block3_pool (MaxPooling2D)      (None, 24, 24, 256)  0           block3_sepconv2_bn[0][0]         \n",
            "__________________________________________________________________________________________________\n",
            "batch_normalization_10 (BatchNo (None, 24, 24, 256)  1024        conv2d_10[0][0]                  \n",
            "__________________________________________________________________________________________________\n",
            "add_26 (Add)                    (None, 24, 24, 256)  0           block3_pool[0][0]                \n",
            "                                                                 batch_normalization_10[0][0]     \n",
            "__________________________________________________________________________________________________\n",
            "block4_sepconv1_act (Activation (None, 24, 24, 256)  0           add_26[0][0]                     \n",
=======
            "conv2d_6 (Conv2D)               (None, 24, 24, 256)  32768       add_13[0][0]                     \n",
            "__________________________________________________________________________________________________\n",
            "block3_pool (MaxPooling2D)      (None, 24, 24, 256)  0           block3_sepconv2_bn[0][0]         \n",
            "__________________________________________________________________________________________________\n",
            "batch_normalization_6 (BatchNor (None, 24, 24, 256)  1024        conv2d_6[0][0]                   \n",
            "__________________________________________________________________________________________________\n",
            "add_14 (Add)                    (None, 24, 24, 256)  0           block3_pool[0][0]                \n",
            "                                                                 batch_normalization_6[0][0]      \n",
            "__________________________________________________________________________________________________\n",
            "block4_sepconv1_act (Activation (None, 24, 24, 256)  0           add_14[0][0]                     \n",
>>>>>>> ce4d0f0115cf14962eeef68ac97f64f034339110
            "__________________________________________________________________________________________________\n",
            "block4_sepconv1 (SeparableConv2 (None, 24, 24, 728)  188672      block4_sepconv1_act[0][0]        \n",
            "__________________________________________________________________________________________________\n",
            "block4_sepconv1_bn (BatchNormal (None, 24, 24, 728)  2912        block4_sepconv1[0][0]            \n",
            "__________________________________________________________________________________________________\n",
            "block4_sepconv2_act (Activation (None, 24, 24, 728)  0           block4_sepconv1_bn[0][0]         \n",
            "__________________________________________________________________________________________________\n",
            "block4_sepconv2 (SeparableConv2 (None, 24, 24, 728)  536536      block4_sepconv2_act[0][0]        \n",
            "__________________________________________________________________________________________________\n",
            "block4_sepconv2_bn (BatchNormal (None, 24, 24, 728)  2912        block4_sepconv2[0][0]            \n",
            "__________________________________________________________________________________________________\n",
<<<<<<< HEAD
            "conv2d_11 (Conv2D)              (None, 12, 12, 728)  186368      add_26[0][0]                     \n",
            "__________________________________________________________________________________________________\n",
            "block4_pool (MaxPooling2D)      (None, 12, 12, 728)  0           block4_sepconv2_bn[0][0]         \n",
            "__________________________________________________________________________________________________\n",
            "batch_normalization_11 (BatchNo (None, 12, 12, 728)  2912        conv2d_11[0][0]                  \n",
            "__________________________________________________________________________________________________\n",
            "add_27 (Add)                    (None, 12, 12, 728)  0           block4_pool[0][0]                \n",
            "                                                                 batch_normalization_11[0][0]     \n",
            "__________________________________________________________________________________________________\n",
            "block5_sepconv1_act (Activation (None, 12, 12, 728)  0           add_27[0][0]                     \n",
=======
            "conv2d_7 (Conv2D)               (None, 12, 12, 728)  186368      add_14[0][0]                     \n",
            "__________________________________________________________________________________________________\n",
            "block4_pool (MaxPooling2D)      (None, 12, 12, 728)  0           block4_sepconv2_bn[0][0]         \n",
            "__________________________________________________________________________________________________\n",
            "batch_normalization_7 (BatchNor (None, 12, 12, 728)  2912        conv2d_7[0][0]                   \n",
            "__________________________________________________________________________________________________\n",
            "add_15 (Add)                    (None, 12, 12, 728)  0           block4_pool[0][0]                \n",
            "                                                                 batch_normalization_7[0][0]      \n",
            "__________________________________________________________________________________________________\n",
            "block5_sepconv1_act (Activation (None, 12, 12, 728)  0           add_15[0][0]                     \n",
>>>>>>> ce4d0f0115cf14962eeef68ac97f64f034339110
            "__________________________________________________________________________________________________\n",
            "block5_sepconv1 (SeparableConv2 (None, 12, 12, 728)  536536      block5_sepconv1_act[0][0]        \n",
            "__________________________________________________________________________________________________\n",
            "block5_sepconv1_bn (BatchNormal (None, 12, 12, 728)  2912        block5_sepconv1[0][0]            \n",
            "__________________________________________________________________________________________________\n",
            "block5_sepconv2_act (Activation (None, 12, 12, 728)  0           block5_sepconv1_bn[0][0]         \n",
            "__________________________________________________________________________________________________\n",
            "block5_sepconv2 (SeparableConv2 (None, 12, 12, 728)  536536      block5_sepconv2_act[0][0]        \n",
            "__________________________________________________________________________________________________\n",
            "block5_sepconv2_bn (BatchNormal (None, 12, 12, 728)  2912        block5_sepconv2[0][0]            \n",
            "__________________________________________________________________________________________________\n",
            "block5_sepconv3_act (Activation (None, 12, 12, 728)  0           block5_sepconv2_bn[0][0]         \n",
            "__________________________________________________________________________________________________\n",
            "block5_sepconv3 (SeparableConv2 (None, 12, 12, 728)  536536      block5_sepconv3_act[0][0]        \n",
            "__________________________________________________________________________________________________\n",
            "block5_sepconv3_bn (BatchNormal (None, 12, 12, 728)  2912        block5_sepconv3[0][0]            \n",
            "__________________________________________________________________________________________________\n",
<<<<<<< HEAD
            "add_28 (Add)                    (None, 12, 12, 728)  0           block5_sepconv3_bn[0][0]         \n",
            "                                                                 add_27[0][0]                     \n",
            "__________________________________________________________________________________________________\n",
            "block6_sepconv1_act (Activation (None, 12, 12, 728)  0           add_28[0][0]                     \n",
=======
            "add_16 (Add)                    (None, 12, 12, 728)  0           block5_sepconv3_bn[0][0]         \n",
            "                                                                 add_15[0][0]                     \n",
            "__________________________________________________________________________________________________\n",
            "block6_sepconv1_act (Activation (None, 12, 12, 728)  0           add_16[0][0]                     \n",
>>>>>>> ce4d0f0115cf14962eeef68ac97f64f034339110
            "__________________________________________________________________________________________________\n",
            "block6_sepconv1 (SeparableConv2 (None, 12, 12, 728)  536536      block6_sepconv1_act[0][0]        \n",
            "__________________________________________________________________________________________________\n",
            "block6_sepconv1_bn (BatchNormal (None, 12, 12, 728)  2912        block6_sepconv1[0][0]            \n",
            "__________________________________________________________________________________________________\n",
            "block6_sepconv2_act (Activation (None, 12, 12, 728)  0           block6_sepconv1_bn[0][0]         \n",
            "__________________________________________________________________________________________________\n",
            "block6_sepconv2 (SeparableConv2 (None, 12, 12, 728)  536536      block6_sepconv2_act[0][0]        \n",
            "__________________________________________________________________________________________________\n",
            "block6_sepconv2_bn (BatchNormal (None, 12, 12, 728)  2912        block6_sepconv2[0][0]            \n",
            "__________________________________________________________________________________________________\n",
            "block6_sepconv3_act (Activation (None, 12, 12, 728)  0           block6_sepconv2_bn[0][0]         \n",
            "__________________________________________________________________________________________________\n",
            "block6_sepconv3 (SeparableConv2 (None, 12, 12, 728)  536536      block6_sepconv3_act[0][0]        \n",
            "__________________________________________________________________________________________________\n",
            "block6_sepconv3_bn (BatchNormal (None, 12, 12, 728)  2912        block6_sepconv3[0][0]            \n",
            "__________________________________________________________________________________________________\n",
<<<<<<< HEAD
            "add_29 (Add)                    (None, 12, 12, 728)  0           block6_sepconv3_bn[0][0]         \n",
            "                                                                 add_28[0][0]                     \n",
            "__________________________________________________________________________________________________\n",
            "block7_sepconv1_act (Activation (None, 12, 12, 728)  0           add_29[0][0]                     \n",
=======
            "add_17 (Add)                    (None, 12, 12, 728)  0           block6_sepconv3_bn[0][0]         \n",
            "                                                                 add_16[0][0]                     \n",
            "__________________________________________________________________________________________________\n",
            "block7_sepconv1_act (Activation (None, 12, 12, 728)  0           add_17[0][0]                     \n",
>>>>>>> ce4d0f0115cf14962eeef68ac97f64f034339110
            "__________________________________________________________________________________________________\n",
            "block7_sepconv1 (SeparableConv2 (None, 12, 12, 728)  536536      block7_sepconv1_act[0][0]        \n",
            "__________________________________________________________________________________________________\n",
            "block7_sepconv1_bn (BatchNormal (None, 12, 12, 728)  2912        block7_sepconv1[0][0]            \n",
            "__________________________________________________________________________________________________\n",
            "block7_sepconv2_act (Activation (None, 12, 12, 728)  0           block7_sepconv1_bn[0][0]         \n",
            "__________________________________________________________________________________________________\n",
            "block7_sepconv2 (SeparableConv2 (None, 12, 12, 728)  536536      block7_sepconv2_act[0][0]        \n",
            "__________________________________________________________________________________________________\n",
            "block7_sepconv2_bn (BatchNormal (None, 12, 12, 728)  2912        block7_sepconv2[0][0]            \n",
            "__________________________________________________________________________________________________\n",
            "block7_sepconv3_act (Activation (None, 12, 12, 728)  0           block7_sepconv2_bn[0][0]         \n",
            "__________________________________________________________________________________________________\n",
            "block7_sepconv3 (SeparableConv2 (None, 12, 12, 728)  536536      block7_sepconv3_act[0][0]        \n",
            "__________________________________________________________________________________________________\n",
            "block7_sepconv3_bn (BatchNormal (None, 12, 12, 728)  2912        block7_sepconv3[0][0]            \n",
            "__________________________________________________________________________________________________\n",
<<<<<<< HEAD
            "add_30 (Add)                    (None, 12, 12, 728)  0           block7_sepconv3_bn[0][0]         \n",
            "                                                                 add_29[0][0]                     \n",
            "__________________________________________________________________________________________________\n",
            "block8_sepconv1_act (Activation (None, 12, 12, 728)  0           add_30[0][0]                     \n",
=======
            "add_18 (Add)                    (None, 12, 12, 728)  0           block7_sepconv3_bn[0][0]         \n",
            "                                                                 add_17[0][0]                     \n",
            "__________________________________________________________________________________________________\n",
            "block8_sepconv1_act (Activation (None, 12, 12, 728)  0           add_18[0][0]                     \n",
>>>>>>> ce4d0f0115cf14962eeef68ac97f64f034339110
            "__________________________________________________________________________________________________\n",
            "block8_sepconv1 (SeparableConv2 (None, 12, 12, 728)  536536      block8_sepconv1_act[0][0]        \n",
            "__________________________________________________________________________________________________\n",
            "block8_sepconv1_bn (BatchNormal (None, 12, 12, 728)  2912        block8_sepconv1[0][0]            \n",
            "__________________________________________________________________________________________________\n",
            "block8_sepconv2_act (Activation (None, 12, 12, 728)  0           block8_sepconv1_bn[0][0]         \n",
            "__________________________________________________________________________________________________\n",
            "block8_sepconv2 (SeparableConv2 (None, 12, 12, 728)  536536      block8_sepconv2_act[0][0]        \n",
            "__________________________________________________________________________________________________\n",
            "block8_sepconv2_bn (BatchNormal (None, 12, 12, 728)  2912        block8_sepconv2[0][0]            \n",
            "__________________________________________________________________________________________________\n",
            "block8_sepconv3_act (Activation (None, 12, 12, 728)  0           block8_sepconv2_bn[0][0]         \n",
            "__________________________________________________________________________________________________\n",
            "block8_sepconv3 (SeparableConv2 (None, 12, 12, 728)  536536      block8_sepconv3_act[0][0]        \n",
            "__________________________________________________________________________________________________\n",
            "block8_sepconv3_bn (BatchNormal (None, 12, 12, 728)  2912        block8_sepconv3[0][0]            \n",
            "__________________________________________________________________________________________________\n",
<<<<<<< HEAD
            "add_31 (Add)                    (None, 12, 12, 728)  0           block8_sepconv3_bn[0][0]         \n",
            "                                                                 add_30[0][0]                     \n",
            "__________________________________________________________________________________________________\n",
            "block9_sepconv1_act (Activation (None, 12, 12, 728)  0           add_31[0][0]                     \n",
=======
            "add_19 (Add)                    (None, 12, 12, 728)  0           block8_sepconv3_bn[0][0]         \n",
            "                                                                 add_18[0][0]                     \n",
            "__________________________________________________________________________________________________\n",
            "block9_sepconv1_act (Activation (None, 12, 12, 728)  0           add_19[0][0]                     \n",
>>>>>>> ce4d0f0115cf14962eeef68ac97f64f034339110
            "__________________________________________________________________________________________________\n",
            "block9_sepconv1 (SeparableConv2 (None, 12, 12, 728)  536536      block9_sepconv1_act[0][0]        \n",
            "__________________________________________________________________________________________________\n",
            "block9_sepconv1_bn (BatchNormal (None, 12, 12, 728)  2912        block9_sepconv1[0][0]            \n",
            "__________________________________________________________________________________________________\n",
            "block9_sepconv2_act (Activation (None, 12, 12, 728)  0           block9_sepconv1_bn[0][0]         \n",
            "__________________________________________________________________________________________________\n",
            "block9_sepconv2 (SeparableConv2 (None, 12, 12, 728)  536536      block9_sepconv2_act[0][0]        \n",
            "__________________________________________________________________________________________________\n",
            "block9_sepconv2_bn (BatchNormal (None, 12, 12, 728)  2912        block9_sepconv2[0][0]            \n",
            "__________________________________________________________________________________________________\n",
            "block9_sepconv3_act (Activation (None, 12, 12, 728)  0           block9_sepconv2_bn[0][0]         \n",
            "__________________________________________________________________________________________________\n",
            "block9_sepconv3 (SeparableConv2 (None, 12, 12, 728)  536536      block9_sepconv3_act[0][0]        \n",
            "__________________________________________________________________________________________________\n",
            "block9_sepconv3_bn (BatchNormal (None, 12, 12, 728)  2912        block9_sepconv3[0][0]            \n",
            "__________________________________________________________________________________________________\n",
<<<<<<< HEAD
            "add_32 (Add)                    (None, 12, 12, 728)  0           block9_sepconv3_bn[0][0]         \n",
            "                                                                 add_31[0][0]                     \n",
            "__________________________________________________________________________________________________\n",
            "block10_sepconv1_act (Activatio (None, 12, 12, 728)  0           add_32[0][0]                     \n",
=======
            "add_20 (Add)                    (None, 12, 12, 728)  0           block9_sepconv3_bn[0][0]         \n",
            "                                                                 add_19[0][0]                     \n",
            "__________________________________________________________________________________________________\n",
            "block10_sepconv1_act (Activatio (None, 12, 12, 728)  0           add_20[0][0]                     \n",
>>>>>>> ce4d0f0115cf14962eeef68ac97f64f034339110
            "__________________________________________________________________________________________________\n",
            "block10_sepconv1 (SeparableConv (None, 12, 12, 728)  536536      block10_sepconv1_act[0][0]       \n",
            "__________________________________________________________________________________________________\n",
            "block10_sepconv1_bn (BatchNorma (None, 12, 12, 728)  2912        block10_sepconv1[0][0]           \n",
            "__________________________________________________________________________________________________\n",
            "block10_sepconv2_act (Activatio (None, 12, 12, 728)  0           block10_sepconv1_bn[0][0]        \n",
            "__________________________________________________________________________________________________\n",
            "block10_sepconv2 (SeparableConv (None, 12, 12, 728)  536536      block10_sepconv2_act[0][0]       \n",
            "__________________________________________________________________________________________________\n",
            "block10_sepconv2_bn (BatchNorma (None, 12, 12, 728)  2912        block10_sepconv2[0][0]           \n",
            "__________________________________________________________________________________________________\n",
            "block10_sepconv3_act (Activatio (None, 12, 12, 728)  0           block10_sepconv2_bn[0][0]        \n",
            "__________________________________________________________________________________________________\n",
            "block10_sepconv3 (SeparableConv (None, 12, 12, 728)  536536      block10_sepconv3_act[0][0]       \n",
            "__________________________________________________________________________________________________\n",
            "block10_sepconv3_bn (BatchNorma (None, 12, 12, 728)  2912        block10_sepconv3[0][0]           \n",
            "__________________________________________________________________________________________________\n",
<<<<<<< HEAD
            "add_33 (Add)                    (None, 12, 12, 728)  0           block10_sepconv3_bn[0][0]        \n",
            "                                                                 add_32[0][0]                     \n",
            "__________________________________________________________________________________________________\n",
            "block11_sepconv1_act (Activatio (None, 12, 12, 728)  0           add_33[0][0]                     \n",
=======
            "add_21 (Add)                    (None, 12, 12, 728)  0           block10_sepconv3_bn[0][0]        \n",
            "                                                                 add_20[0][0]                     \n",
            "__________________________________________________________________________________________________\n",
            "block11_sepconv1_act (Activatio (None, 12, 12, 728)  0           add_21[0][0]                     \n",
>>>>>>> ce4d0f0115cf14962eeef68ac97f64f034339110
            "__________________________________________________________________________________________________\n",
            "block11_sepconv1 (SeparableConv (None, 12, 12, 728)  536536      block11_sepconv1_act[0][0]       \n",
            "__________________________________________________________________________________________________\n",
            "block11_sepconv1_bn (BatchNorma (None, 12, 12, 728)  2912        block11_sepconv1[0][0]           \n",
            "__________________________________________________________________________________________________\n",
            "block11_sepconv2_act (Activatio (None, 12, 12, 728)  0           block11_sepconv1_bn[0][0]        \n",
            "__________________________________________________________________________________________________\n",
            "block11_sepconv2 (SeparableConv (None, 12, 12, 728)  536536      block11_sepconv2_act[0][0]       \n",
            "__________________________________________________________________________________________________\n",
            "block11_sepconv2_bn (BatchNorma (None, 12, 12, 728)  2912        block11_sepconv2[0][0]           \n",
            "__________________________________________________________________________________________________\n",
            "block11_sepconv3_act (Activatio (None, 12, 12, 728)  0           block11_sepconv2_bn[0][0]        \n",
            "__________________________________________________________________________________________________\n",
            "block11_sepconv3 (SeparableConv (None, 12, 12, 728)  536536      block11_sepconv3_act[0][0]       \n",
            "__________________________________________________________________________________________________\n",
            "block11_sepconv3_bn (BatchNorma (None, 12, 12, 728)  2912        block11_sepconv3[0][0]           \n",
            "__________________________________________________________________________________________________\n",
<<<<<<< HEAD
            "add_34 (Add)                    (None, 12, 12, 728)  0           block11_sepconv3_bn[0][0]        \n",
            "                                                                 add_33[0][0]                     \n",
            "__________________________________________________________________________________________________\n",
            "block12_sepconv1_act (Activatio (None, 12, 12, 728)  0           add_34[0][0]                     \n",
=======
            "add_22 (Add)                    (None, 12, 12, 728)  0           block11_sepconv3_bn[0][0]        \n",
            "                                                                 add_21[0][0]                     \n",
            "__________________________________________________________________________________________________\n",
            "block12_sepconv1_act (Activatio (None, 12, 12, 728)  0           add_22[0][0]                     \n",
>>>>>>> ce4d0f0115cf14962eeef68ac97f64f034339110
            "__________________________________________________________________________________________________\n",
            "block12_sepconv1 (SeparableConv (None, 12, 12, 728)  536536      block12_sepconv1_act[0][0]       \n",
            "__________________________________________________________________________________________________\n",
            "block12_sepconv1_bn (BatchNorma (None, 12, 12, 728)  2912        block12_sepconv1[0][0]           \n",
            "__________________________________________________________________________________________________\n",
            "block12_sepconv2_act (Activatio (None, 12, 12, 728)  0           block12_sepconv1_bn[0][0]        \n",
            "__________________________________________________________________________________________________\n",
            "block12_sepconv2 (SeparableConv (None, 12, 12, 728)  536536      block12_sepconv2_act[0][0]       \n",
            "__________________________________________________________________________________________________\n",
            "block12_sepconv2_bn (BatchNorma (None, 12, 12, 728)  2912        block12_sepconv2[0][0]           \n",
            "__________________________________________________________________________________________________\n",
            "block12_sepconv3_act (Activatio (None, 12, 12, 728)  0           block12_sepconv2_bn[0][0]        \n",
            "__________________________________________________________________________________________________\n",
            "block12_sepconv3 (SeparableConv (None, 12, 12, 728)  536536      block12_sepconv3_act[0][0]       \n",
            "__________________________________________________________________________________________________\n",
            "block12_sepconv3_bn (BatchNorma (None, 12, 12, 728)  2912        block12_sepconv3[0][0]           \n",
            "__________________________________________________________________________________________________\n",
<<<<<<< HEAD
            "add_35 (Add)                    (None, 12, 12, 728)  0           block12_sepconv3_bn[0][0]        \n",
            "                                                                 add_34[0][0]                     \n",
            "__________________________________________________________________________________________________\n",
            "block13_sepconv1_act (Activatio (None, 12, 12, 728)  0           add_35[0][0]                     \n",
=======
            "add_23 (Add)                    (None, 12, 12, 728)  0           block12_sepconv3_bn[0][0]        \n",
            "                                                                 add_22[0][0]                     \n",
            "__________________________________________________________________________________________________\n",
            "block13_sepconv1_act (Activatio (None, 12, 12, 728)  0           add_23[0][0]                     \n",
>>>>>>> ce4d0f0115cf14962eeef68ac97f64f034339110
            "__________________________________________________________________________________________________\n",
            "block13_sepconv1 (SeparableConv (None, 12, 12, 728)  536536      block13_sepconv1_act[0][0]       \n",
            "__________________________________________________________________________________________________\n",
            "block13_sepconv1_bn (BatchNorma (None, 12, 12, 728)  2912        block13_sepconv1[0][0]           \n",
            "__________________________________________________________________________________________________\n",
            "block13_sepconv2_act (Activatio (None, 12, 12, 728)  0           block13_sepconv1_bn[0][0]        \n",
            "__________________________________________________________________________________________________\n",
            "block13_sepconv2 (SeparableConv (None, 12, 12, 1024) 752024      block13_sepconv2_act[0][0]       \n",
            "__________________________________________________________________________________________________\n",
            "block13_sepconv2_bn (BatchNorma (None, 12, 12, 1024) 4096        block13_sepconv2[0][0]           \n",
            "__________________________________________________________________________________________________\n",
<<<<<<< HEAD
            "conv2d_12 (Conv2D)              (None, 6, 6, 1024)   745472      add_35[0][0]                     \n",
            "__________________________________________________________________________________________________\n",
            "block13_pool (MaxPooling2D)     (None, 6, 6, 1024)   0           block13_sepconv2_bn[0][0]        \n",
            "__________________________________________________________________________________________________\n",
            "batch_normalization_12 (BatchNo (None, 6, 6, 1024)   4096        conv2d_12[0][0]                  \n",
            "__________________________________________________________________________________________________\n",
            "add_36 (Add)                    (None, 6, 6, 1024)   0           block13_pool[0][0]               \n",
            "                                                                 batch_normalization_12[0][0]     \n",
            "__________________________________________________________________________________________________\n",
            "block14_sepconv1 (SeparableConv (None, 6, 6, 1536)   1582080     add_36[0][0]                     \n",
=======
            "conv2d_8 (Conv2D)               (None, 6, 6, 1024)   745472      add_23[0][0]                     \n",
            "__________________________________________________________________________________________________\n",
            "block13_pool (MaxPooling2D)     (None, 6, 6, 1024)   0           block13_sepconv2_bn[0][0]        \n",
            "__________________________________________________________________________________________________\n",
            "batch_normalization_8 (BatchNor (None, 6, 6, 1024)   4096        conv2d_8[0][0]                   \n",
            "__________________________________________________________________________________________________\n",
            "add_24 (Add)                    (None, 6, 6, 1024)   0           block13_pool[0][0]               \n",
            "                                                                 batch_normalization_8[0][0]      \n",
            "__________________________________________________________________________________________________\n",
            "block14_sepconv1 (SeparableConv (None, 6, 6, 1536)   1582080     add_24[0][0]                     \n",
>>>>>>> ce4d0f0115cf14962eeef68ac97f64f034339110
            "__________________________________________________________________________________________________\n",
            "block14_sepconv1_bn (BatchNorma (None, 6, 6, 1536)   6144        block14_sepconv1[0][0]           \n",
            "__________________________________________________________________________________________________\n",
            "block14_sepconv1_act (Activatio (None, 6, 6, 1536)   0           block14_sepconv1_bn[0][0]        \n",
            "__________________________________________________________________________________________________\n",
            "block14_sepconv2 (SeparableConv (None, 6, 6, 2048)   3159552     block14_sepconv1_act[0][0]       \n",
            "__________________________________________________________________________________________________\n",
            "block14_sepconv2_bn (BatchNorma (None, 6, 6, 2048)   8192        block14_sepconv2[0][0]           \n",
            "__________________________________________________________________________________________________\n",
            "block14_sepconv2_act (Activatio (None, 6, 6, 2048)   0           block14_sepconv2_bn[0][0]        \n",
            "==================================================================================================\n",
            "Total params: 20,861,480\n",
            "Trainable params: 20,806,952\n",
            "Non-trainable params: 54,528\n",
            "__________________________________________________________________________________________________\n"
          ],
          "name": "stdout"
        }
      ]
    },
    {
      "cell_type": "markdown",
      "metadata": {
        "id": "ewOtdrdIcQ_Z",
        "colab_type": "text"
      },
      "source": [
        "## Transfer learning"
      ]
    },
    {
      "cell_type": "code",
      "metadata": {
        "id": "4QEAv0uCbFCe",
        "colab_type": "code",
        "colab": {}
      },
      "source": [
        "# Adds new top to base model\n",
        "def add_top(base):\n",
        "    x = base.output\n",
        "\n",
        "    # Global averaging pool layer\n",
        "    x = GlobalAveragePooling2D()(x)\n",
        "\n",
        "    # Regular densely connected layer\n",
        "    x = Dense(512, activation='relu')(x)\n",
        "\n",
        "    # Output layer\n",
        "    predictions = Dense(nb_classes, activation='softmax')(x)\n",
        "\n",
        "    return Model(inputs = base.input, outputs = predictions)"
      ],
<<<<<<< HEAD
      "execution_count": 90,
=======
      "execution_count": 16,
>>>>>>> ce4d0f0115cf14962eeef68ac97f64f034339110
      "outputs": []
    },
    {
      "cell_type": "code",
      "metadata": {
        "id": "OoOB53HHWqT5",
        "colab_type": "code",
        "colab": {}
      },
      "source": [
        "# Sets up model for transfer learning\n",
        "def setup_model(model, base):\n",
        "    # Freeze the un-trainable layers of the model base\n",
        "    for layer in base.layers:\n",
        "        layer.trainable = False\n",
        "\n",
        "    model.compile(\n",
        "        loss = 'categorical_crossentropy',\n",
        "        optimizer = 'rmsprop',\n",
        "        metrics = ['accuracy']\n",
        "    )"
      ],
<<<<<<< HEAD
      "execution_count": 91,
=======
      "execution_count": 17,
>>>>>>> ce4d0f0115cf14962eeef68ac97f64f034339110
      "outputs": []
    },
    {
      "cell_type": "code",
      "metadata": {
        "id": "UJlre8ekeOwz",
        "colab_type": "code",
        "colab": {}
      },
      "source": [
        "# Fine tune the model\n",
        "def fine_tune(model, trainable):\n",
        "    # Freeze the un-trainable layers of the model base\n",
        "    for layer in model.layers[:(len(model.layers) - trainable)]:\n",
        "        layer.trainable = False\n",
        "\n",
        "    for layer in model.layers[(len(model.layers) - trainable):]:\n",
        "        layer.trainable = True\n",
        "\n",
        "    model.compile(\n",
        "        loss = 'categorical_crossentropy',\n",
        "        optimizer = optimizers.SGD(lr = 1e-4, momentum = 0.9),\n",
        "        metrics = ['accuracy']\n",
        "    )"
      ],
<<<<<<< HEAD
      "execution_count": 92,
=======
      "execution_count": 18,
>>>>>>> ce4d0f0115cf14962eeef68ac97f64f034339110
      "outputs": []
    },
    {
      "cell_type": "code",
      "metadata": {
        "id": "Mmlx5dPxcUT_",
        "colab_type": "code",
        "colab": {}
      },
      "source": [
        "# appending our trainable layers to the end of the model\n",
        "model = add_top(xception_base)"
      ],
<<<<<<< HEAD
      "execution_count": 93,
=======
      "execution_count": 19,
>>>>>>> ce4d0f0115cf14962eeef68ac97f64f034339110
      "outputs": []
    },
    {
      "cell_type": "markdown",
      "metadata": {
        "id": "2qlhL0IzPRIl",
        "colab_type": "text"
      },
      "source": [
        "## Training\n",
        "\n",
        "We are using a hybrid approach, at first we train with RMSprop/Adam until we get a better initial state for SGD optimizer, then we start the training again with SGD."
      ]
    },
    {
      "cell_type": "markdown",
      "metadata": {
        "id": "fCWJXgr1YGMM",
        "colab_type": "text"
      },
      "source": [
        "Training the layers we added while freezing all the original model layers."
      ]
    },
    {
      "cell_type": "code",
      "metadata": {
        "id": "uFkT9KqfXU-M",
        "colab_type": "code",
        "colab": {}
      },
      "source": [
        "# setup the model\n",
        "setup_model(model, xception_base)"
      ],
<<<<<<< HEAD
      "execution_count": 94,
=======
      "execution_count": 20,
>>>>>>> ce4d0f0115cf14962eeef68ac97f64f034339110
      "outputs": []
    },
    {
      "cell_type": "code",
      "metadata": {
        "id": "mawkmrsZOliz",
        "colab_type": "code",
        "colab": {
          "base_uri": "https://localhost:8080/",
          "height": 689
        },
<<<<<<< HEAD
        "outputId": "cb353323-dca3-4288-821a-a1d821490ce1"
=======
        "outputId": "c8f223bb-e710-4156-d837-39e70ad0adcc"
>>>>>>> ce4d0f0115cf14962eeef68ac97f64f034339110
      },
      "source": [
        "epochs = 20\n",
        "\n",
        "# train the model\n",
        "history1 = model.fit_generator(\n",
        "    train_generator,\n",
        "    steps_per_epoch = training_samples // batch_size,\n",
        "    epochs = epochs,\n",
        "    validation_data = validation_generator,\n",
        "    validation_steps = validation_samples // batch_size,\n",
        "    verbose = 1,\n",
        ")"
      ],
<<<<<<< HEAD
      "execution_count": 95,
=======
      "execution_count": 21,
>>>>>>> ce4d0f0115cf14962eeef68ac97f64f034339110
      "outputs": [
        {
          "output_type": "stream",
          "text": [
            "Epoch 1/20\n",
<<<<<<< HEAD
            "8/8 [==============================] - 45s 6s/step - loss: 2.1048 - accuracy: 0.3485 - val_loss: 0.9759 - val_accuracy: 0.7188\n",
            "Epoch 2/20\n",
            "8/8 [==============================] - 39s 5s/step - loss: 1.0913 - accuracy: 0.6845 - val_loss: 0.7690 - val_accuracy: 0.8264\n",
            "Epoch 3/20\n",
            "8/8 [==============================] - 35s 4s/step - loss: 0.8359 - accuracy: 0.7617 - val_loss: 0.3871 - val_accuracy: 0.9097\n",
            "Epoch 4/20\n",
            "8/8 [==============================] - 40s 5s/step - loss: 0.7398 - accuracy: 0.7887 - val_loss: 0.5695 - val_accuracy: 0.8281\n",
            "Epoch 5/20\n",
            "8/8 [==============================] - 40s 5s/step - loss: 0.5808 - accuracy: 0.8289 - val_loss: 0.5301 - val_accuracy: 0.8889\n",
            "Epoch 6/20\n",
            "8/8 [==============================] - 34s 4s/step - loss: 0.6306 - accuracy: 0.7979 - val_loss: 0.3416 - val_accuracy: 0.9028\n",
            "Epoch 7/20\n",
            "8/8 [==============================] - 36s 5s/step - loss: 0.4996 - accuracy: 0.8450 - val_loss: 0.4832 - val_accuracy: 0.8984\n",
            "Epoch 8/20\n",
            "8/8 [==============================] - 41s 5s/step - loss: 0.5904 - accuracy: 0.8330 - val_loss: 0.2859 - val_accuracy: 0.9444\n",
            "Epoch 9/20\n",
            "8/8 [==============================] - 35s 4s/step - loss: 0.5276 - accuracy: 0.8505 - val_loss: 0.3863 - val_accuracy: 0.9028\n",
            "Epoch 10/20\n",
            "8/8 [==============================] - 40s 5s/step - loss: 0.4714 - accuracy: 0.8567 - val_loss: 0.1963 - val_accuracy: 0.9102\n",
            "Epoch 11/20\n",
            "8/8 [==============================] - 41s 5s/step - loss: 0.4073 - accuracy: 0.8682 - val_loss: 0.2288 - val_accuracy: 0.9306\n",
            "Epoch 12/20\n",
            "8/8 [==============================] - 33s 4s/step - loss: 0.4789 - accuracy: 0.8614 - val_loss: 0.6534 - val_accuracy: 0.8889\n",
            "Epoch 13/20\n",
            "8/8 [==============================] - 39s 5s/step - loss: 0.4583 - accuracy: 0.8660 - val_loss: 0.6732 - val_accuracy: 0.8398\n",
            "Epoch 14/20\n",
            "8/8 [==============================] - 42s 5s/step - loss: 0.3470 - accuracy: 0.8906 - val_loss: 0.5717 - val_accuracy: 0.9167\n",
            "Epoch 15/20\n",
            "8/8 [==============================] - 32s 4s/step - loss: 0.4524 - accuracy: 0.8660 - val_loss: 0.0053 - val_accuracy: 0.9236\n",
            "Epoch 16/20\n",
            "8/8 [==============================] - 38s 5s/step - loss: 0.3733 - accuracy: 0.8928 - val_loss: 0.9040 - val_accuracy: 0.8945\n",
            "Epoch 17/20\n",
            "8/8 [==============================] - 40s 5s/step - loss: 0.3621 - accuracy: 0.8825 - val_loss: 0.4296 - val_accuracy: 0.9097\n",
            "Epoch 18/20\n",
            "8/8 [==============================] - 33s 4s/step - loss: 0.4276 - accuracy: 0.8608 - val_loss: 0.2432 - val_accuracy: 0.9444\n",
            "Epoch 19/20\n",
            "8/8 [==============================] - 39s 5s/step - loss: 0.3273 - accuracy: 0.9010 - val_loss: 0.1706 - val_accuracy: 0.9336\n",
            "Epoch 20/20\n",
            "8/8 [==============================] - 40s 5s/step - loss: 0.3181 - accuracy: 0.9031 - val_loss: 0.8159 - val_accuracy: 0.8611\n"
=======
            "6/6 [==============================] - 559s 93s/step - loss: 2.3766 - accuracy: 0.2847 - val_loss: 0.9018 - val_accuracy: 0.7734\n",
            "Epoch 2/20\n",
            "6/6 [==============================] - 110s 18s/step - loss: 1.1822 - accuracy: 0.6910 - val_loss: 1.6359 - val_accuracy: 0.6571\n",
            "Epoch 3/20\n",
            "6/6 [==============================] - 25s 4s/step - loss: 0.9742 - accuracy: 0.7357 - val_loss: 0.4349 - val_accuracy: 0.8594\n",
            "Epoch 4/20\n",
            "6/6 [==============================] - 18s 3s/step - loss: 0.6611 - accuracy: 0.8175 - val_loss: 0.8769 - val_accuracy: 0.8286\n",
            "Epoch 5/20\n",
            "6/6 [==============================] - 27s 4s/step - loss: 0.7415 - accuracy: 0.7839 - val_loss: 1.1298 - val_accuracy: 0.8672\n",
            "Epoch 6/20\n",
            "6/6 [==============================] - 23s 4s/step - loss: 0.5280 - accuracy: 0.8541 - val_loss: 0.9981 - val_accuracy: 0.7857\n",
            "Epoch 7/20\n",
            "6/6 [==============================] - 23s 4s/step - loss: 0.6116 - accuracy: 0.8169 - val_loss: 0.2750 - val_accuracy: 0.8984\n",
            "Epoch 8/20\n",
            "6/6 [==============================] - 21s 3s/step - loss: 0.6500 - accuracy: 0.8155 - val_loss: 0.3501 - val_accuracy: 0.9000\n",
            "Epoch 9/20\n",
            "6/6 [==============================] - 27s 4s/step - loss: 0.4587 - accuracy: 0.8711 - val_loss: 0.3256 - val_accuracy: 0.9062\n",
            "Epoch 10/20\n",
            "6/6 [==============================] - 21s 3s/step - loss: 0.3946 - accuracy: 0.8841 - val_loss: 0.4337 - val_accuracy: 0.9286\n",
            "Epoch 11/20\n",
            "6/6 [==============================] - 24s 4s/step - loss: 0.4584 - accuracy: 0.8684 - val_loss: 0.2116 - val_accuracy: 0.9297\n",
            "Epoch 12/20\n",
            "6/6 [==============================] - 20s 3s/step - loss: 0.5087 - accuracy: 0.8397 - val_loss: 0.7061 - val_accuracy: 0.8714\n",
            "Epoch 13/20\n",
            "6/6 [==============================] - 24s 4s/step - loss: 0.4640 - accuracy: 0.8455 - val_loss: 0.4360 - val_accuracy: 0.9219\n",
            "Epoch 14/20\n",
            "6/6 [==============================] - 25s 4s/step - loss: 0.3526 - accuracy: 0.8932 - val_loss: 0.3984 - val_accuracy: 0.9286\n",
            "Epoch 15/20\n",
            "6/6 [==============================] - 25s 4s/step - loss: 0.6420 - accuracy: 0.8197 - val_loss: 0.4556 - val_accuracy: 0.9062\n",
            "Epoch 16/20\n",
            "6/6 [==============================] - 22s 4s/step - loss: 0.3538 - accuracy: 0.8970 - val_loss: 0.4138 - val_accuracy: 0.9143\n",
            "Epoch 17/20\n",
            "6/6 [==============================] - 22s 4s/step - loss: 0.3612 - accuracy: 0.9041 - val_loss: 0.2194 - val_accuracy: 0.9297\n",
            "Epoch 18/20\n",
            "6/6 [==============================] - 22s 4s/step - loss: 0.3783 - accuracy: 0.8870 - val_loss: 0.4292 - val_accuracy: 0.9143\n",
            "Epoch 19/20\n",
            "6/6 [==============================] - 24s 4s/step - loss: 0.3781 - accuracy: 0.8854 - val_loss: 0.5291 - val_accuracy: 0.9062\n",
            "Epoch 20/20\n",
            "6/6 [==============================] - 23s 4s/step - loss: 0.3530 - accuracy: 0.8898 - val_loss: 0.2226 - val_accuracy: 0.9571\n"
>>>>>>> ce4d0f0115cf14962eeef68ac97f64f034339110
          ],
          "name": "stdout"
        }
      ]
    },
    {
      "cell_type": "markdown",
      "metadata": {
        "id": "XzED-feJdXGb",
        "colab_type": "text"
      },
      "source": [
        "## Fine-tuning"
      ]
    },
    {
      "cell_type": "markdown",
      "metadata": {
        "id": "Qsry5oLLYMj_",
        "colab_type": "text"
      },
      "source": [
        "Re-train the model again using the weights we got from the first training for our new added layers, and in the same time we will un-freeze the last two layers of the original model."
      ]
    },
    {
      "cell_type": "code",
      "metadata": {
        "id": "FoKgr9SRXWx1",
        "colab_type": "code",
        "colab": {}
      },
      "source": [
        "# fine tune the model to retrain our top layer plus blocks 13 and 14 of Xception\n",
        "fine_tune(model, 19)"
      ],
<<<<<<< HEAD
      "execution_count": 96,
=======
      "execution_count": 22,
>>>>>>> ce4d0f0115cf14962eeef68ac97f64f034339110
      "outputs": []
    },
    {
      "cell_type": "code",
      "metadata": {
        "id": "o8HM6K6behl5",
        "colab_type": "code",
        "colab": {
          "base_uri": "https://localhost:8080/",
          "height": 689
        },
<<<<<<< HEAD
        "outputId": "b2e810b7-42b9-4a70-8098-bb9648f78f2b"
=======
        "outputId": "c8d6dd4c-1ebc-4a25-e3ee-66d19bca2f4b"
>>>>>>> ce4d0f0115cf14962eeef68ac97f64f034339110
      },
      "source": [
        "epochs_ft = 20\n",
        "\n",
        "# train the model\n",
        "history2 = model.fit_generator(\n",
        "    train_generator,\n",
        "    steps_per_epoch = training_samples // batch_size,\n",
        "    epochs = epochs_ft,\n",
        "    validation_data = validation_generator,\n",
        "    validation_steps = validation_samples // batch_size,\n",
        "    verbose = 1,\n",
        ")"
      ],
<<<<<<< HEAD
      "execution_count": 97,
=======
      "execution_count": 23,
>>>>>>> ce4d0f0115cf14962eeef68ac97f64f034339110
      "outputs": [
        {
          "output_type": "stream",
          "text": [
            "Epoch 1/20\n",
<<<<<<< HEAD
            "8/8 [==============================] - 47s 6s/step - loss: 0.3895 - accuracy: 0.8794 - val_loss: 1.0593 - val_accuracy: 0.8867\n",
            "Epoch 2/20\n",
            "8/8 [==============================] - 36s 4s/step - loss: 0.3480 - accuracy: 0.8887 - val_loss: 1.0364 - val_accuracy: 0.8750\n",
            "Epoch 3/20\n",
            "8/8 [==============================] - 36s 5s/step - loss: 0.3502 - accuracy: 0.8887 - val_loss: 1.2126 - val_accuracy: 0.9375\n",
            "Epoch 4/20\n",
            "8/8 [==============================] - 42s 5s/step - loss: 0.3403 - accuracy: 0.8936 - val_loss: 0.6755 - val_accuracy: 0.9141\n",
            "Epoch 5/20\n",
            "8/8 [==============================] - 39s 5s/step - loss: 0.3132 - accuracy: 0.8919 - val_loss: 0.6356 - val_accuracy: 0.9167\n",
            "Epoch 6/20\n",
            "8/8 [==============================] - 32s 4s/step - loss: 0.3054 - accuracy: 0.9041 - val_loss: 1.4064 - val_accuracy: 0.8889\n",
            "Epoch 7/20\n",
            "8/8 [==============================] - 43s 5s/step - loss: 0.2984 - accuracy: 0.9072 - val_loss: 1.1421 - val_accuracy: 0.9180\n",
            "Epoch 8/20\n",
            "8/8 [==============================] - 42s 5s/step - loss: 0.3195 - accuracy: 0.9004 - val_loss: 0.7951 - val_accuracy: 0.8750\n",
            "Epoch 9/20\n",
            "8/8 [==============================] - 33s 4s/step - loss: 0.3101 - accuracy: 0.9103 - val_loss: 0.6546 - val_accuracy: 0.9375\n",
            "Epoch 10/20\n",
            "8/8 [==============================] - 41s 5s/step - loss: 0.2598 - accuracy: 0.9216 - val_loss: 1.0202 - val_accuracy: 0.9180\n",
            "Epoch 11/20\n",
            "8/8 [==============================] - 42s 5s/step - loss: 0.2958 - accuracy: 0.9062 - val_loss: 0.5986 - val_accuracy: 0.9028\n",
            "Epoch 12/20\n",
            "8/8 [==============================] - 32s 4s/step - loss: 0.2706 - accuracy: 0.9134 - val_loss: 0.3795 - val_accuracy: 0.9236\n",
            "Epoch 13/20\n",
            "8/8 [==============================] - 40s 5s/step - loss: 0.2947 - accuracy: 0.9155 - val_loss: 0.6908 - val_accuracy: 0.9258\n",
            "Epoch 14/20\n",
            "8/8 [==============================] - 42s 5s/step - loss: 0.3320 - accuracy: 0.8959 - val_loss: 0.6104 - val_accuracy: 0.8958\n",
            "Epoch 15/20\n",
            "8/8 [==============================] - 33s 4s/step - loss: 0.2563 - accuracy: 0.9196 - val_loss: 0.3696 - val_accuracy: 0.9375\n",
            "Epoch 16/20\n",
            "8/8 [==============================] - 42s 5s/step - loss: 0.2389 - accuracy: 0.9247 - val_loss: 0.7748 - val_accuracy: 0.9297\n",
            "Epoch 17/20\n",
            "8/8 [==============================] - 40s 5s/step - loss: 0.2719 - accuracy: 0.9113 - val_loss: 0.7379 - val_accuracy: 0.9097\n",
            "Epoch 18/20\n",
            "8/8 [==============================] - 35s 4s/step - loss: 0.2528 - accuracy: 0.9209 - val_loss: 0.0260 - val_accuracy: 0.9514\n",
            "Epoch 19/20\n",
            "8/8 [==============================] - 44s 5s/step - loss: 0.2610 - accuracy: 0.9219 - val_loss: 0.2095 - val_accuracy: 0.9297\n",
            "Epoch 20/20\n",
            "8/8 [==============================] - 40s 5s/step - loss: 0.2461 - accuracy: 0.9323 - val_loss: 0.4835 - val_accuracy: 0.9375\n"
=======
            "6/6 [==============================] - 28s 5s/step - loss: 0.3984 - accuracy: 0.8784 - val_loss: 0.2988 - val_accuracy: 0.9297\n",
            "Epoch 2/20\n",
            "6/6 [==============================] - 23s 4s/step - loss: 0.3533 - accuracy: 0.8893 - val_loss: 0.3477 - val_accuracy: 0.9286\n",
            "Epoch 3/20\n",
            "6/6 [==============================] - 22s 4s/step - loss: 0.3317 - accuracy: 0.8952 - val_loss: 0.2631 - val_accuracy: 0.9609\n",
            "Epoch 4/20\n",
            "6/6 [==============================] - 23s 4s/step - loss: 0.3837 - accuracy: 0.8813 - val_loss: 0.3506 - val_accuracy: 0.8857\n",
            "Epoch 5/20\n",
            "6/6 [==============================] - 29s 5s/step - loss: 0.3444 - accuracy: 0.8919 - val_loss: 0.2366 - val_accuracy: 0.9453\n",
            "Epoch 6/20\n",
            "6/6 [==============================] - 20s 3s/step - loss: 0.4340 - accuracy: 0.8727 - val_loss: 0.3451 - val_accuracy: 0.9143\n",
            "Epoch 7/20\n",
            "6/6 [==============================] - 25s 4s/step - loss: 0.3044 - accuracy: 0.9084 - val_loss: 0.1588 - val_accuracy: 0.9453\n",
            "Epoch 8/20\n",
            "6/6 [==============================] - 22s 4s/step - loss: 0.3056 - accuracy: 0.9099 - val_loss: 0.4351 - val_accuracy: 0.9143\n",
            "Epoch 9/20\n",
            "6/6 [==============================] - 24s 4s/step - loss: 0.3098 - accuracy: 0.8984 - val_loss: 0.2681 - val_accuracy: 0.9141\n",
            "Epoch 10/20\n",
            "6/6 [==============================] - 26s 4s/step - loss: 0.2922 - accuracy: 0.8958 - val_loss: 0.1941 - val_accuracy: 0.9571\n",
            "Epoch 11/20\n",
            "6/6 [==============================] - 23s 4s/step - loss: 0.3171 - accuracy: 0.8937 - val_loss: 0.2648 - val_accuracy: 0.9141\n",
            "Epoch 12/20\n",
            "6/6 [==============================] - 22s 4s/step - loss: 0.3558 - accuracy: 0.8984 - val_loss: 0.1639 - val_accuracy: 0.9571\n",
            "Epoch 13/20\n",
            "6/6 [==============================] - 28s 5s/step - loss: 0.2997 - accuracy: 0.9036 - val_loss: 0.2538 - val_accuracy: 0.9297\n",
            "Epoch 14/20\n",
            "6/6 [==============================] - 22s 4s/step - loss: 0.2882 - accuracy: 0.9170 - val_loss: 0.1561 - val_accuracy: 0.9714\n",
            "Epoch 15/20\n",
            "6/6 [==============================] - 24s 4s/step - loss: 0.2974 - accuracy: 0.9156 - val_loss: 0.1803 - val_accuracy: 0.9531\n",
            "Epoch 16/20\n",
            "6/6 [==============================] - 23s 4s/step - loss: 0.2960 - accuracy: 0.9227 - val_loss: 0.2586 - val_accuracy: 0.9429\n",
            "Epoch 17/20\n",
            "6/6 [==============================] - 23s 4s/step - loss: 0.3380 - accuracy: 0.8984 - val_loss: 0.1322 - val_accuracy: 0.9609\n",
            "Epoch 18/20\n",
            "6/6 [==============================] - 23s 4s/step - loss: 0.2892 - accuracy: 0.9213 - val_loss: 0.3299 - val_accuracy: 0.9286\n",
            "Epoch 19/20\n",
            "6/6 [==============================] - 25s 4s/step - loss: 0.3179 - accuracy: 0.9023 - val_loss: 0.1465 - val_accuracy: 0.9688\n",
            "Epoch 20/20\n",
            "6/6 [==============================] - 21s 3s/step - loss: 0.2914 - accuracy: 0.9170 - val_loss: 0.2853 - val_accuracy: 0.9143\n"
>>>>>>> ce4d0f0115cf14962eeef68ac97f64f034339110
          ],
          "name": "stdout"
        }
      ]
    },
    {
      "cell_type": "markdown",
      "metadata": {
        "id": "TX0ehct4isp6",
        "colab_type": "text"
      },
      "source": [
        "# Diagrams"
      ]
    },
    {
      "cell_type": "markdown",
      "metadata": {
        "id": "wkjTNmq6M5EE",
        "colab_type": "text"
      },
      "source": [
        "## Model Diagrams"
      ]
    },
    {
      "cell_type": "code",
      "metadata": {
        "id": "5Qk9sxznjbWb",
        "colab_type": "code",
        "colab": {
          "base_uri": "https://localhost:8080/",
          "height": 1000
        },
<<<<<<< HEAD
        "outputId": "c4c2cb67-340a-49f8-b565-91e1615970e9"
=======
        "outputId": "be09905a-568b-46ca-fa17-169b09efc671"
>>>>>>> ce4d0f0115cf14962eeef68ac97f64f034339110
      },
      "source": [
        "SVG(model_to_dot(model, show_shapes = False, show_layer_names=True, rankdir='HB', dpi = 72).create(prog='dot', format='svg'))"
      ],
<<<<<<< HEAD
      "execution_count": 98,
=======
      "execution_count": 24,
>>>>>>> ce4d0f0115cf14962eeef68ac97f64f034339110
      "outputs": [
        {
          "output_type": "execute_result",
          "data": {
            "text/plain": [
              "<IPython.core.display.SVG object>"
            ],
<<<<<<< HEAD
            "image/svg+xml": "<svg height=\"9243pt\" viewBox=\"0.00 0.00 646.50 9243.00\" width=\"647pt\" xmlns=\"http://www.w3.org/2000/svg\" xmlns:xlink=\"http://www.w3.org/1999/xlink\">\n<g class=\"graph\" id=\"graph0\" transform=\"scale(1 1) rotate(0) translate(4 9239)\">\n<title>G</title>\n<polygon fill=\"#ffffff\" points=\"-4,4 -4,-9239 642.5,-9239 642.5,4 -4,4\" stroke=\"transparent\"/>\n<!-- 140325443861528 -->\n<g class=\"node\" id=\"node1\">\n<title>140325443861528</title>\n<polygon fill=\"none\" points=\"178,-9198.5 178,-9234.5 311,-9234.5 311,-9198.5 178,-9198.5\" stroke=\"#000000\"/>\n<text fill=\"#000000\" font-family=\"Times,serif\" font-size=\"14.00\" text-anchor=\"middle\" x=\"244.5\" y=\"-9212.8\">input_3: InputLayer</text>\n</g>\n<!-- 140325443860576 -->\n<g class=\"node\" id=\"node2\">\n<title>140325443860576</title>\n<polygon fill=\"none\" points=\"165.5,-9125.5 165.5,-9161.5 323.5,-9161.5 323.5,-9125.5 165.5,-9125.5\" stroke=\"#000000\"/>\n<text fill=\"#000000\" font-family=\"Times,serif\" font-size=\"14.00\" text-anchor=\"middle\" x=\"244.5\" y=\"-9139.8\">block1_conv1: Conv2D</text>\n</g>\n<!-- 140325443861528&#45;&gt;140325443860576 -->\n<g class=\"edge\" id=\"edge1\">\n<title>140325443861528-&gt;140325443860576</title>\n<path d=\"M244.5,-9198.4551C244.5,-9190.3828 244.5,-9180.6764 244.5,-9171.6817\" fill=\"none\" stroke=\"#000000\"/>\n<polygon fill=\"#000000\" points=\"248.0001,-9171.5903 244.5,-9161.5904 241.0001,-9171.5904 248.0001,-9171.5903\" stroke=\"#000000\"/>\n</g>\n<!-- 140325443861024 -->\n<g class=\"node\" id=\"node3\">\n<title>140325443861024</title>\n<polygon fill=\"none\" points=\"122,-9052.5 122,-9088.5 367,-9088.5 367,-9052.5 122,-9052.5\" stroke=\"#000000\"/>\n<text fill=\"#000000\" font-family=\"Times,serif\" font-size=\"14.00\" text-anchor=\"middle\" x=\"244.5\" y=\"-9066.8\">block1_conv1_bn: BatchNormalization</text>\n</g>\n<!-- 140325443860576&#45;&gt;140325443861024 -->\n<g class=\"edge\" id=\"edge2\">\n<title>140325443860576-&gt;140325443861024</title>\n<path d=\"M244.5,-9125.4551C244.5,-9117.3828 244.5,-9107.6764 244.5,-9098.6817\" fill=\"none\" stroke=\"#000000\"/>\n<polygon fill=\"#000000\" points=\"248.0001,-9098.5903 244.5,-9088.5904 241.0001,-9098.5904 248.0001,-9098.5903\" stroke=\"#000000\"/>\n</g>\n<!-- 140325435131440 -->\n<g class=\"node\" id=\"node4\">\n<title>140325435131440</title>\n<polygon fill=\"none\" points=\"149.5,-8979.5 149.5,-9015.5 339.5,-9015.5 339.5,-8979.5 149.5,-8979.5\" stroke=\"#000000\"/>\n<text fill=\"#000000\" font-family=\"Times,serif\" font-size=\"14.00\" text-anchor=\"middle\" x=\"244.5\" y=\"-8993.8\">block1_conv1_act: Activation</text>\n</g>\n<!-- 140325443861024&#45;&gt;140325435131440 -->\n<g class=\"edge\" id=\"edge3\">\n<title>140325443861024-&gt;140325435131440</title>\n<path d=\"M244.5,-9052.4551C244.5,-9044.3828 244.5,-9034.6764 244.5,-9025.6817\" fill=\"none\" stroke=\"#000000\"/>\n<polygon fill=\"#000000\" points=\"248.0001,-9025.5903 244.5,-9015.5904 241.0001,-9025.5904 248.0001,-9025.5903\" stroke=\"#000000\"/>\n</g>\n<!-- 140325413874656 -->\n<g class=\"node\" id=\"node5\">\n<title>140325413874656</title>\n<polygon fill=\"none\" points=\"165.5,-8906.5 165.5,-8942.5 323.5,-8942.5 323.5,-8906.5 165.5,-8906.5\" stroke=\"#000000\"/>\n<text fill=\"#000000\" font-family=\"Times,serif\" font-size=\"14.00\" text-anchor=\"middle\" x=\"244.5\" y=\"-8920.8\">block1_conv2: Conv2D</text>\n</g>\n<!-- 140325435131440&#45;&gt;140325413874656 -->\n<g class=\"edge\" id=\"edge4\">\n<title>140325435131440-&gt;140325413874656</title>\n<path d=\"M244.5,-8979.4551C244.5,-8971.3828 244.5,-8961.6764 244.5,-8952.6817\" fill=\"none\" stroke=\"#000000\"/>\n<polygon fill=\"#000000\" points=\"248.0001,-8952.5903 244.5,-8942.5904 241.0001,-8952.5904 248.0001,-8952.5903\" stroke=\"#000000\"/>\n</g>\n<!-- 140325423331424 -->\n<g class=\"node\" id=\"node6\">\n<title>140325423331424</title>\n<polygon fill=\"none\" points=\"122,-8833.5 122,-8869.5 367,-8869.5 367,-8833.5 122,-8833.5\" stroke=\"#000000\"/>\n<text fill=\"#000000\" font-family=\"Times,serif\" font-size=\"14.00\" text-anchor=\"middle\" x=\"244.5\" y=\"-8847.8\">block1_conv2_bn: BatchNormalization</text>\n</g>\n<!-- 140325413874656&#45;&gt;140325423331424 -->\n<g class=\"edge\" id=\"edge5\">\n<title>140325413874656-&gt;140325423331424</title>\n<path d=\"M244.5,-8906.4551C244.5,-8898.3828 244.5,-8888.6764 244.5,-8879.6817\" fill=\"none\" stroke=\"#000000\"/>\n<polygon fill=\"#000000\" points=\"248.0001,-8879.5903 244.5,-8869.5904 241.0001,-8879.5904 248.0001,-8879.5903\" stroke=\"#000000\"/>\n</g>\n<!-- 140325423330192 -->\n<g class=\"node\" id=\"node7\">\n<title>140325423330192</title>\n<polygon fill=\"none\" points=\"149.5,-8760.5 149.5,-8796.5 339.5,-8796.5 339.5,-8760.5 149.5,-8760.5\" stroke=\"#000000\"/>\n<text fill=\"#000000\" font-family=\"Times,serif\" font-size=\"14.00\" text-anchor=\"middle\" x=\"244.5\" y=\"-8774.8\">block1_conv2_act: Activation</text>\n</g>\n<!-- 140325423331424&#45;&gt;140325423330192 -->\n<g class=\"edge\" id=\"edge6\">\n<title>140325423331424-&gt;140325423330192</title>\n<path d=\"M244.5,-8833.4551C244.5,-8825.3828 244.5,-8815.6764 244.5,-8806.6817\" fill=\"none\" stroke=\"#000000\"/>\n<polygon fill=\"#000000\" points=\"248.0001,-8806.5903 244.5,-8796.5904 241.0001,-8806.5904 248.0001,-8806.5903\" stroke=\"#000000\"/>\n</g>\n<!-- 140325422822568 -->\n<g class=\"node\" id=\"node8\">\n<title>140325422822568</title>\n<polygon fill=\"none\" points=\"56.5,-8687.5 56.5,-8723.5 288.5,-8723.5 288.5,-8687.5 56.5,-8687.5\" stroke=\"#000000\"/>\n<text fill=\"#000000\" font-family=\"Times,serif\" font-size=\"14.00\" text-anchor=\"middle\" x=\"172.5\" y=\"-8701.8\">block2_sepconv1: SeparableConv2D</text>\n</g>\n<!-- 140325423330192&#45;&gt;140325422822568 -->\n<g class=\"edge\" id=\"edge7\">\n<title>140325423330192-&gt;140325422822568</title>\n<path d=\"M226.7022,-8760.4551C217.8752,-8751.5054 207.0669,-8740.547 197.4307,-8730.7769\" fill=\"none\" stroke=\"#000000\"/>\n<polygon fill=\"#000000\" points=\"199.8566,-8728.2523 190.3425,-8723.5904 194.8728,-8733.1678 199.8566,-8728.2523\" stroke=\"#000000\"/>\n</g>\n<!-- 140325422753944 -->\n<g class=\"node\" id=\"node13\">\n<title>140325422753944</title>\n<polygon fill=\"none\" points=\"296,-8614.5 296,-8650.5 429,-8650.5 429,-8614.5 296,-8614.5\" stroke=\"#000000\"/>\n<text fill=\"#000000\" font-family=\"Times,serif\" font-size=\"14.00\" text-anchor=\"middle\" x=\"362.5\" y=\"-8628.8\">conv2d_9: Conv2D</text>\n</g>\n<!-- 140325423330192&#45;&gt;140325422753944 -->\n<g class=\"edge\" id=\"edge12\">\n<title>140325423330192-&gt;140325422753944</title>\n<path d=\"M263.3869,-8760.4961C273.8508,-8750.1794 286.8563,-8736.7772 297.5,-8724 314.9418,-8703.062 332.7253,-8677.6935 345.272,-8658.984\" fill=\"none\" stroke=\"#000000\"/>\n<polygon fill=\"#000000\" points=\"348.1972,-8660.9058 350.8168,-8650.6399 342.367,-8657.0315 348.1972,-8660.9058\" stroke=\"#000000\"/>\n</g>\n<!-- 140325422939104 -->\n<g class=\"node\" id=\"node9\">\n<title>140325422939104</title>\n<polygon fill=\"none\" points=\"5,-8614.5 5,-8650.5 268,-8650.5 268,-8614.5 5,-8614.5\" stroke=\"#000000\"/>\n<text fill=\"#000000\" font-family=\"Times,serif\" font-size=\"14.00\" text-anchor=\"middle\" x=\"136.5\" y=\"-8628.8\">block2_sepconv1_bn: BatchNormalization</text>\n</g>\n<!-- 140325422822568&#45;&gt;140325422939104 -->\n<g class=\"edge\" id=\"edge8\">\n<title>140325422822568-&gt;140325422939104</title>\n<path d=\"M163.6011,-8687.4551C159.4905,-8679.1196 154.5205,-8669.0416 149.9651,-8659.8042\" fill=\"none\" stroke=\"#000000\"/>\n<polygon fill=\"#000000\" points=\"152.9833,-8658.011 145.4213,-8650.5904 146.7052,-8661.1071 152.9833,-8658.011\" stroke=\"#000000\"/>\n</g>\n<!-- 140325422538368 -->\n<g class=\"node\" id=\"node10\">\n<title>140325422538368</title>\n<polygon fill=\"none\" points=\"11,-8541.5 11,-8577.5 220,-8577.5 220,-8541.5 11,-8541.5\" stroke=\"#000000\"/>\n<text fill=\"#000000\" font-family=\"Times,serif\" font-size=\"14.00\" text-anchor=\"middle\" x=\"115.5\" y=\"-8555.8\">block2_sepconv2_act: Activation</text>\n</g>\n<!-- 140325422939104&#45;&gt;140325422538368 -->\n<g class=\"edge\" id=\"edge9\">\n<title>140325422939104-&gt;140325422538368</title>\n<path d=\"M131.309,-8614.4551C128.9616,-8606.2951 126.1338,-8596.4652 123.5228,-8587.3887\" fill=\"none\" stroke=\"#000000\"/>\n<polygon fill=\"#000000\" points=\"126.8323,-8586.233 120.7041,-8577.5904 120.1052,-8588.1683 126.8323,-8586.233\" stroke=\"#000000\"/>\n</g>\n<!-- 140325422607048 -->\n<g class=\"node\" id=\"node11\">\n<title>140325422607048</title>\n<polygon fill=\"none\" points=\"23.5,-8468.5 23.5,-8504.5 255.5,-8504.5 255.5,-8468.5 23.5,-8468.5\" stroke=\"#000000\"/>\n<text fill=\"#000000\" font-family=\"Times,serif\" font-size=\"14.00\" text-anchor=\"middle\" x=\"139.5\" y=\"-8482.8\">block2_sepconv2: SeparableConv2D</text>\n</g>\n<!-- 140325422538368&#45;&gt;140325422607048 -->\n<g class=\"edge\" id=\"edge10\">\n<title>140325422538368-&gt;140325422607048</title>\n<path d=\"M121.4326,-8541.4551C124.1442,-8533.2074 127.4166,-8523.2536 130.4273,-8514.0962\" fill=\"none\" stroke=\"#000000\"/>\n<polygon fill=\"#000000\" points=\"133.7541,-8515.1833 133.5525,-8504.5904 127.1043,-8512.997 133.7541,-8515.1833\" stroke=\"#000000\"/>\n</g>\n<!-- 140325422700528 -->\n<g class=\"node\" id=\"node12\">\n<title>140325422700528</title>\n<polygon fill=\"none\" points=\"57,-8395.5 57,-8431.5 320,-8431.5 320,-8395.5 57,-8395.5\" stroke=\"#000000\"/>\n<text fill=\"#000000\" font-family=\"Times,serif\" font-size=\"14.00\" text-anchor=\"middle\" x=\"188.5\" y=\"-8409.8\">block2_sepconv2_bn: BatchNormalization</text>\n</g>\n<!-- 140325422607048&#45;&gt;140325422700528 -->\n<g class=\"edge\" id=\"edge11\">\n<title>140325422607048-&gt;140325422700528</title>\n<path d=\"M151.6124,-8468.4551C157.3841,-8459.8564 164.4005,-8449.4034 170.7582,-8439.9316\" fill=\"none\" stroke=\"#000000\"/>\n<polygon fill=\"#000000\" points=\"173.6899,-8441.844 176.3572,-8431.5904 167.8778,-8437.9427 173.6899,-8441.844\" stroke=\"#000000\"/>\n</g>\n<!-- 140325422287560 -->\n<g class=\"node\" id=\"node14\">\n<title>140325422287560</title>\n<polygon fill=\"none\" points=\"119.5,-8322.5 119.5,-8358.5 307.5,-8358.5 307.5,-8322.5 119.5,-8322.5\" stroke=\"#000000\"/>\n<text fill=\"#000000\" font-family=\"Times,serif\" font-size=\"14.00\" text-anchor=\"middle\" x=\"213.5\" y=\"-8336.8\">block2_pool: MaxPooling2D</text>\n</g>\n<!-- 140325422700528&#45;&gt;140325422287560 -->\n<g class=\"edge\" id=\"edge13\">\n<title>140325422700528-&gt;140325422287560</title>\n<path d=\"M194.6798,-8395.4551C197.5043,-8387.2074 200.9132,-8377.2536 204.0493,-8368.0962\" fill=\"none\" stroke=\"#000000\"/>\n<polygon fill=\"#000000\" points=\"207.3759,-8369.185 207.3047,-8358.5904 200.7535,-8366.917 207.3759,-8369.185\" stroke=\"#000000\"/>\n</g>\n<!-- 140325422824080 -->\n<g class=\"node\" id=\"node15\">\n<title>140325422824080</title>\n<polygon fill=\"none\" points=\"238,-8541.5 238,-8577.5 509,-8577.5 509,-8541.5 238,-8541.5\" stroke=\"#000000\"/>\n<text fill=\"#000000\" font-family=\"Times,serif\" font-size=\"14.00\" text-anchor=\"middle\" x=\"373.5\" y=\"-8555.8\">batch_normalization_9: BatchNormalization</text>\n</g>\n<!-- 140325422753944&#45;&gt;140325422824080 -->\n<g class=\"edge\" id=\"edge14\">\n<title>140325422753944-&gt;140325422824080</title>\n<path d=\"M365.2191,-8614.4551C366.4355,-8606.3828 367.8981,-8596.6764 369.2534,-8587.6817\" fill=\"none\" stroke=\"#000000\"/>\n<polygon fill=\"#000000\" points=\"372.7449,-8588.0003 370.7741,-8577.5904 365.823,-8586.9572 372.7449,-8588.0003\" stroke=\"#000000\"/>\n</g>\n<!-- 140325422286944 -->\n<g class=\"node\" id=\"node16\">\n<title>140325422286944</title>\n<polygon fill=\"none\" points=\"228.5,-8249.5 228.5,-8285.5 320.5,-8285.5 320.5,-8249.5 228.5,-8249.5\" stroke=\"#000000\"/>\n<text fill=\"#000000\" font-family=\"Times,serif\" font-size=\"14.00\" text-anchor=\"middle\" x=\"274.5\" y=\"-8263.8\">add_25: Add</text>\n</g>\n<!-- 140325422287560&#45;&gt;140325422286944 -->\n<g class=\"edge\" id=\"edge15\">\n<title>140325422287560-&gt;140325422286944</title>\n<path d=\"M228.5787,-8322.4551C235.9105,-8313.6809 244.8557,-8302.9759 252.8968,-8293.353\" fill=\"none\" stroke=\"#000000\"/>\n<polygon fill=\"#000000\" points=\"255.6569,-8295.5082 259.3834,-8285.5904 250.2854,-8291.0197 255.6569,-8295.5082\" stroke=\"#000000\"/>\n</g>\n<!-- 140325422824080&#45;&gt;140325422286944 -->\n<g class=\"edge\" id=\"edge16\">\n<title>140325422824080-&gt;140325422286944</title>\n<path d=\"M371.7629,-8541.361C367.297,-8500.4311 353.0872,-8398.5089 316.5,-8322 311.7354,-8312.0367 304.9344,-8302.1615 298.1892,-8293.6104\" fill=\"none\" stroke=\"#000000\"/>\n<polygon fill=\"#000000\" points=\"300.8653,-8291.3542 291.8076,-8285.8579 295.4608,-8295.803 300.8653,-8291.3542\" stroke=\"#000000\"/>\n</g>\n<!-- 140325421952752 -->\n<g class=\"node\" id=\"node17\">\n<title>140325421952752</title>\n<polygon fill=\"none\" points=\"104,-8176.5 104,-8212.5 313,-8212.5 313,-8176.5 104,-8176.5\" stroke=\"#000000\"/>\n<text fill=\"#000000\" font-family=\"Times,serif\" font-size=\"14.00\" text-anchor=\"middle\" x=\"208.5\" y=\"-8190.8\">block3_sepconv1_act: Activation</text>\n</g>\n<!-- 140325422286944&#45;&gt;140325421952752 -->\n<g class=\"edge\" id=\"edge17\">\n<title>140325422286944-&gt;140325421952752</title>\n<path d=\"M258.1854,-8249.4551C250.1733,-8240.5932 240.3804,-8229.7616 231.6132,-8220.0646\" fill=\"none\" stroke=\"#000000\"/>\n<polygon fill=\"#000000\" points=\"234.1584,-8217.6609 224.8557,-8212.5904 228.9659,-8222.3554 234.1584,-8217.6609\" stroke=\"#000000\"/>\n</g>\n<!-- 140325422288680 -->\n<g class=\"node\" id=\"node23\">\n<title>140325422288680</title>\n<polygon fill=\"none\" points=\"328.5,-8103.5 328.5,-8139.5 468.5,-8139.5 468.5,-8103.5 328.5,-8103.5\" stroke=\"#000000\"/>\n<text fill=\"#000000\" font-family=\"Times,serif\" font-size=\"14.00\" text-anchor=\"middle\" x=\"398.5\" y=\"-8117.8\">conv2d_10: Conv2D</text>\n</g>\n<!-- 140325422286944&#45;&gt;140325422288680 -->\n<g class=\"edge\" id=\"edge23\">\n<title>140325422286944-&gt;140325422288680</title>\n<path d=\"M290.2217,-8249.3805C299.3789,-8238.799 311.1289,-8225.174 321.5,-8213 340.181,-8191.0715 361.2313,-8166.0345 376.5949,-8147.7002\" fill=\"none\" stroke=\"#000000\"/>\n<polygon fill=\"#000000\" points=\"379.4878,-8149.6971 383.2248,-8139.7832 374.121,-8145.2029 379.4878,-8149.6971\" stroke=\"#000000\"/>\n</g>\n<!-- 140325421975088 -->\n<g class=\"node\" id=\"node18\">\n<title>140325421975088</title>\n<polygon fill=\"none\" points=\"57.5,-8103.5 57.5,-8139.5 289.5,-8139.5 289.5,-8103.5 57.5,-8103.5\" stroke=\"#000000\"/>\n<text fill=\"#000000\" font-family=\"Times,serif\" font-size=\"14.00\" text-anchor=\"middle\" x=\"173.5\" y=\"-8117.8\">block3_sepconv1: SeparableConv2D</text>\n</g>\n<!-- 140325421952752&#45;&gt;140325421975088 -->\n<g class=\"edge\" id=\"edge18\">\n<title>140325421952752-&gt;140325421975088</title>\n<path d=\"M199.8483,-8176.4551C195.8519,-8168.1196 191.0199,-8158.0416 186.591,-8148.8042\" fill=\"none\" stroke=\"#000000\"/>\n<polygon fill=\"#000000\" points=\"189.6528,-8147.0944 182.1735,-8139.5904 183.3408,-8150.1207 189.6528,-8147.0944\" stroke=\"#000000\"/>\n</g>\n<!-- 140325422053528 -->\n<g class=\"node\" id=\"node19\">\n<title>140325422053528</title>\n<polygon fill=\"none\" points=\"0,-8030.5 0,-8066.5 263,-8066.5 263,-8030.5 0,-8030.5\" stroke=\"#000000\"/>\n<text fill=\"#000000\" font-family=\"Times,serif\" font-size=\"14.00\" text-anchor=\"middle\" x=\"131.5\" y=\"-8044.8\">block3_sepconv1_bn: BatchNormalization</text>\n</g>\n<!-- 140325421975088&#45;&gt;140325422053528 -->\n<g class=\"edge\" id=\"edge19\">\n<title>140325421975088-&gt;140325422053528</title>\n<path d=\"M163.118,-8103.4551C158.2718,-8095.0319 152.4018,-8084.8292 147.0416,-8075.5128\" fill=\"none\" stroke=\"#000000\"/>\n<polygon fill=\"#000000\" points=\"149.9289,-8073.5127 141.9082,-8066.5904 143.8614,-8077.0036 149.9289,-8073.5127\" stroke=\"#000000\"/>\n</g>\n<!-- 140325422164232 -->\n<g class=\"node\" id=\"node20\">\n<title>140325422164232</title>\n<polygon fill=\"none\" points=\"91,-7957.5 91,-7993.5 300,-7993.5 300,-7957.5 91,-7957.5\" stroke=\"#000000\"/>\n<text fill=\"#000000\" font-family=\"Times,serif\" font-size=\"14.00\" text-anchor=\"middle\" x=\"195.5\" y=\"-7971.8\">block3_sepconv2_act: Activation</text>\n</g>\n<!-- 140325422053528&#45;&gt;140325422164232 -->\n<g class=\"edge\" id=\"edge20\">\n<title>140325422053528-&gt;140325422164232</title>\n<path d=\"M147.3202,-8030.4551C155.0126,-8021.6809 164.3978,-8010.9759 172.8344,-8001.353\" fill=\"none\" stroke=\"#000000\"/>\n<polygon fill=\"#000000\" points=\"175.6794,-8003.4171 179.64,-7993.5904 170.4158,-7998.8024 175.6794,-8003.4171\" stroke=\"#000000\"/>\n</g>\n<!-- 140325422164120 -->\n<g class=\"node\" id=\"node21\">\n<title>140325422164120</title>\n<polygon fill=\"none\" points=\"111.5,-7884.5 111.5,-7920.5 343.5,-7920.5 343.5,-7884.5 111.5,-7884.5\" stroke=\"#000000\"/>\n<text fill=\"#000000\" font-family=\"Times,serif\" font-size=\"14.00\" text-anchor=\"middle\" x=\"227.5\" y=\"-7898.8\">block3_sepconv2: SeparableConv2D</text>\n</g>\n<!-- 140325422164232&#45;&gt;140325422164120 -->\n<g class=\"edge\" id=\"edge21\">\n<title>140325422164232-&gt;140325422164120</title>\n<path d=\"M203.4101,-7957.4551C207.064,-7949.1196 211.4818,-7939.0416 215.531,-7929.8042\" fill=\"none\" stroke=\"#000000\"/>\n<polygon fill=\"#000000\" points=\"218.7607,-7931.1542 219.57,-7920.5904 212.3496,-7928.3439 218.7607,-7931.1542\" stroke=\"#000000\"/>\n</g>\n<!-- 140325421660424 -->\n<g class=\"node\" id=\"node22\">\n<title>140325421660424</title>\n<polygon fill=\"none\" points=\"112,-7811.5 112,-7847.5 375,-7847.5 375,-7811.5 112,-7811.5\" stroke=\"#000000\"/>\n<text fill=\"#000000\" font-family=\"Times,serif\" font-size=\"14.00\" text-anchor=\"middle\" x=\"243.5\" y=\"-7825.8\">block3_sepconv2_bn: BatchNormalization</text>\n</g>\n<!-- 140325422164120&#45;&gt;140325421660424 -->\n<g class=\"edge\" id=\"edge22\">\n<title>140325422164120-&gt;140325421660424</title>\n<path d=\"M231.4551,-7884.4551C233.2435,-7876.2951 235.398,-7866.4652 237.3874,-7857.3887\" fill=\"none\" stroke=\"#000000\"/>\n<polygon fill=\"#000000\" points=\"240.8128,-7858.1079 239.535,-7847.5904 233.9751,-7856.6091 240.8128,-7858.1079\" stroke=\"#000000\"/>\n</g>\n<!-- 140325421842328 -->\n<g class=\"node\" id=\"node24\">\n<title>140325421842328</title>\n<polygon fill=\"none\" points=\"176.5,-7738.5 176.5,-7774.5 364.5,-7774.5 364.5,-7738.5 176.5,-7738.5\" stroke=\"#000000\"/>\n<text fill=\"#000000\" font-family=\"Times,serif\" font-size=\"14.00\" text-anchor=\"middle\" x=\"270.5\" y=\"-7752.8\">block3_pool: MaxPooling2D</text>\n</g>\n<!-- 140325421660424&#45;&gt;140325421842328 -->\n<g class=\"edge\" id=\"edge24\">\n<title>140325421660424-&gt;140325421842328</title>\n<path d=\"M250.1742,-7811.4551C253.2247,-7803.2074 256.9062,-7793.2536 260.2932,-7784.0962\" fill=\"none\" stroke=\"#000000\"/>\n<polygon fill=\"#000000\" points=\"263.6227,-7785.1836 263.809,-7774.5904 257.0574,-7782.7552 263.6227,-7785.1836\" stroke=\"#000000\"/>\n</g>\n<!-- 140325422390800 -->\n<g class=\"node\" id=\"node25\">\n<title>140325422390800</title>\n<polygon fill=\"none\" points=\"281.5,-8030.5 281.5,-8066.5 559.5,-8066.5 559.5,-8030.5 281.5,-8030.5\" stroke=\"#000000\"/>\n<text fill=\"#000000\" font-family=\"Times,serif\" font-size=\"14.00\" text-anchor=\"middle\" x=\"420.5\" y=\"-8044.8\">batch_normalization_10: BatchNormalization</text>\n</g>\n<!-- 140325422288680&#45;&gt;140325422390800 -->\n<g class=\"edge\" id=\"edge25\">\n<title>140325422288680-&gt;140325422390800</title>\n<path d=\"M403.9382,-8103.4551C406.3974,-8095.2951 409.3598,-8085.4652 412.0952,-8076.3887\" fill=\"none\" stroke=\"#000000\"/>\n<polygon fill=\"#000000\" points=\"415.5137,-8077.175 415.0481,-8066.5904 408.8114,-8075.1551 415.5137,-8077.175\" stroke=\"#000000\"/>\n</g>\n<!-- 140325421868032 -->\n<g class=\"node\" id=\"node26\">\n<title>140325421868032</title>\n<polygon fill=\"none\" points=\"285.5,-7665.5 285.5,-7701.5 377.5,-7701.5 377.5,-7665.5 285.5,-7665.5\" stroke=\"#000000\"/>\n<text fill=\"#000000\" font-family=\"Times,serif\" font-size=\"14.00\" text-anchor=\"middle\" x=\"331.5\" y=\"-7679.8\">add_26: Add</text>\n</g>\n<!-- 140325421842328&#45;&gt;140325421868032 -->\n<g class=\"edge\" id=\"edge26\">\n<title>140325421842328-&gt;140325421868032</title>\n<path d=\"M285.5787,-7738.4551C292.9105,-7729.6809 301.8557,-7718.9759 309.8968,-7709.353\" fill=\"none\" stroke=\"#000000\"/>\n<polygon fill=\"#000000\" points=\"312.6569,-7711.5082 316.3834,-7701.5904 307.2854,-7707.0197 312.6569,-7711.5082\" stroke=\"#000000\"/>\n</g>\n<!-- 140325422390800&#45;&gt;140325421868032 -->\n<g class=\"edge\" id=\"edge27\">\n<title>140325422390800-&gt;140325421868032</title>\n<path d=\"M418.6352,-8030.0845C415.999,-8002.4173 411.5,-7948.4656 411.5,-7902.5 411.5,-7902.5 411.5,-7902.5 411.5,-7829.5 411.5,-7782.6749 379.4608,-7736.6441 355.9339,-7709.1553\" fill=\"none\" stroke=\"#000000\"/>\n<polygon fill=\"#000000\" points=\"358.4914,-7706.7635 349.2546,-7701.5739 353.239,-7711.391 358.4914,-7706.7635\" stroke=\"#000000\"/>\n</g>\n<!-- 140325421465160 -->\n<g class=\"node\" id=\"node27\">\n<title>140325421465160</title>\n<polygon fill=\"none\" points=\"161,-7592.5 161,-7628.5 370,-7628.5 370,-7592.5 161,-7592.5\" stroke=\"#000000\"/>\n<text fill=\"#000000\" font-family=\"Times,serif\" font-size=\"14.00\" text-anchor=\"middle\" x=\"265.5\" y=\"-7606.8\">block4_sepconv1_act: Activation</text>\n</g>\n<!-- 140325421868032&#45;&gt;140325421465160 -->\n<g class=\"edge\" id=\"edge28\">\n<title>140325421868032-&gt;140325421465160</title>\n<path d=\"M315.1854,-7665.4551C307.1733,-7656.5932 297.3804,-7645.7616 288.6132,-7636.0646\" fill=\"none\" stroke=\"#000000\"/>\n<polygon fill=\"#000000\" points=\"291.1584,-7633.6609 281.8557,-7628.5904 285.9659,-7638.3554 291.1584,-7633.6609\" stroke=\"#000000\"/>\n</g>\n<!-- 140325421870048 -->\n<g class=\"node\" id=\"node33\">\n<title>140325421870048</title>\n<polygon fill=\"none\" points=\"385.5,-7519.5 385.5,-7555.5 525.5,-7555.5 525.5,-7519.5 385.5,-7519.5\" stroke=\"#000000\"/>\n<text fill=\"#000000\" font-family=\"Times,serif\" font-size=\"14.00\" text-anchor=\"middle\" x=\"455.5\" y=\"-7533.8\">conv2d_11: Conv2D</text>\n</g>\n<!-- 140325421868032&#45;&gt;140325421870048 -->\n<g class=\"edge\" id=\"edge34\">\n<title>140325421868032-&gt;140325421870048</title>\n<path d=\"M347.2217,-7665.3805C356.3789,-7654.799 368.1289,-7641.174 378.5,-7629 397.181,-7607.0715 418.2313,-7582.0345 433.5949,-7563.7002\" fill=\"none\" stroke=\"#000000\"/>\n<polygon fill=\"#000000\" points=\"436.4878,-7565.6971 440.2248,-7555.7832 431.121,-7561.2029 436.4878,-7565.6971\" stroke=\"#000000\"/>\n</g>\n<!-- 140325421526768 -->\n<g class=\"node\" id=\"node28\">\n<title>140325421526768</title>\n<polygon fill=\"none\" points=\"114.5,-7519.5 114.5,-7555.5 346.5,-7555.5 346.5,-7519.5 114.5,-7519.5\" stroke=\"#000000\"/>\n<text fill=\"#000000\" font-family=\"Times,serif\" font-size=\"14.00\" text-anchor=\"middle\" x=\"230.5\" y=\"-7533.8\">block4_sepconv1: SeparableConv2D</text>\n</g>\n<!-- 140325421465160&#45;&gt;140325421526768 -->\n<g class=\"edge\" id=\"edge29\">\n<title>140325421465160-&gt;140325421526768</title>\n<path d=\"M256.8483,-7592.4551C252.8519,-7584.1196 248.0199,-7574.0416 243.591,-7564.8042\" fill=\"none\" stroke=\"#000000\"/>\n<polygon fill=\"#000000\" points=\"246.6528,-7563.0944 239.1735,-7555.5904 240.3408,-7566.1207 246.6528,-7563.0944\" stroke=\"#000000\"/>\n</g>\n<!-- 140325421556120 -->\n<g class=\"node\" id=\"node29\">\n<title>140325421556120</title>\n<polygon fill=\"none\" points=\"57,-7446.5 57,-7482.5 320,-7482.5 320,-7446.5 57,-7446.5\" stroke=\"#000000\"/>\n<text fill=\"#000000\" font-family=\"Times,serif\" font-size=\"14.00\" text-anchor=\"middle\" x=\"188.5\" y=\"-7460.8\">block4_sepconv1_bn: BatchNormalization</text>\n</g>\n<!-- 140325421526768&#45;&gt;140325421556120 -->\n<g class=\"edge\" id=\"edge30\">\n<title>140325421526768-&gt;140325421556120</title>\n<path d=\"M220.118,-7519.4551C215.2718,-7511.0319 209.4018,-7500.8292 204.0416,-7491.5128\" fill=\"none\" stroke=\"#000000\"/>\n<polygon fill=\"#000000\" points=\"206.9289,-7489.5127 198.9082,-7482.5904 200.8614,-7493.0036 206.9289,-7489.5127\" stroke=\"#000000\"/>\n</g>\n<!-- 140325421159368 -->\n<g class=\"node\" id=\"node30\">\n<title>140325421159368</title>\n<polygon fill=\"none\" points=\"148,-7373.5 148,-7409.5 357,-7409.5 357,-7373.5 148,-7373.5\" stroke=\"#000000\"/>\n<text fill=\"#000000\" font-family=\"Times,serif\" font-size=\"14.00\" text-anchor=\"middle\" x=\"252.5\" y=\"-7387.8\">block4_sepconv2_act: Activation</text>\n</g>\n<!-- 140325421556120&#45;&gt;140325421159368 -->\n<g class=\"edge\" id=\"edge31\">\n<title>140325421556120-&gt;140325421159368</title>\n<path d=\"M204.3202,-7446.4551C212.0126,-7437.6809 221.3978,-7426.9759 229.8344,-7417.353\" fill=\"none\" stroke=\"#000000\"/>\n<polygon fill=\"#000000\" points=\"232.6794,-7419.4171 236.64,-7409.5904 227.4158,-7414.8024 232.6794,-7419.4171\" stroke=\"#000000\"/>\n</g>\n<!-- 140325421227480 -->\n<g class=\"node\" id=\"node31\">\n<title>140325421227480</title>\n<polygon fill=\"none\" points=\"168.5,-7300.5 168.5,-7336.5 400.5,-7336.5 400.5,-7300.5 168.5,-7300.5\" stroke=\"#000000\"/>\n<text fill=\"#000000\" font-family=\"Times,serif\" font-size=\"14.00\" text-anchor=\"middle\" x=\"284.5\" y=\"-7314.8\">block4_sepconv2: SeparableConv2D</text>\n</g>\n<!-- 140325421159368&#45;&gt;140325421227480 -->\n<g class=\"edge\" id=\"edge32\">\n<title>140325421159368-&gt;140325421227480</title>\n<path d=\"M260.4101,-7373.4551C264.064,-7365.1196 268.4818,-7355.0416 272.531,-7345.8042\" fill=\"none\" stroke=\"#000000\"/>\n<polygon fill=\"#000000\" points=\"275.7607,-7347.1542 276.57,-7336.5904 269.3496,-7344.3439 275.7607,-7347.1542\" stroke=\"#000000\"/>\n</g>\n<!-- 140325421300816 -->\n<g class=\"node\" id=\"node32\">\n<title>140325421300816</title>\n<polygon fill=\"none\" points=\"169,-7227.5 169,-7263.5 432,-7263.5 432,-7227.5 169,-7227.5\" stroke=\"#000000\"/>\n<text fill=\"#000000\" font-family=\"Times,serif\" font-size=\"14.00\" text-anchor=\"middle\" x=\"300.5\" y=\"-7241.8\">block4_sepconv2_bn: BatchNormalization</text>\n</g>\n<!-- 140325421227480&#45;&gt;140325421300816 -->\n<g class=\"edge\" id=\"edge33\">\n<title>140325421227480-&gt;140325421300816</title>\n<path d=\"M288.4551,-7300.4551C290.2435,-7292.2951 292.398,-7282.4652 294.3874,-7273.3887\" fill=\"none\" stroke=\"#000000\"/>\n<polygon fill=\"#000000\" points=\"297.8128,-7274.1079 296.535,-7263.5904 290.9751,-7272.6091 297.8128,-7274.1079\" stroke=\"#000000\"/>\n</g>\n<!-- 140325420883584 -->\n<g class=\"node\" id=\"node34\">\n<title>140325420883584</title>\n<polygon fill=\"none\" points=\"233.5,-7154.5 233.5,-7190.5 421.5,-7190.5 421.5,-7154.5 233.5,-7154.5\" stroke=\"#000000\"/>\n<text fill=\"#000000\" font-family=\"Times,serif\" font-size=\"14.00\" text-anchor=\"middle\" x=\"327.5\" y=\"-7168.8\">block4_pool: MaxPooling2D</text>\n</g>\n<!-- 140325421300816&#45;&gt;140325420883584 -->\n<g class=\"edge\" id=\"edge35\">\n<title>140325421300816-&gt;140325420883584</title>\n<path d=\"M307.1742,-7227.4551C310.2247,-7219.2074 313.9062,-7209.2536 317.2932,-7200.0962\" fill=\"none\" stroke=\"#000000\"/>\n<polygon fill=\"#000000\" points=\"320.6227,-7201.1836 320.809,-7190.5904 314.0574,-7198.7552 320.6227,-7201.1836\" stroke=\"#000000\"/>\n</g>\n<!-- 140325421428920 -->\n<g class=\"node\" id=\"node35\">\n<title>140325421428920</title>\n<polygon fill=\"none\" points=\"338.5,-7446.5 338.5,-7482.5 616.5,-7482.5 616.5,-7446.5 338.5,-7446.5\" stroke=\"#000000\"/>\n<text fill=\"#000000\" font-family=\"Times,serif\" font-size=\"14.00\" text-anchor=\"middle\" x=\"477.5\" y=\"-7460.8\">batch_normalization_11: BatchNormalization</text>\n</g>\n<!-- 140325421870048&#45;&gt;140325421428920 -->\n<g class=\"edge\" id=\"edge36\">\n<title>140325421870048-&gt;140325421428920</title>\n<path d=\"M460.9382,-7519.4551C463.3974,-7511.2951 466.3598,-7501.4652 469.0952,-7492.3887\" fill=\"none\" stroke=\"#000000\"/>\n<polygon fill=\"#000000\" points=\"472.5137,-7493.175 472.0481,-7482.5904 465.8114,-7491.1551 472.5137,-7493.175\" stroke=\"#000000\"/>\n</g>\n<!-- 140325420883696 -->\n<g class=\"node\" id=\"node36\">\n<title>140325420883696</title>\n<polygon fill=\"none\" points=\"342.5,-7081.5 342.5,-7117.5 434.5,-7117.5 434.5,-7081.5 342.5,-7081.5\" stroke=\"#000000\"/>\n<text fill=\"#000000\" font-family=\"Times,serif\" font-size=\"14.00\" text-anchor=\"middle\" x=\"388.5\" y=\"-7095.8\">add_27: Add</text>\n</g>\n<!-- 140325420883584&#45;&gt;140325420883696 -->\n<g class=\"edge\" id=\"edge37\">\n<title>140325420883584-&gt;140325420883696</title>\n<path d=\"M342.5787,-7154.4551C349.9105,-7145.6809 358.8557,-7134.9759 366.8968,-7125.353\" fill=\"none\" stroke=\"#000000\"/>\n<polygon fill=\"#000000\" points=\"369.6569,-7127.5082 373.3834,-7117.5904 364.2854,-7123.0197 369.6569,-7127.5082\" stroke=\"#000000\"/>\n</g>\n<!-- 140325421428920&#45;&gt;140325420883696 -->\n<g class=\"edge\" id=\"edge38\">\n<title>140325421428920-&gt;140325420883696</title>\n<path d=\"M475.6352,-7446.0845C472.999,-7418.4173 468.5,-7364.4656 468.5,-7318.5 468.5,-7318.5 468.5,-7318.5 468.5,-7245.5 468.5,-7198.6749 436.4608,-7152.6441 412.9339,-7125.1553\" fill=\"none\" stroke=\"#000000\"/>\n<polygon fill=\"#000000\" points=\"415.4914,-7122.7635 406.2546,-7117.5739 410.239,-7127.391 415.4914,-7122.7635\" stroke=\"#000000\"/>\n</g>\n<!-- 140325420912256 -->\n<g class=\"node\" id=\"node37\">\n<title>140325420912256</title>\n<polygon fill=\"none\" points=\"218,-7008.5 218,-7044.5 427,-7044.5 427,-7008.5 218,-7008.5\" stroke=\"#000000\"/>\n<text fill=\"#000000\" font-family=\"Times,serif\" font-size=\"14.00\" text-anchor=\"middle\" x=\"322.5\" y=\"-7022.8\">block5_sepconv1_act: Activation</text>\n</g>\n<!-- 140325420883696&#45;&gt;140325420912256 -->\n<g class=\"edge\" id=\"edge39\">\n<title>140325420883696-&gt;140325420912256</title>\n<path d=\"M372.1854,-7081.4551C364.1733,-7072.5932 354.3804,-7061.7616 345.6132,-7052.0646\" fill=\"none\" stroke=\"#000000\"/>\n<polygon fill=\"#000000\" points=\"348.1584,-7049.6609 338.8557,-7044.5904 342.9659,-7054.3554 348.1584,-7049.6609\" stroke=\"#000000\"/>\n</g>\n<!-- 140325420469776 -->\n<g class=\"node\" id=\"node46\">\n<title>140325420469776</title>\n<polygon fill=\"none\" points=\"338.5,-6351.5 338.5,-6387.5 430.5,-6387.5 430.5,-6351.5 338.5,-6351.5\" stroke=\"#000000\"/>\n<text fill=\"#000000\" font-family=\"Times,serif\" font-size=\"14.00\" text-anchor=\"middle\" x=\"384.5\" y=\"-6365.8\">add_28: Add</text>\n</g>\n<!-- 140325420883696&#45;&gt;140325420469776 -->\n<g class=\"edge\" id=\"edge49\">\n<title>140325420883696-&gt;140325420469776</title>\n<path d=\"M408.0193,-7081.373C417.7442,-7071.4354 428.9973,-7058.4283 436.5,-7045 457.2433,-7007.8737 464.5,-6996.0281 464.5,-6953.5 464.5,-6953.5 464.5,-6953.5 464.5,-6515.5 464.5,-6473.9658 466.252,-6459.9784 445.5,-6424 438.9494,-6412.643 429.1903,-6402.3894 419.3888,-6393.9205\" fill=\"none\" stroke=\"#000000\"/>\n<polygon fill=\"#000000\" points=\"421.5335,-6391.153 411.5795,-6387.5242 417.098,-6396.5684 421.5335,-6391.153\" stroke=\"#000000\"/>\n</g>\n<!-- 140325420908952 -->\n<g class=\"node\" id=\"node38\">\n<title>140325420908952</title>\n<polygon fill=\"none\" points=\"196.5,-6935.5 196.5,-6971.5 428.5,-6971.5 428.5,-6935.5 196.5,-6935.5\" stroke=\"#000000\"/>\n<text fill=\"#000000\" font-family=\"Times,serif\" font-size=\"14.00\" text-anchor=\"middle\" x=\"312.5\" y=\"-6949.8\">block5_sepconv1: SeparableConv2D</text>\n</g>\n<!-- 140325420912256&#45;&gt;140325420908952 -->\n<g class=\"edge\" id=\"edge40\">\n<title>140325420912256-&gt;140325420908952</title>\n<path d=\"M320.0281,-7008.4551C318.9223,-7000.3828 317.5927,-6990.6764 316.3605,-6981.6817\" fill=\"none\" stroke=\"#000000\"/>\n<polygon fill=\"#000000\" points=\"319.803,-6981.0228 314.9781,-6971.5904 312.8678,-6981.9729 319.803,-6981.0228\" stroke=\"#000000\"/>\n</g>\n<!-- 140325421037888 -->\n<g class=\"node\" id=\"node39\">\n<title>140325421037888</title>\n<polygon fill=\"none\" points=\"173,-6862.5 173,-6898.5 436,-6898.5 436,-6862.5 173,-6862.5\" stroke=\"#000000\"/>\n<text fill=\"#000000\" font-family=\"Times,serif\" font-size=\"14.00\" text-anchor=\"middle\" x=\"304.5\" y=\"-6876.8\">block5_sepconv1_bn: BatchNormalization</text>\n</g>\n<!-- 140325420908952&#45;&gt;140325421037888 -->\n<g class=\"edge\" id=\"edge41\">\n<title>140325420908952-&gt;140325421037888</title>\n<path d=\"M310.5225,-6935.4551C309.6378,-6927.3828 308.5741,-6917.6764 307.5884,-6908.6817\" fill=\"none\" stroke=\"#000000\"/>\n<polygon fill=\"#000000\" points=\"311.0511,-6908.1495 306.4825,-6898.5904 304.0928,-6908.9122 311.0511,-6908.1495\" stroke=\"#000000\"/>\n</g>\n<!-- 140325421104376 -->\n<g class=\"node\" id=\"node40\">\n<title>140325421104376</title>\n<polygon fill=\"none\" points=\"200,-6789.5 200,-6825.5 409,-6825.5 409,-6789.5 200,-6789.5\" stroke=\"#000000\"/>\n<text fill=\"#000000\" font-family=\"Times,serif\" font-size=\"14.00\" text-anchor=\"middle\" x=\"304.5\" y=\"-6803.8\">block5_sepconv2_act: Activation</text>\n</g>\n<!-- 140325421037888&#45;&gt;140325421104376 -->\n<g class=\"edge\" id=\"edge42\">\n<title>140325421037888-&gt;140325421104376</title>\n<path d=\"M304.5,-6862.4551C304.5,-6854.3828 304.5,-6844.6764 304.5,-6835.6817\" fill=\"none\" stroke=\"#000000\"/>\n<polygon fill=\"#000000\" points=\"308.0001,-6835.5903 304.5,-6825.5904 301.0001,-6835.5904 308.0001,-6835.5903\" stroke=\"#000000\"/>\n</g>\n<!-- 140325421104488 -->\n<g class=\"node\" id=\"node41\">\n<title>140325421104488</title>\n<polygon fill=\"none\" points=\"188.5,-6716.5 188.5,-6752.5 420.5,-6752.5 420.5,-6716.5 188.5,-6716.5\" stroke=\"#000000\"/>\n<text fill=\"#000000\" font-family=\"Times,serif\" font-size=\"14.00\" text-anchor=\"middle\" x=\"304.5\" y=\"-6730.8\">block5_sepconv2: SeparableConv2D</text>\n</g>\n<!-- 140325421104376&#45;&gt;140325421104488 -->\n<g class=\"edge\" id=\"edge43\">\n<title>140325421104376-&gt;140325421104488</title>\n<path d=\"M304.5,-6789.4551C304.5,-6781.3828 304.5,-6771.6764 304.5,-6762.6817\" fill=\"none\" stroke=\"#000000\"/>\n<polygon fill=\"#000000\" points=\"308.0001,-6762.5903 304.5,-6752.5904 301.0001,-6762.5904 308.0001,-6762.5903\" stroke=\"#000000\"/>\n</g>\n<!-- 140325420681088 -->\n<g class=\"node\" id=\"node42\">\n<title>140325420681088</title>\n<polygon fill=\"none\" points=\"173,-6643.5 173,-6679.5 436,-6679.5 436,-6643.5 173,-6643.5\" stroke=\"#000000\"/>\n<text fill=\"#000000\" font-family=\"Times,serif\" font-size=\"14.00\" text-anchor=\"middle\" x=\"304.5\" y=\"-6657.8\">block5_sepconv2_bn: BatchNormalization</text>\n</g>\n<!-- 140325421104488&#45;&gt;140325420681088 -->\n<g class=\"edge\" id=\"edge44\">\n<title>140325421104488-&gt;140325420681088</title>\n<path d=\"M304.5,-6716.4551C304.5,-6708.3828 304.5,-6698.6764 304.5,-6689.6817\" fill=\"none\" stroke=\"#000000\"/>\n<polygon fill=\"#000000\" points=\"308.0001,-6689.5903 304.5,-6679.5904 301.0001,-6689.5904 308.0001,-6689.5903\" stroke=\"#000000\"/>\n</g>\n<!-- 140325420804696 -->\n<g class=\"node\" id=\"node43\">\n<title>140325420804696</title>\n<polygon fill=\"none\" points=\"200,-6570.5 200,-6606.5 409,-6606.5 409,-6570.5 200,-6570.5\" stroke=\"#000000\"/>\n<text fill=\"#000000\" font-family=\"Times,serif\" font-size=\"14.00\" text-anchor=\"middle\" x=\"304.5\" y=\"-6584.8\">block5_sepconv3_act: Activation</text>\n</g>\n<!-- 140325420681088&#45;&gt;140325420804696 -->\n<g class=\"edge\" id=\"edge45\">\n<title>140325420681088-&gt;140325420804696</title>\n<path d=\"M304.5,-6643.4551C304.5,-6635.3828 304.5,-6625.6764 304.5,-6616.6817\" fill=\"none\" stroke=\"#000000\"/>\n<polygon fill=\"#000000\" points=\"308.0001,-6616.5903 304.5,-6606.5904 301.0001,-6616.5904 308.0001,-6616.5903\" stroke=\"#000000\"/>\n</g>\n<!-- 140325420803968 -->\n<g class=\"node\" id=\"node44\">\n<title>140325420803968</title>\n<polygon fill=\"none\" points=\"188.5,-6497.5 188.5,-6533.5 420.5,-6533.5 420.5,-6497.5 188.5,-6497.5\" stroke=\"#000000\"/>\n<text fill=\"#000000\" font-family=\"Times,serif\" font-size=\"14.00\" text-anchor=\"middle\" x=\"304.5\" y=\"-6511.8\">block5_sepconv3: SeparableConv2D</text>\n</g>\n<!-- 140325420804696&#45;&gt;140325420803968 -->\n<g class=\"edge\" id=\"edge46\">\n<title>140325420804696-&gt;140325420803968</title>\n<path d=\"M304.5,-6570.4551C304.5,-6562.3828 304.5,-6552.6764 304.5,-6543.6817\" fill=\"none\" stroke=\"#000000\"/>\n<polygon fill=\"#000000\" points=\"308.0001,-6543.5903 304.5,-6533.5904 301.0001,-6543.5904 308.0001,-6543.5903\" stroke=\"#000000\"/>\n</g>\n<!-- 140325420814408 -->\n<g class=\"node\" id=\"node45\">\n<title>140325420814408</title>\n<polygon fill=\"none\" points=\"173,-6424.5 173,-6460.5 436,-6460.5 436,-6424.5 173,-6424.5\" stroke=\"#000000\"/>\n<text fill=\"#000000\" font-family=\"Times,serif\" font-size=\"14.00\" text-anchor=\"middle\" x=\"304.5\" y=\"-6438.8\">block5_sepconv3_bn: BatchNormalization</text>\n</g>\n<!-- 140325420803968&#45;&gt;140325420814408 -->\n<g class=\"edge\" id=\"edge47\">\n<title>140325420803968-&gt;140325420814408</title>\n<path d=\"M304.5,-6497.4551C304.5,-6489.3828 304.5,-6479.6764 304.5,-6470.6817\" fill=\"none\" stroke=\"#000000\"/>\n<polygon fill=\"#000000\" points=\"308.0001,-6470.5903 304.5,-6460.5904 301.0001,-6470.5904 308.0001,-6470.5903\" stroke=\"#000000\"/>\n</g>\n<!-- 140325420814408&#45;&gt;140325420469776 -->\n<g class=\"edge\" id=\"edge48\">\n<title>140325420814408-&gt;140325420469776</title>\n<path d=\"M324.2753,-6424.4551C334.1793,-6415.4177 346.3281,-6404.3319 357.1138,-6394.4899\" fill=\"none\" stroke=\"#000000\"/>\n<polygon fill=\"#000000\" points=\"359.6473,-6396.9163 364.6749,-6387.5904 354.9289,-6391.7455 359.6473,-6396.9163\" stroke=\"#000000\"/>\n</g>\n<!-- 140325420910632 -->\n<g class=\"node\" id=\"node47\">\n<title>140325420910632</title>\n<polygon fill=\"none\" points=\"208,-6278.5 208,-6314.5 417,-6314.5 417,-6278.5 208,-6278.5\" stroke=\"#000000\"/>\n<text fill=\"#000000\" font-family=\"Times,serif\" font-size=\"14.00\" text-anchor=\"middle\" x=\"312.5\" y=\"-6292.8\">block6_sepconv1_act: Activation</text>\n</g>\n<!-- 140325420469776&#45;&gt;140325420910632 -->\n<g class=\"edge\" id=\"edge50\">\n<title>140325420469776-&gt;140325420910632</title>\n<path d=\"M366.7022,-6351.4551C357.8752,-6342.5054 347.0669,-6331.547 337.4307,-6321.7769\" fill=\"none\" stroke=\"#000000\"/>\n<polygon fill=\"#000000\" points=\"339.8566,-6319.2523 330.3425,-6314.5904 334.8728,-6324.1678 339.8566,-6319.2523\" stroke=\"#000000\"/>\n</g>\n<!-- 140325420048112 -->\n<g class=\"node\" id=\"node56\">\n<title>140325420048112</title>\n<polygon fill=\"none\" points=\"333.5,-5621.5 333.5,-5657.5 425.5,-5657.5 425.5,-5621.5 333.5,-5621.5\" stroke=\"#000000\"/>\n<text fill=\"#000000\" font-family=\"Times,serif\" font-size=\"14.00\" text-anchor=\"middle\" x=\"379.5\" y=\"-5635.8\">add_29: Add</text>\n</g>\n<!-- 140325420469776&#45;&gt;140325420048112 -->\n<g class=\"edge\" id=\"edge60\">\n<title>140325420469776-&gt;140325420048112</title>\n<path d=\"M401.1449,-6351.2244C423.2405,-6324.9944 459.5,-6274.2229 459.5,-6223.5 459.5,-6223.5 459.5,-6223.5 459.5,-5785.5 459.5,-5743.9658 461.252,-5729.9784 440.5,-5694 433.9494,-5682.643 424.1903,-5672.3894 414.3888,-5663.9205\" fill=\"none\" stroke=\"#000000\"/>\n<polygon fill=\"#000000\" points=\"416.5335,-5661.153 406.5795,-5657.5242 412.098,-5666.5684 416.5335,-5661.153\" stroke=\"#000000\"/>\n</g>\n<!-- 140325420495480 -->\n<g class=\"node\" id=\"node48\">\n<title>140325420495480</title>\n<polygon fill=\"none\" points=\"191.5,-6205.5 191.5,-6241.5 423.5,-6241.5 423.5,-6205.5 191.5,-6205.5\" stroke=\"#000000\"/>\n<text fill=\"#000000\" font-family=\"Times,serif\" font-size=\"14.00\" text-anchor=\"middle\" x=\"307.5\" y=\"-6219.8\">block6_sepconv1: SeparableConv2D</text>\n</g>\n<!-- 140325420910632&#45;&gt;140325420495480 -->\n<g class=\"edge\" id=\"edge51\">\n<title>140325420910632-&gt;140325420495480</title>\n<path d=\"M311.264,-6278.4551C310.7112,-6270.3828 310.0463,-6260.6764 309.4303,-6251.6817\" fill=\"none\" stroke=\"#000000\"/>\n<polygon fill=\"#000000\" points=\"312.9143,-6251.3278 308.7391,-6241.5904 305.9307,-6251.8062 312.9143,-6251.3278\" stroke=\"#000000\"/>\n</g>\n<!-- 140325420571336 -->\n<g class=\"node\" id=\"node49\">\n<title>140325420571336</title>\n<polygon fill=\"none\" points=\"168,-6132.5 168,-6168.5 431,-6168.5 431,-6132.5 168,-6132.5\" stroke=\"#000000\"/>\n<text fill=\"#000000\" font-family=\"Times,serif\" font-size=\"14.00\" text-anchor=\"middle\" x=\"299.5\" y=\"-6146.8\">block6_sepconv1_bn: BatchNormalization</text>\n</g>\n<!-- 140325420495480&#45;&gt;140325420571336 -->\n<g class=\"edge\" id=\"edge52\">\n<title>140325420495480-&gt;140325420571336</title>\n<path d=\"M305.5225,-6205.4551C304.6378,-6197.3828 303.5741,-6187.6764 302.5884,-6178.6817\" fill=\"none\" stroke=\"#000000\"/>\n<polygon fill=\"#000000\" points=\"306.0511,-6178.1495 301.4825,-6168.5904 299.0928,-6178.9122 306.0511,-6178.1495\" stroke=\"#000000\"/>\n</g>\n<!-- 140325420158480 -->\n<g class=\"node\" id=\"node50\">\n<title>140325420158480</title>\n<polygon fill=\"none\" points=\"195,-6059.5 195,-6095.5 404,-6095.5 404,-6059.5 195,-6059.5\" stroke=\"#000000\"/>\n<text fill=\"#000000\" font-family=\"Times,serif\" font-size=\"14.00\" text-anchor=\"middle\" x=\"299.5\" y=\"-6073.8\">block6_sepconv2_act: Activation</text>\n</g>\n<!-- 140325420571336&#45;&gt;140325420158480 -->\n<g class=\"edge\" id=\"edge53\">\n<title>140325420571336-&gt;140325420158480</title>\n<path d=\"M299.5,-6132.4551C299.5,-6124.3828 299.5,-6114.6764 299.5,-6105.6817\" fill=\"none\" stroke=\"#000000\"/>\n<polygon fill=\"#000000\" points=\"303.0001,-6105.5903 299.5,-6095.5904 296.0001,-6105.5904 303.0001,-6105.5903\" stroke=\"#000000\"/>\n</g>\n<!-- 140325420158592 -->\n<g class=\"node\" id=\"node51\">\n<title>140325420158592</title>\n<polygon fill=\"none\" points=\"183.5,-5986.5 183.5,-6022.5 415.5,-6022.5 415.5,-5986.5 183.5,-5986.5\" stroke=\"#000000\"/>\n<text fill=\"#000000\" font-family=\"Times,serif\" font-size=\"14.00\" text-anchor=\"middle\" x=\"299.5\" y=\"-6000.8\">block6_sepconv2: SeparableConv2D</text>\n</g>\n<!-- 140325420158480&#45;&gt;140325420158592 -->\n<g class=\"edge\" id=\"edge54\">\n<title>140325420158480-&gt;140325420158592</title>\n<path d=\"M299.5,-6059.4551C299.5,-6051.3828 299.5,-6041.6764 299.5,-6032.6817\" fill=\"none\" stroke=\"#000000\"/>\n<polygon fill=\"#000000\" points=\"303.0001,-6032.5903 299.5,-6022.5904 296.0001,-6032.5904 303.0001,-6032.5903\" stroke=\"#000000\"/>\n</g>\n<!-- 140325420255384 -->\n<g class=\"node\" id=\"node52\">\n<title>140325420255384</title>\n<polygon fill=\"none\" points=\"168,-5913.5 168,-5949.5 431,-5949.5 431,-5913.5 168,-5913.5\" stroke=\"#000000\"/>\n<text fill=\"#000000\" font-family=\"Times,serif\" font-size=\"14.00\" text-anchor=\"middle\" x=\"299.5\" y=\"-5927.8\">block6_sepconv2_bn: BatchNormalization</text>\n</g>\n<!-- 140325420158592&#45;&gt;140325420255384 -->\n<g class=\"edge\" id=\"edge55\">\n<title>140325420158592-&gt;140325420255384</title>\n<path d=\"M299.5,-5986.4551C299.5,-5978.3828 299.5,-5968.6764 299.5,-5959.6817\" fill=\"none\" stroke=\"#000000\"/>\n<polygon fill=\"#000000\" points=\"303.0001,-5959.5903 299.5,-5949.5904 296.0001,-5959.5904 303.0001,-5959.5903\" stroke=\"#000000\"/>\n</g>\n<!-- 140325419849992 -->\n<g class=\"node\" id=\"node53\">\n<title>140325419849992</title>\n<polygon fill=\"none\" points=\"195,-5840.5 195,-5876.5 404,-5876.5 404,-5840.5 195,-5840.5\" stroke=\"#000000\"/>\n<text fill=\"#000000\" font-family=\"Times,serif\" font-size=\"14.00\" text-anchor=\"middle\" x=\"299.5\" y=\"-5854.8\">block6_sepconv3_act: Activation</text>\n</g>\n<!-- 140325420255384&#45;&gt;140325419849992 -->\n<g class=\"edge\" id=\"edge56\">\n<title>140325420255384-&gt;140325419849992</title>\n<path d=\"M299.5,-5913.4551C299.5,-5905.3828 299.5,-5895.6764 299.5,-5886.6817\" fill=\"none\" stroke=\"#000000\"/>\n<polygon fill=\"#000000\" points=\"303.0001,-5886.5903 299.5,-5876.5904 296.0001,-5886.5904 303.0001,-5886.5903\" stroke=\"#000000\"/>\n</g>\n<!-- 140325419849880 -->\n<g class=\"node\" id=\"node54\">\n<title>140325419849880</title>\n<polygon fill=\"none\" points=\"183.5,-5767.5 183.5,-5803.5 415.5,-5803.5 415.5,-5767.5 183.5,-5767.5\" stroke=\"#000000\"/>\n<text fill=\"#000000\" font-family=\"Times,serif\" font-size=\"14.00\" text-anchor=\"middle\" x=\"299.5\" y=\"-5781.8\">block6_sepconv3: SeparableConv2D</text>\n</g>\n<!-- 140325419849992&#45;&gt;140325419849880 -->\n<g class=\"edge\" id=\"edge57\">\n<title>140325419849992-&gt;140325419849880</title>\n<path d=\"M299.5,-5840.4551C299.5,-5832.3828 299.5,-5822.6764 299.5,-5813.6817\" fill=\"none\" stroke=\"#000000\"/>\n<polygon fill=\"#000000\" points=\"303.0001,-5813.5903 299.5,-5803.5904 296.0001,-5813.5904 303.0001,-5813.5903\" stroke=\"#000000\"/>\n</g>\n<!-- 140325419878552 -->\n<g class=\"node\" id=\"node55\">\n<title>140325419878552</title>\n<polygon fill=\"none\" points=\"168,-5694.5 168,-5730.5 431,-5730.5 431,-5694.5 168,-5694.5\" stroke=\"#000000\"/>\n<text fill=\"#000000\" font-family=\"Times,serif\" font-size=\"14.00\" text-anchor=\"middle\" x=\"299.5\" y=\"-5708.8\">block6_sepconv3_bn: BatchNormalization</text>\n</g>\n<!-- 140325419849880&#45;&gt;140325419878552 -->\n<g class=\"edge\" id=\"edge58\">\n<title>140325419849880-&gt;140325419878552</title>\n<path d=\"M299.5,-5767.4551C299.5,-5759.3828 299.5,-5749.6764 299.5,-5740.6817\" fill=\"none\" stroke=\"#000000\"/>\n<polygon fill=\"#000000\" points=\"303.0001,-5740.5903 299.5,-5730.5904 296.0001,-5740.5904 303.0001,-5740.5903\" stroke=\"#000000\"/>\n</g>\n<!-- 140325419878552&#45;&gt;140325420048112 -->\n<g class=\"edge\" id=\"edge59\">\n<title>140325419878552-&gt;140325420048112</title>\n<path d=\"M319.2753,-5694.4551C329.1793,-5685.4177 341.3281,-5674.3319 352.1138,-5664.4899\" fill=\"none\" stroke=\"#000000\"/>\n<polygon fill=\"#000000\" points=\"354.6473,-5666.9163 359.6749,-5657.5904 349.9289,-5661.7455 354.6473,-5666.9163\" stroke=\"#000000\"/>\n</g>\n<!-- 140325420495312 -->\n<g class=\"node\" id=\"node57\">\n<title>140325420495312</title>\n<polygon fill=\"none\" points=\"203,-5548.5 203,-5584.5 412,-5584.5 412,-5548.5 203,-5548.5\" stroke=\"#000000\"/>\n<text fill=\"#000000\" font-family=\"Times,serif\" font-size=\"14.00\" text-anchor=\"middle\" x=\"307.5\" y=\"-5562.8\">block7_sepconv1_act: Activation</text>\n</g>\n<!-- 140325420048112&#45;&gt;140325420495312 -->\n<g class=\"edge\" id=\"edge61\">\n<title>140325420048112-&gt;140325420495312</title>\n<path d=\"M361.7022,-5621.4551C352.8752,-5612.5054 342.0669,-5601.547 332.4307,-5591.7769\" fill=\"none\" stroke=\"#000000\"/>\n<polygon fill=\"#000000\" points=\"334.8566,-5589.2523 325.3425,-5584.5904 329.8728,-5594.1678 334.8566,-5589.2523\" stroke=\"#000000\"/>\n</g>\n<!-- 140325419066312 -->\n<g class=\"node\" id=\"node66\">\n<title>140325419066312</title>\n<polygon fill=\"none\" points=\"328.5,-4891.5 328.5,-4927.5 420.5,-4927.5 420.5,-4891.5 328.5,-4891.5\" stroke=\"#000000\"/>\n<text fill=\"#000000\" font-family=\"Times,serif\" font-size=\"14.00\" text-anchor=\"middle\" x=\"374.5\" y=\"-4905.8\">add_30: Add</text>\n</g>\n<!-- 140325420048112&#45;&gt;140325419066312 -->\n<g class=\"edge\" id=\"edge71\">\n<title>140325420048112-&gt;140325419066312</title>\n<path d=\"M396.1449,-5621.2244C418.2405,-5594.9944 454.5,-5544.2229 454.5,-5493.5 454.5,-5493.5 454.5,-5493.5 454.5,-5055.5 454.5,-5013.9658 456.252,-4999.9784 435.5,-4964 428.9494,-4952.643 419.1903,-4942.3894 409.3888,-4933.9205\" fill=\"none\" stroke=\"#000000\"/>\n<polygon fill=\"#000000\" points=\"411.5335,-4931.153 401.5795,-4927.5242 407.098,-4936.5684 411.5335,-4931.153\" stroke=\"#000000\"/>\n</g>\n<!-- 140325420073872 -->\n<g class=\"node\" id=\"node58\">\n<title>140325420073872</title>\n<polygon fill=\"none\" points=\"186.5,-5475.5 186.5,-5511.5 418.5,-5511.5 418.5,-5475.5 186.5,-5475.5\" stroke=\"#000000\"/>\n<text fill=\"#000000\" font-family=\"Times,serif\" font-size=\"14.00\" text-anchor=\"middle\" x=\"302.5\" y=\"-5489.8\">block7_sepconv1: SeparableConv2D</text>\n</g>\n<!-- 140325420495312&#45;&gt;140325420073872 -->\n<g class=\"edge\" id=\"edge62\">\n<title>140325420495312-&gt;140325420073872</title>\n<path d=\"M306.264,-5548.4551C305.7112,-5540.3828 305.0463,-5530.6764 304.4303,-5521.6817\" fill=\"none\" stroke=\"#000000\"/>\n<polygon fill=\"#000000\" points=\"307.9143,-5521.3278 303.7391,-5511.5904 300.9307,-5521.8062 307.9143,-5521.3278\" stroke=\"#000000\"/>\n</g>\n<!-- 140325419621344 -->\n<g class=\"node\" id=\"node59\">\n<title>140325419621344</title>\n<polygon fill=\"none\" points=\"163,-5402.5 163,-5438.5 426,-5438.5 426,-5402.5 163,-5402.5\" stroke=\"#000000\"/>\n<text fill=\"#000000\" font-family=\"Times,serif\" font-size=\"14.00\" text-anchor=\"middle\" x=\"294.5\" y=\"-5416.8\">block7_sepconv1_bn: BatchNormalization</text>\n</g>\n<!-- 140325420073872&#45;&gt;140325419621344 -->\n<g class=\"edge\" id=\"edge63\">\n<title>140325420073872-&gt;140325419621344</title>\n<path d=\"M300.5225,-5475.4551C299.6378,-5467.3828 298.5741,-5457.6764 297.5884,-5448.6817\" fill=\"none\" stroke=\"#000000\"/>\n<polygon fill=\"#000000\" points=\"301.0511,-5448.1495 296.4825,-5438.5904 294.0928,-5448.9122 301.0511,-5448.1495\" stroke=\"#000000\"/>\n</g>\n<!-- 140325419740968 -->\n<g class=\"node\" id=\"node60\">\n<title>140325419740968</title>\n<polygon fill=\"none\" points=\"190,-5329.5 190,-5365.5 399,-5365.5 399,-5329.5 190,-5329.5\" stroke=\"#000000\"/>\n<text fill=\"#000000\" font-family=\"Times,serif\" font-size=\"14.00\" text-anchor=\"middle\" x=\"294.5\" y=\"-5343.8\">block7_sepconv2_act: Activation</text>\n</g>\n<!-- 140325419621344&#45;&gt;140325419740968 -->\n<g class=\"edge\" id=\"edge64\">\n<title>140325419621344-&gt;140325419740968</title>\n<path d=\"M294.5,-5402.4551C294.5,-5394.3828 294.5,-5384.6764 294.5,-5375.6817\" fill=\"none\" stroke=\"#000000\"/>\n<polygon fill=\"#000000\" points=\"298.0001,-5375.5903 294.5,-5365.5904 291.0001,-5375.5904 298.0001,-5375.5903\" stroke=\"#000000\"/>\n</g>\n<!-- 140325419741080 -->\n<g class=\"node\" id=\"node61\">\n<title>140325419741080</title>\n<polygon fill=\"none\" points=\"178.5,-5256.5 178.5,-5292.5 410.5,-5292.5 410.5,-5256.5 178.5,-5256.5\" stroke=\"#000000\"/>\n<text fill=\"#000000\" font-family=\"Times,serif\" font-size=\"14.00\" text-anchor=\"middle\" x=\"294.5\" y=\"-5270.8\">block7_sepconv2: SeparableConv2D</text>\n</g>\n<!-- 140325419740968&#45;&gt;140325419741080 -->\n<g class=\"edge\" id=\"edge65\">\n<title>140325419740968-&gt;140325419741080</title>\n<path d=\"M294.5,-5329.4551C294.5,-5321.3828 294.5,-5311.6764 294.5,-5302.6817\" fill=\"none\" stroke=\"#000000\"/>\n<polygon fill=\"#000000\" points=\"298.0001,-5302.5903 294.5,-5292.5904 291.0001,-5302.5904 298.0001,-5302.5903\" stroke=\"#000000\"/>\n</g>\n<!-- 140325419313584 -->\n<g class=\"node\" id=\"node62\">\n<title>140325419313584</title>\n<polygon fill=\"none\" points=\"163,-5183.5 163,-5219.5 426,-5219.5 426,-5183.5 163,-5183.5\" stroke=\"#000000\"/>\n<text fill=\"#000000\" font-family=\"Times,serif\" font-size=\"14.00\" text-anchor=\"middle\" x=\"294.5\" y=\"-5197.8\">block7_sepconv2_bn: BatchNormalization</text>\n</g>\n<!-- 140325419741080&#45;&gt;140325419313584 -->\n<g class=\"edge\" id=\"edge66\">\n<title>140325419741080-&gt;140325419313584</title>\n<path d=\"M294.5,-5256.4551C294.5,-5248.3828 294.5,-5238.6764 294.5,-5229.6817\" fill=\"none\" stroke=\"#000000\"/>\n<polygon fill=\"#000000\" points=\"298.0001,-5229.5903 294.5,-5219.5904 291.0001,-5229.5904 298.0001,-5229.5903\" stroke=\"#000000\"/>\n</g>\n<!-- 140325419436576 -->\n<g class=\"node\" id=\"node63\">\n<title>140325419436576</title>\n<polygon fill=\"none\" points=\"190,-5110.5 190,-5146.5 399,-5146.5 399,-5110.5 190,-5110.5\" stroke=\"#000000\"/>\n<text fill=\"#000000\" font-family=\"Times,serif\" font-size=\"14.00\" text-anchor=\"middle\" x=\"294.5\" y=\"-5124.8\">block7_sepconv3_act: Activation</text>\n</g>\n<!-- 140325419313584&#45;&gt;140325419436576 -->\n<g class=\"edge\" id=\"edge67\">\n<title>140325419313584-&gt;140325419436576</title>\n<path d=\"M294.5,-5183.4551C294.5,-5175.3828 294.5,-5165.6764 294.5,-5156.6817\" fill=\"none\" stroke=\"#000000\"/>\n<polygon fill=\"#000000\" points=\"298.0001,-5156.5903 294.5,-5146.5904 291.0001,-5156.5904 298.0001,-5156.5903\" stroke=\"#000000\"/>\n</g>\n<!-- 140325419436464 -->\n<g class=\"node\" id=\"node64\">\n<title>140325419436464</title>\n<polygon fill=\"none\" points=\"178.5,-5037.5 178.5,-5073.5 410.5,-5073.5 410.5,-5037.5 178.5,-5037.5\" stroke=\"#000000\"/>\n<text fill=\"#000000\" font-family=\"Times,serif\" font-size=\"14.00\" text-anchor=\"middle\" x=\"294.5\" y=\"-5051.8\">block7_sepconv3: SeparableConv2D</text>\n</g>\n<!-- 140325419436576&#45;&gt;140325419436464 -->\n<g class=\"edge\" id=\"edge68\">\n<title>140325419436576-&gt;140325419436464</title>\n<path d=\"M294.5,-5110.4551C294.5,-5102.3828 294.5,-5092.6764 294.5,-5083.6817\" fill=\"none\" stroke=\"#000000\"/>\n<polygon fill=\"#000000\" points=\"298.0001,-5083.5903 294.5,-5073.5904 291.0001,-5083.5904 298.0001,-5083.5903\" stroke=\"#000000\"/>\n</g>\n<!-- 140325419456944 -->\n<g class=\"node\" id=\"node65\">\n<title>140325419456944</title>\n<polygon fill=\"none\" points=\"163,-4964.5 163,-5000.5 426,-5000.5 426,-4964.5 163,-4964.5\" stroke=\"#000000\"/>\n<text fill=\"#000000\" font-family=\"Times,serif\" font-size=\"14.00\" text-anchor=\"middle\" x=\"294.5\" y=\"-4978.8\">block7_sepconv3_bn: BatchNormalization</text>\n</g>\n<!-- 140325419436464&#45;&gt;140325419456944 -->\n<g class=\"edge\" id=\"edge69\">\n<title>140325419436464-&gt;140325419456944</title>\n<path d=\"M294.5,-5037.4551C294.5,-5029.3828 294.5,-5019.6764 294.5,-5010.6817\" fill=\"none\" stroke=\"#000000\"/>\n<polygon fill=\"#000000\" points=\"298.0001,-5010.5903 294.5,-5000.5904 291.0001,-5010.5904 298.0001,-5010.5903\" stroke=\"#000000\"/>\n</g>\n<!-- 140325419456944&#45;&gt;140325419066312 -->\n<g class=\"edge\" id=\"edge70\">\n<title>140325419456944-&gt;140325419066312</title>\n<path d=\"M314.2753,-4964.4551C324.1793,-4955.4177 336.3281,-4944.3319 347.1138,-4934.4899\" fill=\"none\" stroke=\"#000000\"/>\n<polygon fill=\"#000000\" points=\"349.6473,-4936.9163 354.6749,-4927.5904 344.9289,-4931.7455 349.6473,-4936.9163\" stroke=\"#000000\"/>\n</g>\n<!-- 140325420073704 -->\n<g class=\"node\" id=\"node67\">\n<title>140325420073704</title>\n<polygon fill=\"none\" points=\"204,-4818.5 204,-4854.5 413,-4854.5 413,-4818.5 204,-4818.5\" stroke=\"#000000\"/>\n<text fill=\"#000000\" font-family=\"Times,serif\" font-size=\"14.00\" text-anchor=\"middle\" x=\"308.5\" y=\"-4832.8\">block8_sepconv1_act: Activation</text>\n</g>\n<!-- 140325419066312&#45;&gt;140325420073704 -->\n<g class=\"edge\" id=\"edge72\">\n<title>140325419066312-&gt;140325420073704</title>\n<path d=\"M358.1854,-4891.4551C350.1733,-4882.5932 340.3804,-4871.7616 331.6132,-4862.0646\" fill=\"none\" stroke=\"#000000\"/>\n<polygon fill=\"#000000\" points=\"334.1584,-4859.6609 324.8557,-4854.5904 328.9659,-4864.3554 334.1584,-4859.6609\" stroke=\"#000000\"/>\n</g>\n<!-- 140325418652784 -->\n<g class=\"node\" id=\"node76\">\n<title>140325418652784</title>\n<polygon fill=\"none\" points=\"324.5,-4161.5 324.5,-4197.5 416.5,-4197.5 416.5,-4161.5 324.5,-4161.5\" stroke=\"#000000\"/>\n<text fill=\"#000000\" font-family=\"Times,serif\" font-size=\"14.00\" text-anchor=\"middle\" x=\"370.5\" y=\"-4175.8\">add_31: Add</text>\n</g>\n<!-- 140325419066312&#45;&gt;140325418652784 -->\n<g class=\"edge\" id=\"edge82\">\n<title>140325419066312-&gt;140325418652784</title>\n<path d=\"M394.0193,-4891.373C403.7442,-4881.4354 414.9973,-4868.4283 422.5,-4855 443.2433,-4817.8737 450.5,-4806.0281 450.5,-4763.5 450.5,-4763.5 450.5,-4763.5 450.5,-4325.5 450.5,-4283.9658 452.252,-4269.9784 431.5,-4234 424.9494,-4222.643 415.1903,-4212.3894 405.3888,-4203.9205\" fill=\"none\" stroke=\"#000000\"/>\n<polygon fill=\"#000000\" points=\"407.5335,-4201.153 397.5795,-4197.5242 403.098,-4206.5684 407.5335,-4201.153\" stroke=\"#000000\"/>\n</g>\n<!-- 140325419132072 -->\n<g class=\"node\" id=\"node68\">\n<title>140325419132072</title>\n<polygon fill=\"none\" points=\"182.5,-4745.5 182.5,-4781.5 414.5,-4781.5 414.5,-4745.5 182.5,-4745.5\" stroke=\"#000000\"/>\n<text fill=\"#000000\" font-family=\"Times,serif\" font-size=\"14.00\" text-anchor=\"middle\" x=\"298.5\" y=\"-4759.8\">block8_sepconv1: SeparableConv2D</text>\n</g>\n<!-- 140325420073704&#45;&gt;140325419132072 -->\n<g class=\"edge\" id=\"edge73\">\n<title>140325420073704-&gt;140325419132072</title>\n<path d=\"M306.0281,-4818.4551C304.9223,-4810.3828 303.5927,-4800.6764 302.3605,-4791.6817\" fill=\"none\" stroke=\"#000000\"/>\n<polygon fill=\"#000000\" points=\"305.803,-4791.0228 300.9781,-4781.5904 298.8678,-4791.9729 305.803,-4791.0228\" stroke=\"#000000\"/>\n</g>\n<!-- 140325419199736 -->\n<g class=\"node\" id=\"node69\">\n<title>140325419199736</title>\n<polygon fill=\"none\" points=\"159,-4672.5 159,-4708.5 422,-4708.5 422,-4672.5 159,-4672.5\" stroke=\"#000000\"/>\n<text fill=\"#000000\" font-family=\"Times,serif\" font-size=\"14.00\" text-anchor=\"middle\" x=\"290.5\" y=\"-4686.8\">block8_sepconv1_bn: BatchNormalization</text>\n</g>\n<!-- 140325419132072&#45;&gt;140325419199736 -->\n<g class=\"edge\" id=\"edge74\">\n<title>140325419132072-&gt;140325419199736</title>\n<path d=\"M296.5225,-4745.4551C295.6378,-4737.3828 294.5741,-4727.6764 293.5884,-4718.6817\" fill=\"none\" stroke=\"#000000\"/>\n<polygon fill=\"#000000\" points=\"297.0511,-4718.1495 292.4825,-4708.5904 290.0928,-4718.9122 297.0511,-4718.1495\" stroke=\"#000000\"/>\n</g>\n<!-- 140325418790696 -->\n<g class=\"node\" id=\"node70\">\n<title>140325418790696</title>\n<polygon fill=\"none\" points=\"186,-4599.5 186,-4635.5 395,-4635.5 395,-4599.5 186,-4599.5\" stroke=\"#000000\"/>\n<text fill=\"#000000\" font-family=\"Times,serif\" font-size=\"14.00\" text-anchor=\"middle\" x=\"290.5\" y=\"-4613.8\">block8_sepconv2_act: Activation</text>\n</g>\n<!-- 140325419199736&#45;&gt;140325418790696 -->\n<g class=\"edge\" id=\"edge75\">\n<title>140325419199736-&gt;140325418790696</title>\n<path d=\"M290.5,-4672.4551C290.5,-4664.3828 290.5,-4654.6764 290.5,-4645.6817\" fill=\"none\" stroke=\"#000000\"/>\n<polygon fill=\"#000000\" points=\"294.0001,-4645.5903 290.5,-4635.5904 287.0001,-4645.5904 294.0001,-4645.5903\" stroke=\"#000000\"/>\n</g>\n<!-- 140325418813984 -->\n<g class=\"node\" id=\"node71\">\n<title>140325418813984</title>\n<polygon fill=\"none\" points=\"174.5,-4526.5 174.5,-4562.5 406.5,-4562.5 406.5,-4526.5 174.5,-4526.5\" stroke=\"#000000\"/>\n<text fill=\"#000000\" font-family=\"Times,serif\" font-size=\"14.00\" text-anchor=\"middle\" x=\"290.5\" y=\"-4540.8\">block8_sepconv2: SeparableConv2D</text>\n</g>\n<!-- 140325418790696&#45;&gt;140325418813984 -->\n<g class=\"edge\" id=\"edge76\">\n<title>140325418790696-&gt;140325418813984</title>\n<path d=\"M290.5,-4599.4551C290.5,-4591.3828 290.5,-4581.6764 290.5,-4572.6817\" fill=\"none\" stroke=\"#000000\"/>\n<polygon fill=\"#000000\" points=\"294.0001,-4572.5903 290.5,-4562.5904 287.0001,-4572.5904 294.0001,-4572.5903\" stroke=\"#000000\"/>\n</g>\n<!-- 140325418891976 -->\n<g class=\"node\" id=\"node72\">\n<title>140325418891976</title>\n<polygon fill=\"none\" points=\"159,-4453.5 159,-4489.5 422,-4489.5 422,-4453.5 159,-4453.5\" stroke=\"#000000\"/>\n<text fill=\"#000000\" font-family=\"Times,serif\" font-size=\"14.00\" text-anchor=\"middle\" x=\"290.5\" y=\"-4467.8\">block8_sepconv2_bn: BatchNormalization</text>\n</g>\n<!-- 140325418813984&#45;&gt;140325418891976 -->\n<g class=\"edge\" id=\"edge77\">\n<title>140325418813984-&gt;140325418891976</title>\n<path d=\"M290.5,-4526.4551C290.5,-4518.3828 290.5,-4508.6764 290.5,-4499.6817\" fill=\"none\" stroke=\"#000000\"/>\n<polygon fill=\"#000000\" points=\"294.0001,-4499.5903 290.5,-4489.5904 287.0001,-4499.5904 294.0001,-4499.5903\" stroke=\"#000000\"/>\n</g>\n<!-- 140325419010872 -->\n<g class=\"node\" id=\"node73\">\n<title>140325419010872</title>\n<polygon fill=\"none\" points=\"186,-4380.5 186,-4416.5 395,-4416.5 395,-4380.5 186,-4380.5\" stroke=\"#000000\"/>\n<text fill=\"#000000\" font-family=\"Times,serif\" font-size=\"14.00\" text-anchor=\"middle\" x=\"290.5\" y=\"-4394.8\">block8_sepconv3_act: Activation</text>\n</g>\n<!-- 140325418891976&#45;&gt;140325419010872 -->\n<g class=\"edge\" id=\"edge78\">\n<title>140325418891976-&gt;140325419010872</title>\n<path d=\"M290.5,-4453.4551C290.5,-4445.3828 290.5,-4435.6764 290.5,-4426.6817\" fill=\"none\" stroke=\"#000000\"/>\n<polygon fill=\"#000000\" points=\"294.0001,-4426.5903 290.5,-4416.5904 287.0001,-4426.5904 294.0001,-4426.5903\" stroke=\"#000000\"/>\n</g>\n<!-- 140325419010760 -->\n<g class=\"node\" id=\"node74\">\n<title>140325419010760</title>\n<polygon fill=\"none\" points=\"174.5,-4307.5 174.5,-4343.5 406.5,-4343.5 406.5,-4307.5 174.5,-4307.5\" stroke=\"#000000\"/>\n<text fill=\"#000000\" font-family=\"Times,serif\" font-size=\"14.00\" text-anchor=\"middle\" x=\"290.5\" y=\"-4321.8\">block8_sepconv3: SeparableConv2D</text>\n</g>\n<!-- 140325419010872&#45;&gt;140325419010760 -->\n<g class=\"edge\" id=\"edge79\">\n<title>140325419010872-&gt;140325419010760</title>\n<path d=\"M290.5,-4380.4551C290.5,-4372.3828 290.5,-4362.6764 290.5,-4353.6817\" fill=\"none\" stroke=\"#000000\"/>\n<polygon fill=\"#000000\" points=\"294.0001,-4353.5903 290.5,-4343.5904 287.0001,-4353.5904 294.0001,-4353.5903\" stroke=\"#000000\"/>\n</g>\n<!-- 140325419035336 -->\n<g class=\"node\" id=\"node75\">\n<title>140325419035336</title>\n<polygon fill=\"none\" points=\"159,-4234.5 159,-4270.5 422,-4270.5 422,-4234.5 159,-4234.5\" stroke=\"#000000\"/>\n<text fill=\"#000000\" font-family=\"Times,serif\" font-size=\"14.00\" text-anchor=\"middle\" x=\"290.5\" y=\"-4248.8\">block8_sepconv3_bn: BatchNormalization</text>\n</g>\n<!-- 140325419010760&#45;&gt;140325419035336 -->\n<g class=\"edge\" id=\"edge80\">\n<title>140325419010760-&gt;140325419035336</title>\n<path d=\"M290.5,-4307.4551C290.5,-4299.3828 290.5,-4289.6764 290.5,-4280.6817\" fill=\"none\" stroke=\"#000000\"/>\n<polygon fill=\"#000000\" points=\"294.0001,-4280.5903 290.5,-4270.5904 287.0001,-4280.5904 294.0001,-4280.5903\" stroke=\"#000000\"/>\n</g>\n<!-- 140325419035336&#45;&gt;140325418652784 -->\n<g class=\"edge\" id=\"edge81\">\n<title>140325419035336-&gt;140325418652784</title>\n<path d=\"M310.2753,-4234.4551C320.1793,-4225.4177 332.3281,-4214.3319 343.1138,-4204.4899\" fill=\"none\" stroke=\"#000000\"/>\n<polygon fill=\"#000000\" points=\"345.6473,-4206.9163 350.6749,-4197.5904 340.9289,-4201.7455 345.6473,-4206.9163\" stroke=\"#000000\"/>\n</g>\n<!-- 140325419131904 -->\n<g class=\"node\" id=\"node77\">\n<title>140325419131904</title>\n<polygon fill=\"none\" points=\"194,-4088.5 194,-4124.5 403,-4124.5 403,-4088.5 194,-4088.5\" stroke=\"#000000\"/>\n<text fill=\"#000000\" font-family=\"Times,serif\" font-size=\"14.00\" text-anchor=\"middle\" x=\"298.5\" y=\"-4102.8\">block9_sepconv1_act: Activation</text>\n</g>\n<!-- 140325418652784&#45;&gt;140325419131904 -->\n<g class=\"edge\" id=\"edge83\">\n<title>140325418652784-&gt;140325419131904</title>\n<path d=\"M352.7022,-4161.4551C343.8752,-4152.5054 333.0669,-4141.547 323.4307,-4131.7769\" fill=\"none\" stroke=\"#000000\"/>\n<polygon fill=\"#000000\" points=\"325.8566,-4129.2523 316.3425,-4124.5904 320.8728,-4134.1678 325.8566,-4129.2523\" stroke=\"#000000\"/>\n</g>\n<!-- 140325417758448 -->\n<g class=\"node\" id=\"node86\">\n<title>140325417758448</title>\n<polygon fill=\"none\" points=\"319.5,-3431.5 319.5,-3467.5 411.5,-3467.5 411.5,-3431.5 319.5,-3431.5\" stroke=\"#000000\"/>\n<text fill=\"#000000\" font-family=\"Times,serif\" font-size=\"14.00\" text-anchor=\"middle\" x=\"365.5\" y=\"-3445.8\">add_32: Add</text>\n</g>\n<!-- 140325418652784&#45;&gt;140325417758448 -->\n<g class=\"edge\" id=\"edge93\">\n<title>140325418652784-&gt;140325417758448</title>\n<path d=\"M387.1449,-4161.2244C409.2405,-4134.9944 445.5,-4084.2229 445.5,-4033.5 445.5,-4033.5 445.5,-4033.5 445.5,-3595.5 445.5,-3553.9658 447.252,-3539.9784 426.5,-3504 419.9494,-3492.643 410.1903,-3482.3894 400.3888,-3473.9205\" fill=\"none\" stroke=\"#000000\"/>\n<polygon fill=\"#000000\" points=\"402.5335,-3471.153 392.5795,-3467.5242 398.098,-3476.5684 402.5335,-3471.153\" stroke=\"#000000\"/>\n</g>\n<!-- 140325418710464 -->\n<g class=\"node\" id=\"node78\">\n<title>140325418710464</title>\n<polygon fill=\"none\" points=\"177.5,-4015.5 177.5,-4051.5 409.5,-4051.5 409.5,-4015.5 177.5,-4015.5\" stroke=\"#000000\"/>\n<text fill=\"#000000\" font-family=\"Times,serif\" font-size=\"14.00\" text-anchor=\"middle\" x=\"293.5\" y=\"-4029.8\">block9_sepconv1: SeparableConv2D</text>\n</g>\n<!-- 140325419131904&#45;&gt;140325418710464 -->\n<g class=\"edge\" id=\"edge84\">\n<title>140325419131904-&gt;140325418710464</title>\n<path d=\"M297.264,-4088.4551C296.7112,-4080.3828 296.0463,-4070.6764 295.4303,-4061.6817\" fill=\"none\" stroke=\"#000000\"/>\n<polygon fill=\"#000000\" points=\"298.9143,-4061.3278 294.7391,-4051.5904 291.9307,-4061.8062 298.9143,-4061.3278\" stroke=\"#000000\"/>\n</g>\n<!-- 140325418257768 -->\n<g class=\"node\" id=\"node79\">\n<title>140325418257768</title>\n<polygon fill=\"none\" points=\"154,-3942.5 154,-3978.5 417,-3978.5 417,-3942.5 154,-3942.5\" stroke=\"#000000\"/>\n<text fill=\"#000000\" font-family=\"Times,serif\" font-size=\"14.00\" text-anchor=\"middle\" x=\"285.5\" y=\"-3956.8\">block9_sepconv1_bn: BatchNormalization</text>\n</g>\n<!-- 140325418710464&#45;&gt;140325418257768 -->\n<g class=\"edge\" id=\"edge85\">\n<title>140325418710464-&gt;140325418257768</title>\n<path d=\"M291.5225,-4015.4551C290.6378,-4007.3828 289.5741,-3997.6764 288.5884,-3988.6817\" fill=\"none\" stroke=\"#000000\"/>\n<polygon fill=\"#000000\" points=\"292.0511,-3988.1495 287.4825,-3978.5904 285.0928,-3988.9122 292.0511,-3988.1495\" stroke=\"#000000\"/>\n</g>\n<!-- 140325418373072 -->\n<g class=\"node\" id=\"node80\">\n<title>140325418373072</title>\n<polygon fill=\"none\" points=\"181,-3869.5 181,-3905.5 390,-3905.5 390,-3869.5 181,-3869.5\" stroke=\"#000000\"/>\n<text fill=\"#000000\" font-family=\"Times,serif\" font-size=\"14.00\" text-anchor=\"middle\" x=\"285.5\" y=\"-3883.8\">block9_sepconv2_act: Activation</text>\n</g>\n<!-- 140325418257768&#45;&gt;140325418373072 -->\n<g class=\"edge\" id=\"edge86\">\n<title>140325418257768-&gt;140325418373072</title>\n<path d=\"M285.5,-3942.4551C285.5,-3934.3828 285.5,-3924.6764 285.5,-3915.6817\" fill=\"none\" stroke=\"#000000\"/>\n<polygon fill=\"#000000\" points=\"289.0001,-3915.5903 285.5,-3905.5904 282.0001,-3915.5904 289.0001,-3915.5903\" stroke=\"#000000\"/>\n</g>\n<!-- 140325418400568 -->\n<g class=\"node\" id=\"node81\">\n<title>140325418400568</title>\n<polygon fill=\"none\" points=\"169.5,-3796.5 169.5,-3832.5 401.5,-3832.5 401.5,-3796.5 169.5,-3796.5\" stroke=\"#000000\"/>\n<text fill=\"#000000\" font-family=\"Times,serif\" font-size=\"14.00\" text-anchor=\"middle\" x=\"285.5\" y=\"-3810.8\">block9_sepconv2: SeparableConv2D</text>\n</g>\n<!-- 140325418373072&#45;&gt;140325418400568 -->\n<g class=\"edge\" id=\"edge87\">\n<title>140325418373072-&gt;140325418400568</title>\n<path d=\"M285.5,-3869.4551C285.5,-3861.3828 285.5,-3851.6764 285.5,-3842.6817\" fill=\"none\" stroke=\"#000000\"/>\n<polygon fill=\"#000000\" points=\"289.0001,-3842.5903 285.5,-3832.5904 282.0001,-3842.5904 289.0001,-3842.5903\" stroke=\"#000000\"/>\n</g>\n<!-- 140325418470368 -->\n<g class=\"node\" id=\"node82\">\n<title>140325418470368</title>\n<polygon fill=\"none\" points=\"154,-3723.5 154,-3759.5 417,-3759.5 417,-3723.5 154,-3723.5\" stroke=\"#000000\"/>\n<text fill=\"#000000\" font-family=\"Times,serif\" font-size=\"14.00\" text-anchor=\"middle\" x=\"285.5\" y=\"-3737.8\">block9_sepconv2_bn: BatchNormalization</text>\n</g>\n<!-- 140325418400568&#45;&gt;140325418470368 -->\n<g class=\"edge\" id=\"edge88\">\n<title>140325418400568-&gt;140325418470368</title>\n<path d=\"M285.5,-3796.4551C285.5,-3788.3828 285.5,-3778.6764 285.5,-3769.6817\" fill=\"none\" stroke=\"#000000\"/>\n<polygon fill=\"#000000\" points=\"289.0001,-3769.5903 285.5,-3759.5904 282.0001,-3769.5904 289.0001,-3769.5903\" stroke=\"#000000\"/>\n</g>\n<!-- 140325418069072 -->\n<g class=\"node\" id=\"node83\">\n<title>140325418069072</title>\n<polygon fill=\"none\" points=\"181,-3650.5 181,-3686.5 390,-3686.5 390,-3650.5 181,-3650.5\" stroke=\"#000000\"/>\n<text fill=\"#000000\" font-family=\"Times,serif\" font-size=\"14.00\" text-anchor=\"middle\" x=\"285.5\" y=\"-3664.8\">block9_sepconv3_act: Activation</text>\n</g>\n<!-- 140325418470368&#45;&gt;140325418069072 -->\n<g class=\"edge\" id=\"edge89\">\n<title>140325418470368-&gt;140325418069072</title>\n<path d=\"M285.5,-3723.4551C285.5,-3715.3828 285.5,-3705.6764 285.5,-3696.6817\" fill=\"none\" stroke=\"#000000\"/>\n<polygon fill=\"#000000\" points=\"289.0001,-3696.5903 285.5,-3686.5904 282.0001,-3696.5904 289.0001,-3696.5903\" stroke=\"#000000\"/>\n</g>\n<!-- 140325418068960 -->\n<g class=\"node\" id=\"node84\">\n<title>140325418068960</title>\n<polygon fill=\"none\" points=\"169.5,-3577.5 169.5,-3613.5 401.5,-3613.5 401.5,-3577.5 169.5,-3577.5\" stroke=\"#000000\"/>\n<text fill=\"#000000\" font-family=\"Times,serif\" font-size=\"14.00\" text-anchor=\"middle\" x=\"285.5\" y=\"-3591.8\">block9_sepconv3: SeparableConv2D</text>\n</g>\n<!-- 140325418069072&#45;&gt;140325418068960 -->\n<g class=\"edge\" id=\"edge90\">\n<title>140325418069072-&gt;140325418068960</title>\n<path d=\"M285.5,-3650.4551C285.5,-3642.3828 285.5,-3632.6764 285.5,-3623.6817\" fill=\"none\" stroke=\"#000000\"/>\n<polygon fill=\"#000000\" points=\"289.0001,-3623.5903 285.5,-3613.5904 282.0001,-3623.5904 289.0001,-3623.5903\" stroke=\"#000000\"/>\n</g>\n<!-- 140325418084616 -->\n<g class=\"node\" id=\"node85\">\n<title>140325418084616</title>\n<polygon fill=\"none\" points=\"154,-3504.5 154,-3540.5 417,-3540.5 417,-3504.5 154,-3504.5\" stroke=\"#000000\"/>\n<text fill=\"#000000\" font-family=\"Times,serif\" font-size=\"14.00\" text-anchor=\"middle\" x=\"285.5\" y=\"-3518.8\">block9_sepconv3_bn: BatchNormalization</text>\n</g>\n<!-- 140325418068960&#45;&gt;140325418084616 -->\n<g class=\"edge\" id=\"edge91\">\n<title>140325418068960-&gt;140325418084616</title>\n<path d=\"M285.5,-3577.4551C285.5,-3569.3828 285.5,-3559.6764 285.5,-3550.6817\" fill=\"none\" stroke=\"#000000\"/>\n<polygon fill=\"#000000\" points=\"289.0001,-3550.5903 285.5,-3540.5904 282.0001,-3550.5904 289.0001,-3550.5903\" stroke=\"#000000\"/>\n</g>\n<!-- 140325418084616&#45;&gt;140325417758448 -->\n<g class=\"edge\" id=\"edge92\">\n<title>140325418084616-&gt;140325417758448</title>\n<path d=\"M305.2753,-3504.4551C315.1793,-3495.4177 327.3281,-3484.3319 338.1138,-3474.4899\" fill=\"none\" stroke=\"#000000\"/>\n<polygon fill=\"#000000\" points=\"340.6473,-3476.9163 345.6749,-3467.5904 335.9289,-3471.7455 340.6473,-3476.9163\" stroke=\"#000000\"/>\n</g>\n<!-- 140325418710296 -->\n<g class=\"node\" id=\"node87\">\n<title>140325418710296</title>\n<polygon fill=\"none\" points=\"189.5,-3358.5 189.5,-3394.5 405.5,-3394.5 405.5,-3358.5 189.5,-3358.5\" stroke=\"#000000\"/>\n<text fill=\"#000000\" font-family=\"Times,serif\" font-size=\"14.00\" text-anchor=\"middle\" x=\"297.5\" y=\"-3372.8\">block10_sepconv1_act: Activation</text>\n</g>\n<!-- 140325417758448&#45;&gt;140325418710296 -->\n<g class=\"edge\" id=\"edge94\">\n<title>140325417758448-&gt;140325418710296</title>\n<path d=\"M348.691,-3431.4551C340.4361,-3422.5932 330.3465,-3411.7616 321.3136,-3402.0646\" fill=\"none\" stroke=\"#000000\"/>\n<polygon fill=\"#000000\" points=\"323.7284,-3399.522 314.3513,-3394.5904 318.6063,-3404.2932 323.7284,-3399.522\" stroke=\"#000000\"/>\n</g>\n<!-- 140325417339480 -->\n<g class=\"node\" id=\"node96\">\n<title>140325417339480</title>\n<polygon fill=\"none\" points=\"315.5,-2701.5 315.5,-2737.5 407.5,-2737.5 407.5,-2701.5 315.5,-2701.5\" stroke=\"#000000\"/>\n<text fill=\"#000000\" font-family=\"Times,serif\" font-size=\"14.00\" text-anchor=\"middle\" x=\"361.5\" y=\"-2715.8\">add_33: Add</text>\n</g>\n<!-- 140325417758448&#45;&gt;140325417339480 -->\n<g class=\"edge\" id=\"edge104\">\n<title>140325417758448-&gt;140325417339480</title>\n<path d=\"M385.3858,-3431.4106C395.3023,-3421.4833 406.7921,-3408.4741 414.5,-3395 435.6828,-3357.9704 443.5,-3346.1603 443.5,-3303.5 443.5,-3303.5 443.5,-3303.5 443.5,-2865.5 443.5,-2823.9658 445.5391,-2809.8112 424.5,-2774 417.7946,-2762.5865 407.8304,-2752.3676 397.7949,-2743.948\" fill=\"none\" stroke=\"#000000\"/>\n<polygon fill=\"#000000\" points=\"399.8,-2741.0709 389.7922,-2737.5929 395.4468,-2746.5527 399.8,-2741.0709\" stroke=\"#000000\"/>\n</g>\n<!-- 140325417756264 -->\n<g class=\"node\" id=\"node88\">\n<title>140325417756264</title>\n<polygon fill=\"none\" points=\"168,-3285.5 168,-3321.5 407,-3321.5 407,-3285.5 168,-3285.5\" stroke=\"#000000\"/>\n<text fill=\"#000000\" font-family=\"Times,serif\" font-size=\"14.00\" text-anchor=\"middle\" x=\"287.5\" y=\"-3299.8\">block10_sepconv1: SeparableConv2D</text>\n</g>\n<!-- 140325418710296&#45;&gt;140325417756264 -->\n<g class=\"edge\" id=\"edge95\">\n<title>140325418710296-&gt;140325417756264</title>\n<path d=\"M295.0281,-3358.4551C293.9223,-3350.3828 292.5927,-3340.6764 291.3605,-3331.6817\" fill=\"none\" stroke=\"#000000\"/>\n<polygon fill=\"#000000\" points=\"294.803,-3331.0228 289.9781,-3321.5904 287.8678,-3331.9729 294.803,-3331.0228\" stroke=\"#000000\"/>\n</g>\n<!-- 140325417853112 -->\n<g class=\"node\" id=\"node89\">\n<title>140325417853112</title>\n<polygon fill=\"none\" points=\"144,-3212.5 144,-3248.5 415,-3248.5 415,-3212.5 144,-3212.5\" stroke=\"#000000\"/>\n<text fill=\"#000000\" font-family=\"Times,serif\" font-size=\"14.00\" text-anchor=\"middle\" x=\"279.5\" y=\"-3226.8\">block10_sepconv1_bn: BatchNormalization</text>\n</g>\n<!-- 140325417756264&#45;&gt;140325417853112 -->\n<g class=\"edge\" id=\"edge96\">\n<title>140325417756264-&gt;140325417853112</title>\n<path d=\"M285.5225,-3285.4551C284.6378,-3277.3828 283.5741,-3267.6764 282.5884,-3258.6817\" fill=\"none\" stroke=\"#000000\"/>\n<polygon fill=\"#000000\" points=\"286.0511,-3258.1495 281.4825,-3248.5904 279.0928,-3258.9122 286.0511,-3258.1495\" stroke=\"#000000\"/>\n</g>\n<!-- 140325417966616 -->\n<g class=\"node\" id=\"node90\">\n<title>140325417966616</title>\n<polygon fill=\"none\" points=\"171.5,-3139.5 171.5,-3175.5 387.5,-3175.5 387.5,-3139.5 171.5,-3139.5\" stroke=\"#000000\"/>\n<text fill=\"#000000\" font-family=\"Times,serif\" font-size=\"14.00\" text-anchor=\"middle\" x=\"279.5\" y=\"-3153.8\">block10_sepconv2_act: Activation</text>\n</g>\n<!-- 140325417853112&#45;&gt;140325417966616 -->\n<g class=\"edge\" id=\"edge97\">\n<title>140325417853112-&gt;140325417966616</title>\n<path d=\"M279.5,-3212.4551C279.5,-3204.3828 279.5,-3194.6764 279.5,-3185.6817\" fill=\"none\" stroke=\"#000000\"/>\n<polygon fill=\"#000000\" points=\"283.0001,-3185.5903 279.5,-3175.5904 276.0001,-3185.5904 283.0001,-3185.5903\" stroke=\"#000000\"/>\n</g>\n<!-- 140325417966672 -->\n<g class=\"node\" id=\"node91\">\n<title>140325417966672</title>\n<polygon fill=\"none\" points=\"160,-3066.5 160,-3102.5 399,-3102.5 399,-3066.5 160,-3066.5\" stroke=\"#000000\"/>\n<text fill=\"#000000\" font-family=\"Times,serif\" font-size=\"14.00\" text-anchor=\"middle\" x=\"279.5\" y=\"-3080.8\">block10_sepconv2: SeparableConv2D</text>\n</g>\n<!-- 140325417966616&#45;&gt;140325417966672 -->\n<g class=\"edge\" id=\"edge98\">\n<title>140325417966616-&gt;140325417966672</title>\n<path d=\"M279.5,-3139.4551C279.5,-3131.3828 279.5,-3121.6764 279.5,-3112.6817\" fill=\"none\" stroke=\"#000000\"/>\n<polygon fill=\"#000000\" points=\"283.0001,-3112.5903 279.5,-3102.5904 276.0001,-3112.5904 283.0001,-3112.5903\" stroke=\"#000000\"/>\n</g>\n<!-- 140325417536760 -->\n<g class=\"node\" id=\"node92\">\n<title>140325417536760</title>\n<polygon fill=\"none\" points=\"144,-2993.5 144,-3029.5 415,-3029.5 415,-2993.5 144,-2993.5\" stroke=\"#000000\"/>\n<text fill=\"#000000\" font-family=\"Times,serif\" font-size=\"14.00\" text-anchor=\"middle\" x=\"279.5\" y=\"-3007.8\">block10_sepconv2_bn: BatchNormalization</text>\n</g>\n<!-- 140325417966672&#45;&gt;140325417536760 -->\n<g class=\"edge\" id=\"edge99\">\n<title>140325417966672-&gt;140325417536760</title>\n<path d=\"M279.5,-3066.4551C279.5,-3058.3828 279.5,-3048.6764 279.5,-3039.6817\" fill=\"none\" stroke=\"#000000\"/>\n<polygon fill=\"#000000\" points=\"283.0001,-3039.5903 279.5,-3029.5904 276.0001,-3039.5904 283.0001,-3039.5903\" stroke=\"#000000\"/>\n</g>\n<!-- 140325417651448 -->\n<g class=\"node\" id=\"node93\">\n<title>140325417651448</title>\n<polygon fill=\"none\" points=\"171.5,-2920.5 171.5,-2956.5 387.5,-2956.5 387.5,-2920.5 171.5,-2920.5\" stroke=\"#000000\"/>\n<text fill=\"#000000\" font-family=\"Times,serif\" font-size=\"14.00\" text-anchor=\"middle\" x=\"279.5\" y=\"-2934.8\">block10_sepconv3_act: Activation</text>\n</g>\n<!-- 140325417536760&#45;&gt;140325417651448 -->\n<g class=\"edge\" id=\"edge100\">\n<title>140325417536760-&gt;140325417651448</title>\n<path d=\"M279.5,-2993.4551C279.5,-2985.3828 279.5,-2975.6764 279.5,-2966.6817\" fill=\"none\" stroke=\"#000000\"/>\n<polygon fill=\"#000000\" points=\"283.0001,-2966.5903 279.5,-2956.5904 276.0001,-2966.5904 283.0001,-2966.5903\" stroke=\"#000000\"/>\n</g>\n<!-- 140325417651560 -->\n<g class=\"node\" id=\"node94\">\n<title>140325417651560</title>\n<polygon fill=\"none\" points=\"160,-2847.5 160,-2883.5 399,-2883.5 399,-2847.5 160,-2847.5\" stroke=\"#000000\"/>\n<text fill=\"#000000\" font-family=\"Times,serif\" font-size=\"14.00\" text-anchor=\"middle\" x=\"279.5\" y=\"-2861.8\">block10_sepconv3: SeparableConv2D</text>\n</g>\n<!-- 140325417651448&#45;&gt;140325417651560 -->\n<g class=\"edge\" id=\"edge101\">\n<title>140325417651448-&gt;140325417651560</title>\n<path d=\"M279.5,-2920.4551C279.5,-2912.3828 279.5,-2902.6764 279.5,-2893.6817\" fill=\"none\" stroke=\"#000000\"/>\n<polygon fill=\"#000000\" points=\"283.0001,-2893.5903 279.5,-2883.5904 276.0001,-2893.5904 283.0001,-2893.5903\" stroke=\"#000000\"/>\n</g>\n<!-- 140325417215872 -->\n<g class=\"node\" id=\"node95\">\n<title>140325417215872</title>\n<polygon fill=\"none\" points=\"144,-2774.5 144,-2810.5 415,-2810.5 415,-2774.5 144,-2774.5\" stroke=\"#000000\"/>\n<text fill=\"#000000\" font-family=\"Times,serif\" font-size=\"14.00\" text-anchor=\"middle\" x=\"279.5\" y=\"-2788.8\">block10_sepconv3_bn: BatchNormalization</text>\n</g>\n<!-- 140325417651560&#45;&gt;140325417215872 -->\n<g class=\"edge\" id=\"edge102\">\n<title>140325417651560-&gt;140325417215872</title>\n<path d=\"M279.5,-2847.4551C279.5,-2839.3828 279.5,-2829.6764 279.5,-2820.6817\" fill=\"none\" stroke=\"#000000\"/>\n<polygon fill=\"#000000\" points=\"283.0001,-2820.5903 279.5,-2810.5904 276.0001,-2820.5904 283.0001,-2820.5903\" stroke=\"#000000\"/>\n</g>\n<!-- 140325417215872&#45;&gt;140325417339480 -->\n<g class=\"edge\" id=\"edge103\">\n<title>140325417215872-&gt;140325417339480</title>\n<path d=\"M299.7697,-2774.4551C309.9212,-2765.4177 322.3738,-2754.3319 333.4291,-2744.4899\" fill=\"none\" stroke=\"#000000\"/>\n<polygon fill=\"#000000\" points=\"336.0375,-2746.8539 341.1793,-2737.5904 331.383,-2741.6255 336.0375,-2746.8539\" stroke=\"#000000\"/>\n</g>\n<!-- 140325417756208 -->\n<g class=\"node\" id=\"node97\">\n<title>140325417756208</title>\n<polygon fill=\"none\" points=\"186,-2628.5 186,-2664.5 401,-2664.5 401,-2628.5 186,-2628.5\" stroke=\"#000000\"/>\n<text fill=\"#000000\" font-family=\"Times,serif\" font-size=\"14.00\" text-anchor=\"middle\" x=\"293.5\" y=\"-2642.8\">block11_sepconv1_act: Activation</text>\n</g>\n<!-- 140325417339480&#45;&gt;140325417756208 -->\n<g class=\"edge\" id=\"edge105\">\n<title>140325417339480-&gt;140325417756208</title>\n<path d=\"M344.691,-2701.4551C336.4361,-2692.5932 326.3465,-2681.7616 317.3136,-2672.0646\" fill=\"none\" stroke=\"#000000\"/>\n<polygon fill=\"#000000\" points=\"319.7284,-2669.522 310.3513,-2664.5904 314.6063,-2674.2932 319.7284,-2669.522\" stroke=\"#000000\"/>\n</g>\n<!-- 140325416913160 -->\n<g class=\"node\" id=\"node106\">\n<title>140325416913160</title>\n<polygon fill=\"none\" points=\"310.5,-1971.5 310.5,-2007.5 402.5,-2007.5 402.5,-1971.5 310.5,-1971.5\" stroke=\"#000000\"/>\n<text fill=\"#000000\" font-family=\"Times,serif\" font-size=\"14.00\" text-anchor=\"middle\" x=\"356.5\" y=\"-1985.8\">add_34: Add</text>\n</g>\n<!-- 140325417339480&#45;&gt;140325416913160 -->\n<g class=\"edge\" id=\"edge115\">\n<title>140325417339480-&gt;140325416913160</title>\n<path d=\"M381.4411,-2701.442C391.3727,-2691.5233 402.8593,-2678.5123 410.5,-2665 431.4331,-2627.9804 438.5,-2616.0281 438.5,-2573.5 438.5,-2573.5 438.5,-2573.5 438.5,-2135.5 438.5,-2093.9658 440.5391,-2079.8112 419.5,-2044 412.7946,-2032.5865 402.8304,-2022.3676 392.7949,-2013.948\" fill=\"none\" stroke=\"#000000\"/>\n<polygon fill=\"#000000\" points=\"394.8,-2011.0709 384.7922,-2007.5929 390.4468,-2016.5527 394.8,-2011.0709\" stroke=\"#000000\"/>\n</g>\n<!-- 140325417338864 -->\n<g class=\"node\" id=\"node98\">\n<title>140325417338864</title>\n<polygon fill=\"none\" points=\"164,-2555.5 164,-2591.5 403,-2591.5 403,-2555.5 164,-2555.5\" stroke=\"#000000\"/>\n<text fill=\"#000000\" font-family=\"Times,serif\" font-size=\"14.00\" text-anchor=\"middle\" x=\"283.5\" y=\"-2569.8\">block11_sepconv1: SeparableConv2D</text>\n</g>\n<!-- 140325417756208&#45;&gt;140325417338864 -->\n<g class=\"edge\" id=\"edge106\">\n<title>140325417756208-&gt;140325417338864</title>\n<path d=\"M291.0281,-2628.4551C289.9223,-2620.3828 288.5927,-2610.6764 287.3605,-2601.6817\" fill=\"none\" stroke=\"#000000\"/>\n<polygon fill=\"#000000\" points=\"290.803,-2601.0228 285.9781,-2591.5904 283.8678,-2601.9729 290.803,-2601.0228\" stroke=\"#000000\"/>\n</g>\n<!-- 140325417431504 -->\n<g class=\"node\" id=\"node99\">\n<title>140325417431504</title>\n<polygon fill=\"none\" points=\"140.5,-2482.5 140.5,-2518.5 410.5,-2518.5 410.5,-2482.5 140.5,-2482.5\" stroke=\"#000000\"/>\n<text fill=\"#000000\" font-family=\"Times,serif\" font-size=\"14.00\" text-anchor=\"middle\" x=\"275.5\" y=\"-2496.8\">block11_sepconv1_bn: BatchNormalization</text>\n</g>\n<!-- 140325417338864&#45;&gt;140325417431504 -->\n<g class=\"edge\" id=\"edge107\">\n<title>140325417338864-&gt;140325417431504</title>\n<path d=\"M281.5225,-2555.4551C280.6378,-2547.3828 279.5741,-2537.6764 278.5884,-2528.6817\" fill=\"none\" stroke=\"#000000\"/>\n<polygon fill=\"#000000\" points=\"282.0511,-2528.1495 277.4825,-2518.5904 275.0928,-2528.9122 282.0511,-2528.1495\" stroke=\"#000000\"/>\n</g>\n<!-- 140325417028912 -->\n<g class=\"node\" id=\"node100\">\n<title>140325417028912</title>\n<polygon fill=\"none\" points=\"168,-2409.5 168,-2445.5 383,-2445.5 383,-2409.5 168,-2409.5\" stroke=\"#000000\"/>\n<text fill=\"#000000\" font-family=\"Times,serif\" font-size=\"14.00\" text-anchor=\"middle\" x=\"275.5\" y=\"-2423.8\">block11_sepconv2_act: Activation</text>\n</g>\n<!-- 140325417431504&#45;&gt;140325417028912 -->\n<g class=\"edge\" id=\"edge108\">\n<title>140325417431504-&gt;140325417028912</title>\n<path d=\"M275.5,-2482.4551C275.5,-2474.3828 275.5,-2464.6764 275.5,-2455.6817\" fill=\"none\" stroke=\"#000000\"/>\n<polygon fill=\"#000000\" points=\"279.0001,-2455.5903 275.5,-2445.5904 272.0001,-2455.5904 279.0001,-2455.5903\" stroke=\"#000000\"/>\n</g>\n<!-- 140325417028968 -->\n<g class=\"node\" id=\"node101\">\n<title>140325417028968</title>\n<polygon fill=\"none\" points=\"156,-2336.5 156,-2372.5 395,-2372.5 395,-2336.5 156,-2336.5\" stroke=\"#000000\"/>\n<text fill=\"#000000\" font-family=\"Times,serif\" font-size=\"14.00\" text-anchor=\"middle\" x=\"275.5\" y=\"-2350.8\">block11_sepconv2: SeparableConv2D</text>\n</g>\n<!-- 140325417028912&#45;&gt;140325417028968 -->\n<g class=\"edge\" id=\"edge109\">\n<title>140325417028912-&gt;140325417028968</title>\n<path d=\"M275.5,-2409.4551C275.5,-2401.3828 275.5,-2391.6764 275.5,-2382.6817\" fill=\"none\" stroke=\"#000000\"/>\n<polygon fill=\"#000000\" points=\"279.0001,-2382.5903 275.5,-2372.5904 272.0001,-2382.5904 279.0001,-2382.5903\" stroke=\"#000000\"/>\n</g>\n<!-- 140325417106400 -->\n<g class=\"node\" id=\"node102\">\n<title>140325417106400</title>\n<polygon fill=\"none\" points=\"140.5,-2263.5 140.5,-2299.5 410.5,-2299.5 410.5,-2263.5 140.5,-2263.5\" stroke=\"#000000\"/>\n<text fill=\"#000000\" font-family=\"Times,serif\" font-size=\"14.00\" text-anchor=\"middle\" x=\"275.5\" y=\"-2277.8\">block11_sepconv2_bn: BatchNormalization</text>\n</g>\n<!-- 140325417028968&#45;&gt;140325417106400 -->\n<g class=\"edge\" id=\"edge110\">\n<title>140325417028968-&gt;140325417106400</title>\n<path d=\"M275.5,-2336.4551C275.5,-2328.3828 275.5,-2318.6764 275.5,-2309.6817\" fill=\"none\" stroke=\"#000000\"/>\n<polygon fill=\"#000000\" points=\"279.0001,-2309.5903 275.5,-2299.5904 272.0001,-2309.5904 279.0001,-2309.5903\" stroke=\"#000000\"/>\n</g>\n<!-- 140325416705552 -->\n<g class=\"node\" id=\"node103\">\n<title>140325416705552</title>\n<polygon fill=\"none\" points=\"168,-2190.5 168,-2226.5 383,-2226.5 383,-2190.5 168,-2190.5\" stroke=\"#000000\"/>\n<text fill=\"#000000\" font-family=\"Times,serif\" font-size=\"14.00\" text-anchor=\"middle\" x=\"275.5\" y=\"-2204.8\">block11_sepconv3_act: Activation</text>\n</g>\n<!-- 140325417106400&#45;&gt;140325416705552 -->\n<g class=\"edge\" id=\"edge111\">\n<title>140325417106400-&gt;140325416705552</title>\n<path d=\"M275.5,-2263.4551C275.5,-2255.3828 275.5,-2245.6764 275.5,-2236.6817\" fill=\"none\" stroke=\"#000000\"/>\n<polygon fill=\"#000000\" points=\"279.0001,-2236.5903 275.5,-2226.5904 272.0001,-2236.5904 279.0001,-2236.5903\" stroke=\"#000000\"/>\n</g>\n<!-- 140325416705664 -->\n<g class=\"node\" id=\"node104\">\n<title>140325416705664</title>\n<polygon fill=\"none\" points=\"156,-2117.5 156,-2153.5 395,-2153.5 395,-2117.5 156,-2117.5\" stroke=\"#000000\"/>\n<text fill=\"#000000\" font-family=\"Times,serif\" font-size=\"14.00\" text-anchor=\"middle\" x=\"275.5\" y=\"-2131.8\">block11_sepconv3: SeparableConv2D</text>\n</g>\n<!-- 140325416705552&#45;&gt;140325416705664 -->\n<g class=\"edge\" id=\"edge112\">\n<title>140325416705552-&gt;140325416705664</title>\n<path d=\"M275.5,-2190.4551C275.5,-2182.3828 275.5,-2172.6764 275.5,-2163.6817\" fill=\"none\" stroke=\"#000000\"/>\n<polygon fill=\"#000000\" points=\"279.0001,-2163.5903 275.5,-2153.5904 272.0001,-2163.5904 279.0001,-2163.5903\" stroke=\"#000000\"/>\n</g>\n<!-- 140325416786072 -->\n<g class=\"node\" id=\"node105\">\n<title>140325416786072</title>\n<polygon fill=\"none\" points=\"140.5,-2044.5 140.5,-2080.5 410.5,-2080.5 410.5,-2044.5 140.5,-2044.5\" stroke=\"#000000\"/>\n<text fill=\"#000000\" font-family=\"Times,serif\" font-size=\"14.00\" text-anchor=\"middle\" x=\"275.5\" y=\"-2058.8\">block11_sepconv3_bn: BatchNormalization</text>\n</g>\n<!-- 140325416705664&#45;&gt;140325416786072 -->\n<g class=\"edge\" id=\"edge113\">\n<title>140325416705664-&gt;140325416786072</title>\n<path d=\"M275.5,-2117.4551C275.5,-2109.3828 275.5,-2099.6764 275.5,-2090.6817\" fill=\"none\" stroke=\"#000000\"/>\n<polygon fill=\"#000000\" points=\"279.0001,-2090.5903 275.5,-2080.5904 272.0001,-2090.5904 279.0001,-2090.5903\" stroke=\"#000000\"/>\n</g>\n<!-- 140325416786072&#45;&gt;140325416913160 -->\n<g class=\"edge\" id=\"edge114\">\n<title>140325416786072-&gt;140325416913160</title>\n<path d=\"M295.5225,-2044.4551C305.5502,-2035.4177 317.8509,-2024.3319 328.7714,-2014.4899\" fill=\"none\" stroke=\"#000000\"/>\n<polygon fill=\"#000000\" points=\"331.3419,-2016.885 336.4271,-2007.5904 326.6556,-2011.6852 331.3419,-2016.885\" stroke=\"#000000\"/>\n</g>\n<!-- 140325417338696 -->\n<g class=\"node\" id=\"node107\">\n<title>140325417338696</title>\n<polygon fill=\"none\" points=\"180.5,-1898.5 180.5,-1934.5 396.5,-1934.5 396.5,-1898.5 180.5,-1898.5\" stroke=\"#000000\"/>\n<text fill=\"#000000\" font-family=\"Times,serif\" font-size=\"14.00\" text-anchor=\"middle\" x=\"288.5\" y=\"-1912.8\">block12_sepconv1_act: Activation</text>\n</g>\n<!-- 140325416913160&#45;&gt;140325417338696 -->\n<g class=\"edge\" id=\"edge116\">\n<title>140325416913160-&gt;140325417338696</title>\n<path d=\"M339.691,-1971.4551C331.4361,-1962.5932 321.3465,-1951.7616 312.3136,-1942.0646\" fill=\"none\" stroke=\"#000000\"/>\n<polygon fill=\"#000000\" points=\"314.7284,-1939.522 305.3513,-1934.5904 309.6063,-1944.2932 314.7284,-1939.522\" stroke=\"#000000\"/>\n</g>\n<!-- 140325415963168 -->\n<g class=\"node\" id=\"node116\">\n<title>140325415963168</title>\n<polygon fill=\"none\" points=\"306.5,-1241.5 306.5,-1277.5 398.5,-1277.5 398.5,-1241.5 306.5,-1241.5\" stroke=\"#000000\"/>\n<text fill=\"#000000\" font-family=\"Times,serif\" font-size=\"14.00\" text-anchor=\"middle\" x=\"352.5\" y=\"-1255.8\">add_35: Add</text>\n</g>\n<!-- 140325416913160&#45;&gt;140325415963168 -->\n<g class=\"edge\" id=\"edge126\">\n<title>140325416913160-&gt;140325415963168</title>\n<path d=\"M376.3858,-1971.4106C386.3023,-1961.4833 397.7921,-1948.4741 405.5,-1935 426.6828,-1897.9704 434.5,-1886.1603 434.5,-1843.5 434.5,-1843.5 434.5,-1843.5 434.5,-1405.5 434.5,-1363.9658 436.5391,-1349.8112 415.5,-1314 408.7946,-1302.5865 398.8304,-1292.3676 388.7949,-1283.948\" fill=\"none\" stroke=\"#000000\"/>\n<polygon fill=\"#000000\" points=\"390.8,-1281.0709 380.7922,-1277.5929 386.4468,-1286.5527 390.8,-1281.0709\" stroke=\"#000000\"/>\n</g>\n<!-- 140325416913104 -->\n<g class=\"node\" id=\"node108\">\n<title>140325416913104</title>\n<polygon fill=\"none\" points=\"159,-1825.5 159,-1861.5 398,-1861.5 398,-1825.5 159,-1825.5\" stroke=\"#000000\"/>\n<text fill=\"#000000\" font-family=\"Times,serif\" font-size=\"14.00\" text-anchor=\"middle\" x=\"278.5\" y=\"-1839.8\">block12_sepconv1: SeparableConv2D</text>\n</g>\n<!-- 140325417338696&#45;&gt;140325416913104 -->\n<g class=\"edge\" id=\"edge117\">\n<title>140325417338696-&gt;140325416913104</title>\n<path d=\"M286.0281,-1898.4551C284.9223,-1890.3828 283.5927,-1880.6764 282.3605,-1871.6817\" fill=\"none\" stroke=\"#000000\"/>\n<polygon fill=\"#000000\" points=\"285.803,-1871.0228 280.9781,-1861.5904 278.8678,-1871.9729 285.803,-1871.0228\" stroke=\"#000000\"/>\n</g>\n<!-- 140325416481176 -->\n<g class=\"node\" id=\"node109\">\n<title>140325416481176</title>\n<polygon fill=\"none\" points=\"135,-1752.5 135,-1788.5 406,-1788.5 406,-1752.5 135,-1752.5\" stroke=\"#000000\"/>\n<text fill=\"#000000\" font-family=\"Times,serif\" font-size=\"14.00\" text-anchor=\"middle\" x=\"270.5\" y=\"-1766.8\">block12_sepconv1_bn: BatchNormalization</text>\n</g>\n<!-- 140325416913104&#45;&gt;140325416481176 -->\n<g class=\"edge\" id=\"edge118\">\n<title>140325416913104-&gt;140325416481176</title>\n<path d=\"M276.5225,-1825.4551C275.6378,-1817.3828 274.5741,-1807.6764 273.5884,-1798.6817\" fill=\"none\" stroke=\"#000000\"/>\n<polygon fill=\"#000000\" points=\"277.0511,-1798.1495 272.4825,-1788.5904 270.0928,-1798.9122 277.0511,-1798.1495\" stroke=\"#000000\"/>\n</g>\n<!-- 140325416607304 -->\n<g class=\"node\" id=\"node110\">\n<title>140325416607304</title>\n<polygon fill=\"none\" points=\"162.5,-1679.5 162.5,-1715.5 378.5,-1715.5 378.5,-1679.5 162.5,-1679.5\" stroke=\"#000000\"/>\n<text fill=\"#000000\" font-family=\"Times,serif\" font-size=\"14.00\" text-anchor=\"middle\" x=\"270.5\" y=\"-1693.8\">block12_sepconv2_act: Activation</text>\n</g>\n<!-- 140325416481176&#45;&gt;140325416607304 -->\n<g class=\"edge\" id=\"edge119\">\n<title>140325416481176-&gt;140325416607304</title>\n<path d=\"M270.5,-1752.4551C270.5,-1744.3828 270.5,-1734.6764 270.5,-1725.6817\" fill=\"none\" stroke=\"#000000\"/>\n<polygon fill=\"#000000\" points=\"274.0001,-1725.5903 270.5,-1715.5904 267.0001,-1725.5904 274.0001,-1725.5903\" stroke=\"#000000\"/>\n</g>\n<!-- 140325416607360 -->\n<g class=\"node\" id=\"node111\">\n<title>140325416607360</title>\n<polygon fill=\"none\" points=\"151,-1606.5 151,-1642.5 390,-1642.5 390,-1606.5 151,-1606.5\" stroke=\"#000000\"/>\n<text fill=\"#000000\" font-family=\"Times,serif\" font-size=\"14.00\" text-anchor=\"middle\" x=\"270.5\" y=\"-1620.8\">block12_sepconv2: SeparableConv2D</text>\n</g>\n<!-- 140325416607304&#45;&gt;140325416607360 -->\n<g class=\"edge\" id=\"edge120\">\n<title>140325416607304-&gt;140325416607360</title>\n<path d=\"M270.5,-1679.4551C270.5,-1671.3828 270.5,-1661.6764 270.5,-1652.6817\" fill=\"none\" stroke=\"#000000\"/>\n<polygon fill=\"#000000\" points=\"274.0001,-1652.5903 270.5,-1642.5904 267.0001,-1652.5904 274.0001,-1652.5903\" stroke=\"#000000\"/>\n</g>\n<!-- 140325416164600 -->\n<g class=\"node\" id=\"node112\">\n<title>140325416164600</title>\n<polygon fill=\"none\" points=\"135,-1533.5 135,-1569.5 406,-1569.5 406,-1533.5 135,-1533.5\" stroke=\"#000000\"/>\n<text fill=\"#000000\" font-family=\"Times,serif\" font-size=\"14.00\" text-anchor=\"middle\" x=\"270.5\" y=\"-1547.8\">block12_sepconv2_bn: BatchNormalization</text>\n</g>\n<!-- 140325416607360&#45;&gt;140325416164600 -->\n<g class=\"edge\" id=\"edge121\">\n<title>140325416607360-&gt;140325416164600</title>\n<path d=\"M270.5,-1606.4551C270.5,-1598.3828 270.5,-1588.6764 270.5,-1579.6817\" fill=\"none\" stroke=\"#000000\"/>\n<polygon fill=\"#000000\" points=\"274.0001,-1579.5903 270.5,-1569.5904 267.0001,-1579.5904 274.0001,-1579.5903\" stroke=\"#000000\"/>\n</g>\n<!-- 140325416275752 -->\n<g class=\"node\" id=\"node113\">\n<title>140325416275752</title>\n<polygon fill=\"none\" points=\"162.5,-1460.5 162.5,-1496.5 378.5,-1496.5 378.5,-1460.5 162.5,-1460.5\" stroke=\"#000000\"/>\n<text fill=\"#000000\" font-family=\"Times,serif\" font-size=\"14.00\" text-anchor=\"middle\" x=\"270.5\" y=\"-1474.8\">block12_sepconv3_act: Activation</text>\n</g>\n<!-- 140325416164600&#45;&gt;140325416275752 -->\n<g class=\"edge\" id=\"edge122\">\n<title>140325416164600-&gt;140325416275752</title>\n<path d=\"M270.5,-1533.4551C270.5,-1525.3828 270.5,-1515.6764 270.5,-1506.6817\" fill=\"none\" stroke=\"#000000\"/>\n<polygon fill=\"#000000\" points=\"274.0001,-1506.5903 270.5,-1496.5904 267.0001,-1506.5904 274.0001,-1506.5903\" stroke=\"#000000\"/>\n</g>\n<!-- 140325416275864 -->\n<g class=\"node\" id=\"node114\">\n<title>140325416275864</title>\n<polygon fill=\"none\" points=\"151,-1387.5 151,-1423.5 390,-1423.5 390,-1387.5 151,-1387.5\" stroke=\"#000000\"/>\n<text fill=\"#000000\" font-family=\"Times,serif\" font-size=\"14.00\" text-anchor=\"middle\" x=\"270.5\" y=\"-1401.8\">block12_sepconv3: SeparableConv2D</text>\n</g>\n<!-- 140325416275752&#45;&gt;140325416275864 -->\n<g class=\"edge\" id=\"edge123\">\n<title>140325416275752-&gt;140325416275864</title>\n<path d=\"M270.5,-1460.4551C270.5,-1452.3828 270.5,-1442.6764 270.5,-1433.6817\" fill=\"none\" stroke=\"#000000\"/>\n<polygon fill=\"#000000\" points=\"274.0001,-1433.5903 270.5,-1423.5904 267.0001,-1433.5904 274.0001,-1433.5903\" stroke=\"#000000\"/>\n</g>\n<!-- 140325416384944 -->\n<g class=\"node\" id=\"node115\">\n<title>140325416384944</title>\n<polygon fill=\"none\" points=\"135,-1314.5 135,-1350.5 406,-1350.5 406,-1314.5 135,-1314.5\" stroke=\"#000000\"/>\n<text fill=\"#000000\" font-family=\"Times,serif\" font-size=\"14.00\" text-anchor=\"middle\" x=\"270.5\" y=\"-1328.8\">block12_sepconv3_bn: BatchNormalization</text>\n</g>\n<!-- 140325416275864&#45;&gt;140325416384944 -->\n<g class=\"edge\" id=\"edge124\">\n<title>140325416275864-&gt;140325416384944</title>\n<path d=\"M270.5,-1387.4551C270.5,-1379.3828 270.5,-1369.6764 270.5,-1360.6817\" fill=\"none\" stroke=\"#000000\"/>\n<polygon fill=\"#000000\" points=\"274.0001,-1360.5903 270.5,-1350.5904 267.0001,-1360.5904 274.0001,-1360.5903\" stroke=\"#000000\"/>\n</g>\n<!-- 140325416384944&#45;&gt;140325415963168 -->\n<g class=\"edge\" id=\"edge125\">\n<title>140325416384944-&gt;140325415963168</title>\n<path d=\"M290.7697,-1314.4551C300.9212,-1305.4177 313.3738,-1294.3319 324.4291,-1284.4899\" fill=\"none\" stroke=\"#000000\"/>\n<polygon fill=\"#000000\" points=\"327.0375,-1286.8539 332.1793,-1277.5904 322.383,-1281.6255 327.0375,-1286.8539\" stroke=\"#000000\"/>\n</g>\n<!-- 140325416098672 -->\n<g class=\"node\" id=\"node117\">\n<title>140325416098672</title>\n<polygon fill=\"none\" points=\"176.5,-1168.5 176.5,-1204.5 392.5,-1204.5 392.5,-1168.5 176.5,-1168.5\" stroke=\"#000000\"/>\n<text fill=\"#000000\" font-family=\"Times,serif\" font-size=\"14.00\" text-anchor=\"middle\" x=\"284.5\" y=\"-1182.8\">block13_sepconv1_act: Activation</text>\n</g>\n<!-- 140325415963168&#45;&gt;140325416098672 -->\n<g class=\"edge\" id=\"edge127\">\n<title>140325415963168-&gt;140325416098672</title>\n<path d=\"M335.691,-1241.4551C327.4361,-1232.5932 317.3465,-1221.7616 308.3136,-1212.0646\" fill=\"none\" stroke=\"#000000\"/>\n<polygon fill=\"#000000\" points=\"310.7284,-1209.522 301.3513,-1204.5904 305.6063,-1214.2932 310.7284,-1209.522\" stroke=\"#000000\"/>\n</g>\n<!-- 140325415963784 -->\n<g class=\"node\" id=\"node123\">\n<title>140325415963784</title>\n<polygon fill=\"none\" points=\"407.5,-1095.5 407.5,-1131.5 547.5,-1131.5 547.5,-1095.5 407.5,-1095.5\" stroke=\"#000000\"/>\n<text fill=\"#000000\" font-family=\"Times,serif\" font-size=\"14.00\" text-anchor=\"middle\" x=\"477.5\" y=\"-1109.8\">conv2d_12: Conv2D</text>\n</g>\n<!-- 140325415963168&#45;&gt;140325415963784 -->\n<g class=\"edge\" id=\"edge133\">\n<title>140325415963168-&gt;140325415963784</title>\n<path d=\"M369.0129,-1241.4916C378.6005,-1230.9471 390.8505,-1217.3221 401.5,-1205 420.3527,-1183.1864 441.247,-1157.9505 456.3485,-1139.5135\" fill=\"none\" stroke=\"#000000\"/>\n<polygon fill=\"#000000\" points=\"459.2327,-1141.5153 462.8512,-1131.5575 453.8127,-1137.0853 459.2327,-1141.5153\" stroke=\"#000000\"/>\n</g>\n<!-- 140325415667080 -->\n<g class=\"node\" id=\"node118\">\n<title>140325415667080</title>\n<polygon fill=\"none\" points=\"129,-1095.5 129,-1131.5 368,-1131.5 368,-1095.5 129,-1095.5\" stroke=\"#000000\"/>\n<text fill=\"#000000\" font-family=\"Times,serif\" font-size=\"14.00\" text-anchor=\"middle\" x=\"248.5\" y=\"-1109.8\">block13_sepconv1: SeparableConv2D</text>\n</g>\n<!-- 140325416098672&#45;&gt;140325415667080 -->\n<g class=\"edge\" id=\"edge128\">\n<title>140325416098672-&gt;140325415667080</title>\n<path d=\"M275.6011,-1168.4551C271.4905,-1160.1196 266.5205,-1150.0416 261.9651,-1140.8042\" fill=\"none\" stroke=\"#000000\"/>\n<polygon fill=\"#000000\" points=\"264.9833,-1139.011 257.4213,-1131.5904 258.7052,-1142.1071 264.9833,-1139.011\" stroke=\"#000000\"/>\n</g>\n<!-- 140325415737216 -->\n<g class=\"node\" id=\"node119\">\n<title>140325415737216</title>\n<polygon fill=\"none\" points=\"71,-1022.5 71,-1058.5 342,-1058.5 342,-1022.5 71,-1022.5\" stroke=\"#000000\"/>\n<text fill=\"#000000\" font-family=\"Times,serif\" font-size=\"14.00\" text-anchor=\"middle\" x=\"206.5\" y=\"-1036.8\">block13_sepconv1_bn: BatchNormalization</text>\n</g>\n<!-- 140325415667080&#45;&gt;140325415737216 -->\n<g class=\"edge\" id=\"edge129\">\n<title>140325415667080-&gt;140325415737216</title>\n<path d=\"M238.118,-1095.4551C233.2718,-1087.0319 227.4018,-1076.8292 222.0416,-1067.5128\" fill=\"none\" stroke=\"#000000\"/>\n<polygon fill=\"#000000\" points=\"224.9289,-1065.5127 216.9082,-1058.5904 218.8614,-1069.0036 224.9289,-1065.5127\" stroke=\"#000000\"/>\n</g>\n<!-- 140325415860824 -->\n<g class=\"node\" id=\"node120\">\n<title>140325415860824</title>\n<polygon fill=\"none\" points=\"162.5,-949.5 162.5,-985.5 378.5,-985.5 378.5,-949.5 162.5,-949.5\" stroke=\"#000000\"/>\n<text fill=\"#000000\" font-family=\"Times,serif\" font-size=\"14.00\" text-anchor=\"middle\" x=\"270.5\" y=\"-963.8\">block13_sepconv2_act: Activation</text>\n</g>\n<!-- 140325415737216&#45;&gt;140325415860824 -->\n<g class=\"edge\" id=\"edge130\">\n<title>140325415737216-&gt;140325415860824</title>\n<path d=\"M222.3202,-1022.4551C230.0126,-1013.6809 239.3978,-1002.9759 247.8344,-993.353\" fill=\"none\" stroke=\"#000000\"/>\n<polygon fill=\"#000000\" points=\"250.6794,-995.4171 254.64,-985.5904 245.4158,-990.8024 250.6794,-995.4171\" stroke=\"#000000\"/>\n</g>\n<!-- 140325415860096 -->\n<g class=\"node\" id=\"node121\">\n<title>140325415860096</title>\n<polygon fill=\"none\" points=\"183,-876.5 183,-912.5 422,-912.5 422,-876.5 183,-876.5\" stroke=\"#000000\"/>\n<text fill=\"#000000\" font-family=\"Times,serif\" font-size=\"14.00\" text-anchor=\"middle\" x=\"302.5\" y=\"-890.8\">block13_sepconv2: SeparableConv2D</text>\n</g>\n<!-- 140325415860824&#45;&gt;140325415860096 -->\n<g class=\"edge\" id=\"edge131\">\n<title>140325415860824-&gt;140325415860096</title>\n<path d=\"M278.4101,-949.4551C282.064,-941.1196 286.4818,-931.0416 290.531,-921.8042\" fill=\"none\" stroke=\"#000000\"/>\n<polygon fill=\"#000000\" points=\"293.7607,-923.1542 294.57,-912.5904 287.3496,-920.3439 293.7607,-923.1542\" stroke=\"#000000\"/>\n</g>\n<!-- 140325415874632 -->\n<g class=\"node\" id=\"node122\">\n<title>140325415874632</title>\n<polygon fill=\"none\" points=\"183,-803.5 183,-839.5 454,-839.5 454,-803.5 183,-803.5\" stroke=\"#000000\"/>\n<text fill=\"#000000\" font-family=\"Times,serif\" font-size=\"14.00\" text-anchor=\"middle\" x=\"318.5\" y=\"-817.8\">block13_sepconv2_bn: BatchNormalization</text>\n</g>\n<!-- 140325415860096&#45;&gt;140325415874632 -->\n<g class=\"edge\" id=\"edge132\">\n<title>140325415860096-&gt;140325415874632</title>\n<path d=\"M306.4551,-876.4551C308.2435,-868.2951 310.398,-858.4652 312.3874,-849.3887\" fill=\"none\" stroke=\"#000000\"/>\n<polygon fill=\"#000000\" points=\"315.8128,-850.1079 314.535,-839.5904 308.9751,-848.6091 315.8128,-850.1079\" stroke=\"#000000\"/>\n</g>\n<!-- 140325412105744 -->\n<g class=\"node\" id=\"node124\">\n<title>140325412105744</title>\n<polygon fill=\"none\" points=\"249,-730.5 249,-766.5 444,-766.5 444,-730.5 249,-730.5\" stroke=\"#000000\"/>\n<text fill=\"#000000\" font-family=\"Times,serif\" font-size=\"14.00\" text-anchor=\"middle\" x=\"346.5\" y=\"-744.8\">block13_pool: MaxPooling2D</text>\n</g>\n<!-- 140325415874632&#45;&gt;140325412105744 -->\n<g class=\"edge\" id=\"edge134\">\n<title>140325415874632-&gt;140325412105744</title>\n<path d=\"M325.4214,-803.4551C328.5849,-795.2074 332.4027,-785.2536 335.9152,-776.0962\" fill=\"none\" stroke=\"#000000\"/>\n<polygon fill=\"#000000\" points=\"339.2478,-777.1806 339.5612,-766.5904 332.7121,-774.6737 339.2478,-777.1806\" stroke=\"#000000\"/>\n</g>\n<!-- 140325416068264 -->\n<g class=\"node\" id=\"node125\">\n<title>140325416068264</title>\n<polygon fill=\"none\" points=\"360.5,-1022.5 360.5,-1058.5 638.5,-1058.5 638.5,-1022.5 360.5,-1022.5\" stroke=\"#000000\"/>\n<text fill=\"#000000\" font-family=\"Times,serif\" font-size=\"14.00\" text-anchor=\"middle\" x=\"499.5\" y=\"-1036.8\">batch_normalization_12: BatchNormalization</text>\n</g>\n<!-- 140325415963784&#45;&gt;140325416068264 -->\n<g class=\"edge\" id=\"edge135\">\n<title>140325415963784-&gt;140325416068264</title>\n<path d=\"M482.9382,-1095.4551C485.3974,-1087.2951 488.3598,-1077.4652 491.0952,-1068.3887\" fill=\"none\" stroke=\"#000000\"/>\n<polygon fill=\"#000000\" points=\"494.5137,-1069.175 494.0481,-1058.5904 487.8114,-1067.1551 494.5137,-1069.175\" stroke=\"#000000\"/>\n</g>\n<!-- 140325412131448 -->\n<g class=\"node\" id=\"node126\">\n<title>140325412131448</title>\n<polygon fill=\"none\" points=\"362.5,-657.5 362.5,-693.5 454.5,-693.5 454.5,-657.5 362.5,-657.5\" stroke=\"#000000\"/>\n<text fill=\"#000000\" font-family=\"Times,serif\" font-size=\"14.00\" text-anchor=\"middle\" x=\"408.5\" y=\"-671.8\">add_36: Add</text>\n</g>\n<!-- 140325412105744&#45;&gt;140325412131448 -->\n<g class=\"edge\" id=\"edge136\">\n<title>140325412105744-&gt;140325412131448</title>\n<path d=\"M361.8258,-730.4551C369.2779,-721.6809 378.3698,-710.9759 386.5427,-701.353\" fill=\"none\" stroke=\"#000000\"/>\n<polygon fill=\"#000000\" points=\"389.3298,-703.4781 393.1356,-693.5904 383.9944,-698.9466 389.3298,-703.4781\" stroke=\"#000000\"/>\n</g>\n<!-- 140325416068264&#45;&gt;140325412131448 -->\n<g class=\"edge\" id=\"edge137\">\n<title>140325416068264-&gt;140325412131448</title>\n<path d=\"M497.6352,-1022.0845C494.999,-994.4173 490.5,-940.4656 490.5,-894.5 490.5,-894.5 490.5,-894.5 490.5,-821.5 490.5,-774.6666 458.0278,-728.9601 433.952,-701.5084\" fill=\"none\" stroke=\"#000000\"/>\n<polygon fill=\"#000000\" points=\"436.407,-699.0047 427.1071,-693.9291 431.2119,-703.6964 436.407,-699.0047\" stroke=\"#000000\"/>\n</g>\n<!-- 140325412133520 -->\n<g class=\"node\" id=\"node127\">\n<title>140325412133520</title>\n<polygon fill=\"none\" points=\"289,-584.5 289,-620.5 528,-620.5 528,-584.5 289,-584.5\" stroke=\"#000000\"/>\n<text fill=\"#000000\" font-family=\"Times,serif\" font-size=\"14.00\" text-anchor=\"middle\" x=\"408.5\" y=\"-598.8\">block14_sepconv1: SeparableConv2D</text>\n</g>\n<!-- 140325412131448&#45;&gt;140325412133520 -->\n<g class=\"edge\" id=\"edge138\">\n<title>140325412131448-&gt;140325412133520</title>\n<path d=\"M408.5,-657.4551C408.5,-649.3828 408.5,-639.6764 408.5,-630.6817\" fill=\"none\" stroke=\"#000000\"/>\n<polygon fill=\"#000000\" points=\"412.0001,-630.5903 408.5,-620.5904 405.0001,-630.5904 412.0001,-630.5903\" stroke=\"#000000\"/>\n</g>\n<!-- 140325412200008 -->\n<g class=\"node\" id=\"node128\">\n<title>140325412200008</title>\n<polygon fill=\"none\" points=\"273,-511.5 273,-547.5 544,-547.5 544,-511.5 273,-511.5\" stroke=\"#000000\"/>\n<text fill=\"#000000\" font-family=\"Times,serif\" font-size=\"14.00\" text-anchor=\"middle\" x=\"408.5\" y=\"-525.8\">block14_sepconv1_bn: BatchNormalization</text>\n</g>\n<!-- 140325412133520&#45;&gt;140325412200008 -->\n<g class=\"edge\" id=\"edge139\">\n<title>140325412133520-&gt;140325412200008</title>\n<path d=\"M408.5,-584.4551C408.5,-576.3828 408.5,-566.6764 408.5,-557.6817\" fill=\"none\" stroke=\"#000000\"/>\n<polygon fill=\"#000000\" points=\"412.0001,-557.5903 408.5,-547.5904 405.0001,-557.5904 412.0001,-557.5903\" stroke=\"#000000\"/>\n</g>\n<!-- 140325406305920 -->\n<g class=\"node\" id=\"node129\">\n<title>140325406305920</title>\n<polygon fill=\"none\" points=\"300.5,-438.5 300.5,-474.5 516.5,-474.5 516.5,-438.5 300.5,-438.5\" stroke=\"#000000\"/>\n<text fill=\"#000000\" font-family=\"Times,serif\" font-size=\"14.00\" text-anchor=\"middle\" x=\"408.5\" y=\"-452.8\">block14_sepconv1_act: Activation</text>\n</g>\n<!-- 140325412200008&#45;&gt;140325406305920 -->\n<g class=\"edge\" id=\"edge140\">\n<title>140325412200008-&gt;140325406305920</title>\n<path d=\"M408.5,-511.4551C408.5,-503.3828 408.5,-493.6764 408.5,-484.6817\" fill=\"none\" stroke=\"#000000\"/>\n<polygon fill=\"#000000\" points=\"412.0001,-484.5903 408.5,-474.5904 405.0001,-484.5904 412.0001,-484.5903\" stroke=\"#000000\"/>\n</g>\n<!-- 140325406306032 -->\n<g class=\"node\" id=\"node130\">\n<title>140325406306032</title>\n<polygon fill=\"none\" points=\"289,-365.5 289,-401.5 528,-401.5 528,-365.5 289,-365.5\" stroke=\"#000000\"/>\n<text fill=\"#000000\" font-family=\"Times,serif\" font-size=\"14.00\" text-anchor=\"middle\" x=\"408.5\" y=\"-379.8\">block14_sepconv2: SeparableConv2D</text>\n</g>\n<!-- 140325406305920&#45;&gt;140325406306032 -->\n<g class=\"edge\" id=\"edge141\">\n<title>140325406305920-&gt;140325406306032</title>\n<path d=\"M408.5,-438.4551C408.5,-430.3828 408.5,-420.6764 408.5,-411.6817\" fill=\"none\" stroke=\"#000000\"/>\n<polygon fill=\"#000000\" points=\"412.0001,-411.5903 408.5,-401.5904 405.0001,-411.5904 412.0001,-411.5903\" stroke=\"#000000\"/>\n</g>\n<!-- 140325406402824 -->\n<g class=\"node\" id=\"node131\">\n<title>140325406402824</title>\n<polygon fill=\"none\" points=\"273,-292.5 273,-328.5 544,-328.5 544,-292.5 273,-292.5\" stroke=\"#000000\"/>\n<text fill=\"#000000\" font-family=\"Times,serif\" font-size=\"14.00\" text-anchor=\"middle\" x=\"408.5\" y=\"-306.8\">block14_sepconv2_bn: BatchNormalization</text>\n</g>\n<!-- 140325406306032&#45;&gt;140325406402824 -->\n<g class=\"edge\" id=\"edge142\">\n<title>140325406306032-&gt;140325406402824</title>\n<path d=\"M408.5,-365.4551C408.5,-357.3828 408.5,-347.6764 408.5,-338.6817\" fill=\"none\" stroke=\"#000000\"/>\n<polygon fill=\"#000000\" points=\"412.0001,-338.5903 408.5,-328.5904 405.0001,-338.5904 412.0001,-338.5903\" stroke=\"#000000\"/>\n</g>\n<!-- 140325405997432 -->\n<g class=\"node\" id=\"node132\">\n<title>140325405997432</title>\n<polygon fill=\"none\" points=\"300.5,-219.5 300.5,-255.5 516.5,-255.5 516.5,-219.5 300.5,-219.5\" stroke=\"#000000\"/>\n<text fill=\"#000000\" font-family=\"Times,serif\" font-size=\"14.00\" text-anchor=\"middle\" x=\"408.5\" y=\"-233.8\">block14_sepconv2_act: Activation</text>\n</g>\n<!-- 140325406402824&#45;&gt;140325405997432 -->\n<g class=\"edge\" id=\"edge143\">\n<title>140325406402824-&gt;140325405997432</title>\n<path d=\"M408.5,-292.4551C408.5,-284.3828 408.5,-274.6764 408.5,-265.6817\" fill=\"none\" stroke=\"#000000\"/>\n<polygon fill=\"#000000\" points=\"412.0001,-265.5903 408.5,-255.5904 405.0001,-265.5904 412.0001,-265.5903\" stroke=\"#000000\"/>\n</g>\n<!-- 140325405881400 -->\n<g class=\"node\" id=\"node133\">\n<title>140325405881400</title>\n<polygon fill=\"none\" points=\"233,-146.5 233,-182.5 584,-182.5 584,-146.5 233,-146.5\" stroke=\"#000000\"/>\n<text fill=\"#000000\" font-family=\"Times,serif\" font-size=\"14.00\" text-anchor=\"middle\" x=\"408.5\" y=\"-160.8\">global_average_pooling2d_12: GlobalAveragePooling2D</text>\n</g>\n<!-- 140325405997432&#45;&gt;140325405881400 -->\n<g class=\"edge\" id=\"edge144\">\n<title>140325405997432-&gt;140325405881400</title>\n<path d=\"M408.5,-219.4551C408.5,-211.3828 408.5,-201.6764 408.5,-192.6817\" fill=\"none\" stroke=\"#000000\"/>\n<polygon fill=\"#000000\" points=\"412.0001,-192.5903 408.5,-182.5904 405.0001,-192.5904 412.0001,-192.5903\" stroke=\"#000000\"/>\n</g>\n<!-- 140325405881624 -->\n<g class=\"node\" id=\"node134\">\n<title>140325405881624</title>\n<polygon fill=\"none\" points=\"351.5,-73.5 351.5,-109.5 465.5,-109.5 465.5,-73.5 351.5,-73.5\" stroke=\"#000000\"/>\n<text fill=\"#000000\" font-family=\"Times,serif\" font-size=\"14.00\" text-anchor=\"middle\" x=\"408.5\" y=\"-87.8\">dense_23: Dense</text>\n</g>\n<!-- 140325405881400&#45;&gt;140325405881624 -->\n<g class=\"edge\" id=\"edge145\">\n<title>140325405881400-&gt;140325405881624</title>\n<path d=\"M408.5,-146.4551C408.5,-138.3828 408.5,-128.6764 408.5,-119.6817\" fill=\"none\" stroke=\"#000000\"/>\n<polygon fill=\"#000000\" points=\"412.0001,-119.5903 408.5,-109.5904 405.0001,-119.5904 412.0001,-119.5903\" stroke=\"#000000\"/>\n</g>\n<!-- 140325405881904 -->\n<g class=\"node\" id=\"node135\">\n<title>140325405881904</title>\n<polygon fill=\"none\" points=\"351.5,-.5 351.5,-36.5 465.5,-36.5 465.5,-.5 351.5,-.5\" stroke=\"#000000\"/>\n<text fill=\"#000000\" font-family=\"Times,serif\" font-size=\"14.00\" text-anchor=\"middle\" x=\"408.5\" y=\"-14.8\">dense_24: Dense</text>\n</g>\n<!-- 140325405881624&#45;&gt;140325405881904 -->\n<g class=\"edge\" id=\"edge146\">\n<title>140325405881624-&gt;140325405881904</title>\n<path d=\"M408.5,-73.4551C408.5,-65.3828 408.5,-55.6764 408.5,-46.6817\" fill=\"none\" stroke=\"#000000\"/>\n<polygon fill=\"#000000\" points=\"412.0001,-46.5903 408.5,-36.5904 405.0001,-46.5904 412.0001,-46.5903\" stroke=\"#000000\"/>\n</g>\n</g>\n</svg>"
=======
            "image/svg+xml": "<svg height=\"9243pt\" viewBox=\"0.00 0.00 636.00 9243.00\" width=\"636pt\" xmlns=\"http://www.w3.org/2000/svg\" xmlns:xlink=\"http://www.w3.org/1999/xlink\">\n<g class=\"graph\" id=\"graph0\" transform=\"scale(1 1) rotate(0) translate(4 9239)\">\n<title>G</title>\n<polygon fill=\"#ffffff\" points=\"-4,4 -4,-9239 632,-9239 632,4 -4,4\" stroke=\"transparent\"/>\n<!-- 140596149354224 -->\n<g class=\"node\" id=\"node1\">\n<title>140596149354224</title>\n<polygon fill=\"none\" points=\"177,-9198.5 177,-9234.5 310,-9234.5 310,-9198.5 177,-9198.5\" stroke=\"#000000\"/>\n<text fill=\"#000000\" font-family=\"Times,serif\" font-size=\"14.00\" text-anchor=\"middle\" x=\"243.5\" y=\"-9212.8\">input_2: InputLayer</text>\n</g>\n<!-- 140596149354392 -->\n<g class=\"node\" id=\"node2\">\n<title>140596149354392</title>\n<polygon fill=\"none\" points=\"164.5,-9125.5 164.5,-9161.5 322.5,-9161.5 322.5,-9125.5 164.5,-9125.5\" stroke=\"#000000\"/>\n<text fill=\"#000000\" font-family=\"Times,serif\" font-size=\"14.00\" text-anchor=\"middle\" x=\"243.5\" y=\"-9139.8\">block1_conv1: Conv2D</text>\n</g>\n<!-- 140596149354224&#45;&gt;140596149354392 -->\n<g class=\"edge\" id=\"edge1\">\n<title>140596149354224-&gt;140596149354392</title>\n<path d=\"M243.5,-9198.4551C243.5,-9190.3828 243.5,-9180.6764 243.5,-9171.6817\" fill=\"none\" stroke=\"#000000\"/>\n<polygon fill=\"#000000\" points=\"247.0001,-9171.5903 243.5,-9161.5904 240.0001,-9171.5904 247.0001,-9171.5903\" stroke=\"#000000\"/>\n</g>\n<!-- 140596154187960 -->\n<g class=\"node\" id=\"node3\">\n<title>140596154187960</title>\n<polygon fill=\"none\" points=\"121,-9052.5 121,-9088.5 366,-9088.5 366,-9052.5 121,-9052.5\" stroke=\"#000000\"/>\n<text fill=\"#000000\" font-family=\"Times,serif\" font-size=\"14.00\" text-anchor=\"middle\" x=\"243.5\" y=\"-9066.8\">block1_conv1_bn: BatchNormalization</text>\n</g>\n<!-- 140596149354392&#45;&gt;140596154187960 -->\n<g class=\"edge\" id=\"edge2\">\n<title>140596149354392-&gt;140596154187960</title>\n<path d=\"M243.5,-9125.4551C243.5,-9117.3828 243.5,-9107.6764 243.5,-9098.6817\" fill=\"none\" stroke=\"#000000\"/>\n<polygon fill=\"#000000\" points=\"247.0001,-9098.5903 243.5,-9088.5904 240.0001,-9098.5904 247.0001,-9098.5903\" stroke=\"#000000\"/>\n</g>\n<!-- 140596154188352 -->\n<g class=\"node\" id=\"node4\">\n<title>140596154188352</title>\n<polygon fill=\"none\" points=\"148.5,-8979.5 148.5,-9015.5 338.5,-9015.5 338.5,-8979.5 148.5,-8979.5\" stroke=\"#000000\"/>\n<text fill=\"#000000\" font-family=\"Times,serif\" font-size=\"14.00\" text-anchor=\"middle\" x=\"243.5\" y=\"-8993.8\">block1_conv1_act: Activation</text>\n</g>\n<!-- 140596154187960&#45;&gt;140596154188352 -->\n<g class=\"edge\" id=\"edge3\">\n<title>140596154187960-&gt;140596154188352</title>\n<path d=\"M243.5,-9052.4551C243.5,-9044.3828 243.5,-9034.6764 243.5,-9025.6817\" fill=\"none\" stroke=\"#000000\"/>\n<polygon fill=\"#000000\" points=\"247.0001,-9025.5903 243.5,-9015.5904 240.0001,-9025.5904 247.0001,-9025.5903\" stroke=\"#000000\"/>\n</g>\n<!-- 140596154188296 -->\n<g class=\"node\" id=\"node5\">\n<title>140596154188296</title>\n<polygon fill=\"none\" points=\"164.5,-8906.5 164.5,-8942.5 322.5,-8942.5 322.5,-8906.5 164.5,-8906.5\" stroke=\"#000000\"/>\n<text fill=\"#000000\" font-family=\"Times,serif\" font-size=\"14.00\" text-anchor=\"middle\" x=\"243.5\" y=\"-8920.8\">block1_conv2: Conv2D</text>\n</g>\n<!-- 140596154188352&#45;&gt;140596154188296 -->\n<g class=\"edge\" id=\"edge4\">\n<title>140596154188352-&gt;140596154188296</title>\n<path d=\"M243.5,-8979.4551C243.5,-8971.3828 243.5,-8961.6764 243.5,-8952.6817\" fill=\"none\" stroke=\"#000000\"/>\n<polygon fill=\"#000000\" points=\"247.0001,-8952.5903 243.5,-8942.5904 240.0001,-8952.5904 247.0001,-8952.5903\" stroke=\"#000000\"/>\n</g>\n<!-- 140596123930128 -->\n<g class=\"node\" id=\"node6\">\n<title>140596123930128</title>\n<polygon fill=\"none\" points=\"121,-8833.5 121,-8869.5 366,-8869.5 366,-8833.5 121,-8833.5\" stroke=\"#000000\"/>\n<text fill=\"#000000\" font-family=\"Times,serif\" font-size=\"14.00\" text-anchor=\"middle\" x=\"243.5\" y=\"-8847.8\">block1_conv2_bn: BatchNormalization</text>\n</g>\n<!-- 140596154188296&#45;&gt;140596123930128 -->\n<g class=\"edge\" id=\"edge5\">\n<title>140596154188296-&gt;140596123930128</title>\n<path d=\"M243.5,-8906.4551C243.5,-8898.3828 243.5,-8888.6764 243.5,-8879.6817\" fill=\"none\" stroke=\"#000000\"/>\n<polygon fill=\"#000000\" points=\"247.0001,-8879.5903 243.5,-8869.5904 240.0001,-8879.5904 247.0001,-8879.5903\" stroke=\"#000000\"/>\n</g>\n<!-- 140596123957736 -->\n<g class=\"node\" id=\"node7\">\n<title>140596123957736</title>\n<polygon fill=\"none\" points=\"148.5,-8760.5 148.5,-8796.5 338.5,-8796.5 338.5,-8760.5 148.5,-8760.5\" stroke=\"#000000\"/>\n<text fill=\"#000000\" font-family=\"Times,serif\" font-size=\"14.00\" text-anchor=\"middle\" x=\"243.5\" y=\"-8774.8\">block1_conv2_act: Activation</text>\n</g>\n<!-- 140596123930128&#45;&gt;140596123957736 -->\n<g class=\"edge\" id=\"edge6\">\n<title>140596123930128-&gt;140596123957736</title>\n<path d=\"M243.5,-8833.4551C243.5,-8825.3828 243.5,-8815.6764 243.5,-8806.6817\" fill=\"none\" stroke=\"#000000\"/>\n<polygon fill=\"#000000\" points=\"247.0001,-8806.5903 243.5,-8796.5904 240.0001,-8806.5904 247.0001,-8806.5903\" stroke=\"#000000\"/>\n</g>\n<!-- 140596124139136 -->\n<g class=\"node\" id=\"node8\">\n<title>140596124139136</title>\n<polygon fill=\"none\" points=\"55.5,-8687.5 55.5,-8723.5 287.5,-8723.5 287.5,-8687.5 55.5,-8687.5\" stroke=\"#000000\"/>\n<text fill=\"#000000\" font-family=\"Times,serif\" font-size=\"14.00\" text-anchor=\"middle\" x=\"171.5\" y=\"-8701.8\">block2_sepconv1: SeparableConv2D</text>\n</g>\n<!-- 140596123957736&#45;&gt;140596124139136 -->\n<g class=\"edge\" id=\"edge7\">\n<title>140596123957736-&gt;140596124139136</title>\n<path d=\"M225.7022,-8760.4551C216.8752,-8751.5054 206.0669,-8740.547 196.4307,-8730.7769\" fill=\"none\" stroke=\"#000000\"/>\n<polygon fill=\"#000000\" points=\"198.8566,-8728.2523 189.3425,-8723.5904 193.8728,-8733.1678 198.8566,-8728.2523\" stroke=\"#000000\"/>\n</g>\n<!-- 140596124048352 -->\n<g class=\"node\" id=\"node13\">\n<title>140596124048352</title>\n<polygon fill=\"none\" points=\"295,-8614.5 295,-8650.5 428,-8650.5 428,-8614.5 295,-8614.5\" stroke=\"#000000\"/>\n<text fill=\"#000000\" font-family=\"Times,serif\" font-size=\"14.00\" text-anchor=\"middle\" x=\"361.5\" y=\"-8628.8\">conv2d_5: Conv2D</text>\n</g>\n<!-- 140596123957736&#45;&gt;140596124048352 -->\n<g class=\"edge\" id=\"edge12\">\n<title>140596123957736-&gt;140596124048352</title>\n<path d=\"M262.3869,-8760.4961C272.8508,-8750.1794 285.8563,-8736.7772 296.5,-8724 313.9418,-8703.062 331.7253,-8677.6935 344.272,-8658.984\" fill=\"none\" stroke=\"#000000\"/>\n<polygon fill=\"#000000\" points=\"347.1972,-8660.9058 349.8168,-8650.6399 341.367,-8657.0315 347.1972,-8660.9058\" stroke=\"#000000\"/>\n</g>\n<!-- 140596123823632 -->\n<g class=\"node\" id=\"node9\">\n<title>140596123823632</title>\n<polygon fill=\"none\" points=\"4,-8614.5 4,-8650.5 267,-8650.5 267,-8614.5 4,-8614.5\" stroke=\"#000000\"/>\n<text fill=\"#000000\" font-family=\"Times,serif\" font-size=\"14.00\" text-anchor=\"middle\" x=\"135.5\" y=\"-8628.8\">block2_sepconv1_bn: BatchNormalization</text>\n</g>\n<!-- 140596124139136&#45;&gt;140596123823632 -->\n<g class=\"edge\" id=\"edge8\">\n<title>140596124139136-&gt;140596123823632</title>\n<path d=\"M162.6011,-8687.4551C158.4905,-8679.1196 153.5205,-8669.0416 148.9651,-8659.8042\" fill=\"none\" stroke=\"#000000\"/>\n<polygon fill=\"#000000\" points=\"151.9833,-8658.011 144.4213,-8650.5904 145.7052,-8661.1071 151.9833,-8658.011\" stroke=\"#000000\"/>\n</g>\n<!-- 140596123842264 -->\n<g class=\"node\" id=\"node10\">\n<title>140596123842264</title>\n<polygon fill=\"none\" points=\"10,-8541.5 10,-8577.5 219,-8577.5 219,-8541.5 10,-8541.5\" stroke=\"#000000\"/>\n<text fill=\"#000000\" font-family=\"Times,serif\" font-size=\"14.00\" text-anchor=\"middle\" x=\"114.5\" y=\"-8555.8\">block2_sepconv2_act: Activation</text>\n</g>\n<!-- 140596123823632&#45;&gt;140596123842264 -->\n<g class=\"edge\" id=\"edge9\">\n<title>140596123823632-&gt;140596123842264</title>\n<path d=\"M130.309,-8614.4551C127.9616,-8606.2951 125.1338,-8596.4652 122.5228,-8587.3887\" fill=\"none\" stroke=\"#000000\"/>\n<polygon fill=\"#000000\" points=\"125.8323,-8586.233 119.7041,-8577.5904 119.1052,-8588.1683 125.8323,-8586.233\" stroke=\"#000000\"/>\n</g>\n<!-- 140596047777520 -->\n<g class=\"node\" id=\"node11\">\n<title>140596047777520</title>\n<polygon fill=\"none\" points=\"22.5,-8468.5 22.5,-8504.5 254.5,-8504.5 254.5,-8468.5 22.5,-8468.5\" stroke=\"#000000\"/>\n<text fill=\"#000000\" font-family=\"Times,serif\" font-size=\"14.00\" text-anchor=\"middle\" x=\"138.5\" y=\"-8482.8\">block2_sepconv2: SeparableConv2D</text>\n</g>\n<!-- 140596123842264&#45;&gt;140596047777520 -->\n<g class=\"edge\" id=\"edge10\">\n<title>140596123842264-&gt;140596047777520</title>\n<path d=\"M120.4326,-8541.4551C123.1442,-8533.2074 126.4166,-8523.2536 129.4273,-8514.0962\" fill=\"none\" stroke=\"#000000\"/>\n<polygon fill=\"#000000\" points=\"132.7541,-8515.1833 132.5525,-8504.5904 126.1043,-8512.997 132.7541,-8515.1833\" stroke=\"#000000\"/>\n</g>\n<!-- 140596047851304 -->\n<g class=\"node\" id=\"node12\">\n<title>140596047851304</title>\n<polygon fill=\"none\" points=\"56,-8395.5 56,-8431.5 319,-8431.5 319,-8395.5 56,-8395.5\" stroke=\"#000000\"/>\n<text fill=\"#000000\" font-family=\"Times,serif\" font-size=\"14.00\" text-anchor=\"middle\" x=\"187.5\" y=\"-8409.8\">block2_sepconv2_bn: BatchNormalization</text>\n</g>\n<!-- 140596047777520&#45;&gt;140596047851304 -->\n<g class=\"edge\" id=\"edge11\">\n<title>140596047777520-&gt;140596047851304</title>\n<path d=\"M150.6124,-8468.4551C156.3841,-8459.8564 163.4005,-8449.4034 169.7582,-8439.9316\" fill=\"none\" stroke=\"#000000\"/>\n<polygon fill=\"#000000\" points=\"172.6899,-8441.844 175.3572,-8431.5904 166.8778,-8437.9427 172.6899,-8441.844\" stroke=\"#000000\"/>\n</g>\n<!-- 140596047961168 -->\n<g class=\"node\" id=\"node14\">\n<title>140596047961168</title>\n<polygon fill=\"none\" points=\"118.5,-8322.5 118.5,-8358.5 306.5,-8358.5 306.5,-8322.5 118.5,-8322.5\" stroke=\"#000000\"/>\n<text fill=\"#000000\" font-family=\"Times,serif\" font-size=\"14.00\" text-anchor=\"middle\" x=\"212.5\" y=\"-8336.8\">block2_pool: MaxPooling2D</text>\n</g>\n<!-- 140596047851304&#45;&gt;140596047961168 -->\n<g class=\"edge\" id=\"edge13\">\n<title>140596047851304-&gt;140596047961168</title>\n<path d=\"M193.6798,-8395.4551C196.5043,-8387.2074 199.9132,-8377.2536 203.0493,-8368.0962\" fill=\"none\" stroke=\"#000000\"/>\n<polygon fill=\"#000000\" points=\"206.3759,-8369.185 206.3047,-8358.5904 199.7535,-8366.917 206.3759,-8369.185\" stroke=\"#000000\"/>\n</g>\n<!-- 140596124069960 -->\n<g class=\"node\" id=\"node15\">\n<title>140596124069960</title>\n<polygon fill=\"none\" points=\"237,-8541.5 237,-8577.5 508,-8577.5 508,-8541.5 237,-8541.5\" stroke=\"#000000\"/>\n<text fill=\"#000000\" font-family=\"Times,serif\" font-size=\"14.00\" text-anchor=\"middle\" x=\"372.5\" y=\"-8555.8\">batch_normalization_5: BatchNormalization</text>\n</g>\n<!-- 140596124048352&#45;&gt;140596124069960 -->\n<g class=\"edge\" id=\"edge14\">\n<title>140596124048352-&gt;140596124069960</title>\n<path d=\"M364.2191,-8614.4551C365.4355,-8606.3828 366.8981,-8596.6764 368.2534,-8587.6817\" fill=\"none\" stroke=\"#000000\"/>\n<polygon fill=\"#000000\" points=\"371.7449,-8588.0003 369.7741,-8577.5904 364.823,-8586.9572 371.7449,-8588.0003\" stroke=\"#000000\"/>\n</g>\n<!-- 140596047982776 -->\n<g class=\"node\" id=\"node16\">\n<title>140596047982776</title>\n<polygon fill=\"none\" points=\"227.5,-8249.5 227.5,-8285.5 319.5,-8285.5 319.5,-8249.5 227.5,-8249.5\" stroke=\"#000000\"/>\n<text fill=\"#000000\" font-family=\"Times,serif\" font-size=\"14.00\" text-anchor=\"middle\" x=\"273.5\" y=\"-8263.8\">add_13: Add</text>\n</g>\n<!-- 140596047961168&#45;&gt;140596047982776 -->\n<g class=\"edge\" id=\"edge15\">\n<title>140596047961168-&gt;140596047982776</title>\n<path d=\"M227.5787,-8322.4551C234.9105,-8313.6809 243.8557,-8302.9759 251.8968,-8293.353\" fill=\"none\" stroke=\"#000000\"/>\n<polygon fill=\"#000000\" points=\"254.6569,-8295.5082 258.3834,-8285.5904 249.2854,-8291.0197 254.6569,-8295.5082\" stroke=\"#000000\"/>\n</g>\n<!-- 140596124069960&#45;&gt;140596047982776 -->\n<g class=\"edge\" id=\"edge16\">\n<title>140596124069960-&gt;140596047982776</title>\n<path d=\"M370.7629,-8541.361C366.297,-8500.4311 352.0872,-8398.5089 315.5,-8322 310.7354,-8312.0367 303.9344,-8302.1615 297.1892,-8293.6104\" fill=\"none\" stroke=\"#000000\"/>\n<polygon fill=\"#000000\" points=\"299.8653,-8291.3542 290.8076,-8285.8579 294.4608,-8295.803 299.8653,-8291.3542\" stroke=\"#000000\"/>\n</g>\n<!-- 140596047583888 -->\n<g class=\"node\" id=\"node17\">\n<title>140596047583888</title>\n<polygon fill=\"none\" points=\"103,-8176.5 103,-8212.5 312,-8212.5 312,-8176.5 103,-8176.5\" stroke=\"#000000\"/>\n<text fill=\"#000000\" font-family=\"Times,serif\" font-size=\"14.00\" text-anchor=\"middle\" x=\"207.5\" y=\"-8190.8\">block3_sepconv1_act: Activation</text>\n</g>\n<!-- 140596047982776&#45;&gt;140596047583888 -->\n<g class=\"edge\" id=\"edge17\">\n<title>140596047982776-&gt;140596047583888</title>\n<path d=\"M257.1854,-8249.4551C249.1733,-8240.5932 239.3804,-8229.7616 230.6132,-8220.0646\" fill=\"none\" stroke=\"#000000\"/>\n<polygon fill=\"#000000\" points=\"233.1584,-8217.6609 223.8557,-8212.5904 227.9659,-8222.3554 233.1584,-8217.6609\" stroke=\"#000000\"/>\n</g>\n<!-- 140596047984848 -->\n<g class=\"node\" id=\"node23\">\n<title>140596047984848</title>\n<polygon fill=\"none\" points=\"329,-8103.5 329,-8139.5 462,-8139.5 462,-8103.5 329,-8103.5\" stroke=\"#000000\"/>\n<text fill=\"#000000\" font-family=\"Times,serif\" font-size=\"14.00\" text-anchor=\"middle\" x=\"395.5\" y=\"-8117.8\">conv2d_6: Conv2D</text>\n</g>\n<!-- 140596047982776&#45;&gt;140596047984848 -->\n<g class=\"edge\" id=\"edge23\">\n<title>140596047982776-&gt;140596047984848</title>\n<path d=\"M289.2809,-8249.4306C298.4579,-8238.8658 310.2079,-8225.2408 320.5,-8213 338.8407,-8191.1867 359.332,-8166.14 374.2551,-8147.7727\" fill=\"none\" stroke=\"#000000\"/>\n<polygon fill=\"#000000\" points=\"377.1093,-8149.81 380.692,-8139.8393 371.6734,-8145.3995 377.1093,-8149.81\" stroke=\"#000000\"/>\n</g>\n<!-- 140596047662720 -->\n<g class=\"node\" id=\"node18\">\n<title>140596047662720</title>\n<polygon fill=\"none\" points=\"57.5,-8103.5 57.5,-8139.5 289.5,-8139.5 289.5,-8103.5 57.5,-8103.5\" stroke=\"#000000\"/>\n<text fill=\"#000000\" font-family=\"Times,serif\" font-size=\"14.00\" text-anchor=\"middle\" x=\"173.5\" y=\"-8117.8\">block3_sepconv1: SeparableConv2D</text>\n</g>\n<!-- 140596047583888&#45;&gt;140596047662720 -->\n<g class=\"edge\" id=\"edge18\">\n<title>140596047583888-&gt;140596047662720</title>\n<path d=\"M199.0955,-8176.4551C195.2132,-8168.1196 190.5194,-8158.0416 186.217,-8148.8042\" fill=\"none\" stroke=\"#000000\"/>\n<polygon fill=\"#000000\" points=\"189.3205,-8147.1776 181.9256,-8139.5904 182.975,-8150.1331 189.3205,-8147.1776\" stroke=\"#000000\"/>\n</g>\n<!-- 140596047663056 -->\n<g class=\"node\" id=\"node19\">\n<title>140596047663056</title>\n<polygon fill=\"none\" points=\"0,-8030.5 0,-8066.5 263,-8066.5 263,-8030.5 0,-8030.5\" stroke=\"#000000\"/>\n<text fill=\"#000000\" font-family=\"Times,serif\" font-size=\"14.00\" text-anchor=\"middle\" x=\"131.5\" y=\"-8044.8\">block3_sepconv1_bn: BatchNormalization</text>\n</g>\n<!-- 140596047662720&#45;&gt;140596047663056 -->\n<g class=\"edge\" id=\"edge19\">\n<title>140596047662720-&gt;140596047663056</title>\n<path d=\"M163.118,-8103.4551C158.2718,-8095.0319 152.4018,-8084.8292 147.0416,-8075.5128\" fill=\"none\" stroke=\"#000000\"/>\n<polygon fill=\"#000000\" points=\"149.9289,-8073.5127 141.9082,-8066.5904 143.8614,-8077.0036 149.9289,-8073.5127\" stroke=\"#000000\"/>\n</g>\n<!-- 140596047326512 -->\n<g class=\"node\" id=\"node20\">\n<title>140596047326512</title>\n<polygon fill=\"none\" points=\"89,-7957.5 89,-7993.5 298,-7993.5 298,-7957.5 89,-7957.5\" stroke=\"#000000\"/>\n<text fill=\"#000000\" font-family=\"Times,serif\" font-size=\"14.00\" text-anchor=\"middle\" x=\"193.5\" y=\"-7971.8\">block3_sepconv2_act: Activation</text>\n</g>\n<!-- 140596047663056&#45;&gt;140596047326512 -->\n<g class=\"edge\" id=\"edge20\">\n<title>140596047663056-&gt;140596047326512</title>\n<path d=\"M146.8258,-8030.4551C154.2779,-8021.6809 163.3698,-8010.9759 171.5427,-8001.353\" fill=\"none\" stroke=\"#000000\"/>\n<polygon fill=\"#000000\" points=\"174.3298,-8003.4781 178.1356,-7993.5904 168.9944,-7998.9466 174.3298,-8003.4781\" stroke=\"#000000\"/>\n</g>\n<!-- 140596047350472 -->\n<g class=\"node\" id=\"node21\">\n<title>140596047350472</title>\n<polygon fill=\"none\" points=\"108.5,-7884.5 108.5,-7920.5 340.5,-7920.5 340.5,-7884.5 108.5,-7884.5\" stroke=\"#000000\"/>\n<text fill=\"#000000\" font-family=\"Times,serif\" font-size=\"14.00\" text-anchor=\"middle\" x=\"224.5\" y=\"-7898.8\">block3_sepconv2: SeparableConv2D</text>\n</g>\n<!-- 140596047326512&#45;&gt;140596047350472 -->\n<g class=\"edge\" id=\"edge21\">\n<title>140596047326512-&gt;140596047350472</title>\n<path d=\"M201.1629,-7957.4551C204.7026,-7949.1196 208.9823,-7939.0416 212.9051,-7929.8042\" fill=\"none\" stroke=\"#000000\"/>\n<polygon fill=\"#000000\" points=\"216.1306,-7931.1629 216.8178,-7920.5904 209.6874,-7928.4267 216.1306,-7931.1629\" stroke=\"#000000\"/>\n</g>\n<!-- 140596047420384 -->\n<g class=\"node\" id=\"node22\">\n<title>140596047420384</title>\n<polygon fill=\"none\" points=\"109,-7811.5 109,-7847.5 372,-7847.5 372,-7811.5 109,-7811.5\" stroke=\"#000000\"/>\n<text fill=\"#000000\" font-family=\"Times,serif\" font-size=\"14.00\" text-anchor=\"middle\" x=\"240.5\" y=\"-7825.8\">block3_sepconv2_bn: BatchNormalization</text>\n</g>\n<!-- 140596047350472&#45;&gt;140596047420384 -->\n<g class=\"edge\" id=\"edge22\">\n<title>140596047350472-&gt;140596047420384</title>\n<path d=\"M228.4551,-7884.4551C230.2435,-7876.2951 232.398,-7866.4652 234.3874,-7857.3887\" fill=\"none\" stroke=\"#000000\"/>\n<polygon fill=\"#000000\" points=\"237.8128,-7858.1079 236.535,-7847.5904 230.9751,-7856.6091 237.8128,-7858.1079\" stroke=\"#000000\"/>\n</g>\n<!-- 140596047014992 -->\n<g class=\"node\" id=\"node24\">\n<title>140596047014992</title>\n<polygon fill=\"none\" points=\"173.5,-7738.5 173.5,-7774.5 361.5,-7774.5 361.5,-7738.5 173.5,-7738.5\" stroke=\"#000000\"/>\n<text fill=\"#000000\" font-family=\"Times,serif\" font-size=\"14.00\" text-anchor=\"middle\" x=\"267.5\" y=\"-7752.8\">block3_pool: MaxPooling2D</text>\n</g>\n<!-- 140596047420384&#45;&gt;140596047014992 -->\n<g class=\"edge\" id=\"edge24\">\n<title>140596047420384-&gt;140596047014992</title>\n<path d=\"M247.1742,-7811.4551C250.2247,-7803.2074 253.9062,-7793.2536 257.2932,-7784.0962\" fill=\"none\" stroke=\"#000000\"/>\n<polygon fill=\"#000000\" points=\"260.6227,-7785.1836 260.809,-7774.5904 254.0574,-7782.7552 260.6227,-7785.1836\" stroke=\"#000000\"/>\n</g>\n<!-- 140596047529128 -->\n<g class=\"node\" id=\"node25\">\n<title>140596047529128</title>\n<polygon fill=\"none\" points=\"281,-8030.5 281,-8066.5 552,-8066.5 552,-8030.5 281,-8030.5\" stroke=\"#000000\"/>\n<text fill=\"#000000\" font-family=\"Times,serif\" font-size=\"14.00\" text-anchor=\"middle\" x=\"416.5\" y=\"-8044.8\">batch_normalization_6: BatchNormalization</text>\n</g>\n<!-- 140596047984848&#45;&gt;140596047529128 -->\n<g class=\"edge\" id=\"edge25\">\n<title>140596047984848-&gt;140596047529128</title>\n<path d=\"M400.691,-8103.4551C403.0384,-8095.2951 405.8662,-8085.4652 408.4772,-8076.3887\" fill=\"none\" stroke=\"#000000\"/>\n<polygon fill=\"#000000\" points=\"411.8948,-8077.1683 411.2959,-8066.5904 405.1677,-8075.233 411.8948,-8077.1683\" stroke=\"#000000\"/>\n</g>\n<!-- 140596047014880 -->\n<g class=\"node\" id=\"node26\">\n<title>140596047014880</title>\n<polygon fill=\"none\" points=\"282.5,-7665.5 282.5,-7701.5 374.5,-7701.5 374.5,-7665.5 282.5,-7665.5\" stroke=\"#000000\"/>\n<text fill=\"#000000\" font-family=\"Times,serif\" font-size=\"14.00\" text-anchor=\"middle\" x=\"328.5\" y=\"-7679.8\">add_14: Add</text>\n</g>\n<!-- 140596047014992&#45;&gt;140596047014880 -->\n<g class=\"edge\" id=\"edge26\">\n<title>140596047014992-&gt;140596047014880</title>\n<path d=\"M282.5787,-7738.4551C289.9105,-7729.6809 298.8557,-7718.9759 306.8968,-7709.353\" fill=\"none\" stroke=\"#000000\"/>\n<polygon fill=\"#000000\" points=\"309.6569,-7711.5082 313.3834,-7701.5904 304.2854,-7707.0197 309.6569,-7711.5082\" stroke=\"#000000\"/>\n</g>\n<!-- 140596047529128&#45;&gt;140596047014880 -->\n<g class=\"edge\" id=\"edge27\">\n<title>140596047529128-&gt;140596047014880</title>\n<path d=\"M414.8424,-8030.0798C412.4991,-8002.4066 408.5,-7948.4473 408.5,-7902.5 408.5,-7902.5 408.5,-7902.5 408.5,-7829.5 408.5,-7782.6749 376.4608,-7736.6441 352.9339,-7709.1553\" fill=\"none\" stroke=\"#000000\"/>\n<polygon fill=\"#000000\" points=\"355.4914,-7706.7635 346.2546,-7701.5739 350.239,-7711.391 355.4914,-7706.7635\" stroke=\"#000000\"/>\n</g>\n<!-- 140596047165144 -->\n<g class=\"node\" id=\"node27\">\n<title>140596047165144</title>\n<polygon fill=\"none\" points=\"158,-7592.5 158,-7628.5 367,-7628.5 367,-7592.5 158,-7592.5\" stroke=\"#000000\"/>\n<text fill=\"#000000\" font-family=\"Times,serif\" font-size=\"14.00\" text-anchor=\"middle\" x=\"262.5\" y=\"-7606.8\">block4_sepconv1_act: Activation</text>\n</g>\n<!-- 140596047014880&#45;&gt;140596047165144 -->\n<g class=\"edge\" id=\"edge28\">\n<title>140596047014880-&gt;140596047165144</title>\n<path d=\"M312.1854,-7665.4551C304.1733,-7656.5932 294.3804,-7645.7616 285.6132,-7636.0646\" fill=\"none\" stroke=\"#000000\"/>\n<polygon fill=\"#000000\" points=\"288.1584,-7633.6609 278.8557,-7628.5904 282.9659,-7638.3554 288.1584,-7633.6609\" stroke=\"#000000\"/>\n</g>\n<!-- 140596047034632 -->\n<g class=\"node\" id=\"node33\">\n<title>140596047034632</title>\n<polygon fill=\"none\" points=\"384,-7519.5 384,-7555.5 517,-7555.5 517,-7519.5 384,-7519.5\" stroke=\"#000000\"/>\n<text fill=\"#000000\" font-family=\"Times,serif\" font-size=\"14.00\" text-anchor=\"middle\" x=\"450.5\" y=\"-7533.8\">conv2d_7: Conv2D</text>\n</g>\n<!-- 140596047014880&#45;&gt;140596047034632 -->\n<g class=\"edge\" id=\"edge34\">\n<title>140596047014880-&gt;140596047034632</title>\n<path d=\"M344.2809,-7665.4306C353.4579,-7654.8658 365.2079,-7641.2408 375.5,-7629 393.8407,-7607.1867 414.332,-7582.14 429.2551,-7563.7727\" fill=\"none\" stroke=\"#000000\"/>\n<polygon fill=\"#000000\" points=\"432.1093,-7565.81 435.692,-7555.8393 426.6734,-7561.3995 432.1093,-7565.81\" stroke=\"#000000\"/>\n</g>\n<!-- 140596047194712 -->\n<g class=\"node\" id=\"node28\">\n<title>140596047194712</title>\n<polygon fill=\"none\" points=\"112.5,-7519.5 112.5,-7555.5 344.5,-7555.5 344.5,-7519.5 112.5,-7519.5\" stroke=\"#000000\"/>\n<text fill=\"#000000\" font-family=\"Times,serif\" font-size=\"14.00\" text-anchor=\"middle\" x=\"228.5\" y=\"-7533.8\">block4_sepconv1: SeparableConv2D</text>\n</g>\n<!-- 140596047165144&#45;&gt;140596047194712 -->\n<g class=\"edge\" id=\"edge29\">\n<title>140596047165144-&gt;140596047194712</title>\n<path d=\"M254.0955,-7592.4551C250.2132,-7584.1196 245.5194,-7574.0416 241.217,-7564.8042\" fill=\"none\" stroke=\"#000000\"/>\n<polygon fill=\"#000000\" points=\"244.3205,-7563.1776 236.9256,-7555.5904 237.975,-7566.1331 244.3205,-7563.1776\" stroke=\"#000000\"/>\n</g>\n<!-- 140596046777536 -->\n<g class=\"node\" id=\"node29\">\n<title>140596046777536</title>\n<polygon fill=\"none\" points=\"55,-7446.5 55,-7482.5 318,-7482.5 318,-7446.5 55,-7446.5\" stroke=\"#000000\"/>\n<text fill=\"#000000\" font-family=\"Times,serif\" font-size=\"14.00\" text-anchor=\"middle\" x=\"186.5\" y=\"-7460.8\">block4_sepconv1_bn: BatchNormalization</text>\n</g>\n<!-- 140596047194712&#45;&gt;140596046777536 -->\n<g class=\"edge\" id=\"edge30\">\n<title>140596047194712-&gt;140596046777536</title>\n<path d=\"M218.118,-7519.4551C213.2718,-7511.0319 207.4018,-7500.8292 202.0416,-7491.5128\" fill=\"none\" stroke=\"#000000\"/>\n<polygon fill=\"#000000\" points=\"204.9289,-7489.5127 196.9082,-7482.5904 198.8614,-7493.0036 204.9289,-7489.5127\" stroke=\"#000000\"/>\n</g>\n<!-- 140596046904624 -->\n<g class=\"node\" id=\"node30\">\n<title>140596046904624</title>\n<polygon fill=\"none\" points=\"144,-7373.5 144,-7409.5 353,-7409.5 353,-7373.5 144,-7373.5\" stroke=\"#000000\"/>\n<text fill=\"#000000\" font-family=\"Times,serif\" font-size=\"14.00\" text-anchor=\"middle\" x=\"248.5\" y=\"-7387.8\">block4_sepconv2_act: Activation</text>\n</g>\n<!-- 140596046777536&#45;&gt;140596046904624 -->\n<g class=\"edge\" id=\"edge31\">\n<title>140596046777536-&gt;140596046904624</title>\n<path d=\"M201.8258,-7446.4551C209.2779,-7437.6809 218.3698,-7426.9759 226.5427,-7417.353\" fill=\"none\" stroke=\"#000000\"/>\n<polygon fill=\"#000000\" points=\"229.3298,-7419.4781 233.1356,-7409.5904 223.9944,-7414.9466 229.3298,-7419.4781\" stroke=\"#000000\"/>\n</g>\n<!-- 140596046904512 -->\n<g class=\"node\" id=\"node31\">\n<title>140596046904512</title>\n<polygon fill=\"none\" points=\"163.5,-7300.5 163.5,-7336.5 395.5,-7336.5 395.5,-7300.5 163.5,-7300.5\" stroke=\"#000000\"/>\n<text fill=\"#000000\" font-family=\"Times,serif\" font-size=\"14.00\" text-anchor=\"middle\" x=\"279.5\" y=\"-7314.8\">block4_sepconv2: SeparableConv2D</text>\n</g>\n<!-- 140596046904624&#45;&gt;140596046904512 -->\n<g class=\"edge\" id=\"edge32\">\n<title>140596046904624-&gt;140596046904512</title>\n<path d=\"M256.1629,-7373.4551C259.7026,-7365.1196 263.9823,-7355.0416 267.9051,-7345.8042\" fill=\"none\" stroke=\"#000000\"/>\n<polygon fill=\"#000000\" points=\"271.1306,-7347.1629 271.8178,-7336.5904 264.6874,-7344.4267 271.1306,-7347.1629\" stroke=\"#000000\"/>\n</g>\n<!-- 140596046477240 -->\n<g class=\"node\" id=\"node32\">\n<title>140596046477240</title>\n<polygon fill=\"none\" points=\"164,-7227.5 164,-7263.5 427,-7263.5 427,-7227.5 164,-7227.5\" stroke=\"#000000\"/>\n<text fill=\"#000000\" font-family=\"Times,serif\" font-size=\"14.00\" text-anchor=\"middle\" x=\"295.5\" y=\"-7241.8\">block4_sepconv2_bn: BatchNormalization</text>\n</g>\n<!-- 140596046904512&#45;&gt;140596046477240 -->\n<g class=\"edge\" id=\"edge33\">\n<title>140596046904512-&gt;140596046477240</title>\n<path d=\"M283.4551,-7300.4551C285.2435,-7292.2951 287.398,-7282.4652 289.3874,-7273.3887\" fill=\"none\" stroke=\"#000000\"/>\n<polygon fill=\"#000000\" points=\"292.8128,-7274.1079 291.535,-7263.5904 285.9751,-7272.6091 292.8128,-7274.1079\" stroke=\"#000000\"/>\n</g>\n<!-- 140596046600848 -->\n<g class=\"node\" id=\"node34\">\n<title>140596046600848</title>\n<polygon fill=\"none\" points=\"228.5,-7154.5 228.5,-7190.5 416.5,-7190.5 416.5,-7154.5 228.5,-7154.5\" stroke=\"#000000\"/>\n<text fill=\"#000000\" font-family=\"Times,serif\" font-size=\"14.00\" text-anchor=\"middle\" x=\"322.5\" y=\"-7168.8\">block4_pool: MaxPooling2D</text>\n</g>\n<!-- 140596046477240&#45;&gt;140596046600848 -->\n<g class=\"edge\" id=\"edge35\">\n<title>140596046477240-&gt;140596046600848</title>\n<path d=\"M302.1742,-7227.4551C305.2247,-7219.2074 308.9062,-7209.2536 312.2932,-7200.0962\" fill=\"none\" stroke=\"#000000\"/>\n<polygon fill=\"#000000\" points=\"315.6227,-7201.1836 315.809,-7190.5904 309.0574,-7198.7552 315.6227,-7201.1836\" stroke=\"#000000\"/>\n</g>\n<!-- 140596047118176 -->\n<g class=\"node\" id=\"node35\">\n<title>140596047118176</title>\n<polygon fill=\"none\" points=\"336,-7446.5 336,-7482.5 607,-7482.5 607,-7446.5 336,-7446.5\" stroke=\"#000000\"/>\n<text fill=\"#000000\" font-family=\"Times,serif\" font-size=\"14.00\" text-anchor=\"middle\" x=\"471.5\" y=\"-7460.8\">batch_normalization_7: BatchNormalization</text>\n</g>\n<!-- 140596047034632&#45;&gt;140596047118176 -->\n<g class=\"edge\" id=\"edge36\">\n<title>140596047034632-&gt;140596047118176</title>\n<path d=\"M455.691,-7519.4551C458.0384,-7511.2951 460.8662,-7501.4652 463.4772,-7492.3887\" fill=\"none\" stroke=\"#000000\"/>\n<polygon fill=\"#000000\" points=\"466.8948,-7493.1683 466.2959,-7482.5904 460.1677,-7491.233 466.8948,-7493.1683\" stroke=\"#000000\"/>\n</g>\n<!-- 140596046600232 -->\n<g class=\"node\" id=\"node36\">\n<title>140596046600232</title>\n<polygon fill=\"none\" points=\"337.5,-7081.5 337.5,-7117.5 429.5,-7117.5 429.5,-7081.5 337.5,-7081.5\" stroke=\"#000000\"/>\n<text fill=\"#000000\" font-family=\"Times,serif\" font-size=\"14.00\" text-anchor=\"middle\" x=\"383.5\" y=\"-7095.8\">add_15: Add</text>\n</g>\n<!-- 140596046600848&#45;&gt;140596046600232 -->\n<g class=\"edge\" id=\"edge37\">\n<title>140596046600848-&gt;140596046600232</title>\n<path d=\"M337.5787,-7154.4551C344.9105,-7145.6809 353.8557,-7134.9759 361.8968,-7125.353\" fill=\"none\" stroke=\"#000000\"/>\n<polygon fill=\"#000000\" points=\"364.6569,-7127.5082 368.3834,-7117.5904 359.2854,-7123.0197 364.6569,-7127.5082\" stroke=\"#000000\"/>\n</g>\n<!-- 140596047118176&#45;&gt;140596046600232 -->\n<g class=\"edge\" id=\"edge38\">\n<title>140596047118176-&gt;140596046600232</title>\n<path d=\"M469.8424,-7446.0798C467.4991,-7418.4066 463.5,-7364.4473 463.5,-7318.5 463.5,-7318.5 463.5,-7318.5 463.5,-7245.5 463.5,-7198.6749 431.4608,-7152.6441 407.9339,-7125.1553\" fill=\"none\" stroke=\"#000000\"/>\n<polygon fill=\"#000000\" points=\"410.4914,-7122.7635 401.2546,-7117.5739 405.239,-7127.391 410.4914,-7122.7635\" stroke=\"#000000\"/>\n</g>\n<!-- 140596046601968 -->\n<g class=\"node\" id=\"node37\">\n<title>140596046601968</title>\n<polygon fill=\"none\" points=\"213,-7008.5 213,-7044.5 422,-7044.5 422,-7008.5 213,-7008.5\" stroke=\"#000000\"/>\n<text fill=\"#000000\" font-family=\"Times,serif\" font-size=\"14.00\" text-anchor=\"middle\" x=\"317.5\" y=\"-7022.8\">block5_sepconv1_act: Activation</text>\n</g>\n<!-- 140596046600232&#45;&gt;140596046601968 -->\n<g class=\"edge\" id=\"edge39\">\n<title>140596046600232-&gt;140596046601968</title>\n<path d=\"M367.1854,-7081.4551C359.1733,-7072.5932 349.3804,-7061.7616 340.6132,-7052.0646\" fill=\"none\" stroke=\"#000000\"/>\n<polygon fill=\"#000000\" points=\"343.1584,-7049.6609 333.8557,-7044.5904 337.9659,-7054.3554 343.1584,-7049.6609\" stroke=\"#000000\"/>\n</g>\n<!-- 140596046175480 -->\n<g class=\"node\" id=\"node46\">\n<title>140596046175480</title>\n<polygon fill=\"none\" points=\"333.5,-6351.5 333.5,-6387.5 425.5,-6387.5 425.5,-6351.5 333.5,-6351.5\" stroke=\"#000000\"/>\n<text fill=\"#000000\" font-family=\"Times,serif\" font-size=\"14.00\" text-anchor=\"middle\" x=\"379.5\" y=\"-6365.8\">add_16: Add</text>\n</g>\n<!-- 140596046600232&#45;&gt;140596046175480 -->\n<g class=\"edge\" id=\"edge49\">\n<title>140596046600232-&gt;140596046175480</title>\n<path d=\"M403.0193,-7081.373C412.7442,-7071.4354 423.9973,-7058.4283 431.5,-7045 452.2433,-7007.8737 459.5,-6996.0281 459.5,-6953.5 459.5,-6953.5 459.5,-6953.5 459.5,-6515.5 459.5,-6473.9658 461.252,-6459.9784 440.5,-6424 433.9494,-6412.643 424.1903,-6402.3894 414.3888,-6393.9205\" fill=\"none\" stroke=\"#000000\"/>\n<polygon fill=\"#000000\" points=\"416.5335,-6391.153 406.5795,-6387.5242 412.098,-6396.5684 416.5335,-6391.153\" stroke=\"#000000\"/>\n</g>\n<!-- 140596046618976 -->\n<g class=\"node\" id=\"node38\">\n<title>140596046618976</title>\n<polygon fill=\"none\" points=\"191.5,-6935.5 191.5,-6971.5 423.5,-6971.5 423.5,-6935.5 191.5,-6935.5\" stroke=\"#000000\"/>\n<text fill=\"#000000\" font-family=\"Times,serif\" font-size=\"14.00\" text-anchor=\"middle\" x=\"307.5\" y=\"-6949.8\">block5_sepconv1: SeparableConv2D</text>\n</g>\n<!-- 140596046601968&#45;&gt;140596046618976 -->\n<g class=\"edge\" id=\"edge40\">\n<title>140596046601968-&gt;140596046618976</title>\n<path d=\"M315.0281,-7008.4551C313.9223,-7000.3828 312.5927,-6990.6764 311.3605,-6981.6817\" fill=\"none\" stroke=\"#000000\"/>\n<polygon fill=\"#000000\" points=\"314.803,-6981.0228 309.9781,-6971.5904 307.8678,-6981.9729 314.803,-6981.0228\" stroke=\"#000000\"/>\n</g>\n<!-- 140596046213696 -->\n<g class=\"node\" id=\"node39\">\n<title>140596046213696</title>\n<polygon fill=\"none\" points=\"168,-6862.5 168,-6898.5 431,-6898.5 431,-6862.5 168,-6862.5\" stroke=\"#000000\"/>\n<text fill=\"#000000\" font-family=\"Times,serif\" font-size=\"14.00\" text-anchor=\"middle\" x=\"299.5\" y=\"-6876.8\">block5_sepconv1_bn: BatchNormalization</text>\n</g>\n<!-- 140596046618976&#45;&gt;140596046213696 -->\n<g class=\"edge\" id=\"edge41\">\n<title>140596046618976-&gt;140596046213696</title>\n<path d=\"M305.5225,-6935.4551C304.6378,-6927.3828 303.5741,-6917.6764 302.5884,-6908.6817\" fill=\"none\" stroke=\"#000000\"/>\n<polygon fill=\"#000000\" points=\"306.0511,-6908.1495 301.4825,-6898.5904 299.0928,-6908.9122 306.0511,-6908.1495\" stroke=\"#000000\"/>\n</g>\n<!-- 140596046282648 -->\n<g class=\"node\" id=\"node40\">\n<title>140596046282648</title>\n<polygon fill=\"none\" points=\"195,-6789.5 195,-6825.5 404,-6825.5 404,-6789.5 195,-6789.5\" stroke=\"#000000\"/>\n<text fill=\"#000000\" font-family=\"Times,serif\" font-size=\"14.00\" text-anchor=\"middle\" x=\"299.5\" y=\"-6803.8\">block5_sepconv2_act: Activation</text>\n</g>\n<!-- 140596046213696&#45;&gt;140596046282648 -->\n<g class=\"edge\" id=\"edge42\">\n<title>140596046213696-&gt;140596046282648</title>\n<path d=\"M299.5,-6862.4551C299.5,-6854.3828 299.5,-6844.6764 299.5,-6835.6817\" fill=\"none\" stroke=\"#000000\"/>\n<polygon fill=\"#000000\" points=\"303.0001,-6835.5903 299.5,-6825.5904 296.0001,-6835.5904 303.0001,-6835.5903\" stroke=\"#000000\"/>\n</g>\n<!-- 140596046282592 -->\n<g class=\"node\" id=\"node41\">\n<title>140596046282592</title>\n<polygon fill=\"none\" points=\"183.5,-6716.5 183.5,-6752.5 415.5,-6752.5 415.5,-6716.5 183.5,-6716.5\" stroke=\"#000000\"/>\n<text fill=\"#000000\" font-family=\"Times,serif\" font-size=\"14.00\" text-anchor=\"middle\" x=\"299.5\" y=\"-6730.8\">block5_sepconv2: SeparableConv2D</text>\n</g>\n<!-- 140596046282648&#45;&gt;140596046282592 -->\n<g class=\"edge\" id=\"edge43\">\n<title>140596046282648-&gt;140596046282592</title>\n<path d=\"M299.5,-6789.4551C299.5,-6781.3828 299.5,-6771.6764 299.5,-6762.6817\" fill=\"none\" stroke=\"#000000\"/>\n<polygon fill=\"#000000\" points=\"303.0001,-6762.5903 299.5,-6752.5904 296.0001,-6762.5904 303.0001,-6762.5903\" stroke=\"#000000\"/>\n</g>\n<!-- 140596046311496 -->\n<g class=\"node\" id=\"node42\">\n<title>140596046311496</title>\n<polygon fill=\"none\" points=\"168,-6643.5 168,-6679.5 431,-6679.5 431,-6643.5 168,-6643.5\" stroke=\"#000000\"/>\n<text fill=\"#000000\" font-family=\"Times,serif\" font-size=\"14.00\" text-anchor=\"middle\" x=\"299.5\" y=\"-6657.8\">block5_sepconv2_bn: BatchNormalization</text>\n</g>\n<!-- 140596046282592&#45;&gt;140596046311496 -->\n<g class=\"edge\" id=\"edge44\">\n<title>140596046282592-&gt;140596046311496</title>\n<path d=\"M299.5,-6716.4551C299.5,-6708.3828 299.5,-6698.6764 299.5,-6689.6817\" fill=\"none\" stroke=\"#000000\"/>\n<polygon fill=\"#000000\" points=\"303.0001,-6689.5903 299.5,-6679.5904 296.0001,-6689.5904 303.0001,-6689.5903\" stroke=\"#000000\"/>\n</g>\n<!-- 140596045958616 -->\n<g class=\"node\" id=\"node43\">\n<title>140596045958616</title>\n<polygon fill=\"none\" points=\"195,-6570.5 195,-6606.5 404,-6606.5 404,-6570.5 195,-6570.5\" stroke=\"#000000\"/>\n<text fill=\"#000000\" font-family=\"Times,serif\" font-size=\"14.00\" text-anchor=\"middle\" x=\"299.5\" y=\"-6584.8\">block5_sepconv3_act: Activation</text>\n</g>\n<!-- 140596046311496&#45;&gt;140596045958616 -->\n<g class=\"edge\" id=\"edge45\">\n<title>140596046311496-&gt;140596045958616</title>\n<path d=\"M299.5,-6643.4551C299.5,-6635.3828 299.5,-6625.6764 299.5,-6616.6817\" fill=\"none\" stroke=\"#000000\"/>\n<polygon fill=\"#000000\" points=\"303.0001,-6616.5903 299.5,-6606.5904 296.0001,-6616.5904 303.0001,-6616.5903\" stroke=\"#000000\"/>\n</g>\n<!-- 140596045978480 -->\n<g class=\"node\" id=\"node44\">\n<title>140596045978480</title>\n<polygon fill=\"none\" points=\"183.5,-6497.5 183.5,-6533.5 415.5,-6533.5 415.5,-6497.5 183.5,-6497.5\" stroke=\"#000000\"/>\n<text fill=\"#000000\" font-family=\"Times,serif\" font-size=\"14.00\" text-anchor=\"middle\" x=\"299.5\" y=\"-6511.8\">block5_sepconv3: SeparableConv2D</text>\n</g>\n<!-- 140596045958616&#45;&gt;140596045978480 -->\n<g class=\"edge\" id=\"edge46\">\n<title>140596045958616-&gt;140596045978480</title>\n<path d=\"M299.5,-6570.4551C299.5,-6562.3828 299.5,-6552.6764 299.5,-6543.6817\" fill=\"none\" stroke=\"#000000\"/>\n<polygon fill=\"#000000\" points=\"303.0001,-6543.5903 299.5,-6533.5904 296.0001,-6543.5904 303.0001,-6543.5903\" stroke=\"#000000\"/>\n</g>\n<!-- 140596046056584 -->\n<g class=\"node\" id=\"node45\">\n<title>140596046056584</title>\n<polygon fill=\"none\" points=\"168,-6424.5 168,-6460.5 431,-6460.5 431,-6424.5 168,-6424.5\" stroke=\"#000000\"/>\n<text fill=\"#000000\" font-family=\"Times,serif\" font-size=\"14.00\" text-anchor=\"middle\" x=\"299.5\" y=\"-6438.8\">block5_sepconv3_bn: BatchNormalization</text>\n</g>\n<!-- 140596045978480&#45;&gt;140596046056584 -->\n<g class=\"edge\" id=\"edge47\">\n<title>140596045978480-&gt;140596046056584</title>\n<path d=\"M299.5,-6497.4551C299.5,-6489.3828 299.5,-6479.6764 299.5,-6470.6817\" fill=\"none\" stroke=\"#000000\"/>\n<polygon fill=\"#000000\" points=\"303.0001,-6470.5903 299.5,-6460.5904 296.0001,-6470.5904 303.0001,-6470.5903\" stroke=\"#000000\"/>\n</g>\n<!-- 140596046056584&#45;&gt;140596046175480 -->\n<g class=\"edge\" id=\"edge48\">\n<title>140596046056584-&gt;140596046175480</title>\n<path d=\"M319.2753,-6424.4551C329.1793,-6415.4177 341.3281,-6404.3319 352.1138,-6394.4899\" fill=\"none\" stroke=\"#000000\"/>\n<polygon fill=\"#000000\" points=\"354.6473,-6396.9163 359.6749,-6387.5904 349.9289,-6391.7455 354.6473,-6396.9163\" stroke=\"#000000\"/>\n</g>\n<!-- 140596046600176 -->\n<g class=\"node\" id=\"node47\">\n<title>140596046600176</title>\n<polygon fill=\"none\" points=\"203,-6278.5 203,-6314.5 412,-6314.5 412,-6278.5 203,-6278.5\" stroke=\"#000000\"/>\n<text fill=\"#000000\" font-family=\"Times,serif\" font-size=\"14.00\" text-anchor=\"middle\" x=\"307.5\" y=\"-6292.8\">block6_sepconv1_act: Activation</text>\n</g>\n<!-- 140596046175480&#45;&gt;140596046600176 -->\n<g class=\"edge\" id=\"edge50\">\n<title>140596046175480-&gt;140596046600176</title>\n<path d=\"M361.7022,-6351.4551C352.8752,-6342.5054 342.0669,-6331.547 332.4307,-6321.7769\" fill=\"none\" stroke=\"#000000\"/>\n<polygon fill=\"#000000\" points=\"334.8566,-6319.2523 325.3425,-6314.5904 329.8728,-6324.1678 334.8566,-6319.2523\" stroke=\"#000000\"/>\n</g>\n<!-- 140596045238056 -->\n<g class=\"node\" id=\"node56\">\n<title>140596045238056</title>\n<polygon fill=\"none\" points=\"328.5,-5621.5 328.5,-5657.5 420.5,-5657.5 420.5,-5621.5 328.5,-5621.5\" stroke=\"#000000\"/>\n<text fill=\"#000000\" font-family=\"Times,serif\" font-size=\"14.00\" text-anchor=\"middle\" x=\"374.5\" y=\"-5635.8\">add_17: Add</text>\n</g>\n<!-- 140596046175480&#45;&gt;140596045238056 -->\n<g class=\"edge\" id=\"edge60\">\n<title>140596046175480-&gt;140596045238056</title>\n<path d=\"M396.1449,-6351.2244C418.2405,-6324.9944 454.5,-6274.2229 454.5,-6223.5 454.5,-6223.5 454.5,-6223.5 454.5,-5785.5 454.5,-5743.9658 456.252,-5729.9784 435.5,-5694 428.9494,-5682.643 419.1903,-5672.3894 409.3888,-5663.9205\" fill=\"none\" stroke=\"#000000\"/>\n<polygon fill=\"#000000\" points=\"411.5335,-5661.153 401.5795,-5657.5242 407.098,-5666.5684 411.5335,-5661.153\" stroke=\"#000000\"/>\n</g>\n<!-- 140596046176208 -->\n<g class=\"node\" id=\"node48\">\n<title>140596046176208</title>\n<polygon fill=\"none\" points=\"186.5,-6205.5 186.5,-6241.5 418.5,-6241.5 418.5,-6205.5 186.5,-6205.5\" stroke=\"#000000\"/>\n<text fill=\"#000000\" font-family=\"Times,serif\" font-size=\"14.00\" text-anchor=\"middle\" x=\"302.5\" y=\"-6219.8\">block6_sepconv1: SeparableConv2D</text>\n</g>\n<!-- 140596046600176&#45;&gt;140596046176208 -->\n<g class=\"edge\" id=\"edge51\">\n<title>140596046600176-&gt;140596046176208</title>\n<path d=\"M306.264,-6278.4551C305.7112,-6270.3828 305.0463,-6260.6764 304.4303,-6251.6817\" fill=\"none\" stroke=\"#000000\"/>\n<polygon fill=\"#000000\" points=\"307.9143,-6251.3278 303.7391,-6241.5904 300.9307,-6251.8062 307.9143,-6251.3278\" stroke=\"#000000\"/>\n</g>\n<!-- 140596045752080 -->\n<g class=\"node\" id=\"node49\">\n<title>140596045752080</title>\n<polygon fill=\"none\" points=\"163,-6132.5 163,-6168.5 426,-6168.5 426,-6132.5 163,-6132.5\" stroke=\"#000000\"/>\n<text fill=\"#000000\" font-family=\"Times,serif\" font-size=\"14.00\" text-anchor=\"middle\" x=\"294.5\" y=\"-6146.8\">block6_sepconv1_bn: BatchNormalization</text>\n</g>\n<!-- 140596046176208&#45;&gt;140596045752080 -->\n<g class=\"edge\" id=\"edge52\">\n<title>140596046176208-&gt;140596045752080</title>\n<path d=\"M300.5225,-6205.4551C299.6378,-6197.3828 298.5741,-6187.6764 297.5884,-6178.6817\" fill=\"none\" stroke=\"#000000\"/>\n<polygon fill=\"#000000\" points=\"301.0511,-6178.1495 296.4825,-6168.5904 294.0928,-6178.9122 301.0511,-6178.1495\" stroke=\"#000000\"/>\n</g>\n<!-- 140596045871592 -->\n<g class=\"node\" id=\"node50\">\n<title>140596045871592</title>\n<polygon fill=\"none\" points=\"190,-6059.5 190,-6095.5 399,-6095.5 399,-6059.5 190,-6059.5\" stroke=\"#000000\"/>\n<text fill=\"#000000\" font-family=\"Times,serif\" font-size=\"14.00\" text-anchor=\"middle\" x=\"294.5\" y=\"-6073.8\">block6_sepconv2_act: Activation</text>\n</g>\n<!-- 140596045752080&#45;&gt;140596045871592 -->\n<g class=\"edge\" id=\"edge53\">\n<title>140596045752080-&gt;140596045871592</title>\n<path d=\"M294.5,-6132.4551C294.5,-6124.3828 294.5,-6114.6764 294.5,-6105.6817\" fill=\"none\" stroke=\"#000000\"/>\n<polygon fill=\"#000000\" points=\"298.0001,-6105.5903 294.5,-6095.5904 291.0001,-6105.5904 298.0001,-6105.5903\" stroke=\"#000000\"/>\n</g>\n<!-- 140596045871480 -->\n<g class=\"node\" id=\"node51\">\n<title>140596045871480</title>\n<polygon fill=\"none\" points=\"178.5,-5986.5 178.5,-6022.5 410.5,-6022.5 410.5,-5986.5 178.5,-5986.5\" stroke=\"#000000\"/>\n<text fill=\"#000000\" font-family=\"Times,serif\" font-size=\"14.00\" text-anchor=\"middle\" x=\"294.5\" y=\"-6000.8\">block6_sepconv2: SeparableConv2D</text>\n</g>\n<!-- 140596045871592&#45;&gt;140596045871480 -->\n<g class=\"edge\" id=\"edge54\">\n<title>140596045871592-&gt;140596045871480</title>\n<path d=\"M294.5,-6059.4551C294.5,-6051.3828 294.5,-6041.6764 294.5,-6032.6817\" fill=\"none\" stroke=\"#000000\"/>\n<polygon fill=\"#000000\" points=\"298.0001,-6032.5903 294.5,-6022.5904 291.0001,-6032.5904 298.0001,-6032.5903\" stroke=\"#000000\"/>\n</g>\n<!-- 140596045896168 -->\n<g class=\"node\" id=\"node52\">\n<title>140596045896168</title>\n<polygon fill=\"none\" points=\"163,-5913.5 163,-5949.5 426,-5949.5 426,-5913.5 163,-5913.5\" stroke=\"#000000\"/>\n<text fill=\"#000000\" font-family=\"Times,serif\" font-size=\"14.00\" text-anchor=\"middle\" x=\"294.5\" y=\"-5927.8\">block6_sepconv2_bn: BatchNormalization</text>\n</g>\n<!-- 140596045871480&#45;&gt;140596045896168 -->\n<g class=\"edge\" id=\"edge55\">\n<title>140596045871480-&gt;140596045896168</title>\n<path d=\"M294.5,-5986.4551C294.5,-5978.3828 294.5,-5968.6764 294.5,-5959.6817\" fill=\"none\" stroke=\"#000000\"/>\n<polygon fill=\"#000000\" points=\"298.0001,-5959.5903 294.5,-5949.5904 291.0001,-5959.5904 298.0001,-5959.5903\" stroke=\"#000000\"/>\n</g>\n<!-- 140596045501440 -->\n<g class=\"node\" id=\"node53\">\n<title>140596045501440</title>\n<polygon fill=\"none\" points=\"190,-5840.5 190,-5876.5 399,-5876.5 399,-5840.5 190,-5840.5\" stroke=\"#000000\"/>\n<text fill=\"#000000\" font-family=\"Times,serif\" font-size=\"14.00\" text-anchor=\"middle\" x=\"294.5\" y=\"-5854.8\">block6_sepconv3_act: Activation</text>\n</g>\n<!-- 140596045896168&#45;&gt;140596045501440 -->\n<g class=\"edge\" id=\"edge56\">\n<title>140596045896168-&gt;140596045501440</title>\n<path d=\"M294.5,-5913.4551C294.5,-5905.3828 294.5,-5895.6764 294.5,-5886.6817\" fill=\"none\" stroke=\"#000000\"/>\n<polygon fill=\"#000000\" points=\"298.0001,-5886.5903 294.5,-5876.5904 291.0001,-5886.5904 298.0001,-5886.5903\" stroke=\"#000000\"/>\n</g>\n<!-- 140596045561360 -->\n<g class=\"node\" id=\"node54\">\n<title>140596045561360</title>\n<polygon fill=\"none\" points=\"178.5,-5767.5 178.5,-5803.5 410.5,-5803.5 410.5,-5767.5 178.5,-5767.5\" stroke=\"#000000\"/>\n<text fill=\"#000000\" font-family=\"Times,serif\" font-size=\"14.00\" text-anchor=\"middle\" x=\"294.5\" y=\"-5781.8\">block6_sepconv3: SeparableConv2D</text>\n</g>\n<!-- 140596045501440&#45;&gt;140596045561360 -->\n<g class=\"edge\" id=\"edge57\">\n<title>140596045501440-&gt;140596045561360</title>\n<path d=\"M294.5,-5840.4551C294.5,-5832.3828 294.5,-5822.6764 294.5,-5813.6817\" fill=\"none\" stroke=\"#000000\"/>\n<polygon fill=\"#000000\" points=\"298.0001,-5813.5903 294.5,-5803.5904 291.0001,-5813.5904 298.0001,-5813.5903\" stroke=\"#000000\"/>\n</g>\n<!-- 140596045647096 -->\n<g class=\"node\" id=\"node55\">\n<title>140596045647096</title>\n<polygon fill=\"none\" points=\"163,-5694.5 163,-5730.5 426,-5730.5 426,-5694.5 163,-5694.5\" stroke=\"#000000\"/>\n<text fill=\"#000000\" font-family=\"Times,serif\" font-size=\"14.00\" text-anchor=\"middle\" x=\"294.5\" y=\"-5708.8\">block6_sepconv3_bn: BatchNormalization</text>\n</g>\n<!-- 140596045561360&#45;&gt;140596045647096 -->\n<g class=\"edge\" id=\"edge58\">\n<title>140596045561360-&gt;140596045647096</title>\n<path d=\"M294.5,-5767.4551C294.5,-5759.3828 294.5,-5749.6764 294.5,-5740.6817\" fill=\"none\" stroke=\"#000000\"/>\n<polygon fill=\"#000000\" points=\"298.0001,-5740.5903 294.5,-5730.5904 291.0001,-5740.5904 298.0001,-5740.5903\" stroke=\"#000000\"/>\n</g>\n<!-- 140596045647096&#45;&gt;140596045238056 -->\n<g class=\"edge\" id=\"edge59\">\n<title>140596045647096-&gt;140596045238056</title>\n<path d=\"M314.2753,-5694.4551C324.1793,-5685.4177 336.3281,-5674.3319 347.1138,-5664.4899\" fill=\"none\" stroke=\"#000000\"/>\n<polygon fill=\"#000000\" points=\"349.6473,-5666.9163 354.6749,-5657.5904 344.9289,-5661.7455 349.6473,-5666.9163\" stroke=\"#000000\"/>\n</g>\n<!-- 140596046175312 -->\n<g class=\"node\" id=\"node57\">\n<title>140596046175312</title>\n<polygon fill=\"none\" points=\"198,-5548.5 198,-5584.5 407,-5584.5 407,-5548.5 198,-5548.5\" stroke=\"#000000\"/>\n<text fill=\"#000000\" font-family=\"Times,serif\" font-size=\"14.00\" text-anchor=\"middle\" x=\"302.5\" y=\"-5562.8\">block7_sepconv1_act: Activation</text>\n</g>\n<!-- 140596045238056&#45;&gt;140596046175312 -->\n<g class=\"edge\" id=\"edge61\">\n<title>140596045238056-&gt;140596046175312</title>\n<path d=\"M356.7022,-5621.4551C347.8752,-5612.5054 337.0669,-5601.547 327.4307,-5591.7769\" fill=\"none\" stroke=\"#000000\"/>\n<polygon fill=\"#000000\" points=\"329.8566,-5589.2523 320.3425,-5584.5904 324.8728,-5594.1678 329.8566,-5589.2523\" stroke=\"#000000\"/>\n</g>\n<!-- 140596044824080 -->\n<g class=\"node\" id=\"node66\">\n<title>140596044824080</title>\n<polygon fill=\"none\" points=\"323.5,-4891.5 323.5,-4927.5 415.5,-4927.5 415.5,-4891.5 323.5,-4891.5\" stroke=\"#000000\"/>\n<text fill=\"#000000\" font-family=\"Times,serif\" font-size=\"14.00\" text-anchor=\"middle\" x=\"369.5\" y=\"-4905.8\">add_18: Add</text>\n</g>\n<!-- 140596045238056&#45;&gt;140596044824080 -->\n<g class=\"edge\" id=\"edge71\">\n<title>140596045238056-&gt;140596044824080</title>\n<path d=\"M391.1449,-5621.2244C413.2405,-5594.9944 449.5,-5544.2229 449.5,-5493.5 449.5,-5493.5 449.5,-5493.5 449.5,-5055.5 449.5,-5013.9658 451.252,-4999.9784 430.5,-4964 423.9494,-4952.643 414.1903,-4942.3894 404.3888,-4933.9205\" fill=\"none\" stroke=\"#000000\"/>\n<polygon fill=\"#000000\" points=\"406.5335,-4931.153 396.5795,-4927.5242 402.098,-4936.5684 406.5335,-4931.153\" stroke=\"#000000\"/>\n</g>\n<!-- 140596045238000 -->\n<g class=\"node\" id=\"node58\">\n<title>140596045238000</title>\n<polygon fill=\"none\" points=\"181.5,-5475.5 181.5,-5511.5 413.5,-5511.5 413.5,-5475.5 181.5,-5475.5\" stroke=\"#000000\"/>\n<text fill=\"#000000\" font-family=\"Times,serif\" font-size=\"14.00\" text-anchor=\"middle\" x=\"297.5\" y=\"-5489.8\">block7_sepconv1: SeparableConv2D</text>\n</g>\n<!-- 140596046175312&#45;&gt;140596045238000 -->\n<g class=\"edge\" id=\"edge62\">\n<title>140596046175312-&gt;140596045238000</title>\n<path d=\"M301.264,-5548.4551C300.7112,-5540.3828 300.0463,-5530.6764 299.4303,-5521.6817\" fill=\"none\" stroke=\"#000000\"/>\n<polygon fill=\"#000000\" points=\"302.9143,-5521.3278 298.7391,-5511.5904 295.9307,-5521.8062 302.9143,-5521.3278\" stroke=\"#000000\"/>\n</g>\n<!-- 140596045334960 -->\n<g class=\"node\" id=\"node59\">\n<title>140596045334960</title>\n<polygon fill=\"none\" points=\"158,-5402.5 158,-5438.5 421,-5438.5 421,-5402.5 158,-5402.5\" stroke=\"#000000\"/>\n<text fill=\"#000000\" font-family=\"Times,serif\" font-size=\"14.00\" text-anchor=\"middle\" x=\"289.5\" y=\"-5416.8\">block7_sepconv1_bn: BatchNormalization</text>\n</g>\n<!-- 140596045238000&#45;&gt;140596045334960 -->\n<g class=\"edge\" id=\"edge63\">\n<title>140596045238000-&gt;140596045334960</title>\n<path d=\"M295.5225,-5475.4551C294.6378,-5467.3828 293.5741,-5457.6764 292.5884,-5448.6817\" fill=\"none\" stroke=\"#000000\"/>\n<polygon fill=\"#000000\" points=\"296.0511,-5448.1495 291.4825,-5438.5904 289.0928,-5448.9122 296.0511,-5448.1495\" stroke=\"#000000\"/>\n</g>\n<!-- 140596044921992 -->\n<g class=\"node\" id=\"node60\">\n<title>140596044921992</title>\n<polygon fill=\"none\" points=\"185,-5329.5 185,-5365.5 394,-5365.5 394,-5329.5 185,-5329.5\" stroke=\"#000000\"/>\n<text fill=\"#000000\" font-family=\"Times,serif\" font-size=\"14.00\" text-anchor=\"middle\" x=\"289.5\" y=\"-5343.8\">block7_sepconv2_act: Activation</text>\n</g>\n<!-- 140596045334960&#45;&gt;140596044921992 -->\n<g class=\"edge\" id=\"edge64\">\n<title>140596045334960-&gt;140596044921992</title>\n<path d=\"M289.5,-5402.4551C289.5,-5394.3828 289.5,-5384.6764 289.5,-5375.6817\" fill=\"none\" stroke=\"#000000\"/>\n<polygon fill=\"#000000\" points=\"293.0001,-5375.5903 289.5,-5365.5904 286.0001,-5375.5904 293.0001,-5375.5903\" stroke=\"#000000\"/>\n</g>\n<!-- 140596044921880 -->\n<g class=\"node\" id=\"node61\">\n<title>140596044921880</title>\n<polygon fill=\"none\" points=\"173.5,-5256.5 173.5,-5292.5 405.5,-5292.5 405.5,-5256.5 173.5,-5256.5\" stroke=\"#000000\"/>\n<text fill=\"#000000\" font-family=\"Times,serif\" font-size=\"14.00\" text-anchor=\"middle\" x=\"289.5\" y=\"-5270.8\">block7_sepconv2: SeparableConv2D</text>\n</g>\n<!-- 140596044921992&#45;&gt;140596044921880 -->\n<g class=\"edge\" id=\"edge65\">\n<title>140596044921992-&gt;140596044921880</title>\n<path d=\"M289.5,-5329.4551C289.5,-5321.3828 289.5,-5311.6764 289.5,-5302.6817\" fill=\"none\" stroke=\"#000000\"/>\n<polygon fill=\"#000000\" points=\"293.0001,-5302.5903 289.5,-5292.5904 286.0001,-5302.5904 293.0001,-5302.5903\" stroke=\"#000000\"/>\n</g>\n<!-- 140596045027088 -->\n<g class=\"node\" id=\"node62\">\n<title>140596045027088</title>\n<polygon fill=\"none\" points=\"158,-5183.5 158,-5219.5 421,-5219.5 421,-5183.5 158,-5183.5\" stroke=\"#000000\"/>\n<text fill=\"#000000\" font-family=\"Times,serif\" font-size=\"14.00\" text-anchor=\"middle\" x=\"289.5\" y=\"-5197.8\">block7_sepconv2_bn: BatchNormalization</text>\n</g>\n<!-- 140596044921880&#45;&gt;140596045027088 -->\n<g class=\"edge\" id=\"edge66\">\n<title>140596044921880-&gt;140596045027088</title>\n<path d=\"M289.5,-5256.4551C289.5,-5248.3828 289.5,-5238.6764 289.5,-5229.6817\" fill=\"none\" stroke=\"#000000\"/>\n<polygon fill=\"#000000\" points=\"293.0001,-5229.5903 289.5,-5219.5904 286.0001,-5229.5904 293.0001,-5229.5903\" stroke=\"#000000\"/>\n</g>\n<!-- 140596045144016 -->\n<g class=\"node\" id=\"node63\">\n<title>140596045144016</title>\n<polygon fill=\"none\" points=\"185,-5110.5 185,-5146.5 394,-5146.5 394,-5110.5 185,-5110.5\" stroke=\"#000000\"/>\n<text fill=\"#000000\" font-family=\"Times,serif\" font-size=\"14.00\" text-anchor=\"middle\" x=\"289.5\" y=\"-5124.8\">block7_sepconv3_act: Activation</text>\n</g>\n<!-- 140596045027088&#45;&gt;140596045144016 -->\n<g class=\"edge\" id=\"edge67\">\n<title>140596045027088-&gt;140596045144016</title>\n<path d=\"M289.5,-5183.4551C289.5,-5175.3828 289.5,-5165.6764 289.5,-5156.6817\" fill=\"none\" stroke=\"#000000\"/>\n<polygon fill=\"#000000\" points=\"293.0001,-5156.5903 289.5,-5146.5904 286.0001,-5156.5904 293.0001,-5156.5903\" stroke=\"#000000\"/>\n</g>\n<!-- 140596045142504 -->\n<g class=\"node\" id=\"node64\">\n<title>140596045142504</title>\n<polygon fill=\"none\" points=\"173.5,-5037.5 173.5,-5073.5 405.5,-5073.5 405.5,-5037.5 173.5,-5037.5\" stroke=\"#000000\"/>\n<text fill=\"#000000\" font-family=\"Times,serif\" font-size=\"14.00\" text-anchor=\"middle\" x=\"289.5\" y=\"-5051.8\">block7_sepconv3: SeparableConv2D</text>\n</g>\n<!-- 140596045144016&#45;&gt;140596045142504 -->\n<g class=\"edge\" id=\"edge68\">\n<title>140596045144016-&gt;140596045142504</title>\n<path d=\"M289.5,-5110.4551C289.5,-5102.3828 289.5,-5092.6764 289.5,-5083.6817\" fill=\"none\" stroke=\"#000000\"/>\n<polygon fill=\"#000000\" points=\"293.0001,-5083.5903 289.5,-5073.5904 286.0001,-5083.5904 293.0001,-5083.5903\" stroke=\"#000000\"/>\n</g>\n<!-- 140596044644704 -->\n<g class=\"node\" id=\"node65\">\n<title>140596044644704</title>\n<polygon fill=\"none\" points=\"158,-4964.5 158,-5000.5 421,-5000.5 421,-4964.5 158,-4964.5\" stroke=\"#000000\"/>\n<text fill=\"#000000\" font-family=\"Times,serif\" font-size=\"14.00\" text-anchor=\"middle\" x=\"289.5\" y=\"-4978.8\">block7_sepconv3_bn: BatchNormalization</text>\n</g>\n<!-- 140596045142504&#45;&gt;140596044644704 -->\n<g class=\"edge\" id=\"edge69\">\n<title>140596045142504-&gt;140596044644704</title>\n<path d=\"M289.5,-5037.4551C289.5,-5029.3828 289.5,-5019.6764 289.5,-5010.6817\" fill=\"none\" stroke=\"#000000\"/>\n<polygon fill=\"#000000\" points=\"293.0001,-5010.5903 289.5,-5000.5904 286.0001,-5010.5904 293.0001,-5010.5903\" stroke=\"#000000\"/>\n</g>\n<!-- 140596044644704&#45;&gt;140596044824080 -->\n<g class=\"edge\" id=\"edge70\">\n<title>140596044644704-&gt;140596044824080</title>\n<path d=\"M309.2753,-4964.4551C319.1793,-4955.4177 331.3281,-4944.3319 342.1138,-4934.4899\" fill=\"none\" stroke=\"#000000\"/>\n<polygon fill=\"#000000\" points=\"344.6473,-4936.9163 349.6749,-4927.5904 339.9289,-4931.7455 344.6473,-4936.9163\" stroke=\"#000000\"/>\n</g>\n<!-- 140596045238168 -->\n<g class=\"node\" id=\"node67\">\n<title>140596045238168</title>\n<polygon fill=\"none\" points=\"199,-4818.5 199,-4854.5 408,-4854.5 408,-4818.5 199,-4818.5\" stroke=\"#000000\"/>\n<text fill=\"#000000\" font-family=\"Times,serif\" font-size=\"14.00\" text-anchor=\"middle\" x=\"303.5\" y=\"-4832.8\">block8_sepconv1_act: Activation</text>\n</g>\n<!-- 140596044824080&#45;&gt;140596045238168 -->\n<g class=\"edge\" id=\"edge72\">\n<title>140596044824080-&gt;140596045238168</title>\n<path d=\"M353.1854,-4891.4551C345.1733,-4882.5932 335.3804,-4871.7616 326.6132,-4862.0646\" fill=\"none\" stroke=\"#000000\"/>\n<polygon fill=\"#000000\" points=\"329.1584,-4859.6609 319.8557,-4854.5904 323.9659,-4864.3554 329.1584,-4859.6609\" stroke=\"#000000\"/>\n</g>\n<!-- 140596044192848 -->\n<g class=\"node\" id=\"node76\">\n<title>140596044192848</title>\n<polygon fill=\"none\" points=\"319.5,-4161.5 319.5,-4197.5 411.5,-4197.5 411.5,-4161.5 319.5,-4161.5\" stroke=\"#000000\"/>\n<text fill=\"#000000\" font-family=\"Times,serif\" font-size=\"14.00\" text-anchor=\"middle\" x=\"365.5\" y=\"-4175.8\">add_19: Add</text>\n</g>\n<!-- 140596044824080&#45;&gt;140596044192848 -->\n<g class=\"edge\" id=\"edge82\">\n<title>140596044824080-&gt;140596044192848</title>\n<path d=\"M389.0193,-4891.373C398.7442,-4881.4354 409.9973,-4868.4283 417.5,-4855 438.2433,-4817.8737 445.5,-4806.0281 445.5,-4763.5 445.5,-4763.5 445.5,-4763.5 445.5,-4325.5 445.5,-4283.9658 447.252,-4269.9784 426.5,-4234 419.9494,-4222.643 410.1903,-4212.3894 400.3888,-4203.9205\" fill=\"none\" stroke=\"#000000\"/>\n<polygon fill=\"#000000\" points=\"402.5335,-4201.153 392.5795,-4197.5242 398.098,-4206.5684 402.5335,-4201.153\" stroke=\"#000000\"/>\n</g>\n<!-- 140596044841592 -->\n<g class=\"node\" id=\"node68\">\n<title>140596044841592</title>\n<polygon fill=\"none\" points=\"177.5,-4745.5 177.5,-4781.5 409.5,-4781.5 409.5,-4745.5 177.5,-4745.5\" stroke=\"#000000\"/>\n<text fill=\"#000000\" font-family=\"Times,serif\" font-size=\"14.00\" text-anchor=\"middle\" x=\"293.5\" y=\"-4759.8\">block8_sepconv1: SeparableConv2D</text>\n</g>\n<!-- 140596045238168&#45;&gt;140596044841592 -->\n<g class=\"edge\" id=\"edge73\">\n<title>140596045238168-&gt;140596044841592</title>\n<path d=\"M301.0281,-4818.4551C299.9223,-4810.3828 298.5927,-4800.6764 297.3605,-4791.6817\" fill=\"none\" stroke=\"#000000\"/>\n<polygon fill=\"#000000\" points=\"300.803,-4791.0228 295.9781,-4781.5904 293.8678,-4791.9729 300.803,-4791.0228\" stroke=\"#000000\"/>\n</g>\n<!-- 140596044397648 -->\n<g class=\"node\" id=\"node69\">\n<title>140596044397648</title>\n<polygon fill=\"none\" points=\"154,-4672.5 154,-4708.5 417,-4708.5 417,-4672.5 154,-4672.5\" stroke=\"#000000\"/>\n<text fill=\"#000000\" font-family=\"Times,serif\" font-size=\"14.00\" text-anchor=\"middle\" x=\"285.5\" y=\"-4686.8\">block8_sepconv1_bn: BatchNormalization</text>\n</g>\n<!-- 140596044841592&#45;&gt;140596044397648 -->\n<g class=\"edge\" id=\"edge74\">\n<title>140596044841592-&gt;140596044397648</title>\n<path d=\"M291.5225,-4745.4551C290.6378,-4737.3828 289.5741,-4727.6764 288.5884,-4718.6817\" fill=\"none\" stroke=\"#000000\"/>\n<polygon fill=\"#000000\" points=\"292.0511,-4718.1495 287.4825,-4708.5904 285.0928,-4718.9122 292.0511,-4718.1495\" stroke=\"#000000\"/>\n</g>\n<!-- 140596044512952 -->\n<g class=\"node\" id=\"node70\">\n<title>140596044512952</title>\n<polygon fill=\"none\" points=\"181,-4599.5 181,-4635.5 390,-4635.5 390,-4599.5 181,-4599.5\" stroke=\"#000000\"/>\n<text fill=\"#000000\" font-family=\"Times,serif\" font-size=\"14.00\" text-anchor=\"middle\" x=\"285.5\" y=\"-4613.8\">block8_sepconv2_act: Activation</text>\n</g>\n<!-- 140596044397648&#45;&gt;140596044512952 -->\n<g class=\"edge\" id=\"edge75\">\n<title>140596044397648-&gt;140596044512952</title>\n<path d=\"M285.5,-4672.4551C285.5,-4664.3828 285.5,-4654.6764 285.5,-4645.6817\" fill=\"none\" stroke=\"#000000\"/>\n<polygon fill=\"#000000\" points=\"289.0001,-4645.5903 285.5,-4635.5904 282.0001,-4645.5904 289.0001,-4645.5903\" stroke=\"#000000\"/>\n</g>\n<!-- 140596044513064 -->\n<g class=\"node\" id=\"node71\">\n<title>140596044513064</title>\n<polygon fill=\"none\" points=\"169.5,-4526.5 169.5,-4562.5 401.5,-4562.5 401.5,-4526.5 169.5,-4526.5\" stroke=\"#000000\"/>\n<text fill=\"#000000\" font-family=\"Times,serif\" font-size=\"14.00\" text-anchor=\"middle\" x=\"285.5\" y=\"-4540.8\">block8_sepconv2: SeparableConv2D</text>\n</g>\n<!-- 140596044512952&#45;&gt;140596044513064 -->\n<g class=\"edge\" id=\"edge76\">\n<title>140596044512952-&gt;140596044513064</title>\n<path d=\"M285.5,-4599.4551C285.5,-4591.3828 285.5,-4581.6764 285.5,-4572.6817\" fill=\"none\" stroke=\"#000000\"/>\n<polygon fill=\"#000000\" points=\"289.0001,-4572.5903 285.5,-4562.5904 282.0001,-4572.5904 289.0001,-4572.5903\" stroke=\"#000000\"/>\n</g>\n<!-- 140596044609968 -->\n<g class=\"node\" id=\"node72\">\n<title>140596044609968</title>\n<polygon fill=\"none\" points=\"154,-4453.5 154,-4489.5 417,-4489.5 417,-4453.5 154,-4453.5\" stroke=\"#000000\"/>\n<text fill=\"#000000\" font-family=\"Times,serif\" font-size=\"14.00\" text-anchor=\"middle\" x=\"285.5\" y=\"-4467.8\">block8_sepconv2_bn: BatchNormalization</text>\n</g>\n<!-- 140596044513064&#45;&gt;140596044609968 -->\n<g class=\"edge\" id=\"edge77\">\n<title>140596044513064-&gt;140596044609968</title>\n<path d=\"M285.5,-4526.4551C285.5,-4518.3828 285.5,-4508.6764 285.5,-4499.6817\" fill=\"none\" stroke=\"#000000\"/>\n<polygon fill=\"#000000\" points=\"289.0001,-4499.5903 285.5,-4489.5904 282.0001,-4499.5904 289.0001,-4499.5903\" stroke=\"#000000\"/>\n</g>\n<!-- 140598027628384 -->\n<g class=\"node\" id=\"node73\">\n<title>140598027628384</title>\n<polygon fill=\"none\" points=\"181,-4380.5 181,-4416.5 390,-4416.5 390,-4380.5 181,-4380.5\" stroke=\"#000000\"/>\n<text fill=\"#000000\" font-family=\"Times,serif\" font-size=\"14.00\" text-anchor=\"middle\" x=\"285.5\" y=\"-4394.8\">block8_sepconv3_act: Activation</text>\n</g>\n<!-- 140596044609968&#45;&gt;140598027628384 -->\n<g class=\"edge\" id=\"edge78\">\n<title>140596044609968-&gt;140598027628384</title>\n<path d=\"M285.5,-4453.4551C285.5,-4445.3828 285.5,-4435.6764 285.5,-4426.6817\" fill=\"none\" stroke=\"#000000\"/>\n<polygon fill=\"#000000\" points=\"289.0001,-4426.5903 285.5,-4416.5904 282.0001,-4426.5904 289.0001,-4426.5903\" stroke=\"#000000\"/>\n</g>\n<!-- 140598010560016 -->\n<g class=\"node\" id=\"node74\">\n<title>140598010560016</title>\n<polygon fill=\"none\" points=\"169.5,-4307.5 169.5,-4343.5 401.5,-4343.5 401.5,-4307.5 169.5,-4307.5\" stroke=\"#000000\"/>\n<text fill=\"#000000\" font-family=\"Times,serif\" font-size=\"14.00\" text-anchor=\"middle\" x=\"285.5\" y=\"-4321.8\">block8_sepconv3: SeparableConv2D</text>\n</g>\n<!-- 140598027628384&#45;&gt;140598010560016 -->\n<g class=\"edge\" id=\"edge79\">\n<title>140598027628384-&gt;140598010560016</title>\n<path d=\"M285.5,-4380.4551C285.5,-4372.3828 285.5,-4362.6764 285.5,-4353.6817\" fill=\"none\" stroke=\"#000000\"/>\n<polygon fill=\"#000000\" points=\"289.0001,-4353.5903 285.5,-4343.5904 282.0001,-4353.5904 289.0001,-4353.5903\" stroke=\"#000000\"/>\n</g>\n<!-- 140598010469960 -->\n<g class=\"node\" id=\"node75\">\n<title>140598010469960</title>\n<polygon fill=\"none\" points=\"154,-4234.5 154,-4270.5 417,-4270.5 417,-4234.5 154,-4234.5\" stroke=\"#000000\"/>\n<text fill=\"#000000\" font-family=\"Times,serif\" font-size=\"14.00\" text-anchor=\"middle\" x=\"285.5\" y=\"-4248.8\">block8_sepconv3_bn: BatchNormalization</text>\n</g>\n<!-- 140598010560016&#45;&gt;140598010469960 -->\n<g class=\"edge\" id=\"edge80\">\n<title>140598010560016-&gt;140598010469960</title>\n<path d=\"M285.5,-4307.4551C285.5,-4299.3828 285.5,-4289.6764 285.5,-4280.6817\" fill=\"none\" stroke=\"#000000\"/>\n<polygon fill=\"#000000\" points=\"289.0001,-4280.5903 285.5,-4270.5904 282.0001,-4280.5904 289.0001,-4280.5903\" stroke=\"#000000\"/>\n</g>\n<!-- 140598010469960&#45;&gt;140596044192848 -->\n<g class=\"edge\" id=\"edge81\">\n<title>140598010469960-&gt;140596044192848</title>\n<path d=\"M305.2753,-4234.4551C315.1793,-4225.4177 327.3281,-4214.3319 338.1138,-4204.4899\" fill=\"none\" stroke=\"#000000\"/>\n<polygon fill=\"#000000\" points=\"340.6473,-4206.9163 345.6749,-4197.5904 335.9289,-4201.7455 340.6473,-4206.9163\" stroke=\"#000000\"/>\n</g>\n<!-- 140596044841424 -->\n<g class=\"node\" id=\"node77\">\n<title>140596044841424</title>\n<polygon fill=\"none\" points=\"189,-4088.5 189,-4124.5 398,-4124.5 398,-4088.5 189,-4088.5\" stroke=\"#000000\"/>\n<text fill=\"#000000\" font-family=\"Times,serif\" font-size=\"14.00\" text-anchor=\"middle\" x=\"293.5\" y=\"-4102.8\">block9_sepconv1_act: Activation</text>\n</g>\n<!-- 140596044192848&#45;&gt;140596044841424 -->\n<g class=\"edge\" id=\"edge83\">\n<title>140596044192848-&gt;140596044841424</title>\n<path d=\"M347.7022,-4161.4551C338.8752,-4152.5054 328.0669,-4141.547 318.4307,-4131.7769\" fill=\"none\" stroke=\"#000000\"/>\n<polygon fill=\"#000000\" points=\"320.8566,-4129.2523 311.3425,-4124.5904 315.8728,-4134.1678 320.8566,-4129.2523\" stroke=\"#000000\"/>\n</g>\n<!-- 140596043744424 -->\n<g class=\"node\" id=\"node86\">\n<title>140596043744424</title>\n<polygon fill=\"none\" points=\"314.5,-3431.5 314.5,-3467.5 406.5,-3467.5 406.5,-3431.5 314.5,-3431.5\" stroke=\"#000000\"/>\n<text fill=\"#000000\" font-family=\"Times,serif\" font-size=\"14.00\" text-anchor=\"middle\" x=\"360.5\" y=\"-3445.8\">add_20: Add</text>\n</g>\n<!-- 140596044192848&#45;&gt;140596043744424 -->\n<g class=\"edge\" id=\"edge93\">\n<title>140596044192848-&gt;140596043744424</title>\n<path d=\"M382.1449,-4161.2244C404.2405,-4134.9944 440.5,-4084.2229 440.5,-4033.5 440.5,-4033.5 440.5,-4033.5 440.5,-3595.5 440.5,-3553.9658 442.252,-3539.9784 421.5,-3504 414.9494,-3492.643 405.1903,-3482.3894 395.3888,-3473.9205\" fill=\"none\" stroke=\"#000000\"/>\n<polygon fill=\"#000000\" points=\"397.5335,-3471.153 387.5795,-3467.5242 393.098,-3476.5684 397.5335,-3471.153\" stroke=\"#000000\"/>\n</g>\n<!-- 140596044206264 -->\n<g class=\"node\" id=\"node78\">\n<title>140596044206264</title>\n<polygon fill=\"none\" points=\"172.5,-4015.5 172.5,-4051.5 404.5,-4051.5 404.5,-4015.5 172.5,-4015.5\" stroke=\"#000000\"/>\n<text fill=\"#000000\" font-family=\"Times,serif\" font-size=\"14.00\" text-anchor=\"middle\" x=\"288.5\" y=\"-4029.8\">block9_sepconv1: SeparableConv2D</text>\n</g>\n<!-- 140596044841424&#45;&gt;140596044206264 -->\n<g class=\"edge\" id=\"edge84\">\n<title>140596044841424-&gt;140596044206264</title>\n<path d=\"M292.264,-4088.4551C291.7112,-4080.3828 291.0463,-4070.6764 290.4303,-4061.6817\" fill=\"none\" stroke=\"#000000\"/>\n<polygon fill=\"#000000\" points=\"293.9143,-4061.3278 289.7391,-4051.5904 286.9307,-4061.8062 293.9143,-4061.3278\" stroke=\"#000000\"/>\n</g>\n<!-- 140596044299008 -->\n<g class=\"node\" id=\"node79\">\n<title>140596044299008</title>\n<polygon fill=\"none\" points=\"149,-3942.5 149,-3978.5 412,-3978.5 412,-3942.5 149,-3942.5\" stroke=\"#000000\"/>\n<text fill=\"#000000\" font-family=\"Times,serif\" font-size=\"14.00\" text-anchor=\"middle\" x=\"280.5\" y=\"-3956.8\">block9_sepconv1_bn: BatchNormalization</text>\n</g>\n<!-- 140596044206264&#45;&gt;140596044299008 -->\n<g class=\"edge\" id=\"edge85\">\n<title>140596044206264-&gt;140596044299008</title>\n<path d=\"M286.5225,-4015.4551C285.6378,-4007.3828 284.5741,-3997.6764 283.5884,-3988.6817\" fill=\"none\" stroke=\"#000000\"/>\n<polygon fill=\"#000000\" points=\"287.0511,-3988.1495 282.4825,-3978.5904 280.0928,-3988.9122 287.0511,-3988.1495\" stroke=\"#000000\"/>\n</g>\n<!-- 140596043894232 -->\n<g class=\"node\" id=\"node80\">\n<title>140596043894232</title>\n<polygon fill=\"none\" points=\"176,-3869.5 176,-3905.5 385,-3905.5 385,-3869.5 176,-3869.5\" stroke=\"#000000\"/>\n<text fill=\"#000000\" font-family=\"Times,serif\" font-size=\"14.00\" text-anchor=\"middle\" x=\"280.5\" y=\"-3883.8\">block9_sepconv2_act: Activation</text>\n</g>\n<!-- 140596044299008&#45;&gt;140596043894232 -->\n<g class=\"edge\" id=\"edge86\">\n<title>140596044299008-&gt;140596043894232</title>\n<path d=\"M280.5,-3942.4551C280.5,-3934.3828 280.5,-3924.6764 280.5,-3915.6817\" fill=\"none\" stroke=\"#000000\"/>\n<polygon fill=\"#000000\" points=\"284.0001,-3915.5903 280.5,-3905.5904 277.0001,-3915.5904 284.0001,-3915.5903\" stroke=\"#000000\"/>\n</g>\n<!-- 140596043894344 -->\n<g class=\"node\" id=\"node81\">\n<title>140596043894344</title>\n<polygon fill=\"none\" points=\"164.5,-3796.5 164.5,-3832.5 396.5,-3832.5 396.5,-3796.5 164.5,-3796.5\" stroke=\"#000000\"/>\n<text fill=\"#000000\" font-family=\"Times,serif\" font-size=\"14.00\" text-anchor=\"middle\" x=\"280.5\" y=\"-3810.8\">block9_sepconv2: SeparableConv2D</text>\n</g>\n<!-- 140596043894232&#45;&gt;140596043894344 -->\n<g class=\"edge\" id=\"edge87\">\n<title>140596043894232-&gt;140596043894344</title>\n<path d=\"M280.5,-3869.4551C280.5,-3861.3828 280.5,-3851.6764 280.5,-3842.6817\" fill=\"none\" stroke=\"#000000\"/>\n<polygon fill=\"#000000\" points=\"284.0001,-3842.5903 280.5,-3832.5904 277.0001,-3842.5904 284.0001,-3842.5903\" stroke=\"#000000\"/>\n</g>\n<!-- 140596043987264 -->\n<g class=\"node\" id=\"node82\">\n<title>140596043987264</title>\n<polygon fill=\"none\" points=\"149,-3723.5 149,-3759.5 412,-3759.5 412,-3723.5 149,-3723.5\" stroke=\"#000000\"/>\n<text fill=\"#000000\" font-family=\"Times,serif\" font-size=\"14.00\" text-anchor=\"middle\" x=\"280.5\" y=\"-3737.8\">block9_sepconv2_bn: BatchNormalization</text>\n</g>\n<!-- 140596043894344&#45;&gt;140596043987264 -->\n<g class=\"edge\" id=\"edge88\">\n<title>140596043894344-&gt;140596043987264</title>\n<path d=\"M280.5,-3796.4551C280.5,-3788.3828 280.5,-3778.6764 280.5,-3769.6817\" fill=\"none\" stroke=\"#000000\"/>\n<polygon fill=\"#000000\" points=\"284.0001,-3769.5903 280.5,-3759.5904 277.0001,-3769.5904 284.0001,-3769.5903\" stroke=\"#000000\"/>\n</g>\n<!-- 140596043586080 -->\n<g class=\"node\" id=\"node83\">\n<title>140596043586080</title>\n<polygon fill=\"none\" points=\"176,-3650.5 176,-3686.5 385,-3686.5 385,-3650.5 176,-3650.5\" stroke=\"#000000\"/>\n<text fill=\"#000000\" font-family=\"Times,serif\" font-size=\"14.00\" text-anchor=\"middle\" x=\"280.5\" y=\"-3664.8\">block9_sepconv3_act: Activation</text>\n</g>\n<!-- 140596043987264&#45;&gt;140596043586080 -->\n<g class=\"edge\" id=\"edge89\">\n<title>140596043987264-&gt;140596043586080</title>\n<path d=\"M280.5,-3723.4551C280.5,-3715.3828 280.5,-3705.6764 280.5,-3696.6817\" fill=\"none\" stroke=\"#000000\"/>\n<polygon fill=\"#000000\" points=\"284.0001,-3696.5903 280.5,-3686.5904 277.0001,-3696.5904 284.0001,-3696.5903\" stroke=\"#000000\"/>\n</g>\n<!-- 140596043585968 -->\n<g class=\"node\" id=\"node84\">\n<title>140596043585968</title>\n<polygon fill=\"none\" points=\"164.5,-3577.5 164.5,-3613.5 396.5,-3613.5 396.5,-3577.5 164.5,-3577.5\" stroke=\"#000000\"/>\n<text fill=\"#000000\" font-family=\"Times,serif\" font-size=\"14.00\" text-anchor=\"middle\" x=\"280.5\" y=\"-3591.8\">block9_sepconv3: SeparableConv2D</text>\n</g>\n<!-- 140596043586080&#45;&gt;140596043585968 -->\n<g class=\"edge\" id=\"edge90\">\n<title>140596043586080-&gt;140596043585968</title>\n<path d=\"M280.5,-3650.4551C280.5,-3642.3828 280.5,-3632.6764 280.5,-3623.6817\" fill=\"none\" stroke=\"#000000\"/>\n<polygon fill=\"#000000\" points=\"284.0001,-3623.5903 280.5,-3613.5904 277.0001,-3623.5904 284.0001,-3623.5903\" stroke=\"#000000\"/>\n</g>\n<!-- 140596043610656 -->\n<g class=\"node\" id=\"node85\">\n<title>140596043610656</title>\n<polygon fill=\"none\" points=\"149,-3504.5 149,-3540.5 412,-3540.5 412,-3504.5 149,-3504.5\" stroke=\"#000000\"/>\n<text fill=\"#000000\" font-family=\"Times,serif\" font-size=\"14.00\" text-anchor=\"middle\" x=\"280.5\" y=\"-3518.8\">block9_sepconv3_bn: BatchNormalization</text>\n</g>\n<!-- 140596043585968&#45;&gt;140596043610656 -->\n<g class=\"edge\" id=\"edge91\">\n<title>140596043585968-&gt;140596043610656</title>\n<path d=\"M280.5,-3577.4551C280.5,-3569.3828 280.5,-3559.6764 280.5,-3550.6817\" fill=\"none\" stroke=\"#000000\"/>\n<polygon fill=\"#000000\" points=\"284.0001,-3550.5903 280.5,-3540.5904 277.0001,-3550.5904 284.0001,-3550.5903\" stroke=\"#000000\"/>\n</g>\n<!-- 140596043610656&#45;&gt;140596043744424 -->\n<g class=\"edge\" id=\"edge92\">\n<title>140596043610656-&gt;140596043744424</title>\n<path d=\"M300.2753,-3504.4551C310.1793,-3495.4177 322.3281,-3484.3319 333.1138,-3474.4899\" fill=\"none\" stroke=\"#000000\"/>\n<polygon fill=\"#000000\" points=\"335.6473,-3476.9163 340.6749,-3467.5904 330.9289,-3471.7455 335.6473,-3476.9163\" stroke=\"#000000\"/>\n</g>\n<!-- 140596044208560 -->\n<g class=\"node\" id=\"node87\">\n<title>140596044208560</title>\n<polygon fill=\"none\" points=\"184.5,-3358.5 184.5,-3394.5 400.5,-3394.5 400.5,-3358.5 184.5,-3358.5\" stroke=\"#000000\"/>\n<text fill=\"#000000\" font-family=\"Times,serif\" font-size=\"14.00\" text-anchor=\"middle\" x=\"292.5\" y=\"-3372.8\">block10_sepconv1_act: Activation</text>\n</g>\n<!-- 140596043744424&#45;&gt;140596044208560 -->\n<g class=\"edge\" id=\"edge94\">\n<title>140596043744424-&gt;140596044208560</title>\n<path d=\"M343.691,-3431.4551C335.4361,-3422.5932 325.3465,-3411.7616 316.3136,-3402.0646\" fill=\"none\" stroke=\"#000000\"/>\n<polygon fill=\"#000000\" points=\"318.7284,-3399.522 309.3513,-3394.5904 313.6063,-3404.2932 318.7284,-3399.522\" stroke=\"#000000\"/>\n</g>\n<!-- 140596042861368 -->\n<g class=\"node\" id=\"node96\">\n<title>140596042861368</title>\n<polygon fill=\"none\" points=\"310.5,-2701.5 310.5,-2737.5 402.5,-2737.5 402.5,-2701.5 310.5,-2701.5\" stroke=\"#000000\"/>\n<text fill=\"#000000\" font-family=\"Times,serif\" font-size=\"14.00\" text-anchor=\"middle\" x=\"356.5\" y=\"-2715.8\">add_21: Add</text>\n</g>\n<!-- 140596043744424&#45;&gt;140596042861368 -->\n<g class=\"edge\" id=\"edge104\">\n<title>140596043744424-&gt;140596042861368</title>\n<path d=\"M380.3858,-3431.4106C390.3023,-3421.4833 401.7921,-3408.4741 409.5,-3395 430.6828,-3357.9704 438.5,-3346.1603 438.5,-3303.5 438.5,-3303.5 438.5,-3303.5 438.5,-2865.5 438.5,-2823.9658 440.5391,-2809.8112 419.5,-2774 412.7946,-2762.5865 402.8304,-2752.3676 392.7949,-2743.948\" fill=\"none\" stroke=\"#000000\"/>\n<polygon fill=\"#000000\" points=\"394.8,-2741.0709 384.7922,-2737.5929 390.4468,-2746.5527 394.8,-2741.0709\" stroke=\"#000000\"/>\n</g>\n<!-- 140596043798008 -->\n<g class=\"node\" id=\"node88\">\n<title>140596043798008</title>\n<polygon fill=\"none\" points=\"163,-3285.5 163,-3321.5 402,-3321.5 402,-3285.5 163,-3285.5\" stroke=\"#000000\"/>\n<text fill=\"#000000\" font-family=\"Times,serif\" font-size=\"14.00\" text-anchor=\"middle\" x=\"282.5\" y=\"-3299.8\">block10_sepconv1: SeparableConv2D</text>\n</g>\n<!-- 140596044208560&#45;&gt;140596043798008 -->\n<g class=\"edge\" id=\"edge95\">\n<title>140596044208560-&gt;140596043798008</title>\n<path d=\"M290.0281,-3358.4551C288.9223,-3350.3828 287.5927,-3340.6764 286.3605,-3331.6817\" fill=\"none\" stroke=\"#000000\"/>\n<polygon fill=\"#000000\" points=\"289.803,-3331.0228 284.9781,-3321.5904 282.8678,-3331.9729 289.803,-3331.0228\" stroke=\"#000000\"/>\n</g>\n<!-- 140596043370624 -->\n<g class=\"node\" id=\"node89\">\n<title>140596043370624</title>\n<polygon fill=\"none\" points=\"139,-3212.5 139,-3248.5 410,-3248.5 410,-3212.5 139,-3212.5\" stroke=\"#000000\"/>\n<text fill=\"#000000\" font-family=\"Times,serif\" font-size=\"14.00\" text-anchor=\"middle\" x=\"274.5\" y=\"-3226.8\">block10_sepconv1_bn: BatchNormalization</text>\n</g>\n<!-- 140596043798008&#45;&gt;140596043370624 -->\n<g class=\"edge\" id=\"edge96\">\n<title>140596043798008-&gt;140596043370624</title>\n<path d=\"M280.5225,-3285.4551C279.6378,-3277.3828 278.5741,-3267.6764 277.5884,-3258.6817\" fill=\"none\" stroke=\"#000000\"/>\n<polygon fill=\"#000000\" points=\"281.0511,-3258.1495 276.4825,-3248.5904 274.0928,-3258.9122 281.0511,-3258.1495\" stroke=\"#000000\"/>\n</g>\n<!-- 140596043496640 -->\n<g class=\"node\" id=\"node90\">\n<title>140596043496640</title>\n<polygon fill=\"none\" points=\"166.5,-3139.5 166.5,-3175.5 382.5,-3175.5 382.5,-3139.5 166.5,-3139.5\" stroke=\"#000000\"/>\n<text fill=\"#000000\" font-family=\"Times,serif\" font-size=\"14.00\" text-anchor=\"middle\" x=\"274.5\" y=\"-3153.8\">block10_sepconv2_act: Activation</text>\n</g>\n<!-- 140596043370624&#45;&gt;140596043496640 -->\n<g class=\"edge\" id=\"edge97\">\n<title>140596043370624-&gt;140596043496640</title>\n<path d=\"M274.5,-3212.4551C274.5,-3204.3828 274.5,-3194.6764 274.5,-3185.6817\" fill=\"none\" stroke=\"#000000\"/>\n<polygon fill=\"#000000\" points=\"278.0001,-3185.5903 274.5,-3175.5904 271.0001,-3185.5904 278.0001,-3185.5903\" stroke=\"#000000\"/>\n</g>\n<!-- 140596043496696 -->\n<g class=\"node\" id=\"node91\">\n<title>140596043496696</title>\n<polygon fill=\"none\" points=\"155,-3066.5 155,-3102.5 394,-3102.5 394,-3066.5 155,-3066.5\" stroke=\"#000000\"/>\n<text fill=\"#000000\" font-family=\"Times,serif\" font-size=\"14.00\" text-anchor=\"middle\" x=\"274.5\" y=\"-3080.8\">block10_sepconv2: SeparableConv2D</text>\n</g>\n<!-- 140596043496640&#45;&gt;140596043496696 -->\n<g class=\"edge\" id=\"edge98\">\n<title>140596043496640-&gt;140596043496696</title>\n<path d=\"M274.5,-3139.4551C274.5,-3131.3828 274.5,-3121.6764 274.5,-3112.6817\" fill=\"none\" stroke=\"#000000\"/>\n<polygon fill=\"#000000\" points=\"278.0001,-3112.5903 274.5,-3102.5904 271.0001,-3112.5904 278.0001,-3112.5903\" stroke=\"#000000\"/>\n</g>\n<!-- 140596043570256 -->\n<g class=\"node\" id=\"node92\">\n<title>140596043570256</title>\n<polygon fill=\"none\" points=\"139,-2993.5 139,-3029.5 410,-3029.5 410,-2993.5 139,-2993.5\" stroke=\"#000000\"/>\n<text fill=\"#000000\" font-family=\"Times,serif\" font-size=\"14.00\" text-anchor=\"middle\" x=\"274.5\" y=\"-3007.8\">block10_sepconv2_bn: BatchNormalization</text>\n</g>\n<!-- 140596043496696&#45;&gt;140596043570256 -->\n<g class=\"edge\" id=\"edge99\">\n<title>140596043496696-&gt;140596043570256</title>\n<path d=\"M274.5,-3066.4551C274.5,-3058.3828 274.5,-3048.6764 274.5,-3039.6817\" fill=\"none\" stroke=\"#000000\"/>\n<polygon fill=\"#000000\" points=\"278.0001,-3039.5903 274.5,-3029.5904 271.0001,-3039.5904 278.0001,-3039.5903\" stroke=\"#000000\"/>\n</g>\n<!-- 140596043169520 -->\n<g class=\"node\" id=\"node93\">\n<title>140596043169520</title>\n<polygon fill=\"none\" points=\"166.5,-2920.5 166.5,-2956.5 382.5,-2956.5 382.5,-2920.5 166.5,-2920.5\" stroke=\"#000000\"/>\n<text fill=\"#000000\" font-family=\"Times,serif\" font-size=\"14.00\" text-anchor=\"middle\" x=\"274.5\" y=\"-2934.8\">block10_sepconv3_act: Activation</text>\n</g>\n<!-- 140596043570256&#45;&gt;140596043169520 -->\n<g class=\"edge\" id=\"edge100\">\n<title>140596043570256-&gt;140596043169520</title>\n<path d=\"M274.5,-2993.4551C274.5,-2985.3828 274.5,-2975.6764 274.5,-2966.6817\" fill=\"none\" stroke=\"#000000\"/>\n<polygon fill=\"#000000\" points=\"278.0001,-2966.5903 274.5,-2956.5904 271.0001,-2966.5904 278.0001,-2966.5903\" stroke=\"#000000\"/>\n</g>\n<!-- 140596043169632 -->\n<g class=\"node\" id=\"node94\">\n<title>140596043169632</title>\n<polygon fill=\"none\" points=\"155,-2847.5 155,-2883.5 394,-2883.5 394,-2847.5 155,-2847.5\" stroke=\"#000000\"/>\n<text fill=\"#000000\" font-family=\"Times,serif\" font-size=\"14.00\" text-anchor=\"middle\" x=\"274.5\" y=\"-2861.8\">block10_sepconv3: SeparableConv2D</text>\n</g>\n<!-- 140596043169520&#45;&gt;140596043169632 -->\n<g class=\"edge\" id=\"edge101\">\n<title>140596043169520-&gt;140596043169632</title>\n<path d=\"M274.5,-2920.4551C274.5,-2912.3828 274.5,-2902.6764 274.5,-2893.6817\" fill=\"none\" stroke=\"#000000\"/>\n<polygon fill=\"#000000\" points=\"278.0001,-2893.5903 274.5,-2883.5904 271.0001,-2893.5904 278.0001,-2893.5903\" stroke=\"#000000\"/>\n</g>\n<!-- 140596043258456 -->\n<g class=\"node\" id=\"node95\">\n<title>140596043258456</title>\n<polygon fill=\"none\" points=\"139,-2774.5 139,-2810.5 410,-2810.5 410,-2774.5 139,-2774.5\" stroke=\"#000000\"/>\n<text fill=\"#000000\" font-family=\"Times,serif\" font-size=\"14.00\" text-anchor=\"middle\" x=\"274.5\" y=\"-2788.8\">block10_sepconv3_bn: BatchNormalization</text>\n</g>\n<!-- 140596043169632&#45;&gt;140596043258456 -->\n<g class=\"edge\" id=\"edge102\">\n<title>140596043169632-&gt;140596043258456</title>\n<path d=\"M274.5,-2847.4551C274.5,-2839.3828 274.5,-2829.6764 274.5,-2820.6817\" fill=\"none\" stroke=\"#000000\"/>\n<polygon fill=\"#000000\" points=\"278.0001,-2820.5903 274.5,-2810.5904 271.0001,-2820.5904 278.0001,-2820.5903\" stroke=\"#000000\"/>\n</g>\n<!-- 140596043258456&#45;&gt;140596042861368 -->\n<g class=\"edge\" id=\"edge103\">\n<title>140596043258456-&gt;140596042861368</title>\n<path d=\"M294.7697,-2774.4551C304.9212,-2765.4177 317.3738,-2754.3319 328.4291,-2744.4899\" fill=\"none\" stroke=\"#000000\"/>\n<polygon fill=\"#000000\" points=\"331.0375,-2746.8539 336.1793,-2737.5904 326.383,-2741.6255 331.0375,-2746.8539\" stroke=\"#000000\"/>\n</g>\n<!-- 140596043797840 -->\n<g class=\"node\" id=\"node97\">\n<title>140596043797840</title>\n<polygon fill=\"none\" points=\"181,-2628.5 181,-2664.5 396,-2664.5 396,-2628.5 181,-2628.5\" stroke=\"#000000\"/>\n<text fill=\"#000000\" font-family=\"Times,serif\" font-size=\"14.00\" text-anchor=\"middle\" x=\"288.5\" y=\"-2642.8\">block11_sepconv1_act: Activation</text>\n</g>\n<!-- 140596042861368&#45;&gt;140596043797840 -->\n<g class=\"edge\" id=\"edge105\">\n<title>140596042861368-&gt;140596043797840</title>\n<path d=\"M339.691,-2701.4551C331.4361,-2692.5932 321.3465,-2681.7616 312.3136,-2672.0646\" fill=\"none\" stroke=\"#000000\"/>\n<polygon fill=\"#000000\" points=\"314.7284,-2669.522 305.3513,-2664.5904 309.6063,-2674.2932 314.7284,-2669.522\" stroke=\"#000000\"/>\n</g>\n<!-- 140596042435664 -->\n<g class=\"node\" id=\"node106\">\n<title>140596042435664</title>\n<polygon fill=\"none\" points=\"305.5,-1971.5 305.5,-2007.5 397.5,-2007.5 397.5,-1971.5 305.5,-1971.5\" stroke=\"#000000\"/>\n<text fill=\"#000000\" font-family=\"Times,serif\" font-size=\"14.00\" text-anchor=\"middle\" x=\"351.5\" y=\"-1985.8\">add_22: Add</text>\n</g>\n<!-- 140596042861368&#45;&gt;140596042435664 -->\n<g class=\"edge\" id=\"edge115\">\n<title>140596042861368-&gt;140596042435664</title>\n<path d=\"M376.4411,-2701.442C386.3727,-2691.5233 397.8593,-2678.5123 405.5,-2665 426.4331,-2627.9804 433.5,-2616.0281 433.5,-2573.5 433.5,-2573.5 433.5,-2573.5 433.5,-2135.5 433.5,-2093.9658 435.5391,-2079.8112 414.5,-2044 407.7946,-2032.5865 397.8304,-2022.3676 387.7949,-2013.948\" fill=\"none\" stroke=\"#000000\"/>\n<polygon fill=\"#000000\" points=\"389.8,-2011.0709 379.7922,-2007.5929 385.4468,-2016.5527 389.8,-2011.0709\" stroke=\"#000000\"/>\n</g>\n<!-- 140596042861312 -->\n<g class=\"node\" id=\"node98\">\n<title>140596042861312</title>\n<polygon fill=\"none\" points=\"159,-2555.5 159,-2591.5 398,-2591.5 398,-2555.5 159,-2555.5\" stroke=\"#000000\"/>\n<text fill=\"#000000\" font-family=\"Times,serif\" font-size=\"14.00\" text-anchor=\"middle\" x=\"278.5\" y=\"-2569.8\">block11_sepconv1: SeparableConv2D</text>\n</g>\n<!-- 140596043797840&#45;&gt;140596042861312 -->\n<g class=\"edge\" id=\"edge106\">\n<title>140596043797840-&gt;140596042861312</title>\n<path d=\"M286.0281,-2628.4551C284.9223,-2620.3828 283.5927,-2610.6764 282.3605,-2601.6817\" fill=\"none\" stroke=\"#000000\"/>\n<polygon fill=\"#000000\" points=\"285.803,-2601.0228 280.9781,-2591.5904 278.8678,-2601.9729 285.803,-2601.0228\" stroke=\"#000000\"/>\n</g>\n<!-- 140596042950304 -->\n<g class=\"node\" id=\"node99\">\n<title>140596042950304</title>\n<polygon fill=\"none\" points=\"135.5,-2482.5 135.5,-2518.5 405.5,-2518.5 405.5,-2482.5 135.5,-2482.5\" stroke=\"#000000\"/>\n<text fill=\"#000000\" font-family=\"Times,serif\" font-size=\"14.00\" text-anchor=\"middle\" x=\"270.5\" y=\"-2496.8\">block11_sepconv1_bn: BatchNormalization</text>\n</g>\n<!-- 140596042861312&#45;&gt;140596042950304 -->\n<g class=\"edge\" id=\"edge107\">\n<title>140596042861312-&gt;140596042950304</title>\n<path d=\"M276.5225,-2555.4551C275.6378,-2547.3828 274.5741,-2537.6764 273.5884,-2528.6817\" fill=\"none\" stroke=\"#000000\"/>\n<polygon fill=\"#000000\" points=\"277.0511,-2528.1495 272.4825,-2518.5904 270.0928,-2528.9122 277.0511,-2528.1495\" stroke=\"#000000\"/>\n</g>\n<!-- 140596042553608 -->\n<g class=\"node\" id=\"node100\">\n<title>140596042553608</title>\n<polygon fill=\"none\" points=\"163,-2409.5 163,-2445.5 378,-2445.5 378,-2409.5 163,-2409.5\" stroke=\"#000000\"/>\n<text fill=\"#000000\" font-family=\"Times,serif\" font-size=\"14.00\" text-anchor=\"middle\" x=\"270.5\" y=\"-2423.8\">block11_sepconv2_act: Activation</text>\n</g>\n<!-- 140596042950304&#45;&gt;140596042553608 -->\n<g class=\"edge\" id=\"edge108\">\n<title>140596042950304-&gt;140596042553608</title>\n<path d=\"M270.5,-2482.4551C270.5,-2474.3828 270.5,-2464.6764 270.5,-2455.6817\" fill=\"none\" stroke=\"#000000\"/>\n<polygon fill=\"#000000\" points=\"274.0001,-2455.5903 270.5,-2445.5904 267.0001,-2455.5904 274.0001,-2455.5903\" stroke=\"#000000\"/>\n</g>\n<!-- 140596042553496 -->\n<g class=\"node\" id=\"node101\">\n<title>140596042553496</title>\n<polygon fill=\"none\" points=\"151,-2336.5 151,-2372.5 390,-2372.5 390,-2336.5 151,-2336.5\" stroke=\"#000000\"/>\n<text fill=\"#000000\" font-family=\"Times,serif\" font-size=\"14.00\" text-anchor=\"middle\" x=\"270.5\" y=\"-2350.8\">block11_sepconv2: SeparableConv2D</text>\n</g>\n<!-- 140596042553608&#45;&gt;140596042553496 -->\n<g class=\"edge\" id=\"edge109\">\n<title>140596042553608-&gt;140596042553496</title>\n<path d=\"M270.5,-2409.4551C270.5,-2401.3828 270.5,-2391.6764 270.5,-2382.6817\" fill=\"none\" stroke=\"#000000\"/>\n<polygon fill=\"#000000\" points=\"274.0001,-2382.5903 270.5,-2372.5904 267.0001,-2382.5904 274.0001,-2382.5903\" stroke=\"#000000\"/>\n</g>\n<!-- 140596042569992 -->\n<g class=\"node\" id=\"node102\">\n<title>140596042569992</title>\n<polygon fill=\"none\" points=\"135.5,-2263.5 135.5,-2299.5 405.5,-2299.5 405.5,-2263.5 135.5,-2263.5\" stroke=\"#000000\"/>\n<text fill=\"#000000\" font-family=\"Times,serif\" font-size=\"14.00\" text-anchor=\"middle\" x=\"270.5\" y=\"-2277.8\">block11_sepconv2_bn: BatchNormalization</text>\n</g>\n<!-- 140596042553496&#45;&gt;140596042569992 -->\n<g class=\"edge\" id=\"edge110\">\n<title>140596042553496-&gt;140596042569992</title>\n<path d=\"M270.5,-2336.4551C270.5,-2328.3828 270.5,-2318.6764 270.5,-2309.6817\" fill=\"none\" stroke=\"#000000\"/>\n<polygon fill=\"#000000\" points=\"274.0001,-2309.5903 270.5,-2299.5904 267.0001,-2309.5904 274.0001,-2309.5903\" stroke=\"#000000\"/>\n</g>\n<!-- 140596042703872 -->\n<g class=\"node\" id=\"node103\">\n<title>140596042703872</title>\n<polygon fill=\"none\" points=\"163,-2190.5 163,-2226.5 378,-2226.5 378,-2190.5 163,-2190.5\" stroke=\"#000000\"/>\n<text fill=\"#000000\" font-family=\"Times,serif\" font-size=\"14.00\" text-anchor=\"middle\" x=\"270.5\" y=\"-2204.8\">block11_sepconv3_act: Activation</text>\n</g>\n<!-- 140596042569992&#45;&gt;140596042703872 -->\n<g class=\"edge\" id=\"edge111\">\n<title>140596042569992-&gt;140596042703872</title>\n<path d=\"M270.5,-2263.4551C270.5,-2255.3828 270.5,-2245.6764 270.5,-2236.6817\" fill=\"none\" stroke=\"#000000\"/>\n<polygon fill=\"#000000\" points=\"274.0001,-2236.5903 270.5,-2226.5904 267.0001,-2236.5904 274.0001,-2236.5903\" stroke=\"#000000\"/>\n</g>\n<!-- 140596042763792 -->\n<g class=\"node\" id=\"node104\">\n<title>140596042763792</title>\n<polygon fill=\"none\" points=\"151,-2117.5 151,-2153.5 390,-2153.5 390,-2117.5 151,-2117.5\" stroke=\"#000000\"/>\n<text fill=\"#000000\" font-family=\"Times,serif\" font-size=\"14.00\" text-anchor=\"middle\" x=\"270.5\" y=\"-2131.8\">block11_sepconv3: SeparableConv2D</text>\n</g>\n<!-- 140596042703872&#45;&gt;140596042763792 -->\n<g class=\"edge\" id=\"edge112\">\n<title>140596042703872-&gt;140596042763792</title>\n<path d=\"M270.5,-2190.4551C270.5,-2182.3828 270.5,-2172.6764 270.5,-2163.6817\" fill=\"none\" stroke=\"#000000\"/>\n<polygon fill=\"#000000\" points=\"274.0001,-2163.5903 270.5,-2153.5904 267.0001,-2163.5904 274.0001,-2163.5903\" stroke=\"#000000\"/>\n</g>\n<!-- 140596042313288 -->\n<g class=\"node\" id=\"node105\">\n<title>140596042313288</title>\n<polygon fill=\"none\" points=\"135.5,-2044.5 135.5,-2080.5 405.5,-2080.5 405.5,-2044.5 135.5,-2044.5\" stroke=\"#000000\"/>\n<text fill=\"#000000\" font-family=\"Times,serif\" font-size=\"14.00\" text-anchor=\"middle\" x=\"270.5\" y=\"-2058.8\">block11_sepconv3_bn: BatchNormalization</text>\n</g>\n<!-- 140596042763792&#45;&gt;140596042313288 -->\n<g class=\"edge\" id=\"edge113\">\n<title>140596042763792-&gt;140596042313288</title>\n<path d=\"M270.5,-2117.4551C270.5,-2109.3828 270.5,-2099.6764 270.5,-2090.6817\" fill=\"none\" stroke=\"#000000\"/>\n<polygon fill=\"#000000\" points=\"274.0001,-2090.5903 270.5,-2080.5904 267.0001,-2090.5904 274.0001,-2090.5903\" stroke=\"#000000\"/>\n</g>\n<!-- 140596042313288&#45;&gt;140596042435664 -->\n<g class=\"edge\" id=\"edge114\">\n<title>140596042313288-&gt;140596042435664</title>\n<path d=\"M290.5225,-2044.4551C300.5502,-2035.4177 312.8509,-2024.3319 323.7714,-2014.4899\" fill=\"none\" stroke=\"#000000\"/>\n<polygon fill=\"#000000\" points=\"326.3419,-2016.885 331.4271,-2007.5904 321.6556,-2011.6852 326.3419,-2016.885\" stroke=\"#000000\"/>\n</g>\n<!-- 140596042861200 -->\n<g class=\"node\" id=\"node107\">\n<title>140596042861200</title>\n<polygon fill=\"none\" points=\"175.5,-1898.5 175.5,-1934.5 391.5,-1934.5 391.5,-1898.5 175.5,-1898.5\" stroke=\"#000000\"/>\n<text fill=\"#000000\" font-family=\"Times,serif\" font-size=\"14.00\" text-anchor=\"middle\" x=\"283.5\" y=\"-1912.8\">block12_sepconv1_act: Activation</text>\n</g>\n<!-- 140596042435664&#45;&gt;140596042861200 -->\n<g class=\"edge\" id=\"edge116\">\n<title>140596042435664-&gt;140596042861200</title>\n<path d=\"M334.691,-1971.4551C326.4361,-1962.5932 316.3465,-1951.7616 307.3136,-1942.0646\" fill=\"none\" stroke=\"#000000\"/>\n<polygon fill=\"#000000\" points=\"309.7284,-1939.522 300.3513,-1934.5904 304.6063,-1944.2932 309.7284,-1939.522\" stroke=\"#000000\"/>\n</g>\n<!-- 140596041970856 -->\n<g class=\"node\" id=\"node116\">\n<title>140596041970856</title>\n<polygon fill=\"none\" points=\"301.5,-1241.5 301.5,-1277.5 393.5,-1277.5 393.5,-1241.5 301.5,-1241.5\" stroke=\"#000000\"/>\n<text fill=\"#000000\" font-family=\"Times,serif\" font-size=\"14.00\" text-anchor=\"middle\" x=\"347.5\" y=\"-1255.8\">add_23: Add</text>\n</g>\n<!-- 140596042435664&#45;&gt;140596041970856 -->\n<g class=\"edge\" id=\"edge126\">\n<title>140596042435664-&gt;140596041970856</title>\n<path d=\"M371.3858,-1971.4106C381.3023,-1961.4833 392.7921,-1948.4741 400.5,-1935 421.6828,-1897.9704 429.5,-1886.1603 429.5,-1843.5 429.5,-1843.5 429.5,-1843.5 429.5,-1405.5 429.5,-1363.9658 431.5391,-1349.8112 410.5,-1314 403.7946,-1302.5865 393.8304,-1292.3676 383.7949,-1283.948\" fill=\"none\" stroke=\"#000000\"/>\n<polygon fill=\"#000000\" points=\"385.8,-1281.0709 375.7922,-1277.5929 381.4468,-1286.5527 385.8,-1281.0709\" stroke=\"#000000\"/>\n</g>\n<!-- 140596042449080 -->\n<g class=\"node\" id=\"node108\">\n<title>140596042449080</title>\n<polygon fill=\"none\" points=\"154,-1825.5 154,-1861.5 393,-1861.5 393,-1825.5 154,-1825.5\" stroke=\"#000000\"/>\n<text fill=\"#000000\" font-family=\"Times,serif\" font-size=\"14.00\" text-anchor=\"middle\" x=\"273.5\" y=\"-1839.8\">block12_sepconv1: SeparableConv2D</text>\n</g>\n<!-- 140596042861200&#45;&gt;140596042449080 -->\n<g class=\"edge\" id=\"edge117\">\n<title>140596042861200-&gt;140596042449080</title>\n<path d=\"M281.0281,-1898.4551C279.9223,-1890.3828 278.5927,-1880.6764 277.3605,-1871.6817\" fill=\"none\" stroke=\"#000000\"/>\n<polygon fill=\"#000000\" points=\"280.803,-1871.0228 275.9781,-1861.5904 273.8678,-1871.9729 280.803,-1871.0228\" stroke=\"#000000\"/>\n</g>\n<!-- 140596042005248 -->\n<g class=\"node\" id=\"node109\">\n<title>140596042005248</title>\n<polygon fill=\"none\" points=\"130,-1752.5 130,-1788.5 401,-1788.5 401,-1752.5 130,-1752.5\" stroke=\"#000000\"/>\n<text fill=\"#000000\" font-family=\"Times,serif\" font-size=\"14.00\" text-anchor=\"middle\" x=\"265.5\" y=\"-1766.8\">block12_sepconv1_bn: BatchNormalization</text>\n</g>\n<!-- 140596042449080&#45;&gt;140596042005248 -->\n<g class=\"edge\" id=\"edge118\">\n<title>140596042449080-&gt;140596042005248</title>\n<path d=\"M271.5225,-1825.4551C270.6378,-1817.3828 269.5741,-1807.6764 268.5884,-1798.6817\" fill=\"none\" stroke=\"#000000\"/>\n<polygon fill=\"#000000\" points=\"272.0511,-1798.1495 267.4825,-1788.5904 265.0928,-1798.9122 272.0511,-1798.1495\" stroke=\"#000000\"/>\n</g>\n<!-- 140596042132952 -->\n<g class=\"node\" id=\"node110\">\n<title>140596042132952</title>\n<polygon fill=\"none\" points=\"157.5,-1679.5 157.5,-1715.5 373.5,-1715.5 373.5,-1679.5 157.5,-1679.5\" stroke=\"#000000\"/>\n<text fill=\"#000000\" font-family=\"Times,serif\" font-size=\"14.00\" text-anchor=\"middle\" x=\"265.5\" y=\"-1693.8\">block12_sepconv2_act: Activation</text>\n</g>\n<!-- 140596042005248&#45;&gt;140596042132952 -->\n<g class=\"edge\" id=\"edge119\">\n<title>140596042005248-&gt;140596042132952</title>\n<path d=\"M265.5,-1752.4551C265.5,-1744.3828 265.5,-1734.6764 265.5,-1725.6817\" fill=\"none\" stroke=\"#000000\"/>\n<polygon fill=\"#000000\" points=\"269.0001,-1725.5903 265.5,-1715.5904 262.0001,-1725.5904 269.0001,-1725.5903\" stroke=\"#000000\"/>\n</g>\n<!-- 140596042133064 -->\n<g class=\"node\" id=\"node111\">\n<title>140596042133064</title>\n<polygon fill=\"none\" points=\"146,-1606.5 146,-1642.5 385,-1642.5 385,-1606.5 146,-1606.5\" stroke=\"#000000\"/>\n<text fill=\"#000000\" font-family=\"Times,serif\" font-size=\"14.00\" text-anchor=\"middle\" x=\"265.5\" y=\"-1620.8\">block12_sepconv2: SeparableConv2D</text>\n</g>\n<!-- 140596042132952&#45;&gt;140596042133064 -->\n<g class=\"edge\" id=\"edge120\">\n<title>140596042132952-&gt;140596042133064</title>\n<path d=\"M265.5,-1679.4551C265.5,-1671.3828 265.5,-1661.6764 265.5,-1652.6817\" fill=\"none\" stroke=\"#000000\"/>\n<polygon fill=\"#000000\" points=\"269.0001,-1652.5903 265.5,-1642.5904 262.0001,-1652.5904 269.0001,-1652.5903\" stroke=\"#000000\"/>\n</g>\n<!-- 140596042221888 -->\n<g class=\"node\" id=\"node112\">\n<title>140596042221888</title>\n<polygon fill=\"none\" points=\"130,-1533.5 130,-1569.5 401,-1569.5 401,-1533.5 130,-1533.5\" stroke=\"#000000\"/>\n<text fill=\"#000000\" font-family=\"Times,serif\" font-size=\"14.00\" text-anchor=\"middle\" x=\"265.5\" y=\"-1547.8\">block12_sepconv2_bn: BatchNormalization</text>\n</g>\n<!-- 140596042133064&#45;&gt;140596042221888 -->\n<g class=\"edge\" id=\"edge121\">\n<title>140596042133064-&gt;140596042221888</title>\n<path d=\"M265.5,-1606.4551C265.5,-1598.3828 265.5,-1588.6764 265.5,-1579.6817\" fill=\"none\" stroke=\"#000000\"/>\n<polygon fill=\"#000000\" points=\"269.0001,-1579.5903 265.5,-1569.5904 262.0001,-1579.5904 269.0001,-1579.5903\" stroke=\"#000000\"/>\n</g>\n<!-- 140596041820704 -->\n<g class=\"node\" id=\"node113\">\n<title>140596041820704</title>\n<polygon fill=\"none\" points=\"157.5,-1460.5 157.5,-1496.5 373.5,-1496.5 373.5,-1460.5 157.5,-1460.5\" stroke=\"#000000\"/>\n<text fill=\"#000000\" font-family=\"Times,serif\" font-size=\"14.00\" text-anchor=\"middle\" x=\"265.5\" y=\"-1474.8\">block12_sepconv3_act: Activation</text>\n</g>\n<!-- 140596042221888&#45;&gt;140596041820704 -->\n<g class=\"edge\" id=\"edge122\">\n<title>140596042221888-&gt;140596041820704</title>\n<path d=\"M265.5,-1533.4551C265.5,-1525.3828 265.5,-1515.6764 265.5,-1506.6817\" fill=\"none\" stroke=\"#000000\"/>\n<polygon fill=\"#000000\" points=\"269.0001,-1506.5903 265.5,-1496.5904 262.0001,-1506.5904 269.0001,-1506.5903\" stroke=\"#000000\"/>\n</g>\n<!-- 140596041820592 -->\n<g class=\"node\" id=\"node114\">\n<title>140596041820592</title>\n<polygon fill=\"none\" points=\"146,-1387.5 146,-1423.5 385,-1423.5 385,-1387.5 146,-1387.5\" stroke=\"#000000\"/>\n<text fill=\"#000000\" font-family=\"Times,serif\" font-size=\"14.00\" text-anchor=\"middle\" x=\"265.5\" y=\"-1401.8\">block12_sepconv3: SeparableConv2D</text>\n</g>\n<!-- 140596041820704&#45;&gt;140596041820592 -->\n<g class=\"edge\" id=\"edge123\">\n<title>140596041820704-&gt;140596041820592</title>\n<path d=\"M265.5,-1460.4551C265.5,-1452.3828 265.5,-1442.6764 265.5,-1433.6817\" fill=\"none\" stroke=\"#000000\"/>\n<polygon fill=\"#000000\" points=\"269.0001,-1433.5903 265.5,-1423.5904 262.0001,-1433.5904 269.0001,-1433.5903\" stroke=\"#000000\"/>\n</g>\n<!-- 140596041841184 -->\n<g class=\"node\" id=\"node115\">\n<title>140596041841184</title>\n<polygon fill=\"none\" points=\"130,-1314.5 130,-1350.5 401,-1350.5 401,-1314.5 130,-1314.5\" stroke=\"#000000\"/>\n<text fill=\"#000000\" font-family=\"Times,serif\" font-size=\"14.00\" text-anchor=\"middle\" x=\"265.5\" y=\"-1328.8\">block12_sepconv3_bn: BatchNormalization</text>\n</g>\n<!-- 140596041820592&#45;&gt;140596041841184 -->\n<g class=\"edge\" id=\"edge124\">\n<title>140596041820592-&gt;140596041841184</title>\n<path d=\"M265.5,-1387.4551C265.5,-1379.3828 265.5,-1369.6764 265.5,-1360.6817\" fill=\"none\" stroke=\"#000000\"/>\n<polygon fill=\"#000000\" points=\"269.0001,-1360.5903 265.5,-1350.5904 262.0001,-1360.5904 269.0001,-1360.5903\" stroke=\"#000000\"/>\n</g>\n<!-- 140596041841184&#45;&gt;140596041970856 -->\n<g class=\"edge\" id=\"edge125\">\n<title>140596041841184-&gt;140596041970856</title>\n<path d=\"M285.7697,-1314.4551C295.9212,-1305.4177 308.3738,-1294.3319 319.4291,-1284.4899\" fill=\"none\" stroke=\"#000000\"/>\n<polygon fill=\"#000000\" points=\"322.0375,-1286.8539 327.1793,-1277.5904 317.383,-1281.6255 322.0375,-1286.8539\" stroke=\"#000000\"/>\n</g>\n<!-- 140596041633576 -->\n<g class=\"node\" id=\"node117\">\n<title>140596041633576</title>\n<polygon fill=\"none\" points=\"171.5,-1168.5 171.5,-1204.5 387.5,-1204.5 387.5,-1168.5 171.5,-1168.5\" stroke=\"#000000\"/>\n<text fill=\"#000000\" font-family=\"Times,serif\" font-size=\"14.00\" text-anchor=\"middle\" x=\"279.5\" y=\"-1182.8\">block13_sepconv1_act: Activation</text>\n</g>\n<!-- 140596041970856&#45;&gt;140596041633576 -->\n<g class=\"edge\" id=\"edge127\">\n<title>140596041970856-&gt;140596041633576</title>\n<path d=\"M330.691,-1241.4551C322.4361,-1232.5932 312.3465,-1221.7616 303.3136,-1212.0646\" fill=\"none\" stroke=\"#000000\"/>\n<polygon fill=\"#000000\" points=\"305.7284,-1209.522 296.3513,-1204.5904 300.6063,-1214.2932 305.7284,-1209.522\" stroke=\"#000000\"/>\n</g>\n<!-- 140596041985440 -->\n<g class=\"node\" id=\"node123\">\n<title>140596041985440</title>\n<polygon fill=\"none\" points=\"404,-1095.5 404,-1131.5 537,-1131.5 537,-1095.5 404,-1095.5\" stroke=\"#000000\"/>\n<text fill=\"#000000\" font-family=\"Times,serif\" font-size=\"14.00\" text-anchor=\"middle\" x=\"470.5\" y=\"-1109.8\">conv2d_8: Conv2D</text>\n</g>\n<!-- 140596041970856&#45;&gt;140596041985440 -->\n<g class=\"edge\" id=\"edge133\">\n<title>140596041970856-&gt;140596041985440</title>\n<path d=\"M364.2991,-1241.2963C373.8726,-1230.8036 386.0138,-1217.2947 396.5,-1205 415.0103,-1183.2974 435.3408,-1158.0515 450.0004,-1139.5823\" fill=\"none\" stroke=\"#000000\"/>\n<polygon fill=\"#000000\" points=\"452.8482,-1141.6238 456.3099,-1131.6104 447.3594,-1137.2795 452.8482,-1141.6238\" stroke=\"#000000\"/>\n</g>\n<!-- 140596041706856 -->\n<g class=\"node\" id=\"node118\">\n<title>140596041706856</title>\n<polygon fill=\"none\" points=\"126,-1095.5 126,-1131.5 365,-1131.5 365,-1095.5 126,-1095.5\" stroke=\"#000000\"/>\n<text fill=\"#000000\" font-family=\"Times,serif\" font-size=\"14.00\" text-anchor=\"middle\" x=\"245.5\" y=\"-1109.8\">block13_sepconv1: SeparableConv2D</text>\n</g>\n<!-- 140596041633576&#45;&gt;140596041706856 -->\n<g class=\"edge\" id=\"edge128\">\n<title>140596041633576-&gt;140596041706856</title>\n<path d=\"M271.0955,-1168.4551C267.2132,-1160.1196 262.5194,-1150.0416 258.217,-1140.8042\" fill=\"none\" stroke=\"#000000\"/>\n<polygon fill=\"#000000\" points=\"261.3205,-1139.1776 253.9256,-1131.5904 254.975,-1142.1331 261.3205,-1139.1776\" stroke=\"#000000\"/>\n</g>\n<!-- 140596041724592 -->\n<g class=\"node\" id=\"node119\">\n<title>140596041724592</title>\n<polygon fill=\"none\" points=\"68,-1022.5 68,-1058.5 339,-1058.5 339,-1022.5 68,-1022.5\" stroke=\"#000000\"/>\n<text fill=\"#000000\" font-family=\"Times,serif\" font-size=\"14.00\" text-anchor=\"middle\" x=\"203.5\" y=\"-1036.8\">block13_sepconv1_bn: BatchNormalization</text>\n</g>\n<!-- 140596041706856&#45;&gt;140596041724592 -->\n<g class=\"edge\" id=\"edge129\">\n<title>140596041706856-&gt;140596041724592</title>\n<path d=\"M235.118,-1095.4551C230.2718,-1087.0319 224.4018,-1076.8292 219.0416,-1067.5128\" fill=\"none\" stroke=\"#000000\"/>\n<polygon fill=\"#000000\" points=\"221.9289,-1065.5127 213.9082,-1058.5904 215.8614,-1069.0036 221.9289,-1065.5127\" stroke=\"#000000\"/>\n</g>\n<!-- 140596041399992 -->\n<g class=\"node\" id=\"node120\">\n<title>140596041399992</title>\n<polygon fill=\"none\" points=\"157.5,-949.5 157.5,-985.5 373.5,-985.5 373.5,-949.5 157.5,-949.5\" stroke=\"#000000\"/>\n<text fill=\"#000000\" font-family=\"Times,serif\" font-size=\"14.00\" text-anchor=\"middle\" x=\"265.5\" y=\"-963.8\">block13_sepconv2_act: Activation</text>\n</g>\n<!-- 140596041724592&#45;&gt;140596041399992 -->\n<g class=\"edge\" id=\"edge130\">\n<title>140596041724592-&gt;140596041399992</title>\n<path d=\"M218.8258,-1022.4551C226.2779,-1013.6809 235.3698,-1002.9759 243.5427,-993.353\" fill=\"none\" stroke=\"#000000\"/>\n<polygon fill=\"#000000\" points=\"246.3298,-995.4781 250.1356,-985.5904 240.9944,-990.9466 246.3298,-995.4781\" stroke=\"#000000\"/>\n</g>\n<!-- 140596041399936 -->\n<g class=\"node\" id=\"node121\">\n<title>140596041399936</title>\n<polygon fill=\"none\" points=\"177,-876.5 177,-912.5 416,-912.5 416,-876.5 177,-876.5\" stroke=\"#000000\"/>\n<text fill=\"#000000\" font-family=\"Times,serif\" font-size=\"14.00\" text-anchor=\"middle\" x=\"296.5\" y=\"-890.8\">block13_sepconv2: SeparableConv2D</text>\n</g>\n<!-- 140596041399992&#45;&gt;140596041399936 -->\n<g class=\"edge\" id=\"edge131\">\n<title>140596041399992-&gt;140596041399936</title>\n<path d=\"M273.1629,-949.4551C276.7026,-941.1196 280.9823,-931.0416 284.9051,-921.8042\" fill=\"none\" stroke=\"#000000\"/>\n<polygon fill=\"#000000\" points=\"288.1306,-923.1629 288.8178,-912.5904 281.6874,-920.4267 288.1306,-923.1629\" stroke=\"#000000\"/>\n</g>\n<!-- 140596041416776 -->\n<g class=\"node\" id=\"node122\">\n<title>140596041416776</title>\n<polygon fill=\"none\" points=\"177,-803.5 177,-839.5 448,-839.5 448,-803.5 177,-803.5\" stroke=\"#000000\"/>\n<text fill=\"#000000\" font-family=\"Times,serif\" font-size=\"14.00\" text-anchor=\"middle\" x=\"312.5\" y=\"-817.8\">block13_sepconv2_bn: BatchNormalization</text>\n</g>\n<!-- 140596041399936&#45;&gt;140596041416776 -->\n<g class=\"edge\" id=\"edge132\">\n<title>140596041399936-&gt;140596041416776</title>\n<path d=\"M300.4551,-876.4551C302.2435,-868.2951 304.398,-858.4652 306.3874,-849.3887\" fill=\"none\" stroke=\"#000000\"/>\n<polygon fill=\"#000000\" points=\"309.8128,-850.1079 308.535,-839.5904 302.9751,-848.6091 309.8128,-850.1079\" stroke=\"#000000\"/>\n</g>\n<!-- 140596041059856 -->\n<g class=\"node\" id=\"node124\">\n<title>140596041059856</title>\n<polygon fill=\"none\" points=\"243,-730.5 243,-766.5 438,-766.5 438,-730.5 243,-730.5\" stroke=\"#000000\"/>\n<text fill=\"#000000\" font-family=\"Times,serif\" font-size=\"14.00\" text-anchor=\"middle\" x=\"340.5\" y=\"-744.8\">block13_pool: MaxPooling2D</text>\n</g>\n<!-- 140596041416776&#45;&gt;140596041059856 -->\n<g class=\"edge\" id=\"edge134\">\n<title>140596041416776-&gt;140596041059856</title>\n<path d=\"M319.4214,-803.4551C322.5849,-795.2074 326.4027,-785.2536 329.9152,-776.0962\" fill=\"none\" stroke=\"#000000\"/>\n<polygon fill=\"#000000\" points=\"333.2478,-777.1806 333.5612,-766.5904 326.7121,-774.6737 333.2478,-777.1806\" stroke=\"#000000\"/>\n</g>\n<!-- 140596041605304 -->\n<g class=\"node\" id=\"node125\">\n<title>140596041605304</title>\n<polygon fill=\"none\" points=\"357,-1022.5 357,-1058.5 628,-1058.5 628,-1022.5 357,-1022.5\" stroke=\"#000000\"/>\n<text fill=\"#000000\" font-family=\"Times,serif\" font-size=\"14.00\" text-anchor=\"middle\" x=\"492.5\" y=\"-1036.8\">batch_normalization_8: BatchNormalization</text>\n</g>\n<!-- 140596041985440&#45;&gt;140596041605304 -->\n<g class=\"edge\" id=\"edge135\">\n<title>140596041985440-&gt;140596041605304</title>\n<path d=\"M475.9382,-1095.4551C478.3974,-1087.2951 481.3598,-1077.4652 484.0952,-1068.3887\" fill=\"none\" stroke=\"#000000\"/>\n<polygon fill=\"#000000\" points=\"487.5137,-1069.175 487.0481,-1058.5904 480.8114,-1067.1551 487.5137,-1069.175\" stroke=\"#000000\"/>\n</g>\n<!-- 140596041085560 -->\n<g class=\"node\" id=\"node126\">\n<title>140596041085560</title>\n<polygon fill=\"none\" points=\"356.5,-657.5 356.5,-693.5 448.5,-693.5 448.5,-657.5 356.5,-657.5\" stroke=\"#000000\"/>\n<text fill=\"#000000\" font-family=\"Times,serif\" font-size=\"14.00\" text-anchor=\"middle\" x=\"402.5\" y=\"-671.8\">add_24: Add</text>\n</g>\n<!-- 140596041059856&#45;&gt;140596041085560 -->\n<g class=\"edge\" id=\"edge136\">\n<title>140596041059856-&gt;140596041085560</title>\n<path d=\"M355.8258,-730.4551C363.2779,-721.6809 372.3698,-710.9759 380.5427,-701.353\" fill=\"none\" stroke=\"#000000\"/>\n<polygon fill=\"#000000\" points=\"383.3298,-703.4781 387.1356,-693.5904 377.9944,-698.9466 383.3298,-703.4781\" stroke=\"#000000\"/>\n</g>\n<!-- 140596041605304&#45;&gt;140596041085560 -->\n<g class=\"edge\" id=\"edge137\">\n<title>140596041605304-&gt;140596041085560</title>\n<path d=\"M490.8424,-1022.0798C488.4991,-994.4066 484.5,-940.4473 484.5,-894.5 484.5,-894.5 484.5,-894.5 484.5,-821.5 484.5,-774.6666 452.0278,-728.9601 427.952,-701.5084\" fill=\"none\" stroke=\"#000000\"/>\n<polygon fill=\"#000000\" points=\"430.407,-699.0047 421.1071,-693.9291 425.2119,-703.6964 430.407,-699.0047\" stroke=\"#000000\"/>\n</g>\n<!-- 140596041087632 -->\n<g class=\"node\" id=\"node127\">\n<title>140596041087632</title>\n<polygon fill=\"none\" points=\"283,-584.5 283,-620.5 522,-620.5 522,-584.5 283,-584.5\" stroke=\"#000000\"/>\n<text fill=\"#000000\" font-family=\"Times,serif\" font-size=\"14.00\" text-anchor=\"middle\" x=\"402.5\" y=\"-598.8\">block14_sepconv1: SeparableConv2D</text>\n</g>\n<!-- 140596041085560&#45;&gt;140596041087632 -->\n<g class=\"edge\" id=\"edge138\">\n<title>140596041085560-&gt;140596041087632</title>\n<path d=\"M402.5,-657.4551C402.5,-649.3828 402.5,-639.6764 402.5,-630.6817\" fill=\"none\" stroke=\"#000000\"/>\n<polygon fill=\"#000000\" points=\"406.0001,-630.5903 402.5,-620.5904 399.0001,-630.5904 406.0001,-630.5903\" stroke=\"#000000\"/>\n</g>\n<!-- 140596041152216 -->\n<g class=\"node\" id=\"node128\">\n<title>140596041152216</title>\n<polygon fill=\"none\" points=\"267,-511.5 267,-547.5 538,-547.5 538,-511.5 267,-511.5\" stroke=\"#000000\"/>\n<text fill=\"#000000\" font-family=\"Times,serif\" font-size=\"14.00\" text-anchor=\"middle\" x=\"402.5\" y=\"-525.8\">block14_sepconv1_bn: BatchNormalization</text>\n</g>\n<!-- 140596041087632&#45;&gt;140596041152216 -->\n<g class=\"edge\" id=\"edge139\">\n<title>140596041087632-&gt;140596041152216</title>\n<path d=\"M402.5,-584.4551C402.5,-576.3828 402.5,-566.6764 402.5,-557.6817\" fill=\"none\" stroke=\"#000000\"/>\n<polygon fill=\"#000000\" points=\"406.0001,-557.5903 402.5,-547.5904 399.0001,-557.5904 406.0001,-557.5903\" stroke=\"#000000\"/>\n</g>\n<!-- 140596040752880 -->\n<g class=\"node\" id=\"node129\">\n<title>140596040752880</title>\n<polygon fill=\"none\" points=\"294.5,-438.5 294.5,-474.5 510.5,-474.5 510.5,-438.5 294.5,-438.5\" stroke=\"#000000\"/>\n<text fill=\"#000000\" font-family=\"Times,serif\" font-size=\"14.00\" text-anchor=\"middle\" x=\"402.5\" y=\"-452.8\">block14_sepconv1_act: Activation</text>\n</g>\n<!-- 140596041152216&#45;&gt;140596040752880 -->\n<g class=\"edge\" id=\"edge140\">\n<title>140596041152216-&gt;140596040752880</title>\n<path d=\"M402.5,-511.4551C402.5,-503.3828 402.5,-493.6764 402.5,-484.6817\" fill=\"none\" stroke=\"#000000\"/>\n<polygon fill=\"#000000\" points=\"406.0001,-484.5903 402.5,-474.5904 399.0001,-484.5904 406.0001,-484.5903\" stroke=\"#000000\"/>\n</g>\n<!-- 140596041087576 -->\n<g class=\"node\" id=\"node130\">\n<title>140596041087576</title>\n<polygon fill=\"none\" points=\"283,-365.5 283,-401.5 522,-401.5 522,-365.5 283,-365.5\" stroke=\"#000000\"/>\n<text fill=\"#000000\" font-family=\"Times,serif\" font-size=\"14.00\" text-anchor=\"middle\" x=\"402.5\" y=\"-379.8\">block14_sepconv2: SeparableConv2D</text>\n</g>\n<!-- 140596040752880&#45;&gt;140596041087576 -->\n<g class=\"edge\" id=\"edge141\">\n<title>140596040752880-&gt;140596041087576</title>\n<path d=\"M402.5,-438.4551C402.5,-430.3828 402.5,-420.6764 402.5,-411.6817\" fill=\"none\" stroke=\"#000000\"/>\n<polygon fill=\"#000000\" points=\"406.0001,-411.5903 402.5,-401.5904 399.0001,-411.5904 406.0001,-411.5903\" stroke=\"#000000\"/>\n</g>\n<!-- 140596040850288 -->\n<g class=\"node\" id=\"node131\">\n<title>140596040850288</title>\n<polygon fill=\"none\" points=\"267,-292.5 267,-328.5 538,-328.5 538,-292.5 267,-292.5\" stroke=\"#000000\"/>\n<text fill=\"#000000\" font-family=\"Times,serif\" font-size=\"14.00\" text-anchor=\"middle\" x=\"402.5\" y=\"-306.8\">block14_sepconv2_bn: BatchNormalization</text>\n</g>\n<!-- 140596041087576&#45;&gt;140596040850288 -->\n<g class=\"edge\" id=\"edge142\">\n<title>140596041087576-&gt;140596040850288</title>\n<path d=\"M402.5,-365.4551C402.5,-357.3828 402.5,-347.6764 402.5,-338.6817\" fill=\"none\" stroke=\"#000000\"/>\n<polygon fill=\"#000000\" points=\"406.0001,-338.5903 402.5,-328.5904 399.0001,-338.5904 406.0001,-338.5903\" stroke=\"#000000\"/>\n</g>\n<!-- 140596040449104 -->\n<g class=\"node\" id=\"node132\">\n<title>140596040449104</title>\n<polygon fill=\"none\" points=\"294.5,-219.5 294.5,-255.5 510.5,-255.5 510.5,-219.5 294.5,-219.5\" stroke=\"#000000\"/>\n<text fill=\"#000000\" font-family=\"Times,serif\" font-size=\"14.00\" text-anchor=\"middle\" x=\"402.5\" y=\"-233.8\">block14_sepconv2_act: Activation</text>\n</g>\n<!-- 140596040850288&#45;&gt;140596040449104 -->\n<g class=\"edge\" id=\"edge143\">\n<title>140596040850288-&gt;140596040449104</title>\n<path d=\"M402.5,-292.4551C402.5,-284.3828 402.5,-274.6764 402.5,-265.6817\" fill=\"none\" stroke=\"#000000\"/>\n<polygon fill=\"#000000\" points=\"406.0001,-265.5903 402.5,-255.5904 399.0001,-265.5904 406.0001,-265.5903\" stroke=\"#000000\"/>\n</g>\n<!-- 140596040305016 -->\n<g class=\"node\" id=\"node133\">\n<title>140596040305016</title>\n<polygon fill=\"none\" points=\"230.5,-146.5 230.5,-182.5 574.5,-182.5 574.5,-146.5 230.5,-146.5\" stroke=\"#000000\"/>\n<text fill=\"#000000\" font-family=\"Times,serif\" font-size=\"14.00\" text-anchor=\"middle\" x=\"402.5\" y=\"-160.8\">global_average_pooling2d_1: GlobalAveragePooling2D</text>\n</g>\n<!-- 140596040449104&#45;&gt;140596040305016 -->\n<g class=\"edge\" id=\"edge144\">\n<title>140596040449104-&gt;140596040305016</title>\n<path d=\"M402.5,-219.4551C402.5,-211.3828 402.5,-201.6764 402.5,-192.6817\" fill=\"none\" stroke=\"#000000\"/>\n<polygon fill=\"#000000\" points=\"406.0001,-192.5903 402.5,-182.5904 399.0001,-192.5904 406.0001,-192.5903\" stroke=\"#000000\"/>\n</g>\n<!-- 140596040305240 -->\n<g class=\"node\" id=\"node134\">\n<title>140596040305240</title>\n<polygon fill=\"none\" points=\"349,-73.5 349,-109.5 456,-109.5 456,-73.5 349,-73.5\" stroke=\"#000000\"/>\n<text fill=\"#000000\" font-family=\"Times,serif\" font-size=\"14.00\" text-anchor=\"middle\" x=\"402.5\" y=\"-87.8\">dense_1: Dense</text>\n</g>\n<!-- 140596040305016&#45;&gt;140596040305240 -->\n<g class=\"edge\" id=\"edge145\">\n<title>140596040305016-&gt;140596040305240</title>\n<path d=\"M402.5,-146.4551C402.5,-138.3828 402.5,-128.6764 402.5,-119.6817\" fill=\"none\" stroke=\"#000000\"/>\n<polygon fill=\"#000000\" points=\"406.0001,-119.5903 402.5,-109.5904 399.0001,-119.5904 406.0001,-119.5903\" stroke=\"#000000\"/>\n</g>\n<!-- 140596040305632 -->\n<g class=\"node\" id=\"node135\">\n<title>140596040305632</title>\n<polygon fill=\"none\" points=\"349,-.5 349,-36.5 456,-36.5 456,-.5 349,-.5\" stroke=\"#000000\"/>\n<text fill=\"#000000\" font-family=\"Times,serif\" font-size=\"14.00\" text-anchor=\"middle\" x=\"402.5\" y=\"-14.8\">dense_2: Dense</text>\n</g>\n<!-- 140596040305240&#45;&gt;140596040305632 -->\n<g class=\"edge\" id=\"edge146\">\n<title>140596040305240-&gt;140596040305632</title>\n<path d=\"M402.5,-73.4551C402.5,-65.3828 402.5,-55.6764 402.5,-46.6817\" fill=\"none\" stroke=\"#000000\"/>\n<polygon fill=\"#000000\" points=\"406.0001,-46.5903 402.5,-36.5904 399.0001,-46.5904 406.0001,-46.5903\" stroke=\"#000000\"/>\n</g>\n</g>\n</svg>"
>>>>>>> ce4d0f0115cf14962eeef68ac97f64f034339110
          },
          "metadata": {
            "tags": []
          },
<<<<<<< HEAD
          "execution_count": 98
=======
          "execution_count": 24
>>>>>>> ce4d0f0115cf14962eeef68ac97f64f034339110
        }
      ]
    },
    {
      "cell_type": "code",
      "metadata": {
        "id": "VArviALej6EX",
        "colab_type": "code",
        "colab": {
          "base_uri": "https://localhost:8080/",
          "height": 1000
        },
<<<<<<< HEAD
        "outputId": "26667ca8-b86c-4f5c-bc84-ccceae98780d"
=======
        "outputId": "18ea147b-3504-4a1c-b731-b856291c6b54"
>>>>>>> ce4d0f0115cf14962eeef68ac97f64f034339110
      },
      "source": [
        "model.summary()"
      ],
<<<<<<< HEAD
      "execution_count": 99,
=======
      "execution_count": 25,
>>>>>>> ce4d0f0115cf14962eeef68ac97f64f034339110
      "outputs": [
        {
          "output_type": "stream",
          "text": [
<<<<<<< HEAD
            "Model: \"model_12\"\n",
            "__________________________________________________________________________________________________\n",
            "Layer (type)                    Output Shape         Param #     Connected to                     \n",
            "==================================================================================================\n",
            "input_3 (InputLayer)            (None, 197, 197, 3)  0                                            \n",
            "__________________________________________________________________________________________________\n",
            "block1_conv1 (Conv2D)           (None, 98, 98, 32)   864         input_3[0][0]                    \n",
=======
            "Model: \"model_1\"\n",
            "__________________________________________________________________________________________________\n",
            "Layer (type)                    Output Shape         Param #     Connected to                     \n",
            "==================================================================================================\n",
            "input_2 (InputLayer)            (None, 197, 197, 3)  0                                            \n",
            "__________________________________________________________________________________________________\n",
            "block1_conv1 (Conv2D)           (None, 98, 98, 32)   864         input_2[0][0]                    \n",
>>>>>>> ce4d0f0115cf14962eeef68ac97f64f034339110
            "__________________________________________________________________________________________________\n",
            "block1_conv1_bn (BatchNormaliza (None, 98, 98, 32)   128         block1_conv1[0][0]               \n",
            "__________________________________________________________________________________________________\n",
            "block1_conv1_act (Activation)   (None, 98, 98, 32)   0           block1_conv1_bn[0][0]            \n",
            "__________________________________________________________________________________________________\n",
            "block1_conv2 (Conv2D)           (None, 96, 96, 64)   18432       block1_conv1_act[0][0]           \n",
            "__________________________________________________________________________________________________\n",
            "block1_conv2_bn (BatchNormaliza (None, 96, 96, 64)   256         block1_conv2[0][0]               \n",
            "__________________________________________________________________________________________________\n",
            "block1_conv2_act (Activation)   (None, 96, 96, 64)   0           block1_conv2_bn[0][0]            \n",
            "__________________________________________________________________________________________________\n",
            "block2_sepconv1 (SeparableConv2 (None, 96, 96, 128)  8768        block1_conv2_act[0][0]           \n",
            "__________________________________________________________________________________________________\n",
            "block2_sepconv1_bn (BatchNormal (None, 96, 96, 128)  512         block2_sepconv1[0][0]            \n",
            "__________________________________________________________________________________________________\n",
            "block2_sepconv2_act (Activation (None, 96, 96, 128)  0           block2_sepconv1_bn[0][0]         \n",
            "__________________________________________________________________________________________________\n",
            "block2_sepconv2 (SeparableConv2 (None, 96, 96, 128)  17536       block2_sepconv2_act[0][0]        \n",
            "__________________________________________________________________________________________________\n",
            "block2_sepconv2_bn (BatchNormal (None, 96, 96, 128)  512         block2_sepconv2[0][0]            \n",
            "__________________________________________________________________________________________________\n",
<<<<<<< HEAD
            "conv2d_9 (Conv2D)               (None, 48, 48, 128)  8192        block1_conv2_act[0][0]           \n",
            "__________________________________________________________________________________________________\n",
            "block2_pool (MaxPooling2D)      (None, 48, 48, 128)  0           block2_sepconv2_bn[0][0]         \n",
            "__________________________________________________________________________________________________\n",
            "batch_normalization_9 (BatchNor (None, 48, 48, 128)  512         conv2d_9[0][0]                   \n",
            "__________________________________________________________________________________________________\n",
            "add_25 (Add)                    (None, 48, 48, 128)  0           block2_pool[0][0]                \n",
            "                                                                 batch_normalization_9[0][0]      \n",
            "__________________________________________________________________________________________________\n",
            "block3_sepconv1_act (Activation (None, 48, 48, 128)  0           add_25[0][0]                     \n",
=======
            "conv2d_5 (Conv2D)               (None, 48, 48, 128)  8192        block1_conv2_act[0][0]           \n",
            "__________________________________________________________________________________________________\n",
            "block2_pool (MaxPooling2D)      (None, 48, 48, 128)  0           block2_sepconv2_bn[0][0]         \n",
            "__________________________________________________________________________________________________\n",
            "batch_normalization_5 (BatchNor (None, 48, 48, 128)  512         conv2d_5[0][0]                   \n",
            "__________________________________________________________________________________________________\n",
            "add_13 (Add)                    (None, 48, 48, 128)  0           block2_pool[0][0]                \n",
            "                                                                 batch_normalization_5[0][0]      \n",
            "__________________________________________________________________________________________________\n",
            "block3_sepconv1_act (Activation (None, 48, 48, 128)  0           add_13[0][0]                     \n",
>>>>>>> ce4d0f0115cf14962eeef68ac97f64f034339110
            "__________________________________________________________________________________________________\n",
            "block3_sepconv1 (SeparableConv2 (None, 48, 48, 256)  33920       block3_sepconv1_act[0][0]        \n",
            "__________________________________________________________________________________________________\n",
            "block3_sepconv1_bn (BatchNormal (None, 48, 48, 256)  1024        block3_sepconv1[0][0]            \n",
            "__________________________________________________________________________________________________\n",
            "block3_sepconv2_act (Activation (None, 48, 48, 256)  0           block3_sepconv1_bn[0][0]         \n",
            "__________________________________________________________________________________________________\n",
            "block3_sepconv2 (SeparableConv2 (None, 48, 48, 256)  67840       block3_sepconv2_act[0][0]        \n",
            "__________________________________________________________________________________________________\n",
            "block3_sepconv2_bn (BatchNormal (None, 48, 48, 256)  1024        block3_sepconv2[0][0]            \n",
            "__________________________________________________________________________________________________\n",
<<<<<<< HEAD
            "conv2d_10 (Conv2D)              (None, 24, 24, 256)  32768       add_25[0][0]                     \n",
            "__________________________________________________________________________________________________\n",
            "block3_pool (MaxPooling2D)      (None, 24, 24, 256)  0           block3_sepconv2_bn[0][0]         \n",
            "__________________________________________________________________________________________________\n",
            "batch_normalization_10 (BatchNo (None, 24, 24, 256)  1024        conv2d_10[0][0]                  \n",
            "__________________________________________________________________________________________________\n",
            "add_26 (Add)                    (None, 24, 24, 256)  0           block3_pool[0][0]                \n",
            "                                                                 batch_normalization_10[0][0]     \n",
            "__________________________________________________________________________________________________\n",
            "block4_sepconv1_act (Activation (None, 24, 24, 256)  0           add_26[0][0]                     \n",
=======
            "conv2d_6 (Conv2D)               (None, 24, 24, 256)  32768       add_13[0][0]                     \n",
            "__________________________________________________________________________________________________\n",
            "block3_pool (MaxPooling2D)      (None, 24, 24, 256)  0           block3_sepconv2_bn[0][0]         \n",
            "__________________________________________________________________________________________________\n",
            "batch_normalization_6 (BatchNor (None, 24, 24, 256)  1024        conv2d_6[0][0]                   \n",
            "__________________________________________________________________________________________________\n",
            "add_14 (Add)                    (None, 24, 24, 256)  0           block3_pool[0][0]                \n",
            "                                                                 batch_normalization_6[0][0]      \n",
            "__________________________________________________________________________________________________\n",
            "block4_sepconv1_act (Activation (None, 24, 24, 256)  0           add_14[0][0]                     \n",
>>>>>>> ce4d0f0115cf14962eeef68ac97f64f034339110
            "__________________________________________________________________________________________________\n",
            "block4_sepconv1 (SeparableConv2 (None, 24, 24, 728)  188672      block4_sepconv1_act[0][0]        \n",
            "__________________________________________________________________________________________________\n",
            "block4_sepconv1_bn (BatchNormal (None, 24, 24, 728)  2912        block4_sepconv1[0][0]            \n",
            "__________________________________________________________________________________________________\n",
            "block4_sepconv2_act (Activation (None, 24, 24, 728)  0           block4_sepconv1_bn[0][0]         \n",
            "__________________________________________________________________________________________________\n",
            "block4_sepconv2 (SeparableConv2 (None, 24, 24, 728)  536536      block4_sepconv2_act[0][0]        \n",
            "__________________________________________________________________________________________________\n",
            "block4_sepconv2_bn (BatchNormal (None, 24, 24, 728)  2912        block4_sepconv2[0][0]            \n",
            "__________________________________________________________________________________________________\n",
<<<<<<< HEAD
            "conv2d_11 (Conv2D)              (None, 12, 12, 728)  186368      add_26[0][0]                     \n",
            "__________________________________________________________________________________________________\n",
            "block4_pool (MaxPooling2D)      (None, 12, 12, 728)  0           block4_sepconv2_bn[0][0]         \n",
            "__________________________________________________________________________________________________\n",
            "batch_normalization_11 (BatchNo (None, 12, 12, 728)  2912        conv2d_11[0][0]                  \n",
            "__________________________________________________________________________________________________\n",
            "add_27 (Add)                    (None, 12, 12, 728)  0           block4_pool[0][0]                \n",
            "                                                                 batch_normalization_11[0][0]     \n",
            "__________________________________________________________________________________________________\n",
            "block5_sepconv1_act (Activation (None, 12, 12, 728)  0           add_27[0][0]                     \n",
=======
            "conv2d_7 (Conv2D)               (None, 12, 12, 728)  186368      add_14[0][0]                     \n",
            "__________________________________________________________________________________________________\n",
            "block4_pool (MaxPooling2D)      (None, 12, 12, 728)  0           block4_sepconv2_bn[0][0]         \n",
            "__________________________________________________________________________________________________\n",
            "batch_normalization_7 (BatchNor (None, 12, 12, 728)  2912        conv2d_7[0][0]                   \n",
            "__________________________________________________________________________________________________\n",
            "add_15 (Add)                    (None, 12, 12, 728)  0           block4_pool[0][0]                \n",
            "                                                                 batch_normalization_7[0][0]      \n",
            "__________________________________________________________________________________________________\n",
            "block5_sepconv1_act (Activation (None, 12, 12, 728)  0           add_15[0][0]                     \n",
>>>>>>> ce4d0f0115cf14962eeef68ac97f64f034339110
            "__________________________________________________________________________________________________\n",
            "block5_sepconv1 (SeparableConv2 (None, 12, 12, 728)  536536      block5_sepconv1_act[0][0]        \n",
            "__________________________________________________________________________________________________\n",
            "block5_sepconv1_bn (BatchNormal (None, 12, 12, 728)  2912        block5_sepconv1[0][0]            \n",
            "__________________________________________________________________________________________________\n",
            "block5_sepconv2_act (Activation (None, 12, 12, 728)  0           block5_sepconv1_bn[0][0]         \n",
            "__________________________________________________________________________________________________\n",
            "block5_sepconv2 (SeparableConv2 (None, 12, 12, 728)  536536      block5_sepconv2_act[0][0]        \n",
            "__________________________________________________________________________________________________\n",
            "block5_sepconv2_bn (BatchNormal (None, 12, 12, 728)  2912        block5_sepconv2[0][0]            \n",
            "__________________________________________________________________________________________________\n",
            "block5_sepconv3_act (Activation (None, 12, 12, 728)  0           block5_sepconv2_bn[0][0]         \n",
            "__________________________________________________________________________________________________\n",
            "block5_sepconv3 (SeparableConv2 (None, 12, 12, 728)  536536      block5_sepconv3_act[0][0]        \n",
            "__________________________________________________________________________________________________\n",
            "block5_sepconv3_bn (BatchNormal (None, 12, 12, 728)  2912        block5_sepconv3[0][0]            \n",
            "__________________________________________________________________________________________________\n",
<<<<<<< HEAD
            "add_28 (Add)                    (None, 12, 12, 728)  0           block5_sepconv3_bn[0][0]         \n",
            "                                                                 add_27[0][0]                     \n",
            "__________________________________________________________________________________________________\n",
            "block6_sepconv1_act (Activation (None, 12, 12, 728)  0           add_28[0][0]                     \n",
=======
            "add_16 (Add)                    (None, 12, 12, 728)  0           block5_sepconv3_bn[0][0]         \n",
            "                                                                 add_15[0][0]                     \n",
            "__________________________________________________________________________________________________\n",
            "block6_sepconv1_act (Activation (None, 12, 12, 728)  0           add_16[0][0]                     \n",
>>>>>>> ce4d0f0115cf14962eeef68ac97f64f034339110
            "__________________________________________________________________________________________________\n",
            "block6_sepconv1 (SeparableConv2 (None, 12, 12, 728)  536536      block6_sepconv1_act[0][0]        \n",
            "__________________________________________________________________________________________________\n",
            "block6_sepconv1_bn (BatchNormal (None, 12, 12, 728)  2912        block6_sepconv1[0][0]            \n",
            "__________________________________________________________________________________________________\n",
            "block6_sepconv2_act (Activation (None, 12, 12, 728)  0           block6_sepconv1_bn[0][0]         \n",
            "__________________________________________________________________________________________________\n",
            "block6_sepconv2 (SeparableConv2 (None, 12, 12, 728)  536536      block6_sepconv2_act[0][0]        \n",
            "__________________________________________________________________________________________________\n",
            "block6_sepconv2_bn (BatchNormal (None, 12, 12, 728)  2912        block6_sepconv2[0][0]            \n",
            "__________________________________________________________________________________________________\n",
            "block6_sepconv3_act (Activation (None, 12, 12, 728)  0           block6_sepconv2_bn[0][0]         \n",
            "__________________________________________________________________________________________________\n",
            "block6_sepconv3 (SeparableConv2 (None, 12, 12, 728)  536536      block6_sepconv3_act[0][0]        \n",
            "__________________________________________________________________________________________________\n",
            "block6_sepconv3_bn (BatchNormal (None, 12, 12, 728)  2912        block6_sepconv3[0][0]            \n",
            "__________________________________________________________________________________________________\n",
<<<<<<< HEAD
            "add_29 (Add)                    (None, 12, 12, 728)  0           block6_sepconv3_bn[0][0]         \n",
            "                                                                 add_28[0][0]                     \n",
            "__________________________________________________________________________________________________\n",
            "block7_sepconv1_act (Activation (None, 12, 12, 728)  0           add_29[0][0]                     \n",
=======
            "add_17 (Add)                    (None, 12, 12, 728)  0           block6_sepconv3_bn[0][0]         \n",
            "                                                                 add_16[0][0]                     \n",
            "__________________________________________________________________________________________________\n",
            "block7_sepconv1_act (Activation (None, 12, 12, 728)  0           add_17[0][0]                     \n",
>>>>>>> ce4d0f0115cf14962eeef68ac97f64f034339110
            "__________________________________________________________________________________________________\n",
            "block7_sepconv1 (SeparableConv2 (None, 12, 12, 728)  536536      block7_sepconv1_act[0][0]        \n",
            "__________________________________________________________________________________________________\n",
            "block7_sepconv1_bn (BatchNormal (None, 12, 12, 728)  2912        block7_sepconv1[0][0]            \n",
            "__________________________________________________________________________________________________\n",
            "block7_sepconv2_act (Activation (None, 12, 12, 728)  0           block7_sepconv1_bn[0][0]         \n",
            "__________________________________________________________________________________________________\n",
            "block7_sepconv2 (SeparableConv2 (None, 12, 12, 728)  536536      block7_sepconv2_act[0][0]        \n",
            "__________________________________________________________________________________________________\n",
            "block7_sepconv2_bn (BatchNormal (None, 12, 12, 728)  2912        block7_sepconv2[0][0]            \n",
            "__________________________________________________________________________________________________\n",
            "block7_sepconv3_act (Activation (None, 12, 12, 728)  0           block7_sepconv2_bn[0][0]         \n",
            "__________________________________________________________________________________________________\n",
            "block7_sepconv3 (SeparableConv2 (None, 12, 12, 728)  536536      block7_sepconv3_act[0][0]        \n",
            "__________________________________________________________________________________________________\n",
            "block7_sepconv3_bn (BatchNormal (None, 12, 12, 728)  2912        block7_sepconv3[0][0]            \n",
            "__________________________________________________________________________________________________\n",
<<<<<<< HEAD
            "add_30 (Add)                    (None, 12, 12, 728)  0           block7_sepconv3_bn[0][0]         \n",
            "                                                                 add_29[0][0]                     \n",
            "__________________________________________________________________________________________________\n",
            "block8_sepconv1_act (Activation (None, 12, 12, 728)  0           add_30[0][0]                     \n",
=======
            "add_18 (Add)                    (None, 12, 12, 728)  0           block7_sepconv3_bn[0][0]         \n",
            "                                                                 add_17[0][0]                     \n",
            "__________________________________________________________________________________________________\n",
            "block8_sepconv1_act (Activation (None, 12, 12, 728)  0           add_18[0][0]                     \n",
>>>>>>> ce4d0f0115cf14962eeef68ac97f64f034339110
            "__________________________________________________________________________________________________\n",
            "block8_sepconv1 (SeparableConv2 (None, 12, 12, 728)  536536      block8_sepconv1_act[0][0]        \n",
            "__________________________________________________________________________________________________\n",
            "block8_sepconv1_bn (BatchNormal (None, 12, 12, 728)  2912        block8_sepconv1[0][0]            \n",
            "__________________________________________________________________________________________________\n",
            "block8_sepconv2_act (Activation (None, 12, 12, 728)  0           block8_sepconv1_bn[0][0]         \n",
            "__________________________________________________________________________________________________\n",
            "block8_sepconv2 (SeparableConv2 (None, 12, 12, 728)  536536      block8_sepconv2_act[0][0]        \n",
            "__________________________________________________________________________________________________\n",
            "block8_sepconv2_bn (BatchNormal (None, 12, 12, 728)  2912        block8_sepconv2[0][0]            \n",
            "__________________________________________________________________________________________________\n",
            "block8_sepconv3_act (Activation (None, 12, 12, 728)  0           block8_sepconv2_bn[0][0]         \n",
            "__________________________________________________________________________________________________\n",
            "block8_sepconv3 (SeparableConv2 (None, 12, 12, 728)  536536      block8_sepconv3_act[0][0]        \n",
            "__________________________________________________________________________________________________\n",
            "block8_sepconv3_bn (BatchNormal (None, 12, 12, 728)  2912        block8_sepconv3[0][0]            \n",
            "__________________________________________________________________________________________________\n",
<<<<<<< HEAD
            "add_31 (Add)                    (None, 12, 12, 728)  0           block8_sepconv3_bn[0][0]         \n",
            "                                                                 add_30[0][0]                     \n",
            "__________________________________________________________________________________________________\n",
            "block9_sepconv1_act (Activation (None, 12, 12, 728)  0           add_31[0][0]                     \n",
=======
            "add_19 (Add)                    (None, 12, 12, 728)  0           block8_sepconv3_bn[0][0]         \n",
            "                                                                 add_18[0][0]                     \n",
            "__________________________________________________________________________________________________\n",
            "block9_sepconv1_act (Activation (None, 12, 12, 728)  0           add_19[0][0]                     \n",
>>>>>>> ce4d0f0115cf14962eeef68ac97f64f034339110
            "__________________________________________________________________________________________________\n",
            "block9_sepconv1 (SeparableConv2 (None, 12, 12, 728)  536536      block9_sepconv1_act[0][0]        \n",
            "__________________________________________________________________________________________________\n",
            "block9_sepconv1_bn (BatchNormal (None, 12, 12, 728)  2912        block9_sepconv1[0][0]            \n",
            "__________________________________________________________________________________________________\n",
            "block9_sepconv2_act (Activation (None, 12, 12, 728)  0           block9_sepconv1_bn[0][0]         \n",
            "__________________________________________________________________________________________________\n",
            "block9_sepconv2 (SeparableConv2 (None, 12, 12, 728)  536536      block9_sepconv2_act[0][0]        \n",
            "__________________________________________________________________________________________________\n",
            "block9_sepconv2_bn (BatchNormal (None, 12, 12, 728)  2912        block9_sepconv2[0][0]            \n",
            "__________________________________________________________________________________________________\n",
            "block9_sepconv3_act (Activation (None, 12, 12, 728)  0           block9_sepconv2_bn[0][0]         \n",
            "__________________________________________________________________________________________________\n",
            "block9_sepconv3 (SeparableConv2 (None, 12, 12, 728)  536536      block9_sepconv3_act[0][0]        \n",
            "__________________________________________________________________________________________________\n",
            "block9_sepconv3_bn (BatchNormal (None, 12, 12, 728)  2912        block9_sepconv3[0][0]            \n",
            "__________________________________________________________________________________________________\n",
<<<<<<< HEAD
            "add_32 (Add)                    (None, 12, 12, 728)  0           block9_sepconv3_bn[0][0]         \n",
            "                                                                 add_31[0][0]                     \n",
            "__________________________________________________________________________________________________\n",
            "block10_sepconv1_act (Activatio (None, 12, 12, 728)  0           add_32[0][0]                     \n",
=======
            "add_20 (Add)                    (None, 12, 12, 728)  0           block9_sepconv3_bn[0][0]         \n",
            "                                                                 add_19[0][0]                     \n",
            "__________________________________________________________________________________________________\n",
            "block10_sepconv1_act (Activatio (None, 12, 12, 728)  0           add_20[0][0]                     \n",
>>>>>>> ce4d0f0115cf14962eeef68ac97f64f034339110
            "__________________________________________________________________________________________________\n",
            "block10_sepconv1 (SeparableConv (None, 12, 12, 728)  536536      block10_sepconv1_act[0][0]       \n",
            "__________________________________________________________________________________________________\n",
            "block10_sepconv1_bn (BatchNorma (None, 12, 12, 728)  2912        block10_sepconv1[0][0]           \n",
            "__________________________________________________________________________________________________\n",
            "block10_sepconv2_act (Activatio (None, 12, 12, 728)  0           block10_sepconv1_bn[0][0]        \n",
            "__________________________________________________________________________________________________\n",
            "block10_sepconv2 (SeparableConv (None, 12, 12, 728)  536536      block10_sepconv2_act[0][0]       \n",
            "__________________________________________________________________________________________________\n",
            "block10_sepconv2_bn (BatchNorma (None, 12, 12, 728)  2912        block10_sepconv2[0][0]           \n",
            "__________________________________________________________________________________________________\n",
            "block10_sepconv3_act (Activatio (None, 12, 12, 728)  0           block10_sepconv2_bn[0][0]        \n",
            "__________________________________________________________________________________________________\n",
            "block10_sepconv3 (SeparableConv (None, 12, 12, 728)  536536      block10_sepconv3_act[0][0]       \n",
            "__________________________________________________________________________________________________\n",
            "block10_sepconv3_bn (BatchNorma (None, 12, 12, 728)  2912        block10_sepconv3[0][0]           \n",
            "__________________________________________________________________________________________________\n",
<<<<<<< HEAD
            "add_33 (Add)                    (None, 12, 12, 728)  0           block10_sepconv3_bn[0][0]        \n",
            "                                                                 add_32[0][0]                     \n",
            "__________________________________________________________________________________________________\n",
            "block11_sepconv1_act (Activatio (None, 12, 12, 728)  0           add_33[0][0]                     \n",
=======
            "add_21 (Add)                    (None, 12, 12, 728)  0           block10_sepconv3_bn[0][0]        \n",
            "                                                                 add_20[0][0]                     \n",
            "__________________________________________________________________________________________________\n",
            "block11_sepconv1_act (Activatio (None, 12, 12, 728)  0           add_21[0][0]                     \n",
>>>>>>> ce4d0f0115cf14962eeef68ac97f64f034339110
            "__________________________________________________________________________________________________\n",
            "block11_sepconv1 (SeparableConv (None, 12, 12, 728)  536536      block11_sepconv1_act[0][0]       \n",
            "__________________________________________________________________________________________________\n",
            "block11_sepconv1_bn (BatchNorma (None, 12, 12, 728)  2912        block11_sepconv1[0][0]           \n",
            "__________________________________________________________________________________________________\n",
            "block11_sepconv2_act (Activatio (None, 12, 12, 728)  0           block11_sepconv1_bn[0][0]        \n",
            "__________________________________________________________________________________________________\n",
            "block11_sepconv2 (SeparableConv (None, 12, 12, 728)  536536      block11_sepconv2_act[0][0]       \n",
            "__________________________________________________________________________________________________\n",
            "block11_sepconv2_bn (BatchNorma (None, 12, 12, 728)  2912        block11_sepconv2[0][0]           \n",
            "__________________________________________________________________________________________________\n",
            "block11_sepconv3_act (Activatio (None, 12, 12, 728)  0           block11_sepconv2_bn[0][0]        \n",
            "__________________________________________________________________________________________________\n",
            "block11_sepconv3 (SeparableConv (None, 12, 12, 728)  536536      block11_sepconv3_act[0][0]       \n",
            "__________________________________________________________________________________________________\n",
            "block11_sepconv3_bn (BatchNorma (None, 12, 12, 728)  2912        block11_sepconv3[0][0]           \n",
            "__________________________________________________________________________________________________\n",
<<<<<<< HEAD
            "add_34 (Add)                    (None, 12, 12, 728)  0           block11_sepconv3_bn[0][0]        \n",
            "                                                                 add_33[0][0]                     \n",
            "__________________________________________________________________________________________________\n",
            "block12_sepconv1_act (Activatio (None, 12, 12, 728)  0           add_34[0][0]                     \n",
=======
            "add_22 (Add)                    (None, 12, 12, 728)  0           block11_sepconv3_bn[0][0]        \n",
            "                                                                 add_21[0][0]                     \n",
            "__________________________________________________________________________________________________\n",
            "block12_sepconv1_act (Activatio (None, 12, 12, 728)  0           add_22[0][0]                     \n",
>>>>>>> ce4d0f0115cf14962eeef68ac97f64f034339110
            "__________________________________________________________________________________________________\n",
            "block12_sepconv1 (SeparableConv (None, 12, 12, 728)  536536      block12_sepconv1_act[0][0]       \n",
            "__________________________________________________________________________________________________\n",
            "block12_sepconv1_bn (BatchNorma (None, 12, 12, 728)  2912        block12_sepconv1[0][0]           \n",
            "__________________________________________________________________________________________________\n",
            "block12_sepconv2_act (Activatio (None, 12, 12, 728)  0           block12_sepconv1_bn[0][0]        \n",
            "__________________________________________________________________________________________________\n",
            "block12_sepconv2 (SeparableConv (None, 12, 12, 728)  536536      block12_sepconv2_act[0][0]       \n",
            "__________________________________________________________________________________________________\n",
            "block12_sepconv2_bn (BatchNorma (None, 12, 12, 728)  2912        block12_sepconv2[0][0]           \n",
            "__________________________________________________________________________________________________\n",
            "block12_sepconv3_act (Activatio (None, 12, 12, 728)  0           block12_sepconv2_bn[0][0]        \n",
            "__________________________________________________________________________________________________\n",
            "block12_sepconv3 (SeparableConv (None, 12, 12, 728)  536536      block12_sepconv3_act[0][0]       \n",
            "__________________________________________________________________________________________________\n",
            "block12_sepconv3_bn (BatchNorma (None, 12, 12, 728)  2912        block12_sepconv3[0][0]           \n",
            "__________________________________________________________________________________________________\n",
<<<<<<< HEAD
            "add_35 (Add)                    (None, 12, 12, 728)  0           block12_sepconv3_bn[0][0]        \n",
            "                                                                 add_34[0][0]                     \n",
            "__________________________________________________________________________________________________\n",
            "block13_sepconv1_act (Activatio (None, 12, 12, 728)  0           add_35[0][0]                     \n",
=======
            "add_23 (Add)                    (None, 12, 12, 728)  0           block12_sepconv3_bn[0][0]        \n",
            "                                                                 add_22[0][0]                     \n",
            "__________________________________________________________________________________________________\n",
            "block13_sepconv1_act (Activatio (None, 12, 12, 728)  0           add_23[0][0]                     \n",
>>>>>>> ce4d0f0115cf14962eeef68ac97f64f034339110
            "__________________________________________________________________________________________________\n",
            "block13_sepconv1 (SeparableConv (None, 12, 12, 728)  536536      block13_sepconv1_act[0][0]       \n",
            "__________________________________________________________________________________________________\n",
            "block13_sepconv1_bn (BatchNorma (None, 12, 12, 728)  2912        block13_sepconv1[0][0]           \n",
            "__________________________________________________________________________________________________\n",
            "block13_sepconv2_act (Activatio (None, 12, 12, 728)  0           block13_sepconv1_bn[0][0]        \n",
            "__________________________________________________________________________________________________\n",
            "block13_sepconv2 (SeparableConv (None, 12, 12, 1024) 752024      block13_sepconv2_act[0][0]       \n",
            "__________________________________________________________________________________________________\n",
            "block13_sepconv2_bn (BatchNorma (None, 12, 12, 1024) 4096        block13_sepconv2[0][0]           \n",
            "__________________________________________________________________________________________________\n",
<<<<<<< HEAD
            "conv2d_12 (Conv2D)              (None, 6, 6, 1024)   745472      add_35[0][0]                     \n",
            "__________________________________________________________________________________________________\n",
            "block13_pool (MaxPooling2D)     (None, 6, 6, 1024)   0           block13_sepconv2_bn[0][0]        \n",
            "__________________________________________________________________________________________________\n",
            "batch_normalization_12 (BatchNo (None, 6, 6, 1024)   4096        conv2d_12[0][0]                  \n",
            "__________________________________________________________________________________________________\n",
            "add_36 (Add)                    (None, 6, 6, 1024)   0           block13_pool[0][0]               \n",
            "                                                                 batch_normalization_12[0][0]     \n",
            "__________________________________________________________________________________________________\n",
            "block14_sepconv1 (SeparableConv (None, 6, 6, 1536)   1582080     add_36[0][0]                     \n",
=======
            "conv2d_8 (Conv2D)               (None, 6, 6, 1024)   745472      add_23[0][0]                     \n",
            "__________________________________________________________________________________________________\n",
            "block13_pool (MaxPooling2D)     (None, 6, 6, 1024)   0           block13_sepconv2_bn[0][0]        \n",
            "__________________________________________________________________________________________________\n",
            "batch_normalization_8 (BatchNor (None, 6, 6, 1024)   4096        conv2d_8[0][0]                   \n",
            "__________________________________________________________________________________________________\n",
            "add_24 (Add)                    (None, 6, 6, 1024)   0           block13_pool[0][0]               \n",
            "                                                                 batch_normalization_8[0][0]      \n",
            "__________________________________________________________________________________________________\n",
            "block14_sepconv1 (SeparableConv (None, 6, 6, 1536)   1582080     add_24[0][0]                     \n",
>>>>>>> ce4d0f0115cf14962eeef68ac97f64f034339110
            "__________________________________________________________________________________________________\n",
            "block14_sepconv1_bn (BatchNorma (None, 6, 6, 1536)   6144        block14_sepconv1[0][0]           \n",
            "__________________________________________________________________________________________________\n",
            "block14_sepconv1_act (Activatio (None, 6, 6, 1536)   0           block14_sepconv1_bn[0][0]        \n",
            "__________________________________________________________________________________________________\n",
            "block14_sepconv2 (SeparableConv (None, 6, 6, 2048)   3159552     block14_sepconv1_act[0][0]       \n",
            "__________________________________________________________________________________________________\n",
            "block14_sepconv2_bn (BatchNorma (None, 6, 6, 2048)   8192        block14_sepconv2[0][0]           \n",
            "__________________________________________________________________________________________________\n",
            "block14_sepconv2_act (Activatio (None, 6, 6, 2048)   0           block14_sepconv2_bn[0][0]        \n",
            "__________________________________________________________________________________________________\n",
<<<<<<< HEAD
            "global_average_pooling2d_12 (Gl (None, 2048)         0           block14_sepconv2_act[0][0]       \n",
            "__________________________________________________________________________________________________\n",
            "dense_23 (Dense)                (None, 512)          1049088     global_average_pooling2d_12[0][0]\n",
            "__________________________________________________________________________________________________\n",
            "dense_24 (Dense)                (None, 10)           5130        dense_23[0][0]                   \n",
=======
            "global_average_pooling2d_1 (Glo (None, 2048)         0           block14_sepconv2_act[0][0]       \n",
            "__________________________________________________________________________________________________\n",
            "dense_1 (Dense)                 (None, 512)          1049088     global_average_pooling2d_1[0][0] \n",
            "__________________________________________________________________________________________________\n",
            "dense_2 (Dense)                 (None, 10)           5130        dense_1[0][0]                    \n",
>>>>>>> ce4d0f0115cf14962eeef68ac97f64f034339110
            "==================================================================================================\n",
            "Total params: 21,915,698\n",
            "Trainable params: 7,842,602\n",
            "Non-trainable params: 14,073,096\n",
            "__________________________________________________________________________________________________\n"
          ],
          "name": "stdout"
        }
      ]
    },
    {
      "cell_type": "markdown",
      "metadata": {
        "id": "1DvdutfXNBUq",
        "colab_type": "text"
      },
      "source": [
        "## Learning Curves"
      ]
    },
    {
      "cell_type": "code",
      "metadata": {
        "id": "7JIUlLHOivAO",
        "colab_type": "code",
        "colab": {
          "base_uri": "https://localhost:8080/",
<<<<<<< HEAD
          "height": 350
        },
        "outputId": "bc339578-9060-4ccf-e6b6-1923f372f331"
=======
          "height": 401
        },
        "outputId": "ee9ff515-e2ad-4e0f-de08-b8c46d80ec08"
>>>>>>> ce4d0f0115cf14962eeef68ac97f64f034339110
      },
      "source": [
        "fig, ax = plt.subplots(1, 2, figsize = (14, 5))\n",
        "\n",
        "ax[0].xaxis.set_major_locator(MaxNLocator(integer=True))\n",
        "ax[1].xaxis.set_major_locator(MaxNLocator(integer=True))\n",
        "\n",
        "loss = history1.history[\"loss\"] + history2.history[\"loss\"]\n",
        "val_loss = history1.history[\"val_loss\"] + history2.history[\"val_loss\"]\n",
        "accuracy = history1.history[\"accuracy\"] + history2.history[\"accuracy\"]\n",
        "val_accuracy = history1.history[\"val_accuracy\"] + history2.history[\"val_accuracy\"]\n",
        "\n",
        "ax[0].plot(loss)\n",
        "ax[0].plot(val_loss)\n",
        "ax[0].set_title(\"model loss\")\n",
        "ax[0].set_ylabel(\"loss\")\n",
        "ax[0].set_xlabel(\"epoch\")\n",
        "ax[0].legend([\"train\", \"test\"], loc=\"upper left\")\n",
        "\n",
        "ax[1].plot(accuracy)\n",
        "ax[1].plot(val_accuracy)\n",
        "ax[1].set_title(\"model accuracy\")\n",
        "ax[1].set_ylabel(\"accuracy\")\n",
        "ax[1].set_xlabel(\"epoch\")\n",
        "ax[1].legend([\"train\", \"test\"], loc=\"upper left\")\n",
        "\n",
<<<<<<< HEAD
        "plt.show()"
      ],
      "execution_count": 100,
      "outputs": [
        {
          "output_type": "display_data",
          "data": {
            "image/png": "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\n",
=======
        "print(\"\\nfirst half of the epochs is 'transfer learning', second half of the epochs is 'fine tuning'\\n\")\n",
        "plt.show()"
      ],
      "execution_count": 26,
      "outputs": [
        {
          "output_type": "stream",
          "text": [
            "\n",
            "first half of the epochs is 'transfer learning', second half of the epochs is 'fine tuning'\n",
            "\n"
          ],
          "name": "stdout"
        },
        {
          "output_type": "display_data",
          "data": {
            "image/png": "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\n",
>>>>>>> ce4d0f0115cf14962eeef68ac97f64f034339110
            "text/plain": [
              "<Figure size 1008x360 with 2 Axes>"
            ]
          },
          "metadata": {
            "tags": [],
            "needs_background": "light"
          }
        }
      ]
    },
    {
      "cell_type": "markdown",
      "metadata": {
        "id": "6Mwz5uiJxV1M",
        "colab_type": "text"
      },
      "source": [
<<<<<<< HEAD
        "The momentum is big, that is why there is some overshooting in the model loss graph for the SGD part, also SGD tind to do these spikes because of the mini batches usage. For the first part, it is because we are doing a transfer learning.\n",
=======
        "About the spikes: SGD tinds to do these spikes because of the mini batches usage. For the first part, it is because we are doing a transfer learning.\n",
>>>>>>> ce4d0f0115cf14962eeef68ac97f64f034339110
        "\n",
        "If we had like 3000 epochs, our graph will smooth over and spikes won't be that noticable.\n",
        "\n",
        "From the graph, we can see that more epochs will help in getting more accuracy, our model doesn't overfit, and there is no underfit."
      ]
    },
    {
      "cell_type": "markdown",
      "metadata": {
<<<<<<< HEAD
=======
        "id": "cdsnUql4ln8N",
        "colab_type": "text"
      },
      "source": [
        "# API"
      ]
    },
    {
      "cell_type": "markdown",
      "metadata": {
        "id": "gsqhh3gllpos",
        "colab_type": "text"
      },
      "source": [
        "## Exporting"
      ]
    },
    {
      "cell_type": "code",
      "metadata": {
        "id": "dSTiuAGzlrAy",
        "colab_type": "code",
        "colab": {
          "base_uri": "https://localhost:8080/",
          "height": 34
        },
        "outputId": "a4aabafa-a3a4-4cee-ffff-6e23e4cbe1b1"
      },
      "source": [
        "model.save('xception_model_ft.h5')\n",
        "print(\"Model saved.\")"
      ],
      "execution_count": 27,
      "outputs": [
        {
          "output_type": "stream",
          "text": [
            "Model saved.\n"
          ],
          "name": "stdout"
        }
      ]
    },
    {
      "cell_type": "markdown",
      "metadata": {
        "id": "l9fDsUWPltf0",
        "colab_type": "text"
      },
      "source": [
        "## Importing"
      ]
    },
    {
      "cell_type": "code",
      "metadata": {
        "id": "Uu7JKuWDl0vO",
        "colab_type": "code",
        "colab": {}
      },
      "source": [
        "model = load_model('/content/drive/My Drive/Colab_Notebooks/Misc/xception_model_ft.h5')"
      ],
      "execution_count": 51,
      "outputs": []
    },
    {
      "cell_type": "markdown",
      "metadata": {
        "id": "NRdfquRQoN6-",
        "colab_type": "text"
      },
      "source": [
        "## Testing"
      ]
    },
    {
      "cell_type": "code",
      "metadata": {
        "id": "l6wQ4xNCvbkJ",
        "colab_type": "code",
        "colab": {}
      },
      "source": [
        "labels_dict= {'n0':0, 'n1':1, 'n2':2, 'n3':3, 'n4':4, 'n5':5, 'n6':6, 'n7':7, 'n8':8, 'n9':9}\n",
        "def load_data(path_):\n",
        "  df = []\n",
        "  path = Path(path_)\n",
        "\n",
        "  for folder in os.listdir(path):\n",
        "    # Define the path to the images\n",
        "    imgs_path = path / folder\n",
        " \n",
        "    # Get the list of all the images stored in that directory\n",
        "    imgs = sorted(imgs_path.glob('*.jpg'))\n",
        "    \n",
        "    # Store each image path and corresponding label \n",
        "    for img_name in imgs:\n",
        "      df.append((str(img_name), labels_dict[folder]))\n",
        " \n",
        "  df = pd.DataFrame(df, columns=['image', 'label'], index=None)\n",
        "  # shuffle the dataset \n",
        "  df = df.sample(frac=1.).reset_index(drop=True)\n",
        "  \n",
        "  return df"
      ],
      "execution_count": 55,
      "outputs": []
    },
    {
      "cell_type": "code",
      "metadata": {
        "id": "IqH76_XC3DLJ",
        "colab_type": "code",
        "colab": {
          "base_uri": "https://localhost:8080/",
          "height": 34
        },
        "outputId": "243f9b0d-f031-4fae-a670-9dcc0b379890"
      },
      "source": [
        "test = load_data(test_path)\n",
        "\n",
        "monkey_labels = {\n",
        "    0: \"Mantled Howler\",\n",
        "    1: \"Patas Monkey\",\n",
        "    2: \"Bald Uakari\",\n",
        "    3: \"Japanese Macaque\",\n",
        "    4: \"Pygmy Marmoset\",\n",
        "    5: \"White-headed Capuchin\",\n",
        "    6: \"Silvery Marmoset\",\n",
        "    7: \"Common Squirrel Monkey\",\n",
        "    8: \"Black-headed Night Monkey\",\n",
        "    9: \"Nilgiri Langur\",\n",
        "}\n",
        "\n",
        "test.shape"
      ],
      "execution_count": 58,
      "outputs": [
        {
          "output_type": "execute_result",
          "data": {
            "text/plain": [
              "(200, 2)"
            ]
          },
          "metadata": {
            "tags": []
          },
          "execution_count": 58
        }
      ]
    },
    {
      "cell_type": "code",
      "metadata": {
        "id": "0T9zHYXLm1SM",
        "colab_type": "code",
        "colab": {}
      },
      "source": [
        "# Prints a prediction\n",
        "def print_prediction(best_guess, prob):\n",
        "    print(\"Species: \" + monkey_labels[best_guess])\n",
        "    print(\"Probability: {0:.2%}\\n\".format(prob))\n",
        "\n",
        "# Loads an image and makes a prediction using the model\n",
        "def predict_image(test_image_path):\n",
        "    # Load image, downsize, scale and convert to array\n",
        "    test_image = img_to_array(load_img(test_image_path, target_size=(img_width, img_height))) / 255.0\n",
        "\n",
        "     # Expand array by 1 to match model\n",
        "    test_image = np.expand_dims(test_image, axis=0)\n",
        "\n",
        "     # Calculate category probabilities using model\n",
        "    predictions = model.predict(test_image)[0]\n",
        "\n",
        "     # Get label of highest probability prediction\n",
        "    best_guess = 0\n",
        "    highest_prob = 0.0\n",
        "    for i in range(len(predictions)):\n",
        "        if predictions[i] > highest_prob:\n",
        "            best_guess = i\n",
        "            highest_prob = predictions[i]\n",
        "\n",
        "    return best_guess, highest_prob"
      ],
      "execution_count": 59,
      "outputs": []
    },
    {
      "cell_type": "code",
      "metadata": {
        "id": "QrWakLa8n2LU",
        "colab_type": "code",
        "colab": {
          "base_uri": "https://localhost:8080/",
          "height": 34
        },
        "outputId": "548640ae-5ee7-4c36-a480-4becd17bec08"
      },
      "source": [
        "#Calculate accurancy\n",
        "count = 0\n",
        "for i, t in test.iterrows():\n",
        "  best_guess, highest_prob = predict_image(t['image'])\n",
        "  if best_guess == t['label']:\n",
        "    count = count + 1\n",
        "\n",
        "print(count / test_samples)"
      ],
      "execution_count": 60,
      "outputs": [
        {
          "output_type": "stream",
          "text": [
            "0.95\n"
          ],
          "name": "stdout"
        }
      ]
    },
    {
      "cell_type": "code",
      "metadata": {
        "id": "wzL_3R_Kn8lP",
        "colab_type": "code",
        "colab": {
          "base_uri": "https://localhost:8080/",
          "height": 1000
        },
        "outputId": "0498143d-39fb-4d86-a74f-6934ffbebdb2"
      },
      "source": [
        "#Preview Data \n",
        "for i, t in test.iterrows():\n",
        "  print(\"True Label %s\" % monkey_labels[t['label']]) \n",
        "  best_guess, highest_prob = predict_image(t['image'])\n",
        "  print_prediction(best_guess, highest_prob)"
      ],
      "execution_count": 61,
      "outputs": [
        {
          "output_type": "stream",
          "text": [
            "True Label Mantled Howler\n",
            "Species: Mantled Howler\n",
            "Probability: 100.00%\n",
            "\n",
            "True Label Black-headed Night Monkey\n",
            "Species: Black-headed Night Monkey\n",
            "Probability: 78.87%\n",
            "\n",
            "True Label Bald Uakari\n",
            "Species: Bald Uakari\n",
            "Probability: 81.56%\n",
            "\n",
            "True Label Bald Uakari\n",
            "Species: Bald Uakari\n",
            "Probability: 99.85%\n",
            "\n",
            "True Label White-headed Capuchin\n",
            "Species: White-headed Capuchin\n",
            "Probability: 100.00%\n",
            "\n",
            "True Label Mantled Howler\n",
            "Species: Mantled Howler\n",
            "Probability: 99.94%\n",
            "\n",
            "True Label Japanese Macaque\n",
            "Species: Japanese Macaque\n",
            "Probability: 100.00%\n",
            "\n",
            "True Label Nilgiri Langur\n",
            "Species: Nilgiri Langur\n",
            "Probability: 100.00%\n",
            "\n",
            "True Label Common Squirrel Monkey\n",
            "Species: Common Squirrel Monkey\n",
            "Probability: 100.00%\n",
            "\n",
            "True Label Mantled Howler\n",
            "Species: Mantled Howler\n",
            "Probability: 100.00%\n",
            "\n",
            "True Label Common Squirrel Monkey\n",
            "Species: Common Squirrel Monkey\n",
            "Probability: 100.00%\n",
            "\n",
            "True Label Nilgiri Langur\n",
            "Species: Nilgiri Langur\n",
            "Probability: 100.00%\n",
            "\n",
            "True Label Mantled Howler\n",
            "Species: Mantled Howler\n",
            "Probability: 100.00%\n",
            "\n",
            "True Label Pygmy Marmoset\n",
            "Species: Pygmy Marmoset\n",
            "Probability: 100.00%\n",
            "\n",
            "True Label Black-headed Night Monkey\n",
            "Species: Common Squirrel Monkey\n",
            "Probability: 79.50%\n",
            "\n",
            "True Label Nilgiri Langur\n",
            "Species: Nilgiri Langur\n",
            "Probability: 99.97%\n",
            "\n",
            "True Label Pygmy Marmoset\n",
            "Species: Pygmy Marmoset\n",
            "Probability: 100.00%\n",
            "\n",
            "True Label Bald Uakari\n",
            "Species: Bald Uakari\n",
            "Probability: 94.67%\n",
            "\n",
            "True Label Silvery Marmoset\n",
            "Species: Silvery Marmoset\n",
            "Probability: 100.00%\n",
            "\n",
            "True Label Nilgiri Langur\n",
            "Species: Nilgiri Langur\n",
            "Probability: 100.00%\n",
            "\n",
            "True Label Black-headed Night Monkey\n",
            "Species: Black-headed Night Monkey\n",
            "Probability: 90.05%\n",
            "\n",
            "True Label Nilgiri Langur\n",
            "Species: Nilgiri Langur\n",
            "Probability: 100.00%\n",
            "\n",
            "True Label Silvery Marmoset\n",
            "Species: Silvery Marmoset\n",
            "Probability: 100.00%\n",
            "\n",
            "True Label Nilgiri Langur\n",
            "Species: Japanese Macaque\n",
            "Probability: 74.87%\n",
            "\n",
            "True Label Pygmy Marmoset\n",
            "Species: Pygmy Marmoset\n",
            "Probability: 100.00%\n",
            "\n",
            "True Label White-headed Capuchin\n",
            "Species: White-headed Capuchin\n",
            "Probability: 100.00%\n",
            "\n",
            "True Label Silvery Marmoset\n",
            "Species: Silvery Marmoset\n",
            "Probability: 100.00%\n",
            "\n",
            "True Label Bald Uakari\n",
            "Species: Bald Uakari\n",
            "Probability: 98.54%\n",
            "\n",
            "True Label White-headed Capuchin\n",
            "Species: White-headed Capuchin\n",
            "Probability: 100.00%\n",
            "\n",
            "True Label White-headed Capuchin\n",
            "Species: White-headed Capuchin\n",
            "Probability: 100.00%\n",
            "\n",
            "True Label Bald Uakari\n",
            "Species: Silvery Marmoset\n",
            "Probability: 63.85%\n",
            "\n",
            "True Label Bald Uakari\n",
            "Species: Bald Uakari\n",
            "Probability: 99.99%\n",
            "\n",
            "True Label Mantled Howler\n",
            "Species: Mantled Howler\n",
            "Probability: 100.00%\n",
            "\n",
            "True Label Japanese Macaque\n",
            "Species: Japanese Macaque\n",
            "Probability: 100.00%\n",
            "\n",
            "True Label Bald Uakari\n",
            "Species: Bald Uakari\n",
            "Probability: 99.17%\n",
            "\n",
            "True Label Nilgiri Langur\n",
            "Species: Nilgiri Langur\n",
            "Probability: 100.00%\n",
            "\n",
            "True Label Nilgiri Langur\n",
            "Species: Nilgiri Langur\n",
            "Probability: 100.00%\n",
            "\n",
            "True Label Nilgiri Langur\n",
            "Species: Nilgiri Langur\n",
            "Probability: 60.04%\n",
            "\n",
            "True Label Patas Monkey\n",
            "Species: Patas Monkey\n",
            "Probability: 99.99%\n",
            "\n",
            "True Label Japanese Macaque\n",
            "Species: Japanese Macaque\n",
            "Probability: 86.28%\n",
            "\n",
            "True Label Japanese Macaque\n",
            "Species: Japanese Macaque\n",
            "Probability: 99.99%\n",
            "\n",
            "True Label Japanese Macaque\n",
            "Species: Japanese Macaque\n",
            "Probability: 99.75%\n",
            "\n",
            "True Label Patas Monkey\n",
            "Species: Patas Monkey\n",
            "Probability: 100.00%\n",
            "\n",
            "True Label Patas Monkey\n",
            "Species: Patas Monkey\n",
            "Probability: 67.94%\n",
            "\n",
            "True Label White-headed Capuchin\n",
            "Species: White-headed Capuchin\n",
            "Probability: 100.00%\n",
            "\n",
            "True Label Silvery Marmoset\n",
            "Species: Silvery Marmoset\n",
            "Probability: 100.00%\n",
            "\n",
            "True Label Common Squirrel Monkey\n",
            "Species: Common Squirrel Monkey\n",
            "Probability: 100.00%\n",
            "\n",
            "True Label White-headed Capuchin\n",
            "Species: White-headed Capuchin\n",
            "Probability: 100.00%\n",
            "\n",
            "True Label Nilgiri Langur\n",
            "Species: Nilgiri Langur\n",
            "Probability: 100.00%\n",
            "\n",
            "True Label Patas Monkey\n",
            "Species: Patas Monkey\n",
            "Probability: 100.00%\n",
            "\n",
            "True Label Pygmy Marmoset\n",
            "Species: Pygmy Marmoset\n",
            "Probability: 100.00%\n",
            "\n",
            "True Label Patas Monkey\n",
            "Species: Patas Monkey\n",
            "Probability: 100.00%\n",
            "\n",
            "True Label Mantled Howler\n",
            "Species: Mantled Howler\n",
            "Probability: 100.00%\n",
            "\n",
            "True Label Patas Monkey\n",
            "Species: Patas Monkey\n",
            "Probability: 100.00%\n",
            "\n",
            "True Label Pygmy Marmoset\n",
            "Species: Pygmy Marmoset\n",
            "Probability: 100.00%\n",
            "\n",
            "True Label Silvery Marmoset\n",
            "Species: Silvery Marmoset\n",
            "Probability: 100.00%\n",
            "\n",
            "True Label Pygmy Marmoset\n",
            "Species: Pygmy Marmoset\n",
            "Probability: 100.00%\n",
            "\n",
            "True Label Nilgiri Langur\n",
            "Species: Nilgiri Langur\n",
            "Probability: 100.00%\n",
            "\n",
            "True Label Mantled Howler\n",
            "Species: Mantled Howler\n",
            "Probability: 99.93%\n",
            "\n",
            "True Label Common Squirrel Monkey\n",
            "Species: Common Squirrel Monkey\n",
            "Probability: 100.00%\n",
            "\n",
            "True Label Nilgiri Langur\n",
            "Species: Nilgiri Langur\n",
            "Probability: 99.98%\n",
            "\n",
            "True Label Pygmy Marmoset\n",
            "Species: Pygmy Marmoset\n",
            "Probability: 100.00%\n",
            "\n",
            "True Label White-headed Capuchin\n",
            "Species: Silvery Marmoset\n",
            "Probability: 70.81%\n",
            "\n",
            "True Label Common Squirrel Monkey\n",
            "Species: Common Squirrel Monkey\n",
            "Probability: 100.00%\n",
            "\n",
            "True Label Japanese Macaque\n",
            "Species: Japanese Macaque\n",
            "Probability: 100.00%\n",
            "\n",
            "True Label White-headed Capuchin\n",
            "Species: White-headed Capuchin\n",
            "Probability: 100.00%\n",
            "\n",
            "True Label Nilgiri Langur\n",
            "Species: Nilgiri Langur\n",
            "Probability: 100.00%\n",
            "\n",
            "True Label Bald Uakari\n",
            "Species: Silvery Marmoset\n",
            "Probability: 71.16%\n",
            "\n",
            "True Label White-headed Capuchin\n",
            "Species: White-headed Capuchin\n",
            "Probability: 100.00%\n",
            "\n",
            "True Label Pygmy Marmoset\n",
            "Species: Pygmy Marmoset\n",
            "Probability: 99.94%\n",
            "\n",
            "True Label Black-headed Night Monkey\n",
            "Species: Common Squirrel Monkey\n",
            "Probability: 69.69%\n",
            "\n",
            "True Label Patas Monkey\n",
            "Species: Patas Monkey\n",
            "Probability: 100.00%\n",
            "\n",
            "True Label Pygmy Marmoset\n",
            "Species: Pygmy Marmoset\n",
            "Probability: 99.76%\n",
            "\n",
            "True Label Pygmy Marmoset\n",
            "Species: Pygmy Marmoset\n",
            "Probability: 99.99%\n",
            "\n",
            "True Label Mantled Howler\n",
            "Species: Mantled Howler\n",
            "Probability: 100.00%\n",
            "\n",
            "True Label Japanese Macaque\n",
            "Species: Japanese Macaque\n",
            "Probability: 100.00%\n",
            "\n",
            "True Label Silvery Marmoset\n",
            "Species: Silvery Marmoset\n",
            "Probability: 100.00%\n",
            "\n",
            "True Label Mantled Howler\n",
            "Species: Mantled Howler\n",
            "Probability: 100.00%\n",
            "\n",
            "True Label Black-headed Night Monkey\n",
            "Species: Black-headed Night Monkey\n",
            "Probability: 100.00%\n",
            "\n",
            "True Label Nilgiri Langur\n",
            "Species: Nilgiri Langur\n",
            "Probability: 100.00%\n",
            "\n",
            "True Label Nilgiri Langur\n",
            "Species: Mantled Howler\n",
            "Probability: 100.00%\n",
            "\n",
            "True Label Nilgiri Langur\n",
            "Species: Nilgiri Langur\n",
            "Probability: 100.00%\n",
            "\n",
            "True Label Bald Uakari\n",
            "Species: Bald Uakari\n",
            "Probability: 100.00%\n",
            "\n",
            "True Label Japanese Macaque\n",
            "Species: Japanese Macaque\n",
            "Probability: 100.00%\n",
            "\n",
            "True Label Nilgiri Langur\n",
            "Species: Nilgiri Langur\n",
            "Probability: 100.00%\n",
            "\n",
            "True Label Silvery Marmoset\n",
            "Species: Silvery Marmoset\n",
            "Probability: 100.00%\n",
            "\n",
            "True Label White-headed Capuchin\n",
            "Species: White-headed Capuchin\n",
            "Probability: 100.00%\n",
            "\n",
            "True Label Common Squirrel Monkey\n",
            "Species: Common Squirrel Monkey\n",
            "Probability: 100.00%\n",
            "\n",
            "True Label Patas Monkey\n",
            "Species: Patas Monkey\n",
            "Probability: 100.00%\n",
            "\n",
            "True Label Common Squirrel Monkey\n",
            "Species: Common Squirrel Monkey\n",
            "Probability: 100.00%\n",
            "\n",
            "True Label Nilgiri Langur\n",
            "Species: Nilgiri Langur\n",
            "Probability: 100.00%\n",
            "\n",
            "True Label Pygmy Marmoset\n",
            "Species: Pygmy Marmoset\n",
            "Probability: 100.00%\n",
            "\n",
            "True Label Patas Monkey\n",
            "Species: Patas Monkey\n",
            "Probability: 100.00%\n",
            "\n",
            "True Label Silvery Marmoset\n",
            "Species: Silvery Marmoset\n",
            "Probability: 100.00%\n",
            "\n",
            "True Label Bald Uakari\n",
            "Species: Bald Uakari\n",
            "Probability: 84.08%\n",
            "\n",
            "True Label Pygmy Marmoset\n",
            "Species: Pygmy Marmoset\n",
            "Probability: 100.00%\n",
            "\n",
            "True Label Mantled Howler\n",
            "Species: Mantled Howler\n",
            "Probability: 99.59%\n",
            "\n",
            "True Label Japanese Macaque\n",
            "Species: Japanese Macaque\n",
            "Probability: 100.00%\n",
            "\n",
            "True Label Silvery Marmoset\n",
            "Species: Silvery Marmoset\n",
            "Probability: 100.00%\n",
            "\n",
            "True Label Bald Uakari\n",
            "Species: Bald Uakari\n",
            "Probability: 100.00%\n",
            "\n",
            "True Label Patas Monkey\n",
            "Species: Patas Monkey\n",
            "Probability: 100.00%\n",
            "\n",
            "True Label Silvery Marmoset\n",
            "Species: Silvery Marmoset\n",
            "Probability: 100.00%\n",
            "\n",
            "True Label Silvery Marmoset\n",
            "Species: Silvery Marmoset\n",
            "Probability: 100.00%\n",
            "\n",
            "True Label Silvery Marmoset\n",
            "Species: Silvery Marmoset\n",
            "Probability: 99.88%\n",
            "\n",
            "True Label Silvery Marmoset\n",
            "Species: Silvery Marmoset\n",
            "Probability: 100.00%\n",
            "\n",
            "True Label Silvery Marmoset\n",
            "Species: Silvery Marmoset\n",
            "Probability: 99.58%\n",
            "\n",
            "True Label White-headed Capuchin\n",
            "Species: White-headed Capuchin\n",
            "Probability: 99.99%\n",
            "\n",
            "True Label Bald Uakari\n",
            "Species: Bald Uakari\n",
            "Probability: 99.92%\n",
            "\n",
            "True Label White-headed Capuchin\n",
            "Species: White-headed Capuchin\n",
            "Probability: 100.00%\n",
            "\n",
            "True Label Common Squirrel Monkey\n",
            "Species: Common Squirrel Monkey\n",
            "Probability: 100.00%\n",
            "\n",
            "True Label Mantled Howler\n",
            "Species: Mantled Howler\n",
            "Probability: 70.85%\n",
            "\n",
            "True Label Japanese Macaque\n",
            "Species: Japanese Macaque\n",
            "Probability: 100.00%\n",
            "\n",
            "True Label Silvery Marmoset\n",
            "Species: Silvery Marmoset\n",
            "Probability: 100.00%\n",
            "\n",
            "True Label Black-headed Night Monkey\n",
            "Species: Common Squirrel Monkey\n",
            "Probability: 94.17%\n",
            "\n",
            "True Label Patas Monkey\n",
            "Species: Patas Monkey\n",
            "Probability: 100.00%\n",
            "\n",
            "True Label Common Squirrel Monkey\n",
            "Species: Common Squirrel Monkey\n",
            "Probability: 100.00%\n",
            "\n",
            "True Label Black-headed Night Monkey\n",
            "Species: Black-headed Night Monkey\n",
            "Probability: 100.00%\n",
            "\n",
            "True Label Pygmy Marmoset\n",
            "Species: Pygmy Marmoset\n",
            "Probability: 100.00%\n",
            "\n",
            "True Label White-headed Capuchin\n",
            "Species: White-headed Capuchin\n",
            "Probability: 100.00%\n",
            "\n",
            "True Label Mantled Howler\n",
            "Species: Mantled Howler\n",
            "Probability: 100.00%\n",
            "\n",
            "True Label Patas Monkey\n",
            "Species: Patas Monkey\n",
            "Probability: 100.00%\n",
            "\n",
            "True Label Patas Monkey\n",
            "Species: Patas Monkey\n",
            "Probability: 100.00%\n",
            "\n",
            "True Label Patas Monkey\n",
            "Species: Patas Monkey\n",
            "Probability: 100.00%\n",
            "\n",
            "True Label Japanese Macaque\n",
            "Species: Japanese Macaque\n",
            "Probability: 100.00%\n",
            "\n",
            "True Label White-headed Capuchin\n",
            "Species: White-headed Capuchin\n",
            "Probability: 100.00%\n",
            "\n",
            "True Label Bald Uakari\n",
            "Species: Bald Uakari\n",
            "Probability: 99.75%\n",
            "\n",
            "True Label White-headed Capuchin\n",
            "Species: White-headed Capuchin\n",
            "Probability: 100.00%\n",
            "\n",
            "True Label Pygmy Marmoset\n",
            "Species: Pygmy Marmoset\n",
            "Probability: 82.66%\n",
            "\n",
            "True Label Bald Uakari\n",
            "Species: Bald Uakari\n",
            "Probability: 100.00%\n",
            "\n",
            "True Label Nilgiri Langur\n",
            "Species: Nilgiri Langur\n",
            "Probability: 100.00%\n",
            "\n",
            "True Label Mantled Howler\n",
            "Species: Mantled Howler\n",
            "Probability: 100.00%\n",
            "\n",
            "True Label Silvery Marmoset\n",
            "Species: Silvery Marmoset\n",
            "Probability: 100.00%\n",
            "\n",
            "True Label Silvery Marmoset\n",
            "Species: Silvery Marmoset\n",
            "Probability: 99.96%\n",
            "\n",
            "True Label White-headed Capuchin\n",
            "Species: White-headed Capuchin\n",
            "Probability: 100.00%\n",
            "\n",
            "True Label Common Squirrel Monkey\n",
            "Species: Common Squirrel Monkey\n",
            "Probability: 100.00%\n",
            "\n",
            "True Label Mantled Howler\n",
            "Species: Mantled Howler\n",
            "Probability: 100.00%\n",
            "\n",
            "True Label Japanese Macaque\n",
            "Species: Japanese Macaque\n",
            "Probability: 99.98%\n",
            "\n",
            "True Label Common Squirrel Monkey\n",
            "Species: Common Squirrel Monkey\n",
            "Probability: 100.00%\n",
            "\n",
            "True Label Common Squirrel Monkey\n",
            "Species: Common Squirrel Monkey\n",
            "Probability: 100.00%\n",
            "\n",
            "True Label Silvery Marmoset\n",
            "Species: Silvery Marmoset\n",
            "Probability: 100.00%\n",
            "\n",
            "True Label Nilgiri Langur\n",
            "Species: Nilgiri Langur\n",
            "Probability: 100.00%\n",
            "\n",
            "True Label Patas Monkey\n",
            "Species: Patas Monkey\n",
            "Probability: 100.00%\n",
            "\n",
            "True Label Patas Monkey\n",
            "Species: Patas Monkey\n",
            "Probability: 100.00%\n",
            "\n",
            "True Label Common Squirrel Monkey\n",
            "Species: Common Squirrel Monkey\n",
            "Probability: 100.00%\n",
            "\n",
            "True Label Patas Monkey\n",
            "Species: Patas Monkey\n",
            "Probability: 100.00%\n",
            "\n",
            "True Label Japanese Macaque\n",
            "Species: Japanese Macaque\n",
            "Probability: 99.87%\n",
            "\n",
            "True Label Black-headed Night Monkey\n",
            "Species: Black-headed Night Monkey\n",
            "Probability: 85.93%\n",
            "\n",
            "True Label Japanese Macaque\n",
            "Species: Japanese Macaque\n",
            "Probability: 100.00%\n",
            "\n",
            "True Label Silvery Marmoset\n",
            "Species: Silvery Marmoset\n",
            "Probability: 100.00%\n",
            "\n",
            "True Label Pygmy Marmoset\n",
            "Species: Pygmy Marmoset\n",
            "Probability: 99.98%\n",
            "\n",
            "True Label Patas Monkey\n",
            "Species: Patas Monkey\n",
            "Probability: 100.00%\n",
            "\n",
            "True Label Pygmy Marmoset\n",
            "Species: Pygmy Marmoset\n",
            "Probability: 100.00%\n",
            "\n",
            "True Label Silvery Marmoset\n",
            "Species: Silvery Marmoset\n",
            "Probability: 100.00%\n",
            "\n",
            "True Label Patas Monkey\n",
            "Species: Patas Monkey\n",
            "Probability: 100.00%\n",
            "\n",
            "True Label Mantled Howler\n",
            "Species: Mantled Howler\n",
            "Probability: 100.00%\n",
            "\n",
            "True Label Bald Uakari\n",
            "Species: Bald Uakari\n",
            "Probability: 100.00%\n",
            "\n",
            "True Label Japanese Macaque\n",
            "Species: Japanese Macaque\n",
            "Probability: 84.78%\n",
            "\n",
            "True Label Mantled Howler\n",
            "Species: Mantled Howler\n",
            "Probability: 100.00%\n",
            "\n",
            "True Label White-headed Capuchin\n",
            "Species: White-headed Capuchin\n",
            "Probability: 100.00%\n",
            "\n",
            "True Label Japanese Macaque\n",
            "Species: Japanese Macaque\n",
            "Probability: 100.00%\n",
            "\n",
            "True Label Mantled Howler\n",
            "Species: Mantled Howler\n",
            "Probability: 74.98%\n",
            "\n",
            "True Label Silvery Marmoset\n",
            "Species: Silvery Marmoset\n",
            "Probability: 100.00%\n",
            "\n",
            "True Label Nilgiri Langur\n",
            "Species: Nilgiri Langur\n",
            "Probability: 100.00%\n",
            "\n",
            "True Label Japanese Macaque\n",
            "Species: Japanese Macaque\n",
            "Probability: 100.00%\n",
            "\n",
            "True Label Common Squirrel Monkey\n",
            "Species: Common Squirrel Monkey\n",
            "Probability: 99.99%\n",
            "\n",
            "True Label White-headed Capuchin\n",
            "Species: White-headed Capuchin\n",
            "Probability: 100.00%\n",
            "\n",
            "True Label Japanese Macaque\n",
            "Species: Japanese Macaque\n",
            "Probability: 100.00%\n",
            "\n",
            "True Label Common Squirrel Monkey\n",
            "Species: Common Squirrel Monkey\n",
            "Probability: 100.00%\n",
            "\n",
            "True Label Common Squirrel Monkey\n",
            "Species: Common Squirrel Monkey\n",
            "Probability: 100.00%\n",
            "\n",
            "True Label Black-headed Night Monkey\n",
            "Species: Black-headed Night Monkey\n",
            "Probability: 99.70%\n",
            "\n",
            "True Label White-headed Capuchin\n",
            "Species: White-headed Capuchin\n",
            "Probability: 100.00%\n",
            "\n",
            "True Label Patas Monkey\n",
            "Species: Patas Monkey\n",
            "Probability: 100.00%\n",
            "\n",
            "True Label Bald Uakari\n",
            "Species: Bald Uakari\n",
            "Probability: 91.21%\n",
            "\n",
            "True Label White-headed Capuchin\n",
            "Species: White-headed Capuchin\n",
            "Probability: 100.00%\n",
            "\n",
            "True Label Japanese Macaque\n",
            "Species: Japanese Macaque\n",
            "Probability: 100.00%\n",
            "\n",
            "True Label Nilgiri Langur\n",
            "Species: Nilgiri Langur\n",
            "Probability: 100.00%\n",
            "\n",
            "True Label Bald Uakari\n",
            "Species: Patas Monkey\n",
            "Probability: 77.81%\n",
            "\n",
            "True Label Patas Monkey\n",
            "Species: Patas Monkey\n",
            "Probability: 100.00%\n",
            "\n",
            "True Label Patas Monkey\n",
            "Species: Patas Monkey\n",
            "Probability: 100.00%\n",
            "\n",
            "True Label Mantled Howler\n",
            "Species: Mantled Howler\n",
            "Probability: 78.95%\n",
            "\n",
            "True Label Common Squirrel Monkey\n",
            "Species: Common Squirrel Monkey\n",
            "Probability: 100.00%\n",
            "\n",
            "True Label Bald Uakari\n",
            "Species: Bald Uakari\n",
            "Probability: 100.00%\n",
            "\n",
            "True Label Nilgiri Langur\n",
            "Species: Nilgiri Langur\n",
            "Probability: 100.00%\n",
            "\n",
            "True Label Black-headed Night Monkey\n",
            "Species: Common Squirrel Monkey\n",
            "Probability: 98.70%\n",
            "\n",
            "True Label Mantled Howler\n",
            "Species: Mantled Howler\n",
            "Probability: 99.94%\n",
            "\n",
            "True Label Mantled Howler\n",
            "Species: Mantled Howler\n",
            "Probability: 100.00%\n",
            "\n",
            "True Label Common Squirrel Monkey\n",
            "Species: Common Squirrel Monkey\n",
            "Probability: 100.00%\n",
            "\n",
            "True Label Silvery Marmoset\n",
            "Species: Silvery Marmoset\n",
            "Probability: 100.00%\n",
            "\n",
            "True Label White-headed Capuchin\n",
            "Species: White-headed Capuchin\n",
            "Probability: 100.00%\n",
            "\n",
            "True Label Bald Uakari\n",
            "Species: Bald Uakari\n",
            "Probability: 99.98%\n",
            "\n",
            "True Label Pygmy Marmoset\n",
            "Species: Pygmy Marmoset\n",
            "Probability: 100.00%\n",
            "\n",
            "True Label Silvery Marmoset\n",
            "Species: Silvery Marmoset\n",
            "Probability: 100.00%\n",
            "\n",
            "True Label Mantled Howler\n",
            "Species: Mantled Howler\n",
            "Probability: 98.26%\n",
            "\n",
            "True Label White-headed Capuchin\n",
            "Species: White-headed Capuchin\n",
            "Probability: 100.00%\n",
            "\n",
            "True Label Nilgiri Langur\n",
            "Species: Nilgiri Langur\n",
            "Probability: 100.00%\n",
            "\n",
            "True Label Silvery Marmoset\n",
            "Species: Silvery Marmoset\n",
            "Probability: 100.00%\n",
            "\n",
            "True Label Mantled Howler\n",
            "Species: Mantled Howler\n",
            "Probability: 100.00%\n",
            "\n",
            "True Label Japanese Macaque\n",
            "Species: Japanese Macaque\n",
            "Probability: 100.00%\n",
            "\n",
            "True Label Patas Monkey\n",
            "Species: Patas Monkey\n",
            "Probability: 100.00%\n",
            "\n",
            "True Label White-headed Capuchin\n",
            "Species: White-headed Capuchin\n",
            "Probability: 100.00%\n",
            "\n"
          ],
          "name": "stdout"
        }
      ]
    },
    {
      "cell_type": "markdown",
      "metadata": {
>>>>>>> ce4d0f0115cf14962eeef68ac97f64f034339110
        "id": "IAbFhZzOCe7s",
        "colab_type": "text"
      },
      "source": [
        "# References\n",
        "* https://colab.research.google.com/github/nipunbatra/blog/blob/master/_notebooks/2017-12-29-neural-collaborative-filtering.ipynb#scrollTo=t23DgPbMQFng\n",
        "* https://www.kaggle.com/slothkong/10-monkey-species?select=monkey_labels.txt\n",
        "* https://keras.io/api/applications/\n",
        "* https://www.kaggle.com/voandy/transfer-learning-fine-tuning-xception-98-7-acc\n",
        "* https://github.com/zaid478/Transfer-Learning-from-Xception-Model-in-Keras-/blob/master/transfer_learn.py\n",
        "* https://medium.com/@vigneshgig/xception-neural-network-transfer-learning-and-data-processing-using-ai-c3e7a4ea7bf2\n",
        "* https://www.kaggle.com/abnera/transfer-learning-keras-xception-cnn\n",
        "* https://arxiv.org/abs/1610.02357\n",
        "* https://towardsdatascience.com/review-xception-with-depthwise-separable-convolution-better-than-inception-v3-image-dc967dd42568\n",
        "* https://towardsdatascience.com/a-basic-introduction-to-separable-convolutions-b99ec3102728\n",
        "* https://towardsdatascience.com/batch-normalization-in-neural-networks-1ac91516821c\n",
        "* https://shaoanlu.wordpress.com/2017/05/29/sgd-all-which-one-is-the-best-optimizer-dogs-vs-cats-toy-experiment/\n",
        "* https://keras.io/guides/transfer_learning/\n",
        "* https://stats.stackexchange.com/questions/303857/explanation-of-spikes-in-training-loss-vs-iterations-with-adam-optimizer\n",
        "\n"
      ]
    }
  ]
}