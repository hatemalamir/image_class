{
  "nbformat": 4,
  "nbformat_minor": 0,
  "metadata": {
    "colab": {
      "name": "ML_Project03.ipynb",
      "provenance": [],
      "toc_visible": true
    },
    "kernelspec": {
      "name": "python3",
      "display_name": "Python 3"
    },
    "accelerator": "GPU"
  },
  "cells": [
    {
      "cell_type": "markdown",
      "metadata": {
        "id": "QDajXkzyIcPL",
        "colab_type": "text"
      },
      "source": [
        "# Installation and Imports"
      ]
    },
    {
      "cell_type": "code",
      "metadata": {
        "id": "mWLYJskKHXJx",
        "colab_type": "code",
        "colab": {
          "base_uri": "https://localhost:8080/",
          "height": 353
        },
        "outputId": "84908857-3826-4c7a-deb5-61f198461a5e"
      },
      "source": [
        "# Check the GPU\n",
        "!nvidia-smi"
      ],
      "execution_count": 18,
      "outputs": [
        {
          "output_type": "stream",
          "text": [
            "Tue Jul 14 22:35:48 2020       \n",
            "+-----------------------------------------------------------------------------+\n",
            "| NVIDIA-SMI 450.51.05    Driver Version: 418.67       CUDA Version: 10.1     |\n",
            "|-------------------------------+----------------------+----------------------+\n",
            "| GPU  Name        Persistence-M| Bus-Id        Disp.A | Volatile Uncorr. ECC |\n",
            "| Fan  Temp  Perf  Pwr:Usage/Cap|         Memory-Usage | GPU-Util  Compute M. |\n",
            "|                               |                      |               MIG M. |\n",
            "|===============================+======================+======================|\n",
            "|   0  Tesla P100-PCIE...  Off  | 00000000:00:04.0 Off |                    0 |\n",
            "| N/A   40C    P0    32W / 250W |   7715MiB / 16280MiB |      0%      Default |\n",
            "|                               |                      |                 ERR! |\n",
            "+-------------------------------+----------------------+----------------------+\n",
            "                                                                               \n",
            "+-----------------------------------------------------------------------------+\n",
            "| Processes:                                                                  |\n",
            "|  GPU   GI   CI        PID   Type   Process name                  GPU Memory |\n",
            "|        ID   ID                                                   Usage      |\n",
            "|=============================================================================|\n",
            "|  No running processes found                                                 |\n",
            "+-----------------------------------------------------------------------------+\n"
          ],
          "name": "stdout"
        }
      ]
    },
    {
      "cell_type": "code",
      "metadata": {
        "id": "01bt5ylnIicO",
        "colab_type": "code",
        "colab": {}
      },
      "source": [
        "import os.path\n",
        "\n",
        "from keras import Model, optimizers\n",
        "from keras.applications import xception\n",
        "from keras.layers import GlobalAveragePooling2D, Dense\n",
        "from keras.preprocessing.image import ImageDataGenerator\n",
        "\n",
        "from IPython.display import SVG\n",
        "from keras.utils.vis_utils import model_to_dot\n",
        "\n",
        "import matplotlib.pyplot as plt\n",
        "%matplotlib inline"
      ],
      "execution_count": 50,
      "outputs": []
    },
    {
      "cell_type": "markdown",
      "metadata": {
        "id": "F03y-9CGXLrR",
        "colab_type": "text"
      },
      "source": [
        "# Dataset"
      ]
    },
    {
      "cell_type": "markdown",
      "metadata": {
        "id": "cA7BMoPXXOUy",
        "colab_type": "text"
      },
      "source": [
        "## Configuration Parameters"
      ]
    },
    {
      "cell_type": "code",
      "metadata": {
        "id": "7Y10YHiBT6aU",
        "colab_type": "code",
        "colab": {}
      },
      "source": [
        "img_width = 197\n",
        "img_height = 197\n",
        "\n",
        "batch_size = 120\n",
        "\n",
        "base_path = '/content/drive/My Drive/Colab_Notebooks/data/monkey/'\n",
        "\n",
        "train_path = base_path + 'training-data/training'\n",
        "validation_path = base_path + 'validation-data/validation'\n",
        "\n",
        "nb_classes = 10"
      ],
      "execution_count": 20,
      "outputs": []
    },
    {
      "cell_type": "markdown",
      "metadata": {
        "id": "XWAJdP3zY3BF",
        "colab_type": "text"
      },
      "source": [
        "## Preparing the dataset"
      ]
    },
    {
      "cell_type": "code",
      "metadata": {
        "id": "7uGuJ6L0Yzcn",
        "colab_type": "code",
        "colab": {
          "base_uri": "https://localhost:8080/",
          "height": 50
        },
        "outputId": "f7126596-904a-42f5-b5f2-fcb1f0c6df76"
      },
      "source": [
        "# Counts the number of training and testing samples in the directories\n",
        "training_samples = sum([len(files) for r, d, files in os.walk(train_path)])\n",
        "validation_samples = sum([len(files) for r, d, files in os.walk(validation_path)])\n",
        "\n",
        "print(\"Number of samples in Training dataset:\", training_samples)\n",
        "print(\"Number of samples in Validation dataset:\", validation_samples)"
      ],
      "execution_count": 21,
      "outputs": [
        {
          "output_type": "stream",
          "text": [
            "Number of samples in Training dataset: 1098\n",
            "Number of samples in Validation dataset: 272\n"
          ],
          "name": "stdout"
        }
      ]
    },
    {
      "cell_type": "markdown",
      "metadata": {
        "id": "4vEj_SYDZaCb",
        "colab_type": "text"
      },
      "source": [
        "## Data augmentation"
      ]
    },
    {
      "cell_type": "code",
      "metadata": {
        "id": "wOem7CRxZZXr",
        "colab_type": "code",
        "colab": {
          "base_uri": "https://localhost:8080/",
          "height": 50
        },
        "outputId": "8e66130e-da20-4638-c734-0243b607b4c5"
      },
      "source": [
        "train_datagen = ImageDataGenerator(\n",
        "    rotation_range=30,\n",
        "    width_shift_range=0.3,\n",
        "    height_shift_range=0.2,\n",
        "    rescale=1.0 / 255,\n",
        "    shear_range=0.3,\n",
        "    zoom_range=0.3,\n",
        "    horizontal_flip=True,\n",
        "    vertical_flip=False,\n",
        ")\n",
        "\n",
        "validation_datagen = ImageDataGenerator(rescale=1.0 / 255)\n",
        "\n",
        "train_generator = train_datagen.flow_from_directory(\n",
        "    train_path,\n",
        "    target_size=(img_width, img_height),\n",
        "    batch_size=batch_size,\n",
        "    class_mode='categorical',\n",
        ")\n",
        "\n",
        "validation_generator = validation_datagen.flow_from_directory(\n",
        "    validation_path,\n",
        "    target_size=(img_width, img_height),\n",
        "    batch_size=batch_size,\n",
        "    class_mode='categorical',\n",
        ")"
      ],
      "execution_count": 22,
      "outputs": [
        {
          "output_type": "stream",
          "text": [
            "Found 1098 images belonging to 10 classes.\n",
            "Found 272 images belonging to 10 classes.\n"
          ],
          "name": "stdout"
        }
      ]
    },
    {
      "cell_type": "markdown",
      "metadata": {
        "id": "2FHVPf8qbBP9",
        "colab_type": "text"
      },
      "source": [
        "# Model"
      ]
    },
    {
      "cell_type": "markdown",
      "metadata": {
        "id": "2QT4LeTsbCw8",
        "colab_type": "text"
      },
      "source": [
        "## Main functions"
      ]
    },
    {
      "cell_type": "code",
      "metadata": {
        "id": "4QEAv0uCbFCe",
        "colab_type": "code",
        "colab": {}
      },
      "source": [
        "# Adds new top to base model\n",
        "def add_top(base):\n",
        "    x = base.output\n",
        "\n",
        "    # Global averaging pool layer\n",
        "    x = GlobalAveragePooling2D()(x)\n",
        "\n",
        "    # Regular densely connected layer\n",
        "    x = Dense(512, activation='relu')(x)\n",
        "\n",
        "    # Output layer\n",
        "    predictions = Dense(nb_classes, activation='softmax')(x)\n",
        "\n",
        "    return Model(input=base.input, output=predictions)"
      ],
      "execution_count": 23,
      "outputs": []
    },
    {
      "cell_type": "code",
      "metadata": {
        "id": "jyFYpYkSbM5r",
        "colab_type": "code",
        "colab": {}
      },
      "source": [
        "# Sets up model for transfer learning\n",
        "def setup_model(model, base):\n",
        "    # Freeze the un-trainable layers of the model base\n",
        "    for layer in base.layers:\n",
        "        layer.trainable = False\n",
        "\n",
        "    model.compile(\n",
        "        loss='categorical_crossentropy',\n",
        "        optimizer='rmsprop',\n",
        "        metrics=['accuracy']\n",
        "    )"
      ],
      "execution_count": 24,
      "outputs": []
    },
    {
      "cell_type": "markdown",
      "metadata": {
        "id": "NzFwv_VccKNc",
        "colab_type": "text"
      },
      "source": [
        "## Importing the pre-trained model"
      ]
    },
    {
      "cell_type": "code",
      "metadata": {
        "id": "YAL9ZBvDcHsS",
        "colab_type": "code",
        "colab": {}
      },
      "source": [
        "# Import the Xception model to use as the base for our model\n",
        "xception_base = xception.Xception(\n",
        "    include_top=False,\n",
        "    weights='imagenet',\n",
        "    input_shape=(img_width, img_height, 3)\n",
        ")"
      ],
      "execution_count": 25,
      "outputs": []
    },
    {
      "cell_type": "code",
      "metadata": {
        "id": "Mf0IMrwRlmfI",
        "colab_type": "code",
        "colab": {
          "base_uri": "https://localhost:8080/",
          "height": 1000
        },
        "outputId": "e8c584cb-ff3f-4e63-c8fb-7e012a6d9a99"
      },
      "source": [
        "xception_base.summary()"
      ],
      "execution_count": 41,
      "outputs": [
        {
          "output_type": "stream",
          "text": [
            "Model: \"xception\"\n",
            "__________________________________________________________________________________________________\n",
            "Layer (type)                    Output Shape         Param #     Connected to                     \n",
            "==================================================================================================\n",
            "input_2 (InputLayer)            (None, 197, 197, 3)  0                                            \n",
            "__________________________________________________________________________________________________\n",
            "block1_conv1 (Conv2D)           (None, 98, 98, 32)   864         input_2[0][0]                    \n",
            "__________________________________________________________________________________________________\n",
            "block1_conv1_bn (BatchNormaliza (None, 98, 98, 32)   128         block1_conv1[0][0]               \n",
            "__________________________________________________________________________________________________\n",
            "block1_conv1_act (Activation)   (None, 98, 98, 32)   0           block1_conv1_bn[0][0]            \n",
            "__________________________________________________________________________________________________\n",
            "block1_conv2 (Conv2D)           (None, 96, 96, 64)   18432       block1_conv1_act[0][0]           \n",
            "__________________________________________________________________________________________________\n",
            "block1_conv2_bn (BatchNormaliza (None, 96, 96, 64)   256         block1_conv2[0][0]               \n",
            "__________________________________________________________________________________________________\n",
            "block1_conv2_act (Activation)   (None, 96, 96, 64)   0           block1_conv2_bn[0][0]            \n",
            "__________________________________________________________________________________________________\n",
            "block2_sepconv1 (SeparableConv2 (None, 96, 96, 128)  8768        block1_conv2_act[0][0]           \n",
            "__________________________________________________________________________________________________\n",
            "block2_sepconv1_bn (BatchNormal (None, 96, 96, 128)  512         block2_sepconv1[0][0]            \n",
            "__________________________________________________________________________________________________\n",
            "block2_sepconv2_act (Activation (None, 96, 96, 128)  0           block2_sepconv1_bn[0][0]         \n",
            "__________________________________________________________________________________________________\n",
            "block2_sepconv2 (SeparableConv2 (None, 96, 96, 128)  17536       block2_sepconv2_act[0][0]        \n",
            "__________________________________________________________________________________________________\n",
            "block2_sepconv2_bn (BatchNormal (None, 96, 96, 128)  512         block2_sepconv2[0][0]            \n",
            "__________________________________________________________________________________________________\n",
            "conv2d_5 (Conv2D)               (None, 48, 48, 128)  8192        block1_conv2_act[0][0]           \n",
            "__________________________________________________________________________________________________\n",
            "block2_pool (MaxPooling2D)      (None, 48, 48, 128)  0           block2_sepconv2_bn[0][0]         \n",
            "__________________________________________________________________________________________________\n",
            "batch_normalization_5 (BatchNor (None, 48, 48, 128)  512         conv2d_5[0][0]                   \n",
            "__________________________________________________________________________________________________\n",
            "add_13 (Add)                    (None, 48, 48, 128)  0           block2_pool[0][0]                \n",
            "                                                                 batch_normalization_5[0][0]      \n",
            "__________________________________________________________________________________________________\n",
            "block3_sepconv1_act (Activation (None, 48, 48, 128)  0           add_13[0][0]                     \n",
            "__________________________________________________________________________________________________\n",
            "block3_sepconv1 (SeparableConv2 (None, 48, 48, 256)  33920       block3_sepconv1_act[0][0]        \n",
            "__________________________________________________________________________________________________\n",
            "block3_sepconv1_bn (BatchNormal (None, 48, 48, 256)  1024        block3_sepconv1[0][0]            \n",
            "__________________________________________________________________________________________________\n",
            "block3_sepconv2_act (Activation (None, 48, 48, 256)  0           block3_sepconv1_bn[0][0]         \n",
            "__________________________________________________________________________________________________\n",
            "block3_sepconv2 (SeparableConv2 (None, 48, 48, 256)  67840       block3_sepconv2_act[0][0]        \n",
            "__________________________________________________________________________________________________\n",
            "block3_sepconv2_bn (BatchNormal (None, 48, 48, 256)  1024        block3_sepconv2[0][0]            \n",
            "__________________________________________________________________________________________________\n",
            "conv2d_6 (Conv2D)               (None, 24, 24, 256)  32768       add_13[0][0]                     \n",
            "__________________________________________________________________________________________________\n",
            "block3_pool (MaxPooling2D)      (None, 24, 24, 256)  0           block3_sepconv2_bn[0][0]         \n",
            "__________________________________________________________________________________________________\n",
            "batch_normalization_6 (BatchNor (None, 24, 24, 256)  1024        conv2d_6[0][0]                   \n",
            "__________________________________________________________________________________________________\n",
            "add_14 (Add)                    (None, 24, 24, 256)  0           block3_pool[0][0]                \n",
            "                                                                 batch_normalization_6[0][0]      \n",
            "__________________________________________________________________________________________________\n",
            "block4_sepconv1_act (Activation (None, 24, 24, 256)  0           add_14[0][0]                     \n",
            "__________________________________________________________________________________________________\n",
            "block4_sepconv1 (SeparableConv2 (None, 24, 24, 728)  188672      block4_sepconv1_act[0][0]        \n",
            "__________________________________________________________________________________________________\n",
            "block4_sepconv1_bn (BatchNormal (None, 24, 24, 728)  2912        block4_sepconv1[0][0]            \n",
            "__________________________________________________________________________________________________\n",
            "block4_sepconv2_act (Activation (None, 24, 24, 728)  0           block4_sepconv1_bn[0][0]         \n",
            "__________________________________________________________________________________________________\n",
            "block4_sepconv2 (SeparableConv2 (None, 24, 24, 728)  536536      block4_sepconv2_act[0][0]        \n",
            "__________________________________________________________________________________________________\n",
            "block4_sepconv2_bn (BatchNormal (None, 24, 24, 728)  2912        block4_sepconv2[0][0]            \n",
            "__________________________________________________________________________________________________\n",
            "conv2d_7 (Conv2D)               (None, 12, 12, 728)  186368      add_14[0][0]                     \n",
            "__________________________________________________________________________________________________\n",
            "block4_pool (MaxPooling2D)      (None, 12, 12, 728)  0           block4_sepconv2_bn[0][0]         \n",
            "__________________________________________________________________________________________________\n",
            "batch_normalization_7 (BatchNor (None, 12, 12, 728)  2912        conv2d_7[0][0]                   \n",
            "__________________________________________________________________________________________________\n",
            "add_15 (Add)                    (None, 12, 12, 728)  0           block4_pool[0][0]                \n",
            "                                                                 batch_normalization_7[0][0]      \n",
            "__________________________________________________________________________________________________\n",
            "block5_sepconv1_act (Activation (None, 12, 12, 728)  0           add_15[0][0]                     \n",
            "__________________________________________________________________________________________________\n",
            "block5_sepconv1 (SeparableConv2 (None, 12, 12, 728)  536536      block5_sepconv1_act[0][0]        \n",
            "__________________________________________________________________________________________________\n",
            "block5_sepconv1_bn (BatchNormal (None, 12, 12, 728)  2912        block5_sepconv1[0][0]            \n",
            "__________________________________________________________________________________________________\n",
            "block5_sepconv2_act (Activation (None, 12, 12, 728)  0           block5_sepconv1_bn[0][0]         \n",
            "__________________________________________________________________________________________________\n",
            "block5_sepconv2 (SeparableConv2 (None, 12, 12, 728)  536536      block5_sepconv2_act[0][0]        \n",
            "__________________________________________________________________________________________________\n",
            "block5_sepconv2_bn (BatchNormal (None, 12, 12, 728)  2912        block5_sepconv2[0][0]            \n",
            "__________________________________________________________________________________________________\n",
            "block5_sepconv3_act (Activation (None, 12, 12, 728)  0           block5_sepconv2_bn[0][0]         \n",
            "__________________________________________________________________________________________________\n",
            "block5_sepconv3 (SeparableConv2 (None, 12, 12, 728)  536536      block5_sepconv3_act[0][0]        \n",
            "__________________________________________________________________________________________________\n",
            "block5_sepconv3_bn (BatchNormal (None, 12, 12, 728)  2912        block5_sepconv3[0][0]            \n",
            "__________________________________________________________________________________________________\n",
            "add_16 (Add)                    (None, 12, 12, 728)  0           block5_sepconv3_bn[0][0]         \n",
            "                                                                 add_15[0][0]                     \n",
            "__________________________________________________________________________________________________\n",
            "block6_sepconv1_act (Activation (None, 12, 12, 728)  0           add_16[0][0]                     \n",
            "__________________________________________________________________________________________________\n",
            "block6_sepconv1 (SeparableConv2 (None, 12, 12, 728)  536536      block6_sepconv1_act[0][0]        \n",
            "__________________________________________________________________________________________________\n",
            "block6_sepconv1_bn (BatchNormal (None, 12, 12, 728)  2912        block6_sepconv1[0][0]            \n",
            "__________________________________________________________________________________________________\n",
            "block6_sepconv2_act (Activation (None, 12, 12, 728)  0           block6_sepconv1_bn[0][0]         \n",
            "__________________________________________________________________________________________________\n",
            "block6_sepconv2 (SeparableConv2 (None, 12, 12, 728)  536536      block6_sepconv2_act[0][0]        \n",
            "__________________________________________________________________________________________________\n",
            "block6_sepconv2_bn (BatchNormal (None, 12, 12, 728)  2912        block6_sepconv2[0][0]            \n",
            "__________________________________________________________________________________________________\n",
            "block6_sepconv3_act (Activation (None, 12, 12, 728)  0           block6_sepconv2_bn[0][0]         \n",
            "__________________________________________________________________________________________________\n",
            "block6_sepconv3 (SeparableConv2 (None, 12, 12, 728)  536536      block6_sepconv3_act[0][0]        \n",
            "__________________________________________________________________________________________________\n",
            "block6_sepconv3_bn (BatchNormal (None, 12, 12, 728)  2912        block6_sepconv3[0][0]            \n",
            "__________________________________________________________________________________________________\n",
            "add_17 (Add)                    (None, 12, 12, 728)  0           block6_sepconv3_bn[0][0]         \n",
            "                                                                 add_16[0][0]                     \n",
            "__________________________________________________________________________________________________\n",
            "block7_sepconv1_act (Activation (None, 12, 12, 728)  0           add_17[0][0]                     \n",
            "__________________________________________________________________________________________________\n",
            "block7_sepconv1 (SeparableConv2 (None, 12, 12, 728)  536536      block7_sepconv1_act[0][0]        \n",
            "__________________________________________________________________________________________________\n",
            "block7_sepconv1_bn (BatchNormal (None, 12, 12, 728)  2912        block7_sepconv1[0][0]            \n",
            "__________________________________________________________________________________________________\n",
            "block7_sepconv2_act (Activation (None, 12, 12, 728)  0           block7_sepconv1_bn[0][0]         \n",
            "__________________________________________________________________________________________________\n",
            "block7_sepconv2 (SeparableConv2 (None, 12, 12, 728)  536536      block7_sepconv2_act[0][0]        \n",
            "__________________________________________________________________________________________________\n",
            "block7_sepconv2_bn (BatchNormal (None, 12, 12, 728)  2912        block7_sepconv2[0][0]            \n",
            "__________________________________________________________________________________________________\n",
            "block7_sepconv3_act (Activation (None, 12, 12, 728)  0           block7_sepconv2_bn[0][0]         \n",
            "__________________________________________________________________________________________________\n",
            "block7_sepconv3 (SeparableConv2 (None, 12, 12, 728)  536536      block7_sepconv3_act[0][0]        \n",
            "__________________________________________________________________________________________________\n",
            "block7_sepconv3_bn (BatchNormal (None, 12, 12, 728)  2912        block7_sepconv3[0][0]            \n",
            "__________________________________________________________________________________________________\n",
            "add_18 (Add)                    (None, 12, 12, 728)  0           block7_sepconv3_bn[0][0]         \n",
            "                                                                 add_17[0][0]                     \n",
            "__________________________________________________________________________________________________\n",
            "block8_sepconv1_act (Activation (None, 12, 12, 728)  0           add_18[0][0]                     \n",
            "__________________________________________________________________________________________________\n",
            "block8_sepconv1 (SeparableConv2 (None, 12, 12, 728)  536536      block8_sepconv1_act[0][0]        \n",
            "__________________________________________________________________________________________________\n",
            "block8_sepconv1_bn (BatchNormal (None, 12, 12, 728)  2912        block8_sepconv1[0][0]            \n",
            "__________________________________________________________________________________________________\n",
            "block8_sepconv2_act (Activation (None, 12, 12, 728)  0           block8_sepconv1_bn[0][0]         \n",
            "__________________________________________________________________________________________________\n",
            "block8_sepconv2 (SeparableConv2 (None, 12, 12, 728)  536536      block8_sepconv2_act[0][0]        \n",
            "__________________________________________________________________________________________________\n",
            "block8_sepconv2_bn (BatchNormal (None, 12, 12, 728)  2912        block8_sepconv2[0][0]            \n",
            "__________________________________________________________________________________________________\n",
            "block8_sepconv3_act (Activation (None, 12, 12, 728)  0           block8_sepconv2_bn[0][0]         \n",
            "__________________________________________________________________________________________________\n",
            "block8_sepconv3 (SeparableConv2 (None, 12, 12, 728)  536536      block8_sepconv3_act[0][0]        \n",
            "__________________________________________________________________________________________________\n",
            "block8_sepconv3_bn (BatchNormal (None, 12, 12, 728)  2912        block8_sepconv3[0][0]            \n",
            "__________________________________________________________________________________________________\n",
            "add_19 (Add)                    (None, 12, 12, 728)  0           block8_sepconv3_bn[0][0]         \n",
            "                                                                 add_18[0][0]                     \n",
            "__________________________________________________________________________________________________\n",
            "block9_sepconv1_act (Activation (None, 12, 12, 728)  0           add_19[0][0]                     \n",
            "__________________________________________________________________________________________________\n",
            "block9_sepconv1 (SeparableConv2 (None, 12, 12, 728)  536536      block9_sepconv1_act[0][0]        \n",
            "__________________________________________________________________________________________________\n",
            "block9_sepconv1_bn (BatchNormal (None, 12, 12, 728)  2912        block9_sepconv1[0][0]            \n",
            "__________________________________________________________________________________________________\n",
            "block9_sepconv2_act (Activation (None, 12, 12, 728)  0           block9_sepconv1_bn[0][0]         \n",
            "__________________________________________________________________________________________________\n",
            "block9_sepconv2 (SeparableConv2 (None, 12, 12, 728)  536536      block9_sepconv2_act[0][0]        \n",
            "__________________________________________________________________________________________________\n",
            "block9_sepconv2_bn (BatchNormal (None, 12, 12, 728)  2912        block9_sepconv2[0][0]            \n",
            "__________________________________________________________________________________________________\n",
            "block9_sepconv3_act (Activation (None, 12, 12, 728)  0           block9_sepconv2_bn[0][0]         \n",
            "__________________________________________________________________________________________________\n",
            "block9_sepconv3 (SeparableConv2 (None, 12, 12, 728)  536536      block9_sepconv3_act[0][0]        \n",
            "__________________________________________________________________________________________________\n",
            "block9_sepconv3_bn (BatchNormal (None, 12, 12, 728)  2912        block9_sepconv3[0][0]            \n",
            "__________________________________________________________________________________________________\n",
            "add_20 (Add)                    (None, 12, 12, 728)  0           block9_sepconv3_bn[0][0]         \n",
            "                                                                 add_19[0][0]                     \n",
            "__________________________________________________________________________________________________\n",
            "block10_sepconv1_act (Activatio (None, 12, 12, 728)  0           add_20[0][0]                     \n",
            "__________________________________________________________________________________________________\n",
            "block10_sepconv1 (SeparableConv (None, 12, 12, 728)  536536      block10_sepconv1_act[0][0]       \n",
            "__________________________________________________________________________________________________\n",
            "block10_sepconv1_bn (BatchNorma (None, 12, 12, 728)  2912        block10_sepconv1[0][0]           \n",
            "__________________________________________________________________________________________________\n",
            "block10_sepconv2_act (Activatio (None, 12, 12, 728)  0           block10_sepconv1_bn[0][0]        \n",
            "__________________________________________________________________________________________________\n",
            "block10_sepconv2 (SeparableConv (None, 12, 12, 728)  536536      block10_sepconv2_act[0][0]       \n",
            "__________________________________________________________________________________________________\n",
            "block10_sepconv2_bn (BatchNorma (None, 12, 12, 728)  2912        block10_sepconv2[0][0]           \n",
            "__________________________________________________________________________________________________\n",
            "block10_sepconv3_act (Activatio (None, 12, 12, 728)  0           block10_sepconv2_bn[0][0]        \n",
            "__________________________________________________________________________________________________\n",
            "block10_sepconv3 (SeparableConv (None, 12, 12, 728)  536536      block10_sepconv3_act[0][0]       \n",
            "__________________________________________________________________________________________________\n",
            "block10_sepconv3_bn (BatchNorma (None, 12, 12, 728)  2912        block10_sepconv3[0][0]           \n",
            "__________________________________________________________________________________________________\n",
            "add_21 (Add)                    (None, 12, 12, 728)  0           block10_sepconv3_bn[0][0]        \n",
            "                                                                 add_20[0][0]                     \n",
            "__________________________________________________________________________________________________\n",
            "block11_sepconv1_act (Activatio (None, 12, 12, 728)  0           add_21[0][0]                     \n",
            "__________________________________________________________________________________________________\n",
            "block11_sepconv1 (SeparableConv (None, 12, 12, 728)  536536      block11_sepconv1_act[0][0]       \n",
            "__________________________________________________________________________________________________\n",
            "block11_sepconv1_bn (BatchNorma (None, 12, 12, 728)  2912        block11_sepconv1[0][0]           \n",
            "__________________________________________________________________________________________________\n",
            "block11_sepconv2_act (Activatio (None, 12, 12, 728)  0           block11_sepconv1_bn[0][0]        \n",
            "__________________________________________________________________________________________________\n",
            "block11_sepconv2 (SeparableConv (None, 12, 12, 728)  536536      block11_sepconv2_act[0][0]       \n",
            "__________________________________________________________________________________________________\n",
            "block11_sepconv2_bn (BatchNorma (None, 12, 12, 728)  2912        block11_sepconv2[0][0]           \n",
            "__________________________________________________________________________________________________\n",
            "block11_sepconv3_act (Activatio (None, 12, 12, 728)  0           block11_sepconv2_bn[0][0]        \n",
            "__________________________________________________________________________________________________\n",
            "block11_sepconv3 (SeparableConv (None, 12, 12, 728)  536536      block11_sepconv3_act[0][0]       \n",
            "__________________________________________________________________________________________________\n",
            "block11_sepconv3_bn (BatchNorma (None, 12, 12, 728)  2912        block11_sepconv3[0][0]           \n",
            "__________________________________________________________________________________________________\n",
            "add_22 (Add)                    (None, 12, 12, 728)  0           block11_sepconv3_bn[0][0]        \n",
            "                                                                 add_21[0][0]                     \n",
            "__________________________________________________________________________________________________\n",
            "block12_sepconv1_act (Activatio (None, 12, 12, 728)  0           add_22[0][0]                     \n",
            "__________________________________________________________________________________________________\n",
            "block12_sepconv1 (SeparableConv (None, 12, 12, 728)  536536      block12_sepconv1_act[0][0]       \n",
            "__________________________________________________________________________________________________\n",
            "block12_sepconv1_bn (BatchNorma (None, 12, 12, 728)  2912        block12_sepconv1[0][0]           \n",
            "__________________________________________________________________________________________________\n",
            "block12_sepconv2_act (Activatio (None, 12, 12, 728)  0           block12_sepconv1_bn[0][0]        \n",
            "__________________________________________________________________________________________________\n",
            "block12_sepconv2 (SeparableConv (None, 12, 12, 728)  536536      block12_sepconv2_act[0][0]       \n",
            "__________________________________________________________________________________________________\n",
            "block12_sepconv2_bn (BatchNorma (None, 12, 12, 728)  2912        block12_sepconv2[0][0]           \n",
            "__________________________________________________________________________________________________\n",
            "block12_sepconv3_act (Activatio (None, 12, 12, 728)  0           block12_sepconv2_bn[0][0]        \n",
            "__________________________________________________________________________________________________\n",
            "block12_sepconv3 (SeparableConv (None, 12, 12, 728)  536536      block12_sepconv3_act[0][0]       \n",
            "__________________________________________________________________________________________________\n",
            "block12_sepconv3_bn (BatchNorma (None, 12, 12, 728)  2912        block12_sepconv3[0][0]           \n",
            "__________________________________________________________________________________________________\n",
            "add_23 (Add)                    (None, 12, 12, 728)  0           block12_sepconv3_bn[0][0]        \n",
            "                                                                 add_22[0][0]                     \n",
            "__________________________________________________________________________________________________\n",
            "block13_sepconv1_act (Activatio (None, 12, 12, 728)  0           add_23[0][0]                     \n",
            "__________________________________________________________________________________________________\n",
            "block13_sepconv1 (SeparableConv (None, 12, 12, 728)  536536      block13_sepconv1_act[0][0]       \n",
            "__________________________________________________________________________________________________\n",
            "block13_sepconv1_bn (BatchNorma (None, 12, 12, 728)  2912        block13_sepconv1[0][0]           \n",
            "__________________________________________________________________________________________________\n",
            "block13_sepconv2_act (Activatio (None, 12, 12, 728)  0           block13_sepconv1_bn[0][0]        \n",
            "__________________________________________________________________________________________________\n",
            "block13_sepconv2 (SeparableConv (None, 12, 12, 1024) 752024      block13_sepconv2_act[0][0]       \n",
            "__________________________________________________________________________________________________\n",
            "block13_sepconv2_bn (BatchNorma (None, 12, 12, 1024) 4096        block13_sepconv2[0][0]           \n",
            "__________________________________________________________________________________________________\n",
            "conv2d_8 (Conv2D)               (None, 6, 6, 1024)   745472      add_23[0][0]                     \n",
            "__________________________________________________________________________________________________\n",
            "block13_pool (MaxPooling2D)     (None, 6, 6, 1024)   0           block13_sepconv2_bn[0][0]        \n",
            "__________________________________________________________________________________________________\n",
            "batch_normalization_8 (BatchNor (None, 6, 6, 1024)   4096        conv2d_8[0][0]                   \n",
            "__________________________________________________________________________________________________\n",
            "add_24 (Add)                    (None, 6, 6, 1024)   0           block13_pool[0][0]               \n",
            "                                                                 batch_normalization_8[0][0]      \n",
            "__________________________________________________________________________________________________\n",
            "block14_sepconv1 (SeparableConv (None, 6, 6, 1536)   1582080     add_24[0][0]                     \n",
            "__________________________________________________________________________________________________\n",
            "block14_sepconv1_bn (BatchNorma (None, 6, 6, 1536)   6144        block14_sepconv1[0][0]           \n",
            "__________________________________________________________________________________________________\n",
            "block14_sepconv1_act (Activatio (None, 6, 6, 1536)   0           block14_sepconv1_bn[0][0]        \n",
            "__________________________________________________________________________________________________\n",
            "block14_sepconv2 (SeparableConv (None, 6, 6, 2048)   3159552     block14_sepconv1_act[0][0]       \n",
            "__________________________________________________________________________________________________\n",
            "block14_sepconv2_bn (BatchNorma (None, 6, 6, 2048)   8192        block14_sepconv2[0][0]           \n",
            "__________________________________________________________________________________________________\n",
            "block14_sepconv2_act (Activatio (None, 6, 6, 2048)   0           block14_sepconv2_bn[0][0]        \n",
            "==================================================================================================\n",
            "Total params: 20,861,480\n",
            "Trainable params: 6,788,384\n",
            "Non-trainable params: 14,073,096\n",
            "__________________________________________________________________________________________________\n"
          ],
          "name": "stdout"
        }
      ]
    },
    {
      "cell_type": "markdown",
      "metadata": {
        "id": "ewOtdrdIcQ_Z",
        "colab_type": "text"
      },
      "source": [
        "## Transfer learning"
      ]
    },
    {
      "cell_type": "code",
      "metadata": {
        "id": "Mmlx5dPxcUT_",
        "colab_type": "code",
        "colab": {
          "base_uri": "https://localhost:8080/",
          "height": 70
        },
        "outputId": "dc6d455b-5e3d-4b13-f6e2-4f67298af376"
      },
      "source": [
        "model = add_top(xception_base)\n",
        "setup_model(model, xception_base)"
      ],
      "execution_count": 26,
      "outputs": [
        {
          "output_type": "stream",
          "text": [
            "/usr/local/lib/python3.6/dist-packages/ipykernel_launcher.py:14: UserWarning: Update your `Model` call to the Keras 2 API: `Model(inputs=Tensor(\"in..., outputs=Tensor(\"de...)`\n",
            "  \n"
          ],
          "name": "stderr"
        }
      ]
    },
    {
      "cell_type": "markdown",
      "metadata": {
        "id": "XzED-feJdXGb",
        "colab_type": "text"
      },
      "source": [
        "# Training"
      ]
    },
    {
      "cell_type": "markdown",
      "metadata": {
        "id": "zmJsBxDmdZCX",
        "colab_type": "text"
      },
      "source": [
        "## Parameters"
      ]
    },
    {
      "cell_type": "code",
      "metadata": {
        "id": "I8odFQR7da-S",
        "colab_type": "code",
        "colab": {}
      },
      "source": [
        "epochs = 10"
      ],
      "execution_count": 27,
      "outputs": []
    },
    {
      "cell_type": "markdown",
      "metadata": {
        "id": "NsEmFve6cfec",
        "colab_type": "text"
      },
      "source": [
        "## Train the new layers"
      ]
    },
    {
      "cell_type": "code",
      "metadata": {
        "id": "h07FSu00cWYc",
        "colab_type": "code",
        "colab": {
          "base_uri": "https://localhost:8080/",
          "height": 692
        },
        "outputId": "bc8955fb-a08f-4959-fde7-d2945a8eb0ef"
      },
      "source": [
        "# Train our new top layer\n",
        "history1 = model.fit_generator(\n",
        "    train_generator,\n",
        "    steps_per_epoch = training_samples // batch_size,\n",
        "    epochs = epochs,\n",
        "    validation_data= validation_generator,\n",
        "    validation_steps = validation_samples // batch_size,\n",
        "    verbose = 1,\n",
        ")"
      ],
      "execution_count": 28,
      "outputs": [
        {
          "output_type": "stream",
          "text": [
            "Epoch 1/10\n",
            "1/9 [==>...........................] - ETA: 1:08 - loss: 2.3632 - accuracy: 0.0556"
          ],
          "name": "stdout"
        },
        {
          "output_type": "stream",
          "text": [
            "/usr/local/lib/python3.6/dist-packages/keras/utils/data_utils.py:616: UserWarning: The input 4 could not be retrieved. It could be because a worker has died.\n",
            "  UserWarning)\n"
          ],
          "name": "stderr"
        },
        {
          "output_type": "stream",
          "text": [
            "\b\b\b\b\b\b\b\b\b\b\b\b\b\b\b\b\b\b\b\b\b\b\b\b\b\b\b\b\b\b\b\b\b\b\b\b\b\b\b\b\b\b\b\b\b\b\b\b\b\b\b\b\b\b\b\b\b\b\b\b\b\b\b\b\b\b\b\b\b\b\b\b\b\b\b\b\b\b\b\b\b\b\r2/9 [=====>........................] - ETA: 4:05 - loss: 3.0388 - accuracy: 0.1087"
          ],
          "name": "stdout"
        },
        {
          "output_type": "stream",
          "text": [
            "/usr/local/lib/python3.6/dist-packages/keras/utils/data_utils.py:616: UserWarning: The input 0 could not be retrieved. It could be because a worker has died.\n",
            "  UserWarning)\n"
          ],
          "name": "stderr"
        },
        {
          "output_type": "stream",
          "text": [
            "\b\b\b\b\b\b\b\b\b\b\b\b\b\b\b\b\b\b\b\b\b\b\b\b\b\b\b\b\b\b\b\b\b\b\b\b\b\b\b\b\b\b\b\b\b\b\b\b\b\b\b\b\b\b\b\b\b\b\b\b\b\b\b\b\b\b\b\b\b\b\b\b\b\b\b\b\b\b\b\b\b\b\r3/9 [=========>....................] - ETA: 4:26 - loss: 3.0460 - accuracy: 0.1124"
          ],
          "name": "stdout"
        },
        {
          "output_type": "stream",
          "text": [
            "/usr/local/lib/python3.6/dist-packages/keras/utils/data_utils.py:616: UserWarning: The input 5 could not be retrieved. It could be because a worker has died.\n",
            "  UserWarning)\n"
          ],
          "name": "stderr"
        },
        {
          "output_type": "stream",
          "text": [
            "\b\b\b\b\b\b\b\b\b\b\b\b\b\b\b\b\b\b\b\b\b\b\b\b\b\b\b\b\b\b\b\b\b\b\b\b\b\b\b\b\b\b\b\b\b\b\b\b\b\b\b\b\b\b\b\b\b\b\b\b\b\b\b\b\b\b\b\b\b\b\b\b\b\b\b\b\b\b\b\b\b\b\r4/9 [============>.................] - ETA: 4:01 - loss: 2.8772 - accuracy: 0.1720"
          ],
          "name": "stdout"
        },
        {
          "output_type": "stream",
          "text": [
            "/usr/local/lib/python3.6/dist-packages/keras/utils/data_utils.py:616: UserWarning: The input 7 could not be retrieved. It could be because a worker has died.\n",
            "  UserWarning)\n"
          ],
          "name": "stderr"
        },
        {
          "output_type": "stream",
          "text": [
            "\b\b\b\b\b\b\b\b\b\b\b\b\b\b\b\b\b\b\b\b\b\b\b\b\b\b\b\b\b\b\b\b\b\b\b\b\b\b\b\b\b\b\b\b\b\b\b\b\b\b\b\b\b\b\b\b\b\b\b\b\b\b\b\b\b\b\b\b\b\b\b\b\b\b\b\b\b\b\b\b\b\b\r5/9 [===============>..............] - ETA: 3:21 - loss: 2.7054 - accuracy: 0.2068"
          ],
          "name": "stdout"
        },
        {
          "output_type": "stream",
          "text": [
            "/usr/local/lib/python3.6/dist-packages/keras/utils/data_utils.py:616: UserWarning: The input 2 could not be retrieved. It could be because a worker has died.\n",
            "  UserWarning)\n"
          ],
          "name": "stderr"
        },
        {
          "output_type": "stream",
          "text": [
            "\b\b\b\b\b\b\b\b\b\b\b\b\b\b\b\b\b\b\b\b\b\b\b\b\b\b\b\b\b\b\b\b\b\b\b\b\b\b\b\b\b\b\b\b\b\b\b\b\b\b\b\b\b\b\b\b\b\b\b\b\b\b\b\b\b\b\b\b\b\b\b\b\b\b\b\b\b\b\b\b\b\b\r6/9 [===================>..........] - ETA: 2:34 - loss: 2.6037 - accuracy: 0.2395"
          ],
          "name": "stdout"
        },
        {
          "output_type": "stream",
          "text": [
            "/usr/local/lib/python3.6/dist-packages/keras/utils/data_utils.py:616: UserWarning: The input 1 could not be retrieved. It could be because a worker has died.\n",
            "  UserWarning)\n"
          ],
          "name": "stderr"
        },
        {
          "output_type": "stream",
          "text": [
            "\b\b\b\b\b\b\b\b\b\b\b\b\b\b\b\b\b\b\b\b\b\b\b\b\b\b\b\b\b\b\b\b\b\b\b\b\b\b\b\b\b\b\b\b\b\b\b\b\b\b\b\b\b\b\b\b\b\b\b\b\b\b\b\b\b\b\b\b\b\b\b\b\b\b\b\b\b\b\b\b\b\b\r7/9 [======================>.......] - ETA: 1:43 - loss: 2.5172 - accuracy: 0.2669"
          ],
          "name": "stdout"
        },
        {
          "output_type": "stream",
          "text": [
            "/usr/local/lib/python3.6/dist-packages/keras/utils/data_utils.py:616: UserWarning: The input 6 could not be retrieved. It could be because a worker has died.\n",
            "  UserWarning)\n"
          ],
          "name": "stderr"
        },
        {
          "output_type": "stream",
          "text": [
            "\b\b\b\b\b\b\b\b\b\b\b\b\b\b\b\b\b\b\b\b\b\b\b\b\b\b\b\b\b\b\b\b\b\b\b\b\b\b\b\b\b\b\b\b\b\b\b\b\b\b\b\b\b\b\b\b\b\b\b\b\b\b\b\b\b\b\b\b\b\b\b\b\b\b\b\b\b\b\b\b\b\b\r8/9 [=========================>....] - ETA: 52s - loss: 2.3981 - accuracy: 0.3077 "
          ],
          "name": "stdout"
        },
        {
          "output_type": "stream",
          "text": [
            "/usr/local/lib/python3.6/dist-packages/keras/utils/data_utils.py:616: UserWarning: The input 3 could not be retrieved. It could be because a worker has died.\n",
            "  UserWarning)\n"
          ],
          "name": "stderr"
        },
        {
          "output_type": "stream",
          "text": [
            "\b\b\b\b\b\b\b\b\b\b\b\b\b\b\b\b\b\b\b\b\b\b\b\b\b\b\b\b\b\b\b\b\b\b\b\b\b\b\b\b\b\b\b\b\b\b\b\b\b\b\b\b\b\b\b\b\b\b\b\b\b\b\b\b\b\b\b\b\b\b\b\b\b\b\b\b\b\b\b\b\b\r9/9 [==============================] - 478s 53s/step - loss: 2.2934 - accuracy: 0.3456 - val_loss: 0.6453 - val_accuracy: 0.7958\n",
            "Epoch 2/10\n"
          ],
          "name": "stdout"
        },
        {
          "output_type": "stream",
          "text": [
            "/usr/local/lib/python3.6/dist-packages/keras/utils/data_utils.py:616: UserWarning: The input 8 could not be retrieved. It could be because a worker has died.\n",
            "  UserWarning)\n"
          ],
          "name": "stderr"
        },
        {
          "output_type": "stream",
          "text": [
            "9/9 [==============================] - 85s 9s/step - loss: 1.1737 - accuracy: 0.6871 - val_loss: 0.7124 - val_accuracy: 0.8224\n",
            "Epoch 3/10\n",
            "9/9 [==============================] - 32s 4s/step - loss: 1.0188 - accuracy: 0.7342 - val_loss: 1.0685 - val_accuracy: 0.8224\n",
            "Epoch 4/10\n",
            "9/9 [==============================] - 36s 4s/step - loss: 0.8137 - accuracy: 0.7638 - val_loss: 0.4969 - val_accuracy: 0.8292\n",
            "Epoch 5/10\n",
            "9/9 [==============================] - 36s 4s/step - loss: 0.5928 - accuracy: 0.8303 - val_loss: 0.7785 - val_accuracy: 0.7961\n",
            "Epoch 6/10\n",
            "9/9 [==============================] - 33s 4s/step - loss: 0.5837 - accuracy: 0.8315 - val_loss: 1.1834 - val_accuracy: 0.9276\n",
            "Epoch 7/10\n",
            "9/9 [==============================] - 33s 4s/step - loss: 0.6188 - accuracy: 0.8196 - val_loss: 1.1200 - val_accuracy: 0.7833\n",
            "Epoch 8/10\n",
            "9/9 [==============================] - 40s 4s/step - loss: 0.5938 - accuracy: 0.8287 - val_loss: 0.4237 - val_accuracy: 0.8947\n",
            "Epoch 9/10\n",
            "9/9 [==============================] - 29s 3s/step - loss: 0.4657 - accuracy: 0.8681 - val_loss: 0.4412 - val_accuracy: 0.9276\n",
            "Epoch 10/10\n",
            "9/9 [==============================] - 34s 4s/step - loss: 0.4148 - accuracy: 0.8701 - val_loss: 0.8427 - val_accuracy: 0.8667\n"
          ],
          "name": "stdout"
        },
        {
          "output_type": "execute_result",
          "data": {
            "text/plain": [
              "<keras.callbacks.callbacks.History at 0x7fddd6e37208>"
            ]
          },
          "metadata": {
            "tags": []
          },
          "execution_count": 28
        }
      ]
    },
    {
      "cell_type": "markdown",
      "metadata": {
        "id": "5CxaYJPmdu3H",
        "colab_type": "text"
      },
      "source": [
        "# Fine Tune"
      ]
    },
    {
      "cell_type": "markdown",
      "metadata": {
        "id": "bw6lhw3IeR6R",
        "colab_type": "text"
      },
      "source": [
        "## Main functions"
      ]
    },
    {
      "cell_type": "code",
      "metadata": {
        "id": "UJlre8ekeOwz",
        "colab_type": "code",
        "colab": {}
      },
      "source": [
        "# Setup model for fine tuning\n",
        "def setup_model(model, trainable):\n",
        "    # Freeze the un-trainable layers of the model base\n",
        "    for layer in model.layers[:(len(model.layers) - trainable)]:\n",
        "        layer.trainable = False\n",
        "\n",
        "    for layer in model.layers[(len(model.layers) - trainable):]:\n",
        "        layer.trainable = True\n",
        "\n",
        "    model.compile(\n",
        "        loss='categorical_crossentropy',\n",
        "        # Slower training rate for fine-tuning\n",
        "        optimizer=optimizers.SGD(lr=1e-4, momentum=0.9),\n",
        "        metrics=['accuracy']\n",
        "    )"
      ],
      "execution_count": 29,
      "outputs": []
    },
    {
      "cell_type": "markdown",
      "metadata": {
        "id": "HI1aGq_KdxEe",
        "colab_type": "text"
      },
      "source": [
        "## Parameters"
      ]
    },
    {
      "cell_type": "code",
      "metadata": {
        "id": "0_4CK7ymdydM",
        "colab_type": "code",
        "colab": {}
      },
      "source": [
        "epochs_ft = 10"
      ],
      "execution_count": 30,
      "outputs": []
    },
    {
      "cell_type": "markdown",
      "metadata": {
        "id": "fvfDKA_vecDB",
        "colab_type": "text"
      },
      "source": [
        "## Training"
      ]
    },
    {
      "cell_type": "code",
      "metadata": {
        "id": "I2o7GBvQei9d",
        "colab_type": "code",
        "colab": {}
      },
      "source": [
        "# Setup model to retrain our top layer plus block 13 and 14 of Xception\n",
        "setup_model(model, 19)"
      ],
      "execution_count": 31,
      "outputs": []
    },
    {
      "cell_type": "code",
      "metadata": {
        "id": "o8HM6K6behl5",
        "colab_type": "code",
        "colab": {
          "base_uri": "https://localhost:8080/",
          "height": 353
        },
        "outputId": "b09a156a-b438-4833-f366-3b208aab79bd"
      },
      "source": [
        "# Fine-tune the model\n",
        "history2 = model.fit_generator(\n",
        "    train_generator,\n",
        "    steps_per_epoch = training_samples // batch_size,\n",
        "    epochs = epochs_ft,\n",
        "    validation_data = validation_generator,\n",
        "    validation_steps = validation_samples // batch_size,\n",
        "    verbose=1,\n",
        ")"
      ],
      "execution_count": 33,
      "outputs": [
        {
          "output_type": "stream",
          "text": [
            "Epoch 1/10\n",
            "9/9 [==============================] - 40s 4s/step - loss: 0.3811 - accuracy: 0.8814 - val_loss: 0.8125 - val_accuracy: 0.8708\n",
            "Epoch 2/10\n",
            "9/9 [==============================] - 37s 4s/step - loss: 0.3543 - accuracy: 0.8981 - val_loss: 0.3323 - val_accuracy: 0.9342\n",
            "Epoch 3/10\n",
            "9/9 [==============================] - 29s 3s/step - loss: 0.3748 - accuracy: 0.8973 - val_loss: 1.0447 - val_accuracy: 0.8882\n",
            "Epoch 4/10\n",
            "9/9 [==============================] - 37s 4s/step - loss: 0.3270 - accuracy: 0.9167 - val_loss: 0.4141 - val_accuracy: 0.8917\n",
            "Epoch 5/10\n",
            "9/9 [==============================] - 32s 4s/step - loss: 0.3697 - accuracy: 0.8973 - val_loss: 0.4518 - val_accuracy: 0.9276\n",
            "Epoch 6/10\n",
            "9/9 [==============================] - 33s 4s/step - loss: 0.3464 - accuracy: 0.9028 - val_loss: 0.6359 - val_accuracy: 0.9013\n",
            "Epoch 7/10\n",
            "9/9 [==============================] - 34s 4s/step - loss: 0.3467 - accuracy: 0.9059 - val_loss: 0.4221 - val_accuracy: 0.9167\n",
            "Epoch 8/10\n",
            "9/9 [==============================] - 32s 4s/step - loss: 0.3519 - accuracy: 0.9098 - val_loss: 0.4846 - val_accuracy: 0.9211\n",
            "Epoch 9/10\n",
            "9/9 [==============================] - 31s 3s/step - loss: 0.3087 - accuracy: 0.9176 - val_loss: 0.7286 - val_accuracy: 0.9211\n",
            "Epoch 10/10\n",
            "9/9 [==============================] - 34s 4s/step - loss: 0.3337 - accuracy: 0.9141 - val_loss: 0.2606 - val_accuracy: 0.9250\n"
          ],
          "name": "stdout"
        }
      ]
    },
    {
      "cell_type": "markdown",
      "metadata": {
        "id": "TX0ehct4isp6",
        "colab_type": "text"
      },
      "source": [
        "# Diagrams"
      ]
    },
    {
      "cell_type": "code",
      "metadata": {
        "id": "5Qk9sxznjbWb",
        "colab_type": "code",
        "colab": {
          "base_uri": "https://localhost:8080/",
          "height": 1000
        },
        "outputId": "c44fa385-3145-4317-ddd2-ffc2b47f8e7f"
      },
      "source": [
        "SVG(model_to_dot(model, show_shapes = False, show_layer_names=True, rankdir='HB', dpi = 72).create(prog='dot', format='svg'))"
      ],
      "execution_count": 48,
      "outputs": [
        {
          "output_type": "execute_result",
          "data": {
            "text/plain": [
              "<IPython.core.display.SVG object>"
            ],
            "image/svg+xml": "<svg height=\"9243pt\" viewBox=\"0.00 0.00 636.00 9243.00\" width=\"636pt\" xmlns=\"http://www.w3.org/2000/svg\" xmlns:xlink=\"http://www.w3.org/1999/xlink\">\n<g class=\"graph\" id=\"graph0\" transform=\"scale(1 1) rotate(0) translate(4 9239)\">\n<title>G</title>\n<polygon fill=\"#ffffff\" points=\"-4,4 -4,-9239 632,-9239 632,4 -4,4\" stroke=\"transparent\"/>\n<!-- 140598680508904 -->\n<g class=\"node\" id=\"node1\">\n<title>140598680508904</title>\n<polygon fill=\"none\" points=\"177,-9198.5 177,-9234.5 310,-9234.5 310,-9198.5 177,-9198.5\" stroke=\"#000000\"/>\n<text fill=\"#000000\" font-family=\"Times,serif\" font-size=\"14.00\" text-anchor=\"middle\" x=\"243.5\" y=\"-9212.8\">input_2: InputLayer</text>\n</g>\n<!-- 140598680507728 -->\n<g class=\"node\" id=\"node2\">\n<title>140598680507728</title>\n<polygon fill=\"none\" points=\"164.5,-9125.5 164.5,-9161.5 322.5,-9161.5 322.5,-9125.5 164.5,-9125.5\" stroke=\"#000000\"/>\n<text fill=\"#000000\" font-family=\"Times,serif\" font-size=\"14.00\" text-anchor=\"middle\" x=\"243.5\" y=\"-9139.8\">block1_conv1: Conv2D</text>\n</g>\n<!-- 140598680508904&#45;&gt;140598680507728 -->\n<g class=\"edge\" id=\"edge1\">\n<title>140598680508904-&gt;140598680507728</title>\n<path d=\"M243.5,-9198.4551C243.5,-9190.3828 243.5,-9180.6764 243.5,-9171.6817\" fill=\"none\" stroke=\"#000000\"/>\n<polygon fill=\"#000000\" points=\"247.0001,-9171.5903 243.5,-9161.5904 240.0001,-9171.5904 247.0001,-9171.5903\" stroke=\"#000000\"/>\n</g>\n<!-- 140598680507336 -->\n<g class=\"node\" id=\"node3\">\n<title>140598680507336</title>\n<polygon fill=\"none\" points=\"121,-9052.5 121,-9088.5 366,-9088.5 366,-9052.5 121,-9052.5\" stroke=\"#000000\"/>\n<text fill=\"#000000\" font-family=\"Times,serif\" font-size=\"14.00\" text-anchor=\"middle\" x=\"243.5\" y=\"-9066.8\">block1_conv1_bn: BatchNormalization</text>\n</g>\n<!-- 140598680507728&#45;&gt;140598680507336 -->\n<g class=\"edge\" id=\"edge2\">\n<title>140598680507728-&gt;140598680507336</title>\n<path d=\"M243.5,-9125.4551C243.5,-9117.3828 243.5,-9107.6764 243.5,-9098.6817\" fill=\"none\" stroke=\"#000000\"/>\n<polygon fill=\"#000000\" points=\"247.0001,-9098.5903 243.5,-9088.5904 240.0001,-9098.5904 247.0001,-9098.5903\" stroke=\"#000000\"/>\n</g>\n<!-- 140598680510192 -->\n<g class=\"node\" id=\"node4\">\n<title>140598680510192</title>\n<polygon fill=\"none\" points=\"148.5,-8979.5 148.5,-9015.5 338.5,-9015.5 338.5,-8979.5 148.5,-8979.5\" stroke=\"#000000\"/>\n<text fill=\"#000000\" font-family=\"Times,serif\" font-size=\"14.00\" text-anchor=\"middle\" x=\"243.5\" y=\"-8993.8\">block1_conv1_act: Activation</text>\n</g>\n<!-- 140598680507336&#45;&gt;140598680510192 -->\n<g class=\"edge\" id=\"edge3\">\n<title>140598680507336-&gt;140598680510192</title>\n<path d=\"M243.5,-9052.4551C243.5,-9044.3828 243.5,-9034.6764 243.5,-9025.6817\" fill=\"none\" stroke=\"#000000\"/>\n<polygon fill=\"#000000\" points=\"247.0001,-9025.5903 243.5,-9015.5904 240.0001,-9025.5904 247.0001,-9025.5903\" stroke=\"#000000\"/>\n</g>\n<!-- 140598680509408 -->\n<g class=\"node\" id=\"node5\">\n<title>140598680509408</title>\n<polygon fill=\"none\" points=\"164.5,-8906.5 164.5,-8942.5 322.5,-8942.5 322.5,-8906.5 164.5,-8906.5\" stroke=\"#000000\"/>\n<text fill=\"#000000\" font-family=\"Times,serif\" font-size=\"14.00\" text-anchor=\"middle\" x=\"243.5\" y=\"-8920.8\">block1_conv2: Conv2D</text>\n</g>\n<!-- 140598680510192&#45;&gt;140598680509408 -->\n<g class=\"edge\" id=\"edge4\">\n<title>140598680510192-&gt;140598680509408</title>\n<path d=\"M243.5,-8979.4551C243.5,-8971.3828 243.5,-8961.6764 243.5,-8952.6817\" fill=\"none\" stroke=\"#000000\"/>\n<polygon fill=\"#000000\" points=\"247.0001,-8952.5903 243.5,-8942.5904 240.0001,-8952.5904 247.0001,-8952.5903\" stroke=\"#000000\"/>\n</g>\n<!-- 140598680448640 -->\n<g class=\"node\" id=\"node6\">\n<title>140598680448640</title>\n<polygon fill=\"none\" points=\"121,-8833.5 121,-8869.5 366,-8869.5 366,-8833.5 121,-8833.5\" stroke=\"#000000\"/>\n<text fill=\"#000000\" font-family=\"Times,serif\" font-size=\"14.00\" text-anchor=\"middle\" x=\"243.5\" y=\"-8847.8\">block1_conv2_bn: BatchNormalization</text>\n</g>\n<!-- 140598680509408&#45;&gt;140598680448640 -->\n<g class=\"edge\" id=\"edge5\">\n<title>140598680509408-&gt;140598680448640</title>\n<path d=\"M243.5,-8906.4551C243.5,-8898.3828 243.5,-8888.6764 243.5,-8879.6817\" fill=\"none\" stroke=\"#000000\"/>\n<polygon fill=\"#000000\" points=\"247.0001,-8879.5903 243.5,-8869.5904 240.0001,-8879.5904 247.0001,-8879.5903\" stroke=\"#000000\"/>\n</g>\n<!-- 140598679961216 -->\n<g class=\"node\" id=\"node7\">\n<title>140598679961216</title>\n<polygon fill=\"none\" points=\"148.5,-8760.5 148.5,-8796.5 338.5,-8796.5 338.5,-8760.5 148.5,-8760.5\" stroke=\"#000000\"/>\n<text fill=\"#000000\" font-family=\"Times,serif\" font-size=\"14.00\" text-anchor=\"middle\" x=\"243.5\" y=\"-8774.8\">block1_conv2_act: Activation</text>\n</g>\n<!-- 140598680448640&#45;&gt;140598679961216 -->\n<g class=\"edge\" id=\"edge6\">\n<title>140598680448640-&gt;140598679961216</title>\n<path d=\"M243.5,-8833.4551C243.5,-8825.3828 243.5,-8815.6764 243.5,-8806.6817\" fill=\"none\" stroke=\"#000000\"/>\n<polygon fill=\"#000000\" points=\"247.0001,-8806.5903 243.5,-8796.5904 240.0001,-8806.5904 247.0001,-8806.5903\" stroke=\"#000000\"/>\n</g>\n<!-- 140598680140992 -->\n<g class=\"node\" id=\"node8\">\n<title>140598680140992</title>\n<polygon fill=\"none\" points=\"55.5,-8687.5 55.5,-8723.5 287.5,-8723.5 287.5,-8687.5 55.5,-8687.5\" stroke=\"#000000\"/>\n<text fill=\"#000000\" font-family=\"Times,serif\" font-size=\"14.00\" text-anchor=\"middle\" x=\"171.5\" y=\"-8701.8\">block2_sepconv1: SeparableConv2D</text>\n</g>\n<!-- 140598679961216&#45;&gt;140598680140992 -->\n<g class=\"edge\" id=\"edge7\">\n<title>140598679961216-&gt;140598680140992</title>\n<path d=\"M225.7022,-8760.4551C216.8752,-8751.5054 206.0669,-8740.547 196.4307,-8730.7769\" fill=\"none\" stroke=\"#000000\"/>\n<polygon fill=\"#000000\" points=\"198.8566,-8728.2523 189.3425,-8723.5904 193.8728,-8733.1678 198.8566,-8728.2523\" stroke=\"#000000\"/>\n</g>\n<!-- 140598680039152 -->\n<g class=\"node\" id=\"node13\">\n<title>140598680039152</title>\n<polygon fill=\"none\" points=\"295,-8614.5 295,-8650.5 428,-8650.5 428,-8614.5 295,-8614.5\" stroke=\"#000000\"/>\n<text fill=\"#000000\" font-family=\"Times,serif\" font-size=\"14.00\" text-anchor=\"middle\" x=\"361.5\" y=\"-8628.8\">conv2d_5: Conv2D</text>\n</g>\n<!-- 140598679961216&#45;&gt;140598680039152 -->\n<g class=\"edge\" id=\"edge12\">\n<title>140598679961216-&gt;140598680039152</title>\n<path d=\"M262.3869,-8760.4961C272.8508,-8750.1794 285.8563,-8736.7772 296.5,-8724 313.9418,-8703.062 331.7253,-8677.6935 344.272,-8658.984\" fill=\"none\" stroke=\"#000000\"/>\n<polygon fill=\"#000000\" points=\"347.1972,-8660.9058 349.8168,-8650.6399 341.367,-8657.0315 347.1972,-8660.9058\" stroke=\"#000000\"/>\n</g>\n<!-- 140598679825488 -->\n<g class=\"node\" id=\"node9\">\n<title>140598679825488</title>\n<polygon fill=\"none\" points=\"4,-8614.5 4,-8650.5 267,-8650.5 267,-8614.5 4,-8614.5\" stroke=\"#000000\"/>\n<text fill=\"#000000\" font-family=\"Times,serif\" font-size=\"14.00\" text-anchor=\"middle\" x=\"135.5\" y=\"-8628.8\">block2_sepconv1_bn: BatchNormalization</text>\n</g>\n<!-- 140598680140992&#45;&gt;140598679825488 -->\n<g class=\"edge\" id=\"edge8\">\n<title>140598680140992-&gt;140598679825488</title>\n<path d=\"M162.6011,-8687.4551C158.4905,-8679.1196 153.5205,-8669.0416 148.9651,-8659.8042\" fill=\"none\" stroke=\"#000000\"/>\n<polygon fill=\"#000000\" points=\"151.9833,-8658.011 144.4213,-8650.5904 145.7052,-8661.1071 151.9833,-8658.011\" stroke=\"#000000\"/>\n</g>\n<!-- 140598679856968 -->\n<g class=\"node\" id=\"node10\">\n<title>140598679856968</title>\n<polygon fill=\"none\" points=\"10,-8541.5 10,-8577.5 219,-8577.5 219,-8541.5 10,-8541.5\" stroke=\"#000000\"/>\n<text fill=\"#000000\" font-family=\"Times,serif\" font-size=\"14.00\" text-anchor=\"middle\" x=\"114.5\" y=\"-8555.8\">block2_sepconv2_act: Activation</text>\n</g>\n<!-- 140598679825488&#45;&gt;140598679856968 -->\n<g class=\"edge\" id=\"edge9\">\n<title>140598679825488-&gt;140598679856968</title>\n<path d=\"M130.309,-8614.4551C127.9616,-8606.2951 125.1338,-8596.4652 122.5228,-8587.3887\" fill=\"none\" stroke=\"#000000\"/>\n<polygon fill=\"#000000\" points=\"125.8323,-8586.233 119.7041,-8577.5904 119.1052,-8588.1683 125.8323,-8586.233\" stroke=\"#000000\"/>\n</g>\n<!-- 140598679395632 -->\n<g class=\"node\" id=\"node11\">\n<title>140598679395632</title>\n<polygon fill=\"none\" points=\"22.5,-8468.5 22.5,-8504.5 254.5,-8504.5 254.5,-8468.5 22.5,-8468.5\" stroke=\"#000000\"/>\n<text fill=\"#000000\" font-family=\"Times,serif\" font-size=\"14.00\" text-anchor=\"middle\" x=\"138.5\" y=\"-8482.8\">block2_sepconv2: SeparableConv2D</text>\n</g>\n<!-- 140598679856968&#45;&gt;140598679395632 -->\n<g class=\"edge\" id=\"edge10\">\n<title>140598679856968-&gt;140598679395632</title>\n<path d=\"M120.4326,-8541.4551C123.1442,-8533.2074 126.4166,-8523.2536 129.4273,-8514.0962\" fill=\"none\" stroke=\"#000000\"/>\n<polygon fill=\"#000000\" points=\"132.7541,-8515.1833 132.5525,-8504.5904 126.1043,-8512.997 132.7541,-8515.1833\" stroke=\"#000000\"/>\n</g>\n<!-- 140598679473344 -->\n<g class=\"node\" id=\"node12\">\n<title>140598679473344</title>\n<polygon fill=\"none\" points=\"56,-8395.5 56,-8431.5 319,-8431.5 319,-8395.5 56,-8395.5\" stroke=\"#000000\"/>\n<text fill=\"#000000\" font-family=\"Times,serif\" font-size=\"14.00\" text-anchor=\"middle\" x=\"187.5\" y=\"-8409.8\">block2_sepconv2_bn: BatchNormalization</text>\n</g>\n<!-- 140598679395632&#45;&gt;140598679473344 -->\n<g class=\"edge\" id=\"edge11\">\n<title>140598679395632-&gt;140598679473344</title>\n<path d=\"M150.6124,-8468.4551C156.3841,-8459.8564 163.4005,-8449.4034 169.7582,-8439.9316\" fill=\"none\" stroke=\"#000000\"/>\n<polygon fill=\"#000000\" points=\"172.6899,-8441.844 175.3572,-8431.5904 166.8778,-8437.9427 172.6899,-8441.844\" stroke=\"#000000\"/>\n</g>\n<!-- 140598679580232 -->\n<g class=\"node\" id=\"node14\">\n<title>140598679580232</title>\n<polygon fill=\"none\" points=\"118.5,-8322.5 118.5,-8358.5 306.5,-8358.5 306.5,-8322.5 118.5,-8322.5\" stroke=\"#000000\"/>\n<text fill=\"#000000\" font-family=\"Times,serif\" font-size=\"14.00\" text-anchor=\"middle\" x=\"212.5\" y=\"-8336.8\">block2_pool: MaxPooling2D</text>\n</g>\n<!-- 140598679473344&#45;&gt;140598679580232 -->\n<g class=\"edge\" id=\"edge13\">\n<title>140598679473344-&gt;140598679580232</title>\n<path d=\"M193.6798,-8395.4551C196.5043,-8387.2074 199.9132,-8377.2536 203.0493,-8368.0962\" fill=\"none\" stroke=\"#000000\"/>\n<polygon fill=\"#000000\" points=\"206.3759,-8369.185 206.3047,-8358.5904 199.7535,-8366.917 206.3759,-8369.185\" stroke=\"#000000\"/>\n</g>\n<!-- 140598680039376 -->\n<g class=\"node\" id=\"node15\">\n<title>140598680039376</title>\n<polygon fill=\"none\" points=\"237,-8541.5 237,-8577.5 508,-8577.5 508,-8541.5 237,-8541.5\" stroke=\"#000000\"/>\n<text fill=\"#000000\" font-family=\"Times,serif\" font-size=\"14.00\" text-anchor=\"middle\" x=\"372.5\" y=\"-8555.8\">batch_normalization_5: BatchNormalization</text>\n</g>\n<!-- 140598680039152&#45;&gt;140598680039376 -->\n<g class=\"edge\" id=\"edge14\">\n<title>140598680039152-&gt;140598680039376</title>\n<path d=\"M364.2191,-8614.4551C365.4355,-8606.3828 366.8981,-8596.6764 368.2534,-8587.6817\" fill=\"none\" stroke=\"#000000\"/>\n<polygon fill=\"#000000\" points=\"371.7449,-8588.0003 369.7741,-8577.5904 364.823,-8586.9572 371.7449,-8588.0003\" stroke=\"#000000\"/>\n</g>\n<!-- 140598679580344 -->\n<g class=\"node\" id=\"node16\">\n<title>140598679580344</title>\n<polygon fill=\"none\" points=\"227.5,-8249.5 227.5,-8285.5 319.5,-8285.5 319.5,-8249.5 227.5,-8249.5\" stroke=\"#000000\"/>\n<text fill=\"#000000\" font-family=\"Times,serif\" font-size=\"14.00\" text-anchor=\"middle\" x=\"273.5\" y=\"-8263.8\">add_13: Add</text>\n</g>\n<!-- 140598679580232&#45;&gt;140598679580344 -->\n<g class=\"edge\" id=\"edge15\">\n<title>140598679580232-&gt;140598679580344</title>\n<path d=\"M227.5787,-8322.4551C234.9105,-8313.6809 243.8557,-8302.9759 251.8968,-8293.353\" fill=\"none\" stroke=\"#000000\"/>\n<polygon fill=\"#000000\" points=\"254.6569,-8295.5082 258.3834,-8285.5904 249.2854,-8291.0197 254.6569,-8295.5082\" stroke=\"#000000\"/>\n</g>\n<!-- 140598680039376&#45;&gt;140598679580344 -->\n<g class=\"edge\" id=\"edge16\">\n<title>140598680039376-&gt;140598679580344</title>\n<path d=\"M370.7629,-8541.361C366.297,-8500.4311 352.0872,-8398.5089 315.5,-8322 310.7354,-8312.0367 303.9344,-8302.1615 297.1892,-8293.6104\" fill=\"none\" stroke=\"#000000\"/>\n<polygon fill=\"#000000\" points=\"299.8653,-8291.3542 290.8076,-8285.8579 294.4608,-8295.803 299.8653,-8291.3542\" stroke=\"#000000\"/>\n</g>\n<!-- 140598679202000 -->\n<g class=\"node\" id=\"node17\">\n<title>140598679202000</title>\n<polygon fill=\"none\" points=\"103,-8176.5 103,-8212.5 312,-8212.5 312,-8176.5 103,-8176.5\" stroke=\"#000000\"/>\n<text fill=\"#000000\" font-family=\"Times,serif\" font-size=\"14.00\" text-anchor=\"middle\" x=\"207.5\" y=\"-8190.8\">block3_sepconv1_act: Activation</text>\n</g>\n<!-- 140598679580344&#45;&gt;140598679202000 -->\n<g class=\"edge\" id=\"edge17\">\n<title>140598679580344-&gt;140598679202000</title>\n<path d=\"M257.1854,-8249.4551C249.1733,-8240.5932 239.3804,-8229.7616 230.6132,-8220.0646\" fill=\"none\" stroke=\"#000000\"/>\n<polygon fill=\"#000000\" points=\"233.1584,-8217.6609 223.8557,-8212.5904 227.9659,-8222.3554 233.1584,-8217.6609\" stroke=\"#000000\"/>\n</g>\n<!-- 140598679600824 -->\n<g class=\"node\" id=\"node23\">\n<title>140598679600824</title>\n<polygon fill=\"none\" points=\"329,-8103.5 329,-8139.5 462,-8139.5 462,-8103.5 329,-8103.5\" stroke=\"#000000\"/>\n<text fill=\"#000000\" font-family=\"Times,serif\" font-size=\"14.00\" text-anchor=\"middle\" x=\"395.5\" y=\"-8117.8\">conv2d_6: Conv2D</text>\n</g>\n<!-- 140598679580344&#45;&gt;140598679600824 -->\n<g class=\"edge\" id=\"edge23\">\n<title>140598679580344-&gt;140598679600824</title>\n<path d=\"M289.2809,-8249.4306C298.4579,-8238.8658 310.2079,-8225.2408 320.5,-8213 338.8407,-8191.1867 359.332,-8166.14 374.2551,-8147.7727\" fill=\"none\" stroke=\"#000000\"/>\n<polygon fill=\"#000000\" points=\"377.1093,-8149.81 380.692,-8139.8393 371.6734,-8145.3995 377.1093,-8149.81\" stroke=\"#000000\"/>\n</g>\n<!-- 140598679264392 -->\n<g class=\"node\" id=\"node18\">\n<title>140598679264392</title>\n<polygon fill=\"none\" points=\"57.5,-8103.5 57.5,-8139.5 289.5,-8139.5 289.5,-8103.5 57.5,-8103.5\" stroke=\"#000000\"/>\n<text fill=\"#000000\" font-family=\"Times,serif\" font-size=\"14.00\" text-anchor=\"middle\" x=\"173.5\" y=\"-8117.8\">block3_sepconv1: SeparableConv2D</text>\n</g>\n<!-- 140598679202000&#45;&gt;140598679264392 -->\n<g class=\"edge\" id=\"edge18\">\n<title>140598679202000-&gt;140598679264392</title>\n<path d=\"M199.0955,-8176.4551C195.2132,-8168.1196 190.5194,-8158.0416 186.217,-8148.8042\" fill=\"none\" stroke=\"#000000\"/>\n<polygon fill=\"#000000\" points=\"189.3205,-8147.1776 181.9256,-8139.5904 182.975,-8150.1331 189.3205,-8147.1776\" stroke=\"#000000\"/>\n</g>\n<!-- 140598679265120 -->\n<g class=\"node\" id=\"node19\">\n<title>140598679265120</title>\n<polygon fill=\"none\" points=\"0,-8030.5 0,-8066.5 263,-8066.5 263,-8030.5 0,-8030.5\" stroke=\"#000000\"/>\n<text fill=\"#000000\" font-family=\"Times,serif\" font-size=\"14.00\" text-anchor=\"middle\" x=\"131.5\" y=\"-8044.8\">block3_sepconv1_bn: BatchNormalization</text>\n</g>\n<!-- 140598679264392&#45;&gt;140598679265120 -->\n<g class=\"edge\" id=\"edge19\">\n<title>140598679264392-&gt;140598679265120</title>\n<path d=\"M163.118,-8103.4551C158.2718,-8095.0319 152.4018,-8084.8292 147.0416,-8075.5128\" fill=\"none\" stroke=\"#000000\"/>\n<polygon fill=\"#000000\" points=\"149.9289,-8073.5127 141.9082,-8066.5904 143.8614,-8077.0036 149.9289,-8073.5127\" stroke=\"#000000\"/>\n</g>\n<!-- 140598678937384 -->\n<g class=\"node\" id=\"node20\">\n<title>140598678937384</title>\n<polygon fill=\"none\" points=\"89,-7957.5 89,-7993.5 298,-7993.5 298,-7957.5 89,-7957.5\" stroke=\"#000000\"/>\n<text fill=\"#000000\" font-family=\"Times,serif\" font-size=\"14.00\" text-anchor=\"middle\" x=\"193.5\" y=\"-7971.8\">block3_sepconv2_act: Activation</text>\n</g>\n<!-- 140598679265120&#45;&gt;140598678937384 -->\n<g class=\"edge\" id=\"edge20\">\n<title>140598679265120-&gt;140598678937384</title>\n<path d=\"M146.8258,-8030.4551C154.2779,-8021.6809 163.3698,-8010.9759 171.5427,-8001.353\" fill=\"none\" stroke=\"#000000\"/>\n<polygon fill=\"#000000\" points=\"174.3298,-8003.4781 178.1356,-7993.5904 168.9944,-7998.9466 174.3298,-8003.4781\" stroke=\"#000000\"/>\n</g>\n<!-- 140598678937496 -->\n<g class=\"node\" id=\"node21\">\n<title>140598678937496</title>\n<polygon fill=\"none\" points=\"108.5,-7884.5 108.5,-7920.5 340.5,-7920.5 340.5,-7884.5 108.5,-7884.5\" stroke=\"#000000\"/>\n<text fill=\"#000000\" font-family=\"Times,serif\" font-size=\"14.00\" text-anchor=\"middle\" x=\"224.5\" y=\"-7898.8\">block3_sepconv2: SeparableConv2D</text>\n</g>\n<!-- 140598678937384&#45;&gt;140598678937496 -->\n<g class=\"edge\" id=\"edge21\">\n<title>140598678937384-&gt;140598678937496</title>\n<path d=\"M201.1629,-7957.4551C204.7026,-7949.1196 208.9823,-7939.0416 212.9051,-7929.8042\" fill=\"none\" stroke=\"#000000\"/>\n<polygon fill=\"#000000\" points=\"216.1306,-7931.1629 216.8178,-7920.5904 209.6874,-7928.4267 216.1306,-7931.1629\" stroke=\"#000000\"/>\n</g>\n<!-- 140598679026208 -->\n<g class=\"node\" id=\"node22\">\n<title>140598679026208</title>\n<polygon fill=\"none\" points=\"109,-7811.5 109,-7847.5 372,-7847.5 372,-7811.5 109,-7811.5\" stroke=\"#000000\"/>\n<text fill=\"#000000\" font-family=\"Times,serif\" font-size=\"14.00\" text-anchor=\"middle\" x=\"240.5\" y=\"-7825.8\">block3_sepconv2_bn: BatchNormalization</text>\n</g>\n<!-- 140598678937496&#45;&gt;140598679026208 -->\n<g class=\"edge\" id=\"edge22\">\n<title>140598678937496-&gt;140598679026208</title>\n<path d=\"M228.4551,-7884.4551C230.2435,-7876.2951 232.398,-7866.4652 234.3874,-7857.3887\" fill=\"none\" stroke=\"#000000\"/>\n<polygon fill=\"#000000\" points=\"237.8128,-7858.1079 236.535,-7847.5904 230.9751,-7856.6091 237.8128,-7858.1079\" stroke=\"#000000\"/>\n</g>\n<!-- 140598678624912 -->\n<g class=\"node\" id=\"node24\">\n<title>140598678624912</title>\n<polygon fill=\"none\" points=\"173.5,-7738.5 173.5,-7774.5 361.5,-7774.5 361.5,-7738.5 173.5,-7738.5\" stroke=\"#000000\"/>\n<text fill=\"#000000\" font-family=\"Times,serif\" font-size=\"14.00\" text-anchor=\"middle\" x=\"267.5\" y=\"-7752.8\">block3_pool: MaxPooling2D</text>\n</g>\n<!-- 140598679026208&#45;&gt;140598678624912 -->\n<g class=\"edge\" id=\"edge24\">\n<title>140598679026208-&gt;140598678624912</title>\n<path d=\"M247.1742,-7811.4551C250.2247,-7803.2074 253.9062,-7793.2536 257.2932,-7784.0962\" fill=\"none\" stroke=\"#000000\"/>\n<polygon fill=\"#000000\" points=\"260.6227,-7785.1836 260.809,-7774.5904 254.0574,-7782.7552 260.6227,-7785.1836\" stroke=\"#000000\"/>\n</g>\n<!-- 140598679153464 -->\n<g class=\"node\" id=\"node25\">\n<title>140598679153464</title>\n<polygon fill=\"none\" points=\"281,-8030.5 281,-8066.5 552,-8066.5 552,-8030.5 281,-8030.5\" stroke=\"#000000\"/>\n<text fill=\"#000000\" font-family=\"Times,serif\" font-size=\"14.00\" text-anchor=\"middle\" x=\"416.5\" y=\"-8044.8\">batch_normalization_6: BatchNormalization</text>\n</g>\n<!-- 140598679600824&#45;&gt;140598679153464 -->\n<g class=\"edge\" id=\"edge25\">\n<title>140598679600824-&gt;140598679153464</title>\n<path d=\"M400.691,-8103.4551C403.0384,-8095.2951 405.8662,-8085.4652 408.4772,-8076.3887\" fill=\"none\" stroke=\"#000000\"/>\n<polygon fill=\"#000000\" points=\"411.8948,-8077.1683 411.2959,-8066.5904 405.1677,-8075.233 411.8948,-8077.1683\" stroke=\"#000000\"/>\n</g>\n<!-- 140598678624856 -->\n<g class=\"node\" id=\"node26\">\n<title>140598678624856</title>\n<polygon fill=\"none\" points=\"282.5,-7665.5 282.5,-7701.5 374.5,-7701.5 374.5,-7665.5 282.5,-7665.5\" stroke=\"#000000\"/>\n<text fill=\"#000000\" font-family=\"Times,serif\" font-size=\"14.00\" text-anchor=\"middle\" x=\"328.5\" y=\"-7679.8\">add_14: Add</text>\n</g>\n<!-- 140598678624912&#45;&gt;140598678624856 -->\n<g class=\"edge\" id=\"edge26\">\n<title>140598678624912-&gt;140598678624856</title>\n<path d=\"M282.5787,-7738.4551C289.9105,-7729.6809 298.8557,-7718.9759 306.8968,-7709.353\" fill=\"none\" stroke=\"#000000\"/>\n<polygon fill=\"#000000\" points=\"309.6569,-7711.5082 313.3834,-7701.5904 304.2854,-7707.0197 309.6569,-7711.5082\" stroke=\"#000000\"/>\n</g>\n<!-- 140598679153464&#45;&gt;140598678624856 -->\n<g class=\"edge\" id=\"edge27\">\n<title>140598679153464-&gt;140598678624856</title>\n<path d=\"M414.8424,-8030.0798C412.4991,-8002.4066 408.5,-7948.4473 408.5,-7902.5 408.5,-7902.5 408.5,-7902.5 408.5,-7829.5 408.5,-7782.6749 376.4608,-7736.6441 352.9339,-7709.1553\" fill=\"none\" stroke=\"#000000\"/>\n<polygon fill=\"#000000\" points=\"355.4914,-7706.7635 346.2546,-7701.5739 350.239,-7711.391 355.4914,-7706.7635\" stroke=\"#000000\"/>\n</g>\n<!-- 140598678779720 -->\n<g class=\"node\" id=\"node27\">\n<title>140598678779720</title>\n<polygon fill=\"none\" points=\"158,-7592.5 158,-7628.5 367,-7628.5 367,-7592.5 158,-7592.5\" stroke=\"#000000\"/>\n<text fill=\"#000000\" font-family=\"Times,serif\" font-size=\"14.00\" text-anchor=\"middle\" x=\"262.5\" y=\"-7606.8\">block4_sepconv1_act: Activation</text>\n</g>\n<!-- 140598678624856&#45;&gt;140598678779720 -->\n<g class=\"edge\" id=\"edge28\">\n<title>140598678624856-&gt;140598678779720</title>\n<path d=\"M312.1854,-7665.4551C304.1733,-7656.5932 294.3804,-7645.7616 285.6132,-7636.0646\" fill=\"none\" stroke=\"#000000\"/>\n<polygon fill=\"#000000\" points=\"288.1584,-7633.6609 278.8557,-7628.5904 282.9659,-7638.3554 288.1584,-7633.6609\" stroke=\"#000000\"/>\n</g>\n<!-- 140598678625528 -->\n<g class=\"node\" id=\"node33\">\n<title>140598678625528</title>\n<polygon fill=\"none\" points=\"384,-7519.5 384,-7555.5 517,-7555.5 517,-7519.5 384,-7519.5\" stroke=\"#000000\"/>\n<text fill=\"#000000\" font-family=\"Times,serif\" font-size=\"14.00\" text-anchor=\"middle\" x=\"450.5\" y=\"-7533.8\">conv2d_7: Conv2D</text>\n</g>\n<!-- 140598678624856&#45;&gt;140598678625528 -->\n<g class=\"edge\" id=\"edge34\">\n<title>140598678624856-&gt;140598678625528</title>\n<path d=\"M344.2809,-7665.4306C353.4579,-7654.8658 365.2079,-7641.2408 375.5,-7629 393.8407,-7607.1867 414.332,-7582.14 429.2551,-7563.7727\" fill=\"none\" stroke=\"#000000\"/>\n<polygon fill=\"#000000\" points=\"432.1093,-7565.81 435.692,-7555.8393 426.6734,-7561.3995 432.1093,-7565.81\" stroke=\"#000000\"/>\n</g>\n<!-- 140598678845536 -->\n<g class=\"node\" id=\"node28\">\n<title>140598678845536</title>\n<polygon fill=\"none\" points=\"112.5,-7519.5 112.5,-7555.5 344.5,-7555.5 344.5,-7519.5 112.5,-7519.5\" stroke=\"#000000\"/>\n<text fill=\"#000000\" font-family=\"Times,serif\" font-size=\"14.00\" text-anchor=\"middle\" x=\"228.5\" y=\"-7533.8\">block4_sepconv1: SeparableConv2D</text>\n</g>\n<!-- 140598678779720&#45;&gt;140598678845536 -->\n<g class=\"edge\" id=\"edge29\">\n<title>140598678779720-&gt;140598678845536</title>\n<path d=\"M254.0955,-7592.4551C250.2132,-7584.1196 245.5194,-7574.0416 241.217,-7564.8042\" fill=\"none\" stroke=\"#000000\"/>\n<polygon fill=\"#000000\" points=\"244.3205,-7563.1776 236.9256,-7555.5904 237.975,-7566.1331 244.3205,-7563.1776\" stroke=\"#000000\"/>\n</g>\n<!-- 140598678383304 -->\n<g class=\"node\" id=\"node29\">\n<title>140598678383304</title>\n<polygon fill=\"none\" points=\"55,-7446.5 55,-7482.5 318,-7482.5 318,-7446.5 55,-7446.5\" stroke=\"#000000\"/>\n<text fill=\"#000000\" font-family=\"Times,serif\" font-size=\"14.00\" text-anchor=\"middle\" x=\"186.5\" y=\"-7460.8\">block4_sepconv1_bn: BatchNormalization</text>\n</g>\n<!-- 140598678845536&#45;&gt;140598678383304 -->\n<g class=\"edge\" id=\"edge30\">\n<title>140598678845536-&gt;140598678383304</title>\n<path d=\"M218.118,-7519.4551C213.2718,-7511.0319 207.4018,-7500.8292 202.0416,-7491.5128\" fill=\"none\" stroke=\"#000000\"/>\n<polygon fill=\"#000000\" points=\"204.9289,-7489.5127 196.9082,-7482.5904 198.8614,-7493.0036 204.9289,-7489.5127\" stroke=\"#000000\"/>\n</g>\n<!-- 140598678502200 -->\n<g class=\"node\" id=\"node30\">\n<title>140598678502200</title>\n<polygon fill=\"none\" points=\"144,-7373.5 144,-7409.5 353,-7409.5 353,-7373.5 144,-7373.5\" stroke=\"#000000\"/>\n<text fill=\"#000000\" font-family=\"Times,serif\" font-size=\"14.00\" text-anchor=\"middle\" x=\"248.5\" y=\"-7387.8\">block4_sepconv2_act: Activation</text>\n</g>\n<!-- 140598678383304&#45;&gt;140598678502200 -->\n<g class=\"edge\" id=\"edge31\">\n<title>140598678383304-&gt;140598678502200</title>\n<path d=\"M201.8258,-7446.4551C209.2779,-7437.6809 218.3698,-7426.9759 226.5427,-7417.353\" fill=\"none\" stroke=\"#000000\"/>\n<polygon fill=\"#000000\" points=\"229.3298,-7419.4781 233.1356,-7409.5904 223.9944,-7414.9466 229.3298,-7419.4781\" stroke=\"#000000\"/>\n</g>\n<!-- 140598678502088 -->\n<g class=\"node\" id=\"node31\">\n<title>140598678502088</title>\n<polygon fill=\"none\" points=\"163.5,-7300.5 163.5,-7336.5 395.5,-7336.5 395.5,-7300.5 163.5,-7300.5\" stroke=\"#000000\"/>\n<text fill=\"#000000\" font-family=\"Times,serif\" font-size=\"14.00\" text-anchor=\"middle\" x=\"279.5\" y=\"-7314.8\">block4_sepconv2: SeparableConv2D</text>\n</g>\n<!-- 140598678502200&#45;&gt;140598678502088 -->\n<g class=\"edge\" id=\"edge32\">\n<title>140598678502200-&gt;140598678502088</title>\n<path d=\"M256.1629,-7373.4551C259.7026,-7365.1196 263.9823,-7355.0416 267.9051,-7345.8042\" fill=\"none\" stroke=\"#000000\"/>\n<polygon fill=\"#000000\" points=\"271.1306,-7347.1629 271.8178,-7336.5904 264.6874,-7344.4267 271.1306,-7347.1629\" stroke=\"#000000\"/>\n</g>\n<!-- 140598678522680 -->\n<g class=\"node\" id=\"node32\">\n<title>140598678522680</title>\n<polygon fill=\"none\" points=\"164,-7227.5 164,-7263.5 427,-7263.5 427,-7227.5 164,-7227.5\" stroke=\"#000000\"/>\n<text fill=\"#000000\" font-family=\"Times,serif\" font-size=\"14.00\" text-anchor=\"middle\" x=\"295.5\" y=\"-7241.8\">block4_sepconv2_bn: BatchNormalization</text>\n</g>\n<!-- 140598678502088&#45;&gt;140598678522680 -->\n<g class=\"edge\" id=\"edge33\">\n<title>140598678502088-&gt;140598678522680</title>\n<path d=\"M283.4551,-7300.4551C285.2435,-7292.2951 287.398,-7282.4652 289.3874,-7273.3887\" fill=\"none\" stroke=\"#000000\"/>\n<polygon fill=\"#000000\" points=\"292.8128,-7274.1079 291.535,-7263.5904 285.9751,-7272.6091 292.8128,-7274.1079\" stroke=\"#000000\"/>\n</g>\n<!-- 140598678191912 -->\n<g class=\"node\" id=\"node34\">\n<title>140598678191912</title>\n<polygon fill=\"none\" points=\"228.5,-7154.5 228.5,-7190.5 416.5,-7190.5 416.5,-7154.5 228.5,-7154.5\" stroke=\"#000000\"/>\n<text fill=\"#000000\" font-family=\"Times,serif\" font-size=\"14.00\" text-anchor=\"middle\" x=\"322.5\" y=\"-7168.8\">block4_pool: MaxPooling2D</text>\n</g>\n<!-- 140598678522680&#45;&gt;140598678191912 -->\n<g class=\"edge\" id=\"edge35\">\n<title>140598678522680-&gt;140598678191912</title>\n<path d=\"M302.1742,-7227.4551C305.2247,-7219.2074 308.9062,-7209.2536 312.2932,-7200.0962\" fill=\"none\" stroke=\"#000000\"/>\n<polygon fill=\"#000000\" points=\"315.6227,-7201.1836 315.809,-7190.5904 309.0574,-7198.7552 315.6227,-7201.1836\" stroke=\"#000000\"/>\n</g>\n<!-- 140598678726416 -->\n<g class=\"node\" id=\"node35\">\n<title>140598678726416</title>\n<polygon fill=\"none\" points=\"336,-7446.5 336,-7482.5 607,-7482.5 607,-7446.5 336,-7446.5\" stroke=\"#000000\"/>\n<text fill=\"#000000\" font-family=\"Times,serif\" font-size=\"14.00\" text-anchor=\"middle\" x=\"471.5\" y=\"-7460.8\">batch_normalization_7: BatchNormalization</text>\n</g>\n<!-- 140598678625528&#45;&gt;140598678726416 -->\n<g class=\"edge\" id=\"edge36\">\n<title>140598678625528-&gt;140598678726416</title>\n<path d=\"M455.691,-7519.4551C458.0384,-7511.2951 460.8662,-7501.4652 463.4772,-7492.3887\" fill=\"none\" stroke=\"#000000\"/>\n<polygon fill=\"#000000\" points=\"466.8948,-7493.1683 466.2959,-7482.5904 460.1677,-7491.233 466.8948,-7493.1683\" stroke=\"#000000\"/>\n</g>\n<!-- 140598678189616 -->\n<g class=\"node\" id=\"node36\">\n<title>140598678189616</title>\n<polygon fill=\"none\" points=\"337.5,-7081.5 337.5,-7117.5 429.5,-7117.5 429.5,-7081.5 337.5,-7081.5\" stroke=\"#000000\"/>\n<text fill=\"#000000\" font-family=\"Times,serif\" font-size=\"14.00\" text-anchor=\"middle\" x=\"383.5\" y=\"-7095.8\">add_15: Add</text>\n</g>\n<!-- 140598678191912&#45;&gt;140598678189616 -->\n<g class=\"edge\" id=\"edge37\">\n<title>140598678191912-&gt;140598678189616</title>\n<path d=\"M337.5787,-7154.4551C344.9105,-7145.6809 353.8557,-7134.9759 361.8968,-7125.353\" fill=\"none\" stroke=\"#000000\"/>\n<polygon fill=\"#000000\" points=\"364.6569,-7127.5082 368.3834,-7117.5904 359.2854,-7123.0197 364.6569,-7127.5082\" stroke=\"#000000\"/>\n</g>\n<!-- 140598678726416&#45;&gt;140598678189616 -->\n<g class=\"edge\" id=\"edge38\">\n<title>140598678726416-&gt;140598678189616</title>\n<path d=\"M469.8424,-7446.0798C467.4991,-7418.4066 463.5,-7364.4473 463.5,-7318.5 463.5,-7318.5 463.5,-7318.5 463.5,-7245.5 463.5,-7198.6749 431.4608,-7152.6441 407.9339,-7125.1553\" fill=\"none\" stroke=\"#000000\"/>\n<polygon fill=\"#000000\" points=\"410.4914,-7122.7635 401.2546,-7117.5739 405.239,-7127.391 410.4914,-7122.7635\" stroke=\"#000000\"/>\n</g>\n<!-- 140598678191688 -->\n<g class=\"node\" id=\"node37\">\n<title>140598678191688</title>\n<polygon fill=\"none\" points=\"213,-7008.5 213,-7044.5 422,-7044.5 422,-7008.5 213,-7008.5\" stroke=\"#000000\"/>\n<text fill=\"#000000\" font-family=\"Times,serif\" font-size=\"14.00\" text-anchor=\"middle\" x=\"317.5\" y=\"-7022.8\">block5_sepconv1_act: Activation</text>\n</g>\n<!-- 140598678189616&#45;&gt;140598678191688 -->\n<g class=\"edge\" id=\"edge39\">\n<title>140598678189616-&gt;140598678191688</title>\n<path d=\"M367.1854,-7081.4551C359.1733,-7072.5932 349.3804,-7061.7616 340.6132,-7052.0646\" fill=\"none\" stroke=\"#000000\"/>\n<polygon fill=\"#000000\" points=\"343.1584,-7049.6609 333.8557,-7044.5904 337.9659,-7054.3554 343.1584,-7049.6609\" stroke=\"#000000\"/>\n</g>\n<!-- 140598677777096 -->\n<g class=\"node\" id=\"node46\">\n<title>140598677777096</title>\n<polygon fill=\"none\" points=\"333.5,-6351.5 333.5,-6387.5 425.5,-6387.5 425.5,-6351.5 333.5,-6351.5\" stroke=\"#000000\"/>\n<text fill=\"#000000\" font-family=\"Times,serif\" font-size=\"14.00\" text-anchor=\"middle\" x=\"379.5\" y=\"-6365.8\">add_16: Add</text>\n</g>\n<!-- 140598678189616&#45;&gt;140598677777096 -->\n<g class=\"edge\" id=\"edge49\">\n<title>140598678189616-&gt;140598677777096</title>\n<path d=\"M403.0193,-7081.373C412.7442,-7071.4354 423.9973,-7058.4283 431.5,-7045 452.2433,-7007.8737 459.5,-6996.0281 459.5,-6953.5 459.5,-6953.5 459.5,-6953.5 459.5,-6515.5 459.5,-6473.9658 461.252,-6459.9784 440.5,-6424 433.9494,-6412.643 424.1903,-6402.3894 414.3888,-6393.9205\" fill=\"none\" stroke=\"#000000\"/>\n<polygon fill=\"#000000\" points=\"416.5335,-6391.153 406.5795,-6387.5242 412.098,-6396.5684 416.5335,-6391.153\" stroke=\"#000000\"/>\n</g>\n<!-- 140598678191632 -->\n<g class=\"node\" id=\"node38\">\n<title>140598678191632</title>\n<polygon fill=\"none\" points=\"191.5,-6935.5 191.5,-6971.5 423.5,-6971.5 423.5,-6935.5 191.5,-6935.5\" stroke=\"#000000\"/>\n<text fill=\"#000000\" font-family=\"Times,serif\" font-size=\"14.00\" text-anchor=\"middle\" x=\"307.5\" y=\"-6949.8\">block5_sepconv1: SeparableConv2D</text>\n</g>\n<!-- 140598678191688&#45;&gt;140598678191632 -->\n<g class=\"edge\" id=\"edge40\">\n<title>140598678191688-&gt;140598678191632</title>\n<path d=\"M315.0281,-7008.4551C313.9223,-7000.3828 312.5927,-6990.6764 311.3605,-6981.6817\" fill=\"none\" stroke=\"#000000\"/>\n<polygon fill=\"#000000\" points=\"314.803,-6981.0228 309.9781,-6971.5904 307.8678,-6981.9729 314.803,-6981.0228\" stroke=\"#000000\"/>\n</g>\n<!-- 140598677831920 -->\n<g class=\"node\" id=\"node39\">\n<title>140598677831920</title>\n<polygon fill=\"none\" points=\"168,-6862.5 168,-6898.5 431,-6898.5 431,-6862.5 168,-6862.5\" stroke=\"#000000\"/>\n<text fill=\"#000000\" font-family=\"Times,serif\" font-size=\"14.00\" text-anchor=\"middle\" x=\"299.5\" y=\"-6876.8\">block5_sepconv1_bn: BatchNormalization</text>\n</g>\n<!-- 140598678191632&#45;&gt;140598677831920 -->\n<g class=\"edge\" id=\"edge41\">\n<title>140598678191632-&gt;140598677831920</title>\n<path d=\"M305.5225,-6935.4551C304.6378,-6927.3828 303.5741,-6917.6764 302.5884,-6908.6817\" fill=\"none\" stroke=\"#000000\"/>\n<polygon fill=\"#000000\" points=\"306.0511,-6908.1495 301.4825,-6898.5904 299.0928,-6908.9122 306.0511,-6908.1495\" stroke=\"#000000\"/>\n</g>\n<!-- 140598677884432 -->\n<g class=\"node\" id=\"node40\">\n<title>140598677884432</title>\n<polygon fill=\"none\" points=\"195,-6789.5 195,-6825.5 404,-6825.5 404,-6789.5 195,-6789.5\" stroke=\"#000000\"/>\n<text fill=\"#000000\" font-family=\"Times,serif\" font-size=\"14.00\" text-anchor=\"middle\" x=\"299.5\" y=\"-6803.8\">block5_sepconv2_act: Activation</text>\n</g>\n<!-- 140598677831920&#45;&gt;140598677884432 -->\n<g class=\"edge\" id=\"edge42\">\n<title>140598677831920-&gt;140598677884432</title>\n<path d=\"M299.5,-6862.4551C299.5,-6854.3828 299.5,-6844.6764 299.5,-6835.6817\" fill=\"none\" stroke=\"#000000\"/>\n<polygon fill=\"#000000\" points=\"303.0001,-6835.5903 299.5,-6825.5904 296.0001,-6835.5904 303.0001,-6835.5903\" stroke=\"#000000\"/>\n</g>\n<!-- 140598677884488 -->\n<g class=\"node\" id=\"node41\">\n<title>140598677884488</title>\n<polygon fill=\"none\" points=\"183.5,-6716.5 183.5,-6752.5 415.5,-6752.5 415.5,-6716.5 183.5,-6716.5\" stroke=\"#000000\"/>\n<text fill=\"#000000\" font-family=\"Times,serif\" font-size=\"14.00\" text-anchor=\"middle\" x=\"299.5\" y=\"-6730.8\">block5_sepconv2: SeparableConv2D</text>\n</g>\n<!-- 140598677884432&#45;&gt;140598677884488 -->\n<g class=\"edge\" id=\"edge43\">\n<title>140598677884432-&gt;140598677884488</title>\n<path d=\"M299.5,-6789.4551C299.5,-6781.3828 299.5,-6771.6764 299.5,-6762.6817\" fill=\"none\" stroke=\"#000000\"/>\n<polygon fill=\"#000000\" points=\"303.0001,-6762.5903 299.5,-6752.5904 296.0001,-6762.5904 303.0001,-6762.5903\" stroke=\"#000000\"/>\n</g>\n<!-- 140598677966128 -->\n<g class=\"node\" id=\"node42\">\n<title>140598677966128</title>\n<polygon fill=\"none\" points=\"168,-6643.5 168,-6679.5 431,-6679.5 431,-6643.5 168,-6643.5\" stroke=\"#000000\"/>\n<text fill=\"#000000\" font-family=\"Times,serif\" font-size=\"14.00\" text-anchor=\"middle\" x=\"299.5\" y=\"-6657.8\">block5_sepconv2_bn: BatchNormalization</text>\n</g>\n<!-- 140598677884488&#45;&gt;140598677966128 -->\n<g class=\"edge\" id=\"edge44\">\n<title>140598677884488-&gt;140598677966128</title>\n<path d=\"M299.5,-6716.4551C299.5,-6708.3828 299.5,-6698.6764 299.5,-6689.6817\" fill=\"none\" stroke=\"#000000\"/>\n<polygon fill=\"#000000\" points=\"303.0001,-6689.5903 299.5,-6679.5904 296.0001,-6689.5904 303.0001,-6689.5903\" stroke=\"#000000\"/>\n</g>\n<!-- 140598678081376 -->\n<g class=\"node\" id=\"node43\">\n<title>140598678081376</title>\n<polygon fill=\"none\" points=\"195,-6570.5 195,-6606.5 404,-6606.5 404,-6570.5 195,-6570.5\" stroke=\"#000000\"/>\n<text fill=\"#000000\" font-family=\"Times,serif\" font-size=\"14.00\" text-anchor=\"middle\" x=\"299.5\" y=\"-6584.8\">block5_sepconv3_act: Activation</text>\n</g>\n<!-- 140598677966128&#45;&gt;140598678081376 -->\n<g class=\"edge\" id=\"edge45\">\n<title>140598677966128-&gt;140598678081376</title>\n<path d=\"M299.5,-6643.4551C299.5,-6635.3828 299.5,-6625.6764 299.5,-6616.6817\" fill=\"none\" stroke=\"#000000\"/>\n<polygon fill=\"#000000\" points=\"303.0001,-6616.5903 299.5,-6606.5904 296.0001,-6616.5904 303.0001,-6616.5903\" stroke=\"#000000\"/>\n</g>\n<!-- 140598678081488 -->\n<g class=\"node\" id=\"node44\">\n<title>140598678081488</title>\n<polygon fill=\"none\" points=\"183.5,-6497.5 183.5,-6533.5 415.5,-6533.5 415.5,-6497.5 183.5,-6497.5\" stroke=\"#000000\"/>\n<text fill=\"#000000\" font-family=\"Times,serif\" font-size=\"14.00\" text-anchor=\"middle\" x=\"299.5\" y=\"-6511.8\">block5_sepconv3: SeparableConv2D</text>\n</g>\n<!-- 140598678081376&#45;&gt;140598678081488 -->\n<g class=\"edge\" id=\"edge46\">\n<title>140598678081376-&gt;140598678081488</title>\n<path d=\"M299.5,-6570.4551C299.5,-6562.3828 299.5,-6552.6764 299.5,-6543.6817\" fill=\"none\" stroke=\"#000000\"/>\n<polygon fill=\"#000000\" points=\"303.0001,-6543.5903 299.5,-6533.5904 296.0001,-6543.5904 303.0001,-6543.5903\" stroke=\"#000000\"/>\n</g>\n<!-- 140598677650008 -->\n<g class=\"node\" id=\"node45\">\n<title>140598677650008</title>\n<polygon fill=\"none\" points=\"168,-6424.5 168,-6460.5 431,-6460.5 431,-6424.5 168,-6424.5\" stroke=\"#000000\"/>\n<text fill=\"#000000\" font-family=\"Times,serif\" font-size=\"14.00\" text-anchor=\"middle\" x=\"299.5\" y=\"-6438.8\">block5_sepconv3_bn: BatchNormalization</text>\n</g>\n<!-- 140598678081488&#45;&gt;140598677650008 -->\n<g class=\"edge\" id=\"edge47\">\n<title>140598678081488-&gt;140598677650008</title>\n<path d=\"M299.5,-6497.4551C299.5,-6489.3828 299.5,-6479.6764 299.5,-6470.6817\" fill=\"none\" stroke=\"#000000\"/>\n<polygon fill=\"#000000\" points=\"303.0001,-6470.5903 299.5,-6460.5904 296.0001,-6470.5904 303.0001,-6470.5903\" stroke=\"#000000\"/>\n</g>\n<!-- 140598677650008&#45;&gt;140598677777096 -->\n<g class=\"edge\" id=\"edge48\">\n<title>140598677650008-&gt;140598677777096</title>\n<path d=\"M319.2753,-6424.4551C329.1793,-6415.4177 341.3281,-6404.3319 352.1138,-6394.4899\" fill=\"none\" stroke=\"#000000\"/>\n<polygon fill=\"#000000\" points=\"354.6473,-6396.9163 359.6749,-6387.5904 349.9289,-6391.7455 354.6473,-6396.9163\" stroke=\"#000000\"/>\n</g>\n<!-- 140598678191576 -->\n<g class=\"node\" id=\"node47\">\n<title>140598678191576</title>\n<polygon fill=\"none\" points=\"203,-6278.5 203,-6314.5 412,-6314.5 412,-6278.5 203,-6278.5\" stroke=\"#000000\"/>\n<text fill=\"#000000\" font-family=\"Times,serif\" font-size=\"14.00\" text-anchor=\"middle\" x=\"307.5\" y=\"-6292.8\">block6_sepconv1_act: Activation</text>\n</g>\n<!-- 140598677777096&#45;&gt;140598678191576 -->\n<g class=\"edge\" id=\"edge50\">\n<title>140598677777096-&gt;140598678191576</title>\n<path d=\"M361.7022,-6351.4551C352.8752,-6342.5054 342.0669,-6331.547 332.4307,-6321.7769\" fill=\"none\" stroke=\"#000000\"/>\n<polygon fill=\"#000000\" points=\"334.8566,-6319.2523 325.3425,-6314.5904 329.8728,-6324.1678 334.8566,-6319.2523\" stroke=\"#000000\"/>\n</g>\n<!-- 140598676823288 -->\n<g class=\"node\" id=\"node56\">\n<title>140598676823288</title>\n<polygon fill=\"none\" points=\"328.5,-5621.5 328.5,-5657.5 420.5,-5657.5 420.5,-5621.5 328.5,-5621.5\" stroke=\"#000000\"/>\n<text fill=\"#000000\" font-family=\"Times,serif\" font-size=\"14.00\" text-anchor=\"middle\" x=\"374.5\" y=\"-5635.8\">add_17: Add</text>\n</g>\n<!-- 140598677777096&#45;&gt;140598676823288 -->\n<g class=\"edge\" id=\"edge60\">\n<title>140598677777096-&gt;140598676823288</title>\n<path d=\"M396.1449,-6351.2244C418.2405,-6324.9944 454.5,-6274.2229 454.5,-6223.5 454.5,-6223.5 454.5,-6223.5 454.5,-5785.5 454.5,-5743.9658 456.252,-5729.9784 435.5,-5694 428.9494,-5682.643 419.1903,-5672.3894 409.3888,-5663.9205\" fill=\"none\" stroke=\"#000000\"/>\n<polygon fill=\"#000000\" points=\"411.5335,-5661.153 401.5795,-5657.5242 407.098,-5666.5684 411.5335,-5661.153\" stroke=\"#000000\"/>\n</g>\n<!-- 140598677777040 -->\n<g class=\"node\" id=\"node48\">\n<title>140598677777040</title>\n<polygon fill=\"none\" points=\"186.5,-6205.5 186.5,-6241.5 418.5,-6241.5 418.5,-6205.5 186.5,-6205.5\" stroke=\"#000000\"/>\n<text fill=\"#000000\" font-family=\"Times,serif\" font-size=\"14.00\" text-anchor=\"middle\" x=\"302.5\" y=\"-6219.8\">block6_sepconv1: SeparableConv2D</text>\n</g>\n<!-- 140598678191576&#45;&gt;140598677777040 -->\n<g class=\"edge\" id=\"edge51\">\n<title>140598678191576-&gt;140598677777040</title>\n<path d=\"M306.264,-6278.4551C305.7112,-6270.3828 305.0463,-6260.6764 304.4303,-6251.6817\" fill=\"none\" stroke=\"#000000\"/>\n<polygon fill=\"#000000\" points=\"307.9143,-6251.3278 303.7391,-6241.5904 300.9307,-6251.8062 307.9143,-6251.3278\" stroke=\"#000000\"/>\n</g>\n<!-- 140598677345224 -->\n<g class=\"node\" id=\"node49\">\n<title>140598677345224</title>\n<polygon fill=\"none\" points=\"163,-6132.5 163,-6168.5 426,-6168.5 426,-6132.5 163,-6132.5\" stroke=\"#000000\"/>\n<text fill=\"#000000\" font-family=\"Times,serif\" font-size=\"14.00\" text-anchor=\"middle\" x=\"294.5\" y=\"-6146.8\">block6_sepconv1_bn: BatchNormalization</text>\n</g>\n<!-- 140598677777040&#45;&gt;140598677345224 -->\n<g class=\"edge\" id=\"edge52\">\n<title>140598677777040-&gt;140598677345224</title>\n<path d=\"M300.5225,-6205.4551C299.6378,-6197.3828 298.5741,-6187.6764 297.5884,-6178.6817\" fill=\"none\" stroke=\"#000000\"/>\n<polygon fill=\"#000000\" points=\"301.0511,-6178.1495 296.4825,-6168.5904 294.0928,-6178.9122 301.0511,-6178.1495\" stroke=\"#000000\"/>\n</g>\n<!-- 140598678868264 -->\n<g class=\"node\" id=\"node50\">\n<title>140598678868264</title>\n<polygon fill=\"none\" points=\"190,-6059.5 190,-6095.5 399,-6095.5 399,-6059.5 190,-6059.5\" stroke=\"#000000\"/>\n<text fill=\"#000000\" font-family=\"Times,serif\" font-size=\"14.00\" text-anchor=\"middle\" x=\"294.5\" y=\"-6073.8\">block6_sepconv2_act: Activation</text>\n</g>\n<!-- 140598677345224&#45;&gt;140598678868264 -->\n<g class=\"edge\" id=\"edge53\">\n<title>140598677345224-&gt;140598678868264</title>\n<path d=\"M294.5,-6132.4551C294.5,-6124.3828 294.5,-6114.6764 294.5,-6105.6817\" fill=\"none\" stroke=\"#000000\"/>\n<polygon fill=\"#000000\" points=\"298.0001,-6105.5903 294.5,-6095.5904 291.0001,-6105.5904 298.0001,-6105.5903\" stroke=\"#000000\"/>\n</g>\n<!-- 140598677464960 -->\n<g class=\"node\" id=\"node51\">\n<title>140598677464960</title>\n<polygon fill=\"none\" points=\"178.5,-5986.5 178.5,-6022.5 410.5,-6022.5 410.5,-5986.5 178.5,-5986.5\" stroke=\"#000000\"/>\n<text fill=\"#000000\" font-family=\"Times,serif\" font-size=\"14.00\" text-anchor=\"middle\" x=\"294.5\" y=\"-6000.8\">block6_sepconv2: SeparableConv2D</text>\n</g>\n<!-- 140598678868264&#45;&gt;140598677464960 -->\n<g class=\"edge\" id=\"edge54\">\n<title>140598678868264-&gt;140598677464960</title>\n<path d=\"M294.5,-6059.4551C294.5,-6051.3828 294.5,-6041.6764 294.5,-6032.6817\" fill=\"none\" stroke=\"#000000\"/>\n<polygon fill=\"#000000\" points=\"298.0001,-6032.5903 294.5,-6022.5904 291.0001,-6032.5904 298.0001,-6032.5903\" stroke=\"#000000\"/>\n</g>\n<!-- 140598677465296 -->\n<g class=\"node\" id=\"node52\">\n<title>140598677465296</title>\n<polygon fill=\"none\" points=\"163,-5913.5 163,-5949.5 426,-5949.5 426,-5913.5 163,-5913.5\" stroke=\"#000000\"/>\n<text fill=\"#000000\" font-family=\"Times,serif\" font-size=\"14.00\" text-anchor=\"middle\" x=\"294.5\" y=\"-5927.8\">block6_sepconv2_bn: BatchNormalization</text>\n</g>\n<!-- 140598677464960&#45;&gt;140598677465296 -->\n<g class=\"edge\" id=\"edge55\">\n<title>140598677464960-&gt;140598677465296</title>\n<path d=\"M294.5,-5986.4551C294.5,-5978.3828 294.5,-5968.6764 294.5,-5959.6817\" fill=\"none\" stroke=\"#000000\"/>\n<polygon fill=\"#000000\" points=\"298.0001,-5959.5903 294.5,-5949.5904 291.0001,-5959.5904 298.0001,-5959.5903\" stroke=\"#000000\"/>\n</g>\n<!-- 140598677130712 -->\n<g class=\"node\" id=\"node53\">\n<title>140598677130712</title>\n<polygon fill=\"none\" points=\"190,-5840.5 190,-5876.5 399,-5876.5 399,-5840.5 190,-5840.5\" stroke=\"#000000\"/>\n<text fill=\"#000000\" font-family=\"Times,serif\" font-size=\"14.00\" text-anchor=\"middle\" x=\"294.5\" y=\"-5854.8\">block6_sepconv3_act: Activation</text>\n</g>\n<!-- 140598677465296&#45;&gt;140598677130712 -->\n<g class=\"edge\" id=\"edge56\">\n<title>140598677465296-&gt;140598677130712</title>\n<path d=\"M294.5,-5913.4551C294.5,-5905.3828 294.5,-5895.6764 294.5,-5886.6817\" fill=\"none\" stroke=\"#000000\"/>\n<polygon fill=\"#000000\" points=\"298.0001,-5886.5903 294.5,-5876.5904 291.0001,-5886.5904 298.0001,-5886.5903\" stroke=\"#000000\"/>\n</g>\n<!-- 140598677146480 -->\n<g class=\"node\" id=\"node54\">\n<title>140598677146480</title>\n<polygon fill=\"none\" points=\"178.5,-5767.5 178.5,-5803.5 410.5,-5803.5 410.5,-5767.5 178.5,-5767.5\" stroke=\"#000000\"/>\n<text fill=\"#000000\" font-family=\"Times,serif\" font-size=\"14.00\" text-anchor=\"middle\" x=\"294.5\" y=\"-5781.8\">block6_sepconv3: SeparableConv2D</text>\n</g>\n<!-- 140598677130712&#45;&gt;140598677146480 -->\n<g class=\"edge\" id=\"edge57\">\n<title>140598677130712-&gt;140598677146480</title>\n<path d=\"M294.5,-5840.4551C294.5,-5832.3828 294.5,-5822.6764 294.5,-5813.6817\" fill=\"none\" stroke=\"#000000\"/>\n<polygon fill=\"#000000\" points=\"298.0001,-5813.5903 294.5,-5803.5904 291.0001,-5813.5904 298.0001,-5813.5903\" stroke=\"#000000\"/>\n</g>\n<!-- 140598677228680 -->\n<g class=\"node\" id=\"node55\">\n<title>140598677228680</title>\n<polygon fill=\"none\" points=\"163,-5694.5 163,-5730.5 426,-5730.5 426,-5694.5 163,-5694.5\" stroke=\"#000000\"/>\n<text fill=\"#000000\" font-family=\"Times,serif\" font-size=\"14.00\" text-anchor=\"middle\" x=\"294.5\" y=\"-5708.8\">block6_sepconv3_bn: BatchNormalization</text>\n</g>\n<!-- 140598677146480&#45;&gt;140598677228680 -->\n<g class=\"edge\" id=\"edge58\">\n<title>140598677146480-&gt;140598677228680</title>\n<path d=\"M294.5,-5767.4551C294.5,-5759.3828 294.5,-5749.6764 294.5,-5740.6817\" fill=\"none\" stroke=\"#000000\"/>\n<polygon fill=\"#000000\" points=\"298.0001,-5740.5903 294.5,-5730.5904 291.0001,-5740.5904 298.0001,-5740.5903\" stroke=\"#000000\"/>\n</g>\n<!-- 140598677228680&#45;&gt;140598676823288 -->\n<g class=\"edge\" id=\"edge59\">\n<title>140598677228680-&gt;140598676823288</title>\n<path d=\"M314.2753,-5694.4551C324.1793,-5685.4177 336.3281,-5674.3319 347.1138,-5664.4899\" fill=\"none\" stroke=\"#000000\"/>\n<polygon fill=\"#000000\" points=\"349.6473,-5666.9163 354.6749,-5657.5904 344.9289,-5661.7455 349.6473,-5666.9163\" stroke=\"#000000\"/>\n</g>\n<!-- 140598677776928 -->\n<g class=\"node\" id=\"node57\">\n<title>140598677776928</title>\n<polygon fill=\"none\" points=\"198,-5548.5 198,-5584.5 407,-5584.5 407,-5548.5 198,-5548.5\" stroke=\"#000000\"/>\n<text fill=\"#000000\" font-family=\"Times,serif\" font-size=\"14.00\" text-anchor=\"middle\" x=\"302.5\" y=\"-5562.8\">block7_sepconv1_act: Activation</text>\n</g>\n<!-- 140598676823288&#45;&gt;140598677776928 -->\n<g class=\"edge\" id=\"edge61\">\n<title>140598676823288-&gt;140598677776928</title>\n<path d=\"M356.7022,-5621.4551C347.8752,-5612.5054 337.0669,-5601.547 327.4307,-5591.7769\" fill=\"none\" stroke=\"#000000\"/>\n<polygon fill=\"#000000\" points=\"329.8566,-5589.2523 320.3425,-5584.5904 324.8728,-5594.1678 329.8566,-5589.2523\" stroke=\"#000000\"/>\n</g>\n<!-- 140598676385520 -->\n<g class=\"node\" id=\"node66\">\n<title>140598676385520</title>\n<polygon fill=\"none\" points=\"323.5,-4891.5 323.5,-4927.5 415.5,-4927.5 415.5,-4891.5 323.5,-4891.5\" stroke=\"#000000\"/>\n<text fill=\"#000000\" font-family=\"Times,serif\" font-size=\"14.00\" text-anchor=\"middle\" x=\"369.5\" y=\"-4905.8\">add_18: Add</text>\n</g>\n<!-- 140598676823288&#45;&gt;140598676385520 -->\n<g class=\"edge\" id=\"edge71\">\n<title>140598676823288-&gt;140598676385520</title>\n<path d=\"M391.1449,-5621.2244C413.2405,-5594.9944 449.5,-5544.2229 449.5,-5493.5 449.5,-5493.5 449.5,-5493.5 449.5,-5055.5 449.5,-5013.9658 451.252,-4999.9784 430.5,-4964 423.9494,-4952.643 414.1903,-4942.3894 404.3888,-4933.9205\" fill=\"none\" stroke=\"#000000\"/>\n<polygon fill=\"#000000\" points=\"406.5335,-4931.153 396.5795,-4927.5242 402.098,-4936.5684 406.5335,-4931.153\" stroke=\"#000000\"/>\n</g>\n<!-- 140598676824016 -->\n<g class=\"node\" id=\"node58\">\n<title>140598676824016</title>\n<polygon fill=\"none\" points=\"181.5,-5475.5 181.5,-5511.5 413.5,-5511.5 413.5,-5475.5 181.5,-5475.5\" stroke=\"#000000\"/>\n<text fill=\"#000000\" font-family=\"Times,serif\" font-size=\"14.00\" text-anchor=\"middle\" x=\"297.5\" y=\"-5489.8\">block7_sepconv1: SeparableConv2D</text>\n</g>\n<!-- 140598677776928&#45;&gt;140598676824016 -->\n<g class=\"edge\" id=\"edge62\">\n<title>140598677776928-&gt;140598676824016</title>\n<path d=\"M301.264,-5548.4551C300.7112,-5540.3828 300.0463,-5530.6764 299.4303,-5521.6817\" fill=\"none\" stroke=\"#000000\"/>\n<polygon fill=\"#000000\" points=\"302.9143,-5521.3278 298.7391,-5511.5904 295.9307,-5521.8062 302.9143,-5521.3278\" stroke=\"#000000\"/>\n</g>\n<!-- 140598676911608 -->\n<g class=\"node\" id=\"node59\">\n<title>140598676911608</title>\n<polygon fill=\"none\" points=\"158,-5402.5 158,-5438.5 421,-5438.5 421,-5402.5 158,-5402.5\" stroke=\"#000000\"/>\n<text fill=\"#000000\" font-family=\"Times,serif\" font-size=\"14.00\" text-anchor=\"middle\" x=\"289.5\" y=\"-5416.8\">block7_sepconv1_bn: BatchNormalization</text>\n</g>\n<!-- 140598676824016&#45;&gt;140598676911608 -->\n<g class=\"edge\" id=\"edge63\">\n<title>140598676824016-&gt;140598676911608</title>\n<path d=\"M295.5225,-5475.4551C294.6378,-5467.3828 293.5741,-5457.6764 292.5884,-5448.6817\" fill=\"none\" stroke=\"#000000\"/>\n<polygon fill=\"#000000\" points=\"296.0511,-5448.1495 291.4825,-5438.5904 289.0928,-5448.9122 296.0511,-5448.1495\" stroke=\"#000000\"/>\n</g>\n<!-- 140598676511152 -->\n<g class=\"node\" id=\"node60\">\n<title>140598676511152</title>\n<polygon fill=\"none\" points=\"185,-5329.5 185,-5365.5 394,-5365.5 394,-5329.5 185,-5329.5\" stroke=\"#000000\"/>\n<text fill=\"#000000\" font-family=\"Times,serif\" font-size=\"14.00\" text-anchor=\"middle\" x=\"289.5\" y=\"-5343.8\">block7_sepconv2_act: Activation</text>\n</g>\n<!-- 140598676911608&#45;&gt;140598676511152 -->\n<g class=\"edge\" id=\"edge64\">\n<title>140598676911608-&gt;140598676511152</title>\n<path d=\"M289.5,-5402.4551C289.5,-5394.3828 289.5,-5384.6764 289.5,-5375.6817\" fill=\"none\" stroke=\"#000000\"/>\n<polygon fill=\"#000000\" points=\"293.0001,-5375.5903 289.5,-5365.5904 286.0001,-5375.5904 293.0001,-5375.5903\" stroke=\"#000000\"/>\n</g>\n<!-- 140598676511040 -->\n<g class=\"node\" id=\"node61\">\n<title>140598676511040</title>\n<polygon fill=\"none\" points=\"173.5,-5256.5 173.5,-5292.5 405.5,-5292.5 405.5,-5256.5 173.5,-5256.5\" stroke=\"#000000\"/>\n<text fill=\"#000000\" font-family=\"Times,serif\" font-size=\"14.00\" text-anchor=\"middle\" x=\"289.5\" y=\"-5270.8\">block7_sepconv2: SeparableConv2D</text>\n</g>\n<!-- 140598676511152&#45;&gt;140598676511040 -->\n<g class=\"edge\" id=\"edge65\">\n<title>140598676511152-&gt;140598676511040</title>\n<path d=\"M289.5,-5329.4551C289.5,-5321.3828 289.5,-5311.6764 289.5,-5302.6817\" fill=\"none\" stroke=\"#000000\"/>\n<polygon fill=\"#000000\" points=\"293.0001,-5302.5903 289.5,-5292.5904 286.0001,-5302.5904 293.0001,-5302.5903\" stroke=\"#000000\"/>\n</g>\n<!-- 140598676523440 -->\n<g class=\"node\" id=\"node62\">\n<title>140598676523440</title>\n<polygon fill=\"none\" points=\"158,-5183.5 158,-5219.5 421,-5219.5 421,-5183.5 158,-5183.5\" stroke=\"#000000\"/>\n<text fill=\"#000000\" font-family=\"Times,serif\" font-size=\"14.00\" text-anchor=\"middle\" x=\"289.5\" y=\"-5197.8\">block7_sepconv2_bn: BatchNormalization</text>\n</g>\n<!-- 140598676511040&#45;&gt;140598676523440 -->\n<g class=\"edge\" id=\"edge66\">\n<title>140598676511040-&gt;140598676523440</title>\n<path d=\"M289.5,-5256.4551C289.5,-5248.3828 289.5,-5238.6764 289.5,-5229.6817\" fill=\"none\" stroke=\"#000000\"/>\n<polygon fill=\"#000000\" points=\"293.0001,-5229.5903 289.5,-5219.5904 286.0001,-5229.5904 293.0001,-5229.5903\" stroke=\"#000000\"/>\n</g>\n<!-- 140598676669384 -->\n<g class=\"node\" id=\"node63\">\n<title>140598676669384</title>\n<polygon fill=\"none\" points=\"185,-5110.5 185,-5146.5 394,-5146.5 394,-5110.5 185,-5110.5\" stroke=\"#000000\"/>\n<text fill=\"#000000\" font-family=\"Times,serif\" font-size=\"14.00\" text-anchor=\"middle\" x=\"289.5\" y=\"-5124.8\">block7_sepconv3_act: Activation</text>\n</g>\n<!-- 140598676523440&#45;&gt;140598676669384 -->\n<g class=\"edge\" id=\"edge67\">\n<title>140598676523440-&gt;140598676669384</title>\n<path d=\"M289.5,-5183.4551C289.5,-5175.3828 289.5,-5165.6764 289.5,-5156.6817\" fill=\"none\" stroke=\"#000000\"/>\n<polygon fill=\"#000000\" points=\"293.0001,-5156.5903 289.5,-5146.5904 286.0001,-5156.5904 293.0001,-5156.5903\" stroke=\"#000000\"/>\n</g>\n<!-- 140598676712920 -->\n<g class=\"node\" id=\"node64\">\n<title>140598676712920</title>\n<polygon fill=\"none\" points=\"173.5,-5037.5 173.5,-5073.5 405.5,-5073.5 405.5,-5037.5 173.5,-5037.5\" stroke=\"#000000\"/>\n<text fill=\"#000000\" font-family=\"Times,serif\" font-size=\"14.00\" text-anchor=\"middle\" x=\"289.5\" y=\"-5051.8\">block7_sepconv3: SeparableConv2D</text>\n</g>\n<!-- 140598676669384&#45;&gt;140598676712920 -->\n<g class=\"edge\" id=\"edge68\">\n<title>140598676669384-&gt;140598676712920</title>\n<path d=\"M289.5,-5110.4551C289.5,-5102.3828 289.5,-5092.6764 289.5,-5083.6817\" fill=\"none\" stroke=\"#000000\"/>\n<polygon fill=\"#000000\" points=\"293.0001,-5083.5903 289.5,-5073.5904 286.0001,-5083.5904 293.0001,-5083.5903\" stroke=\"#000000\"/>\n</g>\n<!-- 140598676278464 -->\n<g class=\"node\" id=\"node65\">\n<title>140598676278464</title>\n<polygon fill=\"none\" points=\"158,-4964.5 158,-5000.5 421,-5000.5 421,-4964.5 158,-4964.5\" stroke=\"#000000\"/>\n<text fill=\"#000000\" font-family=\"Times,serif\" font-size=\"14.00\" text-anchor=\"middle\" x=\"289.5\" y=\"-4978.8\">block7_sepconv3_bn: BatchNormalization</text>\n</g>\n<!-- 140598676712920&#45;&gt;140598676278464 -->\n<g class=\"edge\" id=\"edge69\">\n<title>140598676712920-&gt;140598676278464</title>\n<path d=\"M289.5,-5037.4551C289.5,-5029.3828 289.5,-5019.6764 289.5,-5010.6817\" fill=\"none\" stroke=\"#000000\"/>\n<polygon fill=\"#000000\" points=\"293.0001,-5010.5903 289.5,-5000.5904 286.0001,-5010.5904 293.0001,-5010.5903\" stroke=\"#000000\"/>\n</g>\n<!-- 140598676278464&#45;&gt;140598676385520 -->\n<g class=\"edge\" id=\"edge70\">\n<title>140598676278464-&gt;140598676385520</title>\n<path d=\"M309.2753,-4964.4551C319.1793,-4955.4177 331.3281,-4944.3319 342.1138,-4934.4899\" fill=\"none\" stroke=\"#000000\"/>\n<polygon fill=\"#000000\" points=\"344.6473,-4936.9163 349.6749,-4927.5904 339.9289,-4931.7455 344.6473,-4936.9163\" stroke=\"#000000\"/>\n</g>\n<!-- 140598676823120 -->\n<g class=\"node\" id=\"node67\">\n<title>140598676823120</title>\n<polygon fill=\"none\" points=\"199,-4818.5 199,-4854.5 408,-4854.5 408,-4818.5 199,-4818.5\" stroke=\"#000000\"/>\n<text fill=\"#000000\" font-family=\"Times,serif\" font-size=\"14.00\" text-anchor=\"middle\" x=\"303.5\" y=\"-4832.8\">block8_sepconv1_act: Activation</text>\n</g>\n<!-- 140598676385520&#45;&gt;140598676823120 -->\n<g class=\"edge\" id=\"edge72\">\n<title>140598676385520-&gt;140598676823120</title>\n<path d=\"M353.1854,-4891.4551C345.1733,-4882.5932 335.3804,-4871.7616 326.6132,-4862.0646\" fill=\"none\" stroke=\"#000000\"/>\n<polygon fill=\"#000000\" points=\"329.1584,-4859.6609 319.8557,-4854.5904 323.9659,-4864.3554 329.1584,-4859.6609\" stroke=\"#000000\"/>\n</g>\n<!-- 140598675967392 -->\n<g class=\"node\" id=\"node76\">\n<title>140598675967392</title>\n<polygon fill=\"none\" points=\"319.5,-4161.5 319.5,-4197.5 411.5,-4197.5 411.5,-4161.5 319.5,-4161.5\" stroke=\"#000000\"/>\n<text fill=\"#000000\" font-family=\"Times,serif\" font-size=\"14.00\" text-anchor=\"middle\" x=\"365.5\" y=\"-4175.8\">add_19: Add</text>\n</g>\n<!-- 140598676385520&#45;&gt;140598675967392 -->\n<g class=\"edge\" id=\"edge82\">\n<title>140598676385520-&gt;140598675967392</title>\n<path d=\"M389.0193,-4891.373C398.7442,-4881.4354 409.9973,-4868.4283 417.5,-4855 438.2433,-4817.8737 445.5,-4806.0281 445.5,-4763.5 445.5,-4763.5 445.5,-4763.5 445.5,-4325.5 445.5,-4283.9658 447.252,-4269.9784 426.5,-4234 419.9494,-4222.643 410.1903,-4212.3894 400.3888,-4203.9205\" fill=\"none\" stroke=\"#000000\"/>\n<polygon fill=\"#000000\" points=\"402.5335,-4201.153 392.5795,-4197.5242 398.098,-4206.5684 402.5335,-4201.153\" stroke=\"#000000\"/>\n</g>\n<!-- 140598676385464 -->\n<g class=\"node\" id=\"node68\">\n<title>140598676385464</title>\n<polygon fill=\"none\" points=\"177.5,-4745.5 177.5,-4781.5 409.5,-4781.5 409.5,-4745.5 177.5,-4745.5\" stroke=\"#000000\"/>\n<text fill=\"#000000\" font-family=\"Times,serif\" font-size=\"14.00\" text-anchor=\"middle\" x=\"293.5\" y=\"-4759.8\">block8_sepconv1: SeparableConv2D</text>\n</g>\n<!-- 140598676823120&#45;&gt;140598676385464 -->\n<g class=\"edge\" id=\"edge73\">\n<title>140598676823120-&gt;140598676385464</title>\n<path d=\"M301.0281,-4818.4551C299.9223,-4810.3828 298.5927,-4800.6764 297.3605,-4791.6817\" fill=\"none\" stroke=\"#000000\"/>\n<polygon fill=\"#000000\" points=\"300.803,-4791.0228 295.9781,-4781.5904 293.8678,-4791.9729 300.803,-4791.0228\" stroke=\"#000000\"/>\n</g>\n<!-- 140598676494432 -->\n<g class=\"node\" id=\"node69\">\n<title>140598676494432</title>\n<polygon fill=\"none\" points=\"154,-4672.5 154,-4708.5 417,-4708.5 417,-4672.5 154,-4672.5\" stroke=\"#000000\"/>\n<text fill=\"#000000\" font-family=\"Times,serif\" font-size=\"14.00\" text-anchor=\"middle\" x=\"285.5\" y=\"-4686.8\">block8_sepconv1_bn: BatchNormalization</text>\n</g>\n<!-- 140598676385464&#45;&gt;140598676494432 -->\n<g class=\"edge\" id=\"edge74\">\n<title>140598676385464-&gt;140598676494432</title>\n<path d=\"M291.5225,-4745.4551C290.6378,-4737.3828 289.5741,-4727.6764 288.5884,-4718.6817\" fill=\"none\" stroke=\"#000000\"/>\n<polygon fill=\"#000000\" points=\"292.0511,-4718.1495 287.4825,-4708.5904 285.0928,-4718.9122 292.0511,-4718.1495\" stroke=\"#000000\"/>\n</g>\n<!-- 140598676085784 -->\n<g class=\"node\" id=\"node70\">\n<title>140598676085784</title>\n<polygon fill=\"none\" points=\"181,-4599.5 181,-4635.5 390,-4635.5 390,-4599.5 181,-4599.5\" stroke=\"#000000\"/>\n<text fill=\"#000000\" font-family=\"Times,serif\" font-size=\"14.00\" text-anchor=\"middle\" x=\"285.5\" y=\"-4613.8\">block8_sepconv2_act: Activation</text>\n</g>\n<!-- 140598676494432&#45;&gt;140598676085784 -->\n<g class=\"edge\" id=\"edge75\">\n<title>140598676494432-&gt;140598676085784</title>\n<path d=\"M285.5,-4672.4551C285.5,-4664.3828 285.5,-4654.6764 285.5,-4645.6817\" fill=\"none\" stroke=\"#000000\"/>\n<polygon fill=\"#000000\" points=\"289.0001,-4645.5903 285.5,-4635.5904 282.0001,-4645.5904 289.0001,-4645.5903\" stroke=\"#000000\"/>\n</g>\n<!-- 140598676085672 -->\n<g class=\"node\" id=\"node71\">\n<title>140598676085672</title>\n<polygon fill=\"none\" points=\"169.5,-4526.5 169.5,-4562.5 401.5,-4562.5 401.5,-4526.5 169.5,-4526.5\" stroke=\"#000000\"/>\n<text fill=\"#000000\" font-family=\"Times,serif\" font-size=\"14.00\" text-anchor=\"middle\" x=\"285.5\" y=\"-4540.8\">block8_sepconv2: SeparableConv2D</text>\n</g>\n<!-- 140598676085784&#45;&gt;140598676085672 -->\n<g class=\"edge\" id=\"edge76\">\n<title>140598676085784-&gt;140598676085672</title>\n<path d=\"M285.5,-4599.4551C285.5,-4591.3828 285.5,-4581.6764 285.5,-4572.6817\" fill=\"none\" stroke=\"#000000\"/>\n<polygon fill=\"#000000\" points=\"289.0001,-4572.5903 285.5,-4562.5904 282.0001,-4572.5904 289.0001,-4572.5903\" stroke=\"#000000\"/>\n</g>\n<!-- 140598676105424 -->\n<g class=\"node\" id=\"node72\">\n<title>140598676105424</title>\n<polygon fill=\"none\" points=\"154,-4453.5 154,-4489.5 417,-4489.5 417,-4453.5 154,-4453.5\" stroke=\"#000000\"/>\n<text fill=\"#000000\" font-family=\"Times,serif\" font-size=\"14.00\" text-anchor=\"middle\" x=\"285.5\" y=\"-4467.8\">block8_sepconv2_bn: BatchNormalization</text>\n</g>\n<!-- 140598676085672&#45;&gt;140598676105424 -->\n<g class=\"edge\" id=\"edge77\">\n<title>140598676085672-&gt;140598676105424</title>\n<path d=\"M285.5,-4526.4551C285.5,-4518.3828 285.5,-4508.6764 285.5,-4499.6817\" fill=\"none\" stroke=\"#000000\"/>\n<polygon fill=\"#000000\" points=\"289.0001,-4499.5903 285.5,-4489.5904 282.0001,-4499.5904 289.0001,-4499.5903\" stroke=\"#000000\"/>\n</g>\n<!-- 140598675779368 -->\n<g class=\"node\" id=\"node73\">\n<title>140598675779368</title>\n<polygon fill=\"none\" points=\"181,-4380.5 181,-4416.5 390,-4416.5 390,-4380.5 181,-4380.5\" stroke=\"#000000\"/>\n<text fill=\"#000000\" font-family=\"Times,serif\" font-size=\"14.00\" text-anchor=\"middle\" x=\"285.5\" y=\"-4394.8\">block8_sepconv3_act: Activation</text>\n</g>\n<!-- 140598676105424&#45;&gt;140598675779368 -->\n<g class=\"edge\" id=\"edge78\">\n<title>140598676105424-&gt;140598675779368</title>\n<path d=\"M285.5,-4453.4551C285.5,-4445.3828 285.5,-4435.6764 285.5,-4426.6817\" fill=\"none\" stroke=\"#000000\"/>\n<polygon fill=\"#000000\" points=\"289.0001,-4426.5903 285.5,-4416.5904 282.0001,-4426.5904 289.0001,-4426.5903\" stroke=\"#000000\"/>\n</g>\n<!-- 140598675779312 -->\n<g class=\"node\" id=\"node74\">\n<title>140598675779312</title>\n<polygon fill=\"none\" points=\"169.5,-4307.5 169.5,-4343.5 401.5,-4343.5 401.5,-4307.5 169.5,-4307.5\" stroke=\"#000000\"/>\n<text fill=\"#000000\" font-family=\"Times,serif\" font-size=\"14.00\" text-anchor=\"middle\" x=\"285.5\" y=\"-4321.8\">block8_sepconv3: SeparableConv2D</text>\n</g>\n<!-- 140598675779368&#45;&gt;140598675779312 -->\n<g class=\"edge\" id=\"edge79\">\n<title>140598675779368-&gt;140598675779312</title>\n<path d=\"M285.5,-4380.4551C285.5,-4372.3828 285.5,-4362.6764 285.5,-4353.6817\" fill=\"none\" stroke=\"#000000\"/>\n<polygon fill=\"#000000\" points=\"289.0001,-4353.5903 285.5,-4343.5904 282.0001,-4353.5904 289.0001,-4353.5903\" stroke=\"#000000\"/>\n</g>\n<!-- 140598675787904 -->\n<g class=\"node\" id=\"node75\">\n<title>140598675787904</title>\n<polygon fill=\"none\" points=\"154,-4234.5 154,-4270.5 417,-4270.5 417,-4234.5 154,-4234.5\" stroke=\"#000000\"/>\n<text fill=\"#000000\" font-family=\"Times,serif\" font-size=\"14.00\" text-anchor=\"middle\" x=\"285.5\" y=\"-4248.8\">block8_sepconv3_bn: BatchNormalization</text>\n</g>\n<!-- 140598675779312&#45;&gt;140598675787904 -->\n<g class=\"edge\" id=\"edge80\">\n<title>140598675779312-&gt;140598675787904</title>\n<path d=\"M285.5,-4307.4551C285.5,-4299.3828 285.5,-4289.6764 285.5,-4280.6817\" fill=\"none\" stroke=\"#000000\"/>\n<polygon fill=\"#000000\" points=\"289.0001,-4280.5903 285.5,-4270.5904 282.0001,-4280.5904 289.0001,-4280.5903\" stroke=\"#000000\"/>\n</g>\n<!-- 140598675787904&#45;&gt;140598675967392 -->\n<g class=\"edge\" id=\"edge81\">\n<title>140598675787904-&gt;140598675967392</title>\n<path d=\"M305.2753,-4234.4551C315.1793,-4225.4177 327.3281,-4214.3319 338.1138,-4204.4899\" fill=\"none\" stroke=\"#000000\"/>\n<polygon fill=\"#000000\" points=\"340.6473,-4206.9163 345.6749,-4197.5904 335.9289,-4201.7455 340.6473,-4206.9163\" stroke=\"#000000\"/>\n</g>\n<!-- 140598676385632 -->\n<g class=\"node\" id=\"node77\">\n<title>140598676385632</title>\n<polygon fill=\"none\" points=\"189,-4088.5 189,-4124.5 398,-4124.5 398,-4088.5 189,-4088.5\" stroke=\"#000000\"/>\n<text fill=\"#000000\" font-family=\"Times,serif\" font-size=\"14.00\" text-anchor=\"middle\" x=\"293.5\" y=\"-4102.8\">block9_sepconv1_act: Activation</text>\n</g>\n<!-- 140598675967392&#45;&gt;140598676385632 -->\n<g class=\"edge\" id=\"edge83\">\n<title>140598675967392-&gt;140598676385632</title>\n<path d=\"M347.7022,-4161.4551C338.8752,-4152.5054 328.0669,-4141.547 318.4307,-4131.7769\" fill=\"none\" stroke=\"#000000\"/>\n<polygon fill=\"#000000\" points=\"320.8566,-4129.2523 311.3425,-4124.5904 315.8728,-4134.1678 320.8566,-4129.2523\" stroke=\"#000000\"/>\n</g>\n<!-- 140598674975992 -->\n<g class=\"node\" id=\"node86\">\n<title>140598674975992</title>\n<polygon fill=\"none\" points=\"314.5,-3431.5 314.5,-3467.5 406.5,-3467.5 406.5,-3431.5 314.5,-3431.5\" stroke=\"#000000\"/>\n<text fill=\"#000000\" font-family=\"Times,serif\" font-size=\"14.00\" text-anchor=\"middle\" x=\"360.5\" y=\"-3445.8\">add_20: Add</text>\n</g>\n<!-- 140598675967392&#45;&gt;140598674975992 -->\n<g class=\"edge\" id=\"edge93\">\n<title>140598675967392-&gt;140598674975992</title>\n<path d=\"M382.1449,-4161.2244C404.2405,-4134.9944 440.5,-4084.2229 440.5,-4033.5 440.5,-4033.5 440.5,-4033.5 440.5,-3595.5 440.5,-3553.9658 442.252,-3539.9784 421.5,-3504 414.9494,-3492.643 405.1903,-3482.3894 395.3888,-3473.9205\" fill=\"none\" stroke=\"#000000\"/>\n<polygon fill=\"#000000\" points=\"397.5335,-3471.153 387.5795,-3467.5242 393.098,-3476.5684 397.5335,-3471.153\" stroke=\"#000000\"/>\n</g>\n<!-- 140598675464712 -->\n<g class=\"node\" id=\"node78\">\n<title>140598675464712</title>\n<polygon fill=\"none\" points=\"172.5,-4015.5 172.5,-4051.5 404.5,-4051.5 404.5,-4015.5 172.5,-4015.5\" stroke=\"#000000\"/>\n<text fill=\"#000000\" font-family=\"Times,serif\" font-size=\"14.00\" text-anchor=\"middle\" x=\"288.5\" y=\"-4029.8\">block9_sepconv1: SeparableConv2D</text>\n</g>\n<!-- 140598676385632&#45;&gt;140598675464712 -->\n<g class=\"edge\" id=\"edge84\">\n<title>140598676385632-&gt;140598675464712</title>\n<path d=\"M292.264,-4088.4551C291.7112,-4080.3828 291.0463,-4070.6764 290.4303,-4061.6817\" fill=\"none\" stroke=\"#000000\"/>\n<polygon fill=\"#000000\" points=\"293.9143,-4061.3278 289.7391,-4051.5904 286.9307,-4061.8062 293.9143,-4061.3278\" stroke=\"#000000\"/>\n</g>\n<!-- 140598675540680 -->\n<g class=\"node\" id=\"node79\">\n<title>140598675540680</title>\n<polygon fill=\"none\" points=\"149,-3942.5 149,-3978.5 412,-3978.5 412,-3942.5 149,-3942.5\" stroke=\"#000000\"/>\n<text fill=\"#000000\" font-family=\"Times,serif\" font-size=\"14.00\" text-anchor=\"middle\" x=\"280.5\" y=\"-3956.8\">block9_sepconv1_bn: BatchNormalization</text>\n</g>\n<!-- 140598675464712&#45;&gt;140598675540680 -->\n<g class=\"edge\" id=\"edge85\">\n<title>140598675464712-&gt;140598675540680</title>\n<path d=\"M286.5225,-4015.4551C285.6378,-4007.3828 284.5741,-3997.6764 283.5884,-3988.6817\" fill=\"none\" stroke=\"#000000\"/>\n<polygon fill=\"#000000\" points=\"287.0511,-3988.1495 282.4825,-3978.5904 280.0928,-3988.9122 287.0511,-3988.1495\" stroke=\"#000000\"/>\n</g>\n<!-- 140598675672592 -->\n<g class=\"node\" id=\"node80\">\n<title>140598675672592</title>\n<polygon fill=\"none\" points=\"176,-3869.5 176,-3905.5 385,-3905.5 385,-3869.5 176,-3869.5\" stroke=\"#000000\"/>\n<text fill=\"#000000\" font-family=\"Times,serif\" font-size=\"14.00\" text-anchor=\"middle\" x=\"280.5\" y=\"-3883.8\">block9_sepconv2_act: Activation</text>\n</g>\n<!-- 140598675540680&#45;&gt;140598675672592 -->\n<g class=\"edge\" id=\"edge86\">\n<title>140598675540680-&gt;140598675672592</title>\n<path d=\"M280.5,-3942.4551C280.5,-3934.3828 280.5,-3924.6764 280.5,-3915.6817\" fill=\"none\" stroke=\"#000000\"/>\n<polygon fill=\"#000000\" points=\"284.0001,-3915.5903 280.5,-3905.5904 277.0001,-3915.5904 284.0001,-3915.5903\" stroke=\"#000000\"/>\n</g>\n<!-- 140598675672704 -->\n<g class=\"node\" id=\"node81\">\n<title>140598675672704</title>\n<polygon fill=\"none\" points=\"164.5,-3796.5 164.5,-3832.5 396.5,-3832.5 396.5,-3796.5 164.5,-3796.5\" stroke=\"#000000\"/>\n<text fill=\"#000000\" font-family=\"Times,serif\" font-size=\"14.00\" text-anchor=\"middle\" x=\"280.5\" y=\"-3810.8\">block9_sepconv2: SeparableConv2D</text>\n</g>\n<!-- 140598675672592&#45;&gt;140598675672704 -->\n<g class=\"edge\" id=\"edge87\">\n<title>140598675672592-&gt;140598675672704</title>\n<path d=\"M280.5,-3869.4551C280.5,-3861.3828 280.5,-3851.6764 280.5,-3842.6817\" fill=\"none\" stroke=\"#000000\"/>\n<polygon fill=\"#000000\" points=\"284.0001,-3842.5903 280.5,-3832.5904 277.0001,-3842.5904 284.0001,-3842.5903\" stroke=\"#000000\"/>\n</g>\n<!-- 140598675241224 -->\n<g class=\"node\" id=\"node82\">\n<title>140598675241224</title>\n<polygon fill=\"none\" points=\"149,-3723.5 149,-3759.5 412,-3759.5 412,-3723.5 149,-3723.5\" stroke=\"#000000\"/>\n<text fill=\"#000000\" font-family=\"Times,serif\" font-size=\"14.00\" text-anchor=\"middle\" x=\"280.5\" y=\"-3737.8\">block9_sepconv2_bn: BatchNormalization</text>\n</g>\n<!-- 140598675672704&#45;&gt;140598675241224 -->\n<g class=\"edge\" id=\"edge88\">\n<title>140598675672704-&gt;140598675241224</title>\n<path d=\"M280.5,-3796.4551C280.5,-3788.3828 280.5,-3778.6764 280.5,-3769.6817\" fill=\"none\" stroke=\"#000000\"/>\n<polygon fill=\"#000000\" points=\"284.0001,-3769.5903 280.5,-3759.5904 277.0001,-3769.5904 284.0001,-3769.5903\" stroke=\"#000000\"/>\n</g>\n<!-- 140598675356024 -->\n<g class=\"node\" id=\"node83\">\n<title>140598675356024</title>\n<polygon fill=\"none\" points=\"176,-3650.5 176,-3686.5 385,-3686.5 385,-3650.5 176,-3650.5\" stroke=\"#000000\"/>\n<text fill=\"#000000\" font-family=\"Times,serif\" font-size=\"14.00\" text-anchor=\"middle\" x=\"280.5\" y=\"-3664.8\">block9_sepconv3_act: Activation</text>\n</g>\n<!-- 140598675241224&#45;&gt;140598675356024 -->\n<g class=\"edge\" id=\"edge89\">\n<title>140598675241224-&gt;140598675356024</title>\n<path d=\"M280.5,-3723.4551C280.5,-3715.3828 280.5,-3705.6764 280.5,-3696.6817\" fill=\"none\" stroke=\"#000000\"/>\n<polygon fill=\"#000000\" points=\"284.0001,-3696.5903 280.5,-3686.5904 277.0001,-3696.5904 284.0001,-3696.5903\" stroke=\"#000000\"/>\n</g>\n<!-- 140598675355912 -->\n<g class=\"node\" id=\"node84\">\n<title>140598675355912</title>\n<polygon fill=\"none\" points=\"164.5,-3577.5 164.5,-3613.5 396.5,-3613.5 396.5,-3577.5 164.5,-3577.5\" stroke=\"#000000\"/>\n<text fill=\"#000000\" font-family=\"Times,serif\" font-size=\"14.00\" text-anchor=\"middle\" x=\"280.5\" y=\"-3591.8\">block9_sepconv3: SeparableConv2D</text>\n</g>\n<!-- 140598675356024&#45;&gt;140598675355912 -->\n<g class=\"edge\" id=\"edge90\">\n<title>140598675356024-&gt;140598675355912</title>\n<path d=\"M280.5,-3650.4551C280.5,-3642.3828 280.5,-3632.6764 280.5,-3623.6817\" fill=\"none\" stroke=\"#000000\"/>\n<polygon fill=\"#000000\" points=\"284.0001,-3623.5903 280.5,-3613.5904 277.0001,-3623.5904 284.0001,-3623.5903\" stroke=\"#000000\"/>\n</g>\n<!-- 140598675372408 -->\n<g class=\"node\" id=\"node85\">\n<title>140598675372408</title>\n<polygon fill=\"none\" points=\"149,-3504.5 149,-3540.5 412,-3540.5 412,-3504.5 149,-3504.5\" stroke=\"#000000\"/>\n<text fill=\"#000000\" font-family=\"Times,serif\" font-size=\"14.00\" text-anchor=\"middle\" x=\"280.5\" y=\"-3518.8\">block9_sepconv3_bn: BatchNormalization</text>\n</g>\n<!-- 140598675355912&#45;&gt;140598675372408 -->\n<g class=\"edge\" id=\"edge91\">\n<title>140598675355912-&gt;140598675372408</title>\n<path d=\"M280.5,-3577.4551C280.5,-3569.3828 280.5,-3559.6764 280.5,-3550.6817\" fill=\"none\" stroke=\"#000000\"/>\n<polygon fill=\"#000000\" points=\"284.0001,-3550.5903 280.5,-3540.5904 277.0001,-3550.5904 284.0001,-3550.5903\" stroke=\"#000000\"/>\n</g>\n<!-- 140598675372408&#45;&gt;140598674975992 -->\n<g class=\"edge\" id=\"edge92\">\n<title>140598675372408-&gt;140598674975992</title>\n<path d=\"M300.2753,-3504.4551C310.1793,-3495.4177 322.3281,-3484.3319 333.1138,-3474.4899\" fill=\"none\" stroke=\"#000000\"/>\n<polygon fill=\"#000000\" points=\"335.6473,-3476.9163 340.6749,-3467.5904 330.9289,-3471.7455 335.6473,-3476.9163\" stroke=\"#000000\"/>\n</g>\n<!-- 140598675464544 -->\n<g class=\"node\" id=\"node87\">\n<title>140598675464544</title>\n<polygon fill=\"none\" points=\"184.5,-3358.5 184.5,-3394.5 400.5,-3394.5 400.5,-3358.5 184.5,-3358.5\" stroke=\"#000000\"/>\n<text fill=\"#000000\" font-family=\"Times,serif\" font-size=\"14.00\" text-anchor=\"middle\" x=\"292.5\" y=\"-3372.8\">block10_sepconv1_act: Activation</text>\n</g>\n<!-- 140598674975992&#45;&gt;140598675464544 -->\n<g class=\"edge\" id=\"edge94\">\n<title>140598674975992-&gt;140598675464544</title>\n<path d=\"M343.691,-3431.4551C335.4361,-3422.5932 325.3465,-3411.7616 316.3136,-3402.0646\" fill=\"none\" stroke=\"#000000\"/>\n<polygon fill=\"#000000\" points=\"318.7284,-3399.522 309.3513,-3394.5904 313.6063,-3404.2932 318.7284,-3399.522\" stroke=\"#000000\"/>\n</g>\n<!-- 140598674612008 -->\n<g class=\"node\" id=\"node96\">\n<title>140598674612008</title>\n<polygon fill=\"none\" points=\"310.5,-2701.5 310.5,-2737.5 402.5,-2737.5 402.5,-2701.5 310.5,-2701.5\" stroke=\"#000000\"/>\n<text fill=\"#000000\" font-family=\"Times,serif\" font-size=\"14.00\" text-anchor=\"middle\" x=\"356.5\" y=\"-2715.8\">add_21: Add</text>\n</g>\n<!-- 140598674975992&#45;&gt;140598674612008 -->\n<g class=\"edge\" id=\"edge104\">\n<title>140598674975992-&gt;140598674612008</title>\n<path d=\"M380.3858,-3431.4106C390.3023,-3421.4833 401.7921,-3408.4741 409.5,-3395 430.6828,-3357.9704 438.5,-3346.1603 438.5,-3303.5 438.5,-3303.5 438.5,-3303.5 438.5,-2865.5 438.5,-2823.9658 440.5391,-2809.8112 419.5,-2774 412.7946,-2762.5865 402.8304,-2752.3676 392.7949,-2743.948\" fill=\"none\" stroke=\"#000000\"/>\n<polygon fill=\"#000000\" points=\"394.8,-2741.0709 384.7922,-2737.5929 390.4468,-2746.5527 394.8,-2741.0709\" stroke=\"#000000\"/>\n</g>\n<!-- 140598675035248 -->\n<g class=\"node\" id=\"node88\">\n<title>140598675035248</title>\n<polygon fill=\"none\" points=\"163,-3285.5 163,-3321.5 402,-3321.5 402,-3285.5 163,-3285.5\" stroke=\"#000000\"/>\n<text fill=\"#000000\" font-family=\"Times,serif\" font-size=\"14.00\" text-anchor=\"middle\" x=\"282.5\" y=\"-3299.8\">block10_sepconv1: SeparableConv2D</text>\n</g>\n<!-- 140598675464544&#45;&gt;140598675035248 -->\n<g class=\"edge\" id=\"edge95\">\n<title>140598675464544-&gt;140598675035248</title>\n<path d=\"M290.0281,-3358.4551C288.9223,-3350.3828 287.5927,-3340.6764 286.3605,-3331.6817\" fill=\"none\" stroke=\"#000000\"/>\n<polygon fill=\"#000000\" points=\"289.803,-3331.0228 284.9781,-3321.5904 282.8678,-3331.9729 289.803,-3331.0228\" stroke=\"#000000\"/>\n</g>\n<!-- 140598675132712 -->\n<g class=\"node\" id=\"node89\">\n<title>140598675132712</title>\n<polygon fill=\"none\" points=\"139,-3212.5 139,-3248.5 410,-3248.5 410,-3212.5 139,-3212.5\" stroke=\"#000000\"/>\n<text fill=\"#000000\" font-family=\"Times,serif\" font-size=\"14.00\" text-anchor=\"middle\" x=\"274.5\" y=\"-3226.8\">block10_sepconv1_bn: BatchNormalization</text>\n</g>\n<!-- 140598675035248&#45;&gt;140598675132712 -->\n<g class=\"edge\" id=\"edge96\">\n<title>140598675035248-&gt;140598675132712</title>\n<path d=\"M280.5225,-3285.4551C279.6378,-3277.3828 278.5741,-3267.6764 277.5884,-3258.6817\" fill=\"none\" stroke=\"#000000\"/>\n<polygon fill=\"#000000\" points=\"281.0511,-3258.1495 276.4825,-3248.5904 274.0928,-3258.9122 281.0511,-3258.1495\" stroke=\"#000000\"/>\n</g>\n<!-- 140598674706328 -->\n<g class=\"node\" id=\"node90\">\n<title>140598674706328</title>\n<polygon fill=\"none\" points=\"166.5,-3139.5 166.5,-3175.5 382.5,-3175.5 382.5,-3139.5 166.5,-3139.5\" stroke=\"#000000\"/>\n<text fill=\"#000000\" font-family=\"Times,serif\" font-size=\"14.00\" text-anchor=\"middle\" x=\"274.5\" y=\"-3153.8\">block10_sepconv2_act: Activation</text>\n</g>\n<!-- 140598675132712&#45;&gt;140598674706328 -->\n<g class=\"edge\" id=\"edge97\">\n<title>140598675132712-&gt;140598674706328</title>\n<path d=\"M274.5,-3212.4551C274.5,-3204.3828 274.5,-3194.6764 274.5,-3185.6817\" fill=\"none\" stroke=\"#000000\"/>\n<polygon fill=\"#000000\" points=\"278.0001,-3185.5903 274.5,-3175.5904 271.0001,-3185.5904 278.0001,-3185.5903\" stroke=\"#000000\"/>\n</g>\n<!-- 140598674713232 -->\n<g class=\"node\" id=\"node91\">\n<title>140598674713232</title>\n<polygon fill=\"none\" points=\"155,-3066.5 155,-3102.5 394,-3102.5 394,-3066.5 155,-3066.5\" stroke=\"#000000\"/>\n<text fill=\"#000000\" font-family=\"Times,serif\" font-size=\"14.00\" text-anchor=\"middle\" x=\"274.5\" y=\"-3080.8\">block10_sepconv2: SeparableConv2D</text>\n</g>\n<!-- 140598674706328&#45;&gt;140598674713232 -->\n<g class=\"edge\" id=\"edge98\">\n<title>140598674706328-&gt;140598674713232</title>\n<path d=\"M274.5,-3139.4551C274.5,-3131.3828 274.5,-3121.6764 274.5,-3112.6817\" fill=\"none\" stroke=\"#000000\"/>\n<polygon fill=\"#000000\" points=\"278.0001,-3112.5903 274.5,-3102.5904 271.0001,-3112.5904 278.0001,-3112.5903\" stroke=\"#000000\"/>\n</g>\n<!-- 140598674799528 -->\n<g class=\"node\" id=\"node92\">\n<title>140598674799528</title>\n<polygon fill=\"none\" points=\"139,-2993.5 139,-3029.5 410,-3029.5 410,-2993.5 139,-2993.5\" stroke=\"#000000\"/>\n<text fill=\"#000000\" font-family=\"Times,serif\" font-size=\"14.00\" text-anchor=\"middle\" x=\"274.5\" y=\"-3007.8\">block10_sepconv2_bn: BatchNormalization</text>\n</g>\n<!-- 140598674713232&#45;&gt;140598674799528 -->\n<g class=\"edge\" id=\"edge99\">\n<title>140598674713232-&gt;140598674799528</title>\n<path d=\"M274.5,-3066.4551C274.5,-3058.3828 274.5,-3048.6764 274.5,-3039.6817\" fill=\"none\" stroke=\"#000000\"/>\n<polygon fill=\"#000000\" points=\"278.0001,-3039.5903 274.5,-3029.5904 271.0001,-3039.5904 278.0001,-3039.5903\" stroke=\"#000000\"/>\n</g>\n<!-- 140598674922520 -->\n<g class=\"node\" id=\"node93\">\n<title>140598674922520</title>\n<polygon fill=\"none\" points=\"166.5,-2920.5 166.5,-2956.5 382.5,-2956.5 382.5,-2920.5 166.5,-2920.5\" stroke=\"#000000\"/>\n<text fill=\"#000000\" font-family=\"Times,serif\" font-size=\"14.00\" text-anchor=\"middle\" x=\"274.5\" y=\"-2934.8\">block10_sepconv3_act: Activation</text>\n</g>\n<!-- 140598674799528&#45;&gt;140598674922520 -->\n<g class=\"edge\" id=\"edge100\">\n<title>140598674799528-&gt;140598674922520</title>\n<path d=\"M274.5,-2993.4551C274.5,-2985.3828 274.5,-2975.6764 274.5,-2966.6817\" fill=\"none\" stroke=\"#000000\"/>\n<polygon fill=\"#000000\" points=\"278.0001,-2966.5903 274.5,-2956.5904 271.0001,-2966.5904 278.0001,-2966.5903\" stroke=\"#000000\"/>\n</g>\n<!-- 140598674922408 -->\n<g class=\"node\" id=\"node94\">\n<title>140598674922408</title>\n<polygon fill=\"none\" points=\"155,-2847.5 155,-2883.5 394,-2883.5 394,-2847.5 155,-2847.5\" stroke=\"#000000\"/>\n<text fill=\"#000000\" font-family=\"Times,serif\" font-size=\"14.00\" text-anchor=\"middle\" x=\"274.5\" y=\"-2861.8\">block10_sepconv3: SeparableConv2D</text>\n</g>\n<!-- 140598674922520&#45;&gt;140598674922408 -->\n<g class=\"edge\" id=\"edge101\">\n<title>140598674922520-&gt;140598674922408</title>\n<path d=\"M274.5,-2920.4551C274.5,-2912.3828 274.5,-2902.6764 274.5,-2893.6817\" fill=\"none\" stroke=\"#000000\"/>\n<polygon fill=\"#000000\" points=\"278.0001,-2893.5903 274.5,-2883.5904 271.0001,-2893.5904 278.0001,-2893.5903\" stroke=\"#000000\"/>\n</g>\n<!-- 140598674417872 -->\n<g class=\"node\" id=\"node95\">\n<title>140598674417872</title>\n<polygon fill=\"none\" points=\"139,-2774.5 139,-2810.5 410,-2810.5 410,-2774.5 139,-2774.5\" stroke=\"#000000\"/>\n<text fill=\"#000000\" font-family=\"Times,serif\" font-size=\"14.00\" text-anchor=\"middle\" x=\"274.5\" y=\"-2788.8\">block10_sepconv3_bn: BatchNormalization</text>\n</g>\n<!-- 140598674922408&#45;&gt;140598674417872 -->\n<g class=\"edge\" id=\"edge102\">\n<title>140598674922408-&gt;140598674417872</title>\n<path d=\"M274.5,-2847.4551C274.5,-2839.3828 274.5,-2829.6764 274.5,-2820.6817\" fill=\"none\" stroke=\"#000000\"/>\n<polygon fill=\"#000000\" points=\"278.0001,-2820.5903 274.5,-2810.5904 271.0001,-2820.5904 278.0001,-2820.5903\" stroke=\"#000000\"/>\n</g>\n<!-- 140598674417872&#45;&gt;140598674612008 -->\n<g class=\"edge\" id=\"edge103\">\n<title>140598674417872-&gt;140598674612008</title>\n<path d=\"M294.7697,-2774.4551C304.9212,-2765.4177 317.3738,-2754.3319 328.4291,-2744.4899\" fill=\"none\" stroke=\"#000000\"/>\n<polygon fill=\"#000000\" points=\"331.0375,-2746.8539 336.1793,-2737.5904 326.383,-2741.6255 331.0375,-2746.8539\" stroke=\"#000000\"/>\n</g>\n<!-- 140598675035080 -->\n<g class=\"node\" id=\"node97\">\n<title>140598675035080</title>\n<polygon fill=\"none\" points=\"181,-2628.5 181,-2664.5 396,-2664.5 396,-2628.5 181,-2628.5\" stroke=\"#000000\"/>\n<text fill=\"#000000\" font-family=\"Times,serif\" font-size=\"14.00\" text-anchor=\"middle\" x=\"288.5\" y=\"-2642.8\">block11_sepconv1_act: Activation</text>\n</g>\n<!-- 140598674612008&#45;&gt;140598675035080 -->\n<g class=\"edge\" id=\"edge105\">\n<title>140598674612008-&gt;140598675035080</title>\n<path d=\"M339.691,-2701.4551C331.4361,-2692.5932 321.3465,-2681.7616 312.3136,-2672.0646\" fill=\"none\" stroke=\"#000000\"/>\n<polygon fill=\"#000000\" points=\"314.7284,-2669.522 305.3513,-2664.5904 309.6063,-2674.2932 314.7284,-2669.522\" stroke=\"#000000\"/>\n</g>\n<!-- 140590771374512 -->\n<g class=\"node\" id=\"node106\">\n<title>140590771374512</title>\n<polygon fill=\"none\" points=\"305.5,-1971.5 305.5,-2007.5 397.5,-2007.5 397.5,-1971.5 305.5,-1971.5\" stroke=\"#000000\"/>\n<text fill=\"#000000\" font-family=\"Times,serif\" font-size=\"14.00\" text-anchor=\"middle\" x=\"351.5\" y=\"-1985.8\">add_22: Add</text>\n</g>\n<!-- 140598674612008&#45;&gt;140590771374512 -->\n<g class=\"edge\" id=\"edge115\">\n<title>140598674612008-&gt;140590771374512</title>\n<path d=\"M376.4411,-2701.442C386.3727,-2691.5233 397.8593,-2678.5123 405.5,-2665 426.4331,-2627.9804 433.5,-2616.0281 433.5,-2573.5 433.5,-2573.5 433.5,-2573.5 433.5,-2135.5 433.5,-2093.9658 435.5391,-2079.8112 414.5,-2044 407.7946,-2032.5865 397.8304,-2022.3676 387.7949,-2013.948\" fill=\"none\" stroke=\"#000000\"/>\n<polygon fill=\"#000000\" points=\"389.8,-2011.0709 379.7922,-2007.5929 385.4468,-2016.5527 389.8,-2011.0709\" stroke=\"#000000\"/>\n</g>\n<!-- 140598674609824 -->\n<g class=\"node\" id=\"node98\">\n<title>140598674609824</title>\n<polygon fill=\"none\" points=\"159,-2555.5 159,-2591.5 398,-2591.5 398,-2555.5 159,-2555.5\" stroke=\"#000000\"/>\n<text fill=\"#000000\" font-family=\"Times,serif\" font-size=\"14.00\" text-anchor=\"middle\" x=\"278.5\" y=\"-2569.8\">block11_sepconv1: SeparableConv2D</text>\n</g>\n<!-- 140598675035080&#45;&gt;140598674609824 -->\n<g class=\"edge\" id=\"edge106\">\n<title>140598675035080-&gt;140598674609824</title>\n<path d=\"M286.0281,-2628.4551C284.9223,-2620.3828 283.5927,-2610.6764 282.3605,-2601.6817\" fill=\"none\" stroke=\"#000000\"/>\n<polygon fill=\"#000000\" points=\"285.803,-2601.0228 280.9781,-2591.5904 278.8678,-2601.9729 285.803,-2601.0228\" stroke=\"#000000\"/>\n</g>\n<!-- 140598674186536 -->\n<g class=\"node\" id=\"node99\">\n<title>140598674186536</title>\n<polygon fill=\"none\" points=\"135.5,-2482.5 135.5,-2518.5 405.5,-2518.5 405.5,-2482.5 135.5,-2482.5\" stroke=\"#000000\"/>\n<text fill=\"#000000\" font-family=\"Times,serif\" font-size=\"14.00\" text-anchor=\"middle\" x=\"270.5\" y=\"-2496.8\">block11_sepconv1_bn: BatchNormalization</text>\n</g>\n<!-- 140598674609824&#45;&gt;140598674186536 -->\n<g class=\"edge\" id=\"edge107\">\n<title>140598674609824-&gt;140598674186536</title>\n<path d=\"M276.5225,-2555.4551C275.6378,-2547.3828 274.5741,-2537.6764 273.5884,-2528.6817\" fill=\"none\" stroke=\"#000000\"/>\n<polygon fill=\"#000000\" points=\"277.0511,-2528.1495 272.4825,-2518.5904 270.0928,-2528.9122 277.0511,-2528.1495\" stroke=\"#000000\"/>\n</g>\n<!-- 140598674308344 -->\n<g class=\"node\" id=\"node100\">\n<title>140598674308344</title>\n<polygon fill=\"none\" points=\"163,-2409.5 163,-2445.5 378,-2445.5 378,-2409.5 163,-2409.5\" stroke=\"#000000\"/>\n<text fill=\"#000000\" font-family=\"Times,serif\" font-size=\"14.00\" text-anchor=\"middle\" x=\"270.5\" y=\"-2423.8\">block11_sepconv2_act: Activation</text>\n</g>\n<!-- 140598674186536&#45;&gt;140598674308344 -->\n<g class=\"edge\" id=\"edge108\">\n<title>140598674186536-&gt;140598674308344</title>\n<path d=\"M270.5,-2482.4551C270.5,-2474.3828 270.5,-2464.6764 270.5,-2455.6817\" fill=\"none\" stroke=\"#000000\"/>\n<polygon fill=\"#000000\" points=\"274.0001,-2455.5903 270.5,-2445.5904 267.0001,-2455.5904 274.0001,-2455.5903\" stroke=\"#000000\"/>\n</g>\n<!-- 140598674308400 -->\n<g class=\"node\" id=\"node101\">\n<title>140598674308400</title>\n<polygon fill=\"none\" points=\"151,-2336.5 151,-2372.5 390,-2372.5 390,-2336.5 151,-2336.5\" stroke=\"#000000\"/>\n<text fill=\"#000000\" font-family=\"Times,serif\" font-size=\"14.00\" text-anchor=\"middle\" x=\"270.5\" y=\"-2350.8\">block11_sepconv2: SeparableConv2D</text>\n</g>\n<!-- 140598674308344&#45;&gt;140598674308400 -->\n<g class=\"edge\" id=\"edge109\">\n<title>140598674308344-&gt;140598674308400</title>\n<path d=\"M270.5,-2409.4551C270.5,-2401.3828 270.5,-2391.6764 270.5,-2382.6817\" fill=\"none\" stroke=\"#000000\"/>\n<polygon fill=\"#000000\" points=\"274.0001,-2382.5903 270.5,-2372.5904 267.0001,-2382.5904 274.0001,-2382.5903\" stroke=\"#000000\"/>\n</g>\n<!-- 140598674381848 -->\n<g class=\"node\" id=\"node102\">\n<title>140598674381848</title>\n<polygon fill=\"none\" points=\"135.5,-2263.5 135.5,-2299.5 405.5,-2299.5 405.5,-2263.5 135.5,-2263.5\" stroke=\"#000000\"/>\n<text fill=\"#000000\" font-family=\"Times,serif\" font-size=\"14.00\" text-anchor=\"middle\" x=\"270.5\" y=\"-2277.8\">block11_sepconv2_bn: BatchNormalization</text>\n</g>\n<!-- 140598674308400&#45;&gt;140598674381848 -->\n<g class=\"edge\" id=\"edge110\">\n<title>140598674308400-&gt;140598674381848</title>\n<path d=\"M270.5,-2336.4551C270.5,-2328.3828 270.5,-2318.6764 270.5,-2309.6817\" fill=\"none\" stroke=\"#000000\"/>\n<polygon fill=\"#000000\" points=\"274.0001,-2309.5903 270.5,-2299.5904 267.0001,-2309.5904 274.0001,-2309.5903\" stroke=\"#000000\"/>\n</g>\n<!-- 140598673981000 -->\n<g class=\"node\" id=\"node103\">\n<title>140598673981000</title>\n<polygon fill=\"none\" points=\"163,-2190.5 163,-2226.5 378,-2226.5 378,-2190.5 163,-2190.5\" stroke=\"#000000\"/>\n<text fill=\"#000000\" font-family=\"Times,serif\" font-size=\"14.00\" text-anchor=\"middle\" x=\"270.5\" y=\"-2204.8\">block11_sepconv3_act: Activation</text>\n</g>\n<!-- 140598674381848&#45;&gt;140598673981000 -->\n<g class=\"edge\" id=\"edge111\">\n<title>140598674381848-&gt;140598673981000</title>\n<path d=\"M270.5,-2263.4551C270.5,-2255.3828 270.5,-2245.6764 270.5,-2236.6817\" fill=\"none\" stroke=\"#000000\"/>\n<polygon fill=\"#000000\" points=\"274.0001,-2236.5903 270.5,-2226.5904 267.0001,-2236.5904 274.0001,-2236.5903\" stroke=\"#000000\"/>\n</g>\n<!-- 140598673981112 -->\n<g class=\"node\" id=\"node104\">\n<title>140598673981112</title>\n<polygon fill=\"none\" points=\"151,-2117.5 151,-2153.5 390,-2153.5 390,-2117.5 151,-2117.5\" stroke=\"#000000\"/>\n<text fill=\"#000000\" font-family=\"Times,serif\" font-size=\"14.00\" text-anchor=\"middle\" x=\"270.5\" y=\"-2131.8\">block11_sepconv3: SeparableConv2D</text>\n</g>\n<!-- 140598673981000&#45;&gt;140598673981112 -->\n<g class=\"edge\" id=\"edge112\">\n<title>140598673981000-&gt;140598673981112</title>\n<path d=\"M270.5,-2190.4551C270.5,-2182.3828 270.5,-2172.6764 270.5,-2163.6817\" fill=\"none\" stroke=\"#000000\"/>\n<polygon fill=\"#000000\" points=\"274.0001,-2163.5903 270.5,-2153.5904 267.0001,-2163.5904 274.0001,-2163.5903\" stroke=\"#000000\"/>\n</g>\n<!-- 140598674069824 -->\n<g class=\"node\" id=\"node105\">\n<title>140598674069824</title>\n<polygon fill=\"none\" points=\"135.5,-2044.5 135.5,-2080.5 405.5,-2080.5 405.5,-2044.5 135.5,-2044.5\" stroke=\"#000000\"/>\n<text fill=\"#000000\" font-family=\"Times,serif\" font-size=\"14.00\" text-anchor=\"middle\" x=\"270.5\" y=\"-2058.8\">block11_sepconv3_bn: BatchNormalization</text>\n</g>\n<!-- 140598673981112&#45;&gt;140598674069824 -->\n<g class=\"edge\" id=\"edge113\">\n<title>140598673981112-&gt;140598674069824</title>\n<path d=\"M270.5,-2117.4551C270.5,-2109.3828 270.5,-2099.6764 270.5,-2090.6817\" fill=\"none\" stroke=\"#000000\"/>\n<polygon fill=\"#000000\" points=\"274.0001,-2090.5903 270.5,-2080.5904 267.0001,-2090.5904 274.0001,-2090.5903\" stroke=\"#000000\"/>\n</g>\n<!-- 140598674069824&#45;&gt;140590771374512 -->\n<g class=\"edge\" id=\"edge114\">\n<title>140598674069824-&gt;140590771374512</title>\n<path d=\"M290.5225,-2044.4551C300.5502,-2035.4177 312.8509,-2024.3319 323.7714,-2014.4899\" fill=\"none\" stroke=\"#000000\"/>\n<polygon fill=\"#000000\" points=\"326.3419,-2016.885 331.4271,-2007.5904 321.6556,-2011.6852 326.3419,-2016.885\" stroke=\"#000000\"/>\n</g>\n<!-- 140598674609768 -->\n<g class=\"node\" id=\"node107\">\n<title>140598674609768</title>\n<polygon fill=\"none\" points=\"175.5,-1898.5 175.5,-1934.5 391.5,-1934.5 391.5,-1898.5 175.5,-1898.5\" stroke=\"#000000\"/>\n<text fill=\"#000000\" font-family=\"Times,serif\" font-size=\"14.00\" text-anchor=\"middle\" x=\"283.5\" y=\"-1912.8\">block12_sepconv1_act: Activation</text>\n</g>\n<!-- 140590771374512&#45;&gt;140598674609768 -->\n<g class=\"edge\" id=\"edge116\">\n<title>140590771374512-&gt;140598674609768</title>\n<path d=\"M334.691,-1971.4551C326.4361,-1962.5932 316.3465,-1951.7616 307.3136,-1942.0646\" fill=\"none\" stroke=\"#000000\"/>\n<polygon fill=\"#000000\" points=\"309.7284,-1939.522 300.3513,-1934.5904 304.6063,-1944.2932 309.7284,-1939.522\" stroke=\"#000000\"/>\n</g>\n<!-- 140590770941008 -->\n<g class=\"node\" id=\"node116\">\n<title>140590770941008</title>\n<polygon fill=\"none\" points=\"301.5,-1241.5 301.5,-1277.5 393.5,-1277.5 393.5,-1241.5 301.5,-1241.5\" stroke=\"#000000\"/>\n<text fill=\"#000000\" font-family=\"Times,serif\" font-size=\"14.00\" text-anchor=\"middle\" x=\"347.5\" y=\"-1255.8\">add_23: Add</text>\n</g>\n<!-- 140590771374512&#45;&gt;140590770941008 -->\n<g class=\"edge\" id=\"edge126\">\n<title>140590771374512-&gt;140590770941008</title>\n<path d=\"M371.3858,-1971.4106C381.3023,-1961.4833 392.7921,-1948.4741 400.5,-1935 421.6828,-1897.9704 429.5,-1886.1603 429.5,-1843.5 429.5,-1843.5 429.5,-1843.5 429.5,-1405.5 429.5,-1363.9658 431.5391,-1349.8112 410.5,-1314 403.7946,-1302.5865 393.8304,-1292.3676 383.7949,-1283.948\" fill=\"none\" stroke=\"#000000\"/>\n<polygon fill=\"#000000\" points=\"385.8,-1281.0709 375.7922,-1277.5929 381.4468,-1286.5527 385.8,-1281.0709\" stroke=\"#000000\"/>\n</g>\n<!-- 140590771374456 -->\n<g class=\"node\" id=\"node108\">\n<title>140590771374456</title>\n<polygon fill=\"none\" points=\"154,-1825.5 154,-1861.5 393,-1861.5 393,-1825.5 154,-1825.5\" stroke=\"#000000\"/>\n<text fill=\"#000000\" font-family=\"Times,serif\" font-size=\"14.00\" text-anchor=\"middle\" x=\"273.5\" y=\"-1839.8\">block12_sepconv1: SeparableConv2D</text>\n</g>\n<!-- 140598674609768&#45;&gt;140590771374456 -->\n<g class=\"edge\" id=\"edge117\">\n<title>140598674609768-&gt;140590771374456</title>\n<path d=\"M281.0281,-1898.4551C279.9223,-1890.3828 278.5927,-1880.6764 277.3605,-1871.6817\" fill=\"none\" stroke=\"#000000\"/>\n<polygon fill=\"#000000\" points=\"280.803,-1871.0228 275.9781,-1861.5904 273.8678,-1871.9729 280.803,-1871.0228\" stroke=\"#000000\"/>\n</g>\n<!-- 140590771471528 -->\n<g class=\"node\" id=\"node109\">\n<title>140590771471528</title>\n<polygon fill=\"none\" points=\"130,-1752.5 130,-1788.5 401,-1788.5 401,-1752.5 130,-1752.5\" stroke=\"#000000\"/>\n<text fill=\"#000000\" font-family=\"Times,serif\" font-size=\"14.00\" text-anchor=\"middle\" x=\"265.5\" y=\"-1766.8\">block12_sepconv1_bn: BatchNormalization</text>\n</g>\n<!-- 140590771374456&#45;&gt;140590771471528 -->\n<g class=\"edge\" id=\"edge118\">\n<title>140590771374456-&gt;140590771471528</title>\n<path d=\"M271.5225,-1825.4551C270.6378,-1817.3828 269.5741,-1807.6764 268.5884,-1798.6817\" fill=\"none\" stroke=\"#000000\"/>\n<polygon fill=\"#000000\" points=\"272.0511,-1798.1495 267.4825,-1788.5904 265.0928,-1798.9122 272.0511,-1798.1495\" stroke=\"#000000\"/>\n</g>\n<!-- 140590771580600 -->\n<g class=\"node\" id=\"node110\">\n<title>140590771580600</title>\n<polygon fill=\"none\" points=\"157.5,-1679.5 157.5,-1715.5 373.5,-1715.5 373.5,-1679.5 157.5,-1679.5\" stroke=\"#000000\"/>\n<text fill=\"#000000\" font-family=\"Times,serif\" font-size=\"14.00\" text-anchor=\"middle\" x=\"265.5\" y=\"-1693.8\">block12_sepconv2_act: Activation</text>\n</g>\n<!-- 140590771471528&#45;&gt;140590771580600 -->\n<g class=\"edge\" id=\"edge119\">\n<title>140590771471528-&gt;140590771580600</title>\n<path d=\"M265.5,-1752.4551C265.5,-1744.3828 265.5,-1734.6764 265.5,-1725.6817\" fill=\"none\" stroke=\"#000000\"/>\n<polygon fill=\"#000000\" points=\"269.0001,-1725.5903 265.5,-1715.5904 262.0001,-1725.5904 269.0001,-1725.5903\" stroke=\"#000000\"/>\n</g>\n<!-- 140590771580544 -->\n<g class=\"node\" id=\"node111\">\n<title>140590771580544</title>\n<polygon fill=\"none\" points=\"146,-1606.5 146,-1642.5 385,-1642.5 385,-1606.5 146,-1606.5\" stroke=\"#000000\"/>\n<text fill=\"#000000\" font-family=\"Times,serif\" font-size=\"14.00\" text-anchor=\"middle\" x=\"265.5\" y=\"-1620.8\">block12_sepconv2: SeparableConv2D</text>\n</g>\n<!-- 140590771580600&#45;&gt;140590771580544 -->\n<g class=\"edge\" id=\"edge120\">\n<title>140590771580600-&gt;140590771580544</title>\n<path d=\"M265.5,-1679.4551C265.5,-1671.3828 265.5,-1661.6764 265.5,-1652.6817\" fill=\"none\" stroke=\"#000000\"/>\n<polygon fill=\"#000000\" points=\"269.0001,-1652.5903 265.5,-1642.5904 262.0001,-1652.5904 269.0001,-1652.5903\" stroke=\"#000000\"/>\n</g>\n<!-- 140590771081288 -->\n<g class=\"node\" id=\"node112\">\n<title>140590771081288</title>\n<polygon fill=\"none\" points=\"130,-1533.5 130,-1569.5 401,-1569.5 401,-1533.5 130,-1533.5\" stroke=\"#000000\"/>\n<text fill=\"#000000\" font-family=\"Times,serif\" font-size=\"14.00\" text-anchor=\"middle\" x=\"265.5\" y=\"-1547.8\">block12_sepconv2_bn: BatchNormalization</text>\n</g>\n<!-- 140590771580544&#45;&gt;140590771081288 -->\n<g class=\"edge\" id=\"edge121\">\n<title>140590771580544-&gt;140590771081288</title>\n<path d=\"M265.5,-1606.4551C265.5,-1598.3828 265.5,-1588.6764 265.5,-1579.6817\" fill=\"none\" stroke=\"#000000\"/>\n<polygon fill=\"#000000\" points=\"269.0001,-1579.5903 265.5,-1569.5904 262.0001,-1579.5904 269.0001,-1579.5903\" stroke=\"#000000\"/>\n</g>\n<!-- 140590771256624 -->\n<g class=\"node\" id=\"node113\">\n<title>140590771256624</title>\n<polygon fill=\"none\" points=\"157.5,-1460.5 157.5,-1496.5 373.5,-1496.5 373.5,-1460.5 157.5,-1460.5\" stroke=\"#000000\"/>\n<text fill=\"#000000\" font-family=\"Times,serif\" font-size=\"14.00\" text-anchor=\"middle\" x=\"265.5\" y=\"-1474.8\">block12_sepconv3_act: Activation</text>\n</g>\n<!-- 140590771081288&#45;&gt;140590771256624 -->\n<g class=\"edge\" id=\"edge122\">\n<title>140590771081288-&gt;140590771256624</title>\n<path d=\"M265.5,-1533.4551C265.5,-1525.3828 265.5,-1515.6764 265.5,-1506.6817\" fill=\"none\" stroke=\"#000000\"/>\n<polygon fill=\"#000000\" points=\"269.0001,-1506.5903 265.5,-1496.5904 262.0001,-1506.5904 269.0001,-1506.5903\" stroke=\"#000000\"/>\n</g>\n<!-- 140590771264200 -->\n<g class=\"node\" id=\"node114\">\n<title>140590771264200</title>\n<polygon fill=\"none\" points=\"146,-1387.5 146,-1423.5 385,-1423.5 385,-1387.5 146,-1387.5\" stroke=\"#000000\"/>\n<text fill=\"#000000\" font-family=\"Times,serif\" font-size=\"14.00\" text-anchor=\"middle\" x=\"265.5\" y=\"-1401.8\">block12_sepconv3: SeparableConv2D</text>\n</g>\n<!-- 140590771256624&#45;&gt;140590771264200 -->\n<g class=\"edge\" id=\"edge123\">\n<title>140590771256624-&gt;140590771264200</title>\n<path d=\"M265.5,-1460.4551C265.5,-1452.3828 265.5,-1442.6764 265.5,-1433.6817\" fill=\"none\" stroke=\"#000000\"/>\n<polygon fill=\"#000000\" points=\"269.0001,-1433.5903 265.5,-1423.5904 262.0001,-1433.5904 269.0001,-1433.5903\" stroke=\"#000000\"/>\n</g>\n<!-- 140590770822112 -->\n<g class=\"node\" id=\"node115\">\n<title>140590770822112</title>\n<polygon fill=\"none\" points=\"130,-1314.5 130,-1350.5 401,-1350.5 401,-1314.5 130,-1314.5\" stroke=\"#000000\"/>\n<text fill=\"#000000\" font-family=\"Times,serif\" font-size=\"14.00\" text-anchor=\"middle\" x=\"265.5\" y=\"-1328.8\">block12_sepconv3_bn: BatchNormalization</text>\n</g>\n<!-- 140590771264200&#45;&gt;140590770822112 -->\n<g class=\"edge\" id=\"edge124\">\n<title>140590771264200-&gt;140590770822112</title>\n<path d=\"M265.5,-1387.4551C265.5,-1379.3828 265.5,-1369.6764 265.5,-1360.6817\" fill=\"none\" stroke=\"#000000\"/>\n<polygon fill=\"#000000\" points=\"269.0001,-1360.5903 265.5,-1350.5904 262.0001,-1360.5904 269.0001,-1360.5903\" stroke=\"#000000\"/>\n</g>\n<!-- 140590770822112&#45;&gt;140590770941008 -->\n<g class=\"edge\" id=\"edge125\">\n<title>140590770822112-&gt;140590770941008</title>\n<path d=\"M285.7697,-1314.4551C295.9212,-1305.4177 308.3738,-1294.3319 319.4291,-1284.4899\" fill=\"none\" stroke=\"#000000\"/>\n<polygon fill=\"#000000\" points=\"322.0375,-1286.8539 327.1793,-1277.5904 317.383,-1281.6255 322.0375,-1286.8539\" stroke=\"#000000\"/>\n</g>\n<!-- 140590770609792 -->\n<g class=\"node\" id=\"node117\">\n<title>140590770609792</title>\n<polygon fill=\"none\" points=\"171.5,-1168.5 171.5,-1204.5 387.5,-1204.5 387.5,-1168.5 171.5,-1168.5\" stroke=\"#000000\"/>\n<text fill=\"#000000\" font-family=\"Times,serif\" font-size=\"14.00\" text-anchor=\"middle\" x=\"279.5\" y=\"-1182.8\">block13_sepconv1_act: Activation</text>\n</g>\n<!-- 140590770941008&#45;&gt;140590770609792 -->\n<g class=\"edge\" id=\"edge127\">\n<title>140590770941008-&gt;140590770609792</title>\n<path d=\"M330.691,-1241.4551C322.4361,-1232.5932 312.3465,-1221.7616 303.3136,-1212.0646\" fill=\"none\" stroke=\"#000000\"/>\n<polygon fill=\"#000000\" points=\"305.7284,-1209.522 296.3513,-1204.5904 300.6063,-1214.2932 305.7284,-1209.522\" stroke=\"#000000\"/>\n</g>\n<!-- 140590770941624 -->\n<g class=\"node\" id=\"node123\">\n<title>140590770941624</title>\n<polygon fill=\"none\" points=\"404,-1095.5 404,-1131.5 537,-1131.5 537,-1095.5 404,-1095.5\" stroke=\"#000000\"/>\n<text fill=\"#000000\" font-family=\"Times,serif\" font-size=\"14.00\" text-anchor=\"middle\" x=\"470.5\" y=\"-1109.8\">conv2d_8: Conv2D</text>\n</g>\n<!-- 140590770941008&#45;&gt;140590770941624 -->\n<g class=\"edge\" id=\"edge133\">\n<title>140590770941008-&gt;140590770941624</title>\n<path d=\"M364.2991,-1241.2963C373.8726,-1230.8036 386.0138,-1217.2947 396.5,-1205 415.0103,-1183.2974 435.3408,-1158.0515 450.0004,-1139.5823\" fill=\"none\" stroke=\"#000000\"/>\n<polygon fill=\"#000000\" points=\"452.8482,-1141.6238 456.3099,-1131.6104 447.3594,-1137.2795 452.8482,-1141.6238\" stroke=\"#000000\"/>\n</g>\n<!-- 140590770636896 -->\n<g class=\"node\" id=\"node118\">\n<title>140590770636896</title>\n<polygon fill=\"none\" points=\"126,-1095.5 126,-1131.5 365,-1131.5 365,-1095.5 126,-1095.5\" stroke=\"#000000\"/>\n<text fill=\"#000000\" font-family=\"Times,serif\" font-size=\"14.00\" text-anchor=\"middle\" x=\"245.5\" y=\"-1109.8\">block13_sepconv1: SeparableConv2D</text>\n</g>\n<!-- 140590770609792&#45;&gt;140590770636896 -->\n<g class=\"edge\" id=\"edge128\">\n<title>140590770609792-&gt;140590770636896</title>\n<path d=\"M271.0955,-1168.4551C267.2132,-1160.1196 262.5194,-1150.0416 258.217,-1140.8042\" fill=\"none\" stroke=\"#000000\"/>\n<polygon fill=\"#000000\" points=\"261.3205,-1139.1776 253.9256,-1131.5904 254.975,-1142.1331 261.3205,-1139.1776\" stroke=\"#000000\"/>\n</g>\n<!-- 140590770707144 -->\n<g class=\"node\" id=\"node119\">\n<title>140590770707144</title>\n<polygon fill=\"none\" points=\"68,-1022.5 68,-1058.5 339,-1058.5 339,-1022.5 68,-1022.5\" stroke=\"#000000\"/>\n<text fill=\"#000000\" font-family=\"Times,serif\" font-size=\"14.00\" text-anchor=\"middle\" x=\"203.5\" y=\"-1036.8\">block13_sepconv1_bn: BatchNormalization</text>\n</g>\n<!-- 140590770636896&#45;&gt;140590770707144 -->\n<g class=\"edge\" id=\"edge129\">\n<title>140590770636896-&gt;140590770707144</title>\n<path d=\"M235.118,-1095.4551C230.2718,-1087.0319 224.4018,-1076.8292 219.0416,-1067.5128\" fill=\"none\" stroke=\"#000000\"/>\n<polygon fill=\"#000000\" points=\"221.9289,-1065.5127 213.9082,-1058.5904 215.8614,-1069.0036 221.9289,-1065.5127\" stroke=\"#000000\"/>\n</g>\n<!-- 140590770297656 -->\n<g class=\"node\" id=\"node120\">\n<title>140590770297656</title>\n<polygon fill=\"none\" points=\"157.5,-949.5 157.5,-985.5 373.5,-985.5 373.5,-949.5 157.5,-949.5\" stroke=\"#000000\"/>\n<text fill=\"#000000\" font-family=\"Times,serif\" font-size=\"14.00\" text-anchor=\"middle\" x=\"265.5\" y=\"-963.8\">block13_sepconv2_act: Activation</text>\n</g>\n<!-- 140590770707144&#45;&gt;140590770297656 -->\n<g class=\"edge\" id=\"edge130\">\n<title>140590770707144-&gt;140590770297656</title>\n<path d=\"M218.8258,-1022.4551C226.2779,-1013.6809 235.3698,-1002.9759 243.5427,-993.353\" fill=\"none\" stroke=\"#000000\"/>\n<polygon fill=\"#000000\" points=\"246.3298,-995.4781 250.1356,-985.5904 240.9944,-990.9466 246.3298,-995.4781\" stroke=\"#000000\"/>\n</g>\n<!-- 140590770297544 -->\n<g class=\"node\" id=\"node121\">\n<title>140590770297544</title>\n<polygon fill=\"none\" points=\"177,-876.5 177,-912.5 416,-912.5 416,-876.5 177,-876.5\" stroke=\"#000000\"/>\n<text fill=\"#000000\" font-family=\"Times,serif\" font-size=\"14.00\" text-anchor=\"middle\" x=\"296.5\" y=\"-890.8\">block13_sepconv2: SeparableConv2D</text>\n</g>\n<!-- 140590770297656&#45;&gt;140590770297544 -->\n<g class=\"edge\" id=\"edge131\">\n<title>140590770297656-&gt;140590770297544</title>\n<path d=\"M273.1629,-949.4551C276.7026,-941.1196 280.9823,-931.0416 284.9051,-921.8042\" fill=\"none\" stroke=\"#000000\"/>\n<polygon fill=\"#000000\" points=\"288.1306,-923.1629 288.8178,-912.5904 281.6874,-920.4267 288.1306,-923.1629\" stroke=\"#000000\"/>\n</g>\n<!-- 140590770386536 -->\n<g class=\"node\" id=\"node122\">\n<title>140590770386536</title>\n<polygon fill=\"none\" points=\"177,-803.5 177,-839.5 448,-839.5 448,-803.5 177,-803.5\" stroke=\"#000000\"/>\n<text fill=\"#000000\" font-family=\"Times,serif\" font-size=\"14.00\" text-anchor=\"middle\" x=\"312.5\" y=\"-817.8\">block13_sepconv2_bn: BatchNormalization</text>\n</g>\n<!-- 140590770297544&#45;&gt;140590770386536 -->\n<g class=\"edge\" id=\"edge132\">\n<title>140590770297544-&gt;140590770386536</title>\n<path d=\"M300.4551,-876.4551C302.2435,-868.2951 304.398,-858.4652 306.3874,-849.3887\" fill=\"none\" stroke=\"#000000\"/>\n<polygon fill=\"#000000\" points=\"309.8128,-850.1079 308.535,-839.5904 302.9751,-848.6091 309.8128,-850.1079\" stroke=\"#000000\"/>\n</g>\n<!-- 140590770511656 -->\n<g class=\"node\" id=\"node124\">\n<title>140590770511656</title>\n<polygon fill=\"none\" points=\"243,-730.5 243,-766.5 438,-766.5 438,-730.5 243,-730.5\" stroke=\"#000000\"/>\n<text fill=\"#000000\" font-family=\"Times,serif\" font-size=\"14.00\" text-anchor=\"middle\" x=\"340.5\" y=\"-744.8\">block13_pool: MaxPooling2D</text>\n</g>\n<!-- 140590770386536&#45;&gt;140590770511656 -->\n<g class=\"edge\" id=\"edge134\">\n<title>140590770386536-&gt;140590770511656</title>\n<path d=\"M319.4214,-803.4551C322.5849,-795.2074 326.4027,-785.2536 329.9152,-776.0962\" fill=\"none\" stroke=\"#000000\"/>\n<polygon fill=\"#000000\" points=\"333.2478,-777.1806 333.5612,-766.5904 326.7121,-774.6737 333.2478,-777.1806\" stroke=\"#000000\"/>\n</g>\n<!-- 140590771037632 -->\n<g class=\"node\" id=\"node125\">\n<title>140590771037632</title>\n<polygon fill=\"none\" points=\"357,-1022.5 357,-1058.5 628,-1058.5 628,-1022.5 357,-1022.5\" stroke=\"#000000\"/>\n<text fill=\"#000000\" font-family=\"Times,serif\" font-size=\"14.00\" text-anchor=\"middle\" x=\"492.5\" y=\"-1036.8\">batch_normalization_8: BatchNormalization</text>\n</g>\n<!-- 140590770941624&#45;&gt;140590771037632 -->\n<g class=\"edge\" id=\"edge135\">\n<title>140590770941624-&gt;140590771037632</title>\n<path d=\"M475.9382,-1095.4551C478.3974,-1087.2951 481.3598,-1077.4652 484.0952,-1068.3887\" fill=\"none\" stroke=\"#000000\"/>\n<polygon fill=\"#000000\" points=\"487.5137,-1069.175 487.0481,-1058.5904 480.8114,-1067.1551 487.5137,-1069.175\" stroke=\"#000000\"/>\n</g>\n<!-- 140590770509360 -->\n<g class=\"node\" id=\"node126\">\n<title>140590770509360</title>\n<polygon fill=\"none\" points=\"356.5,-657.5 356.5,-693.5 448.5,-693.5 448.5,-657.5 356.5,-657.5\" stroke=\"#000000\"/>\n<text fill=\"#000000\" font-family=\"Times,serif\" font-size=\"14.00\" text-anchor=\"middle\" x=\"402.5\" y=\"-671.8\">add_24: Add</text>\n</g>\n<!-- 140590770511656&#45;&gt;140590770509360 -->\n<g class=\"edge\" id=\"edge136\">\n<title>140590770511656-&gt;140590770509360</title>\n<path d=\"M355.8258,-730.4551C363.2779,-721.6809 372.3698,-710.9759 380.5427,-701.353\" fill=\"none\" stroke=\"#000000\"/>\n<polygon fill=\"#000000\" points=\"383.3298,-703.4781 387.1356,-693.5904 377.9944,-698.9466 383.3298,-703.4781\" stroke=\"#000000\"/>\n</g>\n<!-- 140590771037632&#45;&gt;140590770509360 -->\n<g class=\"edge\" id=\"edge137\">\n<title>140590771037632-&gt;140590770509360</title>\n<path d=\"M490.8424,-1022.0798C488.4991,-994.4066 484.5,-940.4473 484.5,-894.5 484.5,-894.5 484.5,-894.5 484.5,-821.5 484.5,-774.6666 452.0278,-728.9601 427.952,-701.5084\" fill=\"none\" stroke=\"#000000\"/>\n<polygon fill=\"#000000\" points=\"430.407,-699.0047 421.1071,-693.9291 425.2119,-703.6964 430.407,-699.0047\" stroke=\"#000000\"/>\n</g>\n<!-- 140590770511432 -->\n<g class=\"node\" id=\"node127\">\n<title>140590770511432</title>\n<polygon fill=\"none\" points=\"283,-584.5 283,-620.5 522,-620.5 522,-584.5 283,-584.5\" stroke=\"#000000\"/>\n<text fill=\"#000000\" font-family=\"Times,serif\" font-size=\"14.00\" text-anchor=\"middle\" x=\"402.5\" y=\"-598.8\">block14_sepconv1: SeparableConv2D</text>\n</g>\n<!-- 140590770509360&#45;&gt;140590770511432 -->\n<g class=\"edge\" id=\"edge138\">\n<title>140590770509360-&gt;140590770511432</title>\n<path d=\"M402.5,-657.4551C402.5,-649.3828 402.5,-639.6764 402.5,-630.6817\" fill=\"none\" stroke=\"#000000\"/>\n<polygon fill=\"#000000\" points=\"406.0001,-630.5903 402.5,-620.5904 399.0001,-630.5904 406.0001,-630.5903\" stroke=\"#000000\"/>\n</g>\n<!-- 140590770080736 -->\n<g class=\"node\" id=\"node128\">\n<title>140590770080736</title>\n<polygon fill=\"none\" points=\"267,-511.5 267,-547.5 538,-547.5 538,-511.5 267,-511.5\" stroke=\"#000000\"/>\n<text fill=\"#000000\" font-family=\"Times,serif\" font-size=\"14.00\" text-anchor=\"middle\" x=\"402.5\" y=\"-525.8\">block14_sepconv1_bn: BatchNormalization</text>\n</g>\n<!-- 140590770511432&#45;&gt;140590770080736 -->\n<g class=\"edge\" id=\"edge139\">\n<title>140590770511432-&gt;140590770080736</title>\n<path d=\"M402.5,-584.4551C402.5,-576.3828 402.5,-566.6764 402.5,-557.6817\" fill=\"none\" stroke=\"#000000\"/>\n<polygon fill=\"#000000\" points=\"406.0001,-557.5903 402.5,-547.5904 399.0001,-557.5904 406.0001,-557.5903\" stroke=\"#000000\"/>\n</g>\n<!-- 140590770180048 -->\n<g class=\"node\" id=\"node129\">\n<title>140590770180048</title>\n<polygon fill=\"none\" points=\"294.5,-438.5 294.5,-474.5 510.5,-474.5 510.5,-438.5 294.5,-438.5\" stroke=\"#000000\"/>\n<text fill=\"#000000\" font-family=\"Times,serif\" font-size=\"14.00\" text-anchor=\"middle\" x=\"402.5\" y=\"-452.8\">block14_sepconv1_act: Activation</text>\n</g>\n<!-- 140590770080736&#45;&gt;140590770180048 -->\n<g class=\"edge\" id=\"edge140\">\n<title>140590770080736-&gt;140590770180048</title>\n<path d=\"M402.5,-511.4551C402.5,-503.3828 402.5,-493.6764 402.5,-484.6817\" fill=\"none\" stroke=\"#000000\"/>\n<polygon fill=\"#000000\" points=\"406.0001,-484.5903 402.5,-474.5904 399.0001,-484.5904 406.0001,-484.5903\" stroke=\"#000000\"/>\n</g>\n<!-- 140590770199744 -->\n<g class=\"node\" id=\"node130\">\n<title>140590770199744</title>\n<polygon fill=\"none\" points=\"283,-365.5 283,-401.5 522,-401.5 522,-365.5 283,-365.5\" stroke=\"#000000\"/>\n<text fill=\"#000000\" font-family=\"Times,serif\" font-size=\"14.00\" text-anchor=\"middle\" x=\"402.5\" y=\"-379.8\">block14_sepconv2: SeparableConv2D</text>\n</g>\n<!-- 140590770180048&#45;&gt;140590770199744 -->\n<g class=\"edge\" id=\"edge141\">\n<title>140590770180048-&gt;140590770199744</title>\n<path d=\"M402.5,-438.4551C402.5,-430.3828 402.5,-420.6764 402.5,-411.6817\" fill=\"none\" stroke=\"#000000\"/>\n<polygon fill=\"#000000\" points=\"406.0001,-411.5903 402.5,-401.5904 399.0001,-411.5904 406.0001,-411.5903\" stroke=\"#000000\"/>\n</g>\n<!-- 140590770272128 -->\n<g class=\"node\" id=\"node131\">\n<title>140590770272128</title>\n<polygon fill=\"none\" points=\"267,-292.5 267,-328.5 538,-328.5 538,-292.5 267,-292.5\" stroke=\"#000000\"/>\n<text fill=\"#000000\" font-family=\"Times,serif\" font-size=\"14.00\" text-anchor=\"middle\" x=\"402.5\" y=\"-306.8\">block14_sepconv2_bn: BatchNormalization</text>\n</g>\n<!-- 140590770199744&#45;&gt;140590770272128 -->\n<g class=\"edge\" id=\"edge142\">\n<title>140590770199744-&gt;140590770272128</title>\n<path d=\"M402.5,-365.4551C402.5,-357.3828 402.5,-347.6764 402.5,-338.6817\" fill=\"none\" stroke=\"#000000\"/>\n<polygon fill=\"#000000\" points=\"406.0001,-338.5903 402.5,-328.5904 399.0001,-338.5904 406.0001,-338.5903\" stroke=\"#000000\"/>\n</g>\n<!-- 140590769872344 -->\n<g class=\"node\" id=\"node132\">\n<title>140590769872344</title>\n<polygon fill=\"none\" points=\"294.5,-219.5 294.5,-255.5 510.5,-255.5 510.5,-219.5 294.5,-219.5\" stroke=\"#000000\"/>\n<text fill=\"#000000\" font-family=\"Times,serif\" font-size=\"14.00\" text-anchor=\"middle\" x=\"402.5\" y=\"-233.8\">block14_sepconv2_act: Activation</text>\n</g>\n<!-- 140590770272128&#45;&gt;140590769872344 -->\n<g class=\"edge\" id=\"edge143\">\n<title>140590770272128-&gt;140590769872344</title>\n<path d=\"M402.5,-292.4551C402.5,-284.3828 402.5,-274.6764 402.5,-265.6817\" fill=\"none\" stroke=\"#000000\"/>\n<polygon fill=\"#000000\" points=\"406.0001,-265.5903 402.5,-255.5904 399.0001,-265.5904 406.0001,-265.5903\" stroke=\"#000000\"/>\n</g>\n<!-- 140598680506552 -->\n<g class=\"node\" id=\"node133\">\n<title>140598680506552</title>\n<polygon fill=\"none\" points=\"230.5,-146.5 230.5,-182.5 574.5,-182.5 574.5,-146.5 230.5,-146.5\" stroke=\"#000000\"/>\n<text fill=\"#000000\" font-family=\"Times,serif\" font-size=\"14.00\" text-anchor=\"middle\" x=\"402.5\" y=\"-160.8\">global_average_pooling2d_2: GlobalAveragePooling2D</text>\n</g>\n<!-- 140590769872344&#45;&gt;140598680506552 -->\n<g class=\"edge\" id=\"edge144\">\n<title>140590769872344-&gt;140598680506552</title>\n<path d=\"M402.5,-219.4551C402.5,-211.3828 402.5,-201.6764 402.5,-192.6817\" fill=\"none\" stroke=\"#000000\"/>\n<polygon fill=\"#000000\" points=\"406.0001,-192.5903 402.5,-182.5904 399.0001,-192.5904 406.0001,-192.5903\" stroke=\"#000000\"/>\n</g>\n<!-- 140598680507448 -->\n<g class=\"node\" id=\"node134\">\n<title>140598680507448</title>\n<polygon fill=\"none\" points=\"349,-73.5 349,-109.5 456,-109.5 456,-73.5 349,-73.5\" stroke=\"#000000\"/>\n<text fill=\"#000000\" font-family=\"Times,serif\" font-size=\"14.00\" text-anchor=\"middle\" x=\"402.5\" y=\"-87.8\">dense_3: Dense</text>\n</g>\n<!-- 140598680506552&#45;&gt;140598680507448 -->\n<g class=\"edge\" id=\"edge145\">\n<title>140598680506552-&gt;140598680507448</title>\n<path d=\"M402.5,-146.4551C402.5,-138.3828 402.5,-128.6764 402.5,-119.6817\" fill=\"none\" stroke=\"#000000\"/>\n<polygon fill=\"#000000\" points=\"406.0001,-119.5903 402.5,-109.5904 399.0001,-119.5904 406.0001,-119.5903\" stroke=\"#000000\"/>\n</g>\n<!-- 140590769959544 -->\n<g class=\"node\" id=\"node135\">\n<title>140590769959544</title>\n<polygon fill=\"none\" points=\"349,-.5 349,-36.5 456,-36.5 456,-.5 349,-.5\" stroke=\"#000000\"/>\n<text fill=\"#000000\" font-family=\"Times,serif\" font-size=\"14.00\" text-anchor=\"middle\" x=\"402.5\" y=\"-14.8\">dense_4: Dense</text>\n</g>\n<!-- 140598680507448&#45;&gt;140590769959544 -->\n<g class=\"edge\" id=\"edge146\">\n<title>140598680507448-&gt;140590769959544</title>\n<path d=\"M402.5,-73.4551C402.5,-65.3828 402.5,-55.6764 402.5,-46.6817\" fill=\"none\" stroke=\"#000000\"/>\n<polygon fill=\"#000000\" points=\"406.0001,-46.5903 402.5,-36.5904 399.0001,-46.5904 406.0001,-46.5903\" stroke=\"#000000\"/>\n</g>\n</g>\n</svg>"
          },
          "metadata": {
            "tags": []
          },
          "execution_count": 48
        }
      ]
    },
    {
      "cell_type": "code",
      "metadata": {
        "id": "VArviALej6EX",
        "colab_type": "code",
        "colab": {
          "base_uri": "https://localhost:8080/",
          "height": 1000
        },
        "outputId": "5b40103d-3445-478b-9afe-5a53a79fd8dc"
      },
      "source": [
        "model.summary()"
      ],
      "execution_count": 40,
      "outputs": [
        {
          "output_type": "stream",
          "text": [
            "Model: \"model_2\"\n",
            "__________________________________________________________________________________________________\n",
            "Layer (type)                    Output Shape         Param #     Connected to                     \n",
            "==================================================================================================\n",
            "input_2 (InputLayer)            (None, 197, 197, 3)  0                                            \n",
            "__________________________________________________________________________________________________\n",
            "block1_conv1 (Conv2D)           (None, 98, 98, 32)   864         input_2[0][0]                    \n",
            "__________________________________________________________________________________________________\n",
            "block1_conv1_bn (BatchNormaliza (None, 98, 98, 32)   128         block1_conv1[0][0]               \n",
            "__________________________________________________________________________________________________\n",
            "block1_conv1_act (Activation)   (None, 98, 98, 32)   0           block1_conv1_bn[0][0]            \n",
            "__________________________________________________________________________________________________\n",
            "block1_conv2 (Conv2D)           (None, 96, 96, 64)   18432       block1_conv1_act[0][0]           \n",
            "__________________________________________________________________________________________________\n",
            "block1_conv2_bn (BatchNormaliza (None, 96, 96, 64)   256         block1_conv2[0][0]               \n",
            "__________________________________________________________________________________________________\n",
            "block1_conv2_act (Activation)   (None, 96, 96, 64)   0           block1_conv2_bn[0][0]            \n",
            "__________________________________________________________________________________________________\n",
            "block2_sepconv1 (SeparableConv2 (None, 96, 96, 128)  8768        block1_conv2_act[0][0]           \n",
            "__________________________________________________________________________________________________\n",
            "block2_sepconv1_bn (BatchNormal (None, 96, 96, 128)  512         block2_sepconv1[0][0]            \n",
            "__________________________________________________________________________________________________\n",
            "block2_sepconv2_act (Activation (None, 96, 96, 128)  0           block2_sepconv1_bn[0][0]         \n",
            "__________________________________________________________________________________________________\n",
            "block2_sepconv2 (SeparableConv2 (None, 96, 96, 128)  17536       block2_sepconv2_act[0][0]        \n",
            "__________________________________________________________________________________________________\n",
            "block2_sepconv2_bn (BatchNormal (None, 96, 96, 128)  512         block2_sepconv2[0][0]            \n",
            "__________________________________________________________________________________________________\n",
            "conv2d_5 (Conv2D)               (None, 48, 48, 128)  8192        block1_conv2_act[0][0]           \n",
            "__________________________________________________________________________________________________\n",
            "block2_pool (MaxPooling2D)      (None, 48, 48, 128)  0           block2_sepconv2_bn[0][0]         \n",
            "__________________________________________________________________________________________________\n",
            "batch_normalization_5 (BatchNor (None, 48, 48, 128)  512         conv2d_5[0][0]                   \n",
            "__________________________________________________________________________________________________\n",
            "add_13 (Add)                    (None, 48, 48, 128)  0           block2_pool[0][0]                \n",
            "                                                                 batch_normalization_5[0][0]      \n",
            "__________________________________________________________________________________________________\n",
            "block3_sepconv1_act (Activation (None, 48, 48, 128)  0           add_13[0][0]                     \n",
            "__________________________________________________________________________________________________\n",
            "block3_sepconv1 (SeparableConv2 (None, 48, 48, 256)  33920       block3_sepconv1_act[0][0]        \n",
            "__________________________________________________________________________________________________\n",
            "block3_sepconv1_bn (BatchNormal (None, 48, 48, 256)  1024        block3_sepconv1[0][0]            \n",
            "__________________________________________________________________________________________________\n",
            "block3_sepconv2_act (Activation (None, 48, 48, 256)  0           block3_sepconv1_bn[0][0]         \n",
            "__________________________________________________________________________________________________\n",
            "block3_sepconv2 (SeparableConv2 (None, 48, 48, 256)  67840       block3_sepconv2_act[0][0]        \n",
            "__________________________________________________________________________________________________\n",
            "block3_sepconv2_bn (BatchNormal (None, 48, 48, 256)  1024        block3_sepconv2[0][0]            \n",
            "__________________________________________________________________________________________________\n",
            "conv2d_6 (Conv2D)               (None, 24, 24, 256)  32768       add_13[0][0]                     \n",
            "__________________________________________________________________________________________________\n",
            "block3_pool (MaxPooling2D)      (None, 24, 24, 256)  0           block3_sepconv2_bn[0][0]         \n",
            "__________________________________________________________________________________________________\n",
            "batch_normalization_6 (BatchNor (None, 24, 24, 256)  1024        conv2d_6[0][0]                   \n",
            "__________________________________________________________________________________________________\n",
            "add_14 (Add)                    (None, 24, 24, 256)  0           block3_pool[0][0]                \n",
            "                                                                 batch_normalization_6[0][0]      \n",
            "__________________________________________________________________________________________________\n",
            "block4_sepconv1_act (Activation (None, 24, 24, 256)  0           add_14[0][0]                     \n",
            "__________________________________________________________________________________________________\n",
            "block4_sepconv1 (SeparableConv2 (None, 24, 24, 728)  188672      block4_sepconv1_act[0][0]        \n",
            "__________________________________________________________________________________________________\n",
            "block4_sepconv1_bn (BatchNormal (None, 24, 24, 728)  2912        block4_sepconv1[0][0]            \n",
            "__________________________________________________________________________________________________\n",
            "block4_sepconv2_act (Activation (None, 24, 24, 728)  0           block4_sepconv1_bn[0][0]         \n",
            "__________________________________________________________________________________________________\n",
            "block4_sepconv2 (SeparableConv2 (None, 24, 24, 728)  536536      block4_sepconv2_act[0][0]        \n",
            "__________________________________________________________________________________________________\n",
            "block4_sepconv2_bn (BatchNormal (None, 24, 24, 728)  2912        block4_sepconv2[0][0]            \n",
            "__________________________________________________________________________________________________\n",
            "conv2d_7 (Conv2D)               (None, 12, 12, 728)  186368      add_14[0][0]                     \n",
            "__________________________________________________________________________________________________\n",
            "block4_pool (MaxPooling2D)      (None, 12, 12, 728)  0           block4_sepconv2_bn[0][0]         \n",
            "__________________________________________________________________________________________________\n",
            "batch_normalization_7 (BatchNor (None, 12, 12, 728)  2912        conv2d_7[0][0]                   \n",
            "__________________________________________________________________________________________________\n",
            "add_15 (Add)                    (None, 12, 12, 728)  0           block4_pool[0][0]                \n",
            "                                                                 batch_normalization_7[0][0]      \n",
            "__________________________________________________________________________________________________\n",
            "block5_sepconv1_act (Activation (None, 12, 12, 728)  0           add_15[0][0]                     \n",
            "__________________________________________________________________________________________________\n",
            "block5_sepconv1 (SeparableConv2 (None, 12, 12, 728)  536536      block5_sepconv1_act[0][0]        \n",
            "__________________________________________________________________________________________________\n",
            "block5_sepconv1_bn (BatchNormal (None, 12, 12, 728)  2912        block5_sepconv1[0][0]            \n",
            "__________________________________________________________________________________________________\n",
            "block5_sepconv2_act (Activation (None, 12, 12, 728)  0           block5_sepconv1_bn[0][0]         \n",
            "__________________________________________________________________________________________________\n",
            "block5_sepconv2 (SeparableConv2 (None, 12, 12, 728)  536536      block5_sepconv2_act[0][0]        \n",
            "__________________________________________________________________________________________________\n",
            "block5_sepconv2_bn (BatchNormal (None, 12, 12, 728)  2912        block5_sepconv2[0][0]            \n",
            "__________________________________________________________________________________________________\n",
            "block5_sepconv3_act (Activation (None, 12, 12, 728)  0           block5_sepconv2_bn[0][0]         \n",
            "__________________________________________________________________________________________________\n",
            "block5_sepconv3 (SeparableConv2 (None, 12, 12, 728)  536536      block5_sepconv3_act[0][0]        \n",
            "__________________________________________________________________________________________________\n",
            "block5_sepconv3_bn (BatchNormal (None, 12, 12, 728)  2912        block5_sepconv3[0][0]            \n",
            "__________________________________________________________________________________________________\n",
            "add_16 (Add)                    (None, 12, 12, 728)  0           block5_sepconv3_bn[0][0]         \n",
            "                                                                 add_15[0][0]                     \n",
            "__________________________________________________________________________________________________\n",
            "block6_sepconv1_act (Activation (None, 12, 12, 728)  0           add_16[0][0]                     \n",
            "__________________________________________________________________________________________________\n",
            "block6_sepconv1 (SeparableConv2 (None, 12, 12, 728)  536536      block6_sepconv1_act[0][0]        \n",
            "__________________________________________________________________________________________________\n",
            "block6_sepconv1_bn (BatchNormal (None, 12, 12, 728)  2912        block6_sepconv1[0][0]            \n",
            "__________________________________________________________________________________________________\n",
            "block6_sepconv2_act (Activation (None, 12, 12, 728)  0           block6_sepconv1_bn[0][0]         \n",
            "__________________________________________________________________________________________________\n",
            "block6_sepconv2 (SeparableConv2 (None, 12, 12, 728)  536536      block6_sepconv2_act[0][0]        \n",
            "__________________________________________________________________________________________________\n",
            "block6_sepconv2_bn (BatchNormal (None, 12, 12, 728)  2912        block6_sepconv2[0][0]            \n",
            "__________________________________________________________________________________________________\n",
            "block6_sepconv3_act (Activation (None, 12, 12, 728)  0           block6_sepconv2_bn[0][0]         \n",
            "__________________________________________________________________________________________________\n",
            "block6_sepconv3 (SeparableConv2 (None, 12, 12, 728)  536536      block6_sepconv3_act[0][0]        \n",
            "__________________________________________________________________________________________________\n",
            "block6_sepconv3_bn (BatchNormal (None, 12, 12, 728)  2912        block6_sepconv3[0][0]            \n",
            "__________________________________________________________________________________________________\n",
            "add_17 (Add)                    (None, 12, 12, 728)  0           block6_sepconv3_bn[0][0]         \n",
            "                                                                 add_16[0][0]                     \n",
            "__________________________________________________________________________________________________\n",
            "block7_sepconv1_act (Activation (None, 12, 12, 728)  0           add_17[0][0]                     \n",
            "__________________________________________________________________________________________________\n",
            "block7_sepconv1 (SeparableConv2 (None, 12, 12, 728)  536536      block7_sepconv1_act[0][0]        \n",
            "__________________________________________________________________________________________________\n",
            "block7_sepconv1_bn (BatchNormal (None, 12, 12, 728)  2912        block7_sepconv1[0][0]            \n",
            "__________________________________________________________________________________________________\n",
            "block7_sepconv2_act (Activation (None, 12, 12, 728)  0           block7_sepconv1_bn[0][0]         \n",
            "__________________________________________________________________________________________________\n",
            "block7_sepconv2 (SeparableConv2 (None, 12, 12, 728)  536536      block7_sepconv2_act[0][0]        \n",
            "__________________________________________________________________________________________________\n",
            "block7_sepconv2_bn (BatchNormal (None, 12, 12, 728)  2912        block7_sepconv2[0][0]            \n",
            "__________________________________________________________________________________________________\n",
            "block7_sepconv3_act (Activation (None, 12, 12, 728)  0           block7_sepconv2_bn[0][0]         \n",
            "__________________________________________________________________________________________________\n",
            "block7_sepconv3 (SeparableConv2 (None, 12, 12, 728)  536536      block7_sepconv3_act[0][0]        \n",
            "__________________________________________________________________________________________________\n",
            "block7_sepconv3_bn (BatchNormal (None, 12, 12, 728)  2912        block7_sepconv3[0][0]            \n",
            "__________________________________________________________________________________________________\n",
            "add_18 (Add)                    (None, 12, 12, 728)  0           block7_sepconv3_bn[0][0]         \n",
            "                                                                 add_17[0][0]                     \n",
            "__________________________________________________________________________________________________\n",
            "block8_sepconv1_act (Activation (None, 12, 12, 728)  0           add_18[0][0]                     \n",
            "__________________________________________________________________________________________________\n",
            "block8_sepconv1 (SeparableConv2 (None, 12, 12, 728)  536536      block8_sepconv1_act[0][0]        \n",
            "__________________________________________________________________________________________________\n",
            "block8_sepconv1_bn (BatchNormal (None, 12, 12, 728)  2912        block8_sepconv1[0][0]            \n",
            "__________________________________________________________________________________________________\n",
            "block8_sepconv2_act (Activation (None, 12, 12, 728)  0           block8_sepconv1_bn[0][0]         \n",
            "__________________________________________________________________________________________________\n",
            "block8_sepconv2 (SeparableConv2 (None, 12, 12, 728)  536536      block8_sepconv2_act[0][0]        \n",
            "__________________________________________________________________________________________________\n",
            "block8_sepconv2_bn (BatchNormal (None, 12, 12, 728)  2912        block8_sepconv2[0][0]            \n",
            "__________________________________________________________________________________________________\n",
            "block8_sepconv3_act (Activation (None, 12, 12, 728)  0           block8_sepconv2_bn[0][0]         \n",
            "__________________________________________________________________________________________________\n",
            "block8_sepconv3 (SeparableConv2 (None, 12, 12, 728)  536536      block8_sepconv3_act[0][0]        \n",
            "__________________________________________________________________________________________________\n",
            "block8_sepconv3_bn (BatchNormal (None, 12, 12, 728)  2912        block8_sepconv3[0][0]            \n",
            "__________________________________________________________________________________________________\n",
            "add_19 (Add)                    (None, 12, 12, 728)  0           block8_sepconv3_bn[0][0]         \n",
            "                                                                 add_18[0][0]                     \n",
            "__________________________________________________________________________________________________\n",
            "block9_sepconv1_act (Activation (None, 12, 12, 728)  0           add_19[0][0]                     \n",
            "__________________________________________________________________________________________________\n",
            "block9_sepconv1 (SeparableConv2 (None, 12, 12, 728)  536536      block9_sepconv1_act[0][0]        \n",
            "__________________________________________________________________________________________________\n",
            "block9_sepconv1_bn (BatchNormal (None, 12, 12, 728)  2912        block9_sepconv1[0][0]            \n",
            "__________________________________________________________________________________________________\n",
            "block9_sepconv2_act (Activation (None, 12, 12, 728)  0           block9_sepconv1_bn[0][0]         \n",
            "__________________________________________________________________________________________________\n",
            "block9_sepconv2 (SeparableConv2 (None, 12, 12, 728)  536536      block9_sepconv2_act[0][0]        \n",
            "__________________________________________________________________________________________________\n",
            "block9_sepconv2_bn (BatchNormal (None, 12, 12, 728)  2912        block9_sepconv2[0][0]            \n",
            "__________________________________________________________________________________________________\n",
            "block9_sepconv3_act (Activation (None, 12, 12, 728)  0           block9_sepconv2_bn[0][0]         \n",
            "__________________________________________________________________________________________________\n",
            "block9_sepconv3 (SeparableConv2 (None, 12, 12, 728)  536536      block9_sepconv3_act[0][0]        \n",
            "__________________________________________________________________________________________________\n",
            "block9_sepconv3_bn (BatchNormal (None, 12, 12, 728)  2912        block9_sepconv3[0][0]            \n",
            "__________________________________________________________________________________________________\n",
            "add_20 (Add)                    (None, 12, 12, 728)  0           block9_sepconv3_bn[0][0]         \n",
            "                                                                 add_19[0][0]                     \n",
            "__________________________________________________________________________________________________\n",
            "block10_sepconv1_act (Activatio (None, 12, 12, 728)  0           add_20[0][0]                     \n",
            "__________________________________________________________________________________________________\n",
            "block10_sepconv1 (SeparableConv (None, 12, 12, 728)  536536      block10_sepconv1_act[0][0]       \n",
            "__________________________________________________________________________________________________\n",
            "block10_sepconv1_bn (BatchNorma (None, 12, 12, 728)  2912        block10_sepconv1[0][0]           \n",
            "__________________________________________________________________________________________________\n",
            "block10_sepconv2_act (Activatio (None, 12, 12, 728)  0           block10_sepconv1_bn[0][0]        \n",
            "__________________________________________________________________________________________________\n",
            "block10_sepconv2 (SeparableConv (None, 12, 12, 728)  536536      block10_sepconv2_act[0][0]       \n",
            "__________________________________________________________________________________________________\n",
            "block10_sepconv2_bn (BatchNorma (None, 12, 12, 728)  2912        block10_sepconv2[0][0]           \n",
            "__________________________________________________________________________________________________\n",
            "block10_sepconv3_act (Activatio (None, 12, 12, 728)  0           block10_sepconv2_bn[0][0]        \n",
            "__________________________________________________________________________________________________\n",
            "block10_sepconv3 (SeparableConv (None, 12, 12, 728)  536536      block10_sepconv3_act[0][0]       \n",
            "__________________________________________________________________________________________________\n",
            "block10_sepconv3_bn (BatchNorma (None, 12, 12, 728)  2912        block10_sepconv3[0][0]           \n",
            "__________________________________________________________________________________________________\n",
            "add_21 (Add)                    (None, 12, 12, 728)  0           block10_sepconv3_bn[0][0]        \n",
            "                                                                 add_20[0][0]                     \n",
            "__________________________________________________________________________________________________\n",
            "block11_sepconv1_act (Activatio (None, 12, 12, 728)  0           add_21[0][0]                     \n",
            "__________________________________________________________________________________________________\n",
            "block11_sepconv1 (SeparableConv (None, 12, 12, 728)  536536      block11_sepconv1_act[0][0]       \n",
            "__________________________________________________________________________________________________\n",
            "block11_sepconv1_bn (BatchNorma (None, 12, 12, 728)  2912        block11_sepconv1[0][0]           \n",
            "__________________________________________________________________________________________________\n",
            "block11_sepconv2_act (Activatio (None, 12, 12, 728)  0           block11_sepconv1_bn[0][0]        \n",
            "__________________________________________________________________________________________________\n",
            "block11_sepconv2 (SeparableConv (None, 12, 12, 728)  536536      block11_sepconv2_act[0][0]       \n",
            "__________________________________________________________________________________________________\n",
            "block11_sepconv2_bn (BatchNorma (None, 12, 12, 728)  2912        block11_sepconv2[0][0]           \n",
            "__________________________________________________________________________________________________\n",
            "block11_sepconv3_act (Activatio (None, 12, 12, 728)  0           block11_sepconv2_bn[0][0]        \n",
            "__________________________________________________________________________________________________\n",
            "block11_sepconv3 (SeparableConv (None, 12, 12, 728)  536536      block11_sepconv3_act[0][0]       \n",
            "__________________________________________________________________________________________________\n",
            "block11_sepconv3_bn (BatchNorma (None, 12, 12, 728)  2912        block11_sepconv3[0][0]           \n",
            "__________________________________________________________________________________________________\n",
            "add_22 (Add)                    (None, 12, 12, 728)  0           block11_sepconv3_bn[0][0]        \n",
            "                                                                 add_21[0][0]                     \n",
            "__________________________________________________________________________________________________\n",
            "block12_sepconv1_act (Activatio (None, 12, 12, 728)  0           add_22[0][0]                     \n",
            "__________________________________________________________________________________________________\n",
            "block12_sepconv1 (SeparableConv (None, 12, 12, 728)  536536      block12_sepconv1_act[0][0]       \n",
            "__________________________________________________________________________________________________\n",
            "block12_sepconv1_bn (BatchNorma (None, 12, 12, 728)  2912        block12_sepconv1[0][0]           \n",
            "__________________________________________________________________________________________________\n",
            "block12_sepconv2_act (Activatio (None, 12, 12, 728)  0           block12_sepconv1_bn[0][0]        \n",
            "__________________________________________________________________________________________________\n",
            "block12_sepconv2 (SeparableConv (None, 12, 12, 728)  536536      block12_sepconv2_act[0][0]       \n",
            "__________________________________________________________________________________________________\n",
            "block12_sepconv2_bn (BatchNorma (None, 12, 12, 728)  2912        block12_sepconv2[0][0]           \n",
            "__________________________________________________________________________________________________\n",
            "block12_sepconv3_act (Activatio (None, 12, 12, 728)  0           block12_sepconv2_bn[0][0]        \n",
            "__________________________________________________________________________________________________\n",
            "block12_sepconv3 (SeparableConv (None, 12, 12, 728)  536536      block12_sepconv3_act[0][0]       \n",
            "__________________________________________________________________________________________________\n",
            "block12_sepconv3_bn (BatchNorma (None, 12, 12, 728)  2912        block12_sepconv3[0][0]           \n",
            "__________________________________________________________________________________________________\n",
            "add_23 (Add)                    (None, 12, 12, 728)  0           block12_sepconv3_bn[0][0]        \n",
            "                                                                 add_22[0][0]                     \n",
            "__________________________________________________________________________________________________\n",
            "block13_sepconv1_act (Activatio (None, 12, 12, 728)  0           add_23[0][0]                     \n",
            "__________________________________________________________________________________________________\n",
            "block13_sepconv1 (SeparableConv (None, 12, 12, 728)  536536      block13_sepconv1_act[0][0]       \n",
            "__________________________________________________________________________________________________\n",
            "block13_sepconv1_bn (BatchNorma (None, 12, 12, 728)  2912        block13_sepconv1[0][0]           \n",
            "__________________________________________________________________________________________________\n",
            "block13_sepconv2_act (Activatio (None, 12, 12, 728)  0           block13_sepconv1_bn[0][0]        \n",
            "__________________________________________________________________________________________________\n",
            "block13_sepconv2 (SeparableConv (None, 12, 12, 1024) 752024      block13_sepconv2_act[0][0]       \n",
            "__________________________________________________________________________________________________\n",
            "block13_sepconv2_bn (BatchNorma (None, 12, 12, 1024) 4096        block13_sepconv2[0][0]           \n",
            "__________________________________________________________________________________________________\n",
            "conv2d_8 (Conv2D)               (None, 6, 6, 1024)   745472      add_23[0][0]                     \n",
            "__________________________________________________________________________________________________\n",
            "block13_pool (MaxPooling2D)     (None, 6, 6, 1024)   0           block13_sepconv2_bn[0][0]        \n",
            "__________________________________________________________________________________________________\n",
            "batch_normalization_8 (BatchNor (None, 6, 6, 1024)   4096        conv2d_8[0][0]                   \n",
            "__________________________________________________________________________________________________\n",
            "add_24 (Add)                    (None, 6, 6, 1024)   0           block13_pool[0][0]               \n",
            "                                                                 batch_normalization_8[0][0]      \n",
            "__________________________________________________________________________________________________\n",
            "block14_sepconv1 (SeparableConv (None, 6, 6, 1536)   1582080     add_24[0][0]                     \n",
            "__________________________________________________________________________________________________\n",
            "block14_sepconv1_bn (BatchNorma (None, 6, 6, 1536)   6144        block14_sepconv1[0][0]           \n",
            "__________________________________________________________________________________________________\n",
            "block14_sepconv1_act (Activatio (None, 6, 6, 1536)   0           block14_sepconv1_bn[0][0]        \n",
            "__________________________________________________________________________________________________\n",
            "block14_sepconv2 (SeparableConv (None, 6, 6, 2048)   3159552     block14_sepconv1_act[0][0]       \n",
            "__________________________________________________________________________________________________\n",
            "block14_sepconv2_bn (BatchNorma (None, 6, 6, 2048)   8192        block14_sepconv2[0][0]           \n",
            "__________________________________________________________________________________________________\n",
            "block14_sepconv2_act (Activatio (None, 6, 6, 2048)   0           block14_sepconv2_bn[0][0]        \n",
            "__________________________________________________________________________________________________\n",
            "global_average_pooling2d_2 (Glo (None, 2048)         0           block14_sepconv2_act[0][0]       \n",
            "__________________________________________________________________________________________________\n",
            "dense_3 (Dense)                 (None, 512)          1049088     global_average_pooling2d_2[0][0] \n",
            "__________________________________________________________________________________________________\n",
            "dense_4 (Dense)                 (None, 10)           5130        dense_3[0][0]                    \n",
            "==================================================================================================\n",
            "Total params: 21,915,698\n",
            "Trainable params: 7,842,602\n",
            "Non-trainable params: 14,073,096\n",
            "__________________________________________________________________________________________________\n"
          ],
          "name": "stdout"
        }
      ]
    },
    {
      "cell_type": "code",
      "metadata": {
        "id": "7JIUlLHOivAO",
        "colab_type": "code",
        "colab": {
          "base_uri": "https://localhost:8080/",
          "height": 350
        },
        "outputId": "56c8af98-5b22-4f39-f8b7-a2e81c73d7f6"
      },
      "source": [
        "fig, ax = plt.subplots(1, 2, figsize = (14, 5))\n",
        "\n",
        "history = history2\n",
        "\n",
        "ax[0].plot(history.history[\"loss\"])\n",
        "ax[0].plot(history.history[\"val_loss\"])\n",
        "ax[0].set_title(\"model loss\")\n",
        "ax[0].set_ylabel(\"loss\")\n",
        "ax[0].set_xlabel(\"epoch\")\n",
        "ax[0].legend([\"train\", \"test\"], loc=\"upper left\")\n",
        "\n",
        "ax[1].plot(history.history[\"accuracy\"])\n",
        "ax[1].plot(history.history[\"val_accuracy\"])\n",
        "ax[1].set_title(\"model accuracy\")\n",
        "ax[1].set_ylabel(\"accuracy\")\n",
        "ax[1].set_xlabel(\"epoch\")\n",
        "ax[1].legend([\"train\", \"test\"], loc=\"upper left\")\n",
        "\n",
        "plt.show()"
      ],
      "execution_count": 51,
      "outputs": [
        {
          "output_type": "display_data",
          "data": {
            "image/png": "[encoded data removed]",
            "text/plain": [
              "<Figure size 1008x360 with 2 Axes>"
            ]
          },
          "metadata": {
            "tags": [],
            "needs_background": "light"
          }
        }
      ]
    }
  ]
}