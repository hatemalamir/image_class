{
  "nbformat": 4,
  "nbformat_minor": 0,
  "metadata": {
    "colab": {
      "name": "ML_Project03.ipynb",
      "provenance": [],
      "toc_visible": true
    },
    "kernelspec": {
      "name": "python3",
      "display_name": "Python 3"
    },
    "accelerator": "GPU"
  },
  "cells": [
    {
      "cell_type": "markdown",
      "metadata": {
        "id": "QDajXkzyIcPL",
        "colab_type": "text"
      },
      "source": [
        "# Installation and Imports"
      ]
    },
    {
      "cell_type": "code",
      "metadata": {
        "id": "mWLYJskKHXJx",
        "colab_type": "code",
        "colab": {
          "base_uri": "https://localhost:8080/",
          "height": 353
        },
        "outputId": "10ef105c-4e70-4ddd-8aee-e0be64837654"
      },
      "source": [
        "# Check the GPU\n",
        "!nvidia-smi"
      ],
      "execution_count": 83,
      "outputs": [
        {
          "output_type": "stream",
          "text": [
            "Wed Jul 15 22:56:57 2020       \n",
            "+-----------------------------------------------------------------------------+\n",
            "| NVIDIA-SMI 450.51.05    Driver Version: 418.67       CUDA Version: 10.1     |\n",
            "|-------------------------------+----------------------+----------------------+\n",
            "| GPU  Name        Persistence-M| Bus-Id        Disp.A | Volatile Uncorr. ECC |\n",
            "| Fan  Temp  Perf  Pwr:Usage/Cap|         Memory-Usage | GPU-Util  Compute M. |\n",
            "|                               |                      |               MIG M. |\n",
            "|===============================+======================+======================|\n",
            "|   0  Tesla K80           Off  | 00000000:00:04.0 Off |                    0 |\n",
            "| N/A   57C    P0    60W / 149W |   8423MiB / 11441MiB |      0%      Default |\n",
            "|                               |                      |                 ERR! |\n",
            "+-------------------------------+----------------------+----------------------+\n",
            "                                                                               \n",
            "+-----------------------------------------------------------------------------+\n",
            "| Processes:                                                                  |\n",
            "|  GPU   GI   CI        PID   Type   Process name                  GPU Memory |\n",
            "|        ID   ID                                                   Usage      |\n",
            "|=============================================================================|\n",
            "|  No running processes found                                                 |\n",
            "+-----------------------------------------------------------------------------+\n"
          ],
          "name": "stdout"
        }
      ]
    },
    {
      "cell_type": "code",
      "metadata": {
        "id": "01bt5ylnIicO",
        "colab_type": "code",
        "colab": {}
      },
      "source": [
        "import warnings\n",
        "warnings.simplefilter(\"ignore\", UserWarning)\n",
        "# warnings.filterwarnings('ignore')\n",
        "\n",
        "import os.path\n",
        "\n",
        "from keras import Model, optimizers\n",
        "from keras.applications import xception\n",
        "from keras.layers import GlobalAveragePooling2D, Dense\n",
        "from keras.preprocessing.image import ImageDataGenerator\n",
        "\n",
        "from IPython.display import SVG\n",
        "from keras.utils.vis_utils import model_to_dot\n",
        "\n",
        "from matplotlib.ticker import MaxNLocator\n",
        "import matplotlib.pyplot as plt\n",
        "%matplotlib inline"
      ],
      "execution_count": 84,
      "outputs": []
    },
    {
      "cell_type": "markdown",
      "metadata": {
        "id": "F03y-9CGXLrR",
        "colab_type": "text"
      },
      "source": [
        "# Dataset"
      ]
    },
    {
      "cell_type": "markdown",
      "metadata": {
        "id": "cA7BMoPXXOUy",
        "colab_type": "text"
      },
      "source": [
        "## Configuration Parameters"
      ]
    },
    {
      "cell_type": "code",
      "metadata": {
        "id": "7Y10YHiBT6aU",
        "colab_type": "code",
        "colab": {}
      },
      "source": [
        "img_width = 197\n",
        "img_height = 197\n",
        "\n",
        "batch_size = 128\n",
        "\n",
        "base_path = '/content/drive/My Drive/Colab_Notebooks/data/monkey/'\n",
        "\n",
        "train_path = base_path + 'training-data/training'\n",
        "validation_path = base_path + 'validation-data/validation'\n",
        "\n",
        "nb_classes = 10"
      ],
      "execution_count": 85,
      "outputs": []
    },
    {
      "cell_type": "markdown",
      "metadata": {
        "id": "XWAJdP3zY3BF",
        "colab_type": "text"
      },
      "source": [
        "## Preparing the dataset"
      ]
    },
    {
      "cell_type": "code",
      "metadata": {
        "id": "7uGuJ6L0Yzcn",
        "colab_type": "code",
        "colab": {
          "base_uri": "https://localhost:8080/",
          "height": 50
        },
        "outputId": "fbd38faf-75f5-47c5-8ee5-1ece4127f80e"
      },
      "source": [
        "# Counts the number of training and testing samples in the directories\n",
        "training_samples = sum([len(files) for r, d, files in os.walk(train_path)])\n",
        "validation_samples = sum([len(files) for r, d, files in os.walk(validation_path)])\n",
        "\n",
        "print(\"Number of samples in Training dataset:\", training_samples)\n",
        "print(\"Number of samples in Validation dataset:\", validation_samples)"
      ],
      "execution_count": 86,
      "outputs": [
        {
          "output_type": "stream",
          "text": [
            "Number of samples in Training dataset: 1098\n",
            "Number of samples in Validation dataset: 272\n"
          ],
          "name": "stdout"
        }
      ]
    },
    {
      "cell_type": "markdown",
      "metadata": {
        "id": "4vEj_SYDZaCb",
        "colab_type": "text"
      },
      "source": [
        "## Data augmentation"
      ]
    },
    {
      "cell_type": "code",
      "metadata": {
        "id": "wOem7CRxZZXr",
        "colab_type": "code",
        "colab": {
          "base_uri": "https://localhost:8080/",
          "height": 50
        },
        "outputId": "c62e5410-2fa5-4453-8402-3d92b18b8bb6"
      },
      "source": [
        "train_datagen = ImageDataGenerator(\n",
        "    rotation_range = 30,\n",
        "    width_shift_range = 0.3,\n",
        "    height_shift_range = 0.2,\n",
        "    rescale = 1.0 / 255,\n",
        "    shear_range = 0.3,\n",
        "    zoom_range = 0.3,\n",
        "    horizontal_flip = True,\n",
        "    vertical_flip = False,\n",
        ")\n",
        "\n",
        "validation_datagen = ImageDataGenerator(rescale = 1.0 / 255)\n",
        "\n",
        "train_generator = train_datagen.flow_from_directory(\n",
        "    train_path,\n",
        "    target_size = (img_width, img_height),\n",
        "    batch_size = batch_size,\n",
        "    class_mode = 'categorical',\n",
        ")\n",
        "\n",
        "validation_generator = validation_datagen.flow_from_directory(\n",
        "    validation_path,\n",
        "    target_size = (img_width, img_height),\n",
        "    batch_size = batch_size,\n",
        "    class_mode = 'categorical',\n",
        ")"
      ],
      "execution_count": 87,
      "outputs": [
        {
          "output_type": "stream",
          "text": [
            "Found 1098 images belonging to 10 classes.\n",
            "Found 272 images belonging to 10 classes.\n"
          ],
          "name": "stdout"
        }
      ]
    },
    {
      "cell_type": "markdown",
      "metadata": {
        "id": "2FHVPf8qbBP9",
        "colab_type": "text"
      },
      "source": [
        "# Model"
      ]
    },
    {
      "cell_type": "markdown",
      "metadata": {
        "id": "NzFwv_VccKNc",
        "colab_type": "text"
      },
      "source": [
        "## Importing the pre-trained model"
      ]
    },
    {
      "cell_type": "code",
      "metadata": {
        "id": "YAL9ZBvDcHsS",
        "colab_type": "code",
        "colab": {}
      },
      "source": [
        "# Import the Xception model to use as the base for our model\n",
        "xception_base = xception.Xception(\n",
        "    include_top = False,\n",
        "    weights = 'imagenet',\n",
        "    input_shape = (img_width, img_height, 3)\n",
        ")"
      ],
      "execution_count": 88,
      "outputs": []
    },
    {
      "cell_type": "code",
      "metadata": {
        "id": "Mf0IMrwRlmfI",
        "colab_type": "code",
        "colab": {
          "base_uri": "https://localhost:8080/",
          "height": 1000
        },
        "outputId": "764e160e-0c06-49d9-940c-1d575323e35e"
      },
      "source": [
        "xception_base.summary()"
      ],
      "execution_count": 89,
      "outputs": [
        {
          "output_type": "stream",
          "text": [
            "Model: \"xception\"\n",
            "__________________________________________________________________________________________________\n",
            "Layer (type)                    Output Shape         Param #     Connected to                     \n",
            "==================================================================================================\n",
            "input_3 (InputLayer)            (None, 197, 197, 3)  0                                            \n",
            "__________________________________________________________________________________________________\n",
            "block1_conv1 (Conv2D)           (None, 98, 98, 32)   864         input_3[0][0]                    \n",
            "__________________________________________________________________________________________________\n",
            "block1_conv1_bn (BatchNormaliza (None, 98, 98, 32)   128         block1_conv1[0][0]               \n",
            "__________________________________________________________________________________________________\n",
            "block1_conv1_act (Activation)   (None, 98, 98, 32)   0           block1_conv1_bn[0][0]            \n",
            "__________________________________________________________________________________________________\n",
            "block1_conv2 (Conv2D)           (None, 96, 96, 64)   18432       block1_conv1_act[0][0]           \n",
            "__________________________________________________________________________________________________\n",
            "block1_conv2_bn (BatchNormaliza (None, 96, 96, 64)   256         block1_conv2[0][0]               \n",
            "__________________________________________________________________________________________________\n",
            "block1_conv2_act (Activation)   (None, 96, 96, 64)   0           block1_conv2_bn[0][0]            \n",
            "__________________________________________________________________________________________________\n",
            "block2_sepconv1 (SeparableConv2 (None, 96, 96, 128)  8768        block1_conv2_act[0][0]           \n",
            "__________________________________________________________________________________________________\n",
            "block2_sepconv1_bn (BatchNormal (None, 96, 96, 128)  512         block2_sepconv1[0][0]            \n",
            "__________________________________________________________________________________________________\n",
            "block2_sepconv2_act (Activation (None, 96, 96, 128)  0           block2_sepconv1_bn[0][0]         \n",
            "__________________________________________________________________________________________________\n",
            "block2_sepconv2 (SeparableConv2 (None, 96, 96, 128)  17536       block2_sepconv2_act[0][0]        \n",
            "__________________________________________________________________________________________________\n",
            "block2_sepconv2_bn (BatchNormal (None, 96, 96, 128)  512         block2_sepconv2[0][0]            \n",
            "__________________________________________________________________________________________________\n",
            "conv2d_9 (Conv2D)               (None, 48, 48, 128)  8192        block1_conv2_act[0][0]           \n",
            "__________________________________________________________________________________________________\n",
            "block2_pool (MaxPooling2D)      (None, 48, 48, 128)  0           block2_sepconv2_bn[0][0]         \n",
            "__________________________________________________________________________________________________\n",
            "batch_normalization_9 (BatchNor (None, 48, 48, 128)  512         conv2d_9[0][0]                   \n",
            "__________________________________________________________________________________________________\n",
            "add_25 (Add)                    (None, 48, 48, 128)  0           block2_pool[0][0]                \n",
            "                                                                 batch_normalization_9[0][0]      \n",
            "__________________________________________________________________________________________________\n",
            "block3_sepconv1_act (Activation (None, 48, 48, 128)  0           add_25[0][0]                     \n",
            "__________________________________________________________________________________________________\n",
            "block3_sepconv1 (SeparableConv2 (None, 48, 48, 256)  33920       block3_sepconv1_act[0][0]        \n",
            "__________________________________________________________________________________________________\n",
            "block3_sepconv1_bn (BatchNormal (None, 48, 48, 256)  1024        block3_sepconv1[0][0]            \n",
            "__________________________________________________________________________________________________\n",
            "block3_sepconv2_act (Activation (None, 48, 48, 256)  0           block3_sepconv1_bn[0][0]         \n",
            "__________________________________________________________________________________________________\n",
            "block3_sepconv2 (SeparableConv2 (None, 48, 48, 256)  67840       block3_sepconv2_act[0][0]        \n",
            "__________________________________________________________________________________________________\n",
            "block3_sepconv2_bn (BatchNormal (None, 48, 48, 256)  1024        block3_sepconv2[0][0]            \n",
            "__________________________________________________________________________________________________\n",
            "conv2d_10 (Conv2D)              (None, 24, 24, 256)  32768       add_25[0][0]                     \n",
            "__________________________________________________________________________________________________\n",
            "block3_pool (MaxPooling2D)      (None, 24, 24, 256)  0           block3_sepconv2_bn[0][0]         \n",
            "__________________________________________________________________________________________________\n",
            "batch_normalization_10 (BatchNo (None, 24, 24, 256)  1024        conv2d_10[0][0]                  \n",
            "__________________________________________________________________________________________________\n",
            "add_26 (Add)                    (None, 24, 24, 256)  0           block3_pool[0][0]                \n",
            "                                                                 batch_normalization_10[0][0]     \n",
            "__________________________________________________________________________________________________\n",
            "block4_sepconv1_act (Activation (None, 24, 24, 256)  0           add_26[0][0]                     \n",
            "__________________________________________________________________________________________________\n",
            "block4_sepconv1 (SeparableConv2 (None, 24, 24, 728)  188672      block4_sepconv1_act[0][0]        \n",
            "__________________________________________________________________________________________________\n",
            "block4_sepconv1_bn (BatchNormal (None, 24, 24, 728)  2912        block4_sepconv1[0][0]            \n",
            "__________________________________________________________________________________________________\n",
            "block4_sepconv2_act (Activation (None, 24, 24, 728)  0           block4_sepconv1_bn[0][0]         \n",
            "__________________________________________________________________________________________________\n",
            "block4_sepconv2 (SeparableConv2 (None, 24, 24, 728)  536536      block4_sepconv2_act[0][0]        \n",
            "__________________________________________________________________________________________________\n",
            "block4_sepconv2_bn (BatchNormal (None, 24, 24, 728)  2912        block4_sepconv2[0][0]            \n",
            "__________________________________________________________________________________________________\n",
            "conv2d_11 (Conv2D)              (None, 12, 12, 728)  186368      add_26[0][0]                     \n",
            "__________________________________________________________________________________________________\n",
            "block4_pool (MaxPooling2D)      (None, 12, 12, 728)  0           block4_sepconv2_bn[0][0]         \n",
            "__________________________________________________________________________________________________\n",
            "batch_normalization_11 (BatchNo (None, 12, 12, 728)  2912        conv2d_11[0][0]                  \n",
            "__________________________________________________________________________________________________\n",
            "add_27 (Add)                    (None, 12, 12, 728)  0           block4_pool[0][0]                \n",
            "                                                                 batch_normalization_11[0][0]     \n",
            "__________________________________________________________________________________________________\n",
            "block5_sepconv1_act (Activation (None, 12, 12, 728)  0           add_27[0][0]                     \n",
            "__________________________________________________________________________________________________\n",
            "block5_sepconv1 (SeparableConv2 (None, 12, 12, 728)  536536      block5_sepconv1_act[0][0]        \n",
            "__________________________________________________________________________________________________\n",
            "block5_sepconv1_bn (BatchNormal (None, 12, 12, 728)  2912        block5_sepconv1[0][0]            \n",
            "__________________________________________________________________________________________________\n",
            "block5_sepconv2_act (Activation (None, 12, 12, 728)  0           block5_sepconv1_bn[0][0]         \n",
            "__________________________________________________________________________________________________\n",
            "block5_sepconv2 (SeparableConv2 (None, 12, 12, 728)  536536      block5_sepconv2_act[0][0]        \n",
            "__________________________________________________________________________________________________\n",
            "block5_sepconv2_bn (BatchNormal (None, 12, 12, 728)  2912        block5_sepconv2[0][0]            \n",
            "__________________________________________________________________________________________________\n",
            "block5_sepconv3_act (Activation (None, 12, 12, 728)  0           block5_sepconv2_bn[0][0]         \n",
            "__________________________________________________________________________________________________\n",
            "block5_sepconv3 (SeparableConv2 (None, 12, 12, 728)  536536      block5_sepconv3_act[0][0]        \n",
            "__________________________________________________________________________________________________\n",
            "block5_sepconv3_bn (BatchNormal (None, 12, 12, 728)  2912        block5_sepconv3[0][0]            \n",
            "__________________________________________________________________________________________________\n",
            "add_28 (Add)                    (None, 12, 12, 728)  0           block5_sepconv3_bn[0][0]         \n",
            "                                                                 add_27[0][0]                     \n",
            "__________________________________________________________________________________________________\n",
            "block6_sepconv1_act (Activation (None, 12, 12, 728)  0           add_28[0][0]                     \n",
            "__________________________________________________________________________________________________\n",
            "block6_sepconv1 (SeparableConv2 (None, 12, 12, 728)  536536      block6_sepconv1_act[0][0]        \n",
            "__________________________________________________________________________________________________\n",
            "block6_sepconv1_bn (BatchNormal (None, 12, 12, 728)  2912        block6_sepconv1[0][0]            \n",
            "__________________________________________________________________________________________________\n",
            "block6_sepconv2_act (Activation (None, 12, 12, 728)  0           block6_sepconv1_bn[0][0]         \n",
            "__________________________________________________________________________________________________\n",
            "block6_sepconv2 (SeparableConv2 (None, 12, 12, 728)  536536      block6_sepconv2_act[0][0]        \n",
            "__________________________________________________________________________________________________\n",
            "block6_sepconv2_bn (BatchNormal (None, 12, 12, 728)  2912        block6_sepconv2[0][0]            \n",
            "__________________________________________________________________________________________________\n",
            "block6_sepconv3_act (Activation (None, 12, 12, 728)  0           block6_sepconv2_bn[0][0]         \n",
            "__________________________________________________________________________________________________\n",
            "block6_sepconv3 (SeparableConv2 (None, 12, 12, 728)  536536      block6_sepconv3_act[0][0]        \n",
            "__________________________________________________________________________________________________\n",
            "block6_sepconv3_bn (BatchNormal (None, 12, 12, 728)  2912        block6_sepconv3[0][0]            \n",
            "__________________________________________________________________________________________________\n",
            "add_29 (Add)                    (None, 12, 12, 728)  0           block6_sepconv3_bn[0][0]         \n",
            "                                                                 add_28[0][0]                     \n",
            "__________________________________________________________________________________________________\n",
            "block7_sepconv1_act (Activation (None, 12, 12, 728)  0           add_29[0][0]                     \n",
            "__________________________________________________________________________________________________\n",
            "block7_sepconv1 (SeparableConv2 (None, 12, 12, 728)  536536      block7_sepconv1_act[0][0]        \n",
            "__________________________________________________________________________________________________\n",
            "block7_sepconv1_bn (BatchNormal (None, 12, 12, 728)  2912        block7_sepconv1[0][0]            \n",
            "__________________________________________________________________________________________________\n",
            "block7_sepconv2_act (Activation (None, 12, 12, 728)  0           block7_sepconv1_bn[0][0]         \n",
            "__________________________________________________________________________________________________\n",
            "block7_sepconv2 (SeparableConv2 (None, 12, 12, 728)  536536      block7_sepconv2_act[0][0]        \n",
            "__________________________________________________________________________________________________\n",
            "block7_sepconv2_bn (BatchNormal (None, 12, 12, 728)  2912        block7_sepconv2[0][0]            \n",
            "__________________________________________________________________________________________________\n",
            "block7_sepconv3_act (Activation (None, 12, 12, 728)  0           block7_sepconv2_bn[0][0]         \n",
            "__________________________________________________________________________________________________\n",
            "block7_sepconv3 (SeparableConv2 (None, 12, 12, 728)  536536      block7_sepconv3_act[0][0]        \n",
            "__________________________________________________________________________________________________\n",
            "block7_sepconv3_bn (BatchNormal (None, 12, 12, 728)  2912        block7_sepconv3[0][0]            \n",
            "__________________________________________________________________________________________________\n",
            "add_30 (Add)                    (None, 12, 12, 728)  0           block7_sepconv3_bn[0][0]         \n",
            "                                                                 add_29[0][0]                     \n",
            "__________________________________________________________________________________________________\n",
            "block8_sepconv1_act (Activation (None, 12, 12, 728)  0           add_30[0][0]                     \n",
            "__________________________________________________________________________________________________\n",
            "block8_sepconv1 (SeparableConv2 (None, 12, 12, 728)  536536      block8_sepconv1_act[0][0]        \n",
            "__________________________________________________________________________________________________\n",
            "block8_sepconv1_bn (BatchNormal (None, 12, 12, 728)  2912        block8_sepconv1[0][0]            \n",
            "__________________________________________________________________________________________________\n",
            "block8_sepconv2_act (Activation (None, 12, 12, 728)  0           block8_sepconv1_bn[0][0]         \n",
            "__________________________________________________________________________________________________\n",
            "block8_sepconv2 (SeparableConv2 (None, 12, 12, 728)  536536      block8_sepconv2_act[0][0]        \n",
            "__________________________________________________________________________________________________\n",
            "block8_sepconv2_bn (BatchNormal (None, 12, 12, 728)  2912        block8_sepconv2[0][0]            \n",
            "__________________________________________________________________________________________________\n",
            "block8_sepconv3_act (Activation (None, 12, 12, 728)  0           block8_sepconv2_bn[0][0]         \n",
            "__________________________________________________________________________________________________\n",
            "block8_sepconv3 (SeparableConv2 (None, 12, 12, 728)  536536      block8_sepconv3_act[0][0]        \n",
            "__________________________________________________________________________________________________\n",
            "block8_sepconv3_bn (BatchNormal (None, 12, 12, 728)  2912        block8_sepconv3[0][0]            \n",
            "__________________________________________________________________________________________________\n",
            "add_31 (Add)                    (None, 12, 12, 728)  0           block8_sepconv3_bn[0][0]         \n",
            "                                                                 add_30[0][0]                     \n",
            "__________________________________________________________________________________________________\n",
            "block9_sepconv1_act (Activation (None, 12, 12, 728)  0           add_31[0][0]                     \n",
            "__________________________________________________________________________________________________\n",
            "block9_sepconv1 (SeparableConv2 (None, 12, 12, 728)  536536      block9_sepconv1_act[0][0]        \n",
            "__________________________________________________________________________________________________\n",
            "block9_sepconv1_bn (BatchNormal (None, 12, 12, 728)  2912        block9_sepconv1[0][0]            \n",
            "__________________________________________________________________________________________________\n",
            "block9_sepconv2_act (Activation (None, 12, 12, 728)  0           block9_sepconv1_bn[0][0]         \n",
            "__________________________________________________________________________________________________\n",
            "block9_sepconv2 (SeparableConv2 (None, 12, 12, 728)  536536      block9_sepconv2_act[0][0]        \n",
            "__________________________________________________________________________________________________\n",
            "block9_sepconv2_bn (BatchNormal (None, 12, 12, 728)  2912        block9_sepconv2[0][0]            \n",
            "__________________________________________________________________________________________________\n",
            "block9_sepconv3_act (Activation (None, 12, 12, 728)  0           block9_sepconv2_bn[0][0]         \n",
            "__________________________________________________________________________________________________\n",
            "block9_sepconv3 (SeparableConv2 (None, 12, 12, 728)  536536      block9_sepconv3_act[0][0]        \n",
            "__________________________________________________________________________________________________\n",
            "block9_sepconv3_bn (BatchNormal (None, 12, 12, 728)  2912        block9_sepconv3[0][0]            \n",
            "__________________________________________________________________________________________________\n",
            "add_32 (Add)                    (None, 12, 12, 728)  0           block9_sepconv3_bn[0][0]         \n",
            "                                                                 add_31[0][0]                     \n",
            "__________________________________________________________________________________________________\n",
            "block10_sepconv1_act (Activatio (None, 12, 12, 728)  0           add_32[0][0]                     \n",
            "__________________________________________________________________________________________________\n",
            "block10_sepconv1 (SeparableConv (None, 12, 12, 728)  536536      block10_sepconv1_act[0][0]       \n",
            "__________________________________________________________________________________________________\n",
            "block10_sepconv1_bn (BatchNorma (None, 12, 12, 728)  2912        block10_sepconv1[0][0]           \n",
            "__________________________________________________________________________________________________\n",
            "block10_sepconv2_act (Activatio (None, 12, 12, 728)  0           block10_sepconv1_bn[0][0]        \n",
            "__________________________________________________________________________________________________\n",
            "block10_sepconv2 (SeparableConv (None, 12, 12, 728)  536536      block10_sepconv2_act[0][0]       \n",
            "__________________________________________________________________________________________________\n",
            "block10_sepconv2_bn (BatchNorma (None, 12, 12, 728)  2912        block10_sepconv2[0][0]           \n",
            "__________________________________________________________________________________________________\n",
            "block10_sepconv3_act (Activatio (None, 12, 12, 728)  0           block10_sepconv2_bn[0][0]        \n",
            "__________________________________________________________________________________________________\n",
            "block10_sepconv3 (SeparableConv (None, 12, 12, 728)  536536      block10_sepconv3_act[0][0]       \n",
            "__________________________________________________________________________________________________\n",
            "block10_sepconv3_bn (BatchNorma (None, 12, 12, 728)  2912        block10_sepconv3[0][0]           \n",
            "__________________________________________________________________________________________________\n",
            "add_33 (Add)                    (None, 12, 12, 728)  0           block10_sepconv3_bn[0][0]        \n",
            "                                                                 add_32[0][0]                     \n",
            "__________________________________________________________________________________________________\n",
            "block11_sepconv1_act (Activatio (None, 12, 12, 728)  0           add_33[0][0]                     \n",
            "__________________________________________________________________________________________________\n",
            "block11_sepconv1 (SeparableConv (None, 12, 12, 728)  536536      block11_sepconv1_act[0][0]       \n",
            "__________________________________________________________________________________________________\n",
            "block11_sepconv1_bn (BatchNorma (None, 12, 12, 728)  2912        block11_sepconv1[0][0]           \n",
            "__________________________________________________________________________________________________\n",
            "block11_sepconv2_act (Activatio (None, 12, 12, 728)  0           block11_sepconv1_bn[0][0]        \n",
            "__________________________________________________________________________________________________\n",
            "block11_sepconv2 (SeparableConv (None, 12, 12, 728)  536536      block11_sepconv2_act[0][0]       \n",
            "__________________________________________________________________________________________________\n",
            "block11_sepconv2_bn (BatchNorma (None, 12, 12, 728)  2912        block11_sepconv2[0][0]           \n",
            "__________________________________________________________________________________________________\n",
            "block11_sepconv3_act (Activatio (None, 12, 12, 728)  0           block11_sepconv2_bn[0][0]        \n",
            "__________________________________________________________________________________________________\n",
            "block11_sepconv3 (SeparableConv (None, 12, 12, 728)  536536      block11_sepconv3_act[0][0]       \n",
            "__________________________________________________________________________________________________\n",
            "block11_sepconv3_bn (BatchNorma (None, 12, 12, 728)  2912        block11_sepconv3[0][0]           \n",
            "__________________________________________________________________________________________________\n",
            "add_34 (Add)                    (None, 12, 12, 728)  0           block11_sepconv3_bn[0][0]        \n",
            "                                                                 add_33[0][0]                     \n",
            "__________________________________________________________________________________________________\n",
            "block12_sepconv1_act (Activatio (None, 12, 12, 728)  0           add_34[0][0]                     \n",
            "__________________________________________________________________________________________________\n",
            "block12_sepconv1 (SeparableConv (None, 12, 12, 728)  536536      block12_sepconv1_act[0][0]       \n",
            "__________________________________________________________________________________________________\n",
            "block12_sepconv1_bn (BatchNorma (None, 12, 12, 728)  2912        block12_sepconv1[0][0]           \n",
            "__________________________________________________________________________________________________\n",
            "block12_sepconv2_act (Activatio (None, 12, 12, 728)  0           block12_sepconv1_bn[0][0]        \n",
            "__________________________________________________________________________________________________\n",
            "block12_sepconv2 (SeparableConv (None, 12, 12, 728)  536536      block12_sepconv2_act[0][0]       \n",
            "__________________________________________________________________________________________________\n",
            "block12_sepconv2_bn (BatchNorma (None, 12, 12, 728)  2912        block12_sepconv2[0][0]           \n",
            "__________________________________________________________________________________________________\n",
            "block12_sepconv3_act (Activatio (None, 12, 12, 728)  0           block12_sepconv2_bn[0][0]        \n",
            "__________________________________________________________________________________________________\n",
            "block12_sepconv3 (SeparableConv (None, 12, 12, 728)  536536      block12_sepconv3_act[0][0]       \n",
            "__________________________________________________________________________________________________\n",
            "block12_sepconv3_bn (BatchNorma (None, 12, 12, 728)  2912        block12_sepconv3[0][0]           \n",
            "__________________________________________________________________________________________________\n",
            "add_35 (Add)                    (None, 12, 12, 728)  0           block12_sepconv3_bn[0][0]        \n",
            "                                                                 add_34[0][0]                     \n",
            "__________________________________________________________________________________________________\n",
            "block13_sepconv1_act (Activatio (None, 12, 12, 728)  0           add_35[0][0]                     \n",
            "__________________________________________________________________________________________________\n",
            "block13_sepconv1 (SeparableConv (None, 12, 12, 728)  536536      block13_sepconv1_act[0][0]       \n",
            "__________________________________________________________________________________________________\n",
            "block13_sepconv1_bn (BatchNorma (None, 12, 12, 728)  2912        block13_sepconv1[0][0]           \n",
            "__________________________________________________________________________________________________\n",
            "block13_sepconv2_act (Activatio (None, 12, 12, 728)  0           block13_sepconv1_bn[0][0]        \n",
            "__________________________________________________________________________________________________\n",
            "block13_sepconv2 (SeparableConv (None, 12, 12, 1024) 752024      block13_sepconv2_act[0][0]       \n",
            "__________________________________________________________________________________________________\n",
            "block13_sepconv2_bn (BatchNorma (None, 12, 12, 1024) 4096        block13_sepconv2[0][0]           \n",
            "__________________________________________________________________________________________________\n",
            "conv2d_12 (Conv2D)              (None, 6, 6, 1024)   745472      add_35[0][0]                     \n",
            "__________________________________________________________________________________________________\n",
            "block13_pool (MaxPooling2D)     (None, 6, 6, 1024)   0           block13_sepconv2_bn[0][0]        \n",
            "__________________________________________________________________________________________________\n",
            "batch_normalization_12 (BatchNo (None, 6, 6, 1024)   4096        conv2d_12[0][0]                  \n",
            "__________________________________________________________________________________________________\n",
            "add_36 (Add)                    (None, 6, 6, 1024)   0           block13_pool[0][0]               \n",
            "                                                                 batch_normalization_12[0][0]     \n",
            "__________________________________________________________________________________________________\n",
            "block14_sepconv1 (SeparableConv (None, 6, 6, 1536)   1582080     add_36[0][0]                     \n",
            "__________________________________________________________________________________________________\n",
            "block14_sepconv1_bn (BatchNorma (None, 6, 6, 1536)   6144        block14_sepconv1[0][0]           \n",
            "__________________________________________________________________________________________________\n",
            "block14_sepconv1_act (Activatio (None, 6, 6, 1536)   0           block14_sepconv1_bn[0][0]        \n",
            "__________________________________________________________________________________________________\n",
            "block14_sepconv2 (SeparableConv (None, 6, 6, 2048)   3159552     block14_sepconv1_act[0][0]       \n",
            "__________________________________________________________________________________________________\n",
            "block14_sepconv2_bn (BatchNorma (None, 6, 6, 2048)   8192        block14_sepconv2[0][0]           \n",
            "__________________________________________________________________________________________________\n",
            "block14_sepconv2_act (Activatio (None, 6, 6, 2048)   0           block14_sepconv2_bn[0][0]        \n",
            "==================================================================================================\n",
            "Total params: 20,861,480\n",
            "Trainable params: 20,806,952\n",
            "Non-trainable params: 54,528\n",
            "__________________________________________________________________________________________________\n"
          ],
          "name": "stdout"
        }
      ]
    },
    {
      "cell_type": "markdown",
      "metadata": {
        "id": "ewOtdrdIcQ_Z",
        "colab_type": "text"
      },
      "source": [
        "## Transfer learning"
      ]
    },
    {
      "cell_type": "code",
      "metadata": {
        "id": "4QEAv0uCbFCe",
        "colab_type": "code",
        "colab": {}
      },
      "source": [
        "# Adds new top to base model\n",
        "def add_top(base):\n",
        "    x = base.output\n",
        "\n",
        "    # Global averaging pool layer\n",
        "    x = GlobalAveragePooling2D()(x)\n",
        "\n",
        "    # Regular densely connected layer\n",
        "    x = Dense(512, activation='relu')(x)\n",
        "\n",
        "    # Output layer\n",
        "    predictions = Dense(nb_classes, activation='softmax')(x)\n",
        "\n",
        "    return Model(inputs = base.input, outputs = predictions)"
      ],
      "execution_count": 90,
      "outputs": []
    },
    {
      "cell_type": "code",
      "metadata": {
        "id": "OoOB53HHWqT5",
        "colab_type": "code",
        "colab": {}
      },
      "source": [
        "# Sets up model for transfer learning\n",
        "def setup_model(model, base):\n",
        "    # Freeze the un-trainable layers of the model base\n",
        "    for layer in base.layers:\n",
        "        layer.trainable = False\n",
        "\n",
        "    model.compile(\n",
        "        loss = 'categorical_crossentropy',\n",
        "        optimizer = 'rmsprop',\n",
        "        metrics = ['accuracy']\n",
        "    )"
      ],
      "execution_count": 91,
      "outputs": []
    },
    {
      "cell_type": "code",
      "metadata": {
        "id": "UJlre8ekeOwz",
        "colab_type": "code",
        "colab": {}
      },
      "source": [
        "# Fine tune the model\n",
        "def fine_tune(model, trainable):\n",
        "    # Freeze the un-trainable layers of the model base\n",
        "    for layer in model.layers[:(len(model.layers) - trainable)]:\n",
        "        layer.trainable = False\n",
        "\n",
        "    for layer in model.layers[(len(model.layers) - trainable):]:\n",
        "        layer.trainable = True\n",
        "\n",
        "    model.compile(\n",
        "        loss = 'categorical_crossentropy',\n",
        "        optimizer = optimizers.SGD(lr = 1e-4, momentum = 0.9),\n",
        "        metrics = ['accuracy']\n",
        "    )"
      ],
      "execution_count": 92,
      "outputs": []
    },
    {
      "cell_type": "code",
      "metadata": {
        "id": "Mmlx5dPxcUT_",
        "colab_type": "code",
        "colab": {}
      },
      "source": [
        "# appending our trainable layers to the end of the model\n",
        "model = add_top(xception_base)"
      ],
      "execution_count": 93,
      "outputs": []
    },
    {
      "cell_type": "markdown",
      "metadata": {
        "id": "2qlhL0IzPRIl",
        "colab_type": "text"
      },
      "source": [
        "## Training\n",
        "\n",
        "We are using a hybrid approach, at first we train with RMSprop/Adam until we get a better initial state for SGD optimizer, then we start the training again with SGD."
      ]
    },
    {
      "cell_type": "markdown",
      "metadata": {
        "id": "fCWJXgr1YGMM",
        "colab_type": "text"
      },
      "source": [
        "Training the layers we added while freezing all the original model layers."
      ]
    },
    {
      "cell_type": "code",
      "metadata": {
        "id": "uFkT9KqfXU-M",
        "colab_type": "code",
        "colab": {}
      },
      "source": [
        "# setup the model\n",
        "setup_model(model, xception_base)"
      ],
      "execution_count": 94,
      "outputs": []
    },
    {
      "cell_type": "code",
      "metadata": {
        "id": "mawkmrsZOliz",
        "colab_type": "code",
        "colab": {
          "base_uri": "https://localhost:8080/",
          "height": 689
        },
        "outputId": "cb353323-dca3-4288-821a-a1d821490ce1"
      },
      "source": [
        "epochs = 20\n",
        "\n",
        "# train the model\n",
        "history1 = model.fit_generator(\n",
        "    train_generator,\n",
        "    steps_per_epoch = training_samples // batch_size,\n",
        "    epochs = epochs,\n",
        "    validation_data = validation_generator,\n",
        "    validation_steps = validation_samples // batch_size,\n",
        "    verbose = 1,\n",
        ")"
      ],
      "execution_count": 95,
      "outputs": [
        {
          "output_type": "stream",
          "text": [
            "Epoch 1/20\n",
            "8/8 [==============================] - 45s 6s/step - loss: 2.1048 - accuracy: 0.3485 - val_loss: 0.9759 - val_accuracy: 0.7188\n",
            "Epoch 2/20\n",
            "8/8 [==============================] - 39s 5s/step - loss: 1.0913 - accuracy: 0.6845 - val_loss: 0.7690 - val_accuracy: 0.8264\n",
            "Epoch 3/20\n",
            "8/8 [==============================] - 35s 4s/step - loss: 0.8359 - accuracy: 0.7617 - val_loss: 0.3871 - val_accuracy: 0.9097\n",
            "Epoch 4/20\n",
            "8/8 [==============================] - 40s 5s/step - loss: 0.7398 - accuracy: 0.7887 - val_loss: 0.5695 - val_accuracy: 0.8281\n",
            "Epoch 5/20\n",
            "8/8 [==============================] - 40s 5s/step - loss: 0.5808 - accuracy: 0.8289 - val_loss: 0.5301 - val_accuracy: 0.8889\n",
            "Epoch 6/20\n",
            "8/8 [==============================] - 34s 4s/step - loss: 0.6306 - accuracy: 0.7979 - val_loss: 0.3416 - val_accuracy: 0.9028\n",
            "Epoch 7/20\n",
            "8/8 [==============================] - 36s 5s/step - loss: 0.4996 - accuracy: 0.8450 - val_loss: 0.4832 - val_accuracy: 0.8984\n",
            "Epoch 8/20\n",
            "8/8 [==============================] - 41s 5s/step - loss: 0.5904 - accuracy: 0.8330 - val_loss: 0.2859 - val_accuracy: 0.9444\n",
            "Epoch 9/20\n",
            "8/8 [==============================] - 35s 4s/step - loss: 0.5276 - accuracy: 0.8505 - val_loss: 0.3863 - val_accuracy: 0.9028\n",
            "Epoch 10/20\n",
            "8/8 [==============================] - 40s 5s/step - loss: 0.4714 - accuracy: 0.8567 - val_loss: 0.1963 - val_accuracy: 0.9102\n",
            "Epoch 11/20\n",
            "8/8 [==============================] - 41s 5s/step - loss: 0.4073 - accuracy: 0.8682 - val_loss: 0.2288 - val_accuracy: 0.9306\n",
            "Epoch 12/20\n",
            "8/8 [==============================] - 33s 4s/step - loss: 0.4789 - accuracy: 0.8614 - val_loss: 0.6534 - val_accuracy: 0.8889\n",
            "Epoch 13/20\n",
            "8/8 [==============================] - 39s 5s/step - loss: 0.4583 - accuracy: 0.8660 - val_loss: 0.6732 - val_accuracy: 0.8398\n",
            "Epoch 14/20\n",
            "8/8 [==============================] - 42s 5s/step - loss: 0.3470 - accuracy: 0.8906 - val_loss: 0.5717 - val_accuracy: 0.9167\n",
            "Epoch 15/20\n",
            "8/8 [==============================] - 32s 4s/step - loss: 0.4524 - accuracy: 0.8660 - val_loss: 0.0053 - val_accuracy: 0.9236\n",
            "Epoch 16/20\n",
            "8/8 [==============================] - 38s 5s/step - loss: 0.3733 - accuracy: 0.8928 - val_loss: 0.9040 - val_accuracy: 0.8945\n",
            "Epoch 17/20\n",
            "8/8 [==============================] - 40s 5s/step - loss: 0.3621 - accuracy: 0.8825 - val_loss: 0.4296 - val_accuracy: 0.9097\n",
            "Epoch 18/20\n",
            "8/8 [==============================] - 33s 4s/step - loss: 0.4276 - accuracy: 0.8608 - val_loss: 0.2432 - val_accuracy: 0.9444\n",
            "Epoch 19/20\n",
            "8/8 [==============================] - 39s 5s/step - loss: 0.3273 - accuracy: 0.9010 - val_loss: 0.1706 - val_accuracy: 0.9336\n",
            "Epoch 20/20\n",
            "8/8 [==============================] - 40s 5s/step - loss: 0.3181 - accuracy: 0.9031 - val_loss: 0.8159 - val_accuracy: 0.8611\n"
          ],
          "name": "stdout"
        }
      ]
    },
    {
      "cell_type": "markdown",
      "metadata": {
        "id": "XzED-feJdXGb",
        "colab_type": "text"
      },
      "source": [
        "## Fine-tuning"
      ]
    },
    {
      "cell_type": "markdown",
      "metadata": {
        "id": "Qsry5oLLYMj_",
        "colab_type": "text"
      },
      "source": [
        "Re-train the model again using the weights we got from the first training for our new added layers, and in the same time we will un-freeze the last two layers of the original model."
      ]
    },
    {
      "cell_type": "code",
      "metadata": {
        "id": "FoKgr9SRXWx1",
        "colab_type": "code",
        "colab": {}
      },
      "source": [
        "# fine tune the model to retrain our top layer plus blocks 13 and 14 of Xception\n",
        "fine_tune(model, 19)"
      ],
      "execution_count": 96,
      "outputs": []
    },
    {
      "cell_type": "code",
      "metadata": {
        "id": "o8HM6K6behl5",
        "colab_type": "code",
        "colab": {
          "base_uri": "https://localhost:8080/",
          "height": 689
        },
        "outputId": "b2e810b7-42b9-4a70-8098-bb9648f78f2b"
      },
      "source": [
        "epochs_ft = 20\n",
        "\n",
        "# train the model\n",
        "history2 = model.fit_generator(\n",
        "    train_generator,\n",
        "    steps_per_epoch = training_samples // batch_size,\n",
        "    epochs = epochs_ft,\n",
        "    validation_data = validation_generator,\n",
        "    validation_steps = validation_samples // batch_size,\n",
        "    verbose = 1,\n",
        ")"
      ],
      "execution_count": 97,
      "outputs": [
        {
          "output_type": "stream",
          "text": [
            "Epoch 1/20\n",
            "8/8 [==============================] - 47s 6s/step - loss: 0.3895 - accuracy: 0.8794 - val_loss: 1.0593 - val_accuracy: 0.8867\n",
            "Epoch 2/20\n",
            "8/8 [==============================] - 36s 4s/step - loss: 0.3480 - accuracy: 0.8887 - val_loss: 1.0364 - val_accuracy: 0.8750\n",
            "Epoch 3/20\n",
            "8/8 [==============================] - 36s 5s/step - loss: 0.3502 - accuracy: 0.8887 - val_loss: 1.2126 - val_accuracy: 0.9375\n",
            "Epoch 4/20\n",
            "8/8 [==============================] - 42s 5s/step - loss: 0.3403 - accuracy: 0.8936 - val_loss: 0.6755 - val_accuracy: 0.9141\n",
            "Epoch 5/20\n",
            "8/8 [==============================] - 39s 5s/step - loss: 0.3132 - accuracy: 0.8919 - val_loss: 0.6356 - val_accuracy: 0.9167\n",
            "Epoch 6/20\n",
            "8/8 [==============================] - 32s 4s/step - loss: 0.3054 - accuracy: 0.9041 - val_loss: 1.4064 - val_accuracy: 0.8889\n",
            "Epoch 7/20\n",
            "8/8 [==============================] - 43s 5s/step - loss: 0.2984 - accuracy: 0.9072 - val_loss: 1.1421 - val_accuracy: 0.9180\n",
            "Epoch 8/20\n",
            "8/8 [==============================] - 42s 5s/step - loss: 0.3195 - accuracy: 0.9004 - val_loss: 0.7951 - val_accuracy: 0.8750\n",
            "Epoch 9/20\n",
            "8/8 [==============================] - 33s 4s/step - loss: 0.3101 - accuracy: 0.9103 - val_loss: 0.6546 - val_accuracy: 0.9375\n",
            "Epoch 10/20\n",
            "8/8 [==============================] - 41s 5s/step - loss: 0.2598 - accuracy: 0.9216 - val_loss: 1.0202 - val_accuracy: 0.9180\n",
            "Epoch 11/20\n",
            "8/8 [==============================] - 42s 5s/step - loss: 0.2958 - accuracy: 0.9062 - val_loss: 0.5986 - val_accuracy: 0.9028\n",
            "Epoch 12/20\n",
            "8/8 [==============================] - 32s 4s/step - loss: 0.2706 - accuracy: 0.9134 - val_loss: 0.3795 - val_accuracy: 0.9236\n",
            "Epoch 13/20\n",
            "8/8 [==============================] - 40s 5s/step - loss: 0.2947 - accuracy: 0.9155 - val_loss: 0.6908 - val_accuracy: 0.9258\n",
            "Epoch 14/20\n",
            "8/8 [==============================] - 42s 5s/step - loss: 0.3320 - accuracy: 0.8959 - val_loss: 0.6104 - val_accuracy: 0.8958\n",
            "Epoch 15/20\n",
            "8/8 [==============================] - 33s 4s/step - loss: 0.2563 - accuracy: 0.9196 - val_loss: 0.3696 - val_accuracy: 0.9375\n",
            "Epoch 16/20\n",
            "8/8 [==============================] - 42s 5s/step - loss: 0.2389 - accuracy: 0.9247 - val_loss: 0.7748 - val_accuracy: 0.9297\n",
            "Epoch 17/20\n",
            "8/8 [==============================] - 40s 5s/step - loss: 0.2719 - accuracy: 0.9113 - val_loss: 0.7379 - val_accuracy: 0.9097\n",
            "Epoch 18/20\n",
            "8/8 [==============================] - 35s 4s/step - loss: 0.2528 - accuracy: 0.9209 - val_loss: 0.0260 - val_accuracy: 0.9514\n",
            "Epoch 19/20\n",
            "8/8 [==============================] - 44s 5s/step - loss: 0.2610 - accuracy: 0.9219 - val_loss: 0.2095 - val_accuracy: 0.9297\n",
            "Epoch 20/20\n",
            "8/8 [==============================] - 40s 5s/step - loss: 0.2461 - accuracy: 0.9323 - val_loss: 0.4835 - val_accuracy: 0.9375\n"
          ],
          "name": "stdout"
        }
      ]
    },
    {
      "cell_type": "markdown",
      "metadata": {
        "id": "TX0ehct4isp6",
        "colab_type": "text"
      },
      "source": [
        "# Diagrams"
      ]
    },
    {
      "cell_type": "markdown",
      "metadata": {
        "id": "wkjTNmq6M5EE",
        "colab_type": "text"
      },
      "source": [
        "## Model Diagrams"
      ]
    },
    {
      "cell_type": "code",
      "metadata": {
        "id": "5Qk9sxznjbWb",
        "colab_type": "code",
        "colab": {
          "base_uri": "https://localhost:8080/",
          "height": 1000
        },
        "outputId": "c4c2cb67-340a-49f8-b565-91e1615970e9"
      },
      "source": [
        "SVG(model_to_dot(model, show_shapes = False, show_layer_names=True, rankdir='HB', dpi = 72).create(prog='dot', format='svg'))"
      ],
      "execution_count": 98,
      "outputs": [
        {
          "output_type": "execute_result",
          "data": {
            "text/plain": [
              "<IPython.core.display.SVG object>"
            ],
            "image/svg+xml": "<svg height=\"9243pt\" viewBox=\"0.00 0.00 646.50 9243.00\" width=\"647pt\" xmlns=\"http://www.w3.org/2000/svg\" xmlns:xlink=\"http://www.w3.org/1999/xlink\">\n<g class=\"graph\" id=\"graph0\" transform=\"scale(1 1) rotate(0) translate(4 9239)\">\n<title>G</title>\n<polygon fill=\"#ffffff\" points=\"-4,4 -4,-9239 642.5,-9239 642.5,4 -4,4\" stroke=\"transparent\"/>\n<!-- 140325443861528 -->\n<g class=\"node\" id=\"node1\">\n<title>140325443861528</title>\n<polygon fill=\"none\" points=\"178,-9198.5 178,-9234.5 311,-9234.5 311,-9198.5 178,-9198.5\" stroke=\"#000000\"/>\n<text fill=\"#000000\" font-family=\"Times,serif\" font-size=\"14.00\" text-anchor=\"middle\" x=\"244.5\" y=\"-9212.8\">input_3: InputLayer</text>\n</g>\n<!-- 140325443860576 -->\n<g class=\"node\" id=\"node2\">\n<title>140325443860576</title>\n<polygon fill=\"none\" points=\"165.5,-9125.5 165.5,-9161.5 323.5,-9161.5 323.5,-9125.5 165.5,-9125.5\" stroke=\"#000000\"/>\n<text fill=\"#000000\" font-family=\"Times,serif\" font-size=\"14.00\" text-anchor=\"middle\" x=\"244.5\" y=\"-9139.8\">block1_conv1: Conv2D</text>\n</g>\n<!-- 140325443861528&#45;&gt;140325443860576 -->\n<g class=\"edge\" id=\"edge1\">\n<title>140325443861528-&gt;140325443860576</title>\n<path d=\"M244.5,-9198.4551C244.5,-9190.3828 244.5,-9180.6764 244.5,-9171.6817\" fill=\"none\" stroke=\"#000000\"/>\n<polygon fill=\"#000000\" points=\"248.0001,-9171.5903 244.5,-9161.5904 241.0001,-9171.5904 248.0001,-9171.5903\" stroke=\"#000000\"/>\n</g>\n<!-- 140325443861024 -->\n<g class=\"node\" id=\"node3\">\n<title>140325443861024</title>\n<polygon fill=\"none\" points=\"122,-9052.5 122,-9088.5 367,-9088.5 367,-9052.5 122,-9052.5\" stroke=\"#000000\"/>\n<text fill=\"#000000\" font-family=\"Times,serif\" font-size=\"14.00\" text-anchor=\"middle\" x=\"244.5\" y=\"-9066.8\">block1_conv1_bn: BatchNormalization</text>\n</g>\n<!-- 140325443860576&#45;&gt;140325443861024 -->\n<g class=\"edge\" id=\"edge2\">\n<title>140325443860576-&gt;140325443861024</title>\n<path d=\"M244.5,-9125.4551C244.5,-9117.3828 244.5,-9107.6764 244.5,-9098.6817\" fill=\"none\" stroke=\"#000000\"/>\n<polygon fill=\"#000000\" points=\"248.0001,-9098.5903 244.5,-9088.5904 241.0001,-9098.5904 248.0001,-9098.5903\" stroke=\"#000000\"/>\n</g>\n<!-- 140325435131440 -->\n<g class=\"node\" id=\"node4\">\n<title>140325435131440</title>\n<polygon fill=\"none\" points=\"149.5,-8979.5 149.5,-9015.5 339.5,-9015.5 339.5,-8979.5 149.5,-8979.5\" stroke=\"#000000\"/>\n<text fill=\"#000000\" font-family=\"Times,serif\" font-size=\"14.00\" text-anchor=\"middle\" x=\"244.5\" y=\"-8993.8\">block1_conv1_act: Activation</text>\n</g>\n<!-- 140325443861024&#45;&gt;140325435131440 -->\n<g class=\"edge\" id=\"edge3\">\n<title>140325443861024-&gt;140325435131440</title>\n<path d=\"M244.5,-9052.4551C244.5,-9044.3828 244.5,-9034.6764 244.5,-9025.6817\" fill=\"none\" stroke=\"#000000\"/>\n<polygon fill=\"#000000\" points=\"248.0001,-9025.5903 244.5,-9015.5904 241.0001,-9025.5904 248.0001,-9025.5903\" stroke=\"#000000\"/>\n</g>\n<!-- 140325413874656 -->\n<g class=\"node\" id=\"node5\">\n<title>140325413874656</title>\n<polygon fill=\"none\" points=\"165.5,-8906.5 165.5,-8942.5 323.5,-8942.5 323.5,-8906.5 165.5,-8906.5\" stroke=\"#000000\"/>\n<text fill=\"#000000\" font-family=\"Times,serif\" font-size=\"14.00\" text-anchor=\"middle\" x=\"244.5\" y=\"-8920.8\">block1_conv2: Conv2D</text>\n</g>\n<!-- 140325435131440&#45;&gt;140325413874656 -->\n<g class=\"edge\" id=\"edge4\">\n<title>140325435131440-&gt;140325413874656</title>\n<path d=\"M244.5,-8979.4551C244.5,-8971.3828 244.5,-8961.6764 244.5,-8952.6817\" fill=\"none\" stroke=\"#000000\"/>\n<polygon fill=\"#000000\" points=\"248.0001,-8952.5903 244.5,-8942.5904 241.0001,-8952.5904 248.0001,-8952.5903\" stroke=\"#000000\"/>\n</g>\n<!-- 140325423331424 -->\n<g class=\"node\" id=\"node6\">\n<title>140325423331424</title>\n<polygon fill=\"none\" points=\"122,-8833.5 122,-8869.5 367,-8869.5 367,-8833.5 122,-8833.5\" stroke=\"#000000\"/>\n<text fill=\"#000000\" font-family=\"Times,serif\" font-size=\"14.00\" text-anchor=\"middle\" x=\"244.5\" y=\"-8847.8\">block1_conv2_bn: BatchNormalization</text>\n</g>\n<!-- 140325413874656&#45;&gt;140325423331424 -->\n<g class=\"edge\" id=\"edge5\">\n<title>140325413874656-&gt;140325423331424</title>\n<path d=\"M244.5,-8906.4551C244.5,-8898.3828 244.5,-8888.6764 244.5,-8879.6817\" fill=\"none\" stroke=\"#000000\"/>\n<polygon fill=\"#000000\" points=\"248.0001,-8879.5903 244.5,-8869.5904 241.0001,-8879.5904 248.0001,-8879.5903\" stroke=\"#000000\"/>\n</g>\n<!-- 140325423330192 -->\n<g class=\"node\" id=\"node7\">\n<title>140325423330192</title>\n<polygon fill=\"none\" points=\"149.5,-8760.5 149.5,-8796.5 339.5,-8796.5 339.5,-8760.5 149.5,-8760.5\" stroke=\"#000000\"/>\n<text fill=\"#000000\" font-family=\"Times,serif\" font-size=\"14.00\" text-anchor=\"middle\" x=\"244.5\" y=\"-8774.8\">block1_conv2_act: Activation</text>\n</g>\n<!-- 140325423331424&#45;&gt;140325423330192 -->\n<g class=\"edge\" id=\"edge6\">\n<title>140325423331424-&gt;140325423330192</title>\n<path d=\"M244.5,-8833.4551C244.5,-8825.3828 244.5,-8815.6764 244.5,-8806.6817\" fill=\"none\" stroke=\"#000000\"/>\n<polygon fill=\"#000000\" points=\"248.0001,-8806.5903 244.5,-8796.5904 241.0001,-8806.5904 248.0001,-8806.5903\" stroke=\"#000000\"/>\n</g>\n<!-- 140325422822568 -->\n<g class=\"node\" id=\"node8\">\n<title>140325422822568</title>\n<polygon fill=\"none\" points=\"56.5,-8687.5 56.5,-8723.5 288.5,-8723.5 288.5,-8687.5 56.5,-8687.5\" stroke=\"#000000\"/>\n<text fill=\"#000000\" font-family=\"Times,serif\" font-size=\"14.00\" text-anchor=\"middle\" x=\"172.5\" y=\"-8701.8\">block2_sepconv1: SeparableConv2D</text>\n</g>\n<!-- 140325423330192&#45;&gt;140325422822568 -->\n<g class=\"edge\" id=\"edge7\">\n<title>140325423330192-&gt;140325422822568</title>\n<path d=\"M226.7022,-8760.4551C217.8752,-8751.5054 207.0669,-8740.547 197.4307,-8730.7769\" fill=\"none\" stroke=\"#000000\"/>\n<polygon fill=\"#000000\" points=\"199.8566,-8728.2523 190.3425,-8723.5904 194.8728,-8733.1678 199.8566,-8728.2523\" stroke=\"#000000\"/>\n</g>\n<!-- 140325422753944 -->\n<g class=\"node\" id=\"node13\">\n<title>140325422753944</title>\n<polygon fill=\"none\" points=\"296,-8614.5 296,-8650.5 429,-8650.5 429,-8614.5 296,-8614.5\" stroke=\"#000000\"/>\n<text fill=\"#000000\" font-family=\"Times,serif\" font-size=\"14.00\" text-anchor=\"middle\" x=\"362.5\" y=\"-8628.8\">conv2d_9: Conv2D</text>\n</g>\n<!-- 140325423330192&#45;&gt;140325422753944 -->\n<g class=\"edge\" id=\"edge12\">\n<title>140325423330192-&gt;140325422753944</title>\n<path d=\"M263.3869,-8760.4961C273.8508,-8750.1794 286.8563,-8736.7772 297.5,-8724 314.9418,-8703.062 332.7253,-8677.6935 345.272,-8658.984\" fill=\"none\" stroke=\"#000000\"/>\n<polygon fill=\"#000000\" points=\"348.1972,-8660.9058 350.8168,-8650.6399 342.367,-8657.0315 348.1972,-8660.9058\" stroke=\"#000000\"/>\n</g>\n<!-- 140325422939104 -->\n<g class=\"node\" id=\"node9\">\n<title>140325422939104</title>\n<polygon fill=\"none\" points=\"5,-8614.5 5,-8650.5 268,-8650.5 268,-8614.5 5,-8614.5\" stroke=\"#000000\"/>\n<text fill=\"#000000\" font-family=\"Times,serif\" font-size=\"14.00\" text-anchor=\"middle\" x=\"136.5\" y=\"-8628.8\">block2_sepconv1_bn: BatchNormalization</text>\n</g>\n<!-- 140325422822568&#45;&gt;140325422939104 -->\n<g class=\"edge\" id=\"edge8\">\n<title>140325422822568-&gt;140325422939104</title>\n<path d=\"M163.6011,-8687.4551C159.4905,-8679.1196 154.5205,-8669.0416 149.9651,-8659.8042\" fill=\"none\" stroke=\"#000000\"/>\n<polygon fill=\"#000000\" points=\"152.9833,-8658.011 145.4213,-8650.5904 146.7052,-8661.1071 152.9833,-8658.011\" stroke=\"#000000\"/>\n</g>\n<!-- 140325422538368 -->\n<g class=\"node\" id=\"node10\">\n<title>140325422538368</title>\n<polygon fill=\"none\" points=\"11,-8541.5 11,-8577.5 220,-8577.5 220,-8541.5 11,-8541.5\" stroke=\"#000000\"/>\n<text fill=\"#000000\" font-family=\"Times,serif\" font-size=\"14.00\" text-anchor=\"middle\" x=\"115.5\" y=\"-8555.8\">block2_sepconv2_act: Activation</text>\n</g>\n<!-- 140325422939104&#45;&gt;140325422538368 -->\n<g class=\"edge\" id=\"edge9\">\n<title>140325422939104-&gt;140325422538368</title>\n<path d=\"M131.309,-8614.4551C128.9616,-8606.2951 126.1338,-8596.4652 123.5228,-8587.3887\" fill=\"none\" stroke=\"#000000\"/>\n<polygon fill=\"#000000\" points=\"126.8323,-8586.233 120.7041,-8577.5904 120.1052,-8588.1683 126.8323,-8586.233\" stroke=\"#000000\"/>\n</g>\n<!-- 140325422607048 -->\n<g class=\"node\" id=\"node11\">\n<title>140325422607048</title>\n<polygon fill=\"none\" points=\"23.5,-8468.5 23.5,-8504.5 255.5,-8504.5 255.5,-8468.5 23.5,-8468.5\" stroke=\"#000000\"/>\n<text fill=\"#000000\" font-family=\"Times,serif\" font-size=\"14.00\" text-anchor=\"middle\" x=\"139.5\" y=\"-8482.8\">block2_sepconv2: SeparableConv2D</text>\n</g>\n<!-- 140325422538368&#45;&gt;140325422607048 -->\n<g class=\"edge\" id=\"edge10\">\n<title>140325422538368-&gt;140325422607048</title>\n<path d=\"M121.4326,-8541.4551C124.1442,-8533.2074 127.4166,-8523.2536 130.4273,-8514.0962\" fill=\"none\" stroke=\"#000000\"/>\n<polygon fill=\"#000000\" points=\"133.7541,-8515.1833 133.5525,-8504.5904 127.1043,-8512.997 133.7541,-8515.1833\" stroke=\"#000000\"/>\n</g>\n<!-- 140325422700528 -->\n<g class=\"node\" id=\"node12\">\n<title>140325422700528</title>\n<polygon fill=\"none\" points=\"57,-8395.5 57,-8431.5 320,-8431.5 320,-8395.5 57,-8395.5\" stroke=\"#000000\"/>\n<text fill=\"#000000\" font-family=\"Times,serif\" font-size=\"14.00\" text-anchor=\"middle\" x=\"188.5\" y=\"-8409.8\">block2_sepconv2_bn: BatchNormalization</text>\n</g>\n<!-- 140325422607048&#45;&gt;140325422700528 -->\n<g class=\"edge\" id=\"edge11\">\n<title>140325422607048-&gt;140325422700528</title>\n<path d=\"M151.6124,-8468.4551C157.3841,-8459.8564 164.4005,-8449.4034 170.7582,-8439.9316\" fill=\"none\" stroke=\"#000000\"/>\n<polygon fill=\"#000000\" points=\"173.6899,-8441.844 176.3572,-8431.5904 167.8778,-8437.9427 173.6899,-8441.844\" stroke=\"#000000\"/>\n</g>\n<!-- 140325422287560 -->\n<g class=\"node\" id=\"node14\">\n<title>140325422287560</title>\n<polygon fill=\"none\" points=\"119.5,-8322.5 119.5,-8358.5 307.5,-8358.5 307.5,-8322.5 119.5,-8322.5\" stroke=\"#000000\"/>\n<text fill=\"#000000\" font-family=\"Times,serif\" font-size=\"14.00\" text-anchor=\"middle\" x=\"213.5\" y=\"-8336.8\">block2_pool: MaxPooling2D</text>\n</g>\n<!-- 140325422700528&#45;&gt;140325422287560 -->\n<g class=\"edge\" id=\"edge13\">\n<title>140325422700528-&gt;140325422287560</title>\n<path d=\"M194.6798,-8395.4551C197.5043,-8387.2074 200.9132,-8377.2536 204.0493,-8368.0962\" fill=\"none\" stroke=\"#000000\"/>\n<polygon fill=\"#000000\" points=\"207.3759,-8369.185 207.3047,-8358.5904 200.7535,-8366.917 207.3759,-8369.185\" stroke=\"#000000\"/>\n</g>\n<!-- 140325422824080 -->\n<g class=\"node\" id=\"node15\">\n<title>140325422824080</title>\n<polygon fill=\"none\" points=\"238,-8541.5 238,-8577.5 509,-8577.5 509,-8541.5 238,-8541.5\" stroke=\"#000000\"/>\n<text fill=\"#000000\" font-family=\"Times,serif\" font-size=\"14.00\" text-anchor=\"middle\" x=\"373.5\" y=\"-8555.8\">batch_normalization_9: BatchNormalization</text>\n</g>\n<!-- 140325422753944&#45;&gt;140325422824080 -->\n<g class=\"edge\" id=\"edge14\">\n<title>140325422753944-&gt;140325422824080</title>\n<path d=\"M365.2191,-8614.4551C366.4355,-8606.3828 367.8981,-8596.6764 369.2534,-8587.6817\" fill=\"none\" stroke=\"#000000\"/>\n<polygon fill=\"#000000\" points=\"372.7449,-8588.0003 370.7741,-8577.5904 365.823,-8586.9572 372.7449,-8588.0003\" stroke=\"#000000\"/>\n</g>\n<!-- 140325422286944 -->\n<g class=\"node\" id=\"node16\">\n<title>140325422286944</title>\n<polygon fill=\"none\" points=\"228.5,-8249.5 228.5,-8285.5 320.5,-8285.5 320.5,-8249.5 228.5,-8249.5\" stroke=\"#000000\"/>\n<text fill=\"#000000\" font-family=\"Times,serif\" font-size=\"14.00\" text-anchor=\"middle\" x=\"274.5\" y=\"-8263.8\">add_25: Add</text>\n</g>\n<!-- 140325422287560&#45;&gt;140325422286944 -->\n<g class=\"edge\" id=\"edge15\">\n<title>140325422287560-&gt;140325422286944</title>\n<path d=\"M228.5787,-8322.4551C235.9105,-8313.6809 244.8557,-8302.9759 252.8968,-8293.353\" fill=\"none\" stroke=\"#000000\"/>\n<polygon fill=\"#000000\" points=\"255.6569,-8295.5082 259.3834,-8285.5904 250.2854,-8291.0197 255.6569,-8295.5082\" stroke=\"#000000\"/>\n</g>\n<!-- 140325422824080&#45;&gt;140325422286944 -->\n<g class=\"edge\" id=\"edge16\">\n<title>140325422824080-&gt;140325422286944</title>\n<path d=\"M371.7629,-8541.361C367.297,-8500.4311 353.0872,-8398.5089 316.5,-8322 311.7354,-8312.0367 304.9344,-8302.1615 298.1892,-8293.6104\" fill=\"none\" stroke=\"#000000\"/>\n<polygon fill=\"#000000\" points=\"300.8653,-8291.3542 291.8076,-8285.8579 295.4608,-8295.803 300.8653,-8291.3542\" stroke=\"#000000\"/>\n</g>\n<!-- 140325421952752 -->\n<g class=\"node\" id=\"node17\">\n<title>140325421952752</title>\n<polygon fill=\"none\" points=\"104,-8176.5 104,-8212.5 313,-8212.5 313,-8176.5 104,-8176.5\" stroke=\"#000000\"/>\n<text fill=\"#000000\" font-family=\"Times,serif\" font-size=\"14.00\" text-anchor=\"middle\" x=\"208.5\" y=\"-8190.8\">block3_sepconv1_act: Activation</text>\n</g>\n<!-- 140325422286944&#45;&gt;140325421952752 -->\n<g class=\"edge\" id=\"edge17\">\n<title>140325422286944-&gt;140325421952752</title>\n<path d=\"M258.1854,-8249.4551C250.1733,-8240.5932 240.3804,-8229.7616 231.6132,-8220.0646\" fill=\"none\" stroke=\"#000000\"/>\n<polygon fill=\"#000000\" points=\"234.1584,-8217.6609 224.8557,-8212.5904 228.9659,-8222.3554 234.1584,-8217.6609\" stroke=\"#000000\"/>\n</g>\n<!-- 140325422288680 -->\n<g class=\"node\" id=\"node23\">\n<title>140325422288680</title>\n<polygon fill=\"none\" points=\"328.5,-8103.5 328.5,-8139.5 468.5,-8139.5 468.5,-8103.5 328.5,-8103.5\" stroke=\"#000000\"/>\n<text fill=\"#000000\" font-family=\"Times,serif\" font-size=\"14.00\" text-anchor=\"middle\" x=\"398.5\" y=\"-8117.8\">conv2d_10: Conv2D</text>\n</g>\n<!-- 140325422286944&#45;&gt;140325422288680 -->\n<g class=\"edge\" id=\"edge23\">\n<title>140325422286944-&gt;140325422288680</title>\n<path d=\"M290.2217,-8249.3805C299.3789,-8238.799 311.1289,-8225.174 321.5,-8213 340.181,-8191.0715 361.2313,-8166.0345 376.5949,-8147.7002\" fill=\"none\" stroke=\"#000000\"/>\n<polygon fill=\"#000000\" points=\"379.4878,-8149.6971 383.2248,-8139.7832 374.121,-8145.2029 379.4878,-8149.6971\" stroke=\"#000000\"/>\n</g>\n<!-- 140325421975088 -->\n<g class=\"node\" id=\"node18\">\n<title>140325421975088</title>\n<polygon fill=\"none\" points=\"57.5,-8103.5 57.5,-8139.5 289.5,-8139.5 289.5,-8103.5 57.5,-8103.5\" stroke=\"#000000\"/>\n<text fill=\"#000000\" font-family=\"Times,serif\" font-size=\"14.00\" text-anchor=\"middle\" x=\"173.5\" y=\"-8117.8\">block3_sepconv1: SeparableConv2D</text>\n</g>\n<!-- 140325421952752&#45;&gt;140325421975088 -->\n<g class=\"edge\" id=\"edge18\">\n<title>140325421952752-&gt;140325421975088</title>\n<path d=\"M199.8483,-8176.4551C195.8519,-8168.1196 191.0199,-8158.0416 186.591,-8148.8042\" fill=\"none\" stroke=\"#000000\"/>\n<polygon fill=\"#000000\" points=\"189.6528,-8147.0944 182.1735,-8139.5904 183.3408,-8150.1207 189.6528,-8147.0944\" stroke=\"#000000\"/>\n</g>\n<!-- 140325422053528 -->\n<g class=\"node\" id=\"node19\">\n<title>140325422053528</title>\n<polygon fill=\"none\" points=\"0,-8030.5 0,-8066.5 263,-8066.5 263,-8030.5 0,-8030.5\" stroke=\"#000000\"/>\n<text fill=\"#000000\" font-family=\"Times,serif\" font-size=\"14.00\" text-anchor=\"middle\" x=\"131.5\" y=\"-8044.8\">block3_sepconv1_bn: BatchNormalization</text>\n</g>\n<!-- 140325421975088&#45;&gt;140325422053528 -->\n<g class=\"edge\" id=\"edge19\">\n<title>140325421975088-&gt;140325422053528</title>\n<path d=\"M163.118,-8103.4551C158.2718,-8095.0319 152.4018,-8084.8292 147.0416,-8075.5128\" fill=\"none\" stroke=\"#000000\"/>\n<polygon fill=\"#000000\" points=\"149.9289,-8073.5127 141.9082,-8066.5904 143.8614,-8077.0036 149.9289,-8073.5127\" stroke=\"#000000\"/>\n</g>\n<!-- 140325422164232 -->\n<g class=\"node\" id=\"node20\">\n<title>140325422164232</title>\n<polygon fill=\"none\" points=\"91,-7957.5 91,-7993.5 300,-7993.5 300,-7957.5 91,-7957.5\" stroke=\"#000000\"/>\n<text fill=\"#000000\" font-family=\"Times,serif\" font-size=\"14.00\" text-anchor=\"middle\" x=\"195.5\" y=\"-7971.8\">block3_sepconv2_act: Activation</text>\n</g>\n<!-- 140325422053528&#45;&gt;140325422164232 -->\n<g class=\"edge\" id=\"edge20\">\n<title>140325422053528-&gt;140325422164232</title>\n<path d=\"M147.3202,-8030.4551C155.0126,-8021.6809 164.3978,-8010.9759 172.8344,-8001.353\" fill=\"none\" stroke=\"#000000\"/>\n<polygon fill=\"#000000\" points=\"175.6794,-8003.4171 179.64,-7993.5904 170.4158,-7998.8024 175.6794,-8003.4171\" stroke=\"#000000\"/>\n</g>\n<!-- 140325422164120 -->\n<g class=\"node\" id=\"node21\">\n<title>140325422164120</title>\n<polygon fill=\"none\" points=\"111.5,-7884.5 111.5,-7920.5 343.5,-7920.5 343.5,-7884.5 111.5,-7884.5\" stroke=\"#000000\"/>\n<text fill=\"#000000\" font-family=\"Times,serif\" font-size=\"14.00\" text-anchor=\"middle\" x=\"227.5\" y=\"-7898.8\">block3_sepconv2: SeparableConv2D</text>\n</g>\n<!-- 140325422164232&#45;&gt;140325422164120 -->\n<g class=\"edge\" id=\"edge21\">\n<title>140325422164232-&gt;140325422164120</title>\n<path d=\"M203.4101,-7957.4551C207.064,-7949.1196 211.4818,-7939.0416 215.531,-7929.8042\" fill=\"none\" stroke=\"#000000\"/>\n<polygon fill=\"#000000\" points=\"218.7607,-7931.1542 219.57,-7920.5904 212.3496,-7928.3439 218.7607,-7931.1542\" stroke=\"#000000\"/>\n</g>\n<!-- 140325421660424 -->\n<g class=\"node\" id=\"node22\">\n<title>140325421660424</title>\n<polygon fill=\"none\" points=\"112,-7811.5 112,-7847.5 375,-7847.5 375,-7811.5 112,-7811.5\" stroke=\"#000000\"/>\n<text fill=\"#000000\" font-family=\"Times,serif\" font-size=\"14.00\" text-anchor=\"middle\" x=\"243.5\" y=\"-7825.8\">block3_sepconv2_bn: BatchNormalization</text>\n</g>\n<!-- 140325422164120&#45;&gt;140325421660424 -->\n<g class=\"edge\" id=\"edge22\">\n<title>140325422164120-&gt;140325421660424</title>\n<path d=\"M231.4551,-7884.4551C233.2435,-7876.2951 235.398,-7866.4652 237.3874,-7857.3887\" fill=\"none\" stroke=\"#000000\"/>\n<polygon fill=\"#000000\" points=\"240.8128,-7858.1079 239.535,-7847.5904 233.9751,-7856.6091 240.8128,-7858.1079\" stroke=\"#000000\"/>\n</g>\n<!-- 140325421842328 -->\n<g class=\"node\" id=\"node24\">\n<title>140325421842328</title>\n<polygon fill=\"none\" points=\"176.5,-7738.5 176.5,-7774.5 364.5,-7774.5 364.5,-7738.5 176.5,-7738.5\" stroke=\"#000000\"/>\n<text fill=\"#000000\" font-family=\"Times,serif\" font-size=\"14.00\" text-anchor=\"middle\" x=\"270.5\" y=\"-7752.8\">block3_pool: MaxPooling2D</text>\n</g>\n<!-- 140325421660424&#45;&gt;140325421842328 -->\n<g class=\"edge\" id=\"edge24\">\n<title>140325421660424-&gt;140325421842328</title>\n<path d=\"M250.1742,-7811.4551C253.2247,-7803.2074 256.9062,-7793.2536 260.2932,-7784.0962\" fill=\"none\" stroke=\"#000000\"/>\n<polygon fill=\"#000000\" points=\"263.6227,-7785.1836 263.809,-7774.5904 257.0574,-7782.7552 263.6227,-7785.1836\" stroke=\"#000000\"/>\n</g>\n<!-- 140325422390800 -->\n<g class=\"node\" id=\"node25\">\n<title>140325422390800</title>\n<polygon fill=\"none\" points=\"281.5,-8030.5 281.5,-8066.5 559.5,-8066.5 559.5,-8030.5 281.5,-8030.5\" stroke=\"#000000\"/>\n<text fill=\"#000000\" font-family=\"Times,serif\" font-size=\"14.00\" text-anchor=\"middle\" x=\"420.5\" y=\"-8044.8\">batch_normalization_10: BatchNormalization</text>\n</g>\n<!-- 140325422288680&#45;&gt;140325422390800 -->\n<g class=\"edge\" id=\"edge25\">\n<title>140325422288680-&gt;140325422390800</title>\n<path d=\"M403.9382,-8103.4551C406.3974,-8095.2951 409.3598,-8085.4652 412.0952,-8076.3887\" fill=\"none\" stroke=\"#000000\"/>\n<polygon fill=\"#000000\" points=\"415.5137,-8077.175 415.0481,-8066.5904 408.8114,-8075.1551 415.5137,-8077.175\" stroke=\"#000000\"/>\n</g>\n<!-- 140325421868032 -->\n<g class=\"node\" id=\"node26\">\n<title>140325421868032</title>\n<polygon fill=\"none\" points=\"285.5,-7665.5 285.5,-7701.5 377.5,-7701.5 377.5,-7665.5 285.5,-7665.5\" stroke=\"#000000\"/>\n<text fill=\"#000000\" font-family=\"Times,serif\" font-size=\"14.00\" text-anchor=\"middle\" x=\"331.5\" y=\"-7679.8\">add_26: Add</text>\n</g>\n<!-- 140325421842328&#45;&gt;140325421868032 -->\n<g class=\"edge\" id=\"edge26\">\n<title>140325421842328-&gt;140325421868032</title>\n<path d=\"M285.5787,-7738.4551C292.9105,-7729.6809 301.8557,-7718.9759 309.8968,-7709.353\" fill=\"none\" stroke=\"#000000\"/>\n<polygon fill=\"#000000\" points=\"312.6569,-7711.5082 316.3834,-7701.5904 307.2854,-7707.0197 312.6569,-7711.5082\" stroke=\"#000000\"/>\n</g>\n<!-- 140325422390800&#45;&gt;140325421868032 -->\n<g class=\"edge\" id=\"edge27\">\n<title>140325422390800-&gt;140325421868032</title>\n<path d=\"M418.6352,-8030.0845C415.999,-8002.4173 411.5,-7948.4656 411.5,-7902.5 411.5,-7902.5 411.5,-7902.5 411.5,-7829.5 411.5,-7782.6749 379.4608,-7736.6441 355.9339,-7709.1553\" fill=\"none\" stroke=\"#000000\"/>\n<polygon fill=\"#000000\" points=\"358.4914,-7706.7635 349.2546,-7701.5739 353.239,-7711.391 358.4914,-7706.7635\" stroke=\"#000000\"/>\n</g>\n<!-- 140325421465160 -->\n<g class=\"node\" id=\"node27\">\n<title>140325421465160</title>\n<polygon fill=\"none\" points=\"161,-7592.5 161,-7628.5 370,-7628.5 370,-7592.5 161,-7592.5\" stroke=\"#000000\"/>\n<text fill=\"#000000\" font-family=\"Times,serif\" font-size=\"14.00\" text-anchor=\"middle\" x=\"265.5\" y=\"-7606.8\">block4_sepconv1_act: Activation</text>\n</g>\n<!-- 140325421868032&#45;&gt;140325421465160 -->\n<g class=\"edge\" id=\"edge28\">\n<title>140325421868032-&gt;140325421465160</title>\n<path d=\"M315.1854,-7665.4551C307.1733,-7656.5932 297.3804,-7645.7616 288.6132,-7636.0646\" fill=\"none\" stroke=\"#000000\"/>\n<polygon fill=\"#000000\" points=\"291.1584,-7633.6609 281.8557,-7628.5904 285.9659,-7638.3554 291.1584,-7633.6609\" stroke=\"#000000\"/>\n</g>\n<!-- 140325421870048 -->\n<g class=\"node\" id=\"node33\">\n<title>140325421870048</title>\n<polygon fill=\"none\" points=\"385.5,-7519.5 385.5,-7555.5 525.5,-7555.5 525.5,-7519.5 385.5,-7519.5\" stroke=\"#000000\"/>\n<text fill=\"#000000\" font-family=\"Times,serif\" font-size=\"14.00\" text-anchor=\"middle\" x=\"455.5\" y=\"-7533.8\">conv2d_11: Conv2D</text>\n</g>\n<!-- 140325421868032&#45;&gt;140325421870048 -->\n<g class=\"edge\" id=\"edge34\">\n<title>140325421868032-&gt;140325421870048</title>\n<path d=\"M347.2217,-7665.3805C356.3789,-7654.799 368.1289,-7641.174 378.5,-7629 397.181,-7607.0715 418.2313,-7582.0345 433.5949,-7563.7002\" fill=\"none\" stroke=\"#000000\"/>\n<polygon fill=\"#000000\" points=\"436.4878,-7565.6971 440.2248,-7555.7832 431.121,-7561.2029 436.4878,-7565.6971\" stroke=\"#000000\"/>\n</g>\n<!-- 140325421526768 -->\n<g class=\"node\" id=\"node28\">\n<title>140325421526768</title>\n<polygon fill=\"none\" points=\"114.5,-7519.5 114.5,-7555.5 346.5,-7555.5 346.5,-7519.5 114.5,-7519.5\" stroke=\"#000000\"/>\n<text fill=\"#000000\" font-family=\"Times,serif\" font-size=\"14.00\" text-anchor=\"middle\" x=\"230.5\" y=\"-7533.8\">block4_sepconv1: SeparableConv2D</text>\n</g>\n<!-- 140325421465160&#45;&gt;140325421526768 -->\n<g class=\"edge\" id=\"edge29\">\n<title>140325421465160-&gt;140325421526768</title>\n<path d=\"M256.8483,-7592.4551C252.8519,-7584.1196 248.0199,-7574.0416 243.591,-7564.8042\" fill=\"none\" stroke=\"#000000\"/>\n<polygon fill=\"#000000\" points=\"246.6528,-7563.0944 239.1735,-7555.5904 240.3408,-7566.1207 246.6528,-7563.0944\" stroke=\"#000000\"/>\n</g>\n<!-- 140325421556120 -->\n<g class=\"node\" id=\"node29\">\n<title>140325421556120</title>\n<polygon fill=\"none\" points=\"57,-7446.5 57,-7482.5 320,-7482.5 320,-7446.5 57,-7446.5\" stroke=\"#000000\"/>\n<text fill=\"#000000\" font-family=\"Times,serif\" font-size=\"14.00\" text-anchor=\"middle\" x=\"188.5\" y=\"-7460.8\">block4_sepconv1_bn: BatchNormalization</text>\n</g>\n<!-- 140325421526768&#45;&gt;140325421556120 -->\n<g class=\"edge\" id=\"edge30\">\n<title>140325421526768-&gt;140325421556120</title>\n<path d=\"M220.118,-7519.4551C215.2718,-7511.0319 209.4018,-7500.8292 204.0416,-7491.5128\" fill=\"none\" stroke=\"#000000\"/>\n<polygon fill=\"#000000\" points=\"206.9289,-7489.5127 198.9082,-7482.5904 200.8614,-7493.0036 206.9289,-7489.5127\" stroke=\"#000000\"/>\n</g>\n<!-- 140325421159368 -->\n<g class=\"node\" id=\"node30\">\n<title>140325421159368</title>\n<polygon fill=\"none\" points=\"148,-7373.5 148,-7409.5 357,-7409.5 357,-7373.5 148,-7373.5\" stroke=\"#000000\"/>\n<text fill=\"#000000\" font-family=\"Times,serif\" font-size=\"14.00\" text-anchor=\"middle\" x=\"252.5\" y=\"-7387.8\">block4_sepconv2_act: Activation</text>\n</g>\n<!-- 140325421556120&#45;&gt;140325421159368 -->\n<g class=\"edge\" id=\"edge31\">\n<title>140325421556120-&gt;140325421159368</title>\n<path d=\"M204.3202,-7446.4551C212.0126,-7437.6809 221.3978,-7426.9759 229.8344,-7417.353\" fill=\"none\" stroke=\"#000000\"/>\n<polygon fill=\"#000000\" points=\"232.6794,-7419.4171 236.64,-7409.5904 227.4158,-7414.8024 232.6794,-7419.4171\" stroke=\"#000000\"/>\n</g>\n<!-- 140325421227480 -->\n<g class=\"node\" id=\"node31\">\n<title>140325421227480</title>\n<polygon fill=\"none\" points=\"168.5,-7300.5 168.5,-7336.5 400.5,-7336.5 400.5,-7300.5 168.5,-7300.5\" stroke=\"#000000\"/>\n<text fill=\"#000000\" font-family=\"Times,serif\" font-size=\"14.00\" text-anchor=\"middle\" x=\"284.5\" y=\"-7314.8\">block4_sepconv2: SeparableConv2D</text>\n</g>\n<!-- 140325421159368&#45;&gt;140325421227480 -->\n<g class=\"edge\" id=\"edge32\">\n<title>140325421159368-&gt;140325421227480</title>\n<path d=\"M260.4101,-7373.4551C264.064,-7365.1196 268.4818,-7355.0416 272.531,-7345.8042\" fill=\"none\" stroke=\"#000000\"/>\n<polygon fill=\"#000000\" points=\"275.7607,-7347.1542 276.57,-7336.5904 269.3496,-7344.3439 275.7607,-7347.1542\" stroke=\"#000000\"/>\n</g>\n<!-- 140325421300816 -->\n<g class=\"node\" id=\"node32\">\n<title>140325421300816</title>\n<polygon fill=\"none\" points=\"169,-7227.5 169,-7263.5 432,-7263.5 432,-7227.5 169,-7227.5\" stroke=\"#000000\"/>\n<text fill=\"#000000\" font-family=\"Times,serif\" font-size=\"14.00\" text-anchor=\"middle\" x=\"300.5\" y=\"-7241.8\">block4_sepconv2_bn: BatchNormalization</text>\n</g>\n<!-- 140325421227480&#45;&gt;140325421300816 -->\n<g class=\"edge\" id=\"edge33\">\n<title>140325421227480-&gt;140325421300816</title>\n<path d=\"M288.4551,-7300.4551C290.2435,-7292.2951 292.398,-7282.4652 294.3874,-7273.3887\" fill=\"none\" stroke=\"#000000\"/>\n<polygon fill=\"#000000\" points=\"297.8128,-7274.1079 296.535,-7263.5904 290.9751,-7272.6091 297.8128,-7274.1079\" stroke=\"#000000\"/>\n</g>\n<!-- 140325420883584 -->\n<g class=\"node\" id=\"node34\">\n<title>140325420883584</title>\n<polygon fill=\"none\" points=\"233.5,-7154.5 233.5,-7190.5 421.5,-7190.5 421.5,-7154.5 233.5,-7154.5\" stroke=\"#000000\"/>\n<text fill=\"#000000\" font-family=\"Times,serif\" font-size=\"14.00\" text-anchor=\"middle\" x=\"327.5\" y=\"-7168.8\">block4_pool: MaxPooling2D</text>\n</g>\n<!-- 140325421300816&#45;&gt;140325420883584 -->\n<g class=\"edge\" id=\"edge35\">\n<title>140325421300816-&gt;140325420883584</title>\n<path d=\"M307.1742,-7227.4551C310.2247,-7219.2074 313.9062,-7209.2536 317.2932,-7200.0962\" fill=\"none\" stroke=\"#000000\"/>\n<polygon fill=\"#000000\" points=\"320.6227,-7201.1836 320.809,-7190.5904 314.0574,-7198.7552 320.6227,-7201.1836\" stroke=\"#000000\"/>\n</g>\n<!-- 140325421428920 -->\n<g class=\"node\" id=\"node35\">\n<title>140325421428920</title>\n<polygon fill=\"none\" points=\"338.5,-7446.5 338.5,-7482.5 616.5,-7482.5 616.5,-7446.5 338.5,-7446.5\" stroke=\"#000000\"/>\n<text fill=\"#000000\" font-family=\"Times,serif\" font-size=\"14.00\" text-anchor=\"middle\" x=\"477.5\" y=\"-7460.8\">batch_normalization_11: BatchNormalization</text>\n</g>\n<!-- 140325421870048&#45;&gt;140325421428920 -->\n<g class=\"edge\" id=\"edge36\">\n<title>140325421870048-&gt;140325421428920</title>\n<path d=\"M460.9382,-7519.4551C463.3974,-7511.2951 466.3598,-7501.4652 469.0952,-7492.3887\" fill=\"none\" stroke=\"#000000\"/>\n<polygon fill=\"#000000\" points=\"472.5137,-7493.175 472.0481,-7482.5904 465.8114,-7491.1551 472.5137,-7493.175\" stroke=\"#000000\"/>\n</g>\n<!-- 140325420883696 -->\n<g class=\"node\" id=\"node36\">\n<title>140325420883696</title>\n<polygon fill=\"none\" points=\"342.5,-7081.5 342.5,-7117.5 434.5,-7117.5 434.5,-7081.5 342.5,-7081.5\" stroke=\"#000000\"/>\n<text fill=\"#000000\" font-family=\"Times,serif\" font-size=\"14.00\" text-anchor=\"middle\" x=\"388.5\" y=\"-7095.8\">add_27: Add</text>\n</g>\n<!-- 140325420883584&#45;&gt;140325420883696 -->\n<g class=\"edge\" id=\"edge37\">\n<title>140325420883584-&gt;140325420883696</title>\n<path d=\"M342.5787,-7154.4551C349.9105,-7145.6809 358.8557,-7134.9759 366.8968,-7125.353\" fill=\"none\" stroke=\"#000000\"/>\n<polygon fill=\"#000000\" points=\"369.6569,-7127.5082 373.3834,-7117.5904 364.2854,-7123.0197 369.6569,-7127.5082\" stroke=\"#000000\"/>\n</g>\n<!-- 140325421428920&#45;&gt;140325420883696 -->\n<g class=\"edge\" id=\"edge38\">\n<title>140325421428920-&gt;140325420883696</title>\n<path d=\"M475.6352,-7446.0845C472.999,-7418.4173 468.5,-7364.4656 468.5,-7318.5 468.5,-7318.5 468.5,-7318.5 468.5,-7245.5 468.5,-7198.6749 436.4608,-7152.6441 412.9339,-7125.1553\" fill=\"none\" stroke=\"#000000\"/>\n<polygon fill=\"#000000\" points=\"415.4914,-7122.7635 406.2546,-7117.5739 410.239,-7127.391 415.4914,-7122.7635\" stroke=\"#000000\"/>\n</g>\n<!-- 140325420912256 -->\n<g class=\"node\" id=\"node37\">\n<title>140325420912256</title>\n<polygon fill=\"none\" points=\"218,-7008.5 218,-7044.5 427,-7044.5 427,-7008.5 218,-7008.5\" stroke=\"#000000\"/>\n<text fill=\"#000000\" font-family=\"Times,serif\" font-size=\"14.00\" text-anchor=\"middle\" x=\"322.5\" y=\"-7022.8\">block5_sepconv1_act: Activation</text>\n</g>\n<!-- 140325420883696&#45;&gt;140325420912256 -->\n<g class=\"edge\" id=\"edge39\">\n<title>140325420883696-&gt;140325420912256</title>\n<path d=\"M372.1854,-7081.4551C364.1733,-7072.5932 354.3804,-7061.7616 345.6132,-7052.0646\" fill=\"none\" stroke=\"#000000\"/>\n<polygon fill=\"#000000\" points=\"348.1584,-7049.6609 338.8557,-7044.5904 342.9659,-7054.3554 348.1584,-7049.6609\" stroke=\"#000000\"/>\n</g>\n<!-- 140325420469776 -->\n<g class=\"node\" id=\"node46\">\n<title>140325420469776</title>\n<polygon fill=\"none\" points=\"338.5,-6351.5 338.5,-6387.5 430.5,-6387.5 430.5,-6351.5 338.5,-6351.5\" stroke=\"#000000\"/>\n<text fill=\"#000000\" font-family=\"Times,serif\" font-size=\"14.00\" text-anchor=\"middle\" x=\"384.5\" y=\"-6365.8\">add_28: Add</text>\n</g>\n<!-- 140325420883696&#45;&gt;140325420469776 -->\n<g class=\"edge\" id=\"edge49\">\n<title>140325420883696-&gt;140325420469776</title>\n<path d=\"M408.0193,-7081.373C417.7442,-7071.4354 428.9973,-7058.4283 436.5,-7045 457.2433,-7007.8737 464.5,-6996.0281 464.5,-6953.5 464.5,-6953.5 464.5,-6953.5 464.5,-6515.5 464.5,-6473.9658 466.252,-6459.9784 445.5,-6424 438.9494,-6412.643 429.1903,-6402.3894 419.3888,-6393.9205\" fill=\"none\" stroke=\"#000000\"/>\n<polygon fill=\"#000000\" points=\"421.5335,-6391.153 411.5795,-6387.5242 417.098,-6396.5684 421.5335,-6391.153\" stroke=\"#000000\"/>\n</g>\n<!-- 140325420908952 -->\n<g class=\"node\" id=\"node38\">\n<title>140325420908952</title>\n<polygon fill=\"none\" points=\"196.5,-6935.5 196.5,-6971.5 428.5,-6971.5 428.5,-6935.5 196.5,-6935.5\" stroke=\"#000000\"/>\n<text fill=\"#000000\" font-family=\"Times,serif\" font-size=\"14.00\" text-anchor=\"middle\" x=\"312.5\" y=\"-6949.8\">block5_sepconv1: SeparableConv2D</text>\n</g>\n<!-- 140325420912256&#45;&gt;140325420908952 -->\n<g class=\"edge\" id=\"edge40\">\n<title>140325420912256-&gt;140325420908952</title>\n<path d=\"M320.0281,-7008.4551C318.9223,-7000.3828 317.5927,-6990.6764 316.3605,-6981.6817\" fill=\"none\" stroke=\"#000000\"/>\n<polygon fill=\"#000000\" points=\"319.803,-6981.0228 314.9781,-6971.5904 312.8678,-6981.9729 319.803,-6981.0228\" stroke=\"#000000\"/>\n</g>\n<!-- 140325421037888 -->\n<g class=\"node\" id=\"node39\">\n<title>140325421037888</title>\n<polygon fill=\"none\" points=\"173,-6862.5 173,-6898.5 436,-6898.5 436,-6862.5 173,-6862.5\" stroke=\"#000000\"/>\n<text fill=\"#000000\" font-family=\"Times,serif\" font-size=\"14.00\" text-anchor=\"middle\" x=\"304.5\" y=\"-6876.8\">block5_sepconv1_bn: BatchNormalization</text>\n</g>\n<!-- 140325420908952&#45;&gt;140325421037888 -->\n<g class=\"edge\" id=\"edge41\">\n<title>140325420908952-&gt;140325421037888</title>\n<path d=\"M310.5225,-6935.4551C309.6378,-6927.3828 308.5741,-6917.6764 307.5884,-6908.6817\" fill=\"none\" stroke=\"#000000\"/>\n<polygon fill=\"#000000\" points=\"311.0511,-6908.1495 306.4825,-6898.5904 304.0928,-6908.9122 311.0511,-6908.1495\" stroke=\"#000000\"/>\n</g>\n<!-- 140325421104376 -->\n<g class=\"node\" id=\"node40\">\n<title>140325421104376</title>\n<polygon fill=\"none\" points=\"200,-6789.5 200,-6825.5 409,-6825.5 409,-6789.5 200,-6789.5\" stroke=\"#000000\"/>\n<text fill=\"#000000\" font-family=\"Times,serif\" font-size=\"14.00\" text-anchor=\"middle\" x=\"304.5\" y=\"-6803.8\">block5_sepconv2_act: Activation</text>\n</g>\n<!-- 140325421037888&#45;&gt;140325421104376 -->\n<g class=\"edge\" id=\"edge42\">\n<title>140325421037888-&gt;140325421104376</title>\n<path d=\"M304.5,-6862.4551C304.5,-6854.3828 304.5,-6844.6764 304.5,-6835.6817\" fill=\"none\" stroke=\"#000000\"/>\n<polygon fill=\"#000000\" points=\"308.0001,-6835.5903 304.5,-6825.5904 301.0001,-6835.5904 308.0001,-6835.5903\" stroke=\"#000000\"/>\n</g>\n<!-- 140325421104488 -->\n<g class=\"node\" id=\"node41\">\n<title>140325421104488</title>\n<polygon fill=\"none\" points=\"188.5,-6716.5 188.5,-6752.5 420.5,-6752.5 420.5,-6716.5 188.5,-6716.5\" stroke=\"#000000\"/>\n<text fill=\"#000000\" font-family=\"Times,serif\" font-size=\"14.00\" text-anchor=\"middle\" x=\"304.5\" y=\"-6730.8\">block5_sepconv2: SeparableConv2D</text>\n</g>\n<!-- 140325421104376&#45;&gt;140325421104488 -->\n<g class=\"edge\" id=\"edge43\">\n<title>140325421104376-&gt;140325421104488</title>\n<path d=\"M304.5,-6789.4551C304.5,-6781.3828 304.5,-6771.6764 304.5,-6762.6817\" fill=\"none\" stroke=\"#000000\"/>\n<polygon fill=\"#000000\" points=\"308.0001,-6762.5903 304.5,-6752.5904 301.0001,-6762.5904 308.0001,-6762.5903\" stroke=\"#000000\"/>\n</g>\n<!-- 140325420681088 -->\n<g class=\"node\" id=\"node42\">\n<title>140325420681088</title>\n<polygon fill=\"none\" points=\"173,-6643.5 173,-6679.5 436,-6679.5 436,-6643.5 173,-6643.5\" stroke=\"#000000\"/>\n<text fill=\"#000000\" font-family=\"Times,serif\" font-size=\"14.00\" text-anchor=\"middle\" x=\"304.5\" y=\"-6657.8\">block5_sepconv2_bn: BatchNormalization</text>\n</g>\n<!-- 140325421104488&#45;&gt;140325420681088 -->\n<g class=\"edge\" id=\"edge44\">\n<title>140325421104488-&gt;140325420681088</title>\n<path d=\"M304.5,-6716.4551C304.5,-6708.3828 304.5,-6698.6764 304.5,-6689.6817\" fill=\"none\" stroke=\"#000000\"/>\n<polygon fill=\"#000000\" points=\"308.0001,-6689.5903 304.5,-6679.5904 301.0001,-6689.5904 308.0001,-6689.5903\" stroke=\"#000000\"/>\n</g>\n<!-- 140325420804696 -->\n<g class=\"node\" id=\"node43\">\n<title>140325420804696</title>\n<polygon fill=\"none\" points=\"200,-6570.5 200,-6606.5 409,-6606.5 409,-6570.5 200,-6570.5\" stroke=\"#000000\"/>\n<text fill=\"#000000\" font-family=\"Times,serif\" font-size=\"14.00\" text-anchor=\"middle\" x=\"304.5\" y=\"-6584.8\">block5_sepconv3_act: Activation</text>\n</g>\n<!-- 140325420681088&#45;&gt;140325420804696 -->\n<g class=\"edge\" id=\"edge45\">\n<title>140325420681088-&gt;140325420804696</title>\n<path d=\"M304.5,-6643.4551C304.5,-6635.3828 304.5,-6625.6764 304.5,-6616.6817\" fill=\"none\" stroke=\"#000000\"/>\n<polygon fill=\"#000000\" points=\"308.0001,-6616.5903 304.5,-6606.5904 301.0001,-6616.5904 308.0001,-6616.5903\" stroke=\"#000000\"/>\n</g>\n<!-- 140325420803968 -->\n<g class=\"node\" id=\"node44\">\n<title>140325420803968</title>\n<polygon fill=\"none\" points=\"188.5,-6497.5 188.5,-6533.5 420.5,-6533.5 420.5,-6497.5 188.5,-6497.5\" stroke=\"#000000\"/>\n<text fill=\"#000000\" font-family=\"Times,serif\" font-size=\"14.00\" text-anchor=\"middle\" x=\"304.5\" y=\"-6511.8\">block5_sepconv3: SeparableConv2D</text>\n</g>\n<!-- 140325420804696&#45;&gt;140325420803968 -->\n<g class=\"edge\" id=\"edge46\">\n<title>140325420804696-&gt;140325420803968</title>\n<path d=\"M304.5,-6570.4551C304.5,-6562.3828 304.5,-6552.6764 304.5,-6543.6817\" fill=\"none\" stroke=\"#000000\"/>\n<polygon fill=\"#000000\" points=\"308.0001,-6543.5903 304.5,-6533.5904 301.0001,-6543.5904 308.0001,-6543.5903\" stroke=\"#000000\"/>\n</g>\n<!-- 140325420814408 -->\n<g class=\"node\" id=\"node45\">\n<title>140325420814408</title>\n<polygon fill=\"none\" points=\"173,-6424.5 173,-6460.5 436,-6460.5 436,-6424.5 173,-6424.5\" stroke=\"#000000\"/>\n<text fill=\"#000000\" font-family=\"Times,serif\" font-size=\"14.00\" text-anchor=\"middle\" x=\"304.5\" y=\"-6438.8\">block5_sepconv3_bn: BatchNormalization</text>\n</g>\n<!-- 140325420803968&#45;&gt;140325420814408 -->\n<g class=\"edge\" id=\"edge47\">\n<title>140325420803968-&gt;140325420814408</title>\n<path d=\"M304.5,-6497.4551C304.5,-6489.3828 304.5,-6479.6764 304.5,-6470.6817\" fill=\"none\" stroke=\"#000000\"/>\n<polygon fill=\"#000000\" points=\"308.0001,-6470.5903 304.5,-6460.5904 301.0001,-6470.5904 308.0001,-6470.5903\" stroke=\"#000000\"/>\n</g>\n<!-- 140325420814408&#45;&gt;140325420469776 -->\n<g class=\"edge\" id=\"edge48\">\n<title>140325420814408-&gt;140325420469776</title>\n<path d=\"M324.2753,-6424.4551C334.1793,-6415.4177 346.3281,-6404.3319 357.1138,-6394.4899\" fill=\"none\" stroke=\"#000000\"/>\n<polygon fill=\"#000000\" points=\"359.6473,-6396.9163 364.6749,-6387.5904 354.9289,-6391.7455 359.6473,-6396.9163\" stroke=\"#000000\"/>\n</g>\n<!-- 140325420910632 -->\n<g class=\"node\" id=\"node47\">\n<title>140325420910632</title>\n<polygon fill=\"none\" points=\"208,-6278.5 208,-6314.5 417,-6314.5 417,-6278.5 208,-6278.5\" stroke=\"#000000\"/>\n<text fill=\"#000000\" font-family=\"Times,serif\" font-size=\"14.00\" text-anchor=\"middle\" x=\"312.5\" y=\"-6292.8\">block6_sepconv1_act: Activation</text>\n</g>\n<!-- 140325420469776&#45;&gt;140325420910632 -->\n<g class=\"edge\" id=\"edge50\">\n<title>140325420469776-&gt;140325420910632</title>\n<path d=\"M366.7022,-6351.4551C357.8752,-6342.5054 347.0669,-6331.547 337.4307,-6321.7769\" fill=\"none\" stroke=\"#000000\"/>\n<polygon fill=\"#000000\" points=\"339.8566,-6319.2523 330.3425,-6314.5904 334.8728,-6324.1678 339.8566,-6319.2523\" stroke=\"#000000\"/>\n</g>\n<!-- 140325420048112 -->\n<g class=\"node\" id=\"node56\">\n<title>140325420048112</title>\n<polygon fill=\"none\" points=\"333.5,-5621.5 333.5,-5657.5 425.5,-5657.5 425.5,-5621.5 333.5,-5621.5\" stroke=\"#000000\"/>\n<text fill=\"#000000\" font-family=\"Times,serif\" font-size=\"14.00\" text-anchor=\"middle\" x=\"379.5\" y=\"-5635.8\">add_29: Add</text>\n</g>\n<!-- 140325420469776&#45;&gt;140325420048112 -->\n<g class=\"edge\" id=\"edge60\">\n<title>140325420469776-&gt;140325420048112</title>\n<path d=\"M401.1449,-6351.2244C423.2405,-6324.9944 459.5,-6274.2229 459.5,-6223.5 459.5,-6223.5 459.5,-6223.5 459.5,-5785.5 459.5,-5743.9658 461.252,-5729.9784 440.5,-5694 433.9494,-5682.643 424.1903,-5672.3894 414.3888,-5663.9205\" fill=\"none\" stroke=\"#000000\"/>\n<polygon fill=\"#000000\" points=\"416.5335,-5661.153 406.5795,-5657.5242 412.098,-5666.5684 416.5335,-5661.153\" stroke=\"#000000\"/>\n</g>\n<!-- 140325420495480 -->\n<g class=\"node\" id=\"node48\">\n<title>140325420495480</title>\n<polygon fill=\"none\" points=\"191.5,-6205.5 191.5,-6241.5 423.5,-6241.5 423.5,-6205.5 191.5,-6205.5\" stroke=\"#000000\"/>\n<text fill=\"#000000\" font-family=\"Times,serif\" font-size=\"14.00\" text-anchor=\"middle\" x=\"307.5\" y=\"-6219.8\">block6_sepconv1: SeparableConv2D</text>\n</g>\n<!-- 140325420910632&#45;&gt;140325420495480 -->\n<g class=\"edge\" id=\"edge51\">\n<title>140325420910632-&gt;140325420495480</title>\n<path d=\"M311.264,-6278.4551C310.7112,-6270.3828 310.0463,-6260.6764 309.4303,-6251.6817\" fill=\"none\" stroke=\"#000000\"/>\n<polygon fill=\"#000000\" points=\"312.9143,-6251.3278 308.7391,-6241.5904 305.9307,-6251.8062 312.9143,-6251.3278\" stroke=\"#000000\"/>\n</g>\n<!-- 140325420571336 -->\n<g class=\"node\" id=\"node49\">\n<title>140325420571336</title>\n<polygon fill=\"none\" points=\"168,-6132.5 168,-6168.5 431,-6168.5 431,-6132.5 168,-6132.5\" stroke=\"#000000\"/>\n<text fill=\"#000000\" font-family=\"Times,serif\" font-size=\"14.00\" text-anchor=\"middle\" x=\"299.5\" y=\"-6146.8\">block6_sepconv1_bn: BatchNormalization</text>\n</g>\n<!-- 140325420495480&#45;&gt;140325420571336 -->\n<g class=\"edge\" id=\"edge52\">\n<title>140325420495480-&gt;140325420571336</title>\n<path d=\"M305.5225,-6205.4551C304.6378,-6197.3828 303.5741,-6187.6764 302.5884,-6178.6817\" fill=\"none\" stroke=\"#000000\"/>\n<polygon fill=\"#000000\" points=\"306.0511,-6178.1495 301.4825,-6168.5904 299.0928,-6178.9122 306.0511,-6178.1495\" stroke=\"#000000\"/>\n</g>\n<!-- 140325420158480 -->\n<g class=\"node\" id=\"node50\">\n<title>140325420158480</title>\n<polygon fill=\"none\" points=\"195,-6059.5 195,-6095.5 404,-6095.5 404,-6059.5 195,-6059.5\" stroke=\"#000000\"/>\n<text fill=\"#000000\" font-family=\"Times,serif\" font-size=\"14.00\" text-anchor=\"middle\" x=\"299.5\" y=\"-6073.8\">block6_sepconv2_act: Activation</text>\n</g>\n<!-- 140325420571336&#45;&gt;140325420158480 -->\n<g class=\"edge\" id=\"edge53\">\n<title>140325420571336-&gt;140325420158480</title>\n<path d=\"M299.5,-6132.4551C299.5,-6124.3828 299.5,-6114.6764 299.5,-6105.6817\" fill=\"none\" stroke=\"#000000\"/>\n<polygon fill=\"#000000\" points=\"303.0001,-6105.5903 299.5,-6095.5904 296.0001,-6105.5904 303.0001,-6105.5903\" stroke=\"#000000\"/>\n</g>\n<!-- 140325420158592 -->\n<g class=\"node\" id=\"node51\">\n<title>140325420158592</title>\n<polygon fill=\"none\" points=\"183.5,-5986.5 183.5,-6022.5 415.5,-6022.5 415.5,-5986.5 183.5,-5986.5\" stroke=\"#000000\"/>\n<text fill=\"#000000\" font-family=\"Times,serif\" font-size=\"14.00\" text-anchor=\"middle\" x=\"299.5\" y=\"-6000.8\">block6_sepconv2: SeparableConv2D</text>\n</g>\n<!-- 140325420158480&#45;&gt;140325420158592 -->\n<g class=\"edge\" id=\"edge54\">\n<title>140325420158480-&gt;140325420158592</title>\n<path d=\"M299.5,-6059.4551C299.5,-6051.3828 299.5,-6041.6764 299.5,-6032.6817\" fill=\"none\" stroke=\"#000000\"/>\n<polygon fill=\"#000000\" points=\"303.0001,-6032.5903 299.5,-6022.5904 296.0001,-6032.5904 303.0001,-6032.5903\" stroke=\"#000000\"/>\n</g>\n<!-- 140325420255384 -->\n<g class=\"node\" id=\"node52\">\n<title>140325420255384</title>\n<polygon fill=\"none\" points=\"168,-5913.5 168,-5949.5 431,-5949.5 431,-5913.5 168,-5913.5\" stroke=\"#000000\"/>\n<text fill=\"#000000\" font-family=\"Times,serif\" font-size=\"14.00\" text-anchor=\"middle\" x=\"299.5\" y=\"-5927.8\">block6_sepconv2_bn: BatchNormalization</text>\n</g>\n<!-- 140325420158592&#45;&gt;140325420255384 -->\n<g class=\"edge\" id=\"edge55\">\n<title>140325420158592-&gt;140325420255384</title>\n<path d=\"M299.5,-5986.4551C299.5,-5978.3828 299.5,-5968.6764 299.5,-5959.6817\" fill=\"none\" stroke=\"#000000\"/>\n<polygon fill=\"#000000\" points=\"303.0001,-5959.5903 299.5,-5949.5904 296.0001,-5959.5904 303.0001,-5959.5903\" stroke=\"#000000\"/>\n</g>\n<!-- 140325419849992 -->\n<g class=\"node\" id=\"node53\">\n<title>140325419849992</title>\n<polygon fill=\"none\" points=\"195,-5840.5 195,-5876.5 404,-5876.5 404,-5840.5 195,-5840.5\" stroke=\"#000000\"/>\n<text fill=\"#000000\" font-family=\"Times,serif\" font-size=\"14.00\" text-anchor=\"middle\" x=\"299.5\" y=\"-5854.8\">block6_sepconv3_act: Activation</text>\n</g>\n<!-- 140325420255384&#45;&gt;140325419849992 -->\n<g class=\"edge\" id=\"edge56\">\n<title>140325420255384-&gt;140325419849992</title>\n<path d=\"M299.5,-5913.4551C299.5,-5905.3828 299.5,-5895.6764 299.5,-5886.6817\" fill=\"none\" stroke=\"#000000\"/>\n<polygon fill=\"#000000\" points=\"303.0001,-5886.5903 299.5,-5876.5904 296.0001,-5886.5904 303.0001,-5886.5903\" stroke=\"#000000\"/>\n</g>\n<!-- 140325419849880 -->\n<g class=\"node\" id=\"node54\">\n<title>140325419849880</title>\n<polygon fill=\"none\" points=\"183.5,-5767.5 183.5,-5803.5 415.5,-5803.5 415.5,-5767.5 183.5,-5767.5\" stroke=\"#000000\"/>\n<text fill=\"#000000\" font-family=\"Times,serif\" font-size=\"14.00\" text-anchor=\"middle\" x=\"299.5\" y=\"-5781.8\">block6_sepconv3: SeparableConv2D</text>\n</g>\n<!-- 140325419849992&#45;&gt;140325419849880 -->\n<g class=\"edge\" id=\"edge57\">\n<title>140325419849992-&gt;140325419849880</title>\n<path d=\"M299.5,-5840.4551C299.5,-5832.3828 299.5,-5822.6764 299.5,-5813.6817\" fill=\"none\" stroke=\"#000000\"/>\n<polygon fill=\"#000000\" points=\"303.0001,-5813.5903 299.5,-5803.5904 296.0001,-5813.5904 303.0001,-5813.5903\" stroke=\"#000000\"/>\n</g>\n<!-- 140325419878552 -->\n<g class=\"node\" id=\"node55\">\n<title>140325419878552</title>\n<polygon fill=\"none\" points=\"168,-5694.5 168,-5730.5 431,-5730.5 431,-5694.5 168,-5694.5\" stroke=\"#000000\"/>\n<text fill=\"#000000\" font-family=\"Times,serif\" font-size=\"14.00\" text-anchor=\"middle\" x=\"299.5\" y=\"-5708.8\">block6_sepconv3_bn: BatchNormalization</text>\n</g>\n<!-- 140325419849880&#45;&gt;140325419878552 -->\n<g class=\"edge\" id=\"edge58\">\n<title>140325419849880-&gt;140325419878552</title>\n<path d=\"M299.5,-5767.4551C299.5,-5759.3828 299.5,-5749.6764 299.5,-5740.6817\" fill=\"none\" stroke=\"#000000\"/>\n<polygon fill=\"#000000\" points=\"303.0001,-5740.5903 299.5,-5730.5904 296.0001,-5740.5904 303.0001,-5740.5903\" stroke=\"#000000\"/>\n</g>\n<!-- 140325419878552&#45;&gt;140325420048112 -->\n<g class=\"edge\" id=\"edge59\">\n<title>140325419878552-&gt;140325420048112</title>\n<path d=\"M319.2753,-5694.4551C329.1793,-5685.4177 341.3281,-5674.3319 352.1138,-5664.4899\" fill=\"none\" stroke=\"#000000\"/>\n<polygon fill=\"#000000\" points=\"354.6473,-5666.9163 359.6749,-5657.5904 349.9289,-5661.7455 354.6473,-5666.9163\" stroke=\"#000000\"/>\n</g>\n<!-- 140325420495312 -->\n<g class=\"node\" id=\"node57\">\n<title>140325420495312</title>\n<polygon fill=\"none\" points=\"203,-5548.5 203,-5584.5 412,-5584.5 412,-5548.5 203,-5548.5\" stroke=\"#000000\"/>\n<text fill=\"#000000\" font-family=\"Times,serif\" font-size=\"14.00\" text-anchor=\"middle\" x=\"307.5\" y=\"-5562.8\">block7_sepconv1_act: Activation</text>\n</g>\n<!-- 140325420048112&#45;&gt;140325420495312 -->\n<g class=\"edge\" id=\"edge61\">\n<title>140325420048112-&gt;140325420495312</title>\n<path d=\"M361.7022,-5621.4551C352.8752,-5612.5054 342.0669,-5601.547 332.4307,-5591.7769\" fill=\"none\" stroke=\"#000000\"/>\n<polygon fill=\"#000000\" points=\"334.8566,-5589.2523 325.3425,-5584.5904 329.8728,-5594.1678 334.8566,-5589.2523\" stroke=\"#000000\"/>\n</g>\n<!-- 140325419066312 -->\n<g class=\"node\" id=\"node66\">\n<title>140325419066312</title>\n<polygon fill=\"none\" points=\"328.5,-4891.5 328.5,-4927.5 420.5,-4927.5 420.5,-4891.5 328.5,-4891.5\" stroke=\"#000000\"/>\n<text fill=\"#000000\" font-family=\"Times,serif\" font-size=\"14.00\" text-anchor=\"middle\" x=\"374.5\" y=\"-4905.8\">add_30: Add</text>\n</g>\n<!-- 140325420048112&#45;&gt;140325419066312 -->\n<g class=\"edge\" id=\"edge71\">\n<title>140325420048112-&gt;140325419066312</title>\n<path d=\"M396.1449,-5621.2244C418.2405,-5594.9944 454.5,-5544.2229 454.5,-5493.5 454.5,-5493.5 454.5,-5493.5 454.5,-5055.5 454.5,-5013.9658 456.252,-4999.9784 435.5,-4964 428.9494,-4952.643 419.1903,-4942.3894 409.3888,-4933.9205\" fill=\"none\" stroke=\"#000000\"/>\n<polygon fill=\"#000000\" points=\"411.5335,-4931.153 401.5795,-4927.5242 407.098,-4936.5684 411.5335,-4931.153\" stroke=\"#000000\"/>\n</g>\n<!-- 140325420073872 -->\n<g class=\"node\" id=\"node58\">\n<title>140325420073872</title>\n<polygon fill=\"none\" points=\"186.5,-5475.5 186.5,-5511.5 418.5,-5511.5 418.5,-5475.5 186.5,-5475.5\" stroke=\"#000000\"/>\n<text fill=\"#000000\" font-family=\"Times,serif\" font-size=\"14.00\" text-anchor=\"middle\" x=\"302.5\" y=\"-5489.8\">block7_sepconv1: SeparableConv2D</text>\n</g>\n<!-- 140325420495312&#45;&gt;140325420073872 -->\n<g class=\"edge\" id=\"edge62\">\n<title>140325420495312-&gt;140325420073872</title>\n<path d=\"M306.264,-5548.4551C305.7112,-5540.3828 305.0463,-5530.6764 304.4303,-5521.6817\" fill=\"none\" stroke=\"#000000\"/>\n<polygon fill=\"#000000\" points=\"307.9143,-5521.3278 303.7391,-5511.5904 300.9307,-5521.8062 307.9143,-5521.3278\" stroke=\"#000000\"/>\n</g>\n<!-- 140325419621344 -->\n<g class=\"node\" id=\"node59\">\n<title>140325419621344</title>\n<polygon fill=\"none\" points=\"163,-5402.5 163,-5438.5 426,-5438.5 426,-5402.5 163,-5402.5\" stroke=\"#000000\"/>\n<text fill=\"#000000\" font-family=\"Times,serif\" font-size=\"14.00\" text-anchor=\"middle\" x=\"294.5\" y=\"-5416.8\">block7_sepconv1_bn: BatchNormalization</text>\n</g>\n<!-- 140325420073872&#45;&gt;140325419621344 -->\n<g class=\"edge\" id=\"edge63\">\n<title>140325420073872-&gt;140325419621344</title>\n<path d=\"M300.5225,-5475.4551C299.6378,-5467.3828 298.5741,-5457.6764 297.5884,-5448.6817\" fill=\"none\" stroke=\"#000000\"/>\n<polygon fill=\"#000000\" points=\"301.0511,-5448.1495 296.4825,-5438.5904 294.0928,-5448.9122 301.0511,-5448.1495\" stroke=\"#000000\"/>\n</g>\n<!-- 140325419740968 -->\n<g class=\"node\" id=\"node60\">\n<title>140325419740968</title>\n<polygon fill=\"none\" points=\"190,-5329.5 190,-5365.5 399,-5365.5 399,-5329.5 190,-5329.5\" stroke=\"#000000\"/>\n<text fill=\"#000000\" font-family=\"Times,serif\" font-size=\"14.00\" text-anchor=\"middle\" x=\"294.5\" y=\"-5343.8\">block7_sepconv2_act: Activation</text>\n</g>\n<!-- 140325419621344&#45;&gt;140325419740968 -->\n<g class=\"edge\" id=\"edge64\">\n<title>140325419621344-&gt;140325419740968</title>\n<path d=\"M294.5,-5402.4551C294.5,-5394.3828 294.5,-5384.6764 294.5,-5375.6817\" fill=\"none\" stroke=\"#000000\"/>\n<polygon fill=\"#000000\" points=\"298.0001,-5375.5903 294.5,-5365.5904 291.0001,-5375.5904 298.0001,-5375.5903\" stroke=\"#000000\"/>\n</g>\n<!-- 140325419741080 -->\n<g class=\"node\" id=\"node61\">\n<title>140325419741080</title>\n<polygon fill=\"none\" points=\"178.5,-5256.5 178.5,-5292.5 410.5,-5292.5 410.5,-5256.5 178.5,-5256.5\" stroke=\"#000000\"/>\n<text fill=\"#000000\" font-family=\"Times,serif\" font-size=\"14.00\" text-anchor=\"middle\" x=\"294.5\" y=\"-5270.8\">block7_sepconv2: SeparableConv2D</text>\n</g>\n<!-- 140325419740968&#45;&gt;140325419741080 -->\n<g class=\"edge\" id=\"edge65\">\n<title>140325419740968-&gt;140325419741080</title>\n<path d=\"M294.5,-5329.4551C294.5,-5321.3828 294.5,-5311.6764 294.5,-5302.6817\" fill=\"none\" stroke=\"#000000\"/>\n<polygon fill=\"#000000\" points=\"298.0001,-5302.5903 294.5,-5292.5904 291.0001,-5302.5904 298.0001,-5302.5903\" stroke=\"#000000\"/>\n</g>\n<!-- 140325419313584 -->\n<g class=\"node\" id=\"node62\">\n<title>140325419313584</title>\n<polygon fill=\"none\" points=\"163,-5183.5 163,-5219.5 426,-5219.5 426,-5183.5 163,-5183.5\" stroke=\"#000000\"/>\n<text fill=\"#000000\" font-family=\"Times,serif\" font-size=\"14.00\" text-anchor=\"middle\" x=\"294.5\" y=\"-5197.8\">block7_sepconv2_bn: BatchNormalization</text>\n</g>\n<!-- 140325419741080&#45;&gt;140325419313584 -->\n<g class=\"edge\" id=\"edge66\">\n<title>140325419741080-&gt;140325419313584</title>\n<path d=\"M294.5,-5256.4551C294.5,-5248.3828 294.5,-5238.6764 294.5,-5229.6817\" fill=\"none\" stroke=\"#000000\"/>\n<polygon fill=\"#000000\" points=\"298.0001,-5229.5903 294.5,-5219.5904 291.0001,-5229.5904 298.0001,-5229.5903\" stroke=\"#000000\"/>\n</g>\n<!-- 140325419436576 -->\n<g class=\"node\" id=\"node63\">\n<title>140325419436576</title>\n<polygon fill=\"none\" points=\"190,-5110.5 190,-5146.5 399,-5146.5 399,-5110.5 190,-5110.5\" stroke=\"#000000\"/>\n<text fill=\"#000000\" font-family=\"Times,serif\" font-size=\"14.00\" text-anchor=\"middle\" x=\"294.5\" y=\"-5124.8\">block7_sepconv3_act: Activation</text>\n</g>\n<!-- 140325419313584&#45;&gt;140325419436576 -->\n<g class=\"edge\" id=\"edge67\">\n<title>140325419313584-&gt;140325419436576</title>\n<path d=\"M294.5,-5183.4551C294.5,-5175.3828 294.5,-5165.6764 294.5,-5156.6817\" fill=\"none\" stroke=\"#000000\"/>\n<polygon fill=\"#000000\" points=\"298.0001,-5156.5903 294.5,-5146.5904 291.0001,-5156.5904 298.0001,-5156.5903\" stroke=\"#000000\"/>\n</g>\n<!-- 140325419436464 -->\n<g class=\"node\" id=\"node64\">\n<title>140325419436464</title>\n<polygon fill=\"none\" points=\"178.5,-5037.5 178.5,-5073.5 410.5,-5073.5 410.5,-5037.5 178.5,-5037.5\" stroke=\"#000000\"/>\n<text fill=\"#000000\" font-family=\"Times,serif\" font-size=\"14.00\" text-anchor=\"middle\" x=\"294.5\" y=\"-5051.8\">block7_sepconv3: SeparableConv2D</text>\n</g>\n<!-- 140325419436576&#45;&gt;140325419436464 -->\n<g class=\"edge\" id=\"edge68\">\n<title>140325419436576-&gt;140325419436464</title>\n<path d=\"M294.5,-5110.4551C294.5,-5102.3828 294.5,-5092.6764 294.5,-5083.6817\" fill=\"none\" stroke=\"#000000\"/>\n<polygon fill=\"#000000\" points=\"298.0001,-5083.5903 294.5,-5073.5904 291.0001,-5083.5904 298.0001,-5083.5903\" stroke=\"#000000\"/>\n</g>\n<!-- 140325419456944 -->\n<g class=\"node\" id=\"node65\">\n<title>140325419456944</title>\n<polygon fill=\"none\" points=\"163,-4964.5 163,-5000.5 426,-5000.5 426,-4964.5 163,-4964.5\" stroke=\"#000000\"/>\n<text fill=\"#000000\" font-family=\"Times,serif\" font-size=\"14.00\" text-anchor=\"middle\" x=\"294.5\" y=\"-4978.8\">block7_sepconv3_bn: BatchNormalization</text>\n</g>\n<!-- 140325419436464&#45;&gt;140325419456944 -->\n<g class=\"edge\" id=\"edge69\">\n<title>140325419436464-&gt;140325419456944</title>\n<path d=\"M294.5,-5037.4551C294.5,-5029.3828 294.5,-5019.6764 294.5,-5010.6817\" fill=\"none\" stroke=\"#000000\"/>\n<polygon fill=\"#000000\" points=\"298.0001,-5010.5903 294.5,-5000.5904 291.0001,-5010.5904 298.0001,-5010.5903\" stroke=\"#000000\"/>\n</g>\n<!-- 140325419456944&#45;&gt;140325419066312 -->\n<g class=\"edge\" id=\"edge70\">\n<title>140325419456944-&gt;140325419066312</title>\n<path d=\"M314.2753,-4964.4551C324.1793,-4955.4177 336.3281,-4944.3319 347.1138,-4934.4899\" fill=\"none\" stroke=\"#000000\"/>\n<polygon fill=\"#000000\" points=\"349.6473,-4936.9163 354.6749,-4927.5904 344.9289,-4931.7455 349.6473,-4936.9163\" stroke=\"#000000\"/>\n</g>\n<!-- 140325420073704 -->\n<g class=\"node\" id=\"node67\">\n<title>140325420073704</title>\n<polygon fill=\"none\" points=\"204,-4818.5 204,-4854.5 413,-4854.5 413,-4818.5 204,-4818.5\" stroke=\"#000000\"/>\n<text fill=\"#000000\" font-family=\"Times,serif\" font-size=\"14.00\" text-anchor=\"middle\" x=\"308.5\" y=\"-4832.8\">block8_sepconv1_act: Activation</text>\n</g>\n<!-- 140325419066312&#45;&gt;140325420073704 -->\n<g class=\"edge\" id=\"edge72\">\n<title>140325419066312-&gt;140325420073704</title>\n<path d=\"M358.1854,-4891.4551C350.1733,-4882.5932 340.3804,-4871.7616 331.6132,-4862.0646\" fill=\"none\" stroke=\"#000000\"/>\n<polygon fill=\"#000000\" points=\"334.1584,-4859.6609 324.8557,-4854.5904 328.9659,-4864.3554 334.1584,-4859.6609\" stroke=\"#000000\"/>\n</g>\n<!-- 140325418652784 -->\n<g class=\"node\" id=\"node76\">\n<title>140325418652784</title>\n<polygon fill=\"none\" points=\"324.5,-4161.5 324.5,-4197.5 416.5,-4197.5 416.5,-4161.5 324.5,-4161.5\" stroke=\"#000000\"/>\n<text fill=\"#000000\" font-family=\"Times,serif\" font-size=\"14.00\" text-anchor=\"middle\" x=\"370.5\" y=\"-4175.8\">add_31: Add</text>\n</g>\n<!-- 140325419066312&#45;&gt;140325418652784 -->\n<g class=\"edge\" id=\"edge82\">\n<title>140325419066312-&gt;140325418652784</title>\n<path d=\"M394.0193,-4891.373C403.7442,-4881.4354 414.9973,-4868.4283 422.5,-4855 443.2433,-4817.8737 450.5,-4806.0281 450.5,-4763.5 450.5,-4763.5 450.5,-4763.5 450.5,-4325.5 450.5,-4283.9658 452.252,-4269.9784 431.5,-4234 424.9494,-4222.643 415.1903,-4212.3894 405.3888,-4203.9205\" fill=\"none\" stroke=\"#000000\"/>\n<polygon fill=\"#000000\" points=\"407.5335,-4201.153 397.5795,-4197.5242 403.098,-4206.5684 407.5335,-4201.153\" stroke=\"#000000\"/>\n</g>\n<!-- 140325419132072 -->\n<g class=\"node\" id=\"node68\">\n<title>140325419132072</title>\n<polygon fill=\"none\" points=\"182.5,-4745.5 182.5,-4781.5 414.5,-4781.5 414.5,-4745.5 182.5,-4745.5\" stroke=\"#000000\"/>\n<text fill=\"#000000\" font-family=\"Times,serif\" font-size=\"14.00\" text-anchor=\"middle\" x=\"298.5\" y=\"-4759.8\">block8_sepconv1: SeparableConv2D</text>\n</g>\n<!-- 140325420073704&#45;&gt;140325419132072 -->\n<g class=\"edge\" id=\"edge73\">\n<title>140325420073704-&gt;140325419132072</title>\n<path d=\"M306.0281,-4818.4551C304.9223,-4810.3828 303.5927,-4800.6764 302.3605,-4791.6817\" fill=\"none\" stroke=\"#000000\"/>\n<polygon fill=\"#000000\" points=\"305.803,-4791.0228 300.9781,-4781.5904 298.8678,-4791.9729 305.803,-4791.0228\" stroke=\"#000000\"/>\n</g>\n<!-- 140325419199736 -->\n<g class=\"node\" id=\"node69\">\n<title>140325419199736</title>\n<polygon fill=\"none\" points=\"159,-4672.5 159,-4708.5 422,-4708.5 422,-4672.5 159,-4672.5\" stroke=\"#000000\"/>\n<text fill=\"#000000\" font-family=\"Times,serif\" font-size=\"14.00\" text-anchor=\"middle\" x=\"290.5\" y=\"-4686.8\">block8_sepconv1_bn: BatchNormalization</text>\n</g>\n<!-- 140325419132072&#45;&gt;140325419199736 -->\n<g class=\"edge\" id=\"edge74\">\n<title>140325419132072-&gt;140325419199736</title>\n<path d=\"M296.5225,-4745.4551C295.6378,-4737.3828 294.5741,-4727.6764 293.5884,-4718.6817\" fill=\"none\" stroke=\"#000000\"/>\n<polygon fill=\"#000000\" points=\"297.0511,-4718.1495 292.4825,-4708.5904 290.0928,-4718.9122 297.0511,-4718.1495\" stroke=\"#000000\"/>\n</g>\n<!-- 140325418790696 -->\n<g class=\"node\" id=\"node70\">\n<title>140325418790696</title>\n<polygon fill=\"none\" points=\"186,-4599.5 186,-4635.5 395,-4635.5 395,-4599.5 186,-4599.5\" stroke=\"#000000\"/>\n<text fill=\"#000000\" font-family=\"Times,serif\" font-size=\"14.00\" text-anchor=\"middle\" x=\"290.5\" y=\"-4613.8\">block8_sepconv2_act: Activation</text>\n</g>\n<!-- 140325419199736&#45;&gt;140325418790696 -->\n<g class=\"edge\" id=\"edge75\">\n<title>140325419199736-&gt;140325418790696</title>\n<path d=\"M290.5,-4672.4551C290.5,-4664.3828 290.5,-4654.6764 290.5,-4645.6817\" fill=\"none\" stroke=\"#000000\"/>\n<polygon fill=\"#000000\" points=\"294.0001,-4645.5903 290.5,-4635.5904 287.0001,-4645.5904 294.0001,-4645.5903\" stroke=\"#000000\"/>\n</g>\n<!-- 140325418813984 -->\n<g class=\"node\" id=\"node71\">\n<title>140325418813984</title>\n<polygon fill=\"none\" points=\"174.5,-4526.5 174.5,-4562.5 406.5,-4562.5 406.5,-4526.5 174.5,-4526.5\" stroke=\"#000000\"/>\n<text fill=\"#000000\" font-family=\"Times,serif\" font-size=\"14.00\" text-anchor=\"middle\" x=\"290.5\" y=\"-4540.8\">block8_sepconv2: SeparableConv2D</text>\n</g>\n<!-- 140325418790696&#45;&gt;140325418813984 -->\n<g class=\"edge\" id=\"edge76\">\n<title>140325418790696-&gt;140325418813984</title>\n<path d=\"M290.5,-4599.4551C290.5,-4591.3828 290.5,-4581.6764 290.5,-4572.6817\" fill=\"none\" stroke=\"#000000\"/>\n<polygon fill=\"#000000\" points=\"294.0001,-4572.5903 290.5,-4562.5904 287.0001,-4572.5904 294.0001,-4572.5903\" stroke=\"#000000\"/>\n</g>\n<!-- 140325418891976 -->\n<g class=\"node\" id=\"node72\">\n<title>140325418891976</title>\n<polygon fill=\"none\" points=\"159,-4453.5 159,-4489.5 422,-4489.5 422,-4453.5 159,-4453.5\" stroke=\"#000000\"/>\n<text fill=\"#000000\" font-family=\"Times,serif\" font-size=\"14.00\" text-anchor=\"middle\" x=\"290.5\" y=\"-4467.8\">block8_sepconv2_bn: BatchNormalization</text>\n</g>\n<!-- 140325418813984&#45;&gt;140325418891976 -->\n<g class=\"edge\" id=\"edge77\">\n<title>140325418813984-&gt;140325418891976</title>\n<path d=\"M290.5,-4526.4551C290.5,-4518.3828 290.5,-4508.6764 290.5,-4499.6817\" fill=\"none\" stroke=\"#000000\"/>\n<polygon fill=\"#000000\" points=\"294.0001,-4499.5903 290.5,-4489.5904 287.0001,-4499.5904 294.0001,-4499.5903\" stroke=\"#000000\"/>\n</g>\n<!-- 140325419010872 -->\n<g class=\"node\" id=\"node73\">\n<title>140325419010872</title>\n<polygon fill=\"none\" points=\"186,-4380.5 186,-4416.5 395,-4416.5 395,-4380.5 186,-4380.5\" stroke=\"#000000\"/>\n<text fill=\"#000000\" font-family=\"Times,serif\" font-size=\"14.00\" text-anchor=\"middle\" x=\"290.5\" y=\"-4394.8\">block8_sepconv3_act: Activation</text>\n</g>\n<!-- 140325418891976&#45;&gt;140325419010872 -->\n<g class=\"edge\" id=\"edge78\">\n<title>140325418891976-&gt;140325419010872</title>\n<path d=\"M290.5,-4453.4551C290.5,-4445.3828 290.5,-4435.6764 290.5,-4426.6817\" fill=\"none\" stroke=\"#000000\"/>\n<polygon fill=\"#000000\" points=\"294.0001,-4426.5903 290.5,-4416.5904 287.0001,-4426.5904 294.0001,-4426.5903\" stroke=\"#000000\"/>\n</g>\n<!-- 140325419010760 -->\n<g class=\"node\" id=\"node74\">\n<title>140325419010760</title>\n<polygon fill=\"none\" points=\"174.5,-4307.5 174.5,-4343.5 406.5,-4343.5 406.5,-4307.5 174.5,-4307.5\" stroke=\"#000000\"/>\n<text fill=\"#000000\" font-family=\"Times,serif\" font-size=\"14.00\" text-anchor=\"middle\" x=\"290.5\" y=\"-4321.8\">block8_sepconv3: SeparableConv2D</text>\n</g>\n<!-- 140325419010872&#45;&gt;140325419010760 -->\n<g class=\"edge\" id=\"edge79\">\n<title>140325419010872-&gt;140325419010760</title>\n<path d=\"M290.5,-4380.4551C290.5,-4372.3828 290.5,-4362.6764 290.5,-4353.6817\" fill=\"none\" stroke=\"#000000\"/>\n<polygon fill=\"#000000\" points=\"294.0001,-4353.5903 290.5,-4343.5904 287.0001,-4353.5904 294.0001,-4353.5903\" stroke=\"#000000\"/>\n</g>\n<!-- 140325419035336 -->\n<g class=\"node\" id=\"node75\">\n<title>140325419035336</title>\n<polygon fill=\"none\" points=\"159,-4234.5 159,-4270.5 422,-4270.5 422,-4234.5 159,-4234.5\" stroke=\"#000000\"/>\n<text fill=\"#000000\" font-family=\"Times,serif\" font-size=\"14.00\" text-anchor=\"middle\" x=\"290.5\" y=\"-4248.8\">block8_sepconv3_bn: BatchNormalization</text>\n</g>\n<!-- 140325419010760&#45;&gt;140325419035336 -->\n<g class=\"edge\" id=\"edge80\">\n<title>140325419010760-&gt;140325419035336</title>\n<path d=\"M290.5,-4307.4551C290.5,-4299.3828 290.5,-4289.6764 290.5,-4280.6817\" fill=\"none\" stroke=\"#000000\"/>\n<polygon fill=\"#000000\" points=\"294.0001,-4280.5903 290.5,-4270.5904 287.0001,-4280.5904 294.0001,-4280.5903\" stroke=\"#000000\"/>\n</g>\n<!-- 140325419035336&#45;&gt;140325418652784 -->\n<g class=\"edge\" id=\"edge81\">\n<title>140325419035336-&gt;140325418652784</title>\n<path d=\"M310.2753,-4234.4551C320.1793,-4225.4177 332.3281,-4214.3319 343.1138,-4204.4899\" fill=\"none\" stroke=\"#000000\"/>\n<polygon fill=\"#000000\" points=\"345.6473,-4206.9163 350.6749,-4197.5904 340.9289,-4201.7455 345.6473,-4206.9163\" stroke=\"#000000\"/>\n</g>\n<!-- 140325419131904 -->\n<g class=\"node\" id=\"node77\">\n<title>140325419131904</title>\n<polygon fill=\"none\" points=\"194,-4088.5 194,-4124.5 403,-4124.5 403,-4088.5 194,-4088.5\" stroke=\"#000000\"/>\n<text fill=\"#000000\" font-family=\"Times,serif\" font-size=\"14.00\" text-anchor=\"middle\" x=\"298.5\" y=\"-4102.8\">block9_sepconv1_act: Activation</text>\n</g>\n<!-- 140325418652784&#45;&gt;140325419131904 -->\n<g class=\"edge\" id=\"edge83\">\n<title>140325418652784-&gt;140325419131904</title>\n<path d=\"M352.7022,-4161.4551C343.8752,-4152.5054 333.0669,-4141.547 323.4307,-4131.7769\" fill=\"none\" stroke=\"#000000\"/>\n<polygon fill=\"#000000\" points=\"325.8566,-4129.2523 316.3425,-4124.5904 320.8728,-4134.1678 325.8566,-4129.2523\" stroke=\"#000000\"/>\n</g>\n<!-- 140325417758448 -->\n<g class=\"node\" id=\"node86\">\n<title>140325417758448</title>\n<polygon fill=\"none\" points=\"319.5,-3431.5 319.5,-3467.5 411.5,-3467.5 411.5,-3431.5 319.5,-3431.5\" stroke=\"#000000\"/>\n<text fill=\"#000000\" font-family=\"Times,serif\" font-size=\"14.00\" text-anchor=\"middle\" x=\"365.5\" y=\"-3445.8\">add_32: Add</text>\n</g>\n<!-- 140325418652784&#45;&gt;140325417758448 -->\n<g class=\"edge\" id=\"edge93\">\n<title>140325418652784-&gt;140325417758448</title>\n<path d=\"M387.1449,-4161.2244C409.2405,-4134.9944 445.5,-4084.2229 445.5,-4033.5 445.5,-4033.5 445.5,-4033.5 445.5,-3595.5 445.5,-3553.9658 447.252,-3539.9784 426.5,-3504 419.9494,-3492.643 410.1903,-3482.3894 400.3888,-3473.9205\" fill=\"none\" stroke=\"#000000\"/>\n<polygon fill=\"#000000\" points=\"402.5335,-3471.153 392.5795,-3467.5242 398.098,-3476.5684 402.5335,-3471.153\" stroke=\"#000000\"/>\n</g>\n<!-- 140325418710464 -->\n<g class=\"node\" id=\"node78\">\n<title>140325418710464</title>\n<polygon fill=\"none\" points=\"177.5,-4015.5 177.5,-4051.5 409.5,-4051.5 409.5,-4015.5 177.5,-4015.5\" stroke=\"#000000\"/>\n<text fill=\"#000000\" font-family=\"Times,serif\" font-size=\"14.00\" text-anchor=\"middle\" x=\"293.5\" y=\"-4029.8\">block9_sepconv1: SeparableConv2D</text>\n</g>\n<!-- 140325419131904&#45;&gt;140325418710464 -->\n<g class=\"edge\" id=\"edge84\">\n<title>140325419131904-&gt;140325418710464</title>\n<path d=\"M297.264,-4088.4551C296.7112,-4080.3828 296.0463,-4070.6764 295.4303,-4061.6817\" fill=\"none\" stroke=\"#000000\"/>\n<polygon fill=\"#000000\" points=\"298.9143,-4061.3278 294.7391,-4051.5904 291.9307,-4061.8062 298.9143,-4061.3278\" stroke=\"#000000\"/>\n</g>\n<!-- 140325418257768 -->\n<g class=\"node\" id=\"node79\">\n<title>140325418257768</title>\n<polygon fill=\"none\" points=\"154,-3942.5 154,-3978.5 417,-3978.5 417,-3942.5 154,-3942.5\" stroke=\"#000000\"/>\n<text fill=\"#000000\" font-family=\"Times,serif\" font-size=\"14.00\" text-anchor=\"middle\" x=\"285.5\" y=\"-3956.8\">block9_sepconv1_bn: BatchNormalization</text>\n</g>\n<!-- 140325418710464&#45;&gt;140325418257768 -->\n<g class=\"edge\" id=\"edge85\">\n<title>140325418710464-&gt;140325418257768</title>\n<path d=\"M291.5225,-4015.4551C290.6378,-4007.3828 289.5741,-3997.6764 288.5884,-3988.6817\" fill=\"none\" stroke=\"#000000\"/>\n<polygon fill=\"#000000\" points=\"292.0511,-3988.1495 287.4825,-3978.5904 285.0928,-3988.9122 292.0511,-3988.1495\" stroke=\"#000000\"/>\n</g>\n<!-- 140325418373072 -->\n<g class=\"node\" id=\"node80\">\n<title>140325418373072</title>\n<polygon fill=\"none\" points=\"181,-3869.5 181,-3905.5 390,-3905.5 390,-3869.5 181,-3869.5\" stroke=\"#000000\"/>\n<text fill=\"#000000\" font-family=\"Times,serif\" font-size=\"14.00\" text-anchor=\"middle\" x=\"285.5\" y=\"-3883.8\">block9_sepconv2_act: Activation</text>\n</g>\n<!-- 140325418257768&#45;&gt;140325418373072 -->\n<g class=\"edge\" id=\"edge86\">\n<title>140325418257768-&gt;140325418373072</title>\n<path d=\"M285.5,-3942.4551C285.5,-3934.3828 285.5,-3924.6764 285.5,-3915.6817\" fill=\"none\" stroke=\"#000000\"/>\n<polygon fill=\"#000000\" points=\"289.0001,-3915.5903 285.5,-3905.5904 282.0001,-3915.5904 289.0001,-3915.5903\" stroke=\"#000000\"/>\n</g>\n<!-- 140325418400568 -->\n<g class=\"node\" id=\"node81\">\n<title>140325418400568</title>\n<polygon fill=\"none\" points=\"169.5,-3796.5 169.5,-3832.5 401.5,-3832.5 401.5,-3796.5 169.5,-3796.5\" stroke=\"#000000\"/>\n<text fill=\"#000000\" font-family=\"Times,serif\" font-size=\"14.00\" text-anchor=\"middle\" x=\"285.5\" y=\"-3810.8\">block9_sepconv2: SeparableConv2D</text>\n</g>\n<!-- 140325418373072&#45;&gt;140325418400568 -->\n<g class=\"edge\" id=\"edge87\">\n<title>140325418373072-&gt;140325418400568</title>\n<path d=\"M285.5,-3869.4551C285.5,-3861.3828 285.5,-3851.6764 285.5,-3842.6817\" fill=\"none\" stroke=\"#000000\"/>\n<polygon fill=\"#000000\" points=\"289.0001,-3842.5903 285.5,-3832.5904 282.0001,-3842.5904 289.0001,-3842.5903\" stroke=\"#000000\"/>\n</g>\n<!-- 140325418470368 -->\n<g class=\"node\" id=\"node82\">\n<title>140325418470368</title>\n<polygon fill=\"none\" points=\"154,-3723.5 154,-3759.5 417,-3759.5 417,-3723.5 154,-3723.5\" stroke=\"#000000\"/>\n<text fill=\"#000000\" font-family=\"Times,serif\" font-size=\"14.00\" text-anchor=\"middle\" x=\"285.5\" y=\"-3737.8\">block9_sepconv2_bn: BatchNormalization</text>\n</g>\n<!-- 140325418400568&#45;&gt;140325418470368 -->\n<g class=\"edge\" id=\"edge88\">\n<title>140325418400568-&gt;140325418470368</title>\n<path d=\"M285.5,-3796.4551C285.5,-3788.3828 285.5,-3778.6764 285.5,-3769.6817\" fill=\"none\" stroke=\"#000000\"/>\n<polygon fill=\"#000000\" points=\"289.0001,-3769.5903 285.5,-3759.5904 282.0001,-3769.5904 289.0001,-3769.5903\" stroke=\"#000000\"/>\n</g>\n<!-- 140325418069072 -->\n<g class=\"node\" id=\"node83\">\n<title>140325418069072</title>\n<polygon fill=\"none\" points=\"181,-3650.5 181,-3686.5 390,-3686.5 390,-3650.5 181,-3650.5\" stroke=\"#000000\"/>\n<text fill=\"#000000\" font-family=\"Times,serif\" font-size=\"14.00\" text-anchor=\"middle\" x=\"285.5\" y=\"-3664.8\">block9_sepconv3_act: Activation</text>\n</g>\n<!-- 140325418470368&#45;&gt;140325418069072 -->\n<g class=\"edge\" id=\"edge89\">\n<title>140325418470368-&gt;140325418069072</title>\n<path d=\"M285.5,-3723.4551C285.5,-3715.3828 285.5,-3705.6764 285.5,-3696.6817\" fill=\"none\" stroke=\"#000000\"/>\n<polygon fill=\"#000000\" points=\"289.0001,-3696.5903 285.5,-3686.5904 282.0001,-3696.5904 289.0001,-3696.5903\" stroke=\"#000000\"/>\n</g>\n<!-- 140325418068960 -->\n<g class=\"node\" id=\"node84\">\n<title>140325418068960</title>\n<polygon fill=\"none\" points=\"169.5,-3577.5 169.5,-3613.5 401.5,-3613.5 401.5,-3577.5 169.5,-3577.5\" stroke=\"#000000\"/>\n<text fill=\"#000000\" font-family=\"Times,serif\" font-size=\"14.00\" text-anchor=\"middle\" x=\"285.5\" y=\"-3591.8\">block9_sepconv3: SeparableConv2D</text>\n</g>\n<!-- 140325418069072&#45;&gt;140325418068960 -->\n<g class=\"edge\" id=\"edge90\">\n<title>140325418069072-&gt;140325418068960</title>\n<path d=\"M285.5,-3650.4551C285.5,-3642.3828 285.5,-3632.6764 285.5,-3623.6817\" fill=\"none\" stroke=\"#000000\"/>\n<polygon fill=\"#000000\" points=\"289.0001,-3623.5903 285.5,-3613.5904 282.0001,-3623.5904 289.0001,-3623.5903\" stroke=\"#000000\"/>\n</g>\n<!-- 140325418084616 -->\n<g class=\"node\" id=\"node85\">\n<title>140325418084616</title>\n<polygon fill=\"none\" points=\"154,-3504.5 154,-3540.5 417,-3540.5 417,-3504.5 154,-3504.5\" stroke=\"#000000\"/>\n<text fill=\"#000000\" font-family=\"Times,serif\" font-size=\"14.00\" text-anchor=\"middle\" x=\"285.5\" y=\"-3518.8\">block9_sepconv3_bn: BatchNormalization</text>\n</g>\n<!-- 140325418068960&#45;&gt;140325418084616 -->\n<g class=\"edge\" id=\"edge91\">\n<title>140325418068960-&gt;140325418084616</title>\n<path d=\"M285.5,-3577.4551C285.5,-3569.3828 285.5,-3559.6764 285.5,-3550.6817\" fill=\"none\" stroke=\"#000000\"/>\n<polygon fill=\"#000000\" points=\"289.0001,-3550.5903 285.5,-3540.5904 282.0001,-3550.5904 289.0001,-3550.5903\" stroke=\"#000000\"/>\n</g>\n<!-- 140325418084616&#45;&gt;140325417758448 -->\n<g class=\"edge\" id=\"edge92\">\n<title>140325418084616-&gt;140325417758448</title>\n<path d=\"M305.2753,-3504.4551C315.1793,-3495.4177 327.3281,-3484.3319 338.1138,-3474.4899\" fill=\"none\" stroke=\"#000000\"/>\n<polygon fill=\"#000000\" points=\"340.6473,-3476.9163 345.6749,-3467.5904 335.9289,-3471.7455 340.6473,-3476.9163\" stroke=\"#000000\"/>\n</g>\n<!-- 140325418710296 -->\n<g class=\"node\" id=\"node87\">\n<title>140325418710296</title>\n<polygon fill=\"none\" points=\"189.5,-3358.5 189.5,-3394.5 405.5,-3394.5 405.5,-3358.5 189.5,-3358.5\" stroke=\"#000000\"/>\n<text fill=\"#000000\" font-family=\"Times,serif\" font-size=\"14.00\" text-anchor=\"middle\" x=\"297.5\" y=\"-3372.8\">block10_sepconv1_act: Activation</text>\n</g>\n<!-- 140325417758448&#45;&gt;140325418710296 -->\n<g class=\"edge\" id=\"edge94\">\n<title>140325417758448-&gt;140325418710296</title>\n<path d=\"M348.691,-3431.4551C340.4361,-3422.5932 330.3465,-3411.7616 321.3136,-3402.0646\" fill=\"none\" stroke=\"#000000\"/>\n<polygon fill=\"#000000\" points=\"323.7284,-3399.522 314.3513,-3394.5904 318.6063,-3404.2932 323.7284,-3399.522\" stroke=\"#000000\"/>\n</g>\n<!-- 140325417339480 -->\n<g class=\"node\" id=\"node96\">\n<title>140325417339480</title>\n<polygon fill=\"none\" points=\"315.5,-2701.5 315.5,-2737.5 407.5,-2737.5 407.5,-2701.5 315.5,-2701.5\" stroke=\"#000000\"/>\n<text fill=\"#000000\" font-family=\"Times,serif\" font-size=\"14.00\" text-anchor=\"middle\" x=\"361.5\" y=\"-2715.8\">add_33: Add</text>\n</g>\n<!-- 140325417758448&#45;&gt;140325417339480 -->\n<g class=\"edge\" id=\"edge104\">\n<title>140325417758448-&gt;140325417339480</title>\n<path d=\"M385.3858,-3431.4106C395.3023,-3421.4833 406.7921,-3408.4741 414.5,-3395 435.6828,-3357.9704 443.5,-3346.1603 443.5,-3303.5 443.5,-3303.5 443.5,-3303.5 443.5,-2865.5 443.5,-2823.9658 445.5391,-2809.8112 424.5,-2774 417.7946,-2762.5865 407.8304,-2752.3676 397.7949,-2743.948\" fill=\"none\" stroke=\"#000000\"/>\n<polygon fill=\"#000000\" points=\"399.8,-2741.0709 389.7922,-2737.5929 395.4468,-2746.5527 399.8,-2741.0709\" stroke=\"#000000\"/>\n</g>\n<!-- 140325417756264 -->\n<g class=\"node\" id=\"node88\">\n<title>140325417756264</title>\n<polygon fill=\"none\" points=\"168,-3285.5 168,-3321.5 407,-3321.5 407,-3285.5 168,-3285.5\" stroke=\"#000000\"/>\n<text fill=\"#000000\" font-family=\"Times,serif\" font-size=\"14.00\" text-anchor=\"middle\" x=\"287.5\" y=\"-3299.8\">block10_sepconv1: SeparableConv2D</text>\n</g>\n<!-- 140325418710296&#45;&gt;140325417756264 -->\n<g class=\"edge\" id=\"edge95\">\n<title>140325418710296-&gt;140325417756264</title>\n<path d=\"M295.0281,-3358.4551C293.9223,-3350.3828 292.5927,-3340.6764 291.3605,-3331.6817\" fill=\"none\" stroke=\"#000000\"/>\n<polygon fill=\"#000000\" points=\"294.803,-3331.0228 289.9781,-3321.5904 287.8678,-3331.9729 294.803,-3331.0228\" stroke=\"#000000\"/>\n</g>\n<!-- 140325417853112 -->\n<g class=\"node\" id=\"node89\">\n<title>140325417853112</title>\n<polygon fill=\"none\" points=\"144,-3212.5 144,-3248.5 415,-3248.5 415,-3212.5 144,-3212.5\" stroke=\"#000000\"/>\n<text fill=\"#000000\" font-family=\"Times,serif\" font-size=\"14.00\" text-anchor=\"middle\" x=\"279.5\" y=\"-3226.8\">block10_sepconv1_bn: BatchNormalization</text>\n</g>\n<!-- 140325417756264&#45;&gt;140325417853112 -->\n<g class=\"edge\" id=\"edge96\">\n<title>140325417756264-&gt;140325417853112</title>\n<path d=\"M285.5225,-3285.4551C284.6378,-3277.3828 283.5741,-3267.6764 282.5884,-3258.6817\" fill=\"none\" stroke=\"#000000\"/>\n<polygon fill=\"#000000\" points=\"286.0511,-3258.1495 281.4825,-3248.5904 279.0928,-3258.9122 286.0511,-3258.1495\" stroke=\"#000000\"/>\n</g>\n<!-- 140325417966616 -->\n<g class=\"node\" id=\"node90\">\n<title>140325417966616</title>\n<polygon fill=\"none\" points=\"171.5,-3139.5 171.5,-3175.5 387.5,-3175.5 387.5,-3139.5 171.5,-3139.5\" stroke=\"#000000\"/>\n<text fill=\"#000000\" font-family=\"Times,serif\" font-size=\"14.00\" text-anchor=\"middle\" x=\"279.5\" y=\"-3153.8\">block10_sepconv2_act: Activation</text>\n</g>\n<!-- 140325417853112&#45;&gt;140325417966616 -->\n<g class=\"edge\" id=\"edge97\">\n<title>140325417853112-&gt;140325417966616</title>\n<path d=\"M279.5,-3212.4551C279.5,-3204.3828 279.5,-3194.6764 279.5,-3185.6817\" fill=\"none\" stroke=\"#000000\"/>\n<polygon fill=\"#000000\" points=\"283.0001,-3185.5903 279.5,-3175.5904 276.0001,-3185.5904 283.0001,-3185.5903\" stroke=\"#000000\"/>\n</g>\n<!-- 140325417966672 -->\n<g class=\"node\" id=\"node91\">\n<title>140325417966672</title>\n<polygon fill=\"none\" points=\"160,-3066.5 160,-3102.5 399,-3102.5 399,-3066.5 160,-3066.5\" stroke=\"#000000\"/>\n<text fill=\"#000000\" font-family=\"Times,serif\" font-size=\"14.00\" text-anchor=\"middle\" x=\"279.5\" y=\"-3080.8\">block10_sepconv2: SeparableConv2D</text>\n</g>\n<!-- 140325417966616&#45;&gt;140325417966672 -->\n<g class=\"edge\" id=\"edge98\">\n<title>140325417966616-&gt;140325417966672</title>\n<path d=\"M279.5,-3139.4551C279.5,-3131.3828 279.5,-3121.6764 279.5,-3112.6817\" fill=\"none\" stroke=\"#000000\"/>\n<polygon fill=\"#000000\" points=\"283.0001,-3112.5903 279.5,-3102.5904 276.0001,-3112.5904 283.0001,-3112.5903\" stroke=\"#000000\"/>\n</g>\n<!-- 140325417536760 -->\n<g class=\"node\" id=\"node92\">\n<title>140325417536760</title>\n<polygon fill=\"none\" points=\"144,-2993.5 144,-3029.5 415,-3029.5 415,-2993.5 144,-2993.5\" stroke=\"#000000\"/>\n<text fill=\"#000000\" font-family=\"Times,serif\" font-size=\"14.00\" text-anchor=\"middle\" x=\"279.5\" y=\"-3007.8\">block10_sepconv2_bn: BatchNormalization</text>\n</g>\n<!-- 140325417966672&#45;&gt;140325417536760 -->\n<g class=\"edge\" id=\"edge99\">\n<title>140325417966672-&gt;140325417536760</title>\n<path d=\"M279.5,-3066.4551C279.5,-3058.3828 279.5,-3048.6764 279.5,-3039.6817\" fill=\"none\" stroke=\"#000000\"/>\n<polygon fill=\"#000000\" points=\"283.0001,-3039.5903 279.5,-3029.5904 276.0001,-3039.5904 283.0001,-3039.5903\" stroke=\"#000000\"/>\n</g>\n<!-- 140325417651448 -->\n<g class=\"node\" id=\"node93\">\n<title>140325417651448</title>\n<polygon fill=\"none\" points=\"171.5,-2920.5 171.5,-2956.5 387.5,-2956.5 387.5,-2920.5 171.5,-2920.5\" stroke=\"#000000\"/>\n<text fill=\"#000000\" font-family=\"Times,serif\" font-size=\"14.00\" text-anchor=\"middle\" x=\"279.5\" y=\"-2934.8\">block10_sepconv3_act: Activation</text>\n</g>\n<!-- 140325417536760&#45;&gt;140325417651448 -->\n<g class=\"edge\" id=\"edge100\">\n<title>140325417536760-&gt;140325417651448</title>\n<path d=\"M279.5,-2993.4551C279.5,-2985.3828 279.5,-2975.6764 279.5,-2966.6817\" fill=\"none\" stroke=\"#000000\"/>\n<polygon fill=\"#000000\" points=\"283.0001,-2966.5903 279.5,-2956.5904 276.0001,-2966.5904 283.0001,-2966.5903\" stroke=\"#000000\"/>\n</g>\n<!-- 140325417651560 -->\n<g class=\"node\" id=\"node94\">\n<title>140325417651560</title>\n<polygon fill=\"none\" points=\"160,-2847.5 160,-2883.5 399,-2883.5 399,-2847.5 160,-2847.5\" stroke=\"#000000\"/>\n<text fill=\"#000000\" font-family=\"Times,serif\" font-size=\"14.00\" text-anchor=\"middle\" x=\"279.5\" y=\"-2861.8\">block10_sepconv3: SeparableConv2D</text>\n</g>\n<!-- 140325417651448&#45;&gt;140325417651560 -->\n<g class=\"edge\" id=\"edge101\">\n<title>140325417651448-&gt;140325417651560</title>\n<path d=\"M279.5,-2920.4551C279.5,-2912.3828 279.5,-2902.6764 279.5,-2893.6817\" fill=\"none\" stroke=\"#000000\"/>\n<polygon fill=\"#000000\" points=\"283.0001,-2893.5903 279.5,-2883.5904 276.0001,-2893.5904 283.0001,-2893.5903\" stroke=\"#000000\"/>\n</g>\n<!-- 140325417215872 -->\n<g class=\"node\" id=\"node95\">\n<title>140325417215872</title>\n<polygon fill=\"none\" points=\"144,-2774.5 144,-2810.5 415,-2810.5 415,-2774.5 144,-2774.5\" stroke=\"#000000\"/>\n<text fill=\"#000000\" font-family=\"Times,serif\" font-size=\"14.00\" text-anchor=\"middle\" x=\"279.5\" y=\"-2788.8\">block10_sepconv3_bn: BatchNormalization</text>\n</g>\n<!-- 140325417651560&#45;&gt;140325417215872 -->\n<g class=\"edge\" id=\"edge102\">\n<title>140325417651560-&gt;140325417215872</title>\n<path d=\"M279.5,-2847.4551C279.5,-2839.3828 279.5,-2829.6764 279.5,-2820.6817\" fill=\"none\" stroke=\"#000000\"/>\n<polygon fill=\"#000000\" points=\"283.0001,-2820.5903 279.5,-2810.5904 276.0001,-2820.5904 283.0001,-2820.5903\" stroke=\"#000000\"/>\n</g>\n<!-- 140325417215872&#45;&gt;140325417339480 -->\n<g class=\"edge\" id=\"edge103\">\n<title>140325417215872-&gt;140325417339480</title>\n<path d=\"M299.7697,-2774.4551C309.9212,-2765.4177 322.3738,-2754.3319 333.4291,-2744.4899\" fill=\"none\" stroke=\"#000000\"/>\n<polygon fill=\"#000000\" points=\"336.0375,-2746.8539 341.1793,-2737.5904 331.383,-2741.6255 336.0375,-2746.8539\" stroke=\"#000000\"/>\n</g>\n<!-- 140325417756208 -->\n<g class=\"node\" id=\"node97\">\n<title>140325417756208</title>\n<polygon fill=\"none\" points=\"186,-2628.5 186,-2664.5 401,-2664.5 401,-2628.5 186,-2628.5\" stroke=\"#000000\"/>\n<text fill=\"#000000\" font-family=\"Times,serif\" font-size=\"14.00\" text-anchor=\"middle\" x=\"293.5\" y=\"-2642.8\">block11_sepconv1_act: Activation</text>\n</g>\n<!-- 140325417339480&#45;&gt;140325417756208 -->\n<g class=\"edge\" id=\"edge105\">\n<title>140325417339480-&gt;140325417756208</title>\n<path d=\"M344.691,-2701.4551C336.4361,-2692.5932 326.3465,-2681.7616 317.3136,-2672.0646\" fill=\"none\" stroke=\"#000000\"/>\n<polygon fill=\"#000000\" points=\"319.7284,-2669.522 310.3513,-2664.5904 314.6063,-2674.2932 319.7284,-2669.522\" stroke=\"#000000\"/>\n</g>\n<!-- 140325416913160 -->\n<g class=\"node\" id=\"node106\">\n<title>140325416913160</title>\n<polygon fill=\"none\" points=\"310.5,-1971.5 310.5,-2007.5 402.5,-2007.5 402.5,-1971.5 310.5,-1971.5\" stroke=\"#000000\"/>\n<text fill=\"#000000\" font-family=\"Times,serif\" font-size=\"14.00\" text-anchor=\"middle\" x=\"356.5\" y=\"-1985.8\">add_34: Add</text>\n</g>\n<!-- 140325417339480&#45;&gt;140325416913160 -->\n<g class=\"edge\" id=\"edge115\">\n<title>140325417339480-&gt;140325416913160</title>\n<path d=\"M381.4411,-2701.442C391.3727,-2691.5233 402.8593,-2678.5123 410.5,-2665 431.4331,-2627.9804 438.5,-2616.0281 438.5,-2573.5 438.5,-2573.5 438.5,-2573.5 438.5,-2135.5 438.5,-2093.9658 440.5391,-2079.8112 419.5,-2044 412.7946,-2032.5865 402.8304,-2022.3676 392.7949,-2013.948\" fill=\"none\" stroke=\"#000000\"/>\n<polygon fill=\"#000000\" points=\"394.8,-2011.0709 384.7922,-2007.5929 390.4468,-2016.5527 394.8,-2011.0709\" stroke=\"#000000\"/>\n</g>\n<!-- 140325417338864 -->\n<g class=\"node\" id=\"node98\">\n<title>140325417338864</title>\n<polygon fill=\"none\" points=\"164,-2555.5 164,-2591.5 403,-2591.5 403,-2555.5 164,-2555.5\" stroke=\"#000000\"/>\n<text fill=\"#000000\" font-family=\"Times,serif\" font-size=\"14.00\" text-anchor=\"middle\" x=\"283.5\" y=\"-2569.8\">block11_sepconv1: SeparableConv2D</text>\n</g>\n<!-- 140325417756208&#45;&gt;140325417338864 -->\n<g class=\"edge\" id=\"edge106\">\n<title>140325417756208-&gt;140325417338864</title>\n<path d=\"M291.0281,-2628.4551C289.9223,-2620.3828 288.5927,-2610.6764 287.3605,-2601.6817\" fill=\"none\" stroke=\"#000000\"/>\n<polygon fill=\"#000000\" points=\"290.803,-2601.0228 285.9781,-2591.5904 283.8678,-2601.9729 290.803,-2601.0228\" stroke=\"#000000\"/>\n</g>\n<!-- 140325417431504 -->\n<g class=\"node\" id=\"node99\">\n<title>140325417431504</title>\n<polygon fill=\"none\" points=\"140.5,-2482.5 140.5,-2518.5 410.5,-2518.5 410.5,-2482.5 140.5,-2482.5\" stroke=\"#000000\"/>\n<text fill=\"#000000\" font-family=\"Times,serif\" font-size=\"14.00\" text-anchor=\"middle\" x=\"275.5\" y=\"-2496.8\">block11_sepconv1_bn: BatchNormalization</text>\n</g>\n<!-- 140325417338864&#45;&gt;140325417431504 -->\n<g class=\"edge\" id=\"edge107\">\n<title>140325417338864-&gt;140325417431504</title>\n<path d=\"M281.5225,-2555.4551C280.6378,-2547.3828 279.5741,-2537.6764 278.5884,-2528.6817\" fill=\"none\" stroke=\"#000000\"/>\n<polygon fill=\"#000000\" points=\"282.0511,-2528.1495 277.4825,-2518.5904 275.0928,-2528.9122 282.0511,-2528.1495\" stroke=\"#000000\"/>\n</g>\n<!-- 140325417028912 -->\n<g class=\"node\" id=\"node100\">\n<title>140325417028912</title>\n<polygon fill=\"none\" points=\"168,-2409.5 168,-2445.5 383,-2445.5 383,-2409.5 168,-2409.5\" stroke=\"#000000\"/>\n<text fill=\"#000000\" font-family=\"Times,serif\" font-size=\"14.00\" text-anchor=\"middle\" x=\"275.5\" y=\"-2423.8\">block11_sepconv2_act: Activation</text>\n</g>\n<!-- 140325417431504&#45;&gt;140325417028912 -->\n<g class=\"edge\" id=\"edge108\">\n<title>140325417431504-&gt;140325417028912</title>\n<path d=\"M275.5,-2482.4551C275.5,-2474.3828 275.5,-2464.6764 275.5,-2455.6817\" fill=\"none\" stroke=\"#000000\"/>\n<polygon fill=\"#000000\" points=\"279.0001,-2455.5903 275.5,-2445.5904 272.0001,-2455.5904 279.0001,-2455.5903\" stroke=\"#000000\"/>\n</g>\n<!-- 140325417028968 -->\n<g class=\"node\" id=\"node101\">\n<title>140325417028968</title>\n<polygon fill=\"none\" points=\"156,-2336.5 156,-2372.5 395,-2372.5 395,-2336.5 156,-2336.5\" stroke=\"#000000\"/>\n<text fill=\"#000000\" font-family=\"Times,serif\" font-size=\"14.00\" text-anchor=\"middle\" x=\"275.5\" y=\"-2350.8\">block11_sepconv2: SeparableConv2D</text>\n</g>\n<!-- 140325417028912&#45;&gt;140325417028968 -->\n<g class=\"edge\" id=\"edge109\">\n<title>140325417028912-&gt;140325417028968</title>\n<path d=\"M275.5,-2409.4551C275.5,-2401.3828 275.5,-2391.6764 275.5,-2382.6817\" fill=\"none\" stroke=\"#000000\"/>\n<polygon fill=\"#000000\" points=\"279.0001,-2382.5903 275.5,-2372.5904 272.0001,-2382.5904 279.0001,-2382.5903\" stroke=\"#000000\"/>\n</g>\n<!-- 140325417106400 -->\n<g class=\"node\" id=\"node102\">\n<title>140325417106400</title>\n<polygon fill=\"none\" points=\"140.5,-2263.5 140.5,-2299.5 410.5,-2299.5 410.5,-2263.5 140.5,-2263.5\" stroke=\"#000000\"/>\n<text fill=\"#000000\" font-family=\"Times,serif\" font-size=\"14.00\" text-anchor=\"middle\" x=\"275.5\" y=\"-2277.8\">block11_sepconv2_bn: BatchNormalization</text>\n</g>\n<!-- 140325417028968&#45;&gt;140325417106400 -->\n<g class=\"edge\" id=\"edge110\">\n<title>140325417028968-&gt;140325417106400</title>\n<path d=\"M275.5,-2336.4551C275.5,-2328.3828 275.5,-2318.6764 275.5,-2309.6817\" fill=\"none\" stroke=\"#000000\"/>\n<polygon fill=\"#000000\" points=\"279.0001,-2309.5903 275.5,-2299.5904 272.0001,-2309.5904 279.0001,-2309.5903\" stroke=\"#000000\"/>\n</g>\n<!-- 140325416705552 -->\n<g class=\"node\" id=\"node103\">\n<title>140325416705552</title>\n<polygon fill=\"none\" points=\"168,-2190.5 168,-2226.5 383,-2226.5 383,-2190.5 168,-2190.5\" stroke=\"#000000\"/>\n<text fill=\"#000000\" font-family=\"Times,serif\" font-size=\"14.00\" text-anchor=\"middle\" x=\"275.5\" y=\"-2204.8\">block11_sepconv3_act: Activation</text>\n</g>\n<!-- 140325417106400&#45;&gt;140325416705552 -->\n<g class=\"edge\" id=\"edge111\">\n<title>140325417106400-&gt;140325416705552</title>\n<path d=\"M275.5,-2263.4551C275.5,-2255.3828 275.5,-2245.6764 275.5,-2236.6817\" fill=\"none\" stroke=\"#000000\"/>\n<polygon fill=\"#000000\" points=\"279.0001,-2236.5903 275.5,-2226.5904 272.0001,-2236.5904 279.0001,-2236.5903\" stroke=\"#000000\"/>\n</g>\n<!-- 140325416705664 -->\n<g class=\"node\" id=\"node104\">\n<title>140325416705664</title>\n<polygon fill=\"none\" points=\"156,-2117.5 156,-2153.5 395,-2153.5 395,-2117.5 156,-2117.5\" stroke=\"#000000\"/>\n<text fill=\"#000000\" font-family=\"Times,serif\" font-size=\"14.00\" text-anchor=\"middle\" x=\"275.5\" y=\"-2131.8\">block11_sepconv3: SeparableConv2D</text>\n</g>\n<!-- 140325416705552&#45;&gt;140325416705664 -->\n<g class=\"edge\" id=\"edge112\">\n<title>140325416705552-&gt;140325416705664</title>\n<path d=\"M275.5,-2190.4551C275.5,-2182.3828 275.5,-2172.6764 275.5,-2163.6817\" fill=\"none\" stroke=\"#000000\"/>\n<polygon fill=\"#000000\" points=\"279.0001,-2163.5903 275.5,-2153.5904 272.0001,-2163.5904 279.0001,-2163.5903\" stroke=\"#000000\"/>\n</g>\n<!-- 140325416786072 -->\n<g class=\"node\" id=\"node105\">\n<title>140325416786072</title>\n<polygon fill=\"none\" points=\"140.5,-2044.5 140.5,-2080.5 410.5,-2080.5 410.5,-2044.5 140.5,-2044.5\" stroke=\"#000000\"/>\n<text fill=\"#000000\" font-family=\"Times,serif\" font-size=\"14.00\" text-anchor=\"middle\" x=\"275.5\" y=\"-2058.8\">block11_sepconv3_bn: BatchNormalization</text>\n</g>\n<!-- 140325416705664&#45;&gt;140325416786072 -->\n<g class=\"edge\" id=\"edge113\">\n<title>140325416705664-&gt;140325416786072</title>\n<path d=\"M275.5,-2117.4551C275.5,-2109.3828 275.5,-2099.6764 275.5,-2090.6817\" fill=\"none\" stroke=\"#000000\"/>\n<polygon fill=\"#000000\" points=\"279.0001,-2090.5903 275.5,-2080.5904 272.0001,-2090.5904 279.0001,-2090.5903\" stroke=\"#000000\"/>\n</g>\n<!-- 140325416786072&#45;&gt;140325416913160 -->\n<g class=\"edge\" id=\"edge114\">\n<title>140325416786072-&gt;140325416913160</title>\n<path d=\"M295.5225,-2044.4551C305.5502,-2035.4177 317.8509,-2024.3319 328.7714,-2014.4899\" fill=\"none\" stroke=\"#000000\"/>\n<polygon fill=\"#000000\" points=\"331.3419,-2016.885 336.4271,-2007.5904 326.6556,-2011.6852 331.3419,-2016.885\" stroke=\"#000000\"/>\n</g>\n<!-- 140325417338696 -->\n<g class=\"node\" id=\"node107\">\n<title>140325417338696</title>\n<polygon fill=\"none\" points=\"180.5,-1898.5 180.5,-1934.5 396.5,-1934.5 396.5,-1898.5 180.5,-1898.5\" stroke=\"#000000\"/>\n<text fill=\"#000000\" font-family=\"Times,serif\" font-size=\"14.00\" text-anchor=\"middle\" x=\"288.5\" y=\"-1912.8\">block12_sepconv1_act: Activation</text>\n</g>\n<!-- 140325416913160&#45;&gt;140325417338696 -->\n<g class=\"edge\" id=\"edge116\">\n<title>140325416913160-&gt;140325417338696</title>\n<path d=\"M339.691,-1971.4551C331.4361,-1962.5932 321.3465,-1951.7616 312.3136,-1942.0646\" fill=\"none\" stroke=\"#000000\"/>\n<polygon fill=\"#000000\" points=\"314.7284,-1939.522 305.3513,-1934.5904 309.6063,-1944.2932 314.7284,-1939.522\" stroke=\"#000000\"/>\n</g>\n<!-- 140325415963168 -->\n<g class=\"node\" id=\"node116\">\n<title>140325415963168</title>\n<polygon fill=\"none\" points=\"306.5,-1241.5 306.5,-1277.5 398.5,-1277.5 398.5,-1241.5 306.5,-1241.5\" stroke=\"#000000\"/>\n<text fill=\"#000000\" font-family=\"Times,serif\" font-size=\"14.00\" text-anchor=\"middle\" x=\"352.5\" y=\"-1255.8\">add_35: Add</text>\n</g>\n<!-- 140325416913160&#45;&gt;140325415963168 -->\n<g class=\"edge\" id=\"edge126\">\n<title>140325416913160-&gt;140325415963168</title>\n<path d=\"M376.3858,-1971.4106C386.3023,-1961.4833 397.7921,-1948.4741 405.5,-1935 426.6828,-1897.9704 434.5,-1886.1603 434.5,-1843.5 434.5,-1843.5 434.5,-1843.5 434.5,-1405.5 434.5,-1363.9658 436.5391,-1349.8112 415.5,-1314 408.7946,-1302.5865 398.8304,-1292.3676 388.7949,-1283.948\" fill=\"none\" stroke=\"#000000\"/>\n<polygon fill=\"#000000\" points=\"390.8,-1281.0709 380.7922,-1277.5929 386.4468,-1286.5527 390.8,-1281.0709\" stroke=\"#000000\"/>\n</g>\n<!-- 140325416913104 -->\n<g class=\"node\" id=\"node108\">\n<title>140325416913104</title>\n<polygon fill=\"none\" points=\"159,-1825.5 159,-1861.5 398,-1861.5 398,-1825.5 159,-1825.5\" stroke=\"#000000\"/>\n<text fill=\"#000000\" font-family=\"Times,serif\" font-size=\"14.00\" text-anchor=\"middle\" x=\"278.5\" y=\"-1839.8\">block12_sepconv1: SeparableConv2D</text>\n</g>\n<!-- 140325417338696&#45;&gt;140325416913104 -->\n<g class=\"edge\" id=\"edge117\">\n<title>140325417338696-&gt;140325416913104</title>\n<path d=\"M286.0281,-1898.4551C284.9223,-1890.3828 283.5927,-1880.6764 282.3605,-1871.6817\" fill=\"none\" stroke=\"#000000\"/>\n<polygon fill=\"#000000\" points=\"285.803,-1871.0228 280.9781,-1861.5904 278.8678,-1871.9729 285.803,-1871.0228\" stroke=\"#000000\"/>\n</g>\n<!-- 140325416481176 -->\n<g class=\"node\" id=\"node109\">\n<title>140325416481176</title>\n<polygon fill=\"none\" points=\"135,-1752.5 135,-1788.5 406,-1788.5 406,-1752.5 135,-1752.5\" stroke=\"#000000\"/>\n<text fill=\"#000000\" font-family=\"Times,serif\" font-size=\"14.00\" text-anchor=\"middle\" x=\"270.5\" y=\"-1766.8\">block12_sepconv1_bn: BatchNormalization</text>\n</g>\n<!-- 140325416913104&#45;&gt;140325416481176 -->\n<g class=\"edge\" id=\"edge118\">\n<title>140325416913104-&gt;140325416481176</title>\n<path d=\"M276.5225,-1825.4551C275.6378,-1817.3828 274.5741,-1807.6764 273.5884,-1798.6817\" fill=\"none\" stroke=\"#000000\"/>\n<polygon fill=\"#000000\" points=\"277.0511,-1798.1495 272.4825,-1788.5904 270.0928,-1798.9122 277.0511,-1798.1495\" stroke=\"#000000\"/>\n</g>\n<!-- 140325416607304 -->\n<g class=\"node\" id=\"node110\">\n<title>140325416607304</title>\n<polygon fill=\"none\" points=\"162.5,-1679.5 162.5,-1715.5 378.5,-1715.5 378.5,-1679.5 162.5,-1679.5\" stroke=\"#000000\"/>\n<text fill=\"#000000\" font-family=\"Times,serif\" font-size=\"14.00\" text-anchor=\"middle\" x=\"270.5\" y=\"-1693.8\">block12_sepconv2_act: Activation</text>\n</g>\n<!-- 140325416481176&#45;&gt;140325416607304 -->\n<g class=\"edge\" id=\"edge119\">\n<title>140325416481176-&gt;140325416607304</title>\n<path d=\"M270.5,-1752.4551C270.5,-1744.3828 270.5,-1734.6764 270.5,-1725.6817\" fill=\"none\" stroke=\"#000000\"/>\n<polygon fill=\"#000000\" points=\"274.0001,-1725.5903 270.5,-1715.5904 267.0001,-1725.5904 274.0001,-1725.5903\" stroke=\"#000000\"/>\n</g>\n<!-- 140325416607360 -->\n<g class=\"node\" id=\"node111\">\n<title>140325416607360</title>\n<polygon fill=\"none\" points=\"151,-1606.5 151,-1642.5 390,-1642.5 390,-1606.5 151,-1606.5\" stroke=\"#000000\"/>\n<text fill=\"#000000\" font-family=\"Times,serif\" font-size=\"14.00\" text-anchor=\"middle\" x=\"270.5\" y=\"-1620.8\">block12_sepconv2: SeparableConv2D</text>\n</g>\n<!-- 140325416607304&#45;&gt;140325416607360 -->\n<g class=\"edge\" id=\"edge120\">\n<title>140325416607304-&gt;140325416607360</title>\n<path d=\"M270.5,-1679.4551C270.5,-1671.3828 270.5,-1661.6764 270.5,-1652.6817\" fill=\"none\" stroke=\"#000000\"/>\n<polygon fill=\"#000000\" points=\"274.0001,-1652.5903 270.5,-1642.5904 267.0001,-1652.5904 274.0001,-1652.5903\" stroke=\"#000000\"/>\n</g>\n<!-- 140325416164600 -->\n<g class=\"node\" id=\"node112\">\n<title>140325416164600</title>\n<polygon fill=\"none\" points=\"135,-1533.5 135,-1569.5 406,-1569.5 406,-1533.5 135,-1533.5\" stroke=\"#000000\"/>\n<text fill=\"#000000\" font-family=\"Times,serif\" font-size=\"14.00\" text-anchor=\"middle\" x=\"270.5\" y=\"-1547.8\">block12_sepconv2_bn: BatchNormalization</text>\n</g>\n<!-- 140325416607360&#45;&gt;140325416164600 -->\n<g class=\"edge\" id=\"edge121\">\n<title>140325416607360-&gt;140325416164600</title>\n<path d=\"M270.5,-1606.4551C270.5,-1598.3828 270.5,-1588.6764 270.5,-1579.6817\" fill=\"none\" stroke=\"#000000\"/>\n<polygon fill=\"#000000\" points=\"274.0001,-1579.5903 270.5,-1569.5904 267.0001,-1579.5904 274.0001,-1579.5903\" stroke=\"#000000\"/>\n</g>\n<!-- 140325416275752 -->\n<g class=\"node\" id=\"node113\">\n<title>140325416275752</title>\n<polygon fill=\"none\" points=\"162.5,-1460.5 162.5,-1496.5 378.5,-1496.5 378.5,-1460.5 162.5,-1460.5\" stroke=\"#000000\"/>\n<text fill=\"#000000\" font-family=\"Times,serif\" font-size=\"14.00\" text-anchor=\"middle\" x=\"270.5\" y=\"-1474.8\">block12_sepconv3_act: Activation</text>\n</g>\n<!-- 140325416164600&#45;&gt;140325416275752 -->\n<g class=\"edge\" id=\"edge122\">\n<title>140325416164600-&gt;140325416275752</title>\n<path d=\"M270.5,-1533.4551C270.5,-1525.3828 270.5,-1515.6764 270.5,-1506.6817\" fill=\"none\" stroke=\"#000000\"/>\n<polygon fill=\"#000000\" points=\"274.0001,-1506.5903 270.5,-1496.5904 267.0001,-1506.5904 274.0001,-1506.5903\" stroke=\"#000000\"/>\n</g>\n<!-- 140325416275864 -->\n<g class=\"node\" id=\"node114\">\n<title>140325416275864</title>\n<polygon fill=\"none\" points=\"151,-1387.5 151,-1423.5 390,-1423.5 390,-1387.5 151,-1387.5\" stroke=\"#000000\"/>\n<text fill=\"#000000\" font-family=\"Times,serif\" font-size=\"14.00\" text-anchor=\"middle\" x=\"270.5\" y=\"-1401.8\">block12_sepconv3: SeparableConv2D</text>\n</g>\n<!-- 140325416275752&#45;&gt;140325416275864 -->\n<g class=\"edge\" id=\"edge123\">\n<title>140325416275752-&gt;140325416275864</title>\n<path d=\"M270.5,-1460.4551C270.5,-1452.3828 270.5,-1442.6764 270.5,-1433.6817\" fill=\"none\" stroke=\"#000000\"/>\n<polygon fill=\"#000000\" points=\"274.0001,-1433.5903 270.5,-1423.5904 267.0001,-1433.5904 274.0001,-1433.5903\" stroke=\"#000000\"/>\n</g>\n<!-- 140325416384944 -->\n<g class=\"node\" id=\"node115\">\n<title>140325416384944</title>\n<polygon fill=\"none\" points=\"135,-1314.5 135,-1350.5 406,-1350.5 406,-1314.5 135,-1314.5\" stroke=\"#000000\"/>\n<text fill=\"#000000\" font-family=\"Times,serif\" font-size=\"14.00\" text-anchor=\"middle\" x=\"270.5\" y=\"-1328.8\">block12_sepconv3_bn: BatchNormalization</text>\n</g>\n<!-- 140325416275864&#45;&gt;140325416384944 -->\n<g class=\"edge\" id=\"edge124\">\n<title>140325416275864-&gt;140325416384944</title>\n<path d=\"M270.5,-1387.4551C270.5,-1379.3828 270.5,-1369.6764 270.5,-1360.6817\" fill=\"none\" stroke=\"#000000\"/>\n<polygon fill=\"#000000\" points=\"274.0001,-1360.5903 270.5,-1350.5904 267.0001,-1360.5904 274.0001,-1360.5903\" stroke=\"#000000\"/>\n</g>\n<!-- 140325416384944&#45;&gt;140325415963168 -->\n<g class=\"edge\" id=\"edge125\">\n<title>140325416384944-&gt;140325415963168</title>\n<path d=\"M290.7697,-1314.4551C300.9212,-1305.4177 313.3738,-1294.3319 324.4291,-1284.4899\" fill=\"none\" stroke=\"#000000\"/>\n<polygon fill=\"#000000\" points=\"327.0375,-1286.8539 332.1793,-1277.5904 322.383,-1281.6255 327.0375,-1286.8539\" stroke=\"#000000\"/>\n</g>\n<!-- 140325416098672 -->\n<g class=\"node\" id=\"node117\">\n<title>140325416098672</title>\n<polygon fill=\"none\" points=\"176.5,-1168.5 176.5,-1204.5 392.5,-1204.5 392.5,-1168.5 176.5,-1168.5\" stroke=\"#000000\"/>\n<text fill=\"#000000\" font-family=\"Times,serif\" font-size=\"14.00\" text-anchor=\"middle\" x=\"284.5\" y=\"-1182.8\">block13_sepconv1_act: Activation</text>\n</g>\n<!-- 140325415963168&#45;&gt;140325416098672 -->\n<g class=\"edge\" id=\"edge127\">\n<title>140325415963168-&gt;140325416098672</title>\n<path d=\"M335.691,-1241.4551C327.4361,-1232.5932 317.3465,-1221.7616 308.3136,-1212.0646\" fill=\"none\" stroke=\"#000000\"/>\n<polygon fill=\"#000000\" points=\"310.7284,-1209.522 301.3513,-1204.5904 305.6063,-1214.2932 310.7284,-1209.522\" stroke=\"#000000\"/>\n</g>\n<!-- 140325415963784 -->\n<g class=\"node\" id=\"node123\">\n<title>140325415963784</title>\n<polygon fill=\"none\" points=\"407.5,-1095.5 407.5,-1131.5 547.5,-1131.5 547.5,-1095.5 407.5,-1095.5\" stroke=\"#000000\"/>\n<text fill=\"#000000\" font-family=\"Times,serif\" font-size=\"14.00\" text-anchor=\"middle\" x=\"477.5\" y=\"-1109.8\">conv2d_12: Conv2D</text>\n</g>\n<!-- 140325415963168&#45;&gt;140325415963784 -->\n<g class=\"edge\" id=\"edge133\">\n<title>140325415963168-&gt;140325415963784</title>\n<path d=\"M369.0129,-1241.4916C378.6005,-1230.9471 390.8505,-1217.3221 401.5,-1205 420.3527,-1183.1864 441.247,-1157.9505 456.3485,-1139.5135\" fill=\"none\" stroke=\"#000000\"/>\n<polygon fill=\"#000000\" points=\"459.2327,-1141.5153 462.8512,-1131.5575 453.8127,-1137.0853 459.2327,-1141.5153\" stroke=\"#000000\"/>\n</g>\n<!-- 140325415667080 -->\n<g class=\"node\" id=\"node118\">\n<title>140325415667080</title>\n<polygon fill=\"none\" points=\"129,-1095.5 129,-1131.5 368,-1131.5 368,-1095.5 129,-1095.5\" stroke=\"#000000\"/>\n<text fill=\"#000000\" font-family=\"Times,serif\" font-size=\"14.00\" text-anchor=\"middle\" x=\"248.5\" y=\"-1109.8\">block13_sepconv1: SeparableConv2D</text>\n</g>\n<!-- 140325416098672&#45;&gt;140325415667080 -->\n<g class=\"edge\" id=\"edge128\">\n<title>140325416098672-&gt;140325415667080</title>\n<path d=\"M275.6011,-1168.4551C271.4905,-1160.1196 266.5205,-1150.0416 261.9651,-1140.8042\" fill=\"none\" stroke=\"#000000\"/>\n<polygon fill=\"#000000\" points=\"264.9833,-1139.011 257.4213,-1131.5904 258.7052,-1142.1071 264.9833,-1139.011\" stroke=\"#000000\"/>\n</g>\n<!-- 140325415737216 -->\n<g class=\"node\" id=\"node119\">\n<title>140325415737216</title>\n<polygon fill=\"none\" points=\"71,-1022.5 71,-1058.5 342,-1058.5 342,-1022.5 71,-1022.5\" stroke=\"#000000\"/>\n<text fill=\"#000000\" font-family=\"Times,serif\" font-size=\"14.00\" text-anchor=\"middle\" x=\"206.5\" y=\"-1036.8\">block13_sepconv1_bn: BatchNormalization</text>\n</g>\n<!-- 140325415667080&#45;&gt;140325415737216 -->\n<g class=\"edge\" id=\"edge129\">\n<title>140325415667080-&gt;140325415737216</title>\n<path d=\"M238.118,-1095.4551C233.2718,-1087.0319 227.4018,-1076.8292 222.0416,-1067.5128\" fill=\"none\" stroke=\"#000000\"/>\n<polygon fill=\"#000000\" points=\"224.9289,-1065.5127 216.9082,-1058.5904 218.8614,-1069.0036 224.9289,-1065.5127\" stroke=\"#000000\"/>\n</g>\n<!-- 140325415860824 -->\n<g class=\"node\" id=\"node120\">\n<title>140325415860824</title>\n<polygon fill=\"none\" points=\"162.5,-949.5 162.5,-985.5 378.5,-985.5 378.5,-949.5 162.5,-949.5\" stroke=\"#000000\"/>\n<text fill=\"#000000\" font-family=\"Times,serif\" font-size=\"14.00\" text-anchor=\"middle\" x=\"270.5\" y=\"-963.8\">block13_sepconv2_act: Activation</text>\n</g>\n<!-- 140325415737216&#45;&gt;140325415860824 -->\n<g class=\"edge\" id=\"edge130\">\n<title>140325415737216-&gt;140325415860824</title>\n<path d=\"M222.3202,-1022.4551C230.0126,-1013.6809 239.3978,-1002.9759 247.8344,-993.353\" fill=\"none\" stroke=\"#000000\"/>\n<polygon fill=\"#000000\" points=\"250.6794,-995.4171 254.64,-985.5904 245.4158,-990.8024 250.6794,-995.4171\" stroke=\"#000000\"/>\n</g>\n<!-- 140325415860096 -->\n<g class=\"node\" id=\"node121\">\n<title>140325415860096</title>\n<polygon fill=\"none\" points=\"183,-876.5 183,-912.5 422,-912.5 422,-876.5 183,-876.5\" stroke=\"#000000\"/>\n<text fill=\"#000000\" font-family=\"Times,serif\" font-size=\"14.00\" text-anchor=\"middle\" x=\"302.5\" y=\"-890.8\">block13_sepconv2: SeparableConv2D</text>\n</g>\n<!-- 140325415860824&#45;&gt;140325415860096 -->\n<g class=\"edge\" id=\"edge131\">\n<title>140325415860824-&gt;140325415860096</title>\n<path d=\"M278.4101,-949.4551C282.064,-941.1196 286.4818,-931.0416 290.531,-921.8042\" fill=\"none\" stroke=\"#000000\"/>\n<polygon fill=\"#000000\" points=\"293.7607,-923.1542 294.57,-912.5904 287.3496,-920.3439 293.7607,-923.1542\" stroke=\"#000000\"/>\n</g>\n<!-- 140325415874632 -->\n<g class=\"node\" id=\"node122\">\n<title>140325415874632</title>\n<polygon fill=\"none\" points=\"183,-803.5 183,-839.5 454,-839.5 454,-803.5 183,-803.5\" stroke=\"#000000\"/>\n<text fill=\"#000000\" font-family=\"Times,serif\" font-size=\"14.00\" text-anchor=\"middle\" x=\"318.5\" y=\"-817.8\">block13_sepconv2_bn: BatchNormalization</text>\n</g>\n<!-- 140325415860096&#45;&gt;140325415874632 -->\n<g class=\"edge\" id=\"edge132\">\n<title>140325415860096-&gt;140325415874632</title>\n<path d=\"M306.4551,-876.4551C308.2435,-868.2951 310.398,-858.4652 312.3874,-849.3887\" fill=\"none\" stroke=\"#000000\"/>\n<polygon fill=\"#000000\" points=\"315.8128,-850.1079 314.535,-839.5904 308.9751,-848.6091 315.8128,-850.1079\" stroke=\"#000000\"/>\n</g>\n<!-- 140325412105744 -->\n<g class=\"node\" id=\"node124\">\n<title>140325412105744</title>\n<polygon fill=\"none\" points=\"249,-730.5 249,-766.5 444,-766.5 444,-730.5 249,-730.5\" stroke=\"#000000\"/>\n<text fill=\"#000000\" font-family=\"Times,serif\" font-size=\"14.00\" text-anchor=\"middle\" x=\"346.5\" y=\"-744.8\">block13_pool: MaxPooling2D</text>\n</g>\n<!-- 140325415874632&#45;&gt;140325412105744 -->\n<g class=\"edge\" id=\"edge134\">\n<title>140325415874632-&gt;140325412105744</title>\n<path d=\"M325.4214,-803.4551C328.5849,-795.2074 332.4027,-785.2536 335.9152,-776.0962\" fill=\"none\" stroke=\"#000000\"/>\n<polygon fill=\"#000000\" points=\"339.2478,-777.1806 339.5612,-766.5904 332.7121,-774.6737 339.2478,-777.1806\" stroke=\"#000000\"/>\n</g>\n<!-- 140325416068264 -->\n<g class=\"node\" id=\"node125\">\n<title>140325416068264</title>\n<polygon fill=\"none\" points=\"360.5,-1022.5 360.5,-1058.5 638.5,-1058.5 638.5,-1022.5 360.5,-1022.5\" stroke=\"#000000\"/>\n<text fill=\"#000000\" font-family=\"Times,serif\" font-size=\"14.00\" text-anchor=\"middle\" x=\"499.5\" y=\"-1036.8\">batch_normalization_12: BatchNormalization</text>\n</g>\n<!-- 140325415963784&#45;&gt;140325416068264 -->\n<g class=\"edge\" id=\"edge135\">\n<title>140325415963784-&gt;140325416068264</title>\n<path d=\"M482.9382,-1095.4551C485.3974,-1087.2951 488.3598,-1077.4652 491.0952,-1068.3887\" fill=\"none\" stroke=\"#000000\"/>\n<polygon fill=\"#000000\" points=\"494.5137,-1069.175 494.0481,-1058.5904 487.8114,-1067.1551 494.5137,-1069.175\" stroke=\"#000000\"/>\n</g>\n<!-- 140325412131448 -->\n<g class=\"node\" id=\"node126\">\n<title>140325412131448</title>\n<polygon fill=\"none\" points=\"362.5,-657.5 362.5,-693.5 454.5,-693.5 454.5,-657.5 362.5,-657.5\" stroke=\"#000000\"/>\n<text fill=\"#000000\" font-family=\"Times,serif\" font-size=\"14.00\" text-anchor=\"middle\" x=\"408.5\" y=\"-671.8\">add_36: Add</text>\n</g>\n<!-- 140325412105744&#45;&gt;140325412131448 -->\n<g class=\"edge\" id=\"edge136\">\n<title>140325412105744-&gt;140325412131448</title>\n<path d=\"M361.8258,-730.4551C369.2779,-721.6809 378.3698,-710.9759 386.5427,-701.353\" fill=\"none\" stroke=\"#000000\"/>\n<polygon fill=\"#000000\" points=\"389.3298,-703.4781 393.1356,-693.5904 383.9944,-698.9466 389.3298,-703.4781\" stroke=\"#000000\"/>\n</g>\n<!-- 140325416068264&#45;&gt;140325412131448 -->\n<g class=\"edge\" id=\"edge137\">\n<title>140325416068264-&gt;140325412131448</title>\n<path d=\"M497.6352,-1022.0845C494.999,-994.4173 490.5,-940.4656 490.5,-894.5 490.5,-894.5 490.5,-894.5 490.5,-821.5 490.5,-774.6666 458.0278,-728.9601 433.952,-701.5084\" fill=\"none\" stroke=\"#000000\"/>\n<polygon fill=\"#000000\" points=\"436.407,-699.0047 427.1071,-693.9291 431.2119,-703.6964 436.407,-699.0047\" stroke=\"#000000\"/>\n</g>\n<!-- 140325412133520 -->\n<g class=\"node\" id=\"node127\">\n<title>140325412133520</title>\n<polygon fill=\"none\" points=\"289,-584.5 289,-620.5 528,-620.5 528,-584.5 289,-584.5\" stroke=\"#000000\"/>\n<text fill=\"#000000\" font-family=\"Times,serif\" font-size=\"14.00\" text-anchor=\"middle\" x=\"408.5\" y=\"-598.8\">block14_sepconv1: SeparableConv2D</text>\n</g>\n<!-- 140325412131448&#45;&gt;140325412133520 -->\n<g class=\"edge\" id=\"edge138\">\n<title>140325412131448-&gt;140325412133520</title>\n<path d=\"M408.5,-657.4551C408.5,-649.3828 408.5,-639.6764 408.5,-630.6817\" fill=\"none\" stroke=\"#000000\"/>\n<polygon fill=\"#000000\" points=\"412.0001,-630.5903 408.5,-620.5904 405.0001,-630.5904 412.0001,-630.5903\" stroke=\"#000000\"/>\n</g>\n<!-- 140325412200008 -->\n<g class=\"node\" id=\"node128\">\n<title>140325412200008</title>\n<polygon fill=\"none\" points=\"273,-511.5 273,-547.5 544,-547.5 544,-511.5 273,-511.5\" stroke=\"#000000\"/>\n<text fill=\"#000000\" font-family=\"Times,serif\" font-size=\"14.00\" text-anchor=\"middle\" x=\"408.5\" y=\"-525.8\">block14_sepconv1_bn: BatchNormalization</text>\n</g>\n<!-- 140325412133520&#45;&gt;140325412200008 -->\n<g class=\"edge\" id=\"edge139\">\n<title>140325412133520-&gt;140325412200008</title>\n<path d=\"M408.5,-584.4551C408.5,-576.3828 408.5,-566.6764 408.5,-557.6817\" fill=\"none\" stroke=\"#000000\"/>\n<polygon fill=\"#000000\" points=\"412.0001,-557.5903 408.5,-547.5904 405.0001,-557.5904 412.0001,-557.5903\" stroke=\"#000000\"/>\n</g>\n<!-- 140325406305920 -->\n<g class=\"node\" id=\"node129\">\n<title>140325406305920</title>\n<polygon fill=\"none\" points=\"300.5,-438.5 300.5,-474.5 516.5,-474.5 516.5,-438.5 300.5,-438.5\" stroke=\"#000000\"/>\n<text fill=\"#000000\" font-family=\"Times,serif\" font-size=\"14.00\" text-anchor=\"middle\" x=\"408.5\" y=\"-452.8\">block14_sepconv1_act: Activation</text>\n</g>\n<!-- 140325412200008&#45;&gt;140325406305920 -->\n<g class=\"edge\" id=\"edge140\">\n<title>140325412200008-&gt;140325406305920</title>\n<path d=\"M408.5,-511.4551C408.5,-503.3828 408.5,-493.6764 408.5,-484.6817\" fill=\"none\" stroke=\"#000000\"/>\n<polygon fill=\"#000000\" points=\"412.0001,-484.5903 408.5,-474.5904 405.0001,-484.5904 412.0001,-484.5903\" stroke=\"#000000\"/>\n</g>\n<!-- 140325406306032 -->\n<g class=\"node\" id=\"node130\">\n<title>140325406306032</title>\n<polygon fill=\"none\" points=\"289,-365.5 289,-401.5 528,-401.5 528,-365.5 289,-365.5\" stroke=\"#000000\"/>\n<text fill=\"#000000\" font-family=\"Times,serif\" font-size=\"14.00\" text-anchor=\"middle\" x=\"408.5\" y=\"-379.8\">block14_sepconv2: SeparableConv2D</text>\n</g>\n<!-- 140325406305920&#45;&gt;140325406306032 -->\n<g class=\"edge\" id=\"edge141\">\n<title>140325406305920-&gt;140325406306032</title>\n<path d=\"M408.5,-438.4551C408.5,-430.3828 408.5,-420.6764 408.5,-411.6817\" fill=\"none\" stroke=\"#000000\"/>\n<polygon fill=\"#000000\" points=\"412.0001,-411.5903 408.5,-401.5904 405.0001,-411.5904 412.0001,-411.5903\" stroke=\"#000000\"/>\n</g>\n<!-- 140325406402824 -->\n<g class=\"node\" id=\"node131\">\n<title>140325406402824</title>\n<polygon fill=\"none\" points=\"273,-292.5 273,-328.5 544,-328.5 544,-292.5 273,-292.5\" stroke=\"#000000\"/>\n<text fill=\"#000000\" font-family=\"Times,serif\" font-size=\"14.00\" text-anchor=\"middle\" x=\"408.5\" y=\"-306.8\">block14_sepconv2_bn: BatchNormalization</text>\n</g>\n<!-- 140325406306032&#45;&gt;140325406402824 -->\n<g class=\"edge\" id=\"edge142\">\n<title>140325406306032-&gt;140325406402824</title>\n<path d=\"M408.5,-365.4551C408.5,-357.3828 408.5,-347.6764 408.5,-338.6817\" fill=\"none\" stroke=\"#000000\"/>\n<polygon fill=\"#000000\" points=\"412.0001,-338.5903 408.5,-328.5904 405.0001,-338.5904 412.0001,-338.5903\" stroke=\"#000000\"/>\n</g>\n<!-- 140325405997432 -->\n<g class=\"node\" id=\"node132\">\n<title>140325405997432</title>\n<polygon fill=\"none\" points=\"300.5,-219.5 300.5,-255.5 516.5,-255.5 516.5,-219.5 300.5,-219.5\" stroke=\"#000000\"/>\n<text fill=\"#000000\" font-family=\"Times,serif\" font-size=\"14.00\" text-anchor=\"middle\" x=\"408.5\" y=\"-233.8\">block14_sepconv2_act: Activation</text>\n</g>\n<!-- 140325406402824&#45;&gt;140325405997432 -->\n<g class=\"edge\" id=\"edge143\">\n<title>140325406402824-&gt;140325405997432</title>\n<path d=\"M408.5,-292.4551C408.5,-284.3828 408.5,-274.6764 408.5,-265.6817\" fill=\"none\" stroke=\"#000000\"/>\n<polygon fill=\"#000000\" points=\"412.0001,-265.5903 408.5,-255.5904 405.0001,-265.5904 412.0001,-265.5903\" stroke=\"#000000\"/>\n</g>\n<!-- 140325405881400 -->\n<g class=\"node\" id=\"node133\">\n<title>140325405881400</title>\n<polygon fill=\"none\" points=\"233,-146.5 233,-182.5 584,-182.5 584,-146.5 233,-146.5\" stroke=\"#000000\"/>\n<text fill=\"#000000\" font-family=\"Times,serif\" font-size=\"14.00\" text-anchor=\"middle\" x=\"408.5\" y=\"-160.8\">global_average_pooling2d_12: GlobalAveragePooling2D</text>\n</g>\n<!-- 140325405997432&#45;&gt;140325405881400 -->\n<g class=\"edge\" id=\"edge144\">\n<title>140325405997432-&gt;140325405881400</title>\n<path d=\"M408.5,-219.4551C408.5,-211.3828 408.5,-201.6764 408.5,-192.6817\" fill=\"none\" stroke=\"#000000\"/>\n<polygon fill=\"#000000\" points=\"412.0001,-192.5903 408.5,-182.5904 405.0001,-192.5904 412.0001,-192.5903\" stroke=\"#000000\"/>\n</g>\n<!-- 140325405881624 -->\n<g class=\"node\" id=\"node134\">\n<title>140325405881624</title>\n<polygon fill=\"none\" points=\"351.5,-73.5 351.5,-109.5 465.5,-109.5 465.5,-73.5 351.5,-73.5\" stroke=\"#000000\"/>\n<text fill=\"#000000\" font-family=\"Times,serif\" font-size=\"14.00\" text-anchor=\"middle\" x=\"408.5\" y=\"-87.8\">dense_23: Dense</text>\n</g>\n<!-- 140325405881400&#45;&gt;140325405881624 -->\n<g class=\"edge\" id=\"edge145\">\n<title>140325405881400-&gt;140325405881624</title>\n<path d=\"M408.5,-146.4551C408.5,-138.3828 408.5,-128.6764 408.5,-119.6817\" fill=\"none\" stroke=\"#000000\"/>\n<polygon fill=\"#000000\" points=\"412.0001,-119.5903 408.5,-109.5904 405.0001,-119.5904 412.0001,-119.5903\" stroke=\"#000000\"/>\n</g>\n<!-- 140325405881904 -->\n<g class=\"node\" id=\"node135\">\n<title>140325405881904</title>\n<polygon fill=\"none\" points=\"351.5,-.5 351.5,-36.5 465.5,-36.5 465.5,-.5 351.5,-.5\" stroke=\"#000000\"/>\n<text fill=\"#000000\" font-family=\"Times,serif\" font-size=\"14.00\" text-anchor=\"middle\" x=\"408.5\" y=\"-14.8\">dense_24: Dense</text>\n</g>\n<!-- 140325405881624&#45;&gt;140325405881904 -->\n<g class=\"edge\" id=\"edge146\">\n<title>140325405881624-&gt;140325405881904</title>\n<path d=\"M408.5,-73.4551C408.5,-65.3828 408.5,-55.6764 408.5,-46.6817\" fill=\"none\" stroke=\"#000000\"/>\n<polygon fill=\"#000000\" points=\"412.0001,-46.5903 408.5,-36.5904 405.0001,-46.5904 412.0001,-46.5903\" stroke=\"#000000\"/>\n</g>\n</g>\n</svg>"
          },
          "metadata": {
            "tags": []
          },
          "execution_count": 98
        }
      ]
    },
    {
      "cell_type": "code",
      "metadata": {
        "id": "VArviALej6EX",
        "colab_type": "code",
        "colab": {
          "base_uri": "https://localhost:8080/",
          "height": 1000
        },
        "outputId": "26667ca8-b86c-4f5c-bc84-ccceae98780d"
      },
      "source": [
        "model.summary()"
      ],
      "execution_count": 99,
      "outputs": [
        {
          "output_type": "stream",
          "text": [
            "Model: \"model_12\"\n",
            "__________________________________________________________________________________________________\n",
            "Layer (type)                    Output Shape         Param #     Connected to                     \n",
            "==================================================================================================\n",
            "input_3 (InputLayer)            (None, 197, 197, 3)  0                                            \n",
            "__________________________________________________________________________________________________\n",
            "block1_conv1 (Conv2D)           (None, 98, 98, 32)   864         input_3[0][0]                    \n",
            "__________________________________________________________________________________________________\n",
            "block1_conv1_bn (BatchNormaliza (None, 98, 98, 32)   128         block1_conv1[0][0]               \n",
            "__________________________________________________________________________________________________\n",
            "block1_conv1_act (Activation)   (None, 98, 98, 32)   0           block1_conv1_bn[0][0]            \n",
            "__________________________________________________________________________________________________\n",
            "block1_conv2 (Conv2D)           (None, 96, 96, 64)   18432       block1_conv1_act[0][0]           \n",
            "__________________________________________________________________________________________________\n",
            "block1_conv2_bn (BatchNormaliza (None, 96, 96, 64)   256         block1_conv2[0][0]               \n",
            "__________________________________________________________________________________________________\n",
            "block1_conv2_act (Activation)   (None, 96, 96, 64)   0           block1_conv2_bn[0][0]            \n",
            "__________________________________________________________________________________________________\n",
            "block2_sepconv1 (SeparableConv2 (None, 96, 96, 128)  8768        block1_conv2_act[0][0]           \n",
            "__________________________________________________________________________________________________\n",
            "block2_sepconv1_bn (BatchNormal (None, 96, 96, 128)  512         block2_sepconv1[0][0]            \n",
            "__________________________________________________________________________________________________\n",
            "block2_sepconv2_act (Activation (None, 96, 96, 128)  0           block2_sepconv1_bn[0][0]         \n",
            "__________________________________________________________________________________________________\n",
            "block2_sepconv2 (SeparableConv2 (None, 96, 96, 128)  17536       block2_sepconv2_act[0][0]        \n",
            "__________________________________________________________________________________________________\n",
            "block2_sepconv2_bn (BatchNormal (None, 96, 96, 128)  512         block2_sepconv2[0][0]            \n",
            "__________________________________________________________________________________________________\n",
            "conv2d_9 (Conv2D)               (None, 48, 48, 128)  8192        block1_conv2_act[0][0]           \n",
            "__________________________________________________________________________________________________\n",
            "block2_pool (MaxPooling2D)      (None, 48, 48, 128)  0           block2_sepconv2_bn[0][0]         \n",
            "__________________________________________________________________________________________________\n",
            "batch_normalization_9 (BatchNor (None, 48, 48, 128)  512         conv2d_9[0][0]                   \n",
            "__________________________________________________________________________________________________\n",
            "add_25 (Add)                    (None, 48, 48, 128)  0           block2_pool[0][0]                \n",
            "                                                                 batch_normalization_9[0][0]      \n",
            "__________________________________________________________________________________________________\n",
            "block3_sepconv1_act (Activation (None, 48, 48, 128)  0           add_25[0][0]                     \n",
            "__________________________________________________________________________________________________\n",
            "block3_sepconv1 (SeparableConv2 (None, 48, 48, 256)  33920       block3_sepconv1_act[0][0]        \n",
            "__________________________________________________________________________________________________\n",
            "block3_sepconv1_bn (BatchNormal (None, 48, 48, 256)  1024        block3_sepconv1[0][0]            \n",
            "__________________________________________________________________________________________________\n",
            "block3_sepconv2_act (Activation (None, 48, 48, 256)  0           block3_sepconv1_bn[0][0]         \n",
            "__________________________________________________________________________________________________\n",
            "block3_sepconv2 (SeparableConv2 (None, 48, 48, 256)  67840       block3_sepconv2_act[0][0]        \n",
            "__________________________________________________________________________________________________\n",
            "block3_sepconv2_bn (BatchNormal (None, 48, 48, 256)  1024        block3_sepconv2[0][0]            \n",
            "__________________________________________________________________________________________________\n",
            "conv2d_10 (Conv2D)              (None, 24, 24, 256)  32768       add_25[0][0]                     \n",
            "__________________________________________________________________________________________________\n",
            "block3_pool (MaxPooling2D)      (None, 24, 24, 256)  0           block3_sepconv2_bn[0][0]         \n",
            "__________________________________________________________________________________________________\n",
            "batch_normalization_10 (BatchNo (None, 24, 24, 256)  1024        conv2d_10[0][0]                  \n",
            "__________________________________________________________________________________________________\n",
            "add_26 (Add)                    (None, 24, 24, 256)  0           block3_pool[0][0]                \n",
            "                                                                 batch_normalization_10[0][0]     \n",
            "__________________________________________________________________________________________________\n",
            "block4_sepconv1_act (Activation (None, 24, 24, 256)  0           add_26[0][0]                     \n",
            "__________________________________________________________________________________________________\n",
            "block4_sepconv1 (SeparableConv2 (None, 24, 24, 728)  188672      block4_sepconv1_act[0][0]        \n",
            "__________________________________________________________________________________________________\n",
            "block4_sepconv1_bn (BatchNormal (None, 24, 24, 728)  2912        block4_sepconv1[0][0]            \n",
            "__________________________________________________________________________________________________\n",
            "block4_sepconv2_act (Activation (None, 24, 24, 728)  0           block4_sepconv1_bn[0][0]         \n",
            "__________________________________________________________________________________________________\n",
            "block4_sepconv2 (SeparableConv2 (None, 24, 24, 728)  536536      block4_sepconv2_act[0][0]        \n",
            "__________________________________________________________________________________________________\n",
            "block4_sepconv2_bn (BatchNormal (None, 24, 24, 728)  2912        block4_sepconv2[0][0]            \n",
            "__________________________________________________________________________________________________\n",
            "conv2d_11 (Conv2D)              (None, 12, 12, 728)  186368      add_26[0][0]                     \n",
            "__________________________________________________________________________________________________\n",
            "block4_pool (MaxPooling2D)      (None, 12, 12, 728)  0           block4_sepconv2_bn[0][0]         \n",
            "__________________________________________________________________________________________________\n",
            "batch_normalization_11 (BatchNo (None, 12, 12, 728)  2912        conv2d_11[0][0]                  \n",
            "__________________________________________________________________________________________________\n",
            "add_27 (Add)                    (None, 12, 12, 728)  0           block4_pool[0][0]                \n",
            "                                                                 batch_normalization_11[0][0]     \n",
            "__________________________________________________________________________________________________\n",
            "block5_sepconv1_act (Activation (None, 12, 12, 728)  0           add_27[0][0]                     \n",
            "__________________________________________________________________________________________________\n",
            "block5_sepconv1 (SeparableConv2 (None, 12, 12, 728)  536536      block5_sepconv1_act[0][0]        \n",
            "__________________________________________________________________________________________________\n",
            "block5_sepconv1_bn (BatchNormal (None, 12, 12, 728)  2912        block5_sepconv1[0][0]            \n",
            "__________________________________________________________________________________________________\n",
            "block5_sepconv2_act (Activation (None, 12, 12, 728)  0           block5_sepconv1_bn[0][0]         \n",
            "__________________________________________________________________________________________________\n",
            "block5_sepconv2 (SeparableConv2 (None, 12, 12, 728)  536536      block5_sepconv2_act[0][0]        \n",
            "__________________________________________________________________________________________________\n",
            "block5_sepconv2_bn (BatchNormal (None, 12, 12, 728)  2912        block5_sepconv2[0][0]            \n",
            "__________________________________________________________________________________________________\n",
            "block5_sepconv3_act (Activation (None, 12, 12, 728)  0           block5_sepconv2_bn[0][0]         \n",
            "__________________________________________________________________________________________________\n",
            "block5_sepconv3 (SeparableConv2 (None, 12, 12, 728)  536536      block5_sepconv3_act[0][0]        \n",
            "__________________________________________________________________________________________________\n",
            "block5_sepconv3_bn (BatchNormal (None, 12, 12, 728)  2912        block5_sepconv3[0][0]            \n",
            "__________________________________________________________________________________________________\n",
            "add_28 (Add)                    (None, 12, 12, 728)  0           block5_sepconv3_bn[0][0]         \n",
            "                                                                 add_27[0][0]                     \n",
            "__________________________________________________________________________________________________\n",
            "block6_sepconv1_act (Activation (None, 12, 12, 728)  0           add_28[0][0]                     \n",
            "__________________________________________________________________________________________________\n",
            "block6_sepconv1 (SeparableConv2 (None, 12, 12, 728)  536536      block6_sepconv1_act[0][0]        \n",
            "__________________________________________________________________________________________________\n",
            "block6_sepconv1_bn (BatchNormal (None, 12, 12, 728)  2912        block6_sepconv1[0][0]            \n",
            "__________________________________________________________________________________________________\n",
            "block6_sepconv2_act (Activation (None, 12, 12, 728)  0           block6_sepconv1_bn[0][0]         \n",
            "__________________________________________________________________________________________________\n",
            "block6_sepconv2 (SeparableConv2 (None, 12, 12, 728)  536536      block6_sepconv2_act[0][0]        \n",
            "__________________________________________________________________________________________________\n",
            "block6_sepconv2_bn (BatchNormal (None, 12, 12, 728)  2912        block6_sepconv2[0][0]            \n",
            "__________________________________________________________________________________________________\n",
            "block6_sepconv3_act (Activation (None, 12, 12, 728)  0           block6_sepconv2_bn[0][0]         \n",
            "__________________________________________________________________________________________________\n",
            "block6_sepconv3 (SeparableConv2 (None, 12, 12, 728)  536536      block6_sepconv3_act[0][0]        \n",
            "__________________________________________________________________________________________________\n",
            "block6_sepconv3_bn (BatchNormal (None, 12, 12, 728)  2912        block6_sepconv3[0][0]            \n",
            "__________________________________________________________________________________________________\n",
            "add_29 (Add)                    (None, 12, 12, 728)  0           block6_sepconv3_bn[0][0]         \n",
            "                                                                 add_28[0][0]                     \n",
            "__________________________________________________________________________________________________\n",
            "block7_sepconv1_act (Activation (None, 12, 12, 728)  0           add_29[0][0]                     \n",
            "__________________________________________________________________________________________________\n",
            "block7_sepconv1 (SeparableConv2 (None, 12, 12, 728)  536536      block7_sepconv1_act[0][0]        \n",
            "__________________________________________________________________________________________________\n",
            "block7_sepconv1_bn (BatchNormal (None, 12, 12, 728)  2912        block7_sepconv1[0][0]            \n",
            "__________________________________________________________________________________________________\n",
            "block7_sepconv2_act (Activation (None, 12, 12, 728)  0           block7_sepconv1_bn[0][0]         \n",
            "__________________________________________________________________________________________________\n",
            "block7_sepconv2 (SeparableConv2 (None, 12, 12, 728)  536536      block7_sepconv2_act[0][0]        \n",
            "__________________________________________________________________________________________________\n",
            "block7_sepconv2_bn (BatchNormal (None, 12, 12, 728)  2912        block7_sepconv2[0][0]            \n",
            "__________________________________________________________________________________________________\n",
            "block7_sepconv3_act (Activation (None, 12, 12, 728)  0           block7_sepconv2_bn[0][0]         \n",
            "__________________________________________________________________________________________________\n",
            "block7_sepconv3 (SeparableConv2 (None, 12, 12, 728)  536536      block7_sepconv3_act[0][0]        \n",
            "__________________________________________________________________________________________________\n",
            "block7_sepconv3_bn (BatchNormal (None, 12, 12, 728)  2912        block7_sepconv3[0][0]            \n",
            "__________________________________________________________________________________________________\n",
            "add_30 (Add)                    (None, 12, 12, 728)  0           block7_sepconv3_bn[0][0]         \n",
            "                                                                 add_29[0][0]                     \n",
            "__________________________________________________________________________________________________\n",
            "block8_sepconv1_act (Activation (None, 12, 12, 728)  0           add_30[0][0]                     \n",
            "__________________________________________________________________________________________________\n",
            "block8_sepconv1 (SeparableConv2 (None, 12, 12, 728)  536536      block8_sepconv1_act[0][0]        \n",
            "__________________________________________________________________________________________________\n",
            "block8_sepconv1_bn (BatchNormal (None, 12, 12, 728)  2912        block8_sepconv1[0][0]            \n",
            "__________________________________________________________________________________________________\n",
            "block8_sepconv2_act (Activation (None, 12, 12, 728)  0           block8_sepconv1_bn[0][0]         \n",
            "__________________________________________________________________________________________________\n",
            "block8_sepconv2 (SeparableConv2 (None, 12, 12, 728)  536536      block8_sepconv2_act[0][0]        \n",
            "__________________________________________________________________________________________________\n",
            "block8_sepconv2_bn (BatchNormal (None, 12, 12, 728)  2912        block8_sepconv2[0][0]            \n",
            "__________________________________________________________________________________________________\n",
            "block8_sepconv3_act (Activation (None, 12, 12, 728)  0           block8_sepconv2_bn[0][0]         \n",
            "__________________________________________________________________________________________________\n",
            "block8_sepconv3 (SeparableConv2 (None, 12, 12, 728)  536536      block8_sepconv3_act[0][0]        \n",
            "__________________________________________________________________________________________________\n",
            "block8_sepconv3_bn (BatchNormal (None, 12, 12, 728)  2912        block8_sepconv3[0][0]            \n",
            "__________________________________________________________________________________________________\n",
            "add_31 (Add)                    (None, 12, 12, 728)  0           block8_sepconv3_bn[0][0]         \n",
            "                                                                 add_30[0][0]                     \n",
            "__________________________________________________________________________________________________\n",
            "block9_sepconv1_act (Activation (None, 12, 12, 728)  0           add_31[0][0]                     \n",
            "__________________________________________________________________________________________________\n",
            "block9_sepconv1 (SeparableConv2 (None, 12, 12, 728)  536536      block9_sepconv1_act[0][0]        \n",
            "__________________________________________________________________________________________________\n",
            "block9_sepconv1_bn (BatchNormal (None, 12, 12, 728)  2912        block9_sepconv1[0][0]            \n",
            "__________________________________________________________________________________________________\n",
            "block9_sepconv2_act (Activation (None, 12, 12, 728)  0           block9_sepconv1_bn[0][0]         \n",
            "__________________________________________________________________________________________________\n",
            "block9_sepconv2 (SeparableConv2 (None, 12, 12, 728)  536536      block9_sepconv2_act[0][0]        \n",
            "__________________________________________________________________________________________________\n",
            "block9_sepconv2_bn (BatchNormal (None, 12, 12, 728)  2912        block9_sepconv2[0][0]            \n",
            "__________________________________________________________________________________________________\n",
            "block9_sepconv3_act (Activation (None, 12, 12, 728)  0           block9_sepconv2_bn[0][0]         \n",
            "__________________________________________________________________________________________________\n",
            "block9_sepconv3 (SeparableConv2 (None, 12, 12, 728)  536536      block9_sepconv3_act[0][0]        \n",
            "__________________________________________________________________________________________________\n",
            "block9_sepconv3_bn (BatchNormal (None, 12, 12, 728)  2912        block9_sepconv3[0][0]            \n",
            "__________________________________________________________________________________________________\n",
            "add_32 (Add)                    (None, 12, 12, 728)  0           block9_sepconv3_bn[0][0]         \n",
            "                                                                 add_31[0][0]                     \n",
            "__________________________________________________________________________________________________\n",
            "block10_sepconv1_act (Activatio (None, 12, 12, 728)  0           add_32[0][0]                     \n",
            "__________________________________________________________________________________________________\n",
            "block10_sepconv1 (SeparableConv (None, 12, 12, 728)  536536      block10_sepconv1_act[0][0]       \n",
            "__________________________________________________________________________________________________\n",
            "block10_sepconv1_bn (BatchNorma (None, 12, 12, 728)  2912        block10_sepconv1[0][0]           \n",
            "__________________________________________________________________________________________________\n",
            "block10_sepconv2_act (Activatio (None, 12, 12, 728)  0           block10_sepconv1_bn[0][0]        \n",
            "__________________________________________________________________________________________________\n",
            "block10_sepconv2 (SeparableConv (None, 12, 12, 728)  536536      block10_sepconv2_act[0][0]       \n",
            "__________________________________________________________________________________________________\n",
            "block10_sepconv2_bn (BatchNorma (None, 12, 12, 728)  2912        block10_sepconv2[0][0]           \n",
            "__________________________________________________________________________________________________\n",
            "block10_sepconv3_act (Activatio (None, 12, 12, 728)  0           block10_sepconv2_bn[0][0]        \n",
            "__________________________________________________________________________________________________\n",
            "block10_sepconv3 (SeparableConv (None, 12, 12, 728)  536536      block10_sepconv3_act[0][0]       \n",
            "__________________________________________________________________________________________________\n",
            "block10_sepconv3_bn (BatchNorma (None, 12, 12, 728)  2912        block10_sepconv3[0][0]           \n",
            "__________________________________________________________________________________________________\n",
            "add_33 (Add)                    (None, 12, 12, 728)  0           block10_sepconv3_bn[0][0]        \n",
            "                                                                 add_32[0][0]                     \n",
            "__________________________________________________________________________________________________\n",
            "block11_sepconv1_act (Activatio (None, 12, 12, 728)  0           add_33[0][0]                     \n",
            "__________________________________________________________________________________________________\n",
            "block11_sepconv1 (SeparableConv (None, 12, 12, 728)  536536      block11_sepconv1_act[0][0]       \n",
            "__________________________________________________________________________________________________\n",
            "block11_sepconv1_bn (BatchNorma (None, 12, 12, 728)  2912        block11_sepconv1[0][0]           \n",
            "__________________________________________________________________________________________________\n",
            "block11_sepconv2_act (Activatio (None, 12, 12, 728)  0           block11_sepconv1_bn[0][0]        \n",
            "__________________________________________________________________________________________________\n",
            "block11_sepconv2 (SeparableConv (None, 12, 12, 728)  536536      block11_sepconv2_act[0][0]       \n",
            "__________________________________________________________________________________________________\n",
            "block11_sepconv2_bn (BatchNorma (None, 12, 12, 728)  2912        block11_sepconv2[0][0]           \n",
            "__________________________________________________________________________________________________\n",
            "block11_sepconv3_act (Activatio (None, 12, 12, 728)  0           block11_sepconv2_bn[0][0]        \n",
            "__________________________________________________________________________________________________\n",
            "block11_sepconv3 (SeparableConv (None, 12, 12, 728)  536536      block11_sepconv3_act[0][0]       \n",
            "__________________________________________________________________________________________________\n",
            "block11_sepconv3_bn (BatchNorma (None, 12, 12, 728)  2912        block11_sepconv3[0][0]           \n",
            "__________________________________________________________________________________________________\n",
            "add_34 (Add)                    (None, 12, 12, 728)  0           block11_sepconv3_bn[0][0]        \n",
            "                                                                 add_33[0][0]                     \n",
            "__________________________________________________________________________________________________\n",
            "block12_sepconv1_act (Activatio (None, 12, 12, 728)  0           add_34[0][0]                     \n",
            "__________________________________________________________________________________________________\n",
            "block12_sepconv1 (SeparableConv (None, 12, 12, 728)  536536      block12_sepconv1_act[0][0]       \n",
            "__________________________________________________________________________________________________\n",
            "block12_sepconv1_bn (BatchNorma (None, 12, 12, 728)  2912        block12_sepconv1[0][0]           \n",
            "__________________________________________________________________________________________________\n",
            "block12_sepconv2_act (Activatio (None, 12, 12, 728)  0           block12_sepconv1_bn[0][0]        \n",
            "__________________________________________________________________________________________________\n",
            "block12_sepconv2 (SeparableConv (None, 12, 12, 728)  536536      block12_sepconv2_act[0][0]       \n",
            "__________________________________________________________________________________________________\n",
            "block12_sepconv2_bn (BatchNorma (None, 12, 12, 728)  2912        block12_sepconv2[0][0]           \n",
            "__________________________________________________________________________________________________\n",
            "block12_sepconv3_act (Activatio (None, 12, 12, 728)  0           block12_sepconv2_bn[0][0]        \n",
            "__________________________________________________________________________________________________\n",
            "block12_sepconv3 (SeparableConv (None, 12, 12, 728)  536536      block12_sepconv3_act[0][0]       \n",
            "__________________________________________________________________________________________________\n",
            "block12_sepconv3_bn (BatchNorma (None, 12, 12, 728)  2912        block12_sepconv3[0][0]           \n",
            "__________________________________________________________________________________________________\n",
            "add_35 (Add)                    (None, 12, 12, 728)  0           block12_sepconv3_bn[0][0]        \n",
            "                                                                 add_34[0][0]                     \n",
            "__________________________________________________________________________________________________\n",
            "block13_sepconv1_act (Activatio (None, 12, 12, 728)  0           add_35[0][0]                     \n",
            "__________________________________________________________________________________________________\n",
            "block13_sepconv1 (SeparableConv (None, 12, 12, 728)  536536      block13_sepconv1_act[0][0]       \n",
            "__________________________________________________________________________________________________\n",
            "block13_sepconv1_bn (BatchNorma (None, 12, 12, 728)  2912        block13_sepconv1[0][0]           \n",
            "__________________________________________________________________________________________________\n",
            "block13_sepconv2_act (Activatio (None, 12, 12, 728)  0           block13_sepconv1_bn[0][0]        \n",
            "__________________________________________________________________________________________________\n",
            "block13_sepconv2 (SeparableConv (None, 12, 12, 1024) 752024      block13_sepconv2_act[0][0]       \n",
            "__________________________________________________________________________________________________\n",
            "block13_sepconv2_bn (BatchNorma (None, 12, 12, 1024) 4096        block13_sepconv2[0][0]           \n",
            "__________________________________________________________________________________________________\n",
            "conv2d_12 (Conv2D)              (None, 6, 6, 1024)   745472      add_35[0][0]                     \n",
            "__________________________________________________________________________________________________\n",
            "block13_pool (MaxPooling2D)     (None, 6, 6, 1024)   0           block13_sepconv2_bn[0][0]        \n",
            "__________________________________________________________________________________________________\n",
            "batch_normalization_12 (BatchNo (None, 6, 6, 1024)   4096        conv2d_12[0][0]                  \n",
            "__________________________________________________________________________________________________\n",
            "add_36 (Add)                    (None, 6, 6, 1024)   0           block13_pool[0][0]               \n",
            "                                                                 batch_normalization_12[0][0]     \n",
            "__________________________________________________________________________________________________\n",
            "block14_sepconv1 (SeparableConv (None, 6, 6, 1536)   1582080     add_36[0][0]                     \n",
            "__________________________________________________________________________________________________\n",
            "block14_sepconv1_bn (BatchNorma (None, 6, 6, 1536)   6144        block14_sepconv1[0][0]           \n",
            "__________________________________________________________________________________________________\n",
            "block14_sepconv1_act (Activatio (None, 6, 6, 1536)   0           block14_sepconv1_bn[0][0]        \n",
            "__________________________________________________________________________________________________\n",
            "block14_sepconv2 (SeparableConv (None, 6, 6, 2048)   3159552     block14_sepconv1_act[0][0]       \n",
            "__________________________________________________________________________________________________\n",
            "block14_sepconv2_bn (BatchNorma (None, 6, 6, 2048)   8192        block14_sepconv2[0][0]           \n",
            "__________________________________________________________________________________________________\n",
            "block14_sepconv2_act (Activatio (None, 6, 6, 2048)   0           block14_sepconv2_bn[0][0]        \n",
            "__________________________________________________________________________________________________\n",
            "global_average_pooling2d_12 (Gl (None, 2048)         0           block14_sepconv2_act[0][0]       \n",
            "__________________________________________________________________________________________________\n",
            "dense_23 (Dense)                (None, 512)          1049088     global_average_pooling2d_12[0][0]\n",
            "__________________________________________________________________________________________________\n",
            "dense_24 (Dense)                (None, 10)           5130        dense_23[0][0]                   \n",
            "==================================================================================================\n",
            "Total params: 21,915,698\n",
            "Trainable params: 7,842,602\n",
            "Non-trainable params: 14,073,096\n",
            "__________________________________________________________________________________________________\n"
          ],
          "name": "stdout"
        }
      ]
    },
    {
      "cell_type": "markdown",
      "metadata": {
        "id": "1DvdutfXNBUq",
        "colab_type": "text"
      },
      "source": [
        "## Learning Curves"
      ]
    },
    {
      "cell_type": "code",
      "metadata": {
        "id": "7JIUlLHOivAO",
        "colab_type": "code",
        "colab": {
          "base_uri": "https://localhost:8080/",
          "height": 350
        },
        "outputId": "bc339578-9060-4ccf-e6b6-1923f372f331"
      },
      "source": [
        "fig, ax = plt.subplots(1, 2, figsize = (14, 5))\n",
        "\n",
        "ax[0].xaxis.set_major_locator(MaxNLocator(integer=True))\n",
        "ax[1].xaxis.set_major_locator(MaxNLocator(integer=True))\n",
        "\n",
        "loss = history1.history[\"loss\"] + history2.history[\"loss\"]\n",
        "val_loss = history1.history[\"val_loss\"] + history2.history[\"val_loss\"]\n",
        "accuracy = history1.history[\"accuracy\"] + history2.history[\"accuracy\"]\n",
        "val_accuracy = history1.history[\"val_accuracy\"] + history2.history[\"val_accuracy\"]\n",
        "\n",
        "ax[0].plot(loss)\n",
        "ax[0].plot(val_loss)\n",
        "ax[0].set_title(\"model loss\")\n",
        "ax[0].set_ylabel(\"loss\")\n",
        "ax[0].set_xlabel(\"epoch\")\n",
        "ax[0].legend([\"train\", \"test\"], loc=\"upper left\")\n",
        "\n",
        "ax[1].plot(accuracy)\n",
        "ax[1].plot(val_accuracy)\n",
        "ax[1].set_title(\"model accuracy\")\n",
        "ax[1].set_ylabel(\"accuracy\")\n",
        "ax[1].set_xlabel(\"epoch\")\n",
        "ax[1].legend([\"train\", \"test\"], loc=\"upper left\")\n",
        "\n",
        "plt.show()"
      ],
      "execution_count": 100,
      "outputs": [
        {
          "output_type": "display_data",
          "data": {
            "image/png": "[encoded data removed]",
            "text/plain": [
              "<Figure size 1008x360 with 2 Axes>"
            ]
          },
          "metadata": {
            "tags": [],
            "needs_background": "light"
          }
        }
      ]
    },
    {
      "cell_type": "markdown",
      "metadata": {
        "id": "6Mwz5uiJxV1M",
        "colab_type": "text"
      },
      "source": [
        "The momentum is big, that is why there is some overshooting in the model loss graph for the SGD part, also SGD tind to do these spikes because of the mini batches usage. For the first part, it is because we are doing a transfer learning.\n",
        "\n",
        "If we had like 3000 epochs, our graph will smooth over and spikes won't be that noticable.\n",
        "\n",
        "From the graph, we can see that more epochs will help in getting more accuracy, our model doesn't overfit, and there is no underfit."
      ]
    },
    {
      "cell_type": "markdown",
      "metadata": {
        "id": "IAbFhZzOCe7s",
        "colab_type": "text"
      },
      "source": [
        "# References\n",
        "* https://colab.research.google.com/github/nipunbatra/blog/blob/master/_notebooks/2017-12-29-neural-collaborative-filtering.ipynb#scrollTo=t23DgPbMQFng\n",
        "* https://www.kaggle.com/slothkong/10-monkey-species?select=monkey_labels.txt\n",
        "* https://keras.io/api/applications/\n",
        "* https://www.kaggle.com/voandy/transfer-learning-fine-tuning-xception-98-7-acc\n",
        "* https://github.com/zaid478/Transfer-Learning-from-Xception-Model-in-Keras-/blob/master/transfer_learn.py\n",
        "* https://medium.com/@vigneshgig/xception-neural-network-transfer-learning-and-data-processing-using-ai-c3e7a4ea7bf2\n",
        "* https://www.kaggle.com/abnera/transfer-learning-keras-xception-cnn\n",
        "* https://arxiv.org/abs/1610.02357\n",
        "* https://towardsdatascience.com/review-xception-with-depthwise-separable-convolution-better-than-inception-v3-image-dc967dd42568\n",
        "* https://towardsdatascience.com/a-basic-introduction-to-separable-convolutions-b99ec3102728\n",
        "* https://towardsdatascience.com/batch-normalization-in-neural-networks-1ac91516821c\n",
        "* https://shaoanlu.wordpress.com/2017/05/29/sgd-all-which-one-is-the-best-optimizer-dogs-vs-cats-toy-experiment/\n",
        "* https://keras.io/guides/transfer_learning/\n",
        "* https://stats.stackexchange.com/questions/303857/explanation-of-spikes-in-training-loss-vs-iterations-with-adam-optimizer\n",
        "\n"
      ]
    }
  ]
}